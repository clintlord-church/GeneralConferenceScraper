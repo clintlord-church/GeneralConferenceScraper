{
  "nbformat": 4,
  "nbformat_minor": 0,
  "metadata": {
    "colab": {
      "provenance": [],
      "authorship_tag": "ABX9TyPMxd543WhLJRH/aDzE5ece",
      "include_colab_link": true
    },
    "kernelspec": {
      "name": "python3",
      "display_name": "Python 3"
    },
    "language_info": {
      "name": "python"
    }
  },
  "cells": [
    {
      "cell_type": "markdown",
      "metadata": {
        "id": "view-in-github",
        "colab_type": "text"
      },
      "source": [
        "<a href=\"https://colab.research.google.com/github/lukejoneslj/GeneralConferenceScraper/blob/main/ConferenceScraper.ipynb\" target=\"_parent\"><img src=\"https://colab.research.google.com/assets/colab-badge.svg\" alt=\"Open In Colab\"/></a>"
      ]
    },
    {
      "cell_type": "markdown",
      "source": [
        "# You don't need to read all of this if you don't want to. Just \"run all\" if you want\" and wait for it to download."
      ],
      "metadata": {
        "id": "PoZRQbASYwYR"
      }
    },
    {
      "cell_type": "markdown",
      "source": [
        "### Install Required Libraries\n",
        "\n",
        "This cell installs the necessary Python libraries for web scraping, working with HTML content, and data manipulation.\n",
        "\n",
        "- `requests`: Used to fetch HTML content from web pages.\n",
        "- `beautifulsoup4`: Parses and extracts content from the HTML.\n",
        "- `PyPDF2`: If you need to work with PDF files.\n"
      ],
      "metadata": {
        "id": "225EVrFfYaRd"
      }
    },
    {
      "cell_type": "code",
      "execution_count": null,
      "metadata": {
        "id": "EHwZi0Axx2ZD"
      },
      "outputs": [],
      "source": [
        "!pip install requests beautifulsoup4 PyPDF2\n",
        "\n"
      ]
    },
    {
      "cell_type": "markdown",
      "source": [
        "### Web Scraping Conference Talks\n",
        "\n",
        "This block contains helper functions for scraping LDS General Conference talks from the Church's website.\n",
        "\n",
        "- `get_soup()`: Sends a request and parses the HTML from a given URL.\n",
        "- `is_decade_page()`: Identifies if the URL is a decade selection page.\n",
        "- `scrape_conference_pages()`: Fetches URLs for each conference (April/October) from the main page.\n",
        "- `scrape_talk_urls()`: Retrieves URLs for individual talks from a specific conference.\n",
        "- `scrape_talk_data()`: Scrapes the detailed data for each talk, such as title, speaker, calling, year, and season.\n"
      ],
      "metadata": {
        "id": "3Z3FcXjAYgBU"
      }
    },
    {
      "cell_type": "code",
      "source": [
        "import requests\n",
        "from bs4 import BeautifulSoup\n",
        "import pandas as pd\n",
        "import re\n",
        "import unicodedata\n",
        "import time\n",
        "from tqdm import tqdm\n",
        "from concurrent.futures import ThreadPoolExecutor\n",
        "\n",
        "def get_soup(url):\n",
        "    \"\"\"Create a tree structure (BeautifulSoup) out of a GET request's HTML.\"\"\"\n",
        "    try:\n",
        "        r = requests.get(url, allow_redirects=True)\n",
        "        r.raise_for_status()\n",
        "        print(f\"Successfully fetched {r.url}\")\n",
        "        return BeautifulSoup(r.content, \"html5lib\")\n",
        "    except requests.RequestException as e:\n",
        "        print(f\"Error fetching {url}: {e}\")\n",
        "        return None\n",
        "\n",
        "def is_decade_page(url):\n",
        "    \"\"\"Check if a page is a decade selection page.\"\"\"\n",
        "    return bool(re.search(r\"/study/general-conference/\\d{4}\\d{4}\", url))\n",
        "\n",
        "def scrape_conference_pages(main_page_url):\n",
        "    \"\"\"Retrieve a list of URLs for each conference (year/month) from the main page.\"\"\"\n",
        "    soup = get_soup(main_page_url)\n",
        "    if soup is None:\n",
        "        print(f\"Failed to fetch content from {main_page_url}\")\n",
        "        return []\n",
        "\n",
        "    all_conference_links = []\n",
        "\n",
        "    # Find all the links to individual conferences or decades\n",
        "    links = [\n",
        "        \"https://www.churchofjesuschrist.org\" + a[\"href\"]\n",
        "        for a in soup.find_all(\"a\", href=True)\n",
        "        if re.search(r\"/study/general-conference/(\\d{4}/(04|10)|\\d{4}\\d{4})\", a[\"href\"])\n",
        "    ]\n",
        "\n",
        "    for link in links:\n",
        "        if is_decade_page(link):\n",
        "            # Handle decade page\n",
        "            decade_soup = get_soup(link)\n",
        "            if decade_soup:\n",
        "                year_links = [\n",
        "                    \"https://www.churchofjesuschrist.org\" + a[\"href\"]\n",
        "                    for a in decade_soup.find_all(\"a\", href=True)\n",
        "                    if re.search(r\"/study/general-conference/\\d{4}/(04|10)\", a[\"href\"])\n",
        "                ]\n",
        "                all_conference_links.extend(year_links)\n",
        "        else:\n",
        "            all_conference_links.append(link)\n",
        "\n",
        "    print(f\"Total conference links found: {len(all_conference_links)}\")\n",
        "    print(\"Sample conference links:\", all_conference_links[:5])\n",
        "    return all_conference_links\n",
        "\n",
        "def scrape_talk_urls(conference_url):\n",
        "    \"\"\"Retrieve a list of URLs for each talk in a specific conference.\"\"\"\n",
        "    soup = get_soup(conference_url)\n",
        "    if soup is None:\n",
        "        return []\n",
        "\n",
        "    talk_links = [\n",
        "        \"https://www.churchofjesuschrist.org\" + a[\"href\"]\n",
        "        for a in soup.find_all(\"a\", href=True)\n",
        "        if re.search(r\"/study/general-conference/\\d{4}/(04|10)/.*\", a[\"href\"])\n",
        "    ]\n",
        "\n",
        "    # Remove duplicate links and session links\n",
        "    talk_links = list(set(talk_links))\n",
        "    talk_links = [link for link in talk_links if not link.endswith(\"session?lang=eng\")]\n",
        "\n",
        "    print(f\"Found {len(talk_links)} talk links in {conference_url}\")\n",
        "    if talk_links:\n",
        "        print(\"Sample talk links:\", talk_links[:3])\n",
        "    return talk_links\n",
        "\n",
        "def scrape_talk_data(url):\n",
        "    \"\"\"Scrapes a single talk for data such as: title, conference, calling, speaker, content.\"\"\"\n",
        "    try:\n",
        "        soup = get_soup(url)\n",
        "        if soup is None:\n",
        "            return {}\n",
        "\n",
        "        title_tag = soup.find(\"h1\", {\"id\": \"title1\"})\n",
        "        title = title_tag.text.strip() if title_tag else \"No Title Found\"\n",
        "\n",
        "        conference_tag = soup.find(\"p\", {\"class\": \"subtitle\"})\n",
        "        conference = conference_tag.text.strip() if conference_tag else \"No Conference Found\"\n",
        "\n",
        "        author_tag = soup.find(\"p\", {\"class\": \"author-name\"})\n",
        "        speaker = author_tag.text.strip() if author_tag else \"No Speaker Found\"\n",
        "\n",
        "        calling_tag = soup.find(\"p\", {\"class\": \"author-role\"})\n",
        "        calling = calling_tag.text.strip() if calling_tag else \"No Calling Found\"\n",
        "\n",
        "        content_array = soup.find(\"div\", {\"class\": \"body-block\"})\n",
        "        content = \"\\n\\n\".join(paragraph.text.strip() for paragraph in content_array.find_all(\"p\")) if content_array else \"No Content Found\"\n",
        "\n",
        "        footnotes = \"\\n\".join(\n",
        "            f\"{idx}. {note.text.strip()}\" for idx, note in enumerate(soup.find_all(\"li\", {\"class\": \"study-note\"}), start=1)\n",
        "        ) if soup.find_all(\"li\", {\"class\": \"study-note\"}) else \"No Footnotes Found\"\n",
        "\n",
        "        year = re.search(r'/(\\d{4})/', url).group(1)\n",
        "        season = \"April\" if \"/04/\" in url else \"October\"\n",
        "\n",
        "        return {\n",
        "            \"title\": title,\n",
        "            \"speaker\": speaker,\n",
        "            \"calling\": calling,\n",
        "            \"year\": year,\n",
        "            \"season\": season,\n",
        "            \"url\": url,\n",
        "            \"talk\": content,\n",
        "            \"footnotes\": footnotes,\n",
        "        }\n",
        "    except Exception as e:\n",
        "        print(f\"Failed to scrape {url}: {e}\")\n",
        "        return {}\n",
        "\n",
        "def scrape_talk_data_parallel(urls):\n",
        "    \"\"\"Scrapes all talks in parallel using ThreadPoolExecutor.\"\"\"\n",
        "    with ThreadPoolExecutor(max_workers=10) as executor:  # Adjust `max_workers` as needed\n",
        "        results = list(tqdm(executor.map(scrape_talk_data, urls), total=len(urls), desc=\"Scraping talks in parallel\"))\n",
        "    return [result for result in results if result]  # Filter out empty results\n",
        "\n",
        "def main_scrape_process():\n",
        "    main_url = \"https://www.churchofjesuschrist.org/study/general-conference?lang=eng\"\n",
        "    conference_urls = scrape_conference_pages(main_url)\n",
        "\n",
        "    all_talk_urls = []\n",
        "    for conference_url in tqdm(conference_urls, desc=\"Scraping conferences\"):\n",
        "        all_talk_urls.extend(scrape_talk_urls(conference_url))\n",
        "\n",
        "    print(f\"Total talks found: {len(all_talk_urls)}\")\n",
        "\n",
        "    # Scrape talks in parallel\n",
        "    conference_talks = scrape_talk_data_parallel(all_talk_urls)\n",
        "\n",
        "    # Create DataFrame from the scraped data\n",
        "    conference_df = pd.DataFrame(conference_talks)\n",
        "\n",
        "    # Normalize Unicode and clean data\n",
        "    for col in conference_df.columns:\n",
        "        conference_df[col] = conference_df[col].apply(lambda x: unicodedata.normalize(\"NFD\", x) if isinstance(x, str) else x)\n",
        "        conference_df[col] = conference_df[col].apply(lambda x: x.replace(\"\\t\", \"\") if isinstance(x, str) else x)\n",
        "\n",
        "    # Save to CSV and JSON\n",
        "    conference_df.to_csv(\"conference_talks.csv\", index=False)\n",
        "    print(\"Scraping complete. Data saved to 'conference_talks.csv'.\")\n",
        "\n",
        "    conference_df.to_json(\"conference_talks.json\", orient=\"records\", indent=4)\n",
        "    print(\"Data also saved to 'conference_talks.json'.\")\n",
        "\n",
        "# Run the scraper\n",
        "start = time.time()\n",
        "main_scrape_process()\n",
        "end = time.time()\n",
        "print(f\"Total time taken: {end - start} seconds\")\n"
      ],
      "metadata": {
        "colab": {
          "base_uri": "https://localhost:8080/"
        },
        "id": "WnesEHkCzBub",
        "outputId": "81e143ed-11e8-4c83-b437-de56b0a02287",
        "collapsed": true
      },
      "execution_count": null,
      "outputs": [
        {
          "output_type": "stream",
          "name": "stdout",
          "text": [
            "Successfully fetched https://www.churchofjesuschrist.org/study/general-conference?lang=eng\n",
            "Successfully fetched https://www.churchofjesuschrist.org/study/general-conference/20102019?lang=eng\n",
            "Successfully fetched https://www.churchofjesuschrist.org/study/general-conference/20002009?lang=eng\n",
            "Successfully fetched https://www.churchofjesuschrist.org/study/general-conference/19901999?lang=eng\n",
            "Successfully fetched https://www.churchofjesuschrist.org/study/general-conference/19801989?lang=eng\n",
            "Successfully fetched https://www.churchofjesuschrist.org/study/general-conference/19711979?lang=eng\n",
            "Total conference links found: 107\n",
            "Sample conference links: ['https://www.churchofjesuschrist.org/study/general-conference/2024/04?lang=eng', 'https://www.churchofjesuschrist.org/study/general-conference/2023/10?lang=eng', 'https://www.churchofjesuschrist.org/study/general-conference/2023/04?lang=eng', 'https://www.churchofjesuschrist.org/study/general-conference/2022/10?lang=eng', 'https://www.churchofjesuschrist.org/study/general-conference/2022/04?lang=eng']\n"
          ]
        },
        {
          "output_type": "stream",
          "name": "stderr",
          "text": [
            "\rScraping conferences:   0%|          | 0/107 [00:00<?, ?it/s]"
          ]
        },
        {
          "output_type": "stream",
          "name": "stdout",
          "text": [
            "Successfully fetched https://www.churchofjesuschrist.org/study/general-conference/2024/04?lang=eng\n"
          ]
        },
        {
          "output_type": "stream",
          "name": "stderr",
          "text": [
            "\rScraping conferences:   1%|          | 1/107 [00:01<01:58,  1.12s/it]"
          ]
        },
        {
          "output_type": "stream",
          "name": "stdout",
          "text": [
            "Found 35 talk links in https://www.churchofjesuschrist.org/study/general-conference/2024/04?lang=eng\n",
            "Sample talk links: ['https://www.churchofjesuschrist.org/study/general-conference/2024/04/15dushku?lang=eng', 'https://www.churchofjesuschrist.org/study/general-conference/2024/04/32bangerter?lang=eng', 'https://www.churchofjesuschrist.org/study/general-conference/2024/04/26nelson?lang=eng']\n",
            "Successfully fetched https://www.churchofjesuschrist.org/study/general-conference/2023/10?lang=eng\n"
          ]
        },
        {
          "output_type": "stream",
          "name": "stderr",
          "text": [
            "\rScraping conferences:   2%|▏         | 2/107 [00:02<02:00,  1.15s/it]"
          ]
        },
        {
          "output_type": "stream",
          "name": "stdout",
          "text": [
            "Found 34 talk links in https://www.churchofjesuschrist.org/study/general-conference/2023/10?lang=eng\n",
            "Sample talk links: ['https://www.churchofjesuschrist.org/study/general-conference/2023/10/saturday-morning-session', 'https://www.churchofjesuschrist.org/study/general-conference/2023/10/27phillips?lang=eng', 'https://www.churchofjesuschrist.org/study/general-conference/2023/10/22andersen?lang=eng']\n",
            "Successfully fetched https://www.churchofjesuschrist.org/study/general-conference/2023/04?lang=eng\n"
          ]
        },
        {
          "output_type": "stream",
          "name": "stderr",
          "text": [
            "\rScraping conferences:   3%|▎         | 3/107 [00:03<02:11,  1.27s/it]"
          ]
        },
        {
          "output_type": "stream",
          "name": "stdout",
          "text": [
            "Found 36 talk links in https://www.churchofjesuschrist.org/study/general-conference/2023/04?lang=eng\n",
            "Sample talk links: ['https://www.churchofjesuschrist.org/study/general-conference/2023/04/24meurs?lang=eng', 'https://www.churchofjesuschrist.org/study/general-conference/2023/04/56corbitt?lang=eng', 'https://www.churchofjesuschrist.org/study/general-conference/2023/04/43soares?lang=eng']\n",
            "Successfully fetched https://www.churchofjesuschrist.org/study/general-conference/2022/10?lang=eng\n"
          ]
        },
        {
          "output_type": "stream",
          "name": "stderr",
          "text": [
            "\rScraping conferences:   4%|▎         | 4/107 [00:04<02:06,  1.23s/it]"
          ]
        },
        {
          "output_type": "stream",
          "name": "stdout",
          "text": [
            "Found 37 talk links in https://www.churchofjesuschrist.org/study/general-conference/2022/10?lang=eng\n",
            "Sample talk links: ['https://www.churchofjesuschrist.org/study/general-conference/2022/10/saturday-morning-session', 'https://www.churchofjesuschrist.org/study/general-conference/2022/10/31causse?lang=eng', 'https://www.churchofjesuschrist.org/study/general-conference/2022/10/32craig?lang=eng']\n",
            "Successfully fetched https://www.churchofjesuschrist.org/study/general-conference/2022/04?lang=eng\n"
          ]
        },
        {
          "output_type": "stream",
          "name": "stderr",
          "text": [
            "\rScraping conferences:   5%|▍         | 5/107 [00:05<01:49,  1.07s/it]"
          ]
        },
        {
          "output_type": "stream",
          "name": "stdout",
          "text": [
            "Found 39 talk links in https://www.churchofjesuschrist.org/study/general-conference/2022/04?lang=eng\n",
            "Sample talk links: ['https://www.churchofjesuschrist.org/study/general-conference/2022/04/15andersen?lang=eng', 'https://www.churchofjesuschrist.org/study/general-conference/2022/04/13aburto?lang=eng', 'https://www.churchofjesuschrist.org/study/general-conference/2022/04/29cook?lang=eng']\n",
            "Successfully fetched https://www.churchofjesuschrist.org/study/general-conference/2021/10?lang=eng\n"
          ]
        },
        {
          "output_type": "stream",
          "name": "stderr",
          "text": [
            "\rScraping conferences:   6%|▌         | 6/107 [00:06<01:32,  1.09it/s]"
          ]
        },
        {
          "output_type": "stream",
          "name": "stdout",
          "text": [
            "Found 41 talk links in https://www.churchofjesuschrist.org/study/general-conference/2021/10?lang=eng\n",
            "Sample talk links: ['https://www.churchofjesuschrist.org/study/general-conference/2021/10/31ballard?lang=eng', 'https://www.churchofjesuschrist.org/study/general-conference/2021/10/36kyungu?lang=eng', 'https://www.churchofjesuschrist.org/study/general-conference/2021/10/41uchtdorf?lang=eng']\n",
            "Successfully fetched https://www.churchofjesuschrist.org/study/general-conference/2021/04?lang=eng\n"
          ]
        },
        {
          "output_type": "stream",
          "name": "stderr",
          "text": [
            "\rScraping conferences:   7%|▋         | 7/107 [00:07<01:28,  1.13it/s]"
          ]
        },
        {
          "output_type": "stream",
          "name": "stdout",
          "text": [
            "Found 38 talk links in https://www.churchofjesuschrist.org/study/general-conference/2021/04?lang=eng\n",
            "Sample talk links: ['https://www.churchofjesuschrist.org/study/general-conference/2021/04/22larson?lang=eng', 'https://www.churchofjesuschrist.org/study/general-conference/2021/04/14newman?lang=eng', 'https://www.churchofjesuschrist.org/study/general-conference/2021/04/45teixeira?lang=eng']\n",
            "Successfully fetched https://www.churchofjesuschrist.org/study/general-conference/2020/10?lang=eng\n"
          ]
        },
        {
          "output_type": "stream",
          "name": "stderr",
          "text": [
            "\rScraping conferences:   7%|▋         | 8/107 [00:08<01:55,  1.17s/it]"
          ]
        },
        {
          "output_type": "stream",
          "name": "stdout",
          "text": [
            "Found 37 talk links in https://www.churchofjesuschrist.org/study/general-conference/2020/10?lang=eng\n",
            "Sample talk links: ['https://www.churchofjesuschrist.org/study/general-conference/2020/10/41ballard?lang=eng', 'https://www.churchofjesuschrist.org/study/general-conference/2020/10/58nelson?lang=eng', 'https://www.churchofjesuschrist.org/study/general-conference/2020/10/56johnson?lang=eng']\n",
            "Successfully fetched https://www.churchofjesuschrist.org/study/general-conference/2020/04?lang=eng\n"
          ]
        },
        {
          "output_type": "stream",
          "name": "stderr",
          "text": [
            "\rScraping conferences:   8%|▊         | 9/107 [00:09<01:46,  1.09s/it]"
          ]
        },
        {
          "output_type": "stream",
          "name": "stdout",
          "text": [
            "Found 36 talk links in https://www.churchofjesuschrist.org/study/general-conference/2020/04?lang=eng\n",
            "Sample talk links: ['https://www.churchofjesuschrist.org/study/general-conference/2020/04/27tai?lang=eng', 'https://www.churchofjesuschrist.org/study/general-conference/2020/04/46nelson?lang=eng', 'https://www.churchofjesuschrist.org/study/general-conference/2020/04/17eyring?lang=eng']\n",
            "Successfully fetched https://www.churchofjesuschrist.org/study/general-conference/2019/10?lang=eng\n"
          ]
        },
        {
          "output_type": "stream",
          "name": "stderr",
          "text": [
            "\rScraping conferences:   9%|▉         | 10/107 [00:10<01:31,  1.06it/s]"
          ]
        },
        {
          "output_type": "stream",
          "name": "stdout",
          "text": [
            "Found 36 talk links in https://www.churchofjesuschrist.org/study/general-conference/2019/10?lang=eng\n",
            "Sample talk links: ['https://www.churchofjesuschrist.org/study/general-conference/2019/10/28alvarado?lang=eng', 'https://www.churchofjesuschrist.org/study/general-conference/2019/10/13owen?lang=eng', 'https://www.churchofjesuschrist.org/study/general-conference/2019/10/41gong?lang=eng']\n",
            "Successfully fetched https://www.churchofjesuschrist.org/study/general-conference/2019/04?lang=eng\n"
          ]
        },
        {
          "output_type": "stream",
          "name": "stderr",
          "text": [
            "\rScraping conferences:  10%|█         | 11/107 [00:11<01:26,  1.11it/s]"
          ]
        },
        {
          "output_type": "stream",
          "name": "stdout",
          "text": [
            "Found 34 talk links in https://www.churchofjesuschrist.org/study/general-conference/2019/04?lang=eng\n",
            "Sample talk links: ['https://www.churchofjesuschrist.org/study/general-conference/2019/04/46nelson?lang=eng', 'https://www.churchofjesuschrist.org/study/general-conference/2019/04/42eubank?lang=eng', 'https://www.churchofjesuschrist.org/study/general-conference/2019/04/11soares?lang=eng']\n",
            "Successfully fetched https://www.churchofjesuschrist.org/study/general-conference/2018/10?lang=eng\n"
          ]
        },
        {
          "output_type": "stream",
          "name": "stderr",
          "text": [
            "\rScraping conferences:  11%|█         | 12/107 [00:12<01:25,  1.11it/s]"
          ]
        },
        {
          "output_type": "stream",
          "name": "stdout",
          "text": [
            "Found 35 talk links in https://www.churchofjesuschrist.org/study/general-conference/2018/10?lang=eng\n",
            "Sample talk links: ['https://www.churchofjesuschrist.org/study/general-conference/2018/10/the-ministry-of-reconciliation?lang=eng', 'https://www.churchofjesuschrist.org/study/general-conference/2018/10/becoming-exemplary-latter-day-saints?lang=eng', 'https://www.churchofjesuschrist.org/study/general-conference/2018/10/opening-remarks?lang=eng']\n",
            "Successfully fetched https://www.churchofjesuschrist.org/study/general-conference/2018/04?lang=eng\n"
          ]
        },
        {
          "output_type": "stream",
          "name": "stderr",
          "text": [
            "\rScraping conferences:  12%|█▏        | 13/107 [00:12<01:12,  1.30it/s]"
          ]
        },
        {
          "output_type": "stream",
          "name": "stdout",
          "text": [
            "Found 39 talk links in https://www.churchofjesuschrist.org/study/general-conference/2018/04?lang=eng\n",
            "Sample talk links: ['https://www.churchofjesuschrist.org/study/general-conference/2018/04/he-that-shall-endure-unto-the-end-the-same-shall-be-saved?lang=eng', 'https://www.churchofjesuschrist.org/study/general-conference/2018/04/saturday-morning-session', 'https://www.churchofjesuschrist.org/study/general-conference/2018/04/saving-ordinances-will-bring-us-marvelous-light?lang=eng']\n",
            "Successfully fetched https://www.churchofjesuschrist.org/study/general-conference/2017/10?lang=eng\n"
          ]
        },
        {
          "output_type": "stream",
          "name": "stderr",
          "text": [
            "\rScraping conferences:  13%|█▎        | 14/107 [00:13<01:22,  1.13it/s]"
          ]
        },
        {
          "output_type": "stream",
          "name": "stdout",
          "text": [
            "Found 37 talk links in https://www.churchofjesuschrist.org/study/general-conference/2017/10?lang=eng\n",
            "Sample talk links: ['https://www.churchofjesuschrist.org/study/general-conference/2017/10/has-the-day-of-miracles-ceased?lang=eng', 'https://www.churchofjesuschrist.org/study/general-conference/2017/10/the-lord-leads-his-church?lang=eng', 'https://www.churchofjesuschrist.org/study/general-conference/2017/10/spiritual-eclipse?lang=eng']\n",
            "Successfully fetched https://www.churchofjesuschrist.org/study/general-conference/2017/04?lang=eng\n"
          ]
        },
        {
          "output_type": "stream",
          "name": "stderr",
          "text": [
            "\rScraping conferences:  14%|█▍        | 15/107 [00:14<01:05,  1.41it/s]"
          ]
        },
        {
          "output_type": "stream",
          "name": "stdout",
          "text": [
            "Found 40 talk links in https://www.churchofjesuschrist.org/study/general-conference/2017/04?lang=eng\n",
            "Sample talk links: ['https://www.churchofjesuschrist.org/study/general-conference/2017/04/foundations-of-faith?lang=eng', 'https://www.churchofjesuschrist.org/study/general-conference/2017/04/our-fathers-glorious-plan?lang=eng', 'https://www.churchofjesuschrist.org/study/general-conference/2017/04/songs-sung-and-unsung?lang=eng']\n",
            "Successfully fetched https://www.churchofjesuschrist.org/study/general-conference/2016/10?lang=eng\n"
          ]
        },
        {
          "output_type": "stream",
          "name": "stderr",
          "text": [
            "\rScraping conferences:  15%|█▍        | 16/107 [00:14<01:01,  1.47it/s]"
          ]
        },
        {
          "output_type": "stream",
          "name": "stdout",
          "text": [
            "Found 39 talk links in https://www.churchofjesuschrist.org/study/general-conference/2016/10?lang=eng\n",
            "Sample talk links: ['https://www.churchofjesuschrist.org/study/general-conference/2016/10/learn-from-alma-and-amulek?lang=eng', 'https://www.churchofjesuschrist.org/study/general-conference/2016/10/a-witness-of-god?lang=eng', 'https://www.churchofjesuschrist.org/study/general-conference/2016/10/the-master-healer?lang=eng']\n",
            "Successfully fetched https://www.churchofjesuschrist.org/study/general-conference/2016/04?lang=eng\n"
          ]
        },
        {
          "output_type": "stream",
          "name": "stderr",
          "text": [
            "\rScraping conferences:  16%|█▌        | 17/107 [00:15<01:01,  1.47it/s]"
          ]
        },
        {
          "output_type": "stream",
          "name": "stdout",
          "text": [
            "Found 39 talk links in https://www.churchofjesuschrist.org/study/general-conference/2016/04?lang=eng\n",
            "Sample talk links: ['https://www.churchofjesuschrist.org/study/general-conference/2016/04/be-thou-humble?lang=eng', 'https://www.churchofjesuschrist.org/study/general-conference/2016/04/standing-with-the-leaders-of-the-church?lang=eng', 'https://www.churchofjesuschrist.org/study/general-conference/2016/04/church-auditing-department-report-2015?lang=eng']\n",
            "Successfully fetched https://www.churchofjesuschrist.org/study/general-conference/2015/10?lang=eng\n"
          ]
        },
        {
          "output_type": "stream",
          "name": "stderr",
          "text": [
            "\rScraping conferences:  17%|█▋        | 18/107 [00:16<01:06,  1.34it/s]"
          ]
        },
        {
          "output_type": "stream",
          "name": "stdout",
          "text": [
            "Found 41 talk links in https://www.churchofjesuschrist.org/study/general-conference/2015/10?lang=eng\n",
            "Sample talk links: ['https://www.churchofjesuschrist.org/study/general-conference/2015/10/keep-the-commandments?lang=eng', 'https://www.churchofjesuschrist.org/study/general-conference/2015/10/its-never-too-early-and-its-never-too-late?lang=eng', 'https://www.churchofjesuschrist.org/study/general-conference/2015/10/that-they-do-always-remember-him?lang=eng']\n",
            "Successfully fetched https://www.churchofjesuschrist.org/study/general-conference/2015/04?lang=eng\n"
          ]
        },
        {
          "output_type": "stream",
          "name": "stderr",
          "text": [
            "\rScraping conferences:  18%|█▊        | 19/107 [00:16<00:56,  1.57it/s]"
          ]
        },
        {
          "output_type": "stream",
          "name": "stdout",
          "text": [
            "Found 40 talk links in https://www.churchofjesuschrist.org/study/general-conference/2015/04?lang=eng\n",
            "Sample talk links: ['https://www.churchofjesuschrist.org/study/general-conference/2015/04/stay-by-the-tree?lang=eng', 'https://www.churchofjesuschrist.org/study/general-conference/2015/04/the-plan-of-happiness?lang=eng', 'https://www.churchofjesuschrist.org/study/general-conference/2015/04/thy-kingdom-come?lang=eng']\n",
            "Successfully fetched https://www.churchofjesuschrist.org/study/general-conference/2014/10?lang=eng\n"
          ]
        },
        {
          "output_type": "stream",
          "name": "stderr",
          "text": [
            "\rScraping conferences:  19%|█▊        | 20/107 [00:17<00:49,  1.76it/s]"
          ]
        },
        {
          "output_type": "stream",
          "name": "stdout",
          "text": [
            "Found 40 talk links in https://www.churchofjesuschrist.org/study/general-conference/2014/10?lang=eng\n",
            "Sample talk links: ['https://www.churchofjesuschrist.org/study/general-conference/2014/10/eternal-life-to-know-our-heavenly-father-and-his-son-jesus-christ?lang=eng', 'https://www.churchofjesuschrist.org/study/general-conference/2014/10/free-forever-to-act-for-themselves?lang=eng', 'https://www.churchofjesuschrist.org/study/general-conference/2014/10/joseph-smith?lang=eng']\n",
            "Successfully fetched https://www.churchofjesuschrist.org/study/general-conference/2014/04?lang=eng\n"
          ]
        },
        {
          "output_type": "stream",
          "name": "stderr",
          "text": [
            "\rScraping conferences:  20%|█▉        | 21/107 [00:17<00:44,  1.95it/s]"
          ]
        },
        {
          "output_type": "stream",
          "name": "stdout",
          "text": [
            "Found 41 talk links in https://www.churchofjesuschrist.org/study/general-conference/2014/04?lang=eng\n",
            "Sample talk links: ['https://www.churchofjesuschrist.org/study/general-conference/2014/04/christ-the-redeemer?lang=eng', 'https://www.churchofjesuschrist.org/study/general-conference/2014/04/the-keys-and-authority-of-the-priesthood?lang=eng', 'https://www.churchofjesuschrist.org/study/general-conference/2014/04/the-witness?lang=eng']\n",
            "Successfully fetched https://www.churchofjesuschrist.org/study/general-conference/2013/10?lang=eng\n"
          ]
        },
        {
          "output_type": "stream",
          "name": "stderr",
          "text": [
            "\rScraping conferences:  21%|██        | 22/107 [00:18<00:57,  1.48it/s]"
          ]
        },
        {
          "output_type": "stream",
          "name": "stdout",
          "text": [
            "Found 40 talk links in https://www.churchofjesuschrist.org/study/general-conference/2013/10?lang=eng\n",
            "Sample talk links: ['https://www.churchofjesuschrist.org/study/general-conference/2013/10/teaching-with-the-power-and-authority-of-god?lang=eng', 'https://www.churchofjesuschrist.org/study/general-conference/2013/10/the-power-joy-and-love-of-covenant-keeping?lang=eng', 'https://www.churchofjesuschrist.org/study/general-conference/2013/10/hastening-the-lords-game-plan?lang=eng']\n",
            "Successfully fetched https://www.churchofjesuschrist.org/study/general-conference/2013/04?lang=eng\n"
          ]
        },
        {
          "output_type": "stream",
          "name": "stderr",
          "text": [
            "\rScraping conferences:  21%|██▏       | 23/107 [00:18<00:48,  1.74it/s]"
          ]
        },
        {
          "output_type": "stream",
          "name": "stdout",
          "text": [
            "Found 41 talk links in https://www.churchofjesuschrist.org/study/general-conference/2013/04?lang=eng\n",
            "Sample talk links: ['https://www.churchofjesuschrist.org/study/general-conference/2013/04/the-home-the-school-of-life?lang=eng', 'https://www.churchofjesuschrist.org/study/general-conference/2013/04/your-holy-places?lang=eng', 'https://www.churchofjesuschrist.org/study/general-conference/2013/04/beautiful-mornings?lang=eng']\n",
            "Successfully fetched https://www.churchofjesuschrist.org/study/general-conference/2012/10?lang=eng\n"
          ]
        },
        {
          "output_type": "stream",
          "name": "stderr",
          "text": [
            "\rScraping conferences:  22%|██▏       | 24/107 [00:19<00:42,  1.97it/s]"
          ]
        },
        {
          "output_type": "stream",
          "name": "stdout",
          "text": [
            "Found 40 talk links in https://www.churchofjesuschrist.org/study/general-conference/2012/10?lang=eng\n",
            "Sample talk links: ['https://www.churchofjesuschrist.org/study/general-conference/2012/10/trial-of-your-faith?lang=eng', 'https://www.churchofjesuschrist.org/study/general-conference/2012/10/converted-unto-the-lord?lang=eng', 'https://www.churchofjesuschrist.org/study/general-conference/2012/10/where-is-the-pavilion?lang=eng']\n",
            "Successfully fetched https://www.churchofjesuschrist.org/study/general-conference/2012/04?lang=eng\n"
          ]
        },
        {
          "output_type": "stream",
          "name": "stderr",
          "text": [
            "\rScraping conferences:  23%|██▎       | 25/107 [00:20<00:57,  1.42it/s]"
          ]
        },
        {
          "output_type": "stream",
          "name": "stdout",
          "text": [
            "Found 41 talk links in https://www.churchofjesuschrist.org/study/general-conference/2012/04?lang=eng\n",
            "Sample talk links: ['https://www.churchofjesuschrist.org/study/general-conference/2012/04/special-lessons?lang=eng', 'https://www.churchofjesuschrist.org/study/general-conference/2012/04/faith-fortitude-fulfillment-a-message-to-single-parents?lang=eng', 'https://www.churchofjesuschrist.org/study/general-conference/2012/04/thanks-be-to-god?lang=eng']\n",
            "Successfully fetched https://www.churchofjesuschrist.org/study/general-conference/2011/10?lang=eng\n"
          ]
        },
        {
          "output_type": "stream",
          "name": "stderr",
          "text": [
            "\rScraping conferences:  24%|██▍       | 26/107 [00:20<00:51,  1.58it/s]"
          ]
        },
        {
          "output_type": "stream",
          "name": "stdout",
          "text": [
            "Found 40 talk links in https://www.churchofjesuschrist.org/study/general-conference/2011/10?lang=eng\n",
            "Sample talk links: ['https://www.churchofjesuschrist.org/study/general-conference/2011/10/the-time-shall-come?lang=eng', 'https://www.churchofjesuschrist.org/study/general-conference/2011/10/preparation-in-the-priesthood-i-need-your-help?lang=eng', 'https://www.churchofjesuschrist.org/study/general-conference/2011/10/teaching-after-the-manner-of-the-spirit?lang=eng']\n",
            "Successfully fetched https://www.churchofjesuschrist.org/study/general-conference/2011/04?lang=eng\n"
          ]
        },
        {
          "output_type": "stream",
          "name": "stderr",
          "text": [
            "\rScraping conferences:  25%|██▌       | 27/107 [00:21<00:47,  1.68it/s]"
          ]
        },
        {
          "output_type": "stream",
          "name": "stdout",
          "text": [
            "Found 41 talk links in https://www.churchofjesuschrist.org/study/general-conference/2011/04?lang=eng\n",
            "Sample talk links: ['https://www.churchofjesuschrist.org/study/general-conference/2011/04/saturday-morning-session', 'https://www.churchofjesuschrist.org/study/general-conference/2011/04/the-miracle-of-the-atonement?lang=eng', 'https://www.churchofjesuschrist.org/study/general-conference/2011/04/face-the-future-with-faith?lang=eng']\n",
            "Successfully fetched https://www.churchofjesuschrist.org/study/general-conference/2010/10?lang=eng\n"
          ]
        },
        {
          "output_type": "stream",
          "name": "stderr",
          "text": [
            "\rScraping conferences:  26%|██▌       | 28/107 [00:21<00:46,  1.71it/s]"
          ]
        },
        {
          "output_type": "stream",
          "name": "stdout",
          "text": [
            "Found 40 talk links in https://www.churchofjesuschrist.org/study/general-conference/2010/10?lang=eng\n",
            "Sample talk links: ['https://www.churchofjesuschrist.org/study/general-conference/2010/10/o-that-cunning-plan-of-the-evil-one?lang=eng', 'https://www.churchofjesuschrist.org/study/general-conference/2010/10/as-we-meet-together-again?lang=eng', 'https://www.churchofjesuschrist.org/study/general-conference/2010/10/saturday-morning-session']\n",
            "Successfully fetched https://www.churchofjesuschrist.org/study/general-conference/2010/04?lang=eng\n"
          ]
        },
        {
          "output_type": "stream",
          "name": "stderr",
          "text": [
            "\rScraping conferences:  27%|██▋       | 29/107 [00:22<00:42,  1.85it/s]"
          ]
        },
        {
          "output_type": "stream",
          "name": "stdout",
          "text": [
            "Found 41 talk links in https://www.churchofjesuschrist.org/study/general-conference/2010/04?lang=eng\n",
            "Sample talk links: ['https://www.churchofjesuschrist.org/study/general-conference/2010/04/statistical-report-2009?lang=eng', 'https://www.churchofjesuschrist.org/study/general-conference/2010/04/the-divine-call-of-a-missionary?lang=eng', 'https://www.churchofjesuschrist.org/study/general-conference/2010/04/healing-the-sick?lang=eng']\n",
            "Successfully fetched https://www.churchofjesuschrist.org/study/general-conference/2009/10?lang=eng\n"
          ]
        },
        {
          "output_type": "stream",
          "name": "stderr",
          "text": [
            "\rScraping conferences:  28%|██▊       | 30/107 [00:22<00:45,  1.68it/s]"
          ]
        },
        {
          "output_type": "stream",
          "name": "stdout",
          "text": [
            "Found 40 talk links in https://www.churchofjesuschrist.org/study/general-conference/2009/10?lang=eng\n",
            "Sample talk links: ['https://www.churchofjesuschrist.org/study/general-conference/2009/10/mind-the-gap?lang=eng', 'https://www.churchofjesuschrist.org/study/general-conference/2009/10/saturday-morning-session', 'https://www.churchofjesuschrist.org/study/general-conference/2009/10/the-love-of-god?lang=eng']\n",
            "Successfully fetched https://www.churchofjesuschrist.org/study/general-conference/2009/04?lang=eng\n"
          ]
        },
        {
          "output_type": "stream",
          "name": "stderr",
          "text": [
            "\rScraping conferences:  29%|██▉       | 31/107 [00:23<00:38,  1.96it/s]"
          ]
        },
        {
          "output_type": "stream",
          "name": "stdout",
          "text": [
            "Found 40 talk links in https://www.churchofjesuschrist.org/study/general-conference/2009/04?lang=eng\n",
            "Sample talk links: ['https://www.churchofjesuschrist.org/study/general-conference/2009/04/his-arm-is-sufficient?lang=eng', 'https://www.churchofjesuschrist.org/study/general-conference/2009/04/this-is-your-phone-call?lang=eng', 'https://www.churchofjesuschrist.org/study/general-conference/2009/04/his-servants-the-prophets?lang=eng']\n",
            "Successfully fetched https://www.churchofjesuschrist.org/study/general-conference/2008/10?lang=eng\n"
          ]
        },
        {
          "output_type": "stream",
          "name": "stderr",
          "text": [
            "\rScraping conferences:  30%|██▉       | 32/107 [00:23<00:32,  2.28it/s]"
          ]
        },
        {
          "output_type": "stream",
          "name": "stdout",
          "text": [
            "Found 38 talk links in https://www.churchofjesuschrist.org/study/general-conference/2008/10?lang=eng\n",
            "Sample talk links: ['https://www.churchofjesuschrist.org/study/general-conference/2008/10/a-return-to-virtue?lang=eng', 'https://www.churchofjesuschrist.org/study/general-conference/2008/10/finding-joy-in-the-journey?lang=eng', 'https://www.churchofjesuschrist.org/study/general-conference/2008/10/hope-ya-know-we-had-a-hard-time?lang=eng']\n"
          ]
        },
        {
          "output_type": "stream",
          "name": "stderr",
          "text": [
            "\rScraping conferences:  31%|███       | 33/107 [00:24<00:36,  2.03it/s]"
          ]
        },
        {
          "output_type": "stream",
          "name": "stdout",
          "text": [
            "Successfully fetched https://www.churchofjesuschrist.org/study/general-conference/2008/04?lang=eng\n",
            "Found 43 talk links in https://www.churchofjesuschrist.org/study/general-conference/2008/04?lang=eng\n",
            "Sample talk links: ['https://www.churchofjesuschrist.org/study/general-conference/2008/04/today?lang=eng', 'https://www.churchofjesuschrist.org/study/general-conference/2008/04/salvation-and-exaltation?lang=eng', 'https://www.churchofjesuschrist.org/study/general-conference/2008/04/abundantly-blessed?lang=eng']\n"
          ]
        },
        {
          "output_type": "stream",
          "name": "stderr",
          "text": [
            "\rScraping conferences:  32%|███▏      | 34/107 [00:25<00:45,  1.61it/s]"
          ]
        },
        {
          "output_type": "stream",
          "name": "stdout",
          "text": [
            "Successfully fetched https://www.churchofjesuschrist.org/study/general-conference/2007/10?lang=eng\n",
            "Found 44 talk links in https://www.churchofjesuschrist.org/study/general-conference/2007/10?lang=eng\n",
            "Sample talk links: ['https://www.churchofjesuschrist.org/study/general-conference/2007/10/service?lang=eng', 'https://www.churchofjesuschrist.org/study/general-conference/2007/10/a-royal-priesthood?lang=eng', 'https://www.churchofjesuschrist.org/study/general-conference/2007/10/the-stone-cut-out-of-the-mountain?lang=eng']\n",
            "Successfully fetched https://www.churchofjesuschrist.org/study/general-conference/2007/04?lang=eng\n"
          ]
        },
        {
          "output_type": "stream",
          "name": "stderr",
          "text": [
            "\rScraping conferences:  33%|███▎      | 35/107 [00:25<00:41,  1.75it/s]"
          ]
        },
        {
          "output_type": "stream",
          "name": "stdout",
          "text": [
            "Found 43 talk links in https://www.churchofjesuschrist.org/study/general-conference/2007/04?lang=eng\n",
            "Sample talk links: ['https://www.churchofjesuschrist.org/study/general-conference/2007/04/whos-on-the-lords-side?lang=eng', 'https://www.churchofjesuschrist.org/study/general-conference/2007/04/a-lesson-from-the-book-of-mormon?lang=eng', 'https://www.churchofjesuschrist.org/study/general-conference/2007/04/will-a-man-rob-god?lang=eng']\n"
          ]
        },
        {
          "output_type": "stream",
          "name": "stderr",
          "text": [
            "\rScraping conferences:  34%|███▎      | 36/107 [00:26<00:45,  1.56it/s]"
          ]
        },
        {
          "output_type": "stream",
          "name": "stdout",
          "text": [
            "Successfully fetched https://www.churchofjesuschrist.org/study/general-conference/2006/10?lang=eng\n",
            "Found 44 talk links in https://www.churchofjesuschrist.org/study/general-conference/2006/10?lang=eng\n",
            "Sample talk links: ['https://www.churchofjesuschrist.org/study/general-conference/2006/10/the-plan-of-salvation?lang=eng', 'https://www.churchofjesuschrist.org/study/general-conference/2006/10/closing-remarks?lang=eng', 'https://www.churchofjesuschrist.org/study/general-conference/2006/10/we-bear-testimony-to-the-world?lang=eng']\n"
          ]
        },
        {
          "output_type": "stream",
          "name": "stderr",
          "text": [
            "\rScraping conferences:  35%|███▍      | 37/107 [00:27<00:54,  1.29it/s]"
          ]
        },
        {
          "output_type": "stream",
          "name": "stdout",
          "text": [
            "Successfully fetched https://www.churchofjesuschrist.org/study/general-conference/2006/04?lang=eng\n",
            "Found 38 talk links in https://www.churchofjesuschrist.org/study/general-conference/2006/04?lang=eng\n",
            "Sample talk links: ['https://www.churchofjesuschrist.org/study/general-conference/2006/04/church-auditing-department-report-2005?lang=eng', 'https://www.churchofjesuschrist.org/study/general-conference/2006/04/as-a-child?lang=eng', 'https://www.churchofjesuschrist.org/study/general-conference/2006/04/zion-in-the-midst-of-babylon?lang=eng']\n"
          ]
        },
        {
          "output_type": "stream",
          "name": "stderr",
          "text": [
            "\rScraping conferences:  36%|███▌      | 38/107 [00:28<00:57,  1.21it/s]"
          ]
        },
        {
          "output_type": "stream",
          "name": "stdout",
          "text": [
            "Successfully fetched https://www.churchofjesuschrist.org/study/general-conference/2005/10?lang=eng\n",
            "Found 39 talk links in https://www.churchofjesuschrist.org/study/general-conference/2005/10?lang=eng\n",
            "Sample talk links: ['https://www.churchofjesuschrist.org/study/general-conference/2005/10/if-christ-had-my-opportunities?lang=eng', 'https://www.churchofjesuschrist.org/study/general-conference/2005/10/spiritual-preparedness-start-early-and-be-steady?lang=eng', 'https://www.churchofjesuschrist.org/study/general-conference/2005/10/mans-search-for-divine-truth?lang=eng']\n"
          ]
        },
        {
          "output_type": "stream",
          "name": "stderr",
          "text": [
            "\rScraping conferences:  36%|███▋      | 39/107 [00:29<01:06,  1.03it/s]"
          ]
        },
        {
          "output_type": "stream",
          "name": "stdout",
          "text": [
            "Successfully fetched https://www.churchofjesuschrist.org/study/general-conference/2005/04?lang=eng\n",
            "Found 39 talk links in https://www.churchofjesuschrist.org/study/general-conference/2005/04?lang=eng\n",
            "Sample talk links: ['https://www.churchofjesuschrist.org/study/general-conference/2005/04/standing-in-holy-places?lang=eng', 'https://www.churchofjesuschrist.org/study/general-conference/2005/04/closing-remarks?lang=eng', 'https://www.churchofjesuschrist.org/study/general-conference/2005/04/pornography?lang=eng']\n"
          ]
        },
        {
          "output_type": "stream",
          "name": "stderr",
          "text": [
            "\rScraping conferences:  37%|███▋      | 40/107 [00:30<01:05,  1.02it/s]"
          ]
        },
        {
          "output_type": "stream",
          "name": "stdout",
          "text": [
            "Successfully fetched https://www.churchofjesuschrist.org/study/general-conference/2004/10?lang=eng\n",
            "Found 38 talk links in https://www.churchofjesuschrist.org/study/general-conference/2004/10?lang=eng\n",
            "Sample talk links: ['https://www.churchofjesuschrist.org/study/general-conference/2004/10/prophets-seers-and-revelators?lang=eng', 'https://www.churchofjesuschrist.org/study/general-conference/2004/10/the-key-of-the-knowledge-of-god?lang=eng', 'https://www.churchofjesuschrist.org/study/general-conference/2004/10/the-blessings-of-a-proper-fast?lang=eng']\n"
          ]
        },
        {
          "output_type": "stream",
          "name": "stderr",
          "text": [
            "\rScraping conferences:  38%|███▊      | 41/107 [00:31<01:03,  1.04it/s]"
          ]
        },
        {
          "output_type": "stream",
          "name": "stdout",
          "text": [
            "Successfully fetched https://www.churchofjesuschrist.org/study/general-conference/2004/04?lang=eng\n",
            "Found 40 talk links in https://www.churchofjesuschrist.org/study/general-conference/2004/04?lang=eng\n",
            "Sample talk links: ['https://www.churchofjesuschrist.org/study/general-conference/2004/04/preparation-for-the-second-coming?lang=eng', 'https://www.churchofjesuschrist.org/study/general-conference/2004/04/strengthen-thy-brethren?lang=eng', 'https://www.churchofjesuschrist.org/study/general-conference/2004/04/concluding-remarks?lang=eng']\n",
            "Successfully fetched https://www.churchofjesuschrist.org/study/general-conference/2003/10?lang=eng\n"
          ]
        },
        {
          "output_type": "stream",
          "name": "stderr",
          "text": [
            "\rScraping conferences:  39%|███▉      | 42/107 [00:33<01:12,  1.12s/it]"
          ]
        },
        {
          "output_type": "stream",
          "name": "stdout",
          "text": [
            "Found 37 talk links in https://www.churchofjesuschrist.org/study/general-conference/2003/10?lang=eng\n",
            "Sample talk links: ['https://www.churchofjesuschrist.org/study/general-conference/2003/10/a-sure-foundation?lang=eng', 'https://www.churchofjesuschrist.org/study/general-conference/2003/10/let-us-live-the-gospel-more-fully?lang=eng', 'https://www.churchofjesuschrist.org/study/general-conference/2003/10/come-follow-me?lang=eng']\n"
          ]
        },
        {
          "output_type": "stream",
          "name": "stderr",
          "text": [
            "\rScraping conferences:  40%|████      | 43/107 [00:35<01:28,  1.38s/it]"
          ]
        },
        {
          "output_type": "stream",
          "name": "stdout",
          "text": [
            "Successfully fetched https://www.churchofjesuschrist.org/study/general-conference/2003/04?lang=eng\n",
            "Found 43 talk links in https://www.churchofjesuschrist.org/study/general-conference/2003/04?lang=eng\n",
            "Sample talk links: ['https://www.churchofjesuschrist.org/study/general-conference/2003/04/show-you-know?lang=eng', 'https://www.churchofjesuschrist.org/study/general-conference/2003/04/a-prayer-for-the-children?lang=eng', 'https://www.churchofjesuschrist.org/study/general-conference/2003/04/the-golden-years?lang=eng']\n"
          ]
        },
        {
          "output_type": "stream",
          "name": "stderr",
          "text": [
            "\rScraping conferences:  41%|████      | 44/107 [00:36<01:22,  1.31s/it]"
          ]
        },
        {
          "output_type": "stream",
          "name": "stdout",
          "text": [
            "Successfully fetched https://www.churchofjesuschrist.org/study/general-conference/2002/10?lang=eng\n",
            "Found 36 talk links in https://www.churchofjesuschrist.org/study/general-conference/2002/10?lang=eng\n",
            "Sample talk links: ['https://www.churchofjesuschrist.org/study/general-conference/2002/10/saturday-morning-session', 'https://www.churchofjesuschrist.org/study/general-conference/2002/10/dad-are-you-awake?lang=eng', 'https://www.churchofjesuschrist.org/study/general-conference/2002/10/called-to-serve?lang=eng']\n",
            "Successfully fetched https://www.churchofjesuschrist.org/study/general-conference/2002/04?lang=eng\n"
          ]
        },
        {
          "output_type": "stream",
          "name": "stderr",
          "text": [
            "\rScraping conferences:  42%|████▏     | 45/107 [00:38<01:43,  1.67s/it]"
          ]
        },
        {
          "output_type": "stream",
          "name": "stdout",
          "text": [
            "Found 41 talk links in https://www.churchofjesuschrist.org/study/general-conference/2002/04?lang=eng\n",
            "Sample talk links: ['https://www.churchofjesuschrist.org/study/general-conference/2002/04/children?lang=eng', 'https://www.churchofjesuschrist.org/study/general-conference/2002/04/for-thy-good?lang=eng', 'https://www.churchofjesuschrist.org/study/general-conference/2002/04/church-auditing-department-report?lang=eng']\n"
          ]
        },
        {
          "output_type": "stream",
          "name": "stderr",
          "text": [
            "\rScraping conferences:  43%|████▎     | 46/107 [00:40<01:39,  1.64s/it]"
          ]
        },
        {
          "output_type": "stream",
          "name": "stdout",
          "text": [
            "Successfully fetched https://www.churchofjesuschrist.org/study/general-conference/2001/10?lang=eng\n",
            "Found 39 talk links in https://www.churchofjesuschrist.org/study/general-conference/2001/10?lang=eng\n",
            "Sample talk links: ['https://www.churchofjesuschrist.org/study/general-conference/2001/10/sharing-the-gospel?lang=eng', 'https://www.churchofjesuschrist.org/study/general-conference/2001/10/are-we-not-all-mothers?lang=eng', 'https://www.churchofjesuschrist.org/study/general-conference/2001/10/some-great-thing?lang=eng']\n"
          ]
        },
        {
          "output_type": "stream",
          "name": "stderr",
          "text": [
            "\rScraping conferences:  44%|████▍     | 47/107 [00:41<01:25,  1.42s/it]"
          ]
        },
        {
          "output_type": "stream",
          "name": "stdout",
          "text": [
            "Successfully fetched https://www.churchofjesuschrist.org/study/general-conference/2001/04?lang=eng\n",
            "Found 39 talk links in https://www.churchofjesuschrist.org/study/general-conference/2001/04?lang=eng\n",
            "Sample talk links: ['https://www.churchofjesuschrist.org/study/general-conference/2001/04/to-walk-humbly-with-thy-god?lang=eng', 'https://www.churchofjesuschrist.org/study/general-conference/2001/04/a-god-of-miracles?lang=eng', 'https://www.churchofjesuschrist.org/study/general-conference/2001/04/building-the-kingdom?lang=eng']\n"
          ]
        },
        {
          "output_type": "stream",
          "name": "stderr",
          "text": [
            "\rScraping conferences:  45%|████▍     | 48/107 [00:42<01:12,  1.22s/it]"
          ]
        },
        {
          "output_type": "stream",
          "name": "stdout",
          "text": [
            "Successfully fetched https://www.churchofjesuschrist.org/study/general-conference/2000/10?lang=eng\n",
            "Found 40 talk links in https://www.churchofjesuschrist.org/study/general-conference/2000/10?lang=eng\n",
            "Sample talk links: ['https://www.churchofjesuschrist.org/study/general-conference/2000/10/an-humble-and-a-contrite-heart?lang=eng', 'https://www.churchofjesuschrist.org/study/general-conference/2000/10/satans-bag-of-snipes?lang=eng', 'https://www.churchofjesuschrist.org/study/general-conference/2000/10/a-great-family-in-reverence-and-worship?lang=eng']\n"
          ]
        },
        {
          "output_type": "stream",
          "name": "stderr",
          "text": [
            "\rScraping conferences:  46%|████▌     | 49/107 [00:42<00:54,  1.07it/s]"
          ]
        },
        {
          "output_type": "stream",
          "name": "stdout",
          "text": [
            "Successfully fetched https://www.churchofjesuschrist.org/study/general-conference/2000/04?lang=eng\n",
            "Found 39 talk links in https://www.churchofjesuschrist.org/study/general-conference/2000/04?lang=eng\n",
            "Sample talk links: ['https://www.churchofjesuschrist.org/study/general-conference/2000/04/womanhood-the-highest-place-of-honor?lang=eng', 'https://www.churchofjesuschrist.org/study/general-conference/2000/04/because-my-father-sent-me?lang=eng', 'https://www.churchofjesuschrist.org/study/general-conference/2000/04/a-time-of-new-beginnings?lang=eng']\n"
          ]
        },
        {
          "output_type": "stream",
          "name": "stderr",
          "text": [
            "\rScraping conferences:  47%|████▋     | 50/107 [00:42<00:41,  1.37it/s]"
          ]
        },
        {
          "output_type": "stream",
          "name": "stdout",
          "text": [
            "Successfully fetched https://www.churchofjesuschrist.org/study/general-conference/1999/10?lang=eng\n",
            "Found 39 talk links in https://www.churchofjesuschrist.org/study/general-conference/1999/10?lang=eng\n",
            "Sample talk links: ['https://www.churchofjesuschrist.org/study/general-conference/1999/10/for-this-cause-came-i-into-the-world?lang=eng', 'https://www.churchofjesuschrist.org/study/general-conference/1999/10/of-seeds-and-soils?lang=eng', 'https://www.churchofjesuschrist.org/study/general-conference/1999/10/what-it-means-to-be-a-daughter-of-god?lang=eng']\n"
          ]
        },
        {
          "output_type": "stream",
          "name": "stderr",
          "text": [
            "\rScraping conferences:  48%|████▊     | 51/107 [00:42<00:33,  1.69it/s]"
          ]
        },
        {
          "output_type": "stream",
          "name": "stdout",
          "text": [
            "Successfully fetched https://www.churchofjesuschrist.org/study/general-conference/1999/04?lang=eng\n",
            "Found 41 talk links in https://www.churchofjesuschrist.org/study/general-conference/1999/04?lang=eng\n",
            "Sample talk links: ['https://www.churchofjesuschrist.org/study/general-conference/1999/04/your-light-in-the-wilderness?lang=eng', 'https://www.churchofjesuschrist.org/study/general-conference/1999/04/welcome-home?lang=eng', 'https://www.churchofjesuschrist.org/study/general-conference/1999/04/for-i-was-blind-but-now-i-see?lang=eng']\n"
          ]
        },
        {
          "output_type": "stream",
          "name": "stderr",
          "text": [
            "\rScraping conferences:  49%|████▊     | 52/107 [00:43<00:27,  2.00it/s]"
          ]
        },
        {
          "output_type": "stream",
          "name": "stdout",
          "text": [
            "Successfully fetched https://www.churchofjesuschrist.org/study/general-conference/1998/10?lang=eng\n",
            "Found 39 talk links in https://www.churchofjesuschrist.org/study/general-conference/1998/10?lang=eng\n",
            "Sample talk links: ['https://www.churchofjesuschrist.org/study/general-conference/1998/10/are-we-keeping-pace?lang=eng', 'https://www.churchofjesuschrist.org/study/general-conference/1998/10/we-are-not-alone?lang=eng', 'https://www.churchofjesuschrist.org/study/general-conference/1998/10/youth-of-the-noble-birthright?lang=eng']\n"
          ]
        },
        {
          "output_type": "stream",
          "name": "stderr",
          "text": [
            "\rScraping conferences:  50%|████▉     | 53/107 [00:43<00:23,  2.30it/s]"
          ]
        },
        {
          "output_type": "stream",
          "name": "stdout",
          "text": [
            "Successfully fetched https://www.churchofjesuschrist.org/study/general-conference/1998/04?lang=eng\n",
            "Found 40 talk links in https://www.churchofjesuschrist.org/study/general-conference/1998/04?lang=eng\n",
            "Sample talk links: ['https://www.churchofjesuschrist.org/study/general-conference/1998/04/the-relief-society?lang=eng', 'https://www.churchofjesuschrist.org/study/general-conference/1998/04/a-new-harvest-time?lang=eng', 'https://www.churchofjesuschrist.org/study/general-conference/1998/04/saturday-morning-session']\n"
          ]
        },
        {
          "output_type": "stream",
          "name": "stderr",
          "text": [
            "\rScraping conferences:  50%|█████     | 54/107 [00:43<00:19,  2.67it/s]"
          ]
        },
        {
          "output_type": "stream",
          "name": "stdout",
          "text": [
            "Successfully fetched https://www.churchofjesuschrist.org/study/general-conference/1997/10?lang=eng\n",
            "Found 38 talk links in https://www.churchofjesuschrist.org/study/general-conference/1997/10?lang=eng\n",
            "Sample talk links: ['https://www.churchofjesuschrist.org/study/general-conference/1997/10/four-absolute-truths-provide-an-unfailing-moral-compass?lang=eng', 'https://www.churchofjesuschrist.org/study/general-conference/1997/10/why-every-member-a-missionary?lang=eng', 'https://www.churchofjesuschrist.org/study/general-conference/1997/10/some-thoughts-on-temples-retention-of-converts-and-missionary-service?lang=eng']\n"
          ]
        },
        {
          "output_type": "stream",
          "name": "stderr",
          "text": [
            "\rScraping conferences:  51%|█████▏    | 55/107 [00:43<00:17,  2.97it/s]"
          ]
        },
        {
          "output_type": "stream",
          "name": "stdout",
          "text": [
            "Successfully fetched https://www.churchofjesuschrist.org/study/general-conference/1997/04?lang=eng\n",
            "Found 41 talk links in https://www.churchofjesuschrist.org/study/general-conference/1997/04?lang=eng\n",
            "Sample talk links: ['https://www.churchofjesuschrist.org/study/general-conference/1997/04/from-whom-all-blessings-flow?lang=eng', 'https://www.churchofjesuschrist.org/study/general-conference/1997/04/eternity-lies-before-us?lang=eng', 'https://www.churchofjesuschrist.org/study/general-conference/1997/04/the-church-audit-committee-report?lang=eng']\n",
            "Successfully fetched https://www.churchofjesuschrist.org/study/general-conference/1996/10?lang=eng\n"
          ]
        },
        {
          "output_type": "stream",
          "name": "stderr",
          "text": [
            "\rScraping conferences:  52%|█████▏    | 56/107 [00:44<00:18,  2.73it/s]"
          ]
        },
        {
          "output_type": "stream",
          "name": "stdout",
          "text": [
            "Found 35 talk links in https://www.churchofjesuschrist.org/study/general-conference/1996/10?lang=eng\n",
            "Sample talk links: ['https://www.churchofjesuschrist.org/study/general-conference/1996/10/raised-in-hope?lang=eng', 'https://www.churchofjesuschrist.org/study/general-conference/1996/10/partakers-of-the-glories?lang=eng', 'https://www.churchofjesuschrist.org/study/general-conference/1996/10/women-of-the-church?lang=eng']\n",
            "Successfully fetched https://www.churchofjesuschrist.org/study/general-conference/1996/04?lang=eng\n"
          ]
        },
        {
          "output_type": "stream",
          "name": "stderr",
          "text": [
            "\rScraping conferences:  53%|█████▎    | 57/107 [00:45<00:25,  1.94it/s]"
          ]
        },
        {
          "output_type": "stream",
          "name": "stdout",
          "text": [
            "Found 39 talk links in https://www.churchofjesuschrist.org/study/general-conference/1996/04?lang=eng\n",
            "Sample talk links: ['https://www.churchofjesuschrist.org/study/general-conference/1996/04/the-word-of-wisdom-the-principle-and-the-promises?lang=eng', 'https://www.churchofjesuschrist.org/study/general-conference/1996/04/what-i-want-my-son-to-know-before-he-leaves-on-his-mission?lang=eng', 'https://www.churchofjesuschrist.org/study/general-conference/1996/04/duty-calls?lang=eng']\n",
            "Successfully fetched https://www.churchofjesuschrist.org/study/general-conference/1995/10?lang=eng\n"
          ]
        },
        {
          "output_type": "stream",
          "name": "stderr",
          "text": [
            "\rScraping conferences:  54%|█████▍    | 58/107 [00:45<00:23,  2.11it/s]"
          ]
        },
        {
          "output_type": "stream",
          "name": "stdout",
          "text": [
            "Found 40 talk links in https://www.churchofjesuschrist.org/study/general-conference/1995/10?lang=eng\n",
            "Sample talk links: ['https://www.churchofjesuschrist.org/study/general-conference/1995/10/the-family-a-proclamation-to-the-world?lang=eng', 'https://www.churchofjesuschrist.org/study/general-conference/1995/10/spiritual-mountaintops?lang=eng', 'https://www.churchofjesuschrist.org/study/general-conference/1995/10/a-strategy-for-war?lang=eng']\n",
            "Successfully fetched https://www.churchofjesuschrist.org/study/general-conference/1995/04?lang=eng\n"
          ]
        },
        {
          "output_type": "stream",
          "name": "stderr",
          "text": [
            "\rScraping conferences:  55%|█████▌    | 59/107 [00:45<00:21,  2.28it/s]"
          ]
        },
        {
          "output_type": "stream",
          "name": "stdout",
          "text": [
            "Found 44 talk links in https://www.churchofjesuschrist.org/study/general-conference/1995/04?lang=eng\n",
            "Sample talk links: ['https://www.churchofjesuschrist.org/study/general-conference/1995/04/hear-the-prophets-voice-and-obey?lang=eng', 'https://www.churchofjesuschrist.org/study/general-conference/1995/04/we-have-kept-the-faith?lang=eng', 'https://www.churchofjesuschrist.org/study/general-conference/1995/04/covenant-of-love?lang=eng']\n"
          ]
        },
        {
          "output_type": "stream",
          "name": "stderr",
          "text": [
            "\rScraping conferences:  56%|█████▌    | 60/107 [00:47<00:37,  1.27it/s]"
          ]
        },
        {
          "output_type": "stream",
          "name": "stdout",
          "text": [
            "Successfully fetched https://www.churchofjesuschrist.org/study/general-conference/1994/10?lang=eng\n",
            "Found 37 talk links in https://www.churchofjesuschrist.org/study/general-conference/1994/10?lang=eng\n",
            "Sample talk links: ['https://www.churchofjesuschrist.org/study/general-conference/1994/10/miracles-of-the-restoration?lang=eng', 'https://www.churchofjesuschrist.org/study/general-conference/1994/10/priceless-principles-for-success?lang=eng', 'https://www.churchofjesuschrist.org/study/general-conference/1994/10/being-a-righteous-husband-and-father?lang=eng']\n"
          ]
        },
        {
          "output_type": "stream",
          "name": "stderr",
          "text": [
            "\rScraping conferences:  57%|█████▋    | 61/107 [00:47<00:28,  1.60it/s]"
          ]
        },
        {
          "output_type": "stream",
          "name": "stdout",
          "text": [
            "Successfully fetched https://www.churchofjesuschrist.org/study/general-conference/1994/04?lang=eng\n",
            "Found 41 talk links in https://www.churchofjesuschrist.org/study/general-conference/1994/04?lang=eng\n",
            "Sample talk links: ['https://www.churchofjesuschrist.org/study/general-conference/1994/04/if-a-man-die-shall-he-live-again?lang=eng', 'https://www.churchofjesuschrist.org/study/general-conference/1994/04/a-divine-prescription-for-spiritual-healing?lang=eng', 'https://www.churchofjesuschrist.org/study/general-conference/1994/04/statistical-report-1993?lang=eng']\n"
          ]
        },
        {
          "output_type": "stream",
          "name": "stderr",
          "text": [
            "\rScraping conferences:  58%|█████▊    | 62/107 [00:47<00:23,  1.93it/s]"
          ]
        },
        {
          "output_type": "stream",
          "name": "stdout",
          "text": [
            "Successfully fetched https://www.churchofjesuschrist.org/study/general-conference/1993/10?lang=eng\n",
            "Found 38 talk links in https://www.churchofjesuschrist.org/study/general-conference/1993/10?lang=eng\n",
            "Sample talk links: ['https://www.churchofjesuschrist.org/study/general-conference/1993/10/truth-is-the-issue?lang=eng', 'https://www.churchofjesuschrist.org/study/general-conference/1993/10/equality-through-diversity?lang=eng', 'https://www.churchofjesuschrist.org/study/general-conference/1993/10/ponder-the-path-of-thy-feet?lang=eng']\n"
          ]
        },
        {
          "output_type": "stream",
          "name": "stderr",
          "text": [
            "\rScraping conferences:  59%|█████▉    | 63/107 [00:48<00:23,  1.84it/s]"
          ]
        },
        {
          "output_type": "stream",
          "name": "stdout",
          "text": [
            "Successfully fetched https://www.churchofjesuschrist.org/study/general-conference/1993/04?lang=eng\n",
            "Found 37 talk links in https://www.churchofjesuschrist.org/study/general-conference/1993/04?lang=eng\n",
            "Sample talk links: ['https://www.churchofjesuschrist.org/study/general-conference/1993/04/father-come-home?lang=eng', 'https://www.churchofjesuschrist.org/study/general-conference/1993/04/keep-the-faith?lang=eng', 'https://www.churchofjesuschrist.org/study/general-conference/1993/04/faith-yields-priesthood-power?lang=eng']\n"
          ]
        },
        {
          "output_type": "stream",
          "name": "stderr",
          "text": [
            "\rScraping conferences:  60%|█████▉    | 64/107 [00:49<00:22,  1.95it/s]"
          ]
        },
        {
          "output_type": "stream",
          "name": "stdout",
          "text": [
            "Successfully fetched https://www.churchofjesuschrist.org/study/general-conference/1992/10?lang=eng\n",
            "Found 40 talk links in https://www.churchofjesuschrist.org/study/general-conference/1992/10?lang=eng\n",
            "Sample talk links: ['https://www.churchofjesuschrist.org/study/general-conference/1992/10/becoming-wise-unto-salvation?lang=eng', 'https://www.churchofjesuschrist.org/study/general-conference/1992/10/settle-this-in-your-hearts?lang=eng', 'https://www.churchofjesuschrist.org/study/general-conference/1992/10/spiritual-revival?lang=eng']\n"
          ]
        },
        {
          "output_type": "stream",
          "name": "stderr",
          "text": [
            "\rScraping conferences:  61%|██████    | 65/107 [00:49<00:21,  1.93it/s]"
          ]
        },
        {
          "output_type": "stream",
          "name": "stdout",
          "text": [
            "Successfully fetched https://www.churchofjesuschrist.org/study/general-conference/1992/04?lang=eng\n",
            "Found 42 talk links in https://www.churchofjesuschrist.org/study/general-conference/1992/04?lang=eng\n",
            "Sample talk links: ['https://www.churchofjesuschrist.org/study/general-conference/1992/04/a-disciple-of-jesus-christ?lang=eng', 'https://www.churchofjesuschrist.org/study/general-conference/1992/04/the-blessings-of-sacrifice?lang=eng', 'https://www.churchofjesuschrist.org/study/general-conference/1992/04/spiritual-healing?lang=eng']\n"
          ]
        },
        {
          "output_type": "stream",
          "name": "stderr",
          "text": [
            "\rScraping conferences:  62%|██████▏   | 66/107 [00:50<00:24,  1.69it/s]"
          ]
        },
        {
          "output_type": "stream",
          "name": "stdout",
          "text": [
            "Successfully fetched https://www.churchofjesuschrist.org/study/general-conference/1991/10?lang=eng\n",
            "Found 40 talk links in https://www.churchofjesuschrist.org/study/general-conference/1991/10?lang=eng\n",
            "Sample talk links: ['https://www.churchofjesuschrist.org/study/general-conference/1991/10/light?lang=eng', 'https://www.churchofjesuschrist.org/study/general-conference/1991/10/a-time-for-preparation?lang=eng', 'https://www.churchofjesuschrist.org/study/general-conference/1991/10/the-sustaining-of-church-officers?lang=eng']\n"
          ]
        },
        {
          "output_type": "stream",
          "name": "stderr",
          "text": [
            "\rScraping conferences:  63%|██████▎   | 67/107 [00:50<00:19,  2.05it/s]"
          ]
        },
        {
          "output_type": "stream",
          "name": "stdout",
          "text": [
            "Successfully fetched https://www.churchofjesuschrist.org/study/general-conference/1991/04?lang=eng\n",
            "Found 35 talk links in https://www.churchofjesuschrist.org/study/general-conference/1991/04?lang=eng\n",
            "Sample talk links: ['https://www.churchofjesuschrist.org/study/general-conference/1991/04/repentance?lang=eng', 'https://www.churchofjesuschrist.org/study/general-conference/1991/04/beware-lest-thou-forget-the-lord?lang=eng', 'https://www.churchofjesuschrist.org/study/general-conference/1991/04/sunday-worship-service?lang=eng']\n",
            "Successfully fetched https://www.churchofjesuschrist.org/study/general-conference/1990/10?lang=eng\n"
          ]
        },
        {
          "output_type": "stream",
          "name": "stderr",
          "text": [
            "\rScraping conferences:  64%|██████▎   | 68/107 [00:50<00:18,  2.13it/s]"
          ]
        },
        {
          "output_type": "stream",
          "name": "stdout",
          "text": [
            "Found 39 talk links in https://www.churchofjesuschrist.org/study/general-conference/1990/10?lang=eng\n",
            "Sample talk links: ['https://www.churchofjesuschrist.org/study/general-conference/1990/10/put-off-the-natural-man-and-come-off-conqueror?lang=eng', 'https://www.churchofjesuschrist.org/study/general-conference/1990/10/the-resurrection?lang=eng', 'https://www.churchofjesuschrist.org/study/general-conference/1990/10/in-counsellors-there-is-safety?lang=eng']\n"
          ]
        },
        {
          "output_type": "stream",
          "name": "stderr",
          "text": [
            "\rScraping conferences:  64%|██████▍   | 69/107 [00:51<00:22,  1.67it/s]"
          ]
        },
        {
          "output_type": "stream",
          "name": "stdout",
          "text": [
            "Successfully fetched https://www.churchofjesuschrist.org/study/general-conference/1990/04?lang=eng\n",
            "Found 41 talk links in https://www.churchofjesuschrist.org/study/general-conference/1990/04?lang=eng\n",
            "Sample talk links: ['https://www.churchofjesuschrist.org/study/general-conference/1990/04/preparing-the-heart?lang=eng', 'https://www.churchofjesuschrist.org/study/general-conference/1990/04/sacred-resolves?lang=eng', 'https://www.churchofjesuschrist.org/study/general-conference/1990/04/the-motorcycle-ride?lang=eng']\n"
          ]
        },
        {
          "output_type": "stream",
          "name": "stderr",
          "text": [
            "\rScraping conferences:  65%|██████▌   | 70/107 [00:52<00:23,  1.59it/s]"
          ]
        },
        {
          "output_type": "stream",
          "name": "stdout",
          "text": [
            "Successfully fetched https://www.churchofjesuschrist.org/study/general-conference/1989/10?lang=eng\n",
            "Found 37 talk links in https://www.churchofjesuschrist.org/study/general-conference/1989/10?lang=eng\n",
            "Sample talk links: ['https://www.churchofjesuschrist.org/study/general-conference/1989/10/running-your-marathon?lang=eng', 'https://www.churchofjesuschrist.org/study/general-conference/1989/10/the-golden-thread-of-choice?lang=eng', 'https://www.churchofjesuschrist.org/study/general-conference/1989/10/an-eye-single-to-the-glory-of-god?lang=eng']\n"
          ]
        },
        {
          "output_type": "stream",
          "name": "stderr",
          "text": [
            "\rScraping conferences:  66%|██████▋   | 71/107 [00:53<00:23,  1.53it/s]"
          ]
        },
        {
          "output_type": "stream",
          "name": "stdout",
          "text": [
            "Successfully fetched https://www.churchofjesuschrist.org/study/general-conference/1989/04?lang=eng\n",
            "Found 30 talk links in https://www.churchofjesuschrist.org/study/general-conference/1989/04?lang=eng\n",
            "Sample talk links: ['https://www.churchofjesuschrist.org/study/general-conference/1989/04/statistical-report-1988?lang=eng', 'https://www.churchofjesuschrist.org/study/general-conference/1989/04/thanks-be-to-god?lang=eng', 'https://www.churchofjesuschrist.org/study/general-conference/1989/04/the-effects-of-television?lang=eng']\n"
          ]
        },
        {
          "output_type": "stream",
          "name": "stderr",
          "text": [
            "\rScraping conferences:  67%|██████▋   | 72/107 [00:54<00:29,  1.20it/s]"
          ]
        },
        {
          "output_type": "stream",
          "name": "stdout",
          "text": [
            "Successfully fetched https://www.churchofjesuschrist.org/study/general-conference/1988/10?lang=eng\n",
            "Found 36 talk links in https://www.churchofjesuschrist.org/study/general-conference/1988/10?lang=eng\n",
            "Sample talk links: ['https://www.churchofjesuschrist.org/study/general-conference/1988/10/the-priesthood-of-god?lang=eng', 'https://www.churchofjesuschrist.org/study/general-conference/1988/10/the-supernal-gift-of-the-atonement?lang=eng', 'https://www.churchofjesuschrist.org/study/general-conference/1988/10/we-have-a-work-to-do?lang=eng']\n"
          ]
        },
        {
          "output_type": "stream",
          "name": "stderr",
          "text": [
            "\rScraping conferences:  68%|██████▊   | 73/107 [00:55<00:26,  1.26it/s]"
          ]
        },
        {
          "output_type": "stream",
          "name": "stdout",
          "text": [
            "Successfully fetched https://www.churchofjesuschrist.org/study/general-conference/1988/04?lang=eng\n",
            "Found 33 talk links in https://www.churchofjesuschrist.org/study/general-conference/1988/04?lang=eng\n",
            "Sample talk links: ['https://www.churchofjesuschrist.org/study/general-conference/1988/04/what-think-ye-of-christ?lang=eng', 'https://www.churchofjesuschrist.org/study/general-conference/1988/04/with-god-nothing-shall-be-impossible?lang=eng', 'https://www.churchofjesuschrist.org/study/general-conference/1988/04/you-make-a-difference?lang=eng']\n"
          ]
        },
        {
          "output_type": "stream",
          "name": "stderr",
          "text": [
            "\rScraping conferences:  69%|██████▉   | 74/107 [00:55<00:21,  1.54it/s]"
          ]
        },
        {
          "output_type": "stream",
          "name": "stdout",
          "text": [
            "Successfully fetched https://www.churchofjesuschrist.org/study/general-conference/1987/10?lang=eng\n",
            "Found 34 talk links in https://www.churchofjesuschrist.org/study/general-conference/1987/10?lang=eng\n",
            "Sample talk links: ['https://www.churchofjesuschrist.org/study/general-conference/1987/10/a-champion-of-youth?lang=eng', 'https://www.churchofjesuschrist.org/study/general-conference/1987/10/take-not-the-name-of-god-in-vain?lang=eng', 'https://www.churchofjesuschrist.org/study/general-conference/1987/10/i-will-go-and-do?lang=eng']\n"
          ]
        },
        {
          "output_type": "stream",
          "name": "stderr",
          "text": [
            "\rScraping conferences:  70%|███████   | 75/107 [00:56<00:20,  1.57it/s]"
          ]
        },
        {
          "output_type": "stream",
          "name": "stdout",
          "text": [
            "Successfully fetched https://www.churchofjesuschrist.org/study/general-conference/1987/04?lang=eng\n",
            "Found 30 talk links in https://www.churchofjesuschrist.org/study/general-conference/1987/04?lang=eng\n",
            "Sample talk links: ['https://www.churchofjesuschrist.org/study/general-conference/1987/04/the-church-audit-committee-report?lang=eng', 'https://www.churchofjesuschrist.org/study/general-conference/1987/04/no-shortcuts?lang=eng', 'https://www.churchofjesuschrist.org/study/general-conference/1987/04/the-lengthened-shadow-of-the-hand-of-god?lang=eng']\n"
          ]
        },
        {
          "output_type": "stream",
          "name": "stderr",
          "text": [
            "\rScraping conferences:  71%|███████   | 76/107 [00:56<00:16,  1.88it/s]"
          ]
        },
        {
          "output_type": "stream",
          "name": "stdout",
          "text": [
            "Successfully fetched https://www.churchofjesuschrist.org/study/general-conference/1986/10?lang=eng\n",
            "Found 34 talk links in https://www.churchofjesuschrist.org/study/general-conference/1986/10?lang=eng\n",
            "Sample talk links: ['https://www.churchofjesuschrist.org/study/general-conference/1986/10/spiritual-crevasses?lang=eng', 'https://www.churchofjesuschrist.org/study/general-conference/1986/10/pulling-in-the-gospel-net?lang=eng', 'https://www.churchofjesuschrist.org/study/general-conference/1986/10/a-time-for-hope?lang=eng']\n",
            "Successfully fetched https://www.churchofjesuschrist.org/study/general-conference/1986/04?lang=eng\n"
          ]
        },
        {
          "output_type": "stream",
          "name": "stderr",
          "text": [
            "\rScraping conferences:  72%|███████▏  | 77/107 [00:57<00:16,  1.79it/s]"
          ]
        },
        {
          "output_type": "stream",
          "name": "stdout",
          "text": [
            "Found 29 talk links in https://www.churchofjesuschrist.org/study/general-conference/1986/04?lang=eng\n",
            "Sample talk links: ['https://www.churchofjesuschrist.org/study/general-conference/1986/04/in-the-lords-own-way?lang=eng', 'https://www.churchofjesuschrist.org/study/general-conference/1986/04/the-law-of-the-fast?lang=eng', 'https://www.churchofjesuschrist.org/study/general-conference/1986/04/welfare-principles-to-guide-our-lives-an-eternal-plan-for-the-welfare-of-mens-souls?lang=eng']\n",
            "Successfully fetched https://www.churchofjesuschrist.org/study/general-conference/1985/10?lang=eng\n"
          ]
        },
        {
          "output_type": "stream",
          "name": "stderr",
          "text": [
            "\rScraping conferences:  73%|███████▎  | 78/107 [00:57<00:14,  2.00it/s]"
          ]
        },
        {
          "output_type": "stream",
          "name": "stdout",
          "text": [
            "Found 36 talk links in https://www.churchofjesuschrist.org/study/general-conference/1985/10?lang=eng\n",
            "Sample talk links: ['https://www.churchofjesuschrist.org/study/general-conference/1985/10/by-their-fruits-ye-shall-know-them?lang=eng', 'https://www.churchofjesuschrist.org/study/general-conference/1985/10/those-who-love-jesus?lang=eng', 'https://www.churchofjesuschrist.org/study/general-conference/1985/10/the-abundant-life?lang=eng']\n",
            "Successfully fetched https://www.churchofjesuschrist.org/study/general-conference/1985/04?lang=eng\n"
          ]
        },
        {
          "output_type": "stream",
          "name": "stderr",
          "text": [
            "\rScraping conferences:  74%|███████▍  | 79/107 [00:58<00:14,  1.92it/s]"
          ]
        },
        {
          "output_type": "stream",
          "name": "stdout",
          "text": [
            "Found 36 talk links in https://www.churchofjesuschrist.org/study/general-conference/1985/04?lang=eng\n",
            "Sample talk links: ['https://www.churchofjesuschrist.org/study/general-conference/1985/04/the-resurrection?lang=eng', 'https://www.churchofjesuschrist.org/study/general-conference/1985/04/born-of-goodly-parents?lang=eng', 'https://www.churchofjesuschrist.org/study/general-conference/1985/04/look-for-the-beautiful?lang=eng']\n",
            "Successfully fetched https://www.churchofjesuschrist.org/study/general-conference/1984/10?lang=eng\n"
          ]
        },
        {
          "output_type": "stream",
          "name": "stderr",
          "text": [
            "\rScraping conferences:  75%|███████▍  | 80/107 [00:58<00:13,  2.07it/s]"
          ]
        },
        {
          "output_type": "stream",
          "name": "stdout",
          "text": [
            "Found 37 talk links in https://www.churchofjesuschrist.org/study/general-conference/1984/10?lang=eng\n",
            "Sample talk links: ['https://www.churchofjesuschrist.org/study/general-conference/1984/10/the-faith-of-our-people?lang=eng', 'https://www.churchofjesuschrist.org/study/general-conference/1984/10/striving-together-transforming-our-beliefs-into-action?lang=eng', 'https://www.churchofjesuschrist.org/study/general-conference/1984/10/the-caravan-moves-on?lang=eng']\n",
            "Successfully fetched https://www.churchofjesuschrist.org/study/general-conference/1984/04?lang=eng\n"
          ]
        },
        {
          "output_type": "stream",
          "name": "stderr",
          "text": [
            "\rScraping conferences:  76%|███████▌  | 81/107 [00:59<00:14,  1.81it/s]"
          ]
        },
        {
          "output_type": "stream",
          "name": "stdout",
          "text": [
            "Found 35 talk links in https://www.churchofjesuschrist.org/study/general-conference/1984/04?lang=eng\n",
            "Sample talk links: ['https://www.churchofjesuschrist.org/study/general-conference/1984/04/the-great-plan-of-the-eternal-god?lang=eng', 'https://www.churchofjesuschrist.org/study/general-conference/1984/04/statistical-report-1983?lang=eng', 'https://www.churchofjesuschrist.org/study/general-conference/1984/04/warmed-by-the-fires-of-their-lives?lang=eng']\n"
          ]
        },
        {
          "output_type": "stream",
          "name": "stderr",
          "text": [
            "\rScraping conferences:  77%|███████▋  | 82/107 [00:59<00:15,  1.66it/s]"
          ]
        },
        {
          "output_type": "stream",
          "name": "stdout",
          "text": [
            "Successfully fetched https://www.churchofjesuschrist.org/study/general-conference/1983/10?lang=eng\n",
            "Found 35 talk links in https://www.churchofjesuschrist.org/study/general-conference/1983/10?lang=eng\n",
            "Sample talk links: ['https://www.churchofjesuschrist.org/study/general-conference/1983/10/the-blessings-of-missionary-service?lang=eng', 'https://www.churchofjesuschrist.org/study/general-conference/1983/10/our-responsibility-to-take-the-gospel-to-the-ends-of-the-earth?lang=eng', 'https://www.churchofjesuschrist.org/study/general-conference/1983/10/saturday-morning-session']\n"
          ]
        },
        {
          "output_type": "stream",
          "name": "stderr",
          "text": [
            "\rScraping conferences:  78%|███████▊  | 83/107 [01:00<00:12,  1.99it/s]"
          ]
        },
        {
          "output_type": "stream",
          "name": "stdout",
          "text": [
            "Successfully fetched https://www.churchofjesuschrist.org/study/general-conference/1983/04?lang=eng\n",
            "Found 33 talk links in https://www.churchofjesuschrist.org/study/general-conference/1983/04?lang=eng\n",
            "Sample talk links: ['https://www.churchofjesuschrist.org/study/general-conference/1983/04/creator-and-savior?lang=eng', 'https://www.churchofjesuschrist.org/study/general-conference/1983/04/valiance-in-the-drama-of-life?lang=eng', 'https://www.churchofjesuschrist.org/study/general-conference/1983/04/within-the-clasp-of-your-arms?lang=eng']\n"
          ]
        },
        {
          "output_type": "stream",
          "name": "stderr",
          "text": [
            "\rScraping conferences:  79%|███████▊  | 84/107 [01:00<00:11,  1.94it/s]"
          ]
        },
        {
          "output_type": "stream",
          "name": "stdout",
          "text": [
            "Successfully fetched https://www.churchofjesuschrist.org/study/general-conference/1982/10?lang=eng\n",
            "Found 37 talk links in https://www.churchofjesuschrist.org/study/general-conference/1982/10?lang=eng\n",
            "Sample talk links: ['https://www.churchofjesuschrist.org/study/general-conference/1982/10/pure-religion?lang=eng', 'https://www.churchofjesuschrist.org/study/general-conference/1982/10/activating-young-men-of-the-aaronic-priesthood?lang=eng', 'https://www.churchofjesuschrist.org/study/general-conference/1982/10/behold-my-beloved-son-in-whom-i-am-well-pleased?lang=eng']\n"
          ]
        },
        {
          "output_type": "stream",
          "name": "stderr",
          "text": [
            "\rScraping conferences:  79%|███████▉  | 85/107 [01:00<00:09,  2.24it/s]"
          ]
        },
        {
          "output_type": "stream",
          "name": "stdout",
          "text": [
            "Successfully fetched https://www.churchofjesuschrist.org/study/general-conference/1982/04?lang=eng\n",
            "Found 42 talk links in https://www.churchofjesuschrist.org/study/general-conference/1982/04?lang=eng\n",
            "Sample talk links: ['https://www.churchofjesuschrist.org/study/general-conference/1982/04/a-lasting-marriage?lang=eng', 'https://www.churchofjesuschrist.org/study/general-conference/1982/04/the-gospel-the-foundation-for-our-career?lang=eng', 'https://www.churchofjesuschrist.org/study/general-conference/1982/04/the-first-and-the-last-words?lang=eng']\n"
          ]
        },
        {
          "output_type": "stream",
          "name": "stderr",
          "text": [
            "\rScraping conferences:  80%|████████  | 86/107 [01:01<00:09,  2.32it/s]"
          ]
        },
        {
          "output_type": "stream",
          "name": "stdout",
          "text": [
            "Successfully fetched https://www.churchofjesuschrist.org/study/general-conference/1981/10?lang=eng\n",
            "Found 41 talk links in https://www.churchofjesuschrist.org/study/general-conference/1981/10?lang=eng\n",
            "Sample talk links: ['https://www.churchofjesuschrist.org/study/general-conference/1981/10/conference-time?lang=eng', 'https://www.churchofjesuschrist.org/study/general-conference/1981/10/charity-never-faileth?lang=eng', 'https://www.churchofjesuschrist.org/study/general-conference/1981/10/being-strengthened-through-service?lang=eng']\n"
          ]
        },
        {
          "output_type": "stream",
          "name": "stderr",
          "text": [
            "\rScraping conferences:  81%|████████▏ | 87/107 [01:01<00:08,  2.42it/s]"
          ]
        },
        {
          "output_type": "stream",
          "name": "stdout",
          "text": [
            "Successfully fetched https://www.churchofjesuschrist.org/study/general-conference/1981/04?lang=eng\n",
            "Found 39 talk links in https://www.churchofjesuschrist.org/study/general-conference/1981/04?lang=eng\n",
            "Sample talk links: ['https://www.churchofjesuschrist.org/study/general-conference/1981/04/love-one-another?lang=eng', 'https://www.churchofjesuschrist.org/study/general-conference/1981/04/our-responsibility-to-care-for-our-own?lang=eng', 'https://www.churchofjesuschrist.org/study/general-conference/1981/04/reach-out-to-our-fathers-children?lang=eng']\n"
          ]
        },
        {
          "output_type": "stream",
          "name": "stderr",
          "text": [
            "\rScraping conferences:  82%|████████▏ | 88/107 [01:02<00:08,  2.33it/s]"
          ]
        },
        {
          "output_type": "stream",
          "name": "stdout",
          "text": [
            "Successfully fetched https://www.churchofjesuschrist.org/study/general-conference/1980/10?lang=eng\n",
            "Found 46 talk links in https://www.churchofjesuschrist.org/study/general-conference/1980/10?lang=eng\n",
            "Sample talk links: ['https://www.churchofjesuschrist.org/study/general-conference/1980/10/the-oath-and-covenant-which-belongeth-to-the-priesthood?lang=eng', 'https://www.churchofjesuschrist.org/study/general-conference/1980/10/miracles-among-the-lamanites?lang=eng', 'https://www.churchofjesuschrist.org/study/general-conference/1980/10/follow-joyously?lang=eng']\n"
          ]
        },
        {
          "output_type": "stream",
          "name": "stderr",
          "text": [
            "\rScraping conferences:  83%|████████▎ | 89/107 [01:02<00:09,  1.94it/s]"
          ]
        },
        {
          "output_type": "stream",
          "name": "stdout",
          "text": [
            "Successfully fetched https://www.churchofjesuschrist.org/study/general-conference/1980/04?lang=eng\n",
            "Found 40 talk links in https://www.churchofjesuschrist.org/study/general-conference/1980/04?lang=eng\n",
            "Sample talk links: ['https://www.churchofjesuschrist.org/study/general-conference/1980/04/church-finance-committee-report?lang=eng', 'https://www.churchofjesuschrist.org/study/general-conference/1980/04/the-scriptures-speak?lang=eng', 'https://www.churchofjesuschrist.org/study/general-conference/1980/04/the-book-of-mormon?lang=eng']\n",
            "Successfully fetched https://www.churchofjesuschrist.org/study/general-conference/1979/10?lang=eng\n"
          ]
        },
        {
          "output_type": "stream",
          "name": "stderr",
          "text": [
            "\rScraping conferences:  84%|████████▍ | 90/107 [01:03<00:08,  2.03it/s]"
          ]
        },
        {
          "output_type": "stream",
          "name": "stdout",
          "text": [
            "Found 40 talk links in https://www.churchofjesuschrist.org/study/general-conference/1979/10?lang=eng\n",
            "Sample talk links: ['https://www.churchofjesuschrist.org/study/general-conference/1979/10/we-need-a-listening-ear?lang=eng', 'https://www.churchofjesuschrist.org/study/general-conference/1979/10/the-governing-ones?lang=eng', 'https://www.churchofjesuschrist.org/study/general-conference/1979/10/the-role-of-righteous-women?lang=eng']\n"
          ]
        },
        {
          "output_type": "stream",
          "name": "stderr",
          "text": [
            "\rScraping conferences:  85%|████████▌ | 91/107 [01:03<00:07,  2.22it/s]"
          ]
        },
        {
          "output_type": "stream",
          "name": "stdout",
          "text": [
            "Successfully fetched https://www.churchofjesuschrist.org/study/general-conference/1979/04?lang=eng\n",
            "Found 37 talk links in https://www.churchofjesuschrist.org/study/general-conference/1979/04?lang=eng\n",
            "Sample talk links: ['https://www.churchofjesuschrist.org/study/general-conference/1979/04/preparing-for-service-in-the-church?lang=eng', 'https://www.churchofjesuschrist.org/study/general-conference/1979/04/because-i-have-a-father?lang=eng', 'https://www.churchofjesuschrist.org/study/general-conference/1979/04/new-emphasis-on-church-councils?lang=eng']\n"
          ]
        },
        {
          "output_type": "stream",
          "name": "stderr",
          "text": [
            "\rScraping conferences:  86%|████████▌ | 92/107 [01:04<00:07,  1.88it/s]"
          ]
        },
        {
          "output_type": "stream",
          "name": "stdout",
          "text": [
            "Successfully fetched https://www.churchofjesuschrist.org/study/general-conference/1978/10?lang=eng\n",
            "Found 45 talk links in https://www.churchofjesuschrist.org/study/general-conference/1978/10?lang=eng\n",
            "Sample talk links: ['https://www.churchofjesuschrist.org/study/general-conference/1978/10/worthy-of-all-acceptation?lang=eng', 'https://www.churchofjesuschrist.org/study/general-conference/1978/10/caring-for-the-poor-a-covenantal-obligation?lang=eng', 'https://www.churchofjesuschrist.org/study/general-conference/1978/10/the-blessing-of-church-interviews?lang=eng']\n"
          ]
        },
        {
          "output_type": "stream",
          "name": "stderr",
          "text": [
            "\rScraping conferences:  87%|████████▋ | 93/107 [01:04<00:06,  2.13it/s]"
          ]
        },
        {
          "output_type": "stream",
          "name": "stdout",
          "text": [
            "Successfully fetched https://www.churchofjesuschrist.org/study/general-conference/1978/04?lang=eng\n",
            "Found 44 talk links in https://www.churchofjesuschrist.org/study/general-conference/1978/04?lang=eng\n",
            "Sample talk links: ['https://www.churchofjesuschrist.org/study/general-conference/1978/04/becoming-the-pure-in-heart?lang=eng', 'https://www.churchofjesuschrist.org/study/general-conference/1978/04/the-true-way-of-life-and-salvation?lang=eng', 'https://www.churchofjesuschrist.org/study/general-conference/1978/04/not-my-will-but-thine?lang=eng']\n"
          ]
        },
        {
          "output_type": "stream",
          "name": "stderr",
          "text": [
            "\rScraping conferences:  88%|████████▊ | 94/107 [01:05<00:06,  1.96it/s]"
          ]
        },
        {
          "output_type": "stream",
          "name": "stdout",
          "text": [
            "Successfully fetched https://www.churchofjesuschrist.org/study/general-conference/1977/10?lang=eng\n",
            "Found 38 talk links in https://www.churchofjesuschrist.org/study/general-conference/1977/10?lang=eng\n",
            "Sample talk links: ['https://www.churchofjesuschrist.org/study/general-conference/1977/10/the-tragic-cycle?lang=eng', 'https://www.churchofjesuschrist.org/study/general-conference/1977/10/rated-a?lang=eng', 'https://www.churchofjesuschrist.org/study/general-conference/1977/10/welfare-services-the-gospel-in-action?lang=eng']\n"
          ]
        },
        {
          "output_type": "stream",
          "name": "stderr",
          "text": [
            "\rScraping conferences:  89%|████████▉ | 95/107 [01:06<00:07,  1.62it/s]"
          ]
        },
        {
          "output_type": "stream",
          "name": "stdout",
          "text": [
            "Successfully fetched https://www.churchofjesuschrist.org/study/general-conference/1977/04?lang=eng\n",
            "Found 42 talk links in https://www.churchofjesuschrist.org/study/general-conference/1977/04?lang=eng\n",
            "Sample talk links: ['https://www.churchofjesuschrist.org/study/general-conference/1977/04/the-role-of-the-stake-bishops-council-in-welfare-services?lang=eng', 'https://www.churchofjesuschrist.org/study/general-conference/1977/04/the-purpose-of-church-welfare-services?lang=eng', 'https://www.churchofjesuschrist.org/study/general-conference/1977/04/ministering-to-needs-through-the-lords-storehouse-system?lang=eng']\n",
            "Successfully fetched https://www.churchofjesuschrist.org/study/general-conference/1976/10?lang=eng\n"
          ]
        },
        {
          "output_type": "stream",
          "name": "stderr",
          "text": [
            "\rScraping conferences:  90%|████████▉ | 96/107 [01:06<00:06,  1.76it/s]"
          ]
        },
        {
          "output_type": "stream",
          "name": "stdout",
          "text": [
            "Found 53 talk links in https://www.churchofjesuschrist.org/study/general-conference/1976/10?lang=eng\n",
            "Sample talk links: ['https://www.churchofjesuschrist.org/study/general-conference/1976/10/loving-one-another?lang=eng', 'https://www.churchofjesuschrist.org/study/general-conference/1976/10/ready-to-work-long-hours?lang=eng', 'https://www.churchofjesuschrist.org/study/general-conference/1976/10/perfecting-the-saints?lang=eng']\n"
          ]
        },
        {
          "output_type": "stream",
          "name": "stderr",
          "text": [
            "\rScraping conferences:  91%|█████████ | 97/107 [01:07<00:06,  1.61it/s]"
          ]
        },
        {
          "output_type": "stream",
          "name": "stdout",
          "text": [
            "Successfully fetched https://www.churchofjesuschrist.org/study/general-conference/1976/04?lang=eng\n",
            "Found 53 talk links in https://www.churchofjesuschrist.org/study/general-conference/1976/04?lang=eng\n",
            "Sample talk links: ['https://www.churchofjesuschrist.org/study/general-conference/1976/04/the-sustaining-of-church-officers?lang=eng', 'https://www.churchofjesuschrist.org/study/general-conference/1976/04/a-missionary-opportunity?lang=eng', 'https://www.churchofjesuschrist.org/study/general-conference/1976/04/shout-it-from-the-rooftops?lang=eng']\n"
          ]
        },
        {
          "output_type": "stream",
          "name": "stderr",
          "text": [
            "\rScraping conferences:  92%|█████████▏| 98/107 [01:07<00:04,  1.86it/s]"
          ]
        },
        {
          "output_type": "stream",
          "name": "stdout",
          "text": [
            "Successfully fetched https://www.churchofjesuschrist.org/study/general-conference/1975/10?lang=eng\n",
            "Found 52 talk links in https://www.churchofjesuschrist.org/study/general-conference/1975/10?lang=eng\n",
            "Sample talk links: ['https://www.churchofjesuschrist.org/study/general-conference/1975/10/success-stories?lang=eng', 'https://www.churchofjesuschrist.org/study/general-conference/1975/10/my-heritage-is-choice?lang=eng', 'https://www.churchofjesuschrist.org/study/general-conference/1975/10/according-to-the-covenants?lang=eng']\n",
            "Successfully fetched https://www.churchofjesuschrist.org/study/general-conference/1975/04?lang=eng\n"
          ]
        },
        {
          "output_type": "stream",
          "name": "stderr",
          "text": [
            "\rScraping conferences:  93%|█████████▎| 99/107 [01:08<00:04,  1.66it/s]"
          ]
        },
        {
          "output_type": "stream",
          "name": "stdout",
          "text": [
            "Found 48 talk links in https://www.churchofjesuschrist.org/study/general-conference/1975/04?lang=eng\n",
            "Sample talk links: ['https://www.churchofjesuschrist.org/study/general-conference/1975/04/birth?lang=eng', 'https://www.churchofjesuschrist.org/study/general-conference/1975/04/the-road-to-happiness?lang=eng', 'https://www.churchofjesuschrist.org/study/general-conference/1975/04/the-sabbath-day?lang=eng']\n",
            "Successfully fetched https://www.churchofjesuschrist.org/study/general-conference/1974/10?lang=eng\n"
          ]
        },
        {
          "output_type": "stream",
          "name": "stderr",
          "text": [
            "\rScraping conferences:  93%|█████████▎| 100/107 [01:08<00:03,  1.90it/s]"
          ]
        },
        {
          "output_type": "stream",
          "name": "stdout",
          "text": [
            "Found 44 talk links in https://www.churchofjesuschrist.org/study/general-conference/1974/10?lang=eng\n",
            "Sample talk links: ['https://www.churchofjesuschrist.org/study/general-conference/1974/10/power-over-satan?lang=eng', 'https://www.churchofjesuschrist.org/study/general-conference/1974/10/friday-morning-session', 'https://www.churchofjesuschrist.org/study/general-conference/1974/10/is-there-not-a-cause?lang=eng']\n",
            "Successfully fetched https://www.churchofjesuschrist.org/study/general-conference/1974/04?lang=eng\n"
          ]
        },
        {
          "output_type": "stream",
          "name": "stderr",
          "text": [
            "\rScraping conferences:  94%|█████████▍| 101/107 [01:09<00:04,  1.49it/s]"
          ]
        },
        {
          "output_type": "stream",
          "name": "stdout",
          "text": [
            "Found 47 talk links in https://www.churchofjesuschrist.org/study/general-conference/1974/04?lang=eng\n",
            "Sample talk links: ['https://www.churchofjesuschrist.org/study/general-conference/1974/04/commitment-to-serve?lang=eng', 'https://www.churchofjesuschrist.org/study/general-conference/1974/04/three-days-in-the-tomb?lang=eng', 'https://www.churchofjesuschrist.org/study/general-conference/1974/04/the-power-of-elijah?lang=eng']\n",
            "Successfully fetched https://www.churchofjesuschrist.org/study/general-conference/1973/10?lang=eng\n"
          ]
        },
        {
          "output_type": "stream",
          "name": "stderr",
          "text": [
            "\rScraping conferences:  95%|█████████▌| 102/107 [01:10<00:03,  1.62it/s]"
          ]
        },
        {
          "output_type": "stream",
          "name": "stdout",
          "text": [
            "Found 41 talk links in https://www.churchofjesuschrist.org/study/general-conference/1973/10?lang=eng\n",
            "Sample talk links: ['https://www.churchofjesuschrist.org/study/general-conference/1973/10/think-on-these-things?lang=eng', 'https://www.churchofjesuschrist.org/study/general-conference/1973/10/closing-remarks?lang=eng', 'https://www.churchofjesuschrist.org/study/general-conference/1973/10/opposition-in-order-to-strengthen-us?lang=eng']\n",
            "Successfully fetched https://www.churchofjesuschrist.org/study/general-conference/1973/04?lang=eng\n"
          ]
        },
        {
          "output_type": "stream",
          "name": "stderr",
          "text": [
            "\rScraping conferences:  96%|█████████▋| 103/107 [01:10<00:02,  1.67it/s]"
          ]
        },
        {
          "output_type": "stream",
          "name": "stdout",
          "text": [
            "Found 42 talk links in https://www.churchofjesuschrist.org/study/general-conference/1973/04?lang=eng\n",
            "Sample talk links: ['https://www.churchofjesuschrist.org/study/general-conference/1973/04/the-path-to-eternal-glory?lang=eng', 'https://www.churchofjesuschrist.org/study/general-conference/1973/04/the-worth-of-souls-is-great?lang=eng', 'https://www.churchofjesuschrist.org/study/general-conference/1973/04/the-family-influence?lang=eng']\n",
            "Successfully fetched https://www.churchofjesuschrist.org/study/general-conference/1972/10?lang=eng\n"
          ]
        },
        {
          "output_type": "stream",
          "name": "stderr",
          "text": [
            "\rScraping conferences:  97%|█████████▋| 104/107 [01:11<00:01,  1.54it/s]"
          ]
        },
        {
          "output_type": "stream",
          "name": "stdout",
          "text": [
            "Found 44 talk links in https://www.churchofjesuschrist.org/study/general-conference/1972/10?lang=eng\n",
            "Sample talk links: ['https://www.churchofjesuschrist.org/study/general-conference/1972/10/i-know-that-my-redeemer-lives?lang=eng', 'https://www.churchofjesuschrist.org/study/general-conference/1972/10/the-priesthood-and-its-presidency?lang=eng', 'https://www.churchofjesuschrist.org/study/general-conference/1972/10/live-above-the-law-to-be-free?lang=eng']\n"
          ]
        },
        {
          "output_type": "stream",
          "name": "stderr",
          "text": [
            "\rScraping conferences:  98%|█████████▊| 105/107 [01:12<00:01,  1.75it/s]"
          ]
        },
        {
          "output_type": "stream",
          "name": "stdout",
          "text": [
            "Successfully fetched https://www.churchofjesuschrist.org/study/general-conference/1972/04?lang=eng\n",
            "Found 48 talk links in https://www.churchofjesuschrist.org/study/general-conference/1972/04?lang=eng\n",
            "Sample talk links: ['https://www.churchofjesuschrist.org/study/general-conference/1972/04/the-miracle-of-missionary-work?lang=eng', 'https://www.churchofjesuschrist.org/study/general-conference/1972/04/the-last-dispensation?lang=eng', 'https://www.churchofjesuschrist.org/study/general-conference/1972/04/the-aaronic-priesthood-a-sure-foundation?lang=eng']\n"
          ]
        },
        {
          "output_type": "stream",
          "name": "stderr",
          "text": [
            "\rScraping conferences:  99%|█████████▉| 106/107 [01:12<00:00,  1.51it/s]"
          ]
        },
        {
          "output_type": "stream",
          "name": "stdout",
          "text": [
            "Successfully fetched https://www.churchofjesuschrist.org/study/general-conference/1971/10?lang=eng\n",
            "Found 45 talk links in https://www.churchofjesuschrist.org/study/general-conference/1971/10?lang=eng\n",
            "Sample talk links: ['https://www.churchofjesuschrist.org/study/general-conference/1971/10/elijah-the-prophet?lang=eng', 'https://www.churchofjesuschrist.org/study/general-conference/1971/10/the-vitality-of-love?lang=eng', 'https://www.churchofjesuschrist.org/study/general-conference/1971/10/strive-for-excellence?lang=eng']\n"
          ]
        },
        {
          "output_type": "stream",
          "name": "stderr",
          "text": [
            "Scraping conferences: 100%|██████████| 107/107 [01:13<00:00,  1.46it/s]"
          ]
        },
        {
          "output_type": "stream",
          "name": "stdout",
          "text": [
            "Successfully fetched https://www.churchofjesuschrist.org/study/general-conference/1971/04?lang=eng\n",
            "Found 46 talk links in https://www.churchofjesuschrist.org/study/general-conference/1971/04?lang=eng\n",
            "Sample talk links: ['https://www.churchofjesuschrist.org/study/general-conference/1971/04/lost-battalions?lang=eng', 'https://www.churchofjesuschrist.org/study/general-conference/1971/04/ignorance-is-expensive?lang=eng', 'https://www.churchofjesuschrist.org/study/general-conference/1971/04/in-the-mountain-of-the-lords-house?lang=eng']\n",
            "Total talks found: 4233\n"
          ]
        },
        {
          "output_type": "stream",
          "name": "stderr",
          "text": [
            "\n",
            "Scraping talks in parallel:   0%|          | 0/4233 [00:00<?, ?it/s]"
          ]
        },
        {
          "output_type": "stream",
          "name": "stdout",
          "text": [
            "Successfully fetched https://www.churchofjesuschrist.org/study/general-conference/2024/04/33spannaus?lang=eng\n",
            "Successfully fetched https://www.churchofjesuschrist.org/study/general-conference/2024/04/26nelson?lang=eng\n",
            "Successfully fetched https://www.churchofjesuschrist.org/study/general-conference/2024/04/16soares?lang=eng\n",
            "Successfully fetched https://www.churchofjesuschrist.org/study/general-conference/2024/04/43renlund?lang=eng\n",
            "Successfully fetched https://www.churchofjesuschrist.org/study/general-conference/2024/04/15dushku?lang=eng\n",
            "Successfully fetched https://www.churchofjesuschrist.org/study/general-conference/2024/04/17gerard?lang=eng\n",
            "Successfully fetched https://www.churchofjesuschrist.org/study/general-conference/2024/04/31bowen?lang=eng\n",
            "Successfully fetched https://www.churchofjesuschrist.org/study/general-conference/2024/04/54held?lang=eng\n"
          ]
        },
        {
          "output_type": "stream",
          "name": "stderr",
          "text": [
            "\rScraping talks in parallel:   0%|          | 1/4233 [00:01<1:13:58,  1.05s/it]"
          ]
        },
        {
          "output_type": "stream",
          "name": "stdout",
          "text": [
            "Successfully fetched https://www.churchofjesuschrist.org/study/general-conference/2024/04/32bangerter?lang=eng\n"
          ]
        },
        {
          "output_type": "stream",
          "name": "stderr",
          "text": [
            "\rScraping talks in parallel:   0%|          | 2/4233 [00:01<36:09,  1.95it/s]  "
          ]
        },
        {
          "output_type": "stream",
          "name": "stdout",
          "text": [
            "Successfully fetched https://www.churchofjesuschrist.org/study/general-conference/2024/04/51christofferson?lang=eng\n",
            "Successfully fetched https://www.churchofjesuschrist.org/study/general-conference/2024/04/44pieper?lang=eng\n",
            "Successfully fetched https://www.churchofjesuschrist.org/study/general-conference/2024/04/56pace?lang=eng\n",
            "Successfully fetched https://www.churchofjesuschrist.org/study/general-conference/2024/04/45kearon?lang=eng\n",
            "Successfully fetched https://www.churchofjesuschrist.org/study/general-conference/2024/04/41rasband?lang=eng\n",
            "Successfully fetched https://www.churchofjesuschrist.org/study/general-conference/2024/04/46taylor?lang=eng\n",
            "Successfully fetched https://www.churchofjesuschrist.org/study/general-conference/2024/04/12larson?lang=eng\n",
            "Successfully fetched https://www.churchofjesuschrist.org/study/general-conference/2024/04/53stevenson?lang=eng\n",
            "Successfully fetched https://www.churchofjesuschrist.org/study/general-conference/2024/04/57nelson?lang=eng\n",
            "Successfully fetched https://www.churchofjesuschrist.org/study/general-conference/2024/04/saturday-morning-session?lang=eng\n",
            "Successfully fetched https://www.churchofjesuschrist.org/study/general-conference/2024/04/22de-feo?lang=eng\n"
          ]
        },
        {
          "output_type": "stream",
          "name": "stderr",
          "text": [
            "\rScraping talks in parallel:   0%|          | 8/4233 [00:02<17:48,  3.95it/s]"
          ]
        },
        {
          "output_type": "stream",
          "name": "stdout",
          "text": [
            "Successfully fetched https://www.churchofjesuschrist.org/study/general-conference/2024/04/23nielson?lang=eng\n",
            "Successfully fetched https://www.churchofjesuschrist.org/study/general-conference/2024/04/11oaks?lang=eng\n",
            "Successfully fetched https://www.churchofjesuschrist.org/study/general-conference/2024/04/34carpenter?lang=eng\n",
            "Successfully fetched https://www.churchofjesuschrist.org/study/general-conference/2024/04/24alonso?lang=eng\n",
            "Successfully fetched https://www.churchofjesuschrist.org/study/general-conference/2024/04/25gong?lang=eng\n",
            "Successfully fetched https://www.churchofjesuschrist.org/study/general-conference/2024/04/18eyring?lang=eng\n",
            "Successfully fetched https://www.churchofjesuschrist.org/study/general-conference/2024/04/42porter?lang=eng\n",
            "Successfully fetched https://www.churchofjesuschrist.org/study/general-conference/2024/04/55andersen?lang=eng\n"
          ]
        },
        {
          "output_type": "stream",
          "name": "stderr",
          "text": [
            "Scraping talks in parallel:   1%|          | 24/4233 [00:03<07:33,  9.28it/s]"
          ]
        },
        {
          "output_type": "stream",
          "name": "stdout",
          "text": [
            "Successfully fetched https://www.churchofjesuschrist.org/study/general-conference/2024/04/52godoy?lang=eng\n",
            "Successfully fetched https://www.churchofjesuschrist.org/study/general-conference/2024/04/47oaks?lang=eng\n",
            "Successfully fetched https://www.churchofjesuschrist.org/study/general-conference/2024/04/35uchtdorf?lang=eng\n",
            "Successfully fetched https://www.churchofjesuschrist.org/study/general-conference/2024/04/14dennis?lang=eng\n",
            "Successfully fetched https://www.churchofjesuschrist.org/study/general-conference/2024/04/13holland?lang=eng\n"
          ]
        },
        {
          "output_type": "stream",
          "name": "stderr",
          "text": [
            "\rScraping talks in parallel:   1%|          | 26/4233 [00:03<08:11,  8.56it/s]"
          ]
        },
        {
          "output_type": "stream",
          "name": "stdout",
          "text": [
            "Successfully fetched https://www.churchofjesuschrist.org/study/general-conference/2024/04/27cook?lang=eng\n"
          ]
        },
        {
          "output_type": "stream",
          "name": "stderr",
          "text": [
            "Scraping talks in parallel:   1%|          | 34/4233 [00:04<05:53, 11.86it/s]"
          ]
        },
        {
          "output_type": "stream",
          "name": "stdout",
          "text": [
            "Successfully fetched https://www.churchofjesuschrist.org/study/general-conference/2024/04/21bednar?lang=eng\n",
            "Successfully fetched https://www.churchofjesuschrist.org/study/general-conference/2023/10/22andersen?lang=eng\n",
            "Successfully fetched https://www.churchofjesuschrist.org/study/general-conference/2023/10/27phillips?lang=eng\n"
          ]
        },
        {
          "output_type": "stream",
          "name": "stderr",
          "text": [
            "\rScraping talks in parallel:   1%|          | 37/4233 [00:04<07:08,  9.80it/s]"
          ]
        },
        {
          "output_type": "stream",
          "name": "stdout",
          "text": [
            "Successfully fetched https://www.churchofjesuschrist.org/study/general-conference/2023/10/25stevenson?lang=eng\n",
            "Successfully fetched https://www.churchofjesuschrist.org/study/general-conference/2023/10/saturday-morning-session?lang=eng\n",
            "Successfully fetched https://www.churchofjesuschrist.org/study/general-conference/2023/10/34soares?lang=eng\n",
            "Successfully fetched https://www.churchofjesuschrist.org/study/general-conference/2023/10/32koch?lang=eng\n",
            "Successfully fetched https://www.churchofjesuschrist.org/study/general-conference/2023/10/23newman?lang=eng\n",
            "Successfully fetched https://www.churchofjesuschrist.org/study/general-conference/2023/10/28rasband?lang=eng\n",
            "Successfully fetched https://www.churchofjesuschrist.org/study/general-conference/2023/10/54gong?lang=eng\n",
            "Successfully fetched https://www.churchofjesuschrist.org/study/general-conference/2023/10/46waddell?lang=eng\n",
            "Successfully fetched https://www.churchofjesuschrist.org/study/general-conference/2023/10/15christofferson?lang=eng\n"
          ]
        },
        {
          "output_type": "stream",
          "name": "stderr",
          "text": [
            "\rScraping talks in parallel:   1%|          | 39/4233 [00:05<12:06,  5.77it/s]"
          ]
        },
        {
          "output_type": "stream",
          "name": "stdout",
          "text": [
            "Successfully fetched https://www.churchofjesuschrist.org/study/general-conference/2023/10/53cordon?lang=eng\n",
            "Successfully fetched https://www.churchofjesuschrist.org/study/general-conference/2023/10/56giraud-carrier?lang=eng\n",
            "Successfully fetched https://www.churchofjesuschrist.org/study/general-conference/2023/10/52pingree?lang=eng\n"
          ]
        },
        {
          "output_type": "stream",
          "name": "stderr",
          "text": [
            "Scraping talks in parallel:   1%|          | 44/4233 [00:06<09:03,  7.71it/s]"
          ]
        },
        {
          "output_type": "stream",
          "name": "stdout",
          "text": [
            "Successfully fetched https://www.churchofjesuschrist.org/study/general-conference/2023/10/26choi?lang=eng\n",
            "Successfully fetched https://www.churchofjesuschrist.org/study/general-conference/2023/10/43parrella?lang=eng\n",
            "Successfully fetched https://www.churchofjesuschrist.org/study/general-conference/2023/10/12wright?lang=eng\n"
          ]
        },
        {
          "output_type": "stream",
          "name": "stderr",
          "text": [
            "\rScraping talks in parallel:   1%|          | 46/4233 [00:06<09:44,  7.16it/s]"
          ]
        },
        {
          "output_type": "stream",
          "name": "stdout",
          "text": [
            "Successfully fetched https://www.churchofjesuschrist.org/study/general-conference/2023/10/42freeman?lang=eng\n",
            "Successfully fetched https://www.churchofjesuschrist.org/study/general-conference/2023/10/16ardern?lang=eng\n"
          ]
        },
        {
          "output_type": "stream",
          "name": "stderr",
          "text": [
            "\rScraping talks in parallel:   1%|▏         | 53/4233 [00:06<05:48, 12.01it/s]"
          ]
        },
        {
          "output_type": "stream",
          "name": "stdout",
          "text": [
            "Successfully fetched https://www.churchofjesuschrist.org/study/general-conference/2023/10/45uchtdorf?lang=eng\n",
            "Successfully fetched https://www.churchofjesuschrist.org/study/general-conference/2023/10/17oaks?lang=eng\n",
            "Successfully fetched https://www.churchofjesuschrist.org/study/general-conference/2023/10/24costa?lang=eng\n"
          ]
        },
        {
          "output_type": "stream",
          "name": "stderr",
          "text": [
            "\rScraping talks in parallel:   1%|▏         | 55/4233 [00:07<07:00,  9.93it/s]"
          ]
        },
        {
          "output_type": "stream",
          "name": "stdout",
          "text": [
            "Successfully fetched https://www.churchofjesuschrist.org/study/general-conference/2023/10/11bednar?lang=eng\n",
            "Successfully fetched https://www.churchofjesuschrist.org/study/general-conference/2023/10/51nelson?lang=eng\n"
          ]
        },
        {
          "output_type": "stream",
          "name": "stderr",
          "text": [
            "\rScraping talks in parallel:   1%|▏         | 58/4233 [00:07<06:35, 10.55it/s]"
          ]
        },
        {
          "output_type": "stream",
          "name": "stdout",
          "text": [
            "Successfully fetched https://www.churchofjesuschrist.org/study/general-conference/2023/10/57renlund?lang=eng\n",
            "Successfully fetched https://www.churchofjesuschrist.org/study/general-conference/2023/10/31sabin?lang=eng\n",
            "Successfully fetched https://www.churchofjesuschrist.org/study/general-conference/2023/10/13daines?lang=eng\n"
          ]
        },
        {
          "output_type": "stream",
          "name": "stderr",
          "text": [
            "\rScraping talks in parallel:   1%|▏         | 61/4233 [00:07<06:53, 10.08it/s]"
          ]
        },
        {
          "output_type": "stream",
          "name": "stdout",
          "text": [
            "Successfully fetched https://www.churchofjesuschrist.org/study/general-conference/2023/10/47eyring?lang=eng\n",
            "Successfully fetched https://www.churchofjesuschrist.org/study/general-conference/2023/10/55esplin?lang=eng\n",
            "Successfully fetched https://www.churchofjesuschrist.org/study/general-conference/2023/10/33runia?lang=eng\n",
            "Successfully fetched https://www.churchofjesuschrist.org/study/general-conference/2023/04/24meurs?lang=eng\n",
            "Successfully fetched https://www.churchofjesuschrist.org/study/general-conference/2023/10/14godoy?lang=eng\n",
            "Successfully fetched https://www.churchofjesuschrist.org/study/general-conference/2023/10/41ballard?lang=engSuccessfully fetched https://www.churchofjesuschrist.org/study/general-conference/2023/10/21eyring?lang=eng\n",
            "\n",
            "Successfully fetched https://www.churchofjesuschrist.org/study/general-conference/2023/10/44cook?lang=eng\n"
          ]
        },
        {
          "output_type": "stream",
          "name": "stderr",
          "text": [
            "\rScraping talks in parallel:   1%|▏         | 63/4233 [00:08<11:41,  5.94it/s]"
          ]
        },
        {
          "output_type": "stream",
          "name": "stdout",
          "text": [
            "Successfully fetched https://www.churchofjesuschrist.org/study/general-conference/2023/04/41christofferson?lang=eng\n",
            "Successfully fetched https://www.churchofjesuschrist.org/study/general-conference/2023/04/56corbitt?lang=eng\n"
          ]
        },
        {
          "output_type": "stream",
          "name": "stderr",
          "text": [
            "Scraping talks in parallel:   2%|▏         | 71/4233 [00:09<07:00,  9.91it/s]"
          ]
        },
        {
          "output_type": "stream",
          "name": "stdout",
          "text": [
            "Successfully fetched https://www.churchofjesuschrist.org/study/general-conference/2023/04/54stanfill?lang=eng\n",
            "Successfully fetched https://www.churchofjesuschrist.org/study/general-conference/2023/04/25bennett?lang=eng\n",
            "Successfully fetched https://www.churchofjesuschrist.org/study/general-conference/2023/04/55bassett?lang=eng\n",
            "Successfully fetched https://www.churchofjesuschrist.org/study/general-conference/2023/04/45andersen?lang=eng\n",
            "Successfully fetched https://www.churchofjesuschrist.org/study/general-conference/2023/04/43soares?lang=eng\n"
          ]
        },
        {
          "output_type": "stream",
          "name": "stderr",
          "text": [
            "\rScraping talks in parallel:   2%|▏         | 73/4233 [00:10<14:29,  4.78it/s]"
          ]
        },
        {
          "output_type": "stream",
          "name": "stdout",
          "text": [
            "Successfully fetched https://www.churchofjesuschrist.org/study/general-conference/2023/04/26christensen?lang=eng\n",
            "Successfully fetched https://www.churchofjesuschrist.org/study/general-conference/2023/04/53rasband?lang=eng\n",
            "Successfully fetched https://www.churchofjesuschrist.org/study/general-conference/2023/04/11stevenson?lang=eng\n",
            "Successfully fetched https://www.churchofjesuschrist.org/study/general-conference/2023/04/22larson?lang=eng\n",
            "Successfully fetched https://www.churchofjesuschrist.org/study/general-conference/2023/04/28de-hoyos?lang=engSuccessfully fetched https://www.churchofjesuschrist.org/study/general-conference/2023/04/33nattress?lang=eng\n",
            "\n",
            "Successfully fetched https://www.churchofjesuschrist.org/study/general-conference/2023/04/14gong?lang=eng\n"
          ]
        },
        {
          "output_type": "stream",
          "name": "stderr",
          "text": [
            "\rScraping talks in parallel:   2%|▏         | 75/4233 [00:11<19:08,  3.62it/s]"
          ]
        },
        {
          "output_type": "stream",
          "name": "stdout",
          "text": [
            "Successfully fetched https://www.churchofjesuschrist.org/study/general-conference/2023/04/13cook?lang=eng\n",
            "Successfully fetched https://www.churchofjesuschrist.org/study/general-conference/2023/04/34uceda?lang=eng\n",
            "Successfully fetched https://www.churchofjesuschrist.org/study/general-conference/2023/04/51oaks?lang=eng\n",
            "Successfully fetched https://www.churchofjesuschrist.org/study/general-conference/2023/04/47nelson?lang=eng\n"
          ]
        },
        {
          "output_type": "stream",
          "name": "stderr",
          "text": [
            "\rScraping talks in parallel:   2%|▏         | 84/4233 [00:11<10:15,  6.74it/s]"
          ]
        },
        {
          "output_type": "stream",
          "name": "stdout",
          "text": [
            "Successfully fetched https://www.churchofjesuschrist.org/study/general-conference/2023/04/31bragg?lang=eng\n",
            "Successfully fetched https://www.churchofjesuschrist.org/study/general-conference/2023/04/32camargo?lang=eng\n",
            "Successfully fetched https://www.churchofjesuschrist.org/study/general-conference/2023/04/58nelson?lang=eng\n",
            "Successfully fetched https://www.churchofjesuschrist.org/study/general-conference/2023/04/27schmutz?lang=eng\n",
            "Successfully fetched https://www.churchofjesuschrist.org/study/general-conference/2023/04/15cook?lang=eng\n",
            "Successfully fetched https://www.churchofjesuschrist.org/study/general-conference/2023/04/46duncan?lang=eng\n",
            "Successfully fetched https://www.churchofjesuschrist.org/study/general-conference/2023/04/44yamashita?lang=eng\n",
            "Successfully fetched https://www.churchofjesuschrist.org/study/general-conference/2023/04/29uchtdorf?lang=eng\n"
          ]
        },
        {
          "output_type": "stream",
          "name": "stderr",
          "text": [
            "\rScraping talks in parallel:   2%|▏         | 89/4233 [00:13<12:25,  5.56it/s]"
          ]
        },
        {
          "output_type": "stream",
          "name": "stdout",
          "text": [
            "Successfully fetched https://www.churchofjesuschrist.org/study/general-conference/2023/04/21oaks?lang=eng\n",
            "Successfully fetched https://www.churchofjesuschrist.org/study/general-conference/2023/04/12cordon?lang=eng\n",
            "Successfully fetched https://www.churchofjesuschrist.org/study/general-conference/2023/04/17eyring?lang=eng\n"
          ]
        },
        {
          "output_type": "stream",
          "name": "stderr",
          "text": [
            "\rScraping talks in parallel:   2%|▏         | 96/4233 [00:13<08:46,  7.86it/s]"
          ]
        },
        {
          "output_type": "stream",
          "name": "stdout",
          "text": [
            "Successfully fetched https://www.churchofjesuschrist.org/study/general-conference/2023/04/52ballard?lang=eng\n",
            "Successfully fetched https://www.churchofjesuschrist.org/study/general-conference/2023/04/saturday-morning-session?lang=eng\n",
            "Successfully fetched https://www.churchofjesuschrist.org/study/general-conference/2023/04/23renlund?lang=eng\n",
            "Successfully fetched https://www.churchofjesuschrist.org/study/general-conference/2023/04/57bednar?lang=eng\n",
            "Successfully fetched https://www.churchofjesuschrist.org/study/general-conference/2023/04/16haynie?lang=eng\n"
          ]
        },
        {
          "output_type": "stream",
          "name": "stderr",
          "text": [
            "\rScraping talks in parallel:   2%|▏         | 100/4233 [00:14<09:32,  7.21it/s]"
          ]
        },
        {
          "output_type": "stream",
          "name": "stdout",
          "text": [
            "Successfully fetched https://www.churchofjesuschrist.org/study/general-conference/2022/10/31causse?lang=eng\n",
            "Successfully fetched https://www.churchofjesuschrist.org/study/general-conference/2022/10/saturday-morning-session?lang=eng\n",
            "Successfully fetched https://www.churchofjesuschrist.org/study/general-conference/2023/04/42johnson?lang=eng\n",
            "Successfully fetched https://www.churchofjesuschrist.org/study/general-conference/2022/10/25soares?lang=eng\n",
            "Successfully fetched https://www.churchofjesuschrist.org/study/general-conference/2022/10/32craig?lang=eng\n",
            "Successfully fetched https://www.churchofjesuschrist.org/study/general-conference/2022/10/17rasband?lang=eng\n",
            "Successfully fetched https://www.churchofjesuschrist.org/study/general-conference/2022/10/26mcconkie?lang=eng\n",
            "Successfully fetched https://www.churchofjesuschrist.org/study/general-conference/2022/10/12uchtdorf?lang=eng\n"
          ]
        },
        {
          "output_type": "stream",
          "name": "stderr",
          "text": [
            "Scraping talks in parallel:   3%|▎         | 110/4233 [00:15<07:53,  8.72it/s]"
          ]
        },
        {
          "output_type": "stream",
          "name": "stdout",
          "text": [
            "Successfully fetched https://www.churchofjesuschrist.org/study/general-conference/2022/10/53schmitt?lang=eng\n",
            "Successfully fetched https://www.churchofjesuschrist.org/study/general-conference/2022/10/28christofferson?lang=eng\n",
            "Successfully fetched https://www.churchofjesuschrist.org/study/general-conference/2022/10/33pearson?lang=eng\n"
          ]
        },
        {
          "output_type": "stream",
          "name": "stderr",
          "text": [
            "\rScraping talks in parallel:   3%|▎         | 112/4233 [00:15<09:44,  7.05it/s]"
          ]
        },
        {
          "output_type": "stream",
          "name": "stdout",
          "text": [
            "Successfully fetched https://www.churchofjesuschrist.org/study/general-conference/2022/10/34silva?lang=eng\n",
            "Successfully fetched https://www.churchofjesuschrist.org/study/general-conference/2022/10/52olsen?lang=eng\n"
          ]
        },
        {
          "output_type": "stream",
          "name": "stderr",
          "text": [
            "\rScraping talks in parallel:   3%|▎         | 117/4233 [00:16<08:14,  8.33it/s]"
          ]
        },
        {
          "output_type": "stream",
          "name": "stdout",
          "text": [
            "Successfully fetched https://www.churchofjesuschrist.org/study/general-conference/2022/10/54eddy?lang=eng\n",
            "Successfully fetched https://www.churchofjesuschrist.org/study/general-conference/2022/10/44sitati?lang=eng\n",
            "Successfully fetched https://www.churchofjesuschrist.org/study/general-conference/2022/10/57cook?lang=eng\n"
          ]
        },
        {
          "output_type": "stream",
          "name": "stderr",
          "text": [
            "\rScraping talks in parallel:   3%|▎         | 120/4233 [00:16<07:56,  8.64it/s]"
          ]
        },
        {
          "output_type": "stream",
          "name": "stdout",
          "text": [
            "Successfully fetched https://www.churchofjesuschrist.org/study/general-conference/2022/10/55stevenson?lang=eng\n",
            "Successfully fetched https://www.churchofjesuschrist.org/study/general-conference/2022/10/41holland?lang=eng\n",
            "Successfully fetched https://www.churchofjesuschrist.org/study/general-conference/2022/10/23yee?lang=eng\n",
            "Successfully fetched https://www.churchofjesuschrist.org/study/general-conference/2022/10/15pino?lang=eng\n",
            "Successfully fetched https://www.churchofjesuschrist.org/study/general-conference/2022/10/27zeballos?lang=eng\n",
            "Successfully fetched https://www.churchofjesuschrist.org/study/general-conference/2022/10/18oaks?lang=eng\n",
            "Successfully fetched https://www.churchofjesuschrist.org/study/general-conference/2022/10/42dennis?lang=eng\n",
            "Successfully fetched https://www.churchofjesuschrist.org/study/general-conference/2022/10/46bednar?lang=eng\n",
            "Successfully fetched https://www.churchofjesuschrist.org/study/general-conference/2022/10/43gong?lang=eng\n",
            "Successfully fetched https://www.churchofjesuschrist.org/study/general-conference/2022/10/13browning?lang=eng\n"
          ]
        },
        {
          "output_type": "stream",
          "name": "stderr",
          "text": [
            "\rScraping talks in parallel:   3%|▎         | 122/4233 [00:17<13:39,  5.01it/s]"
          ]
        },
        {
          "output_type": "stream",
          "name": "stdout",
          "text": [
            "Successfully fetched https://www.churchofjesuschrist.org/study/general-conference/2022/10/35andersen?lang=eng\n",
            "Successfully fetched https://www.churchofjesuschrist.org/study/general-conference/2022/10/45lund?lang=eng\n",
            "Successfully fetched https://www.churchofjesuschrist.org/study/general-conference/2022/10/56morrison?lang=eng\n",
            "Successfully fetched https://www.churchofjesuschrist.org/study/general-conference/2022/10/47nelson?lang=eng\n",
            "Successfully fetched https://www.churchofjesuschrist.org/study/general-conference/2022/10/58nelson?lang=eng\n",
            "Successfully fetched https://www.churchofjesuschrist.org/study/general-conference/2022/10/14renlund?lang=eng\n"
          ]
        },
        {
          "output_type": "stream",
          "name": "stderr",
          "text": [
            "\rScraping talks in parallel:   3%|▎         | 132/4233 [00:18<09:35,  7.13it/s]"
          ]
        },
        {
          "output_type": "stream",
          "name": "stdout",
          "text": [
            "Successfully fetched https://www.churchofjesuschrist.org/study/general-conference/2022/10/22ballard?lang=eng\n",
            "Successfully fetched https://www.churchofjesuschrist.org/study/general-conference/2022/10/16montoya?lang=eng\n",
            "Successfully fetched https://www.churchofjesuschrist.org/study/general-conference/2022/10/24johnson?lang=eng\n",
            "Successfully fetched https://www.churchofjesuschrist.org/study/general-conference/2022/04/15andersen?lang=eng\n",
            "Successfully fetched https://www.churchofjesuschrist.org/study/general-conference/2022/10/21eyring?lang=eng\n",
            "Successfully fetched https://www.churchofjesuschrist.org/study/general-conference/2022/04/41christofferson?lang=eng\n",
            "Successfully fetched https://www.churchofjesuschrist.org/study/general-conference/2022/10/19nelson?lang=eng\n"
          ]
        },
        {
          "output_type": "stream",
          "name": "stderr",
          "text": [
            "\rScraping talks in parallel:   3%|▎         | 135/4233 [00:19<11:19,  6.03it/s]"
          ]
        },
        {
          "output_type": "stream",
          "name": "stdout",
          "text": [
            "Successfully fetched https://www.churchofjesuschrist.org/study/general-conference/2022/04/13aburto?lang=eng\n",
            "Successfully fetched https://www.churchofjesuschrist.org/study/general-conference/2022/04/29cook?lang=eng\n",
            "Successfully fetched https://www.churchofjesuschrist.org/study/general-conference/2022/04/33craven?lang=eng\n"
          ]
        },
        {
          "output_type": "stream",
          "name": "stderr",
          "text": [
            "\rScraping talks in parallel:   3%|▎         | 138/4233 [00:19<10:29,  6.50it/s]"
          ]
        },
        {
          "output_type": "stream",
          "name": "stdout",
          "text": [
            "Successfully fetched https://www.churchofjesuschrist.org/study/general-conference/2022/10/51eyring?lang=eng\n",
            "Successfully fetched https://www.churchofjesuschrist.org/study/general-conference/2022/04/32porter?lang=eng\n",
            "Successfully fetched https://www.churchofjesuschrist.org/study/general-conference/2022/04/35bingham?lang=eng\n"
          ]
        },
        {
          "output_type": "stream",
          "name": "stderr",
          "text": [
            "\rScraping talks in parallel:   3%|▎         | 148/4233 [00:19<05:53, 11.57it/s]"
          ]
        },
        {
          "output_type": "stream",
          "name": "stdout",
          "text": [
            "Successfully fetched https://www.churchofjesuschrist.org/study/general-conference/2022/04/46martinez?lang=eng\n",
            "Successfully fetched https://www.churchofjesuschrist.org/study/general-conference/2022/04/54pace?lang=eng\n",
            "Successfully fetched https://www.churchofjesuschrist.org/study/general-conference/2022/04/16gavarret?lang=eng\n",
            "Successfully fetched https://www.churchofjesuschrist.org/study/general-conference/2022/04/36renlund?lang=eng\n"
          ]
        },
        {
          "output_type": "stream",
          "name": "stderr",
          "text": [
            "\rScraping talks in parallel:   4%|▎         | 150/4233 [00:20<06:51,  9.92it/s]"
          ]
        },
        {
          "output_type": "stream",
          "name": "stdout",
          "text": [
            "Successfully fetched https://www.churchofjesuschrist.org/study/general-conference/2022/04/58nelson?lang=eng\n",
            "Successfully fetched https://www.churchofjesuschrist.org/study/general-conference/2022/04/52ojediran?lang=eng\n",
            "Successfully fetched https://www.churchofjesuschrist.org/study/general-conference/2022/04/25aidukaitis?lang=eng\n",
            "Successfully fetched https://www.churchofjesuschrist.org/study/general-conference/2022/04/31oaks?lang=eng\n",
            "Successfully fetched https://www.churchofjesuschrist.org/study/general-conference/2022/04/45rasband?lang=eng\n",
            "Successfully fetched https://www.churchofjesuschrist.org/study/general-conference/2022/04/26gong?lang=eng\n",
            "Successfully fetched https://www.churchofjesuschrist.org/study/general-conference/2022/04/43stevenson?lang=eng\n",
            "Successfully fetched https://www.churchofjesuschrist.org/study/general-conference/2022/04/57uchtdorf?lang=eng\n",
            "Successfully fetched https://www.churchofjesuschrist.org/study/general-conference/2022/04/28hamilton?lang=eng\n",
            "Successfully fetched https://www.churchofjesuschrist.org/study/general-conference/2022/04/27ochoa?lang=eng\n",
            "Successfully fetched https://www.churchofjesuschrist.org/study/general-conference/2022/04/47nelson?lang=eng\n",
            "Successfully fetched https://www.churchofjesuschrist.org/study/general-conference/2022/04/53klebingat?lang=eng\n",
            "Successfully fetched https://www.churchofjesuschrist.org/study/general-conference/2022/04/21oaks?lang=eng\n",
            "Successfully fetched https://www.churchofjesuschrist.org/study/general-conference/2022/04/51oaks?lang=eng\n",
            "Successfully fetched https://www.churchofjesuschrist.org/study/general-conference/2022/04/55soares?lang=eng\n",
            "Successfully fetched https://www.churchofjesuschrist.org/study/general-conference/2022/04/56funk?lang=eng\n",
            "Successfully fetched https://www.churchofjesuschrist.org/study/general-conference/2022/04/34video?lang=eng\n",
            "Successfully fetched https://www.churchofjesuschrist.org/study/general-conference/2022/04/22larson?lang=eng\n",
            "Successfully fetched https://www.churchofjesuschrist.org/study/general-conference/2022/04/42wright?lang=eng\n",
            "Successfully fetched https://www.churchofjesuschrist.org/study/general-conference/2022/04/17kacher?lang=eng\n",
            "Successfully fetched https://www.churchofjesuschrist.org/study/general-conference/2022/04/11nelson?lang=eng\n"
          ]
        },
        {
          "output_type": "stream",
          "name": "stderr",
          "text": [
            "\rScraping talks in parallel:   4%|▎         | 152/4233 [00:24<25:28,  2.67it/s]"
          ]
        },
        {
          "output_type": "stream",
          "name": "stdout",
          "text": [
            "Successfully fetched https://www.churchofjesuschrist.org/study/general-conference/2022/04/14bednar?lang=engSuccessfully fetched https://www.churchofjesuschrist.org/study/general-conference/2022/04/saturday-morning-session?lang=eng\n",
            "\n",
            "Successfully fetched https://www.churchofjesuschrist.org/study/general-conference/2022/04/23holland?lang=eng\n"
          ]
        },
        {
          "output_type": "stream",
          "name": "stderr",
          "text": [
            "Scraping talks in parallel:   4%|▍         | 171/4233 [00:24<07:01,  9.63it/s]"
          ]
        },
        {
          "output_type": "stream",
          "name": "stdout",
          "text": [
            "Successfully fetched https://www.churchofjesuschrist.org/study/general-conference/2022/04/18eyring?lang=eng\n",
            "Successfully fetched https://www.churchofjesuschrist.org/study/general-conference/2021/10/31ballard?lang=eng\n",
            "Successfully fetched https://www.churchofjesuschrist.org/study/general-conference/2022/04/44ringwood?lang=eng\n",
            "Successfully fetched https://www.churchofjesuschrist.org/study/general-conference/2021/10/52budge?lang=eng\n",
            "Successfully fetched https://www.churchofjesuschrist.org/study/general-conference/2021/10/36kyungu?lang=engSuccessfully fetched https://www.churchofjesuschrist.org/study/general-conference/2021/10/22bednar?lang=eng\n",
            "\n",
            "Successfully fetched https://www.churchofjesuschrist.org/study/general-conference/2021/10/13cordon?lang=eng\n",
            "Successfully fetched https://www.churchofjesuschrist.org/study/general-conference/2021/10/32eubank?lang=eng\n",
            "Successfully fetched https://www.churchofjesuschrist.org/study/general-conference/2022/04/24kearon?lang=eng\n",
            "Successfully fetched https://www.churchofjesuschrist.org/study/general-conference/2021/10/56revillo?lang=eng\n",
            "Successfully fetched https://www.churchofjesuschrist.org/study/general-conference/2021/10/25kopischke?lang=eng\n",
            "Successfully fetched https://www.churchofjesuschrist.org/study/general-conference/2022/04/12ballard?lang=eng\n",
            "Successfully fetched https://www.churchofjesuschrist.org/study/general-conference/2021/10/41uchtdorf?lang=eng\n",
            "Successfully fetched https://www.churchofjesuschrist.org/study/general-conference/2021/10/34valenzuela?lang=eng\n",
            "Successfully fetched https://www.churchofjesuschrist.org/study/general-conference/2021/10/11nelson?lang=eng\n"
          ]
        },
        {
          "output_type": "stream",
          "name": "stderr",
          "text": [
            "Scraping talks in parallel:   4%|▍         | 186/4233 [00:26<07:00,  9.61it/s]"
          ]
        },
        {
          "output_type": "stream",
          "name": "stdout",
          "text": [
            "Successfully fetched https://www.churchofjesuschrist.org/study/general-conference/2021/10/59nelson?lang=engSuccessfully fetched https://www.churchofjesuschrist.org/study/general-conference/2021/10/15christofferson?lang=eng\n",
            "\n",
            "Successfully fetched https://www.churchofjesuschrist.org/study/general-conference/2021/10/53perkins?lang=eng\n",
            "Successfully fetched https://www.churchofjesuschrist.org/study/general-conference/2021/10/58andersen?lang=eng\n",
            "Successfully fetched https://www.churchofjesuschrist.org/study/general-conference/2021/10/21eyring?lang=eng\n",
            "Successfully fetched https://www.churchofjesuschrist.org/study/general-conference/2021/10/33nielson?lang=eng\n",
            "Successfully fetched https://www.churchofjesuschrist.org/study/general-conference/2021/10/28villanueva?lang=eng\n"
          ]
        },
        {
          "output_type": "stream",
          "name": "stderr",
          "text": [
            "\rScraping talks in parallel:   4%|▍         | 190/4233 [00:26<07:30,  8.98it/s]"
          ]
        },
        {
          "output_type": "stream",
          "name": "stdout",
          "text": [
            "Successfully fetched https://www.churchofjesuschrist.org/study/general-conference/2021/10/18oaks?lang=eng\n",
            "Successfully fetched https://www.churchofjesuschrist.org/study/general-conference/2021/10/43renlund?lang=eng\n",
            "Successfully fetched https://www.churchofjesuschrist.org/study/general-conference/2021/10/35wilcox?lang=eng\n",
            "Successfully fetched https://www.churchofjesuschrist.org/study/general-conference/2021/10/54dunn?lang=eng\n",
            "Successfully fetched https://www.churchofjesuschrist.org/study/general-conference/2021/10/27golden?lang=eng\n",
            "Successfully fetched https://www.churchofjesuschrist.org/study/general-conference/2021/10/57meredith?lang=eng\n"
          ]
        },
        {
          "output_type": "stream",
          "name": "stderr",
          "text": [
            "\rScraping talks in parallel:   5%|▍         | 196/4233 [00:27<08:17,  8.12it/s]"
          ]
        },
        {
          "output_type": "stream",
          "name": "stdout",
          "text": [
            "Successfully fetched https://www.churchofjesuschrist.org/study/general-conference/2021/10/12holland?lang=eng\n",
            "Successfully fetched https://www.churchofjesuschrist.org/study/general-conference/2021/10/46cook?lang=eng\n",
            "Successfully fetched https://www.churchofjesuschrist.org/study/general-conference/2021/10/saturday-morning-session?lang=eng\n",
            "Successfully fetched https://www.churchofjesuschrist.org/study/general-conference/2021/10/51gong?lang=eng\n"
          ]
        },
        {
          "output_type": "stream",
          "name": "stderr",
          "text": [
            "\rScraping talks in parallel:   5%|▍         | 203/4233 [00:27<06:42, 10.01it/s]"
          ]
        },
        {
          "output_type": "stream",
          "name": "stdout",
          "text": [
            "Successfully fetched https://www.churchofjesuschrist.org/study/general-conference/2021/10/29stevenson?lang=eng\n",
            "Successfully fetched https://www.churchofjesuschrist.org/study/general-conference/2021/10/47nelson?lang=eng\n",
            "Successfully fetched https://www.churchofjesuschrist.org/study/general-conference/2021/10/16gilbert?lang=eng\n",
            "Successfully fetched https://www.churchofjesuschrist.org/study/general-conference/2021/10/17giuffra?lang=eng\n",
            "Successfully fetched https://www.churchofjesuschrist.org/study/general-conference/2021/10/37nash?lang=eng\n",
            "Successfully fetched https://www.churchofjesuschrist.org/study/general-conference/2021/10/26rasband?lang=eng\n",
            "Successfully fetched https://www.churchofjesuschrist.org/study/general-conference/2021/04/14newman?lang=eng\n",
            "Successfully fetched https://www.churchofjesuschrist.org/study/general-conference/2021/10/44sikahema?lang=eng\n",
            "Successfully fetched https://www.churchofjesuschrist.org/study/general-conference/2021/10/55douglas?lang=eng\n",
            "Successfully fetched https://www.churchofjesuschrist.org/study/general-conference/2021/04/42aburto?lang=eng\n",
            "Successfully fetched https://www.churchofjesuschrist.org/study/general-conference/2021/04/22larson?lang=eng\n",
            "Successfully fetched https://www.churchofjesuschrist.org/study/general-conference/2021/04/17eyring?lang=eng\n",
            "Successfully fetched https://www.churchofjesuschrist.org/study/general-conference/2021/10/38eyring?lang=eng\n",
            "Successfully fetched https://www.churchofjesuschrist.org/study/general-conference/2021/04/57nelson?lang=eng\n",
            "Successfully fetched https://www.churchofjesuschrist.org/study/general-conference/2021/10/23schmeil?lang=eng\n",
            "Successfully fetched https://www.churchofjesuschrist.org/study/general-conference/2021/04/45teixeira?lang=eng\n",
            "Successfully fetched https://www.churchofjesuschrist.org/study/general-conference/2021/10/42johnson?lang=eng"
          ]
        },
        {
          "output_type": "stream",
          "name": "stderr",
          "text": [
            "\rScraping talks in parallel:   5%|▍         | 205/4233 [00:30<16:06,  4.17it/s]"
          ]
        },
        {
          "output_type": "stream",
          "name": "stdout",
          "text": [
            "\n",
            "Successfully fetched https://www.churchofjesuschrist.org/study/general-conference/2021/04/46wakolo?lang=eng\n",
            "Successfully fetched https://www.churchofjesuschrist.org/study/general-conference/2021/04/54christofferson?lang=eng\n",
            "Successfully fetched https://www.churchofjesuschrist.org/study/general-conference/2021/04/24becerra?lang=eng\n",
            "Successfully fetched https://www.churchofjesuschrist.org/study/general-conference/2021/04/43palmer?lang=eng\n",
            "Successfully fetched https://www.churchofjesuschrist.org/study/general-conference/2021/10/14soares?lang=eng\n"
          ]
        },
        {
          "output_type": "stream",
          "name": "stderr",
          "text": [
            "Scraping talks in parallel:   5%|▌         | 219/4233 [00:31<08:03,  8.30it/s]"
          ]
        },
        {
          "output_type": "stream",
          "name": "stdout",
          "text": [
            "Successfully fetched https://www.churchofjesuschrist.org/study/general-conference/2021/10/24porter?lang=eng\n",
            "Successfully fetched https://www.churchofjesuschrist.org/study/general-conference/2021/04/saturday-morning-session?lang=eng\n",
            "Successfully fetched https://www.churchofjesuschrist.org/study/general-conference/2021/04/51oaks?lang=eng\n",
            "Successfully fetched https://www.churchofjesuschrist.org/study/general-conference/2021/04/11nelson?lang=eng\n",
            "Successfully fetched https://www.churchofjesuschrist.org/study/general-conference/2021/04/52rasband?lang=eng\n"
          ]
        },
        {
          "output_type": "stream",
          "name": "stderr",
          "text": [
            "\rScraping talks in parallel:   5%|▌         | 231/4233 [00:31<05:38, 11.81it/s]"
          ]
        },
        {
          "output_type": "stream",
          "name": "stdout",
          "text": [
            "Successfully fetched https://www.churchofjesuschrist.org/study/general-conference/2021/04/27mutombo?lang=eng\n",
            "Successfully fetched https://www.churchofjesuschrist.org/study/general-conference/2021/04/56bednar?lang=eng\n",
            "Successfully fetched https://www.churchofjesuschrist.org/study/general-conference/2021/04/33nielsen?lang=eng\n",
            "Successfully fetched https://www.churchofjesuschrist.org/study/general-conference/2021/04/16gong?lang=eng\n",
            "Successfully fetched https://www.churchofjesuschrist.org/study/general-conference/2021/04/28ballard?lang=eng\n"
          ]
        },
        {
          "output_type": "stream",
          "name": "stderr",
          "text": [
            "\rScraping talks in parallel:   6%|▌         | 234/4233 [00:32<07:02,  9.46it/s]"
          ]
        },
        {
          "output_type": "stream",
          "name": "stdout",
          "text": [
            "Successfully fetched https://www.churchofjesuschrist.org/study/general-conference/2021/04/15stevenson?lang=eng\n",
            "Successfully fetched https://www.churchofjesuschrist.org/study/general-conference/2021/04/12uchtdorf?lang=eng\n",
            "Successfully fetched https://www.churchofjesuschrist.org/study/general-conference/2021/04/48teh?lang=eng\n",
            "Successfully fetched https://www.churchofjesuschrist.org/study/general-conference/2021/04/49nelson?lang=eng\n"
          ]
        },
        {
          "output_type": "stream",
          "name": "stderr",
          "text": [
            "\rScraping talks in parallel:   6%|▌         | 238/4233 [00:33<08:18,  8.01it/s]"
          ]
        },
        {
          "output_type": "stream",
          "name": "stdout",
          "text": [
            "Successfully fetched https://www.churchofjesuschrist.org/study/general-conference/2021/04/47wong?lang=eng\n",
            "Successfully fetched https://www.churchofjesuschrist.org/study/general-conference/2021/04/32corbitt?lang=eng\n",
            "Successfully fetched https://www.churchofjesuschrist.org/study/general-conference/2021/04/53dyches?lang=eng\n"
          ]
        },
        {
          "output_type": "stream",
          "name": "stderr",
          "text": [
            "Scraping talks in parallel:   6%|▌         | 243/4233 [00:33<06:46,  9.82it/s]"
          ]
        },
        {
          "output_type": "stream",
          "name": "stdout",
          "text": [
            "Successfully fetched https://www.churchofjesuschrist.org/study/general-conference/2021/04/36nelson?lang=eng\n",
            "Successfully fetched https://www.churchofjesuschrist.org/study/general-conference/2021/04/44dube?lang=eng\n",
            "Successfully fetched https://www.churchofjesuschrist.org/study/general-conference/2021/04/21oaks?lang=engSuccessfully fetched https://www.churchofjesuschrist.org/study/general-conference/2021/04/55walker?lang=eng\n",
            "\n"
          ]
        },
        {
          "output_type": "stream",
          "name": "stderr",
          "text": [
            "\rScraping talks in parallel:   6%|▌         | 245/4233 [00:33<07:45,  8.57it/s]"
          ]
        },
        {
          "output_type": "stream",
          "name": "stdout",
          "text": [
            "Successfully fetched https://www.churchofjesuschrist.org/study/general-conference/2021/04/13jones?lang=eng\n",
            "Successfully fetched https://www.churchofjesuschrist.org/study/general-conference/2021/04/25renlund?lang=eng\n"
          ]
        },
        {
          "output_type": "stream",
          "name": "stderr",
          "text": [
            "\rScraping talks in parallel:   6%|▌         | 247/4233 [00:33<07:22,  9.01it/s]"
          ]
        },
        {
          "output_type": "stream",
          "name": "stdout",
          "text": [
            "Successfully fetched https://www.churchofjesuschrist.org/study/general-conference/2021/04/31cook?lang=eng\n",
            "Successfully fetched https://www.churchofjesuschrist.org/study/general-conference/2021/04/34eyring?lang=eng\n",
            "Successfully fetched https://www.churchofjesuschrist.org/study/general-conference/2021/04/26andersen?lang=eng\n"
          ]
        },
        {
          "output_type": "stream",
          "name": "stderr",
          "text": [
            "Scraping talks in parallel:   6%|▌         | 252/4233 [00:34<08:43,  7.61it/s]"
          ]
        },
        {
          "output_type": "stream",
          "name": "stdout",
          "text": [
            "Successfully fetched https://www.churchofjesuschrist.org/study/general-conference/2020/10/58nelson?lang=eng\n",
            "Successfully fetched https://www.churchofjesuschrist.org/study/general-conference/2020/10/12bednar?lang=eng\n",
            "Successfully fetched https://www.churchofjesuschrist.org/study/general-conference/2021/04/41soares?lang=eng\n",
            "Successfully fetched https://www.churchofjesuschrist.org/study/general-conference/2021/04/23holland?lang=eng\n",
            "Successfully fetched https://www.churchofjesuschrist.org/study/general-conference/2021/04/35oaks?lang=eng\n",
            "Successfully fetched https://www.churchofjesuschrist.org/study/general-conference/2020/10/22christofferson?lang=eng\n",
            "Successfully fetched https://www.churchofjesuschrist.org/study/general-conference/2020/10/21eyring?lang=eng\n"
          ]
        },
        {
          "output_type": "stream",
          "name": "stderr",
          "text": [
            "\rScraping talks in parallel:   6%|▌         | 254/4233 [00:36<17:44,  3.74it/s]"
          ]
        },
        {
          "output_type": "stream",
          "name": "stdout",
          "text": [
            "Successfully fetched https://www.churchofjesuschrist.org/study/general-conference/2020/10/41ballard?lang=eng\n"
          ]
        },
        {
          "output_type": "stream",
          "name": "stderr",
          "text": [
            "Scraping talks in parallel:   6%|▌         | 263/4233 [00:37<10:58,  6.03it/s]"
          ]
        },
        {
          "output_type": "stream",
          "name": "stdout",
          "text": [
            "Successfully fetched https://www.churchofjesuschrist.org/study/general-conference/2020/10/54camargo?lang=eng\n",
            "Successfully fetched https://www.churchofjesuschrist.org/study/general-conference/2020/10/56johnson?lang=eng\n",
            "Successfully fetched https://www.churchofjesuschrist.org/study/general-conference/2020/10/55renlund?lang=eng\n",
            "Successfully fetched https://www.churchofjesuschrist.org/study/general-conference/2020/10/11nelson?lang=eng\n"
          ]
        },
        {
          "output_type": "stream",
          "name": "stderr",
          "text": [
            "\rScraping talks in parallel:   6%|▋         | 265/4233 [00:38<16:13,  4.08it/s]"
          ]
        },
        {
          "output_type": "stream",
          "name": "stdout",
          "text": [
            "Successfully fetched https://www.churchofjesuschrist.org/study/general-conference/2020/10/32craven?lang=eng\n",
            "Successfully fetched https://www.churchofjesuschrist.org/study/general-conference/2020/10/31eubank?lang=eng\n",
            "Successfully fetched https://www.churchofjesuschrist.org/study/general-conference/2020/10/33video?lang=eng\n"
          ]
        },
        {
          "output_type": "stream",
          "name": "stderr",
          "text": [
            "\rScraping talks in parallel:   6%|▋         | 267/4233 [00:38<17:18,  3.82it/s]"
          ]
        },
        {
          "output_type": "stream",
          "name": "stdout",
          "text": [
            "Successfully fetched https://www.churchofjesuschrist.org/study/general-conference/2020/10/52jaggi?lang=eng\n",
            "Successfully fetched https://www.churchofjesuschrist.org/study/general-conference/2020/10/37nelson?lang=eng\n"
          ]
        },
        {
          "output_type": "stream",
          "name": "stderr",
          "text": [
            "\rScraping talks in parallel:   6%|▋         | 269/4233 [00:39<21:38,  3.05it/s]"
          ]
        },
        {
          "output_type": "stream",
          "name": "stdout",
          "text": [
            "Successfully fetched https://www.churchofjesuschrist.org/study/general-conference/2020/10/43soares?lang=eng\n",
            "Successfully fetched https://www.churchofjesuschrist.org/study/general-conference/2020/10/35eyring?lang=eng\n"
          ]
        },
        {
          "output_type": "stream",
          "name": "stderr",
          "text": [
            "\rScraping talks in parallel:   6%|▋         | 270/4233 [00:40<22:43,  2.91it/s]"
          ]
        },
        {
          "output_type": "stream",
          "name": "stdout",
          "text": [
            "Successfully fetched https://www.churchofjesuschrist.org/study/general-conference/2020/10/53stevenson?lang=eng\n",
            "Successfully fetched https://www.churchofjesuschrist.org/study/general-conference/2020/10/45andersen?lang=eng\n",
            "Successfully fetched https://www.churchofjesuschrist.org/study/general-conference/2020/10/23lund?lang=eng\n",
            "Successfully fetched https://www.churchofjesuschrist.org/study/general-conference/2020/10/51eyring?lang=eng\n",
            "Successfully fetched https://www.churchofjesuschrist.org/study/general-conference/2020/10/27jackson?lang=eng\n"
          ]
        },
        {
          "output_type": "stream",
          "name": "stderr",
          "text": [
            "Scraping talks in parallel:   7%|▋         | 277/4233 [00:41<11:45,  5.61it/s]"
          ]
        },
        {
          "output_type": "stream",
          "name": "stdout",
          "text": [
            "Successfully fetched https://www.churchofjesuschrist.org/study/general-conference/2020/10/16rasband?lang=eng\n"
          ]
        },
        {
          "output_type": "stream",
          "name": "stderr",
          "text": [
            "\rScraping talks in parallel:   7%|▋         | 278/4233 [00:41<13:38,  4.83it/s]"
          ]
        },
        {
          "output_type": "stream",
          "name": "stdout",
          "text": [
            "Successfully fetched https://www.churchofjesuschrist.org/study/general-conference/2020/10/34franco?lang=eng\n",
            "Successfully fetched https://www.churchofjesuschrist.org/study/general-conference/2020/10/13whiting?lang=eng\n",
            "Successfully fetched https://www.churchofjesuschrist.org/study/general-conference/2020/10/57holland?lang=eng\n",
            "Successfully fetched https://www.churchofjesuschrist.org/study/general-conference/2020/10/42harkness?lang=eng\n",
            "Error fetching https://www.churchofjesuschrist.org/study/general-conference/2020/10/14craig?lang=eng: HTTPSConnectionPool(host='www.churchofjesuschrist.org', port=443): Max retries exceeded with url: /study/general-conference/2020/10/14craig?lang=eng (Caused by SSLError(SSLError(1, '[SSL: WRONG_VERSION_NUMBER] wrong version number (_ssl.c:2578)')))\n",
            "Successfully fetched https://www.churchofjesuschrist.org/study/general-conference/2020/10/28uchtdorf?lang=eng\n"
          ]
        },
        {
          "output_type": "stream",
          "name": "stderr",
          "text": [
            "\rScraping talks in parallel:   7%|▋         | 280/4233 [00:42<19:08,  3.44it/s]"
          ]
        },
        {
          "output_type": "stream",
          "name": "stdout",
          "text": [
            "Successfully fetched https://www.churchofjesuschrist.org/study/general-conference/2020/10/25waddell?lang=eng\n",
            "Successfully fetched https://www.churchofjesuschrist.org/study/general-conference/2020/10/24gong?lang=eng\n",
            "Successfully fetched https://www.churchofjesuschrist.org/study/general-conference/2020/04/27tai?lang=eng\n",
            "Successfully fetched https://www.churchofjesuschrist.org/study/general-conference/2020/04/46nelson?lang=eng\n",
            "Successfully fetched https://www.churchofjesuschrist.org/study/general-conference/2020/10/46nelson?lang=eng\n",
            "Successfully fetched https://www.churchofjesuschrist.org/study/general-conference/2020/10/15cook?lang=eng\n",
            "Successfully fetched https://www.churchofjesuschrist.org/study/general-conference/2020/04/17eyring?lang=eng\n",
            "Successfully fetched https://www.churchofjesuschrist.org/study/general-conference/2020/04/14jones?lang=eng\n",
            "Successfully fetched https://www.churchofjesuschrist.org/study/general-conference/2020/04/13rasband?lang=eng\n",
            "Successfully fetched https://www.churchofjesuschrist.org/study/general-conference/2020/04/26renlund?lang=eng\n",
            "Successfully fetched https://www.churchofjesuschrist.org/study/general-conference/2020/10/26holland?lang=eng\n"
          ]
        },
        {
          "output_type": "stream",
          "name": "stderr",
          "text": [
            "\rScraping talks in parallel:   7%|▋         | 285/4233 [00:44<22:48,  2.89it/s]"
          ]
        },
        {
          "output_type": "stream",
          "name": "stdout",
          "text": [
            "Successfully fetched https://www.churchofjesuschrist.org/study/general-conference/2020/10/17oaks?lang=eng\n",
            "Successfully fetched https://www.churchofjesuschrist.org/study/general-conference/2020/04/36oaks?lang=eng\n",
            "Successfully fetched https://www.churchofjesuschrist.org/study/general-conference/2020/04/saturday-morning-session?lang=eng\n",
            "Successfully fetched https://www.churchofjesuschrist.org/study/general-conference/2020/10/saturday-morning-session?lang=eng\n"
          ]
        },
        {
          "output_type": "stream",
          "name": "stderr",
          "text": [
            "\rScraping talks in parallel:   7%|▋         | 287/4233 [00:45<22:18,  2.95it/s]"
          ]
        },
        {
          "output_type": "stream",
          "name": "stdout",
          "text": [
            "Successfully fetched https://www.churchofjesuschrist.org/study/general-conference/2020/04/54uchtdorf?lang=eng\n",
            "Successfully fetched https://www.churchofjesuschrist.org/study/general-conference/2020/04/16holmes?lang=eng\n",
            "Successfully fetched https://www.churchofjesuschrist.org/study/general-conference/2020/04/44bednar?lang=eng\n",
            "Successfully fetched https://www.churchofjesuschrist.org/study/general-conference/2020/04/22jergensen?lang=eng\n",
            "Successfully fetched https://www.churchofjesuschrist.org/study/general-conference/2020/04/56christofferson?lang=eng\n",
            "Successfully fetched https://www.churchofjesuschrist.org/study/general-conference/2020/10/36oaks?lang=eng\n",
            "Successfully fetched https://www.churchofjesuschrist.org/study/general-conference/2020/04/24mccune?lang=eng\n",
            "Successfully fetched https://www.churchofjesuschrist.org/study/general-conference/2020/10/44godoy?lang=eng\n",
            "Successfully fetched https://www.churchofjesuschrist.org/study/general-conference/2020/04/45nelson?lang=eng\n"
          ]
        },
        {
          "output_type": "stream",
          "name": "stderr",
          "text": [
            "Scraping talks in parallel:   7%|▋         | 312/4233 [00:46<05:41, 11.48it/s]"
          ]
        },
        {
          "output_type": "stream",
          "name": "stdout",
          "text": [
            "Successfully fetched https://www.churchofjesuschrist.org/study/general-conference/2020/04/15andersen?lang=eng\n",
            "Successfully fetched https://www.churchofjesuschrist.org/study/general-conference/2020/04/43holland?lang=eng\n",
            "Successfully fetched https://www.churchofjesuschrist.org/study/general-conference/2020/04/25causse?lang=eng\n",
            "Successfully fetched https://www.churchofjesuschrist.org/study/general-conference/2020/04/34bingham?lang=eng\n",
            "Successfully fetched https://www.churchofjesuschrist.org/study/general-conference/2020/04/21oaks?lang=engSuccessfully fetched https://www.churchofjesuschrist.org/study/general-conference/2020/04/23soares?lang=eng\n",
            "\n",
            "Successfully fetched https://www.churchofjesuschrist.org/study/general-conference/2020/04/57nelson?lang=eng\n",
            "Successfully fetched https://www.churchofjesuschrist.org/study/general-conference/2020/04/32alvarez?lang=eng\n"
          ]
        },
        {
          "output_type": "stream",
          "name": "stderr",
          "text": [
            "\rScraping talks in parallel:   7%|▋         | 316/4233 [00:47<07:41,  8.49it/s]"
          ]
        },
        {
          "output_type": "stream",
          "name": "stdout",
          "text": [
            "Successfully fetched https://www.churchofjesuschrist.org/study/general-conference/2020/04/33petelo?lang=eng\n",
            "Successfully fetched https://www.churchofjesuschrist.org/study/general-conference/2020/04/37nelson?lang=eng\n",
            "Successfully fetched https://www.churchofjesuschrist.org/study/general-conference/2020/04/41rasband?lang=eng\n"
          ]
        },
        {
          "output_type": "stream",
          "name": "stderr",
          "text": [
            "\rScraping talks in parallel:   8%|▊         | 319/4233 [00:47<07:55,  8.24it/s]"
          ]
        },
        {
          "output_type": "stream",
          "name": "stdout",
          "text": [
            "Successfully fetched https://www.churchofjesuschrist.org/study/general-conference/2020/04/31gong?lang=eng\n",
            "Successfully fetched https://www.churchofjesuschrist.org/study/general-conference/2020/04/52cook?lang=eng\n",
            "Successfully fetched https://www.churchofjesuschrist.org/study/general-conference/2020/04/35eyring?lang=eng\n",
            "Successfully fetched https://www.churchofjesuschrist.org/study/general-conference/2020/04/11nelson?lang=eng\n",
            "Successfully fetched https://www.churchofjesuschrist.org/study/general-conference/2020/04/12ballard?lang=eng\n"
          ]
        },
        {
          "output_type": "stream",
          "name": "stderr",
          "text": [
            "\rScraping talks in parallel:   8%|▊         | 322/4233 [00:48<07:16,  8.95it/s]"
          ]
        },
        {
          "output_type": "stream",
          "name": "stdout",
          "text": [
            "Successfully fetched https://www.churchofjesuschrist.org/study/general-conference/2020/04/28stevenson?lang=eng\n",
            "Successfully fetched https://www.churchofjesuschrist.org/study/general-conference/2020/04/53gimenez?lang=eng\n"
          ]
        },
        {
          "output_type": "stream",
          "name": "stderr",
          "text": [
            "\rScraping talks in parallel:   8%|▊         | 324/4233 [00:49<11:27,  5.69it/s]"
          ]
        },
        {
          "output_type": "stream",
          "name": "stdout",
          "text": [
            "Successfully fetched https://www.churchofjesuschrist.org/study/general-conference/2020/04/55clayton?lang=engSuccessfully fetched https://www.churchofjesuschrist.org/study/general-conference/2020/04/42cordon?lang=eng\n",
            "\n"
          ]
        },
        {
          "output_type": "stream",
          "name": "stderr",
          "text": [
            "\rScraping talks in parallel:   8%|▊         | 327/4233 [00:49<11:10,  5.82it/s]"
          ]
        },
        {
          "output_type": "stream",
          "name": "stdout",
          "text": [
            "Successfully fetched https://www.churchofjesuschrist.org/study/general-conference/2020/04/51oaks?lang=eng\n",
            "Successfully fetched https://www.churchofjesuschrist.org/study/general-conference/2019/10/11holland?lang=eng\n",
            "Successfully fetched https://www.churchofjesuschrist.org/study/general-conference/2019/10/41gong?lang=eng\n"
          ]
        },
        {
          "output_type": "stream",
          "name": "stderr",
          "text": [
            "Scraping talks in parallel:   8%|▊         | 335/4233 [00:51<11:55,  5.45it/s]"
          ]
        },
        {
          "output_type": "stream",
          "name": "stdout",
          "text": [
            "Successfully fetched https://www.churchofjesuschrist.org/study/general-conference/2019/10/28alvarado?lang=eng\n",
            "Successfully fetched https://www.churchofjesuschrist.org/study/general-conference/2019/10/13owen?lang=eng\n",
            "Successfully fetched https://www.churchofjesuschrist.org/study/general-conference/2019/10/29rasband?lang=eng\n",
            "Successfully fetched https://www.churchofjesuschrist.org/study/general-conference/2019/10/52boom?lang=eng\n",
            "Successfully fetched https://www.churchofjesuschrist.org/study/general-conference/2019/10/24nelson?lang=eng\n",
            "Successfully fetched https://www.churchofjesuschrist.org/study/general-conference/2019/10/23alliaud?lang=eng\n"
          ]
        },
        {
          "output_type": "stream",
          "name": "stderr",
          "text": [
            "Scraping talks in parallel:   8%|▊         | 342/4233 [00:52<10:02,  6.46it/s]"
          ]
        },
        {
          "output_type": "stream",
          "name": "stdout",
          "text": [
            "Successfully fetched https://www.churchofjesuschrist.org/study/general-conference/2019/10/26pace?lang=eng\n",
            "Successfully fetched https://www.churchofjesuschrist.org/study/general-conference/2019/10/27budge?lang=eng\n",
            "Successfully fetched https://www.churchofjesuschrist.org/study/general-conference/2019/10/16renlund?lang=eng\n"
          ]
        },
        {
          "output_type": "stream",
          "name": "stderr",
          "text": [
            "Scraping talks in parallel:   8%|▊         | 345/4233 [00:52<10:32,  6.14it/s]"
          ]
        },
        {
          "output_type": "stream",
          "name": "stdout",
          "text": [
            "Successfully fetched https://www.churchofjesuschrist.org/study/general-conference/2019/10/44gonzalez?lang=eng\n",
            "Successfully fetched https://www.churchofjesuschrist.org/study/general-conference/2019/10/31aburto?lang=eng\n",
            "Successfully fetched https://www.churchofjesuschrist.org/study/general-conference/2019/10/34eyring?lang=eng\n",
            "Successfully fetched https://www.churchofjesuschrist.org/study/general-conference/2019/10/14christofferson?lang=eng\n"
          ]
        },
        {
          "output_type": "stream",
          "name": "stderr",
          "text": [
            "Scraping talks in parallel:   8%|▊         | 348/4233 [00:53<12:24,  5.22it/s]"
          ]
        },
        {
          "output_type": "stream",
          "name": "stdout",
          "text": [
            "Successfully fetched https://www.churchofjesuschrist.org/study/general-conference/2019/10/33cordon?lang=eng\n",
            "Successfully fetched https://www.churchofjesuschrist.org/study/general-conference/2019/10/46nelson?lang=eng\n"
          ]
        },
        {
          "output_type": "stream",
          "name": "stderr",
          "text": [
            "\rScraping talks in parallel:   8%|▊         | 349/4233 [00:53<11:49,  5.48it/s]"
          ]
        },
        {
          "output_type": "stream",
          "name": "stdout",
          "text": [
            "Successfully fetched https://www.churchofjesuschrist.org/study/general-conference/2019/10/35oaks?lang=eng\n",
            "Successfully fetched https://www.churchofjesuschrist.org/study/general-conference/2019/10/42franco?lang=eng\n"
          ]
        },
        {
          "output_type": "stream",
          "name": "stderr",
          "text": [
            "Scraping talks in parallel:   8%|▊         | 352/4233 [00:54<15:09,  4.27it/s]"
          ]
        },
        {
          "output_type": "stream",
          "name": "stdout",
          "text": [
            "Successfully fetched https://www.churchofjesuschrist.org/study/general-conference/2019/10/25cook?lang=eng\n",
            "Successfully fetched https://www.churchofjesuschrist.org/study/general-conference/2019/10/53ballard?lang=eng\n",
            "Successfully fetched https://www.churchofjesuschrist.org/study/general-conference/2019/10/32harkness?lang=eng\n",
            "Successfully fetched https://www.churchofjesuschrist.org/study/general-conference/2019/10/54johnson?lang=eng\n",
            "Successfully fetched https://www.churchofjesuschrist.org/study/general-conference/2019/10/15craig?lang=eng\n",
            "Successfully fetched https://www.churchofjesuschrist.org/study/general-conference/2019/10/saturday-morning-session?lang=eng"
          ]
        },
        {
          "output_type": "stream",
          "name": "stderr",
          "text": [
            "\rScraping talks in parallel:   8%|▊         | 354/4233 [00:55<19:40,  3.29it/s]"
          ]
        },
        {
          "output_type": "stream",
          "name": "stdout",
          "text": [
            "\n",
            "Successfully fetched https://www.churchofjesuschrist.org/study/general-conference/2019/10/51eyring?lang=eng\n"
          ]
        },
        {
          "output_type": "stream",
          "name": "stderr",
          "text": [
            "\rScraping talks in parallel:   8%|▊         | 359/4233 [00:56<13:14,  4.88it/s]"
          ]
        },
        {
          "output_type": "stream",
          "name": "stdout",
          "text": [
            "Successfully fetched https://www.churchofjesuschrist.org/study/general-conference/2019/10/21eyring?lang=eng\n",
            "Successfully fetched https://www.churchofjesuschrist.org/study/general-conference/2019/10/45stevenson?lang=eng\n"
          ]
        },
        {
          "output_type": "stream",
          "name": "stderr",
          "text": [
            "\rScraping talks in parallel:   9%|▊         | 361/4233 [00:56<11:20,  5.69it/s]"
          ]
        },
        {
          "output_type": "stream",
          "name": "stdout",
          "text": [
            "Successfully fetched https://www.churchofjesuschrist.org/study/general-conference/2019/10/57nelson?lang=eng\n",
            "Successfully fetched https://www.churchofjesuschrist.org/study/general-conference/2019/10/12vinson?lang=eng\n",
            "Successfully fetched https://www.churchofjesuschrist.org/study/general-conference/2019/10/43uchtdorf?lang=eng\n"
          ]
        },
        {
          "output_type": "stream",
          "name": "stderr",
          "text": [
            "\rScraping talks in parallel:   9%|▊         | 362/4233 [00:56<12:32,  5.14it/s]"
          ]
        },
        {
          "output_type": "stream",
          "name": "stdout",
          "text": [
            "Successfully fetched https://www.churchofjesuschrist.org/study/general-conference/2019/10/36nelson?lang=eng\n",
            "Successfully fetched https://www.churchofjesuschrist.org/study/general-conference/2019/04/46nelson?lang=eng\n",
            "Successfully fetched https://www.churchofjesuschrist.org/study/general-conference/2019/10/56andersen?lang=eng\n",
            "Successfully fetched https://www.churchofjesuschrist.org/study/general-conference/2019/10/17oaks?lang=eng\n",
            "Successfully fetched https://www.churchofjesuschrist.org/study/general-conference/2019/10/22bednar?lang=eng\n",
            "Successfully fetched https://www.churchofjesuschrist.org/study/general-conference/2019/04/11soares?lang=eng\n"
          ]
        },
        {
          "output_type": "stream",
          "name": "stderr",
          "text": [
            "\rScraping talks in parallel:   9%|▊         | 364/4233 [00:57<15:48,  4.08it/s]"
          ]
        },
        {
          "output_type": "stream",
          "name": "stdout",
          "text": [
            "Successfully fetched https://www.churchofjesuschrist.org/study/general-conference/2019/04/42eubank?lang=eng\n",
            "Successfully fetched https://www.churchofjesuschrist.org/study/general-conference/2019/04/28holland?lang=eng\n",
            "Successfully fetched https://www.churchofjesuschrist.org/study/general-conference/2019/10/55soares?lang=eng\n"
          ]
        },
        {
          "output_type": "stream",
          "name": "stderr",
          "text": [
            "Scraping talks in parallel:   9%|▉         | 373/4233 [00:58<07:26,  8.64it/s]"
          ]
        },
        {
          "output_type": "stream",
          "name": "stdout",
          "text": [
            "Successfully fetched https://www.churchofjesuschrist.org/study/general-conference/2019/04/34eyring?lang=eng\n",
            "Successfully fetched https://www.churchofjesuschrist.org/study/general-conference/2019/04/21oaks?lang=eng\n"
          ]
        },
        {
          "output_type": "stream",
          "name": "stderr",
          "text": [
            "\rScraping talks in parallel:   9%|▉         | 376/4233 [00:58<08:00,  8.02it/s]"
          ]
        },
        {
          "output_type": "stream",
          "name": "stdout",
          "text": [
            "Successfully fetched https://www.churchofjesuschrist.org/study/general-conference/2019/04/25andersen?lang=eng\n",
            "Successfully fetched https://www.churchofjesuschrist.org/study/general-conference/2019/04/16eyring?lang=eng\n",
            "Successfully fetched https://www.churchofjesuschrist.org/study/general-conference/2019/04/52villar?lang=eng\n",
            "Successfully fetched https://www.churchofjesuschrist.org/study/general-conference/2019/04/53gong?lang=eng\n",
            "Successfully fetched https://www.churchofjesuschrist.org/study/general-conference/2019/04/22jergensen?lang=eng"
          ]
        },
        {
          "output_type": "stream",
          "name": "stderr",
          "text": [
            "Scraping talks in parallel:   9%|▉         | 380/4233 [00:59<10:50,  5.93it/s]"
          ]
        },
        {
          "output_type": "stream",
          "name": "stdout",
          "text": [
            "\n",
            "Successfully fetched https://www.churchofjesuschrist.org/study/general-conference/2019/04/33clark?lang=eng\n",
            "Successfully fetched https://www.churchofjesuschrist.org/study/general-conference/2019/04/41renlund?lang=eng\n",
            "Successfully fetched https://www.churchofjesuschrist.org/study/general-conference/2019/04/57nelson?lang=eng\n",
            "Successfully fetched https://www.churchofjesuschrist.org/study/general-conference/2019/04/14uchtdorf?lang=eng\n",
            "Successfully fetched https://www.churchofjesuschrist.org/study/general-conference/2019/04/32cook?lang=eng\n",
            "Successfully fetched https://www.churchofjesuschrist.org/study/general-conference/2019/04/23ballard?lang=eng\n",
            "Successfully fetched https://www.churchofjesuschrist.org/study/general-conference/2019/04/51oaks?lang=eng\n",
            "Successfully fetched https://www.churchofjesuschrist.org/study/general-conference/2019/04/56rasband?lang=engSuccessfully fetched https://www.churchofjesuschrist.org/study/general-conference/2019/04/36nelson?lang=eng\n",
            "\n"
          ]
        },
        {
          "output_type": "stream",
          "name": "stderr",
          "text": [
            "\rScraping talks in parallel:   9%|▉         | 382/4233 [01:03<43:18,  1.48it/s]"
          ]
        },
        {
          "output_type": "stream",
          "name": "stdout",
          "text": [
            "Successfully fetched https://www.churchofjesuschrist.org/study/general-conference/2019/04/43cook?lang=eng\n",
            "Successfully fetched https://www.churchofjesuschrist.org/study/general-conference/2019/04/45callister?lang=eng\n",
            "Successfully fetched https://www.churchofjesuschrist.org/study/general-conference/2019/04/26wada?lang=eng\n",
            "Successfully fetched https://www.churchofjesuschrist.org/study/general-conference/2019/04/55mckay?lang=eng\n",
            "Successfully fetched https://www.churchofjesuschrist.org/study/general-conference/2019/04/54bednar?lang=eng\n",
            "Successfully fetched https://www.churchofjesuschrist.org/study/general-conference/2019/04/27homer?lang=eng\n",
            "Successfully fetched https://www.churchofjesuschrist.org/study/general-conference/2019/04/15waddell?lang=eng\n"
          ]
        },
        {
          "output_type": "stream",
          "name": "stderr",
          "text": [
            "\rScraping talks in parallel:   9%|▉         | 387/4233 [01:04<27:05,  2.37it/s]"
          ]
        },
        {
          "output_type": "stream",
          "name": "stdout",
          "text": [
            "Successfully fetched https://www.churchofjesuschrist.org/study/general-conference/2019/04/12craven?lang=eng\n",
            "Successfully fetched https://www.churchofjesuschrist.org/study/general-conference/2019/04/44christofferson?lang=eng\n"
          ]
        },
        {
          "output_type": "stream",
          "name": "stderr",
          "text": [
            "\rScraping talks in parallel:   9%|▉         | 391/4233 [01:05<20:02,  3.20it/s]"
          ]
        },
        {
          "output_type": "stream",
          "name": "stdout",
          "text": [
            "Successfully fetched https://www.churchofjesuschrist.org/study/general-conference/2019/04/31stevenson?lang=eng\n",
            "Successfully fetched https://www.churchofjesuschrist.org/study/general-conference/2019/04/24held?lang=eng\n"
          ]
        },
        {
          "output_type": "stream",
          "name": "stderr",
          "text": [
            "\rScraping talks in parallel:   9%|▉         | 401/4233 [01:05<09:41,  6.59it/s]"
          ]
        },
        {
          "output_type": "stream",
          "name": "stdout",
          "text": [
            "Successfully fetched https://www.churchofjesuschrist.org/study/general-conference/2019/04/13hales?lang=eng\n",
            "Successfully fetched https://www.churchofjesuschrist.org/study/general-conference/2019/04/35oaks?lang=eng\n",
            "Successfully fetched https://www.churchofjesuschrist.org/study/general-conference/2018/10/becoming-exemplary-latter-day-saints?lang=eng\n",
            "Successfully fetched https://www.churchofjesuschrist.org/study/general-conference/2018/10/the-ministry-of-reconciliation?lang=eng\n",
            "Successfully fetched https://www.churchofjesuschrist.org/study/general-conference/2018/10/all-must-take-upon-them-the-name-given-of-the-father?lang=eng\n",
            "Successfully fetched https://www.churchofjesuschrist.org/study/general-conference/2018/10/opening-remarks?lang=eng\n",
            "Successfully fetched https://www.churchofjesuschrist.org/study/general-conference/2018/10/deep-and-lasting-conversion-to-heavenly-father-and-the-lord-jesus-christ?lang=eng\n",
            "Successfully fetched https://www.churchofjesuschrist.org/study/general-conference/2018/10/the-joy-of-unselfish-service?lang=eng\n",
            "Successfully fetched https://www.churchofjesuschrist.org/study/general-conference/2018/10/becoming-a-shepherd?lang=eng\n",
            "Successfully fetched https://www.churchofjesuschrist.org/study/general-conference/2018/10/the-father?lang=eng\n",
            "Successfully fetched https://www.churchofjesuschrist.org/study/general-conference/2018/10/be-not-troubled?lang=eng\n",
            "Successfully fetched https://www.churchofjesuschrist.org/study/general-conference/2018/10/laying-the-foundation-of-a-great-work?lang=eng\n",
            "Successfully fetched https://www.churchofjesuschrist.org/study/general-conference/2018/10/try-try-try?lang=eng\n",
            "Successfully fetched https://www.churchofjesuschrist.org/study/general-conference/2018/10/for-him?lang=eng\n",
            "Successfully fetched https://www.churchofjesuschrist.org/study/general-conference/2018/10/our-campfire-of-faith?lang=eng\n",
            "Successfully fetched https://www.churchofjesuschrist.org/study/general-conference/2018/10/one-in-christ?lang=eng\n",
            "Successfully fetched https://www.churchofjesuschrist.org/study/general-conference/2019/04/saturday-morning-session?lang=eng\n",
            "Successfully fetched https://www.churchofjesuschrist.org/study/general-conference/2018/10/lift-up-your-head-and-rejoice?lang=eng\n"
          ]
        },
        {
          "output_type": "stream",
          "name": "stderr",
          "text": [
            "Scraping talks in parallel:  10%|▉         | 413/4233 [01:07<08:34,  7.43it/s]"
          ]
        },
        {
          "output_type": "stream",
          "name": "stdout",
          "text": [
            "Successfully fetched https://www.churchofjesuschrist.org/study/general-conference/2018/10/firm-and-steadfast-in-the-faith-of-christ?lang=eng\n",
            "Successfully fetched https://www.churchofjesuschrist.org/study/general-conference/2018/10/gather-together-in-one-all-things-in-christ?lang=eng\n",
            "Successfully fetched https://www.churchofjesuschrist.org/study/general-conference/2018/10/truth-and-the-plan?lang=eng\n"
          ]
        },
        {
          "output_type": "stream",
          "name": "stderr",
          "text": [
            "\rScraping talks in parallel:  10%|▉         | 417/4233 [01:07<07:52,  8.08it/s]"
          ]
        },
        {
          "output_type": "stream",
          "name": "stdout",
          "text": [
            "Successfully fetched https://www.churchofjesuschrist.org/study/general-conference/2018/10/women-and-gospel-learning-in-the-home?lang=eng\n",
            "Successfully fetched https://www.churchofjesuschrist.org/study/general-conference/2018/10/wounded?lang=eng\n",
            "Successfully fetched https://www.churchofjesuschrist.org/study/general-conference/2018/10/the-vision-of-the-redemption-of-the-dead?lang=eng\n"
          ]
        },
        {
          "output_type": "stream",
          "name": "stderr",
          "text": [
            "\rScraping talks in parallel:  10%|▉         | 421/4233 [01:07<07:23,  8.60it/s]"
          ]
        },
        {
          "output_type": "stream",
          "name": "stdout",
          "text": [
            "Successfully fetched https://www.churchofjesuschrist.org/study/general-conference/2018/10/taking-upon-ourselves-the-name-of-jesus-christ?lang=engSuccessfully fetched https://www.churchofjesuschrist.org/study/general-conference/2018/10/the-role-of-the-book-of-mormon-in-conversion?lang=eng\n",
            "\n",
            "Successfully fetched https://www.churchofjesuschrist.org/study/general-conference/2018/10/now-is-the-time?lang=eng\n"
          ]
        },
        {
          "output_type": "stream",
          "name": "stderr",
          "text": [
            "\rScraping talks in parallel:  10%|█         | 424/4233 [01:08<06:43,  9.43it/s]"
          ]
        },
        {
          "output_type": "stream",
          "name": "stdout",
          "text": [
            "Successfully fetched https://www.churchofjesuschrist.org/study/general-conference/2018/10/shepherding-souls?lang=eng\n",
            "Successfully fetched https://www.churchofjesuschrist.org/study/general-conference/2018/10/believe-love-do?lang=eng\n",
            "Successfully fetched https://www.churchofjesuschrist.org/study/general-conference/2018/10/wilt-thou-be-made-whole?lang=eng\n"
          ]
        },
        {
          "output_type": "stream",
          "name": "stderr",
          "text": [
            "\rScraping talks in parallel:  10%|█         | 427/4233 [01:08<06:53,  9.22it/s]"
          ]
        },
        {
          "output_type": "stream",
          "name": "stdout",
          "text": [
            "Successfully fetched https://www.churchofjesuschrist.org/study/general-conference/2018/10/sisters-participation-in-the-gathering-of-israel?lang=eng\n",
            "Successfully fetched https://www.churchofjesuschrist.org/study/general-conference/2018/10/come-listen-to-a-prophets-voice?lang=eng\n",
            "Successfully fetched https://www.churchofjesuschrist.org/study/general-conference/2018/10/choose-you-this-day?lang=eng\n",
            "Successfully fetched https://www.churchofjesuschrist.org/study/general-conference/2018/10/parents-and-children?lang=eng\n"
          ]
        },
        {
          "output_type": "stream",
          "name": "stderr",
          "text": [
            "\rScraping talks in parallel:  10%|█         | 429/4233 [01:08<07:55,  8.00it/s]"
          ]
        },
        {
          "output_type": "stream",
          "name": "stdout",
          "text": [
            "Successfully fetched https://www.churchofjesuschrist.org/study/general-conference/2018/10/the-sustaining-of-church-officers?lang=eng\n",
            "Successfully fetched https://www.churchofjesuschrist.org/study/general-conference/2018/10/saturday-morning-session?lang=eng\n",
            "Successfully fetched https://www.churchofjesuschrist.org/study/general-conference/2018/10/divine-discontent?lang=eng\n"
          ]
        },
        {
          "output_type": "stream",
          "name": "stderr",
          "text": [
            "\rScraping talks in parallel:  10%|█         | 431/4233 [01:09<09:13,  6.87it/s]"
          ]
        },
        {
          "output_type": "stream",
          "name": "stdout",
          "text": [
            "Successfully fetched https://www.churchofjesuschrist.org/study/general-conference/2018/04/saving-ordinances-will-bring-us-marvelous-light?lang=eng\n",
            "Successfully fetched https://www.churchofjesuschrist.org/study/general-conference/2018/04/he-that-shall-endure-unto-the-end-the-same-shall-be-saved?lang=eng\n",
            "Successfully fetched https://www.churchofjesuschrist.org/study/general-conference/2018/10/the-correct-name-of-the-church?lang=eng\n",
            "Successfully fetched https://www.churchofjesuschrist.org/study/general-conference/2018/04/revelation-for-the-church-revelation-for-our-lives?lang=eng\n",
            "Successfully fetched https://www.churchofjesuschrist.org/study/general-conference/2018/04/prepare-to-meet-god?lang=eng\n",
            "Successfully fetched https://www.churchofjesuschrist.org/study/general-conference/2018/04/precious-gifts-from-god?lang=eng\n"
          ]
        },
        {
          "output_type": "stream",
          "name": "stderr",
          "text": [
            "\rScraping talks in parallel:  10%|█         | 438/4233 [01:09<07:28,  8.47it/s]"
          ]
        },
        {
          "output_type": "stream",
          "name": "stdout",
          "text": [
            "Successfully fetched https://www.churchofjesuschrist.org/study/general-conference/2018/04/saturday-morning-session?lang=eng\n",
            "Successfully fetched https://www.churchofjesuschrist.org/study/general-conference/2018/04/small-and-simple-things?lang=eng\n",
            "Successfully fetched https://www.churchofjesuschrist.org/study/general-conference/2018/04/the-heart-of-a-prophet?lang=eng\n",
            "Successfully fetched https://www.churchofjesuschrist.org/study/general-conference/2018/04/take-the-holy-spirit-as-your-guide?lang=eng\n"
          ]
        },
        {
          "output_type": "stream",
          "name": "stderr",
          "text": [
            "Scraping talks in parallel:  10%|█         | 442/4233 [01:10<06:42,  9.41it/s]"
          ]
        },
        {
          "output_type": "stream",
          "name": "stdout",
          "text": [
            "Successfully fetched https://www.churchofjesuschrist.org/study/general-conference/2018/04/one-more-day?lang=engSuccessfully fetched https://www.churchofjesuschrist.org/study/general-conference/2018/04/it-is-all-about-people?lang=eng\n",
            "\n",
            "Successfully fetched https://www.churchofjesuschrist.org/study/general-conference/2018/04/with-one-accord?lang=eng\n"
          ]
        },
        {
          "output_type": "stream",
          "name": "stderr",
          "text": [
            "\rScraping talks in parallel:  10%|█         | 444/4233 [01:10<07:04,  8.92it/s]"
          ]
        },
        {
          "output_type": "stream",
          "name": "stdout",
          "text": [
            "Successfully fetched https://www.churchofjesuschrist.org/study/general-conference/2018/04/until-seventy-times-seven?lang=eng\n",
            "Successfully fetched https://www.churchofjesuschrist.org/study/general-conference/2018/04/meek-and-lowly-of-heart?lang=eng\n",
            "Successfully fetched https://www.churchofjesuschrist.org/study/general-conference/2018/04/the-elders-quorum?lang=eng\n",
            "Successfully fetched https://www.churchofjesuschrist.org/study/general-conference/2018/04/be-with-and-strengthen-them?lang=eng\n"
          ]
        },
        {
          "output_type": "stream",
          "name": "stderr",
          "text": [
            "Scraping talks in parallel:  11%|█         | 451/4233 [01:11<06:26,  9.79it/s]"
          ]
        },
        {
          "output_type": "stream",
          "name": "stdout",
          "text": [
            "Successfully fetched https://www.churchofjesuschrist.org/study/general-conference/2018/04/behold-the-man?lang=eng\n",
            "Successfully fetched https://www.churchofjesuschrist.org/study/general-conference/2018/04/what-every-aaronic-priesthood-holder-needs-to-understand?lang=eng\n",
            "Successfully fetched https://www.churchofjesuschrist.org/study/general-conference/2018/04/the-prophet-of-god?lang=engSuccessfully fetched https://www.churchofjesuschrist.org/study/general-conference/2018/04/the-powers-of-the-priesthood?lang=eng\n",
            "\n"
          ]
        },
        {
          "output_type": "stream",
          "name": "stderr",
          "text": [
            "\rScraping talks in parallel:  11%|█         | 453/4233 [01:11<06:47,  9.28it/s]"
          ]
        },
        {
          "output_type": "stream",
          "name": "stdout",
          "text": [
            "Successfully fetched https://www.churchofjesuschrist.org/study/general-conference/2018/04/church-auditing-department-report-2017?lang=eng\n",
            "Successfully fetched https://www.churchofjesuschrist.org/study/general-conference/2018/04/am-i-a-child-of-god?lang=eng\n",
            "Successfully fetched https://www.churchofjesuschrist.org/study/general-conference/2018/04/prophets-speak-by-the-power-of-the-holy-spirit?lang=eng\n",
            "Successfully fetched https://www.churchofjesuschrist.org/study/general-conference/2018/04/even-as-christ-forgives-you-so-also-do-ye?lang=engSuccessfully fetched https://www.churchofjesuschrist.org/study/general-conference/2018/04/inspired-ministering?lang=eng\n",
            "\n",
            "Successfully fetched https://www.churchofjesuschrist.org/study/general-conference/2018/04/christ-the-lord-is-risen-today?lang=eng\n",
            "Successfully fetched https://www.churchofjesuschrist.org/study/general-conference/2018/04/family-history-and-temple-work-sealing-and-healing?lang=eng\n"
          ]
        },
        {
          "output_type": "stream",
          "name": "stderr",
          "text": [
            "\rScraping talks in parallel:  11%|█         | 455/4233 [01:12<14:48,  4.25it/s]"
          ]
        },
        {
          "output_type": "stream",
          "name": "stdout",
          "text": [
            "Successfully fetched https://www.churchofjesuschrist.org/study/general-conference/2018/04/pure-love-the-true-sign-of-every-true-disciple-of-jesus-christ?lang=eng\n",
            "Successfully fetched https://www.churchofjesuschrist.org/study/general-conference/2018/04/teaching-in-the-home-a-joyful-and-sacred-responsibility?lang=eng\n",
            "Successfully fetched https://www.churchofjesuschrist.org/study/general-conference/2018/04/young-women-in-the-work?lang=eng\n"
          ]
        },
        {
          "output_type": "stream",
          "name": "stderr",
          "text": [
            "\rScraping talks in parallel:  11%|█         | 457/4233 [01:13<13:54,  4.53it/s]"
          ]
        },
        {
          "output_type": "stream",
          "name": "stdout",
          "text": [
            "Successfully fetched https://www.churchofjesuschrist.org/study/general-conference/2018/04/his-spirit-to-be-with-you?lang=eng\n"
          ]
        },
        {
          "output_type": "stream",
          "name": "stderr",
          "text": [
            "\rScraping talks in parallel:  11%|█         | 460/4233 [01:13<10:46,  5.84it/s]"
          ]
        },
        {
          "output_type": "stream",
          "name": "stdout",
          "text": [
            "Successfully fetched https://www.churchofjesuschrist.org/study/general-conference/2018/04/the-sustaining-of-church-officers?lang=eng\n"
          ]
        },
        {
          "output_type": "stream",
          "name": "stderr",
          "text": [
            "\rScraping talks in parallel:  11%|█         | 465/4233 [01:13<08:11,  7.66it/s]"
          ]
        },
        {
          "output_type": "stream",
          "name": "stdout",
          "text": [
            "Successfully fetched https://www.churchofjesuschrist.org/study/general-conference/2018/04/behold-a-royal-army?lang=eng\n",
            "Successfully fetched https://www.churchofjesuschrist.org/study/general-conference/2018/04/let-us-all-press-on?lang=eng\n",
            "Successfully fetched https://www.churchofjesuschrist.org/study/general-conference/2018/04/ministering-with-the-power-and-authority-of-god?lang=eng\n"
          ]
        },
        {
          "output_type": "stream",
          "name": "stderr",
          "text": [
            "Scraping talks in parallel:  11%|█         | 470/4233 [01:14<08:13,  7.62it/s]"
          ]
        },
        {
          "output_type": "stream",
          "name": "stdout",
          "text": [
            "Successfully fetched https://www.churchofjesuschrist.org/study/general-conference/2018/04/solemn-assembly?lang=eng\n",
            "Successfully fetched https://www.churchofjesuschrist.org/study/general-conference/2018/04/introductory-remarks?lang=eng\n",
            "Successfully fetched https://www.churchofjesuschrist.org/study/general-conference/2018/04/ministering?lang=eng\n",
            "Successfully fetched https://www.churchofjesuschrist.org/study/general-conference/2018/04/ministering-as-the-savior-does?lang=eng\n"
          ]
        },
        {
          "output_type": "stream",
          "name": "stderr",
          "text": [
            "\rScraping talks in parallel:  11%|█         | 472/4233 [01:15<08:39,  7.24it/s]"
          ]
        },
        {
          "output_type": "stream",
          "name": "stdout",
          "text": [
            "Successfully fetched https://www.churchofjesuschrist.org/study/general-conference/2017/10/the-lord-leads-his-church?lang=eng\n",
            "Successfully fetched https://www.churchofjesuschrist.org/study/general-conference/2017/10/exceeding-great-and-precious-promises?lang=eng\n",
            "Successfully fetched https://www.churchofjesuschrist.org/study/general-conference/2017/10/the-plan-and-the-proclamation?lang=eng\n",
            "Successfully fetched https://www.churchofjesuschrist.org/study/general-conference/2017/10/spiritual-eclipse?lang=eng\n",
            "Successfully fetched https://www.churchofjesuschrist.org/study/general-conference/2017/10/value-beyond-measure?lang=eng\n",
            "Successfully fetched https://www.churchofjesuschrist.org/study/general-conference/2017/10/fear-not-to-do-good?lang=eng\n",
            "Successfully fetched https://www.churchofjesuschrist.org/study/general-conference/2017/10/repentance-is-always-positive?lang=eng\n",
            "Successfully fetched https://www.churchofjesuschrist.org/study/general-conference/2017/10/turn-on-your-light?lang=eng\n",
            "Successfully fetched https://www.churchofjesuschrist.org/study/general-conference/2017/10/has-the-day-of-miracles-ceased?lang=eng\n",
            "Successfully fetched https://www.churchofjesuschrist.org/study/general-conference/2017/10/be-ye-therefore-perfect-eventually?lang=eng\n"
          ]
        },
        {
          "output_type": "stream",
          "name": "stderr",
          "text": [
            "Scraping talks in parallel:  11%|█▏        | 486/4233 [01:16<07:38,  8.16it/s]"
          ]
        },
        {
          "output_type": "stream",
          "name": "stdout",
          "text": [
            "Successfully fetched https://www.churchofjesuschrist.org/study/general-conference/2017/10/the-trek-continues?lang=eng\n",
            "Successfully fetched https://www.churchofjesuschrist.org/study/general-conference/2017/10/a-yearning-for-home?lang=eng\n",
            "Successfully fetched https://www.churchofjesuschrist.org/study/general-conference/2017/10/the-truth-of-all-things?lang=eng\n",
            "Successfully fetched https://www.churchofjesuschrist.org/study/general-conference/2017/10/by-divine-design?lang=eng\n",
            "Successfully fetched https://www.churchofjesuschrist.org/study/general-conference/2017/10/i-have-a-work-for-thee?lang=eng\n",
            "Successfully fetched https://www.churchofjesuschrist.org/study/general-conference/2017/10/bearers-of-heavenly-light?lang=eng\n",
            "Successfully fetched https://www.churchofjesuschrist.org/study/general-conference/2017/10/the-heart-of-the-widow?lang=eng\n"
          ]
        },
        {
          "output_type": "stream",
          "name": "stderr",
          "text": [
            "\rScraping talks in parallel:  12%|█▏        | 489/4233 [01:18<12:04,  5.16it/s]"
          ]
        },
        {
          "output_type": "stream",
          "name": "stdout",
          "text": [
            "Successfully fetched https://www.churchofjesuschrist.org/study/general-conference/2017/10/the-living-bread-which-came-down-from-heaven?lang=eng\n",
            "Successfully fetched https://www.churchofjesuschrist.org/study/general-conference/2017/10/three-sisters?lang=eng\n",
            "Successfully fetched https://www.churchofjesuschrist.org/study/general-conference/2017/10/seek-ye-out-of-the-best-books?lang=eng\n",
            "Successfully fetched https://www.churchofjesuschrist.org/study/general-conference/2017/10/the-book-of-mormon-what-would-your-life-be-like-without-it?lang=eng\n",
            "Successfully fetched https://www.churchofjesuschrist.org/study/general-conference/2017/10/love-one-another-as-he-has-loved-us?lang=eng\n",
            "Successfully fetched https://www.churchofjesuschrist.org/study/general-conference/2017/10/earning-the-trust-of-the-lord-and-your-family?lang=eng\n"
          ]
        },
        {
          "output_type": "stream",
          "name": "stderr",
          "text": [
            "\rScraping talks in parallel:  12%|█▏        | 495/4233 [01:19<10:45,  5.79it/s]"
          ]
        },
        {
          "output_type": "stream",
          "name": "stdout",
          "text": [
            "Successfully fetched https://www.churchofjesuschrist.org/study/general-conference/2017/10/turn-to-the-lord?lang=eng\n",
            "Successfully fetched https://www.churchofjesuschrist.org/study/general-conference/2017/10/the-voice-of-the-lord?lang=eng\n"
          ]
        },
        {
          "output_type": "stream",
          "name": "stderr",
          "text": [
            "\rScraping talks in parallel:  12%|█▏        | 499/4233 [01:19<09:45,  6.38it/s]"
          ]
        },
        {
          "output_type": "stream",
          "name": "stdout",
          "text": [
            "Successfully fetched https://www.churchofjesuschrist.org/study/general-conference/2017/10/gods-compelling-witness-the-book-of-mormon?lang=eng\n",
            "Successfully fetched https://www.churchofjesuschrist.org/study/general-conference/2017/10/that-your-joy-might-be-full?lang=eng\n",
            "Successfully fetched https://www.churchofjesuschrist.org/study/general-conference/2017/10/the-priesthood-and-the-saviors-atoning-power?lang=eng\n",
            "Successfully fetched https://www.churchofjesuschrist.org/study/general-conference/2017/10/womens-session?lang=eng\n",
            "Successfully fetched https://www.churchofjesuschrist.org/study/general-conference/2017/10/abiding-in-god-and-repairing-the-breach?lang=eng\n",
            "Successfully fetched https://www.churchofjesuschrist.org/study/general-conference/2017/10/the-sustaining-of-church-officers?lang=eng\n",
            "Successfully fetched https://www.churchofjesuschrist.org/study/general-conference/2017/04/foundations-of-faith?lang=eng\n",
            "Successfully fetched https://www.churchofjesuschrist.org/study/general-conference/2017/10/do-we-trust-him-hard-is-good?lang=eng\n",
            "Successfully fetched https://www.churchofjesuschrist.org/study/general-conference/2017/10/lord-wilt-thou-cause-that-my-eyes-may-be-opened?lang=eng\n",
            "Successfully fetched https://www.churchofjesuschrist.org/study/general-conference/2017/10/apart-but-still-one?lang=eng\n",
            "Successfully fetched https://www.churchofjesuschrist.org/study/general-conference/2017/10/essential-truths-our-need-to-act?lang=eng\n",
            "Successfully fetched https://www.churchofjesuschrist.org/study/general-conference/2017/10/the-needs-before-us?lang=eng\n",
            "Successfully fetched https://www.churchofjesuschrist.org/study/general-conference/2017/10/the-eternal-everyday?lang=eng\n"
          ]
        },
        {
          "output_type": "stream",
          "name": "stderr",
          "text": [
            "Scraping talks in parallel:  12%|█▏        | 508/4233 [01:21<09:41,  6.41it/s]"
          ]
        },
        {
          "output_type": "stream",
          "name": "stdout",
          "text": [
            "Successfully fetched https://www.churchofjesuschrist.org/study/general-conference/2017/04/songs-sung-and-unsung?lang=eng\n",
            "Successfully fetched https://www.churchofjesuschrist.org/study/general-conference/2017/04/kindness-charity-and-love?lang=eng\n",
            "Successfully fetched https://www.churchofjesuschrist.org/study/general-conference/2017/04/our-fathers-glorious-plan?lang=eng\n"
          ]
        },
        {
          "output_type": "stream",
          "name": "stderr",
          "text": [
            "\rScraping talks in parallel:  12%|█▏        | 514/4233 [01:21<06:48,  9.11it/s]"
          ]
        },
        {
          "output_type": "stream",
          "name": "stdout",
          "text": [
            "Successfully fetched https://www.churchofjesuschrist.org/study/general-conference/2017/04/the-power-of-the-book-of-mormon?lang=eng\n",
            "Successfully fetched https://www.churchofjesuschrist.org/study/general-conference/2017/04/my-peace-i-leave-with-you?lang=eng\n",
            "Successfully fetched https://www.churchofjesuschrist.org/study/general-conference/2017/04/becoming-a-disciple-of-our-lord-jesus-christ?lang=eng\n"
          ]
        },
        {
          "output_type": "stream",
          "name": "stderr",
          "text": [
            "\rScraping talks in parallel:  12%|█▏        | 517/4233 [01:21<06:59,  8.86it/s]"
          ]
        },
        {
          "output_type": "stream",
          "name": "stdout",
          "text": [
            "Successfully fetched https://www.churchofjesuschrist.org/study/general-conference/2017/04/his-daily-guiding-hand?lang=eng\n",
            "Successfully fetched https://www.churchofjesuschrist.org/study/general-conference/2017/04/the-sustaining-of-church-officers?lang=eng\n",
            "Successfully fetched https://www.churchofjesuschrist.org/study/general-conference/2017/04/gathering-the-family-of-god?lang=eng\n",
            "Successfully fetched https://www.churchofjesuschrist.org/study/general-conference/2017/04/how-does-the-holy-ghost-help-you?lang=eng\n",
            "Successfully fetched https://www.churchofjesuschrist.org/study/general-conference/2017/04/prepare-the-way?lang=eng\n",
            "Successfully fetched https://www.churchofjesuschrist.org/study/general-conference/2017/04/the-voice-of-warning?lang=engSuccessfully fetched https://www.churchofjesuschrist.org/study/general-conference/2017/04/certain-women?lang=eng\n",
            "\n",
            "Successfully fetched https://www.churchofjesuschrist.org/study/general-conference/2017/04/perfect-love-casteth-out-fear?lang=eng"
          ]
        },
        {
          "output_type": "stream",
          "name": "stderr",
          "text": [
            "Scraping talks in parallel:  12%|█▏        | 525/4233 [01:22<06:09, 10.03it/s]"
          ]
        },
        {
          "output_type": "stream",
          "name": "stdout",
          "text": [
            "\n",
            "Successfully fetched https://www.churchofjesuschrist.org/study/general-conference/2017/04/our-good-shepherd?lang=eng\n",
            "Successfully fetched https://www.churchofjesuschrist.org/study/general-conference/2017/04/return-and-receive?lang=eng\n"
          ]
        },
        {
          "output_type": "stream",
          "name": "stderr",
          "text": [
            "\rScraping talks in parallel:  12%|█▏        | 527/4233 [01:23<08:47,  7.03it/s]"
          ]
        },
        {
          "output_type": "stream",
          "name": "stdout",
          "text": [
            "Successfully fetched https://www.churchofjesuschrist.org/study/general-conference/2017/04/let-the-holy-spirit-guide?lang=eng\n",
            "Successfully fetched https://www.churchofjesuschrist.org/study/general-conference/2017/04/the-beauty-of-holiness?lang=eng\n",
            "Successfully fetched https://www.churchofjesuschrist.org/study/general-conference/2017/04/walk-with-me?lang=eng\n",
            "Successfully fetched https://www.churchofjesuschrist.org/study/general-conference/2017/04/to-the-friends-and-investigators-of-the-church?lang=eng\n",
            "Successfully fetched https://www.churchofjesuschrist.org/study/general-conference/2017/04/stand-up-inside-and-be-all-in?lang=eng\n",
            "Successfully fetched https://www.churchofjesuschrist.org/study/general-conference/2017/04/then-jesus-beholding-him-loved-him?lang=eng\n",
            "Successfully fetched https://www.churchofjesuschrist.org/study/general-conference/2017/04/the-language-of-the-gospel?lang=eng\n"
          ]
        },
        {
          "output_type": "stream",
          "name": "stderr",
          "text": [
            "Scraping talks in parallel:  13%|█▎        | 532/4233 [01:23<08:33,  7.21it/s]"
          ]
        },
        {
          "output_type": "stream",
          "name": "stdout",
          "text": [
            "Successfully fetched https://www.churchofjesuschrist.org/study/general-conference/2017/04/confide-in-god-unwaveringly?lang=eng\n",
            "Successfully fetched https://www.churchofjesuschrist.org/study/general-conference/2017/04/drawing-the-power-of-jesus-christ-into-our-lives?lang=eng\n"
          ]
        },
        {
          "output_type": "stream",
          "name": "stderr",
          "text": [
            "\rScraping talks in parallel:  13%|█▎        | 539/4233 [01:24<05:16, 11.68it/s]"
          ]
        },
        {
          "output_type": "stream",
          "name": "stdout",
          "text": [
            "Successfully fetched https://www.churchofjesuschrist.org/study/general-conference/2017/04/and-this-is-life-eternal?lang=engSuccessfully fetched https://www.churchofjesuschrist.org/study/general-conference/2017/04/womens-session?lang=eng\n",
            "\n",
            "Successfully fetched https://www.churchofjesuschrist.org/study/general-conference/2017/04/dont-look-around-look-up?lang=eng\n"
          ]
        },
        {
          "output_type": "stream",
          "name": "stderr",
          "text": [
            "\rScraping talks in parallel:  13%|█▎        | 541/4233 [01:24<06:16,  9.81it/s]"
          ]
        },
        {
          "output_type": "stream",
          "name": "stdout",
          "text": [
            "Successfully fetched https://www.churchofjesuschrist.org/study/general-conference/2017/04/trust-in-the-lord-and-lean-not?lang=engSuccessfully fetched https://www.churchofjesuschrist.org/study/general-conference/2017/04/the-greatest-among-you?lang=eng\n",
            "\n",
            "Successfully fetched https://www.churchofjesuschrist.org/study/general-conference/2017/04/whatsoever-he-saith-unto-you-do-it?lang=eng\n",
            "Successfully fetched https://www.churchofjesuschrist.org/study/general-conference/2017/04/brighter-and-brighter-until-the-perfect-day?lang=eng\n",
            "Successfully fetched https://www.churchofjesuschrist.org/study/general-conference/2017/04/statistical-report-2016?lang=eng\n",
            "Successfully fetched https://www.churchofjesuschrist.org/study/general-conference/2017/04/a-sin-resistant-generation?lang=eng\n",
            "Successfully fetched https://www.churchofjesuschrist.org/study/general-conference/2017/04/that-our-light-may-be-a-standard-for-the-nations?lang=eng\n",
            "Successfully fetched https://www.churchofjesuschrist.org/study/general-conference/2017/04/church-auditing-department-report-2016?lang=eng\n",
            "Successfully fetched https://www.churchofjesuschrist.org/study/general-conference/2017/04/overcoming-the-world?lang=eng\n",
            "Successfully fetched https://www.churchofjesuschrist.org/study/general-conference/2017/04/called-to-the-work?lang=eng\n"
          ]
        },
        {
          "output_type": "stream",
          "name": "stderr",
          "text": [
            "\rScraping talks in parallel:  13%|█▎        | 543/4233 [01:25<11:26,  5.37it/s]"
          ]
        },
        {
          "output_type": "stream",
          "name": "stdout",
          "text": [
            "Successfully fetched https://www.churchofjesuschrist.org/study/general-conference/2016/10/learn-from-alma-and-amulek?lang=eng\n"
          ]
        },
        {
          "output_type": "stream",
          "name": "stderr",
          "text": [
            "\rScraping talks in parallel:  13%|█▎        | 547/4233 [01:26<11:28,  5.36it/s]"
          ]
        },
        {
          "output_type": "stream",
          "name": "stdout",
          "text": [
            "Successfully fetched https://www.churchofjesuschrist.org/study/general-conference/2016/10/a-witness-of-god?lang=eng\n",
            "Successfully fetched https://www.churchofjesuschrist.org/study/general-conference/2016/10/rise-up-in-strength-sisters-in-zion?lang=eng\n",
            "Successfully fetched https://www.churchofjesuschrist.org/study/general-conference/2016/10/valiant-in-the-testimony-of-jesus?lang=eng\n",
            "Successfully fetched https://www.churchofjesuschrist.org/study/general-conference/2016/10/the-master-healer?lang=eng\n"
          ]
        },
        {
          "output_type": "stream",
          "name": "stderr",
          "text": [
            "\rScraping talks in parallel:  13%|█▎        | 552/4233 [01:26<08:05,  7.59it/s]"
          ]
        },
        {
          "output_type": "stream",
          "name": "stdout",
          "text": [
            "Successfully fetched https://www.churchofjesuschrist.org/study/general-conference/2016/10/be-ambitious-for-christ?lang=eng\n",
            "Successfully fetched https://www.churchofjesuschrist.org/study/general-conference/2016/10/the-doctrine-of-christ?lang=eng\n",
            "Successfully fetched https://www.churchofjesuschrist.org/study/general-conference/2016/10/there-is-power-in-the-book?lang=eng\n",
            "Successfully fetched https://www.churchofjesuschrist.org/study/general-conference/2017/04/the-godhead-and-the-plan-of-salvation?lang=eng\n",
            "Successfully fetched https://www.churchofjesuschrist.org/study/general-conference/2016/10/i-will-bring-the-light-of-the-gospel-into-my-home?lang=eng\n",
            "Successfully fetched https://www.churchofjesuschrist.org/study/general-conference/2016/10/the-souls-sincere-desire?lang=eng\n"
          ]
        },
        {
          "output_type": "stream",
          "name": "stderr",
          "text": [
            "\rScraping talks in parallel:  13%|█▎        | 554/4233 [01:28<14:35,  4.20it/s]"
          ]
        },
        {
          "output_type": "stream",
          "name": "stdout",
          "text": [
            "Successfully fetched https://www.churchofjesuschrist.org/study/general-conference/2016/10/joy-and-spiritual-survival?lang=eng\n",
            "Successfully fetched https://www.churchofjesuschrist.org/study/general-conference/2016/10/the-sacrament-can-help-us-become-holy?lang=eng\n",
            "Successfully fetched https://www.churchofjesuschrist.org/study/general-conference/2016/10/principles-and-promises?lang=eng\n",
            "Successfully fetched https://www.churchofjesuschrist.org/study/general-conference/2016/10/abide-in-my-love?lang=eng\n",
            "Successfully fetched https://www.churchofjesuschrist.org/study/general-conference/2016/10/fourth-floor-last-door?lang=eng\n",
            "Successfully fetched https://www.churchofjesuschrist.org/study/general-conference/2016/10/if-ye-had-known-me?lang=eng\n"
          ]
        },
        {
          "output_type": "stream",
          "name": "stderr",
          "text": [
            "\rScraping talks in parallel:  13%|█▎        | 565/4233 [01:28<08:06,  7.53it/s]"
          ]
        },
        {
          "output_type": "stream",
          "name": "stdout",
          "text": [
            "Successfully fetched https://www.churchofjesuschrist.org/study/general-conference/2016/10/come-follow-me-by-practicing-christian-love-and-service?lang=eng\n",
            "Successfully fetched https://www.churchofjesuschrist.org/study/general-conference/2016/10/to-whom-shall-we-go?lang=eng\n",
            "Successfully fetched https://www.churchofjesuschrist.org/study/general-conference/2016/10/no-greater-joy-than-to-know-that-they-know?lang=eng\n"
          ]
        },
        {
          "output_type": "stream",
          "name": "stderr",
          "text": [
            "\rScraping talks in parallel:  13%|█▎        | 567/4233 [01:29<09:25,  6.48it/s]"
          ]
        },
        {
          "output_type": "stream",
          "name": "stdout",
          "text": [
            "Successfully fetched https://www.churchofjesuschrist.org/study/general-conference/2016/10/o-how-great-the-plan-of-our-god?lang=engSuccessfully fetched https://www.churchofjesuschrist.org/study/general-conference/2016/10/the-sustaining-of-church-officers?lang=eng\n",
            "\n",
            "Successfully fetched https://www.churchofjesuschrist.org/study/general-conference/2016/10/god-shall-wipe-away-all-tears?lang=eng\n"
          ]
        },
        {
          "output_type": "stream",
          "name": "stderr",
          "text": [
            "\rScraping talks in parallel:  14%|█▎        | 574/4233 [01:29<06:39,  9.16it/s]"
          ]
        },
        {
          "output_type": "stream",
          "name": "stdout",
          "text": [
            "Successfully fetched https://www.churchofjesuschrist.org/study/general-conference/2016/10/the-lord-jesus-christ-teaches-us-to-pray?lang=eng\n",
            "Successfully fetched https://www.churchofjesuschrist.org/study/general-conference/2016/10/that-he-may-become-strong-also?lang=engSuccessfully fetched https://www.churchofjesuschrist.org/study/general-conference/2016/10/the-righteous-judge?lang=eng\n",
            "\n",
            "Successfully fetched https://www.churchofjesuschrist.org/study/general-conference/2016/10/the-perfect-path-to-happiness?lang=eng\n",
            "Successfully fetched https://www.churchofjesuschrist.org/study/general-conference/2016/10/look-to-the-book-look-to-the-lord?lang=eng\n",
            "Successfully fetched https://www.churchofjesuschrist.org/study/general-conference/2016/10/sharing-the-restored-gospel?lang=eng\n",
            "Successfully fetched https://www.churchofjesuschrist.org/study/general-conference/2016/10/the-blessings-of-worship?lang=eng\n",
            "Successfully fetched https://www.churchofjesuschrist.org/study/general-conference/2016/10/serve?lang=eng\n",
            "Successfully fetched https://www.churchofjesuschrist.org/study/general-conference/2016/10/emissaries-to-the-church?lang=eng\n",
            "Successfully fetched https://www.churchofjesuschrist.org/study/general-conference/2016/10/womens-session?lang=eng\n",
            "Successfully fetched https://www.churchofjesuschrist.org/study/general-conference/2016/10/am-i-good-enough-will-i-make-it?lang=eng\n",
            "Successfully fetched https://www.churchofjesuschrist.org/study/general-conference/2016/10/lest-thou-forget?lang=eng\n",
            "Successfully fetched https://www.churchofjesuschrist.org/study/general-conference/2016/10/gratitude-on-the-sabbath-day?lang=eng\n",
            "Successfully fetched https://www.churchofjesuschrist.org/study/general-conference/2016/10/the-great-plan-of-redemption?lang=eng\n"
          ]
        },
        {
          "output_type": "stream",
          "name": "stderr",
          "text": [
            "\rScraping talks in parallel:  14%|█▎        | 577/4233 [01:31<11:25,  5.34it/s]"
          ]
        },
        {
          "output_type": "stream",
          "name": "stdout",
          "text": [
            "Successfully fetched https://www.churchofjesuschrist.org/study/general-conference/2016/10/repentance-a-joyful-choice?lang=eng\n",
            "Successfully fetched https://www.churchofjesuschrist.org/study/general-conference/2016/04/be-thou-humble?lang=eng\n",
            "Successfully fetched https://www.churchofjesuschrist.org/study/general-conference/2016/10/for-our-spiritual-development-and-learning?lang=eng\n"
          ]
        },
        {
          "output_type": "stream",
          "name": "stderr",
          "text": [
            "\rScraping talks in parallel:  14%|█▍        | 587/4233 [01:31<06:45,  8.99it/s]"
          ]
        },
        {
          "output_type": "stream",
          "name": "stdout",
          "text": [
            "Successfully fetched https://www.churchofjesuschrist.org/study/general-conference/2016/10/a-choice-seer-will-i-raise-up?lang=eng\n",
            "Successfully fetched https://www.churchofjesuschrist.org/study/general-conference/2016/04/standing-with-the-leaders-of-the-church?lang=eng\n"
          ]
        },
        {
          "output_type": "stream",
          "name": "stderr",
          "text": [
            "Scraping talks in parallel:  14%|█▍        | 593/4233 [01:31<06:01, 10.07it/s]"
          ]
        },
        {
          "output_type": "stream",
          "name": "stdout",
          "text": [
            "Successfully fetched https://www.churchofjesuschrist.org/study/general-conference/2016/04/church-auditing-department-report-2015?lang=eng\n",
            "Successfully fetched https://www.churchofjesuschrist.org/study/general-conference/2016/04/choices?lang=eng\n",
            "Successfully fetched https://www.churchofjesuschrist.org/study/general-conference/2016/04/he-asks-us-to-be-his-hands?lang=eng\n",
            "Successfully fetched https://www.churchofjesuschrist.org/study/general-conference/2016/04/whoso-receiveth-them-receiveth-me?lang=eng\n"
          ]
        },
        {
          "output_type": "stream",
          "name": "stderr",
          "text": [
            "\rScraping talks in parallel:  14%|█▍        | 595/4233 [01:32<06:09,  9.83it/s]"
          ]
        },
        {
          "output_type": "stream",
          "name": "stdout",
          "text": [
            "Successfully fetched https://www.churchofjesuschrist.org/study/general-conference/2016/04/and-there-shall-be-no-more-death?lang=eng\n",
            "Successfully fetched https://www.churchofjesuschrist.org/study/general-conference/2016/04/the-sacred-place-of-restoration?lang=eng\n",
            "Successfully fetched https://www.churchofjesuschrist.org/study/general-conference/2016/04/statistical-report-2015?lang=eng\n"
          ]
        },
        {
          "output_type": "stream",
          "name": "stderr",
          "text": [
            "Scraping talks in parallel:  14%|█▍        | 602/4233 [01:32<04:59, 12.11it/s]"
          ]
        },
        {
          "output_type": "stream",
          "name": "stdout",
          "text": [
            "Successfully fetched https://www.churchofjesuschrist.org/study/general-conference/2016/04/the-sustaining-of-church-officers?lang=eng\n",
            "Successfully fetched https://www.churchofjesuschrist.org/study/general-conference/2016/04/that-i-might-draw-all-men-unto-me?lang=eng\n",
            "Successfully fetched https://www.churchofjesuschrist.org/study/general-conference/2016/04/the-greatest-leaders-are-the-greatest-followers?lang=eng\n",
            "Successfully fetched https://www.churchofjesuschrist.org/study/general-conference/2016/04/do-i-believe?lang=eng\n",
            "Successfully fetched https://www.churchofjesuschrist.org/study/general-conference/2016/04/tomorrow-the-lord-will-do-wonders-among-you?lang=eng\n",
            "Successfully fetched https://www.churchofjesuschrist.org/study/general-conference/2016/04/opposition-in-all-things?lang=eng\n"
          ]
        },
        {
          "output_type": "stream",
          "name": "stderr",
          "text": [
            "\rScraping talks in parallel:  14%|█▍        | 604/4233 [01:32<06:16,  9.64it/s]"
          ]
        },
        {
          "output_type": "stream",
          "name": "stdout",
          "text": [
            "Successfully fetched https://www.churchofjesuschrist.org/study/general-conference/2016/04/always-remember-him?lang=eng\n",
            "Successfully fetched https://www.churchofjesuschrist.org/study/general-conference/2016/04/in-praise-of-those-who-save?lang=eng\n",
            "Successfully fetched https://www.churchofjesuschrist.org/study/general-conference/2016/04/fathers?lang=eng\n",
            "Successfully fetched https://www.churchofjesuschrist.org/study/general-conference/2016/04/a-childs-guiding-gift?lang=eng\n",
            "Successfully fetched https://www.churchofjesuschrist.org/study/general-conference/2016/04/he-will-place-you-on-his-shoulders-and-carry-you-home?lang=eng\n",
            "Successfully fetched https://www.churchofjesuschrist.org/study/general-conference/2016/04/i-am-a-child-of-god?lang=eng\n",
            "Successfully fetched https://www.churchofjesuschrist.org/study/general-conference/2016/04/womens-session?lang=eng\n"
          ]
        },
        {
          "output_type": "stream",
          "name": "stderr",
          "text": [
            "Scraping talks in parallel:  15%|█▍        | 614/4233 [01:34<05:16, 11.45it/s]"
          ]
        },
        {
          "output_type": "stream",
          "name": "stdout",
          "text": [
            "Successfully fetched https://www.churchofjesuschrist.org/study/general-conference/2016/04/trust-in-that-spirit-which-leadeth-to-do-good?lang=eng\n",
            "Successfully fetched https://www.churchofjesuschrist.org/study/general-conference/2016/04/a-sacred-trust?lang=eng\n",
            "Successfully fetched https://www.churchofjesuschrist.org/study/general-conference/2016/04/refuge-from-the-storm?lang=eng\n",
            "Successfully fetched https://www.churchofjesuschrist.org/study/general-conference/2016/04/always-retain-a-remission-of-your-sins?lang=eng\n",
            "Successfully fetched https://www.churchofjesuschrist.org/study/general-conference/2016/04/family-councils?lang=eng\n",
            "Successfully fetched https://www.churchofjesuschrist.org/study/general-conference/2016/04/the-holy-ghost?lang=eng\n"
          ]
        },
        {
          "output_type": "stream",
          "name": "stderr",
          "text": [
            "\rScraping talks in parallel:  15%|█▍        | 617/4233 [01:34<07:18,  8.26it/s]"
          ]
        },
        {
          "output_type": "stream",
          "name": "stdout",
          "text": [
            "Successfully fetched https://www.churchofjesuschrist.org/study/general-conference/2016/04/to-the-rescue-we-can-do-it?lang=eng\n",
            "Successfully fetched https://www.churchofjesuschrist.org/study/general-conference/2016/04/what-shall-we-do?lang=eng\n",
            "Successfully fetched https://www.churchofjesuschrist.org/study/general-conference/2016/04/where-are-the-keys-and-authority-of-the-priesthood?lang=eng\n",
            "Successfully fetched https://www.churchofjesuschrist.org/study/general-conference/2016/04/the-healing-ointment-of-forgiveness?lang=eng\n",
            "Successfully fetched https://www.churchofjesuschrist.org/study/general-conference/2016/04/see-yourself-in-the-temple?lang=eng\n",
            "Successfully fetched https://www.churchofjesuschrist.org/study/general-conference/2016/04/where-two-or-three-are-gathered?lang=eng\n"
          ]
        },
        {
          "output_type": "stream",
          "name": "stderr",
          "text": [
            "\rScraping talks in parallel:  15%|█▍        | 620/4233 [01:35<07:49,  7.70it/s]"
          ]
        },
        {
          "output_type": "stream",
          "name": "stdout",
          "text": [
            "Successfully fetched https://www.churchofjesuschrist.org/study/general-conference/2016/04/the-price-of-priesthood-power?lang=engSuccessfully fetched https://www.churchofjesuschrist.org/study/general-conference/2016/04/a-pattern-for-peace?lang=eng\n",
            "Successfully fetched https://www.churchofjesuschrist.org/study/general-conference/2016/04/the-power-of-godliness?lang=eng\n",
            "\n",
            "Successfully fetched https://www.churchofjesuschrist.org/study/general-conference/2015/10/keep-the-commandments?lang=eng\n",
            "Successfully fetched https://www.churchofjesuschrist.org/study/general-conference/2016/04/eternal-families?lang=eng\n",
            "Successfully fetched https://www.churchofjesuschrist.org/study/general-conference/2016/04/i-was-a-stranger?lang=eng\n"
          ]
        },
        {
          "output_type": "stream",
          "name": "stderr",
          "text": [
            "Scraping talks in parallel:  15%|█▍        | 631/4233 [01:36<04:52, 12.32it/s]"
          ]
        },
        {
          "output_type": "stream",
          "name": "stdout",
          "text": [
            "Successfully fetched https://www.churchofjesuschrist.org/study/general-conference/2015/10/its-never-too-early-and-its-never-too-late?lang=eng\n",
            "Successfully fetched https://www.churchofjesuschrist.org/study/general-conference/2015/10/the-pleasing-word-of-god?lang=eng\n",
            "Successfully fetched https://www.churchofjesuschrist.org/study/general-conference/2015/10/worthy-of-our-promised-blessings?lang=eng\n"
          ]
        },
        {
          "output_type": "stream",
          "name": "stderr",
          "text": [
            "\rScraping talks in parallel:  15%|█▍        | 634/4233 [01:36<04:14, 14.15it/s]"
          ]
        },
        {
          "output_type": "stream",
          "name": "stdout",
          "text": [
            "Successfully fetched https://www.churchofjesuschrist.org/study/general-conference/2015/10/chosen-to-bear-testimony-of-my-name?lang=eng\n",
            "Successfully fetched https://www.churchofjesuschrist.org/study/general-conference/2015/10/you-are-not-alone-in-the-work?lang=eng\n",
            "Successfully fetched https://www.churchofjesuschrist.org/study/general-conference/2015/10/that-they-do-always-remember-him?lang=eng\n",
            "Successfully fetched https://www.churchofjesuschrist.org/study/general-conference/2015/10/remembering-in-whom-we-have-trusted?lang=eng\n",
            "Successfully fetched https://www.churchofjesuschrist.org/study/general-conference/2015/10/the-sustaining-of-church-officers?lang=eng\n",
            "Successfully fetched https://www.churchofjesuschrist.org/study/general-conference/2015/10/faith-is-not-by-chance-but-by-choice?lang=eng\n",
            "Successfully fetched https://www.churchofjesuschrist.org/study/general-conference/2015/10/meeting-the-challenges-of-todays-world?lang=engSuccessfully fetched https://www.churchofjesuschrist.org/study/general-conference/2015/10/blessed-and-happy-are-those-who-keep-the-commandments-of-god?lang=eng\n",
            "Successfully fetched https://www.churchofjesuschrist.org/study/general-conference/2015/10/your-next-step?lang=eng\n",
            "\n"
          ]
        },
        {
          "output_type": "stream",
          "name": "stderr",
          "text": [
            "Scraping talks in parallel:  15%|█▌        | 639/4233 [01:37<07:03,  8.49it/s]"
          ]
        },
        {
          "output_type": "stream",
          "name": "stdout",
          "text": [
            "Successfully fetched https://www.churchofjesuschrist.org/study/general-conference/2015/10/choose-the-light?lang=eng\n",
            "Successfully fetched https://www.churchofjesuschrist.org/study/general-conference/2015/10/plain-and-precious-truths?lang=eng\n",
            "Successfully fetched https://www.churchofjesuschrist.org/study/general-conference/2015/10/the-joy-of-living-a-christ-centered-life?lang=eng\n",
            "Successfully fetched https://www.churchofjesuschrist.org/study/general-conference/2015/10/if-ye-love-me-keep-my-commandments?lang=eng\n",
            "Successfully fetched https://www.churchofjesuschrist.org/study/general-conference/2015/10/discovering-the-divinity-within?lang=eng\n",
            "Successfully fetched https://www.churchofjesuschrist.org/study/general-conference/2015/10/strengthened-by-the-atonement-of-jesus-christ?lang=eng\n",
            "Successfully fetched https://www.churchofjesuschrist.org/study/general-conference/2015/10/here-to-serve-a-righteous-cause?lang=eng\n"
          ]
        },
        {
          "output_type": "stream",
          "name": "stderr",
          "text": [
            "\rScraping talks in parallel:  15%|█▌        | 643/4233 [01:38<08:15,  7.24it/s]"
          ]
        },
        {
          "output_type": "stream",
          "name": "stdout",
          "text": [
            "Successfully fetched https://www.churchofjesuschrist.org/study/general-conference/2015/10/a-plea-to-my-sisters?lang=eng\n",
            "Successfully fetched https://www.churchofjesuschrist.org/study/general-conference/2015/10/turn-to-him-and-answers-will-come?lang=eng\n",
            "Successfully fetched https://www.churchofjesuschrist.org/study/general-conference/2015/10/hold-on-thy-way?lang=eng\n"
          ]
        },
        {
          "output_type": "stream",
          "name": "stderr",
          "text": [
            "\rScraping talks in parallel:  15%|█▌        | 648/4233 [01:38<07:42,  7.75it/s]"
          ]
        },
        {
          "output_type": "stream",
          "name": "stdout",
          "text": [
            "Successfully fetched https://www.churchofjesuschrist.org/study/general-conference/2015/10/i-stand-all-amazed?lang=eng\n",
            "Successfully fetched https://www.churchofjesuschrist.org/study/general-conference/2015/10/be-an-example-and-a-light?lang=eng\n",
            "Successfully fetched https://www.churchofjesuschrist.org/study/general-conference/2015/10/my-heart-pondereth-them-continually?lang=eng\n",
            "Successfully fetched https://www.churchofjesuschrist.org/study/general-conference/2015/10/womens-session?lang=eng\n"
          ]
        },
        {
          "output_type": "stream",
          "name": "stderr",
          "text": [
            "Scraping talks in parallel:  15%|█▌        | 654/4233 [01:39<07:50,  7.60it/s]"
          ]
        },
        {
          "output_type": "stream",
          "name": "stdout",
          "text": [
            "Successfully fetched https://www.churchofjesuschrist.org/study/general-conference/2015/10/a-summer-with-great-aunt-rose?lang=eng\n",
            "Successfully fetched https://www.churchofjesuschrist.org/study/general-conference/2015/10/yielding-our-hearts-to-god?lang=eng\n"
          ]
        },
        {
          "output_type": "stream",
          "name": "stderr",
          "text": [
            "\rScraping talks in parallel:  16%|█▌        | 657/4233 [01:39<06:27,  9.23it/s]"
          ]
        },
        {
          "output_type": "stream",
          "name": "stdout",
          "text": [
            "Successfully fetched https://www.churchofjesuschrist.org/study/general-conference/2015/10/what-lack-i-yet?lang=eng\n",
            "Successfully fetched https://www.churchofjesuschrist.org/study/general-conference/2015/10/let-the-clarion-trumpet-sound?lang=eng\n",
            "Successfully fetched https://www.churchofjesuschrist.org/study/general-conference/2015/10/be-not-afraid-only-believe?lang=eng\n",
            "Successfully fetched https://www.churchofjesuschrist.org/study/general-conference/2015/10/it-works-wonderfully?lang=eng\n"
          ]
        },
        {
          "output_type": "stream",
          "name": "stderr",
          "text": [
            "\rScraping talks in parallel:  16%|█▌        | 659/4233 [01:40<08:57,  6.64it/s]"
          ]
        },
        {
          "output_type": "stream",
          "name": "stdout",
          "text": [
            "Successfully fetched https://www.churchofjesuschrist.org/study/general-conference/2015/10/shipshape-and-bristol-fashion-be-temple-worthy-in-good-times-and-bad-times?lang=eng\n",
            "Successfully fetched https://www.churchofjesuschrist.org/study/general-conference/2015/10/eyes-to-see-and-ears-to-hear?lang=eng\n"
          ]
        },
        {
          "output_type": "stream",
          "name": "stderr",
          "text": [
            "Scraping talks in parallel:  16%|█▌        | 662/4233 [01:41<12:46,  4.66it/s]"
          ]
        },
        {
          "output_type": "stream",
          "name": "stdout",
          "text": [
            "Successfully fetched https://www.churchofjesuschrist.org/study/general-conference/2015/10/why-the-church?lang=eng\n",
            "Successfully fetched https://www.churchofjesuschrist.org/study/general-conference/2015/10/behold-thy-mother?lang=eng\n",
            "Successfully fetched https://www.churchofjesuschrist.org/study/general-conference/2015/10/the-holy-ghost-as-your-companion?lang=eng\n"
          ]
        },
        {
          "output_type": "stream",
          "name": "stderr",
          "text": [
            "Scraping talks in parallel:  16%|█▌        | 665/4233 [01:41<09:52,  6.02it/s]"
          ]
        },
        {
          "output_type": "stream",
          "name": "stdout",
          "text": [
            "Successfully fetched https://www.churchofjesuschrist.org/study/general-conference/2015/04/the-plan-of-happiness?lang=eng\n",
            "Successfully fetched https://www.churchofjesuschrist.org/study/general-conference/2015/04/stay-by-the-tree?lang=eng\n",
            "Successfully fetched https://www.churchofjesuschrist.org/study/general-conference/2015/10/tested-and-tempted-but-helped?lang=eng\n",
            "Successfully fetched https://www.churchofjesuschrist.org/study/general-conference/2015/10/through-gods-eyes?lang=eng\n"
          ]
        },
        {
          "output_type": "stream",
          "name": "stderr",
          "text": [
            "\rScraping talks in parallel:  16%|█▌        | 671/4233 [01:42<06:34,  9.02it/s]"
          ]
        },
        {
          "output_type": "stream",
          "name": "stdout",
          "text": [
            "Successfully fetched https://www.churchofjesuschrist.org/study/general-conference/2015/10/god-is-at-the-helm?lang=eng\n",
            "Successfully fetched https://www.churchofjesuschrist.org/study/general-conference/2015/04/the-lord-is-my-light?lang=eng\n",
            "Successfully fetched https://www.churchofjesuschrist.org/study/general-conference/2015/04/thy-kingdom-come?lang=eng\n"
          ]
        },
        {
          "output_type": "stream",
          "name": "stderr",
          "text": [
            "\rScraping talks in parallel:  16%|█▌        | 672/4233 [01:42<07:53,  7.52it/s]"
          ]
        },
        {
          "output_type": "stream",
          "name": "stdout",
          "text": [
            "Successfully fetched https://www.churchofjesuschrist.org/study/general-conference/2015/04/preserving-agency-protecting-religious-freedom?lang=eng\n",
            "Successfully fetched https://www.churchofjesuschrist.org/study/general-conference/2015/04/the-music-of-the-gospel?lang=eng\n"
          ]
        },
        {
          "output_type": "stream",
          "name": "stderr",
          "text": [
            "\rScraping talks in parallel:  16%|█▌        | 676/4233 [01:42<06:55,  8.57it/s]"
          ]
        },
        {
          "output_type": "stream",
          "name": "stdout",
          "text": [
            "Successfully fetched https://www.churchofjesuschrist.org/study/general-conference/2015/04/choose-to-believe?lang=eng\n",
            "Successfully fetched https://www.churchofjesuschrist.org/study/general-conference/2015/04/defenders-of-the-family-proclamation?lang=eng\n",
            "Successfully fetched https://www.churchofjesuschrist.org/study/general-conference/2015/04/if-you-will-be-responsible?lang=eng\n",
            "Successfully fetched https://www.churchofjesuschrist.org/study/general-conference/2015/04/be-fruitful-multiply-and-subdue-the-earth?lang=eng\n",
            "Successfully fetched https://www.churchofjesuschrist.org/study/general-conference/2015/04/is-not-this-the-fast-that-i-have-chosen?lang=eng\n",
            "Successfully fetched https://www.churchofjesuschrist.org/study/general-conference/2015/04/the-family-is-of-god?lang=eng\n",
            "Successfully fetched https://www.churchofjesuschrist.org/study/general-conference/2015/04/the-priesthood-a-sacred-gift?lang=eng\n"
          ]
        },
        {
          "output_type": "stream",
          "name": "stderr",
          "text": [
            "\rScraping talks in parallel:  16%|█▌        | 680/4233 [01:43<06:36,  8.97it/s]"
          ]
        },
        {
          "output_type": "stream",
          "name": "stdout",
          "text": [
            "Successfully fetched https://www.churchofjesuschrist.org/study/general-conference/2015/04/therefore-they-hushed-their-fears?lang=eng\n",
            "Successfully fetched https://www.churchofjesuschrist.org/study/general-conference/2015/04/why-marriage-why-family?lang=eng\n",
            "Successfully fetched https://www.churchofjesuschrist.org/study/general-conference/2015/04/womens-session?lang=eng\n",
            "Successfully fetched https://www.churchofjesuschrist.org/study/general-conference/2015/04/seeking-the-lord?lang=eng\n",
            "Successfully fetched https://www.churchofjesuschrist.org/study/general-conference/2015/04/the-gift-of-grace?lang=eng\n"
          ]
        },
        {
          "output_type": "stream",
          "name": "stderr",
          "text": [
            "\rScraping talks in parallel:  16%|█▌        | 682/4233 [01:43<09:35,  6.17it/s]"
          ]
        },
        {
          "output_type": "stream",
          "name": "stdout",
          "text": [
            "Successfully fetched https://www.churchofjesuschrist.org/study/general-conference/2015/04/latter-day-saints-keep-on-trying?lang=eng\n",
            "Successfully fetched https://www.churchofjesuschrist.org/study/general-conference/2015/04/well-ascend-together?lang=eng\n",
            "Successfully fetched https://www.churchofjesuschrist.org/study/general-conference/2015/04/the-sustaining-of-church-officers?lang=eng\n"
          ]
        },
        {
          "output_type": "stream",
          "name": "stderr",
          "text": [
            "Scraping talks in parallel:  16%|█▋        | 694/4233 [01:44<05:00, 11.78it/s]"
          ]
        },
        {
          "output_type": "stream",
          "name": "stdout",
          "text": [
            "Successfully fetched https://www.churchofjesuschrist.org/study/general-conference/2015/04/the-parable-of-the-sower?lang=eng\n",
            "Successfully fetched https://www.churchofjesuschrist.org/study/general-conference/2015/04/blessings-of-the-temple?lang=eng\n",
            "Successfully fetched https://www.churchofjesuschrist.org/study/general-conference/2015/04/fatherhood-our-eternal-destiny?lang=eng\n",
            "Successfully fetched https://www.churchofjesuschrist.org/study/general-conference/2015/04/statistical-report-2014?lang=eng\n",
            "Successfully fetched https://www.churchofjesuschrist.org/study/general-conference/2015/04/returning-to-faith?lang=eng\n",
            "Successfully fetched https://www.churchofjesuschrist.org/study/general-conference/2015/04/priesthood-and-personal-prayer?lang=eng"
          ]
        },
        {
          "output_type": "stream",
          "name": "stderr",
          "text": [
            "\rScraping talks in parallel:  16%|█▋        | 697/4233 [01:44<05:58,  9.86it/s]"
          ]
        },
        {
          "output_type": "stream",
          "name": "stdout",
          "text": [
            "\n",
            "Successfully fetched https://www.churchofjesuschrist.org/study/general-conference/2015/04/the-sabbath-is-a-delight?lang=eng\n",
            "Successfully fetched https://www.churchofjesuschrist.org/study/general-conference/2015/04/the-eternal-perspective-of-the-gospel?lang=eng\n"
          ]
        },
        {
          "output_type": "stream",
          "name": "stderr",
          "text": [
            "\rScraping talks in parallel:  17%|█▋        | 700/4233 [01:45<05:50, 10.08it/s]"
          ]
        },
        {
          "output_type": "stream",
          "name": "stdout",
          "text": [
            "Successfully fetched https://www.churchofjesuschrist.org/study/general-conference/2015/04/waiting-for-the-prodigal?lang=eng\n",
            "Successfully fetched https://www.churchofjesuschrist.org/study/general-conference/2015/04/where-justice-love-and-mercy-meet?lang=eng\n",
            "Successfully fetched https://www.churchofjesuschrist.org/study/general-conference/2015/04/filling-our-homes-with-light-and-truth?lang=eng\n",
            "Successfully fetched https://www.churchofjesuschrist.org/study/general-conference/2015/04/the-greatest-generation-of-young-adults?lang=eng\n",
            "Successfully fetched https://www.churchofjesuschrist.org/study/general-conference/2015/04/why-marriage-and-family-matter-everywhere-in-the-world?lang=eng\n",
            "Successfully fetched https://www.churchofjesuschrist.org/study/general-conference/2015/04/truly-good-and-without-guile?lang=eng\n"
          ]
        },
        {
          "output_type": "stream",
          "name": "stderr",
          "text": [
            "\rScraping talks in parallel:  17%|█▋        | 702/4233 [01:45<08:54,  6.61it/s]"
          ]
        },
        {
          "output_type": "stream",
          "name": "stdout",
          "text": [
            "Successfully fetched https://www.churchofjesuschrist.org/study/general-conference/2015/04/the-comforter?lang=eng\n",
            "Successfully fetched https://www.churchofjesuschrist.org/study/general-conference/2014/10/eternal-life-to-know-our-heavenly-father-and-his-son-jesus-christ?lang=engSuccessfully fetched https://www.churchofjesuschrist.org/study/general-conference/2015/04/on-being-genuine?lang=eng\n",
            "Successfully fetched https://www.churchofjesuschrist.org/study/general-conference/2015/04/is-it-still-wonderful-to-you?lang=eng\n",
            "\n",
            "Successfully fetched https://www.churchofjesuschrist.org/study/general-conference/2015/04/church-auditing-department-report-2014?lang=eng\n",
            "Successfully fetched https://www.churchofjesuschrist.org/study/general-conference/2015/04/yes-we-can-and-will-win?lang=eng\n"
          ]
        },
        {
          "output_type": "stream",
          "name": "stderr",
          "text": [
            "\rScraping talks in parallel:  17%|█▋        | 706/4233 [01:46<09:02,  6.50it/s]"
          ]
        },
        {
          "output_type": "stream",
          "name": "stdout",
          "text": [
            "Successfully fetched https://www.churchofjesuschrist.org/study/general-conference/2014/10/joseph-smith?lang=eng\n",
            "Successfully fetched https://www.churchofjesuschrist.org/study/general-conference/2014/10/free-forever-to-act-for-themselves?lang=eng\n"
          ]
        },
        {
          "output_type": "stream",
          "name": "stderr",
          "text": [
            "\rScraping talks in parallel:  17%|█▋        | 711/4233 [01:46<06:28,  9.07it/s]"
          ]
        },
        {
          "output_type": "stream",
          "name": "stdout",
          "text": [
            "Successfully fetched https://www.churchofjesuschrist.org/study/general-conference/2014/10/rescue-in-unity?lang=eng\n"
          ]
        },
        {
          "output_type": "stream",
          "name": "stderr",
          "text": [
            "\rScraping talks in parallel:  17%|█▋        | 715/4233 [01:46<05:22, 10.90it/s]"
          ]
        },
        {
          "output_type": "stream",
          "name": "stdout",
          "text": [
            "Successfully fetched https://www.churchofjesuschrist.org/study/general-conference/2014/10/trifle-not-with-sacred-things?lang=eng\n",
            "Successfully fetched https://www.churchofjesuschrist.org/study/general-conference/2014/10/are-we-not-all-beggars?lang=eng\n",
            "Successfully fetched https://www.churchofjesuschrist.org/study/general-conference/2014/10/loving-others-and-living-with-differences?lang=eng\n",
            "Successfully fetched https://www.churchofjesuschrist.org/study/general-conference/2014/10/approaching-the-throne-of-god-with-confidence?lang=eng\n",
            "Successfully fetched https://www.churchofjesuschrist.org/study/general-conference/2014/10/finding-lasting-peace-and-building-eternal-families?lang=eng\n",
            "Successfully fetched https://www.churchofjesuschrist.org/study/general-conference/2014/10/the-sacrament-a-renewal-for-the-soul?lang=eng\n",
            "Successfully fetched https://www.churchofjesuschrist.org/study/general-conference/2014/10/continuing-revelation?lang=eng\n",
            "Successfully fetched https://www.churchofjesuschrist.org/study/general-conference/2014/10/choose-wisely?lang=eng\n"
          ]
        },
        {
          "output_type": "stream",
          "name": "stderr",
          "text": [
            "Scraping talks in parallel:  17%|█▋        | 719/4233 [01:47<06:04,  9.63it/s]"
          ]
        },
        {
          "output_type": "stream",
          "name": "stdout",
          "text": [
            "Successfully fetched https://www.churchofjesuschrist.org/study/general-conference/2014/10/come-and-see?lang=eng\n",
            "Successfully fetched https://www.churchofjesuschrist.org/study/general-conference/2014/10/parents-the-prime-gospel-teachers-of-their-children?lang=eng\n"
          ]
        },
        {
          "output_type": "stream",
          "name": "stderr",
          "text": [
            "\rScraping talks in parallel:  17%|█▋        | 723/4233 [01:47<06:05,  9.59it/s]"
          ]
        },
        {
          "output_type": "stream",
          "name": "stdout",
          "text": [
            "Successfully fetched https://www.churchofjesuschrist.org/study/general-conference/2014/10/guided-safely-home?lang=eng\n",
            "Successfully fetched https://www.churchofjesuschrist.org/study/general-conference/2014/10/ponder-the-path-of-thy-feet?lang=eng\n"
          ]
        },
        {
          "output_type": "stream",
          "name": "stderr",
          "text": [
            "\rScraping talks in parallel:  17%|█▋        | 725/4233 [01:48<07:40,  7.62it/s]"
          ]
        },
        {
          "output_type": "stream",
          "name": "stdout",
          "text": [
            "Successfully fetched https://www.churchofjesuschrist.org/study/general-conference/2014/10/live-according-to-the-words-of-the-prophets?lang=eng\n",
            "Successfully fetched https://www.churchofjesuschrist.org/study/general-conference/2014/10/which-way-do-you-face?lang=eng\n",
            "Successfully fetched https://www.churchofjesuschrist.org/study/general-conference/2014/10/sharing-your-light?lang=eng\n"
          ]
        },
        {
          "output_type": "stream",
          "name": "stderr",
          "text": [
            "\rScraping talks in parallel:  17%|█▋        | 726/4233 [01:48<08:01,  7.29it/s]"
          ]
        },
        {
          "output_type": "stream",
          "name": "stdout",
          "text": [
            "Successfully fetched https://www.churchofjesuschrist.org/study/general-conference/2014/10/lord-is-it-i?lang=eng\n",
            "Successfully fetched https://www.churchofjesuschrist.org/study/general-conference/2014/10/the-preparatory-priesthood?lang=eng\n",
            "Successfully fetched https://www.churchofjesuschrist.org/study/general-conference/2014/10/welcome-to-conference?lang=eng\n",
            "Successfully fetched https://www.churchofjesuschrist.org/study/general-conference/2014/10/the-reason-for-our-hope?lang=eng\n",
            "Successfully fetched https://www.churchofjesuschrist.org/study/general-conference/2014/10/the-law-of-the-fast-a-personal-responsibility-to-care-for-the-poor-and-needy?lang=eng\n",
            "Successfully fetched https://www.churchofjesuschrist.org/study/general-conference/2014/10/stay-in-the-boat-and-hold-on?lang=eng\n",
            "Successfully fetched https://www.churchofjesuschrist.org/study/general-conference/2014/10/i-know-these-things-of-myself?lang=eng\n",
            "Successfully fetched https://www.churchofjesuschrist.org/study/general-conference/2014/10/covenant-daughters-of-god?lang=engSuccessfully fetched https://www.churchofjesuschrist.org/study/general-conference/2014/10/the-sustaining-of-church-officers?lang=eng\n",
            "\n"
          ]
        },
        {
          "output_type": "stream",
          "name": "stderr",
          "text": [
            "\rScraping talks in parallel:  17%|█▋        | 732/4233 [01:49<07:45,  7.52it/s]"
          ]
        },
        {
          "output_type": "stream",
          "name": "stdout",
          "text": [
            "Successfully fetched https://www.churchofjesuschrist.org/study/general-conference/2014/10/sustaining-the-prophets?lang=eng\n",
            "Successfully fetched https://www.churchofjesuschrist.org/study/general-conference/2014/10/the-book?lang=eng\n",
            "Successfully fetched https://www.churchofjesuschrist.org/study/general-conference/2014/10/receiving-a-testimony-of-light-and-truth?lang=eng\n",
            "Successfully fetched https://www.churchofjesuschrist.org/study/general-conference/2014/10/prepared-in-a-manner-that-never-had-been-known?lang=eng\n",
            "Successfully fetched https://www.churchofjesuschrist.org/study/general-conference/2014/10/yes-lord-i-will-follow-thee?lang=eng\n"
          ]
        },
        {
          "output_type": "stream",
          "name": "stderr",
          "text": [
            "\rScraping talks in parallel:  17%|█▋        | 737/4233 [01:50<07:32,  7.73it/s]"
          ]
        },
        {
          "output_type": "stream",
          "name": "stdout",
          "text": [
            "Successfully fetched https://www.churchofjesuschrist.org/study/general-conference/2014/10/make-the-exercise-of-faith-your-first-priority?lang=eng\n",
            "Successfully fetched https://www.churchofjesuschrist.org/study/general-conference/2014/10/living-the-gospel-joyful?lang=eng\n"
          ]
        },
        {
          "output_type": "stream",
          "name": "stderr",
          "text": [
            "\rScraping talks in parallel:  18%|█▊        | 745/4233 [01:50<05:34, 10.41it/s]"
          ]
        },
        {
          "output_type": "stream",
          "name": "stdout",
          "text": [
            "Successfully fetched https://www.churchofjesuschrist.org/study/general-conference/2014/04/the-keys-and-authority-of-the-priesthood?lang=eng\n",
            "Successfully fetched https://www.churchofjesuschrist.org/study/general-conference/2014/10/saturday-morning-session?lang=eng\n",
            "Successfully fetched https://www.churchofjesuschrist.org/study/general-conference/2014/10/our-personal-ministries?lang=eng\n",
            "Successfully fetched https://www.churchofjesuschrist.org/study/general-conference/2014/10/until-we-meet-again?lang=eng\n",
            "Successfully fetched https://www.churchofjesuschrist.org/study/general-conference/2014/10/the-lord-has-a-plan-for-us?lang=eng\n",
            "Successfully fetched https://www.churchofjesuschrist.org/study/general-conference/2014/04/wanted-hands-and-hearts-to-hasten-the-work?lang=eng\n",
            "Successfully fetched https://www.churchofjesuschrist.org/study/general-conference/2014/04/the-witness?lang=eng\n",
            "Successfully fetched https://www.churchofjesuschrist.org/study/general-conference/2014/10/the-sacrament-and-the-atonement?lang=eng\n",
            "Successfully fetched https://www.churchofjesuschrist.org/study/general-conference/2014/04/roots-and-branches?lang=eng\n",
            "Successfully fetched https://www.churchofjesuschrist.org/study/general-conference/2014/04/christ-the-redeemer?lang=eng\n",
            "Successfully fetched https://www.churchofjesuschrist.org/study/general-conference/2014/04/sisterhood-oh-how-we-need-each-other?lang=engSuccessfully fetched https://www.churchofjesuschrist.org/study/general-conference/2014/04/daughters-in-the-covenant?lang=eng\n",
            "Successfully fetched https://www.churchofjesuschrist.org/study/general-conference/2014/04/following-up?lang=eng\n",
            "\n",
            "Successfully fetched https://www.churchofjesuschrist.org/study/general-conference/2014/04/saturday-morning-session?lang=eng\n",
            "Successfully fetched https://www.churchofjesuschrist.org/study/general-conference/2014/04/the-priesthood-man?lang=eng\n",
            "Successfully fetched https://www.churchofjesuschrist.org/study/general-conference/2014/04/i-have-given-you-an-example?lang=eng\n"
          ]
        },
        {
          "output_type": "stream",
          "name": "stderr",
          "text": [
            "\rScraping talks in parallel:  18%|█▊        | 748/4233 [01:52<13:15,  4.38it/s]"
          ]
        },
        {
          "output_type": "stream",
          "name": "stdout",
          "text": [
            "Successfully fetched https://www.churchofjesuschrist.org/study/general-conference/2014/04/if-ye-lack-wisdom?lang=eng\n",
            "Successfully fetched https://www.churchofjesuschrist.org/study/general-conference/2014/04/what-manner-of-men?lang=eng\n",
            "Successfully fetched https://www.churchofjesuschrist.org/study/general-conference/2014/04/where-your-treasure-is?lang=eng\n",
            "Successfully fetched https://www.churchofjesuschrist.org/study/general-conference/2014/04/are-you-sleeping-through-the-restoration?lang=eng\n",
            "Successfully fetched https://www.churchofjesuschrist.org/study/general-conference/2014/04/your-four-minutes?lang=eng\n",
            "Successfully fetched https://www.churchofjesuschrist.org/study/general-conference/2014/04/the-cost-and-blessings-of-discipleship?lang=eng\n",
            "Successfully fetched https://www.churchofjesuschrist.org/study/general-conference/2014/04/fear-not-i-am-with-thee?lang=engSuccessfully fetched https://www.churchofjesuschrist.org/study/general-conference/2014/04/be-strong-and-of-a-good-courage?lang=eng\n",
            "\n"
          ]
        },
        {
          "output_type": "stream",
          "name": "stderr",
          "text": [
            "\rScraping talks in parallel:  18%|█▊        | 765/4233 [01:53<07:00,  8.25it/s]"
          ]
        },
        {
          "output_type": "stream",
          "name": "stdout",
          "text": [
            "Successfully fetched https://www.churchofjesuschrist.org/study/general-conference/2014/04/love-the-essence-of-the-gospel?lang=engSuccessfully fetched https://www.churchofjesuschrist.org/study/general-conference/2014/04/the-sustaining-of-church-officers?lang=eng\n",
            "\n"
          ]
        },
        {
          "output_type": "stream",
          "name": "stderr",
          "text": [
            "\rScraping talks in parallel:  18%|█▊        | 767/4233 [01:54<08:21,  6.91it/s]"
          ]
        },
        {
          "output_type": "stream",
          "name": "stdout",
          "text": [
            "Successfully fetched https://www.churchofjesuschrist.org/study/general-conference/2014/04/spiritual-whirlwinds?lang=eng\n"
          ]
        },
        {
          "output_type": "stream",
          "name": "stderr",
          "text": [
            "Scraping talks in parallel:  18%|█▊        | 776/4233 [01:54<05:37, 10.23it/s]"
          ]
        },
        {
          "output_type": "stream",
          "name": "stdout",
          "text": [
            "Successfully fetched https://www.churchofjesuschrist.org/study/general-conference/2014/04/statistical-report-2013?lang=eng\n",
            "Successfully fetched https://www.churchofjesuschrist.org/study/general-conference/2014/04/welcome-to-conference?lang=eng\n",
            "Successfully fetched https://www.churchofjesuschrist.org/study/general-conference/2014/04/protection-from-pornography-a-christ-focused-home?lang=eng\n",
            "Successfully fetched https://www.churchofjesuschrist.org/study/general-conference/2014/04/what-are-you-thinking?lang=eng\n",
            "Successfully fetched https://www.churchofjesuschrist.org/study/general-conference/2014/04/grateful-in-any-circumstances?lang=eng\n",
            "Successfully fetched https://www.churchofjesuschrist.org/study/general-conference/2014/04/lets-not-take-the-wrong-way?lang=eng\n",
            "Successfully fetched https://www.churchofjesuschrist.org/study/general-conference/2014/04/bear-up-their-burdens-with-ease?lang=eng\n",
            "Successfully fetched https://www.churchofjesuschrist.org/study/general-conference/2014/04/live-true-to-the-faith?lang=eng\n",
            "Successfully fetched https://www.churchofjesuschrist.org/study/general-conference/2014/04/the-prophet-joseph-smith?lang=eng\n",
            "Successfully fetched https://www.churchofjesuschrist.org/study/general-conference/2014/04/keeping-covenants-protects-us-prepares-us-and-empowers-us?lang=eng\n",
            "Successfully fetched https://www.churchofjesuschrist.org/study/general-conference/2014/04/obedience-through-our-faithfulness?lang=eng\n",
            "Successfully fetched https://www.churchofjesuschrist.org/study/general-conference/2014/04/the-choice-generation?lang=eng\n",
            "Successfully fetched https://www.churchofjesuschrist.org/study/general-conference/2014/04/until-we-meet-again?lang=eng\n",
            "Successfully fetched https://www.churchofjesuschrist.org/study/general-conference/2014/04/the-resurrection-of-jesus-christ?lang=eng\n",
            "Successfully fetched https://www.churchofjesuschrist.org/study/general-conference/2014/04/the-joyful-burden-of-discipleship?lang=eng\n",
            "Successfully fetched https://www.churchofjesuschrist.org/study/general-conference/2014/04/let-your-faith-show?lang=eng\n"
          ]
        },
        {
          "output_type": "stream",
          "name": "stderr",
          "text": [
            "Scraping talks in parallel:  18%|█▊        | 780/4233 [01:56<09:03,  6.36it/s]"
          ]
        },
        {
          "output_type": "stream",
          "name": "stdout",
          "text": [
            "Successfully fetched https://www.churchofjesuschrist.org/study/general-conference/2014/04/if-ye-love-me-keep-my-commandments?lang=eng\n",
            "Successfully fetched https://www.churchofjesuschrist.org/study/general-conference/2014/04/a-priceless-heritage-of-hope?lang=eng\n",
            "Successfully fetched https://www.churchofjesuschrist.org/study/general-conference/2013/10/teaching-with-the-power-and-authority-of-god?lang=eng\n",
            "Successfully fetched https://www.churchofjesuschrist.org/study/general-conference/2013/10/the-power-joy-and-love-of-covenant-keeping?lang=eng\n"
          ]
        },
        {
          "output_type": "stream",
          "name": "stderr",
          "text": [
            "\rScraping talks in parallel:  19%|█▊        | 788/4233 [01:56<06:54,  8.31it/s]"
          ]
        },
        {
          "output_type": "stream",
          "name": "stdout",
          "text": [
            "Successfully fetched https://www.churchofjesuschrist.org/study/general-conference/2013/10/hastening-the-lords-game-plan?lang=eng\n",
            "Successfully fetched https://www.churchofjesuschrist.org/study/general-conference/2013/10/drawing-closer-to-god?lang=eng\n",
            "Successfully fetched https://www.churchofjesuschrist.org/study/general-conference/2013/10/true-shepherds?lang=eng\n",
            "Successfully fetched https://www.churchofjesuschrist.org/study/general-conference/2013/10/welcome-to-conference?lang=eng\n",
            "Successfully fetched https://www.churchofjesuschrist.org/study/general-conference/2013/10/personal-strength-through-the-atonement-of-jesus-christ?lang=eng\n",
            "Successfully fetched https://www.churchofjesuschrist.org/study/general-conference/2013/10/general-conference-strengthening-faith-and-testimony?lang=eng\n",
            "Successfully fetched https://www.churchofjesuschrist.org/study/general-conference/2013/10/you-can-do-it-now?lang=eng\n",
            "Successfully fetched https://www.churchofjesuschrist.org/study/general-conference/2013/10/like-a-broken-vessel?lang=eng\n",
            "Successfully fetched https://www.churchofjesuschrist.org/study/general-conference/2013/10/be-meek-and-lowly-of-heart?lang=eng\n",
            "Successfully fetched https://www.churchofjesuschrist.org/study/general-conference/2013/10/to-my-grandchildren?lang=eng\n",
            "Successfully fetched https://www.churchofjesuschrist.org/study/general-conference/2013/10/do-we-know-what-we-have?lang=eng\n",
            "Successfully fetched https://www.churchofjesuschrist.org/study/general-conference/2014/04/church-auditing-department-report-2013?lang=eng\n"
          ]
        },
        {
          "output_type": "stream",
          "name": "stderr",
          "text": [
            "\rScraping talks in parallel:  19%|█▊        | 793/4233 [01:58<09:27,  6.07it/s]"
          ]
        },
        {
          "output_type": "stream",
          "name": "stdout",
          "text": [
            "Successfully fetched https://www.churchofjesuschrist.org/study/general-conference/2013/10/ye-are-no-more-strangers?lang=eng\n",
            "Successfully fetched https://www.churchofjesuschrist.org/study/general-conference/2013/10/look-up?lang=eng\n",
            "Successfully fetched https://www.churchofjesuschrist.org/study/general-conference/2013/10/lamentations-of-jeremiah-beware-of-bondage?lang=eng\n",
            "Successfully fetched https://www.churchofjesuschrist.org/study/general-conference/2013/10/continually-holding-fast?lang=eng\n",
            "Successfully fetched https://www.churchofjesuschrist.org/study/general-conference/2013/10/till-we-meet-again?lang=engSuccessfully fetched https://www.churchofjesuschrist.org/study/general-conference/2013/10/we-never-walk-alone?lang=eng\n",
            "\n",
            "Successfully fetched https://www.churchofjesuschrist.org/study/general-conference/2013/10/bind-up-their-wounds?lang=eng\n",
            "Successfully fetched https://www.churchofjesuschrist.org/study/general-conference/2013/10/be-ye-converted?lang=eng\n",
            "Successfully fetched https://www.churchofjesuschrist.org/study/general-conference/2013/10/come-join-with-us?lang=eng\n"
          ]
        },
        {
          "output_type": "stream",
          "name": "stderr",
          "text": [
            "Scraping talks in parallel:  19%|█▉        | 812/4233 [01:59<05:17, 10.79it/s]"
          ]
        },
        {
          "output_type": "stream",
          "name": "stdout",
          "text": [
            "Successfully fetched https://www.churchofjesuschrist.org/study/general-conference/2013/10/look-ahead-and-believe?lang=eng\n"
          ]
        },
        {
          "output_type": "stream",
          "name": "stderr",
          "text": [
            "\rScraping talks in parallel:  19%|█▉        | 815/4233 [01:59<04:53, 11.65it/s]"
          ]
        },
        {
          "output_type": "stream",
          "name": "stdout",
          "text": [
            "Successfully fetched https://www.churchofjesuschrist.org/study/general-conference/2013/10/the-windows-of-heaven?lang=eng\n",
            "Successfully fetched https://www.churchofjesuschrist.org/study/general-conference/2013/10/the-sustaining-of-church-officers?lang=eng\n",
            "Successfully fetched https://www.churchofjesuschrist.org/study/general-conference/2013/10/no-other-gods?lang=eng\n"
          ]
        },
        {
          "output_type": "stream",
          "name": "stderr",
          "text": [
            "\rScraping talks in parallel:  19%|█▉        | 817/4233 [01:59<04:58, 11.43it/s]"
          ]
        },
        {
          "output_type": "stream",
          "name": "stdout",
          "text": [
            "Successfully fetched https://www.churchofjesuschrist.org/study/general-conference/2013/10/claim-the-blessings-of-your-covenants?lang=eng\n",
            "Successfully fetched https://www.churchofjesuschrist.org/study/general-conference/2013/10/put-your-trust-in-the-lord?lang=eng\n",
            "Successfully fetched https://www.churchofjesuschrist.org/study/general-conference/2013/10/we-have-great-reason-to-rejoice?lang=eng\n",
            "Successfully fetched https://www.churchofjesuschrist.org/study/general-conference/2013/10/the-key-to-spiritual-protection?lang=eng\n",
            "Successfully fetched https://www.churchofjesuschrist.org/study/general-conference/2013/10/decisions-for-eternity?lang=eng\n",
            "Successfully fetched https://www.churchofjesuschrist.org/study/general-conference/2013/10/i-will-not-fail-thee-nor-forsake-thee?lang=eng\n",
            "Successfully fetched https://www.churchofjesuschrist.org/study/general-conference/2013/10/the-strength-to-endure?lang=eng\n",
            "Successfully fetched https://www.churchofjesuschrist.org/study/general-conference/2013/10/the-moral-force-of-women?lang=eng\n"
          ]
        },
        {
          "output_type": "stream",
          "name": "stderr",
          "text": [
            "Scraping talks in parallel:  20%|█▉        | 827/4233 [02:00<04:52, 11.64it/s]"
          ]
        },
        {
          "output_type": "stream",
          "name": "stdout",
          "text": [
            "Successfully fetched https://www.churchofjesuschrist.org/study/general-conference/2013/10/saturday-morning-session?lang=eng\n",
            "Successfully fetched https://www.churchofjesuschrist.org/study/general-conference/2013/10/called-of-him-to-declare-his-word?lang=eng\n",
            "Successfully fetched https://www.churchofjesuschrist.org/study/general-conference/2013/10/small-and-simple-things?lang=eng\n",
            "Successfully fetched https://www.churchofjesuschrist.org/study/general-conference/2013/10/power-in-the-priesthood?lang=eng\n"
          ]
        },
        {
          "output_type": "stream",
          "name": "stderr",
          "text": [
            "\rScraping talks in parallel:  20%|█▉        | 829/4233 [02:00<06:03,  9.37it/s]"
          ]
        },
        {
          "output_type": "stream",
          "name": "stdout",
          "text": [
            "Successfully fetched https://www.churchofjesuschrist.org/study/general-conference/2013/10/wilt-thou-be-made-whole?lang=eng\n",
            "Successfully fetched https://www.churchofjesuschrist.org/study/general-conference/2013/04/your-holy-places?lang=eng\n",
            "Successfully fetched https://www.churchofjesuschrist.org/study/general-conference/2013/10/the-doctrines-and-principles-contained-in-the-articles-of-faith?lang=eng\n",
            "Successfully fetched https://www.churchofjesuschrist.org/study/general-conference/2013/04/the-home-the-school-of-life?lang=eng\n"
          ]
        },
        {
          "output_type": "stream",
          "name": "stderr",
          "text": [
            "\rScraping talks in parallel:  20%|█▉        | 831/4233 [02:01<07:30,  7.55it/s]"
          ]
        },
        {
          "output_type": "stream",
          "name": "stdout",
          "text": [
            "Successfully fetched https://www.churchofjesuschrist.org/study/general-conference/2013/04/the-hope-of-gods-light?lang=eng\n",
            "Successfully fetched https://www.churchofjesuschrist.org/study/general-conference/2013/04/redemption?lang=eng\n"
          ]
        },
        {
          "output_type": "stream",
          "name": "stderr",
          "text": [
            "\rScraping talks in parallel:  20%|█▉        | 835/4233 [02:01<05:43,  9.88it/s]"
          ]
        },
        {
          "output_type": "stream",
          "name": "stdout",
          "text": [
            "Successfully fetched https://www.churchofjesuschrist.org/study/general-conference/2013/04/beautiful-mornings?lang=eng\n",
            "Successfully fetched https://www.churchofjesuschrist.org/study/general-conference/2013/04/four-titles?lang=eng\n",
            "Successfully fetched https://www.churchofjesuschrist.org/study/general-conference/2013/04/this-is-my-work-and-glory?lang=eng\n"
          ]
        },
        {
          "output_type": "stream",
          "name": "stderr",
          "text": [
            "\rScraping talks in parallel:  20%|█▉        | 837/4233 [02:02<06:47,  8.33it/s]"
          ]
        },
        {
          "output_type": "stream",
          "name": "stdout",
          "text": [
            "Successfully fetched https://www.churchofjesuschrist.org/study/general-conference/2013/04/being-accepted-of-the-lord?lang=eng\n",
            "Successfully fetched https://www.churchofjesuschrist.org/study/general-conference/2013/04/come-unto-me?lang=eng\n",
            "Successfully fetched https://www.churchofjesuschrist.org/study/general-conference/2013/04/be-not-moved?lang=eng\n",
            "Successfully fetched https://www.churchofjesuschrist.org/study/general-conference/2013/04/catch-the-wave?lang=eng\n",
            "Successfully fetched https://www.churchofjesuschrist.org/study/general-conference/2013/04/we-are-daughters-of-our-heavenly-father?lang=eng\n",
            "Successfully fetched https://www.churchofjesuschrist.org/study/general-conference/2013/04/welcome-to-conference?lang=eng\n",
            "Successfully fetched https://www.churchofjesuschrist.org/study/general-conference/2013/04/lord-i-believe?lang=eng\n",
            "Successfully fetched https://www.churchofjesuschrist.org/study/general-conference/2013/04/the-power-of-the-priesthood-in-the-boy?lang=eng\n"
          ]
        },
        {
          "output_type": "stream",
          "name": "stderr",
          "text": [
            "Scraping talks in parallel:  20%|██        | 847/4233 [02:03<04:55, 11.45it/s]"
          ]
        },
        {
          "output_type": "stream",
          "name": "stdout",
          "text": [
            "Successfully fetched https://www.churchofjesuschrist.org/study/general-conference/2013/04/personal-peace-the-reward-of-righteousness?lang=eng\n",
            "Successfully fetched https://www.churchofjesuschrist.org/study/general-conference/2013/04/statistical-report-2012?lang=eng\n",
            "Successfully fetched https://www.churchofjesuschrist.org/study/general-conference/2013/04/church-auditing-department-report-2012?lang=eng\n",
            "Successfully fetched https://www.churchofjesuschrist.org/study/general-conference/2013/04/obedience-brings-blessings?lang=eng\n",
            "Successfully fetched https://www.churchofjesuschrist.org/study/general-conference/2013/04/until-we-meet-again?lang=eng\n",
            "Successfully fetched https://www.churchofjesuschrist.org/study/general-conference/2013/04/these-things-i-know?lang=eng\n",
            "Successfully fetched https://www.churchofjesuschrist.org/study/general-conference/2013/04/your-sacred-duty-to-minister?lang=eng\n",
            "Successfully fetched https://www.churchofjesuschrist.org/study/general-conference/2013/04/saturday-morning-session?lang=eng\n",
            "Successfully fetched https://www.churchofjesuschrist.org/study/general-conference/2013/04/come-all-ye-sons-of-god?lang=eng\n",
            "Successfully fetched https://www.churchofjesuschrist.org/study/general-conference/2013/04/its-a-miracle?lang=eng\n"
          ]
        },
        {
          "output_type": "stream",
          "name": "stderr",
          "text": [
            "Scraping talks in parallel:  20%|██        | 859/4233 [02:04<04:44, 11.84it/s]"
          ]
        },
        {
          "output_type": "stream",
          "name": "stdout",
          "text": [
            "Successfully fetched https://www.churchofjesuschrist.org/study/general-conference/2013/04/stand-strong-in-holy-places?lang=eng\n",
            "Successfully fetched https://www.churchofjesuschrist.org/study/general-conference/2013/04/the-words-we-speak?lang=eng\n",
            "Successfully fetched https://www.churchofjesuschrist.org/study/general-conference/2013/04/your-wonderful-journey-home?lang=eng\n",
            "Successfully fetched https://www.churchofjesuschrist.org/study/general-conference/2013/04/the-gospel-to-all-the-world?lang=eng\n",
            "Successfully fetched https://www.churchofjesuschrist.org/study/general-conference/2013/04/marriage-watch-and-learn?lang=eng\n",
            "Successfully fetched https://www.churchofjesuschrist.org/study/general-conference/2013/04/a-sure-foundation?lang=eng\n",
            "Successfully fetched https://www.churchofjesuschrist.org/study/general-conference/2013/04/we-believe-in-being-chaste?lang=engSuccessfully fetched https://www.churchofjesuschrist.org/study/general-conference/2013/04/for-peace-at-home?lang=eng\n",
            "\n",
            "Successfully fetched https://www.churchofjesuschrist.org/study/general-conference/2013/04/the-lords-way?lang=eng\n"
          ]
        },
        {
          "output_type": "stream",
          "name": "stderr",
          "text": [
            "\rScraping talks in parallel:  20%|██        | 862/4233 [02:05<09:59,  5.62it/s]"
          ]
        },
        {
          "output_type": "stream",
          "name": "stdout",
          "text": [
            "Successfully fetched https://www.churchofjesuschrist.org/study/general-conference/2013/04/followers-of-christ?lang=eng\n",
            "Successfully fetched https://www.churchofjesuschrist.org/study/general-conference/2013/04/the-father-and-the-son?lang=eng\n",
            "Successfully fetched https://www.churchofjesuschrist.org/study/general-conference/2013/04/the-savior-wants-to-forgive?lang=eng\n",
            "Successfully fetched https://www.churchofjesuschrist.org/study/general-conference/2013/04/when-you-save-a-girl-you-save-generations?lang=eng\n",
            "Successfully fetched https://www.churchofjesuschrist.org/study/general-conference/2013/04/obedience-to-law-is-liberty?lang=eng\n",
            "Successfully fetched https://www.churchofjesuschrist.org/study/general-conference/2012/10/converted-unto-the-lord?lang=eng\n",
            "Successfully fetched https://www.churchofjesuschrist.org/study/general-conference/2013/04/we-are-one?lang=eng\n",
            "Successfully fetched https://www.churchofjesuschrist.org/study/general-conference/2012/10/trial-of-your-faith?lang=eng\n",
            "Successfully fetched https://www.churchofjesuschrist.org/study/general-conference/2012/10/one-step-closer-to-the-savior?lang=eng\n",
            "Successfully fetched https://www.churchofjesuschrist.org/study/general-conference/2013/04/the-sustaining-of-church-officers?lang=eng\n",
            "Successfully fetched https://www.churchofjesuschrist.org/study/general-conference/2012/10/where-is-the-pavilion?lang=eng\n"
          ]
        },
        {
          "output_type": "stream",
          "name": "stderr",
          "text": [
            "Scraping talks in parallel:  21%|██        | 880/4233 [02:07<06:35,  8.48it/s]"
          ]
        },
        {
          "output_type": "stream",
          "name": "stdout",
          "text": [
            "Successfully fetched https://www.churchofjesuschrist.org/study/general-conference/2012/10/brethren-we-have-work-to-do?lang=eng\n",
            "Successfully fetched https://www.churchofjesuschrist.org/study/general-conference/2012/10/being-a-more-christian-christian?lang=eng\n",
            "Successfully fetched https://www.churchofjesuschrist.org/study/general-conference/2012/10/by-faith-all-things-are-fulfilled?lang=eng\n",
            "Successfully fetched https://www.churchofjesuschrist.org/study/general-conference/2012/10/i-know-it-i-live-it-i-love-it?lang=eng\n",
            "Successfully fetched https://www.churchofjesuschrist.org/study/general-conference/2012/10/see-others-as-they-may-become?lang=eng\n",
            "Successfully fetched https://www.churchofjesuschrist.org/study/general-conference/2012/10/the-joy-of-the-priesthood?lang=eng\n",
            "Successfully fetched https://www.churchofjesuschrist.org/study/general-conference/2012/10/the-sustaining-of-church-officers?lang=eng\n",
            "Successfully fetched https://www.churchofjesuschrist.org/study/general-conference/2012/10/the-caregiver?lang=eng\n",
            "Successfully fetched https://www.churchofjesuschrist.org/study/general-conference/2012/10/the-joy-of-redeeming-the-dead?lang=eng\n",
            "Successfully fetched https://www.churchofjesuschrist.org/study/general-conference/2012/10/the-atonement?lang=eng\n",
            "Successfully fetched https://www.churchofjesuschrist.org/study/general-conference/2012/10/protect-the-children?lang=eng\n",
            "Successfully fetched https://www.churchofjesuschrist.org/study/general-conference/2012/10/the-first-great-commandment?lang=eng\n"
          ]
        },
        {
          "output_type": "stream",
          "name": "stderr",
          "text": [
            "Scraping talks in parallel:  21%|██        | 892/4233 [02:09<05:53,  9.45it/s]"
          ]
        },
        {
          "output_type": "stream",
          "name": "stdout",
          "text": [
            "Successfully fetched https://www.churchofjesuschrist.org/study/general-conference/2012/10/ask-the-missionaries-they-can-help-you?lang=eng\n",
            "Successfully fetched https://www.churchofjesuschrist.org/study/general-conference/2012/10/wide-awake-to-our-duties?lang=eng\n",
            "Successfully fetched https://www.churchofjesuschrist.org/study/general-conference/2012/10/first-observe-then-serve?lang=eng\n",
            "Successfully fetched https://www.churchofjesuschrist.org/study/general-conference/2012/10/can-ye-feel-so-now?lang=eng\n",
            "Successfully fetched https://www.churchofjesuschrist.org/study/general-conference/2012/10/be-valiant-in-courage-strength-and-activity?lang=eng\n",
            "Successfully fetched https://www.churchofjesuschrist.org/study/general-conference/2012/10/blessings-of-the-sacrament?lang=engSuccessfully fetched https://www.churchofjesuschrist.org/study/general-conference/2012/10/what-shall-a-man-give-in-exchange-for-his-soul?lang=eng\n",
            "\n",
            "Successfully fetched https://www.churchofjesuschrist.org/study/general-conference/2012/10/consider-the-blessings?lang=eng\n",
            "Successfully fetched https://www.churchofjesuschrist.org/study/general-conference/2012/10/saturday-morning-session?lang=eng\n",
            "Successfully fetched https://www.churchofjesuschrist.org/study/general-conference/2012/10/beware-concerning-yourselves?lang=eng\n",
            "Successfully fetched https://www.churchofjesuschrist.org/study/general-conference/2012/10/becoming-a-true-disciple?lang=eng\n",
            "Successfully fetched https://www.churchofjesuschrist.org/study/general-conference/2012/10/is-faith-in-the-atonement-of-jesus-christ-written-in-our-hearts?lang=eng\n"
          ]
        },
        {
          "output_type": "stream",
          "name": "stderr",
          "text": [
            "\rScraping talks in parallel:  21%|██        | 896/4233 [02:10<07:22,  7.54it/s]"
          ]
        },
        {
          "output_type": "stream",
          "name": "stdout",
          "text": [
            "Successfully fetched https://www.churchofjesuschrist.org/study/general-conference/2012/10/because-i-live-ye-shall-live-also?lang=eng\n"
          ]
        },
        {
          "output_type": "stream",
          "name": "stderr",
          "text": [
            "Scraping talks in parallel:  21%|██▏       | 902/4233 [02:10<06:09,  9.02it/s]"
          ]
        },
        {
          "output_type": "stream",
          "name": "stdout",
          "text": [
            "Successfully fetched https://www.churchofjesuschrist.org/study/general-conference/2012/10/of-regrets-and-resolutions?lang=eng\n",
            "Successfully fetched https://www.churchofjesuschrist.org/study/general-conference/2012/10/come-unto-me-o-ye-house-of-israel?lang=eng\n",
            "Successfully fetched https://www.churchofjesuschrist.org/study/general-conference/2012/10/god-be-with-you-till-we-meet-again?lang=eng\n",
            "Successfully fetched https://www.churchofjesuschrist.org/study/general-conference/2012/10/learning-with-our-hearts?lang=eng\n",
            "Successfully fetched https://www.churchofjesuschrist.org/study/general-conference/2012/10/becoming-goodly-parents?lang=eng\n",
            "Successfully fetched https://www.churchofjesuschrist.org/study/general-conference/2012/10/welcome-to-conference?lang=eng\n",
            "Successfully fetched https://www.churchofjesuschrist.org/study/general-conference/2012/10/the-lord-has-not-forgotten-you?lang=eng\n",
            "Successfully fetched https://www.churchofjesuschrist.org/study/general-conference/2012/10/an-unspeakable-gift-from-god?lang=engSuccessfully fetched https://www.churchofjesuschrist.org/study/general-conference/2012/10/help-them-aim-high?lang=eng\n",
            "Successfully fetched https://www.churchofjesuschrist.org/study/general-conference/2012/10/be-anxiously-engaged?lang=eng\n",
            "\n",
            "Successfully fetched https://www.churchofjesuschrist.org/study/general-conference/2012/04/special-lessons?lang=eng\n",
            "Successfully fetched https://www.churchofjesuschrist.org/study/general-conference/2012/04/thanks-be-to-god?lang=eng\n"
          ]
        },
        {
          "output_type": "stream",
          "name": "stderr",
          "text": [
            "\rScraping talks in parallel:  21%|██▏       | 907/4233 [02:12<08:45,  6.33it/s]"
          ]
        },
        {
          "output_type": "stream",
          "name": "stdout",
          "text": [
            "Successfully fetched https://www.churchofjesuschrist.org/study/general-conference/2012/10/temple-standard?lang=eng\n",
            "Successfully fetched https://www.churchofjesuschrist.org/study/general-conference/2012/04/faith-fortitude-fulfillment-a-message-to-single-parents?lang=eng\n"
          ]
        },
        {
          "output_type": "stream",
          "name": "stderr",
          "text": [
            "Scraping talks in parallel:  22%|██▏       | 919/4233 [02:12<04:27, 12.40it/s]"
          ]
        },
        {
          "output_type": "stream",
          "name": "stdout",
          "text": [
            "Successfully fetched https://www.churchofjesuschrist.org/study/general-conference/2012/04/now-is-the-time-to-arise-and-shine?lang=eng\n",
            "Successfully fetched https://www.churchofjesuschrist.org/study/general-conference/2012/04/seek-learning-you-have-a-work-to-do?lang=eng\n",
            "Successfully fetched https://www.churchofjesuschrist.org/study/general-conference/2012/04/he-truly-loves-us?lang=engSuccessfully fetched https://www.churchofjesuschrist.org/study/general-conference/2012/04/was-it-worth-it?lang=eng\n",
            "\n",
            "Successfully fetched https://www.churchofjesuschrist.org/study/general-conference/2012/04/in-tune-with-the-music-of-faith?lang=eng\n",
            "Successfully fetched https://www.churchofjesuschrist.org/study/general-conference/2012/04/having-the-vision-to-do?lang=eng\n",
            "Successfully fetched https://www.churchofjesuschrist.org/study/general-conference/2012/04/statistical-report-2011?lang=eng\n",
            "Successfully fetched https://www.churchofjesuschrist.org/study/general-conference/2012/04/willing-and-worthy-to-serve?lang=eng\n",
            "Successfully fetched https://www.churchofjesuschrist.org/study/general-conference/2012/04/the-merciful-obtain-mercy?lang=eng\n"
          ]
        },
        {
          "output_type": "stream",
          "name": "stderr",
          "text": [
            "Scraping talks in parallel:  22%|██▏       | 928/4233 [02:13<05:02, 10.93it/s]"
          ]
        },
        {
          "output_type": "stream",
          "name": "stdout",
          "text": [
            "Successfully fetched https://www.churchofjesuschrist.org/study/general-conference/2012/04/the-vision-of-prophets-regarding-relief-society-faith-family-relief?lang=eng\n",
            "Successfully fetched https://www.churchofjesuschrist.org/study/general-conference/2012/04/what-thinks-christ-of-me?lang=eng\n",
            "Successfully fetched https://www.churchofjesuschrist.org/study/general-conference/2012/04/the-laborers-in-the-vineyard?lang=eng\n",
            "Successfully fetched https://www.churchofjesuschrist.org/study/general-conference/2012/04/abide-in-the-lords-territory?lang=eng\n",
            "Successfully fetched https://www.churchofjesuschrist.org/study/general-conference/2012/04/that-the-lost-may-be-found?lang=eng\n"
          ]
        },
        {
          "output_type": "stream",
          "name": "stderr",
          "text": [
            "\rScraping talks in parallel:  22%|██▏       | 930/4233 [02:13<06:07,  8.98it/s]"
          ]
        },
        {
          "output_type": "stream",
          "name": "stdout",
          "text": [
            "Successfully fetched https://www.churchofjesuschrist.org/study/general-conference/2012/04/saturday-morning-session?lang=eng\n",
            "Successfully fetched https://www.churchofjesuschrist.org/study/general-conference/2012/04/as-we-gather-once-again?lang=eng\n",
            "Successfully fetched https://www.churchofjesuschrist.org/study/general-conference/2012/04/church-auditing-department-report-2011?lang=eng\n",
            "Successfully fetched https://www.churchofjesuschrist.org/study/general-conference/2012/04/aaronic-priesthood-arise-and-use-the-power-of-god?lang=eng\n",
            "Successfully fetched https://www.churchofjesuschrist.org/study/general-conference/2012/04/mountains-to-climb?lang=eng\n",
            "Successfully fetched https://www.churchofjesuschrist.org/study/general-conference/2012/04/teaching-our-children-to-understand?lang=eng\n",
            "Successfully fetched https://www.churchofjesuschrist.org/study/general-conference/2012/04/the-sustaining-of-church-officers?lang=eng\n"
          ]
        },
        {
          "output_type": "stream",
          "name": "stderr",
          "text": [
            "Scraping talks in parallel:  22%|██▏       | 941/4233 [02:14<04:05, 13.39it/s]"
          ]
        },
        {
          "output_type": "stream",
          "name": "stdout",
          "text": [
            "Successfully fetched https://www.churchofjesuschrist.org/study/general-conference/2012/04/the-power-of-deliverance?lang=eng\n",
            "Successfully fetched https://www.churchofjesuschrist.org/study/general-conference/2012/04/coming-to-ourselves-the-sacrament-the-temple-and-sacrifice-in-service?lang=eng\n",
            "Successfully fetched https://www.churchofjesuschrist.org/study/general-conference/2012/04/how-to-obtain-revelation-and-inspiration-for-your-personal-life?lang=eng\n",
            "Successfully fetched https://www.churchofjesuschrist.org/study/general-conference/2012/04/to-hold-sacred?lang=eng\n",
            "Successfully fetched https://www.churchofjesuschrist.org/study/general-conference/2012/04/the-powers-of-heaven?lang=eng\n",
            "Successfully fetched https://www.churchofjesuschrist.org/study/general-conference/2012/04/families-under-covenant?lang=eng\n",
            "Successfully fetched https://www.churchofjesuschrist.org/study/general-conference/2012/04/the-race-of-life?lang=eng\n",
            "Successfully fetched https://www.churchofjesuschrist.org/study/general-conference/2012/04/sacrifice?lang=eng\n",
            "Successfully fetched https://www.churchofjesuschrist.org/study/general-conference/2012/04/as-we-close-this-conference?lang=eng\n",
            "Successfully fetched https://www.churchofjesuschrist.org/study/general-conference/2012/04/the-why-of-priesthood-service?lang=eng\n",
            "Successfully fetched https://www.churchofjesuschrist.org/study/general-conference/2012/04/arise-and-shine-forth?lang=eng\n",
            "Successfully fetched https://www.churchofjesuschrist.org/study/general-conference/2012/04/converted-to-his-gospel-through-his-church?lang=eng\n"
          ]
        },
        {
          "output_type": "stream",
          "name": "stderr",
          "text": [
            "\rScraping talks in parallel:  22%|██▏       | 944/4233 [02:15<08:02,  6.81it/s]"
          ]
        },
        {
          "output_type": "stream",
          "name": "stdout",
          "text": [
            "Successfully fetched https://www.churchofjesuschrist.org/study/general-conference/2012/04/only-upon-the-principles-of-righteousness?lang=eng\n",
            "Successfully fetched https://www.churchofjesuschrist.org/study/general-conference/2012/04/and-a-little-child-shall-lead-them?lang=eng\n"
          ]
        },
        {
          "output_type": "stream",
          "name": "stderr",
          "text": [
            "\rScraping talks in parallel:  22%|██▏       | 946/4233 [02:15<07:16,  7.53it/s]"
          ]
        },
        {
          "output_type": "stream",
          "name": "stdout",
          "text": [
            "Successfully fetched https://www.churchofjesuschrist.org/study/general-conference/2012/04/believe-obey-and-endure?lang=eng\n",
            "Successfully fetched https://www.churchofjesuschrist.org/study/general-conference/2012/04/the-doctrine-of-christ?lang=eng\n"
          ]
        },
        {
          "output_type": "stream",
          "name": "stderr",
          "text": [
            "Scraping talks in parallel:  23%|██▎       | 954/4233 [02:16<05:24, 10.12it/s]"
          ]
        },
        {
          "output_type": "stream",
          "name": "stdout",
          "text": [
            "Successfully fetched https://www.churchofjesuschrist.org/study/general-conference/2011/10/the-time-shall-come?lang=eng\n",
            "Successfully fetched https://www.churchofjesuschrist.org/study/general-conference/2012/04/the-rescue-for-real-growth?lang=eng\n",
            "Successfully fetched https://www.churchofjesuschrist.org/study/general-conference/2011/10/preparation-in-the-priesthood-i-need-your-help?lang=eng\n"
          ]
        },
        {
          "output_type": "stream",
          "name": "stderr",
          "text": [
            "\rScraping talks in parallel:  23%|██▎       | 956/4233 [02:16<05:33,  9.83it/s]"
          ]
        },
        {
          "output_type": "stream",
          "name": "stdout",
          "text": [
            "Successfully fetched https://www.churchofjesuschrist.org/study/general-conference/2011/10/teaching-after-the-manner-of-the-spirit?lang=eng\n",
            "Successfully fetched https://www.churchofjesuschrist.org/study/general-conference/2011/10/forget-me-not?lang=eng\n",
            "Successfully fetched https://www.churchofjesuschrist.org/study/general-conference/2011/10/counsel-to-youth?lang=eng\n",
            "Successfully fetched https://www.churchofjesuschrist.org/study/general-conference/2011/10/the-book-of-mormon-a-book-from-god?lang=eng\n"
          ]
        },
        {
          "output_type": "stream",
          "name": "stderr",
          "text": [
            "\rScraping talks in parallel:  23%|██▎       | 959/4233 [02:16<05:46,  9.46it/s]"
          ]
        },
        {
          "output_type": "stream",
          "name": "stdout",
          "text": [
            "Successfully fetched https://www.churchofjesuschrist.org/study/general-conference/2011/10/covenants?lang=eng\n",
            "Successfully fetched https://www.churchofjesuschrist.org/study/general-conference/2011/10/choose-eternal-life?lang=eng\n",
            "Successfully fetched https://www.churchofjesuschrist.org/study/general-conference/2011/10/the-opportunity-of-a-lifetime?lang=eng\n"
          ]
        },
        {
          "output_type": "stream",
          "name": "stderr",
          "text": [
            "Scraping talks in parallel:  23%|██▎       | 963/4233 [02:17<06:08,  8.87it/s]"
          ]
        },
        {
          "output_type": "stream",
          "name": "stdout",
          "text": [
            "Successfully fetched https://www.churchofjesuschrist.org/study/general-conference/2011/10/children?lang=eng\n",
            "Successfully fetched https://www.churchofjesuschrist.org/study/general-conference/2011/10/providing-in-the-lords-way?lang=eng\n",
            "Successfully fetched https://www.churchofjesuschrist.org/study/general-conference/2011/10/stand-in-holy-places?lang=eng\n",
            "Successfully fetched https://www.churchofjesuschrist.org/study/general-conference/2011/10/redemption?lang=eng\n",
            "Successfully fetched https://www.churchofjesuschrist.org/study/general-conference/2011/10/the-divine-gift-of-repentance?lang=eng\n",
            "Successfully fetched https://www.churchofjesuschrist.org/study/general-conference/2011/10/charity-never-faileth?lang=eng\n",
            "Successfully fetched https://www.churchofjesuschrist.org/study/general-conference/2011/10/a-witness?lang=eng\n",
            "Successfully fetched https://www.churchofjesuschrist.org/study/general-conference/2011/10/perfect-love-casteth-out-fear?lang=eng\n",
            "Successfully fetched https://www.churchofjesuschrist.org/study/general-conference/2011/10/dare-to-stand-alone?lang=eng\n"
          ]
        },
        {
          "output_type": "stream",
          "name": "stderr",
          "text": [
            "\rScraping talks in parallel:  23%|██▎       | 965/4233 [02:19<15:31,  3.51it/s]"
          ]
        },
        {
          "output_type": "stream",
          "name": "stdout",
          "text": [
            "Successfully fetched https://www.churchofjesuschrist.org/study/general-conference/2011/10/it-is-better-to-look-up?lang=eng\n"
          ]
        },
        {
          "output_type": "stream",
          "name": "stderr",
          "text": [
            "\rScraping talks in parallel:  23%|██▎       | 971/4233 [02:19<08:46,  6.20it/s]"
          ]
        },
        {
          "output_type": "stream",
          "name": "stdout",
          "text": [
            "Successfully fetched https://www.churchofjesuschrist.org/study/general-conference/2011/10/as-we-meet-again?lang=eng\n",
            "Successfully fetched https://www.churchofjesuschrist.org/study/general-conference/2011/10/teachings-of-jesus?lang=eng\n",
            "Successfully fetched https://www.churchofjesuschrist.org/study/general-conference/2011/10/what-i-hope-my-granddaughters-and-grandsons-will-understand-about-relief-society?lang=eng\n",
            "Successfully fetched https://www.churchofjesuschrist.org/study/general-conference/2011/10/we-are-all-enlisted?lang=eng\n",
            "Successfully fetched https://www.churchofjesuschrist.org/study/general-conference/2011/10/personal-revelation-and-testimony?lang=eng\n",
            "Successfully fetched https://www.churchofjesuschrist.org/study/general-conference/2011/10/you-matter-to-him?lang=eng\n",
            "Successfully fetched https://www.churchofjesuschrist.org/study/general-conference/2011/10/the-hearts-of-the-children-shall-turn?lang=eng\n"
          ]
        },
        {
          "output_type": "stream",
          "name": "stderr",
          "text": [
            "\rScraping talks in parallel:  23%|██▎       | 976/4233 [02:20<10:28,  5.18it/s]"
          ]
        },
        {
          "output_type": "stream",
          "name": "stdout",
          "text": [
            "Successfully fetched https://www.churchofjesuschrist.org/study/general-conference/2011/10/saturday-morning-session?lang=eng\n",
            "Successfully fetched https://www.churchofjesuschrist.org/study/general-conference/2011/10/the-importance-of-a-name?lang=eng\n",
            "Successfully fetched https://www.churchofjesuschrist.org/study/general-conference/2011/10/cleave-unto-the-covenants?lang=eng\n",
            "Successfully fetched https://www.churchofjesuschrist.org/study/general-conference/2011/10/the-privilege-of-prayer?lang=eng\n",
            "Successfully fetched https://www.churchofjesuschrist.org/study/general-conference/2011/10/doing-the-right-thing-at-the-right-time-without-delay?lang=eng\n",
            "Successfully fetched https://www.churchofjesuschrist.org/study/general-conference/2011/10/the-power-of-scripture?lang=eng\n",
            "Successfully fetched https://www.churchofjesuschrist.org/study/general-conference/2011/10/love-her-mother?lang=eng\n",
            "Successfully fetched https://www.churchofjesuschrist.org/study/general-conference/2011/10/the-power-of-the-aaronic-priesthood?lang=eng\n"
          ]
        },
        {
          "output_type": "stream",
          "name": "stderr",
          "text": [
            "\rScraping talks in parallel:  23%|██▎       | 977/4233 [02:21<13:44,  3.95it/s]"
          ]
        },
        {
          "output_type": "stream",
          "name": "stdout",
          "text": [
            "Successfully fetched https://www.churchofjesuschrist.org/study/general-conference/2011/10/the-sustaining-of-church-officers?lang=eng\n",
            "Successfully fetched https://www.churchofjesuschrist.org/study/general-conference/2011/10/the-songs-they-could-not-sing?lang=eng\n",
            "Successfully fetched https://www.churchofjesuschrist.org/study/general-conference/2011/10/a-time-to-prepare?lang=eng\n",
            "Successfully fetched https://www.churchofjesuschrist.org/study/general-conference/2011/10/waiting-upon-the-lord-thy-will-be-done?lang=eng\n"
          ]
        },
        {
          "output_type": "stream",
          "name": "stderr",
          "text": [
            "\rScraping talks in parallel:  23%|██▎       | 986/4233 [02:21<07:59,  6.77it/s]"
          ]
        },
        {
          "output_type": "stream",
          "name": "stdout",
          "text": [
            "Successfully fetched https://www.churchofjesuschrist.org/study/general-conference/2011/10/until-we-meet-again?lang=eng\n",
            "Successfully fetched https://www.churchofjesuschrist.org/study/general-conference/2011/04/the-miracle-of-the-atonement?lang=eng\n"
          ]
        },
        {
          "output_type": "stream",
          "name": "stderr",
          "text": [
            "\rScraping talks in parallel:  23%|██▎       | 993/4233 [02:22<05:47,  9.32it/s]"
          ]
        },
        {
          "output_type": "stream",
          "name": "stdout",
          "text": [
            "Successfully fetched https://www.churchofjesuschrist.org/study/general-conference/2011/10/missionaries-are-a-treasure-of-the-church?lang=eng\n",
            "Successfully fetched https://www.churchofjesuschrist.org/study/general-conference/2011/04/opportunities-to-do-good?lang=eng\n",
            "Successfully fetched https://www.churchofjesuschrist.org/study/general-conference/2011/04/the-sanctifying-work-of-welfare?lang=eng\n",
            "Successfully fetched https://www.churchofjesuschrist.org/study/general-conference/2011/04/face-the-future-with-faith?lang=eng\n",
            "Successfully fetched https://www.churchofjesuschrist.org/study/general-conference/2011/04/waiting-on-the-road-to-damascus?lang=eng\n",
            "Successfully fetched https://www.churchofjesuschrist.org/study/general-conference/2011/04/finding-joy-through-loving-service?lang=eng\n",
            "Successfully fetched https://www.churchofjesuschrist.org/study/general-conference/2011/04/the-atonement-covers-all-pain?lang=eng\n",
            "Successfully fetched https://www.churchofjesuschrist.org/study/general-conference/2011/04/its-conference-once-again?lang=eng\n",
            "Successfully fetched https://www.churchofjesuschrist.org/study/general-conference/2011/04/saturday-morning-session?lang=eng\n"
          ]
        },
        {
          "output_type": "stream",
          "name": "stderr",
          "text": [
            "\rScraping talks in parallel:  24%|██▎       | 997/4233 [02:23<07:30,  7.19it/s]"
          ]
        },
        {
          "output_type": "stream",
          "name": "stdout",
          "text": [
            "Successfully fetched https://www.churchofjesuschrist.org/study/general-conference/2011/04/sacred-keys-of-the-aaronic-priesthood?lang=eng\n",
            "Successfully fetched https://www.churchofjesuschrist.org/study/general-conference/2011/04/statistical-report-2010?lang=eng\n",
            "Successfully fetched https://www.churchofjesuschrist.org/study/general-conference/2011/04/what-manner-of-men-and-women-ought-ye-to-be?lang=eng\n",
            "Successfully fetched https://www.churchofjesuschrist.org/study/general-conference/2011/04/the-sustaining-of-church-officers?lang=eng\n",
            "Successfully fetched https://www.churchofjesuschrist.org/study/general-conference/2011/04/more-than-conquerors-through-him-that-loved-us?lang=eng\n",
            "Successfully fetched https://www.churchofjesuschrist.org/study/general-conference/2011/04/called-to-be-saints?lang=eng\n",
            "Successfully fetched https://www.churchofjesuschrist.org/study/general-conference/2011/04/testimony?lang=eng\n",
            "Successfully fetched https://www.churchofjesuschrist.org/study/general-conference/2011/04/priesthood-power?lang=eng\n",
            "Successfully fetched https://www.churchofjesuschrist.org/study/general-conference/2011/04/the-essence-of-discipleship?lang=eng\n",
            "Successfully fetched https://www.churchofjesuschrist.org/study/general-conference/2011/04/the-eternal-blessings-of-marriage?lang=eng\n",
            "Successfully fetched https://www.churchofjesuschrist.org/study/general-conference/2011/04/establishing-a-christ-centered-home?lang=eng\n",
            "Successfully fetched https://www.churchofjesuschrist.org/study/general-conference/2011/04/remember-this-kindness-begins-with-me?lang=eng\n",
            "Successfully fetched https://www.churchofjesuschrist.org/study/general-conference/2011/04/at-parting?lang=eng\n",
            "Successfully fetched https://www.churchofjesuschrist.org/study/general-conference/2011/04/a-living-testimony?lang=eng\n"
          ]
        },
        {
          "output_type": "stream",
          "name": "stderr",
          "text": [
            "\rScraping talks in parallel:  24%|██▎       | 1004/4233 [02:24<08:54,  6.04it/s]"
          ]
        },
        {
          "output_type": "stream",
          "name": "stdout",
          "text": [
            "Successfully fetched https://www.churchofjesuschrist.org/study/general-conference/2011/04/the-lords-richest-blessings?lang=eng\n",
            "Successfully fetched https://www.churchofjesuschrist.org/study/general-conference/2011/04/hope?lang=eng\n"
          ]
        },
        {
          "output_type": "stream",
          "name": "stderr",
          "text": [
            "\rScraping talks in parallel:  24%|██▍       | 1012/4233 [02:24<05:59,  8.95it/s]"
          ]
        },
        {
          "output_type": "stream",
          "name": "stdout",
          "text": [
            "Successfully fetched https://www.churchofjesuschrist.org/study/general-conference/2011/04/i-believe-in-being-honest-and-true?lang=eng\n",
            "Successfully fetched https://www.churchofjesuschrist.org/study/general-conference/2011/04/church-auditing-department-report-2010?lang=eng\n",
            "Successfully fetched https://www.churchofjesuschrist.org/study/general-conference/2011/04/your-potential-your-privilege?lang=eng\n"
          ]
        },
        {
          "output_type": "stream",
          "name": "stderr",
          "text": [
            "Scraping talks in parallel:  24%|██▍       | 1022/4233 [02:25<04:06, 13.02it/s]"
          ]
        },
        {
          "output_type": "stream",
          "name": "stdout",
          "text": [
            "Successfully fetched https://www.churchofjesuschrist.org/study/general-conference/2011/04/desire?lang=eng\n",
            "Successfully fetched https://www.churchofjesuschrist.org/study/general-conference/2011/04/become-as-a-little-child?lang=eng\n",
            "Successfully fetched https://www.churchofjesuschrist.org/study/general-conference/2011/04/the-holy-temple-a-beacon-to-the-world?lang=eng\n",
            "Successfully fetched https://www.churchofjesuschrist.org/study/general-conference/2011/04/the-spirit-of-revelation?lang=eng\n",
            "Successfully fetched https://www.churchofjesuschrist.org/study/general-conference/2011/04/an-ensign-to-the-nations?lang=eng\n",
            "Successfully fetched https://www.churchofjesuschrist.org/study/general-conference/2011/04/as-many-as-i-love-i-rebuke-and-chasten?lang=eng\n",
            "Successfully fetched https://www.churchofjesuschrist.org/study/general-conference/2011/04/preparing-the-world-for-the-second-coming?lang=eng\n",
            "Successfully fetched https://www.churchofjesuschrist.org/study/general-conference/2011/04/guided-by-the-holy-spirit?lang=eng\n"
          ]
        },
        {
          "output_type": "stream",
          "name": "stderr",
          "text": [
            "Scraping talks in parallel:  24%|██▍       | 1029/4233 [02:26<04:58, 10.75it/s]"
          ]
        },
        {
          "output_type": "stream",
          "name": "stdout",
          "text": [
            "Successfully fetched https://www.churchofjesuschrist.org/study/general-conference/2011/04/followers-of-christ?lang=eng\n",
            "Successfully fetched https://www.churchofjesuschrist.org/study/general-conference/2011/04/the-sabbath-and-the-sacrament?lang=engSuccessfully fetched https://www.churchofjesuschrist.org/study/general-conference/2011/04/lds-women-are-incredible?lang=eng\n",
            "\n",
            "Successfully fetched https://www.churchofjesuschrist.org/study/general-conference/2011/04/learning-in-the-priesthood?lang=eng\n"
          ]
        },
        {
          "output_type": "stream",
          "name": "stderr",
          "text": [
            "\rScraping talks in parallel:  24%|██▍       | 1032/4233 [02:26<06:14,  8.55it/s]"
          ]
        },
        {
          "output_type": "stream",
          "name": "stdout",
          "text": [
            "Successfully fetched https://www.churchofjesuschrist.org/study/general-conference/2011/04/guardians-of-virtue?lang=eng\n",
            "Successfully fetched https://www.churchofjesuschrist.org/study/general-conference/2010/10/o-that-cunning-plan-of-the-evil-one?lang=eng\n",
            "Successfully fetched https://www.churchofjesuschrist.org/study/general-conference/2010/10/serve-with-the-spirit?lang=eng\n",
            "Successfully fetched https://www.churchofjesuschrist.org/study/general-conference/2010/10/as-we-meet-together-again?lang=eng\n"
          ]
        },
        {
          "output_type": "stream",
          "name": "stderr",
          "text": [
            "\rScraping talks in parallel:  24%|██▍       | 1036/4233 [02:27<05:20,  9.98it/s]"
          ]
        },
        {
          "output_type": "stream",
          "name": "stdout",
          "text": [
            "Successfully fetched https://www.churchofjesuschrist.org/study/general-conference/2010/10/and-of-some-have-compassion-making-a-difference?lang=eng\n",
            "Successfully fetched https://www.churchofjesuschrist.org/study/general-conference/2010/10/stay-on-the-path?lang=eng\n"
          ]
        },
        {
          "output_type": "stream",
          "name": "stderr",
          "text": [
            "\rScraping talks in parallel:  25%|██▍       | 1040/4233 [02:27<05:10, 10.28it/s]"
          ]
        },
        {
          "output_type": "stream",
          "name": "stdout",
          "text": [
            "Successfully fetched https://www.churchofjesuschrist.org/study/general-conference/2010/10/saturday-morning-session?lang=eng\n",
            "Successfully fetched https://www.churchofjesuschrist.org/study/general-conference/2010/10/be-an-example-of-the-believers?lang=eng\n",
            "Successfully fetched https://www.churchofjesuschrist.org/study/general-conference/2010/10/the-holy-ghost-and-revelation?lang=eng\n",
            "Successfully fetched https://www.churchofjesuschrist.org/study/general-conference/2010/10/avoiding-the-trap-of-sin?lang=eng\n",
            "Successfully fetched https://www.churchofjesuschrist.org/study/general-conference/2010/10/he-teaches-us-to-put-off-the-natural-man?lang=eng\n",
            "Successfully fetched https://www.churchofjesuschrist.org/study/general-conference/2010/10/daughters-in-my-kingdom-the-history-and-work-of-relief-society?lang=eng\n",
            "Successfully fetched https://www.churchofjesuschrist.org/study/general-conference/2010/10/never-leave-him?lang=eng\n",
            "Successfully fetched https://www.churchofjesuschrist.org/study/general-conference/2010/10/of-things-that-matter-most?lang=eng\n",
            "Successfully fetched https://www.churchofjesuschrist.org/study/general-conference/2010/10/agency-essential-to-the-plan-of-life?lang=eng\n",
            "Successfully fetched https://www.churchofjesuschrist.org/study/general-conference/2010/10/pride-and-the-priesthood?lang=eng\n",
            "Successfully fetched https://www.churchofjesuschrist.org/study/general-conference/2010/10/the-three-rs-of-choice?lang=eng\n",
            "Successfully fetched https://www.churchofjesuschrist.org/study/general-conference/2010/10/the-sustaining-of-church-officers?lang=eng\n",
            "Successfully fetched https://www.churchofjesuschrist.org/study/general-conference/2010/10/obedience-to-the-prophets?lang=eng\n"
          ]
        },
        {
          "output_type": "stream",
          "name": "stderr",
          "text": [
            "\rScraping talks in parallel:  25%|██▍       | 1044/4233 [02:28<08:32,  6.23it/s]"
          ]
        },
        {
          "output_type": "stream",
          "name": "stdout",
          "text": [
            "Successfully fetched https://www.churchofjesuschrist.org/study/general-conference/2010/10/because-of-your-faith?lang=eng\n",
            "Successfully fetched https://www.churchofjesuschrist.org/study/general-conference/2010/10/our-very-survival?lang=eng\n",
            "Successfully fetched https://www.churchofjesuschrist.org/study/general-conference/2010/10/let-there-be-light?lang=eng\n",
            "Successfully fetched https://www.churchofjesuschrist.org/study/general-conference/2010/10/come-unto-me-with-full-purpose-of-heart-and-i-shall-heal-you?lang=eng\n",
            "Successfully fetched https://www.churchofjesuschrist.org/study/general-conference/2010/10/steadfast-and-immovable?lang=eng\n"
          ]
        },
        {
          "output_type": "stream",
          "name": "stderr",
          "text": [
            "\rScraping talks in parallel:  25%|██▍       | 1050/4233 [02:29<07:39,  6.93it/s]"
          ]
        },
        {
          "output_type": "stream",
          "name": "stdout",
          "text": [
            "Successfully fetched https://www.churchofjesuschrist.org/study/general-conference/2010/10/the-transforming-power-of-faith-and-character?lang=eng\n",
            "Successfully fetched https://www.churchofjesuschrist.org/study/general-conference/2010/10/receive-the-holy-ghost?lang=eng\n",
            "Successfully fetched https://www.churchofjesuschrist.org/study/general-conference/2010/10/temple-mirrors-of-eternity-a-testimony-of-family?lang=eng\n",
            "Successfully fetched https://www.churchofjesuschrist.org/study/general-conference/2010/10/till-we-meet-again?lang=eng\n",
            "Successfully fetched https://www.churchofjesuschrist.org/study/general-conference/2010/10/trust-in-god-then-go-and-do?lang=eng\n",
            "Successfully fetched https://www.churchofjesuschrist.org/study/general-conference/2010/10/courageous-parenting?lang=eng\n"
          ]
        },
        {
          "output_type": "stream",
          "name": "stderr",
          "text": [
            "\rScraping talks in parallel:  25%|██▌       | 1060/4233 [02:30<06:00,  8.81it/s]"
          ]
        },
        {
          "output_type": "stream",
          "name": "stdout",
          "text": [
            "Successfully fetched https://www.churchofjesuschrist.org/study/general-conference/2010/10/be-thou-an-example-of-the-believers?lang=eng\n",
            "Successfully fetched https://www.churchofjesuschrist.org/study/general-conference/2010/10/gospel-learning-and-teaching?lang=eng\n",
            "Successfully fetched https://www.churchofjesuschrist.org/study/general-conference/2010/10/cleansing-the-inner-vessel?lang=eng\n",
            "Successfully fetched https://www.churchofjesuschrist.org/study/general-conference/2010/10/reflections-on-a-consecrated-life?lang=eng\n",
            "Successfully fetched https://www.churchofjesuschrist.org/study/general-conference/2010/10/what-have-you-done-with-my-name?lang=eng\n",
            "Successfully fetched https://www.churchofjesuschrist.org/study/general-conference/2010/10/the-divine-gift-of-gratitude?lang=eng\n",
            "Successfully fetched https://www.churchofjesuschrist.org/study/general-conference/2010/10/the-priesthood-of-aaron?lang=eng\n",
            "Successfully fetched https://www.churchofjesuschrist.org/study/general-conference/2010/10/charity-never-faileth?lang=eng\n",
            "Successfully fetched https://www.churchofjesuschrist.org/study/general-conference/2010/10/faith-the-choice-is-yours?lang=eng\n",
            "Successfully fetched https://www.churchofjesuschrist.org/study/general-conference/2010/10/two-lines-of-communication?lang=eng"
          ]
        },
        {
          "output_type": "stream",
          "name": "stderr",
          "text": [
            "\rScraping talks in parallel:  25%|██▌       | 1067/4233 [02:31<06:13,  8.48it/s]"
          ]
        },
        {
          "output_type": "stream",
          "name": "stdout",
          "text": [
            "\n"
          ]
        },
        {
          "output_type": "stream",
          "name": "stderr",
          "text": [
            "\rScraping talks in parallel:  25%|██▌       | 1069/4233 [02:31<07:07,  7.41it/s]"
          ]
        },
        {
          "output_type": "stream",
          "name": "stdout",
          "text": [
            "Successfully fetched https://www.churchofjesuschrist.org/study/general-conference/2010/04/statistical-report-2009?lang=eng\n",
            "Successfully fetched https://www.churchofjesuschrist.org/study/general-conference/2010/10/rest-unto-your-souls?lang=eng\n",
            "Successfully fetched https://www.churchofjesuschrist.org/study/general-conference/2010/04/our-duty-to-god-the-mission-of-parents-and-leaders-to-the-rising-generation?lang=eng\n",
            "Successfully fetched https://www.churchofjesuschrist.org/study/general-conference/2010/04/act-in-all-diligence?lang=eng\n",
            "Successfully fetched https://www.churchofjesuschrist.org/study/general-conference/2010/04/healing-the-sick?lang=eng\n",
            "Successfully fetched https://www.churchofjesuschrist.org/study/general-conference/2010/04/never-never-never-give-up?lang=eng\n",
            "Successfully fetched https://www.churchofjesuschrist.org/study/general-conference/2010/04/church-auditing-department-report-2009?lang=eng\n",
            "Successfully fetched https://www.churchofjesuschrist.org/study/general-conference/2010/04/your-happily-ever-after?lang=eng\n",
            "Successfully fetched https://www.churchofjesuschrist.org/study/general-conference/2010/04/the-sustaining-of-church-officers?lang=eng\n",
            "Successfully fetched https://www.churchofjesuschrist.org/study/general-conference/2010/04/the-divine-call-of-a-missionary?lang=eng\n"
          ]
        },
        {
          "output_type": "stream",
          "name": "stderr",
          "text": [
            "Scraping talks in parallel:  26%|██▌       | 1087/4233 [02:33<05:00, 10.46it/s]"
          ]
        },
        {
          "output_type": "stream",
          "name": "stdout",
          "text": [
            "Successfully fetched https://www.churchofjesuschrist.org/study/general-conference/2010/04/helping-hands-saving-hands?lang=eng\n",
            "Successfully fetched https://www.churchofjesuschrist.org/study/general-conference/2010/04/continue-in-patience?lang=eng\n",
            "Successfully fetched https://www.churchofjesuschrist.org/study/general-conference/2010/04/that-our-children-might-see-the-face-of-the-savior?lang=eng\n",
            "Successfully fetched https://www.churchofjesuschrist.org/study/general-conference/2010/04/mothers-teaching-children-in-the-home?lang=eng\n",
            "Successfully fetched https://www.churchofjesuschrist.org/study/general-conference/2010/04/when-the-lord-commands?lang=eng\n",
            "Successfully fetched https://www.churchofjesuschrist.org/study/general-conference/2010/04/preparation-brings-blessings?lang=eng\n",
            "Successfully fetched https://www.churchofjesuschrist.org/study/general-conference/2010/04/welcome-to-conference?lang=eng\n",
            "Successfully fetched https://www.churchofjesuschrist.org/study/general-conference/2010/04/and-upon-the-handmaids-in-those-days-will-i-pour-out-my-spirit?lang=eng\n",
            "Successfully fetched https://www.churchofjesuschrist.org/study/general-conference/2010/04/generations-linked-in-love?lang=eng\n",
            "Successfully fetched https://www.churchofjesuschrist.org/study/general-conference/2010/04/be-of-a-good-courage?lang=eng\n",
            "Successfully fetched https://www.churchofjesuschrist.org/study/general-conference/2010/04/you-are-my-hands?lang=eng\n",
            "Successfully fetched https://www.churchofjesuschrist.org/study/general-conference/2010/04/our-path-of-duty?lang=eng\n",
            "Successfully fetched https://www.churchofjesuschrist.org/study/general-conference/2010/04/help-them-on-their-way-home?lang=eng\n",
            "Successfully fetched https://www.churchofjesuschrist.org/study/general-conference/2010/04/tell-me-the-stories-of-jesus?lang=eng\n",
            "Successfully fetched https://www.churchofjesuschrist.org/study/general-conference/2010/04/the-magnificent-aaronic-priesthood?lang=eng\n",
            "Successfully fetched https://www.churchofjesuschrist.org/study/general-conference/2010/04/a-word-at-closing?lang=eng\n",
            "Successfully fetched https://www.churchofjesuschrist.org/study/general-conference/2010/04/he-lives-all-glory-to-his-name?lang=eng\n",
            "Successfully fetched https://www.churchofjesuschrist.org/study/general-conference/2010/04/he-is-risen?lang=eng\n"
          ]
        },
        {
          "output_type": "stream",
          "name": "stderr",
          "text": [
            "Scraping talks in parallel:  26%|██▌       | 1099/4233 [02:35<05:47,  9.03it/s]"
          ]
        },
        {
          "output_type": "stream",
          "name": "stdout",
          "text": [
            "Successfully fetched https://www.churchofjesuschrist.org/study/general-conference/2010/04/the-power-of-the-priesthood?lang=eng\n",
            "Successfully fetched https://www.churchofjesuschrist.org/study/general-conference/2010/04/we-follow-jesus-christ?lang=eng\n"
          ]
        },
        {
          "output_type": "stream",
          "name": "stderr",
          "text": [
            "Scraping talks in parallel:  26%|██▌       | 1108/4233 [02:35<04:32, 11.45it/s]"
          ]
        },
        {
          "output_type": "stream",
          "name": "stdout",
          "text": [
            "Successfully fetched https://www.churchofjesuschrist.org/study/general-conference/2010/04/watching-with-all-perseverance?lang=eng\n",
            "Successfully fetched https://www.churchofjesuschrist.org/study/general-conference/2010/04/things-pertaining-to-righteousness?lang=eng\n",
            "Successfully fetched https://www.churchofjesuschrist.org/study/general-conference/2010/04/remember-who-you-are?lang=eng\n",
            "Successfully fetched https://www.churchofjesuschrist.org/study/general-conference/2010/04/mother-told-me?lang=eng\n",
            "Successfully fetched https://www.churchofjesuschrist.org/study/general-conference/2010/04/the-blessing-of-scripture?lang=eng\n",
            "Successfully fetched https://www.churchofjesuschrist.org/study/general-conference/2010/04/place-no-more-for-the-enemy-of-my-soul?lang=eng\n",
            "Successfully fetched https://www.churchofjesuschrist.org/study/general-conference/2010/04/the-rock-of-our-redeemer?lang=eng\n",
            "Successfully fetched https://www.churchofjesuschrist.org/study/general-conference/2010/04/turn-to-the-lord?lang=eng\n",
            "Successfully fetched https://www.churchofjesuschrist.org/study/general-conference/2010/04/saturday-morning-session?lang=eng\n",
            "Successfully fetched https://www.churchofjesuschrist.org/study/general-conference/2010/04/developing-good-judgment-and-not-judging-others?lang=eng\n",
            "Successfully fetched https://www.churchofjesuschrist.org/study/general-conference/2010/04/mothers-and-daughters?lang=eng\n",
            "Successfully fetched https://www.churchofjesuschrist.org/study/general-conference/2010/04/all-things-work-together-for-good?lang=eng\n"
          ]
        },
        {
          "output_type": "stream",
          "name": "stderr",
          "text": [
            "\rScraping talks in parallel:  26%|██▌       | 1111/4233 [02:36<06:48,  7.64it/s]"
          ]
        },
        {
          "output_type": "stream",
          "name": "stdout",
          "text": [
            "Successfully fetched https://www.churchofjesuschrist.org/study/general-conference/2009/10/mind-the-gap?lang=eng\n"
          ]
        },
        {
          "output_type": "stream",
          "name": "stderr",
          "text": [
            "\rScraping talks in parallel:  26%|██▋       | 1118/4233 [02:37<04:58, 10.43it/s]"
          ]
        },
        {
          "output_type": "stream",
          "name": "stdout",
          "text": [
            "Successfully fetched https://www.churchofjesuschrist.org/study/general-conference/2009/10/preserving-the-hearts-mighty-change?lang=eng\n",
            "Successfully fetched https://www.churchofjesuschrist.org/study/general-conference/2009/10/prayer-and-promptings?lang=eng\n",
            "Successfully fetched https://www.churchofjesuschrist.org/study/general-conference/2009/10/the-love-of-god?lang=eng\n",
            "Successfully fetched https://www.churchofjesuschrist.org/study/general-conference/2009/10/saturday-morning-session?lang=eng\n",
            "Successfully fetched https://www.churchofjesuschrist.org/study/general-conference/2009/10/relief-society-a-sacred-work?lang=eng\n",
            "Successfully fetched https://www.churchofjesuschrist.org/study/general-conference/2009/10/hold-on?lang=eng\n",
            "Successfully fetched https://www.churchofjesuschrist.org/study/general-conference/2009/10/be-ready?lang=engSuccessfully fetched https://www.churchofjesuschrist.org/study/general-conference/2009/10/let-virtue-garnish-your-thoughts?lang=eng\n",
            "\n"
          ]
        },
        {
          "output_type": "stream",
          "name": "stderr",
          "text": [
            "Scraping talks in parallel:  27%|██▋       | 1124/4233 [02:37<05:13,  9.92it/s]"
          ]
        },
        {
          "output_type": "stream",
          "name": "stdout",
          "text": [
            "Successfully fetched https://www.churchofjesuschrist.org/study/general-conference/2009/10/what-have-i-done-for-someone-today?lang=eng\n",
            "Successfully fetched https://www.churchofjesuschrist.org/study/general-conference/2009/10/repent-that-i-may-heal-you?lang=eng\n"
          ]
        },
        {
          "output_type": "stream",
          "name": "stderr",
          "text": [
            "\rScraping talks in parallel:  27%|██▋       | 1126/4233 [02:38<05:46,  8.97it/s]"
          ]
        },
        {
          "output_type": "stream",
          "name": "stdout",
          "text": [
            "Successfully fetched https://www.churchofjesuschrist.org/study/general-conference/2009/10/more-diligent-and-concerned-at-home?lang=eng\n",
            "Successfully fetched https://www.churchofjesuschrist.org/study/general-conference/2009/10/i-love-loud-boys?lang=eng\n"
          ]
        },
        {
          "output_type": "stream",
          "name": "stderr",
          "text": [
            "\rScraping talks in parallel:  27%|██▋       | 1129/4233 [02:38<04:42, 10.99it/s]"
          ]
        },
        {
          "output_type": "stream",
          "name": "stdout",
          "text": [
            "Successfully fetched https://www.churchofjesuschrist.org/study/general-conference/2009/10/the-sustaining-of-church-officers?lang=eng\n",
            "Successfully fetched https://www.churchofjesuschrist.org/study/general-conference/2009/10/school-thy-feelings-o-my-brother?lang=eng\n",
            "Successfully fetched https://www.churchofjesuschrist.org/study/general-conference/2009/10/a-call-to-the-rising-generation?lang=eng\n",
            "Successfully fetched https://www.churchofjesuschrist.org/study/general-conference/2009/10/being-temperate-in-all-things?lang=eng\n",
            "Successfully fetched https://www.churchofjesuschrist.org/study/general-conference/2009/10/fathers-and-sons-a-remarkable-relationship?lang=eng\n",
            "Successfully fetched https://www.churchofjesuschrist.org/study/general-conference/2009/10/joseph-smith-prophet-of-the-restoration?lang=eng\n",
            "Successfully fetched https://www.churchofjesuschrist.org/study/general-conference/2009/10/moral-discipline?lang=eng\n"
          ]
        },
        {
          "output_type": "stream",
          "name": "stderr",
          "text": [
            "\rScraping talks in parallel:  27%|██▋       | 1132/4233 [02:39<06:57,  7.42it/s]"
          ]
        },
        {
          "output_type": "stream",
          "name": "stdout",
          "text": [
            "Successfully fetched https://www.churchofjesuschrist.org/study/general-conference/2009/10/helping-others-recognize-the-whisperings-of-the-spirit?lang=eng\n",
            "Successfully fetched https://www.churchofjesuschrist.org/study/general-conference/2009/10/love-and-law?lang=eng\n",
            "Successfully fetched https://www.churchofjesuschrist.org/study/general-conference/2009/10/an-easiness-and-willingness-to-believe?lang=eng\n",
            "Successfully fetched https://www.churchofjesuschrist.org/study/general-conference/2009/10/two-principles-for-any-economy?lang=eng\n",
            "Successfully fetched https://www.churchofjesuschrist.org/study/general-conference/2009/10/welcome-to-conference?lang=eng\n",
            "Successfully fetched https://www.churchofjesuschrist.org/study/general-conference/2009/10/becoming-more-powerful-priesthood-holders?lang=eng\n",
            "Successfully fetched https://www.churchofjesuschrist.org/study/general-conference/2009/10/our-perfect-example?lang=eng\n"
          ]
        },
        {
          "output_type": "stream",
          "name": "stderr",
          "text": [
            "Scraping talks in parallel:  27%|██▋       | 1141/4233 [02:39<05:43,  9.00it/s]"
          ]
        },
        {
          "output_type": "stream",
          "name": "stdout",
          "text": [
            "Successfully fetched https://www.churchofjesuschrist.org/study/general-conference/2009/10/ask-seek-knock?lang=eng\n",
            "Successfully fetched https://www.churchofjesuschrist.org/study/general-conference/2009/10/to-acquire-spiritual-guidance?lang=eng\n"
          ]
        },
        {
          "output_type": "stream",
          "name": "stderr",
          "text": [
            "\rScraping talks in parallel:  27%|██▋       | 1146/4233 [02:40<04:17, 12.00it/s]"
          ]
        },
        {
          "output_type": "stream",
          "name": "stdout",
          "text": [
            "Successfully fetched https://www.churchofjesuschrist.org/study/general-conference/2009/10/the-enduring-legacy-of-relief-society?lang=eng\n",
            "Successfully fetched https://www.churchofjesuschrist.org/study/general-conference/2009/10/closing-remarks?lang=eng\n",
            "Successfully fetched https://www.churchofjesuschrist.org/study/general-conference/2009/10/safety-for-the-soul?lang=eng\n",
            "Successfully fetched https://www.churchofjesuschrist.org/study/general-conference/2009/10/attempting-the-impossible?lang=eng\n",
            "Successfully fetched https://www.churchofjesuschrist.org/study/general-conference/2009/10/every-woman-needs-relief-society?lang=eng\n",
            "Successfully fetched https://www.churchofjesuschrist.org/study/general-conference/2009/10/teaching-helps-save-lives?lang=eng\n",
            "Successfully fetched https://www.churchofjesuschrist.org/study/general-conference/2009/10/blessings-of-the-gospel-available-to-all?lang=eng\n"
          ]
        },
        {
          "output_type": "stream",
          "name": "stderr",
          "text": [
            "\rScraping talks in parallel:  27%|██▋       | 1148/4233 [02:40<07:01,  7.31it/s]"
          ]
        },
        {
          "output_type": "stream",
          "name": "stdout",
          "text": [
            "Successfully fetched https://www.churchofjesuschrist.org/study/general-conference/2009/10/stewardship-a-sacred-trust?lang=eng\n",
            "Successfully fetched https://www.churchofjesuschrist.org/study/general-conference/2009/10/the-past-way-of-facing-the-future?lang=eng\n",
            "Successfully fetched https://www.churchofjesuschrist.org/study/general-conference/2009/04/his-arm-is-sufficient?lang=eng\n",
            "Successfully fetched https://www.churchofjesuschrist.org/study/general-conference/2009/10/seeking-to-know-god-our-heavenly-father-and-his-son-jesus-christ?lang=eng\n",
            "Successfully fetched https://www.churchofjesuschrist.org/study/general-conference/2009/04/this-is-your-phone-call?lang=eng\n",
            "Successfully fetched https://www.churchofjesuschrist.org/study/general-conference/2009/10/that-your-burdens-may-be-light?lang=eng\n",
            "Successfully fetched https://www.churchofjesuschrist.org/study/general-conference/2009/04/we-are-doing-a-great-work-and-cannot-come-down?lang=eng\n"
          ]
        },
        {
          "output_type": "stream",
          "name": "stderr",
          "text": [
            "\rScraping talks in parallel:  27%|██▋       | 1150/4233 [02:41<10:32,  4.87it/s]"
          ]
        },
        {
          "output_type": "stream",
          "name": "stdout",
          "text": [
            "Successfully fetched https://www.churchofjesuschrist.org/study/general-conference/2009/04/temple-worship-the-source-of-strength-and-power-in-times-of-need?lang=eng\n",
            "Successfully fetched https://www.churchofjesuschrist.org/study/general-conference/2009/04/his-servants-the-prophets?lang=eng\n",
            "Successfully fetched https://www.churchofjesuschrist.org/study/general-conference/2009/04/learning-the-lessons-of-the-past?lang=eng\n",
            "Successfully fetched https://www.churchofjesuschrist.org/study/general-conference/2009/04/come-unto-him?lang=eng\n",
            "Successfully fetched https://www.churchofjesuschrist.org/study/general-conference/2009/04/becoming-provident-providers-temporally-and-spiritually?lang=eng\n",
            "Successfully fetched https://www.churchofjesuschrist.org/study/general-conference/2009/04/adversity?lang=eng\n",
            "Successfully fetched https://www.churchofjesuschrist.org/study/general-conference/2009/04/the-power-of-covenants?lang=eng\n"
          ]
        },
        {
          "output_type": "stream",
          "name": "stderr",
          "text": [
            "Scraping talks in parallel:  28%|██▊       | 1167/4233 [02:42<04:12, 12.15it/s]"
          ]
        },
        {
          "output_type": "stream",
          "name": "stdout",
          "text": [
            "Successfully fetched https://www.churchofjesuschrist.org/study/general-conference/2009/04/get-on-with-our-lives?lang=eng\n",
            "Successfully fetched https://www.churchofjesuschrist.org/study/general-conference/2009/04/faith-in-adversity?lang=eng\n"
          ]
        },
        {
          "output_type": "stream",
          "name": "stderr",
          "text": [
            "\rScraping talks in parallel:  28%|██▊       | 1170/4233 [02:42<03:59, 12.80it/s]"
          ]
        },
        {
          "output_type": "stream",
          "name": "stdout",
          "text": [
            "Successfully fetched https://www.churchofjesuschrist.org/study/general-conference/2009/04/come-let-us-go-up-to-the-mountain-of-the-lord?lang=eng\n",
            "Successfully fetched https://www.churchofjesuschrist.org/study/general-conference/2009/04/welcome-to-conference?lang=eng\n",
            "Successfully fetched https://www.churchofjesuschrist.org/study/general-conference/2009/04/counsel-to-young-men?lang=eng\n",
            "Successfully fetched https://www.churchofjesuschrist.org/study/general-conference/2009/04/bring-souls-unto-me?lang=eng\n",
            "Successfully fetched https://www.churchofjesuschrist.org/study/general-conference/2009/04/the-sustaining-of-church-officers?lang=eng\n",
            "Successfully fetched https://www.churchofjesuschrist.org/study/general-conference/2009/04/respect-and-reverence?lang=eng\n"
          ]
        },
        {
          "output_type": "stream",
          "name": "stderr",
          "text": [
            "\rScraping talks in parallel:  28%|██▊       | 1173/4233 [02:43<04:39, 10.94it/s]"
          ]
        },
        {
          "output_type": "stream",
          "name": "stdout",
          "text": [
            "Successfully fetched https://www.churchofjesuschrist.org/study/general-conference/2009/04/priesthood-responsibilities?lang=eng\n",
            "Successfully fetched https://www.churchofjesuschrist.org/study/general-conference/2009/04/faith-in-the-lord-jesus-christ?lang=eng\n",
            "Successfully fetched https://www.churchofjesuschrist.org/study/general-conference/2009/04/revealed-quorum-principles?lang=eng\n",
            "Successfully fetched https://www.churchofjesuschrist.org/study/general-conference/2009/04/man-down?lang=eng\n",
            "Successfully fetched https://www.churchofjesuschrist.org/study/general-conference/2009/04/until-we-meet-again?lang=eng\n",
            "Successfully fetched https://www.churchofjesuschrist.org/study/general-conference/2009/04/none-were-with-him?lang=eng\n",
            "Successfully fetched https://www.churchofjesuschrist.org/study/general-conference/2009/04/may-you-have-courage?lang=engSuccessfully fetched https://www.churchofjesuschrist.org/study/general-conference/2009/04/our-fathers-plan-big-enough-for-all-his-children?lang=eng\n",
            "\n"
          ]
        },
        {
          "output_type": "stream",
          "name": "stderr",
          "text": [
            "Scraping talks in parallel:  28%|██▊       | 1179/4233 [02:44<07:13,  7.04it/s]"
          ]
        },
        {
          "output_type": "stream",
          "name": "stdout",
          "text": [
            "Successfully fetched https://www.churchofjesuschrist.org/study/general-conference/2009/04/be-your-best-self?lang=eng\n",
            "Successfully fetched https://www.churchofjesuschrist.org/study/general-conference/2009/04/church-auditing-department-report-2008?lang=eng\n"
          ]
        },
        {
          "output_type": "stream",
          "name": "stderr",
          "text": [
            "\rScraping talks in parallel:  28%|██▊       | 1181/4233 [02:44<08:07,  6.26it/s]"
          ]
        },
        {
          "output_type": "stream",
          "name": "stdout",
          "text": [
            "Successfully fetched https://www.churchofjesuschrist.org/study/general-conference/2009/04/lessons-from-the-lords-prayers?lang=eng\n",
            "Successfully fetched https://www.churchofjesuschrist.org/study/general-conference/2009/04/the-way-of-the-disciple?lang=eng\n",
            "Successfully fetched https://www.churchofjesuschrist.org/study/general-conference/2009/04/honorably-hold-a-name-and-standing?lang=eng\n",
            "Successfully fetched https://www.churchofjesuschrist.org/study/general-conference/2009/04/be-of-good-cheer?lang=eng\n",
            "Successfully fetched https://www.churchofjesuschrist.org/study/general-conference/2009/04/saturday-morning-session?lang=eng\n"
          ]
        },
        {
          "output_type": "stream",
          "name": "stderr",
          "text": [
            "\rScraping talks in parallel:  28%|██▊       | 1185/4233 [02:45<06:51,  7.40it/s]"
          ]
        },
        {
          "output_type": "stream",
          "name": "stdout",
          "text": [
            "Successfully fetched https://www.churchofjesuschrist.org/study/general-conference/2009/04/a-virtuous-life-step-by-step?lang=eng\n",
            "Successfully fetched https://www.churchofjesuschrist.org/study/general-conference/2009/04/sacred-homes-sacred-temples?lang=eng\n",
            "Successfully fetched https://www.churchofjesuschrist.org/study/general-conference/2009/04/statistical-report-2008?lang=eng\n",
            "Successfully fetched https://www.churchofjesuschrist.org/study/general-conference/2009/04/be-thou-an-example-of-the-believers?lang=eng\n",
            "Successfully fetched https://www.churchofjesuschrist.org/study/general-conference/2009/04/finding-strength-in-challenging-times?lang=eng\n"
          ]
        },
        {
          "output_type": "stream",
          "name": "stderr",
          "text": [
            "Scraping talks in parallel:  28%|██▊       | 1194/4233 [02:46<05:41,  8.90it/s]"
          ]
        },
        {
          "output_type": "stream",
          "name": "stdout",
          "text": [
            "Successfully fetched https://www.churchofjesuschrist.org/study/general-conference/2008/10/finding-joy-in-the-journey?lang=eng\n",
            "Successfully fetched https://www.churchofjesuschrist.org/study/general-conference/2008/10/hope-ya-know-we-had-a-hard-time?lang=eng\n",
            "Successfully fetched https://www.churchofjesuschrist.org/study/general-conference/2008/10/pray-always?lang=eng\n",
            "Successfully fetched https://www.churchofjesuschrist.org/study/general-conference/2009/04/unselfish-service?lang=eng\n",
            "Successfully fetched https://www.churchofjesuschrist.org/study/general-conference/2008/10/happiness-your-heritage?lang=eng\n",
            "Successfully fetched https://www.churchofjesuschrist.org/study/general-conference/2008/10/testimony-as-a-process?lang=eng\n",
            "Successfully fetched https://www.churchofjesuschrist.org/study/general-conference/2008/10/you-know-enough?lang=eng\n",
            "Successfully fetched https://www.churchofjesuschrist.org/study/general-conference/2008/10/even-a-child-can-understand?lang=eng\n",
            "Successfully fetched https://www.churchofjesuschrist.org/study/general-conference/2009/04/gifts-to-help-us-navigate-our-life?lang=eng\n",
            "Successfully fetched https://www.churchofjesuschrist.org/study/general-conference/2008/10/a-return-to-virtue?lang=eng\n",
            "Successfully fetched https://www.churchofjesuschrist.org/study/general-conference/2008/10/the-infinite-power-of-hope?lang=eng\n"
          ]
        },
        {
          "output_type": "stream",
          "name": "stderr",
          "text": [
            "\rScraping talks in parallel:  28%|██▊       | 1197/4233 [02:47<09:21,  5.41it/s]"
          ]
        },
        {
          "output_type": "stream",
          "name": "stdout",
          "text": [
            "Successfully fetched https://www.churchofjesuschrist.org/study/general-conference/2008/10/returning-home?lang=eng\n",
            "Successfully fetched https://www.churchofjesuschrist.org/study/general-conference/2008/10/sacrament-meeting-and-the-sacrament?lang=eng\n"
          ]
        },
        {
          "output_type": "stream",
          "name": "stderr",
          "text": [
            "\rScraping talks in parallel:  29%|██▊       | 1207/4233 [02:48<04:57, 10.19it/s]"
          ]
        },
        {
          "output_type": "stream",
          "name": "stdout",
          "text": [
            "Successfully fetched https://www.churchofjesuschrist.org/study/general-conference/2008/10/arms-of-safety?lang=eng\n",
            "Successfully fetched https://www.churchofjesuschrist.org/study/general-conference/2008/10/our-hearts-knit-as-one?lang=eng\n",
            "Successfully fetched https://www.churchofjesuschrist.org/study/general-conference/2008/10/god-loves-and-helps-all-of-his-children?lang=eng\n",
            "Successfully fetched https://www.churchofjesuschrist.org/study/general-conference/2008/10/winning-the-war-against-evil?lang=eng\n"
          ]
        },
        {
          "output_type": "stream",
          "name": "stderr",
          "text": [
            "\rScraping talks in parallel:  29%|██▊       | 1210/4233 [02:48<05:30,  9.14it/s]"
          ]
        },
        {
          "output_type": "stream",
          "name": "stdout",
          "text": [
            "Successfully fetched https://www.churchofjesuschrist.org/study/general-conference/2008/10/to-learn-to-do-to-be?lang=eng\n",
            "Successfully fetched https://www.churchofjesuschrist.org/study/general-conference/2008/10/saturday-morning-session?lang=eng\n",
            "Successfully fetched https://www.churchofjesuschrist.org/study/general-conference/2008/10/gospel-teaching-our-most-important-calling?lang=engSuccessfully fetched https://www.churchofjesuschrist.org/study/general-conference/2008/10/christian-courage-the-price-of-discipleship?lang=eng\n",
            "\n",
            "Successfully fetched https://www.churchofjesuschrist.org/study/general-conference/2008/10/now-let-us-rejoice?lang=eng\n",
            "Successfully fetched https://www.churchofjesuschrist.org/study/general-conference/2008/10/until-we-meet-again?lang=eng\n",
            "Successfully fetched https://www.churchofjesuschrist.org/study/general-conference/2008/10/o-ye-that-embark?lang=eng\n"
          ]
        },
        {
          "output_type": "stream",
          "name": "stderr",
          "text": [
            "Scraping talks in parallel:  29%|██▉       | 1218/4233 [02:49<04:53, 10.27it/s]"
          ]
        },
        {
          "output_type": "stream",
          "name": "stdout",
          "text": [
            "Successfully fetched https://www.churchofjesuschrist.org/study/general-conference/2008/10/come-what-may-and-love-it?lang=eng\n",
            "Successfully fetched https://www.churchofjesuschrist.org/study/general-conference/2008/10/celestial-marriage?lang=eng\n",
            "Successfully fetched https://www.churchofjesuschrist.org/study/general-conference/2008/10/fulfilling-the-purpose-of-relief-society?lang=eng\n",
            "Successfully fetched https://www.churchofjesuschrist.org/study/general-conference/2008/10/come-to-zion?lang=eng\n",
            "Successfully fetched https://www.churchofjesuschrist.org/study/general-conference/2008/10/welcome-to-conference?lang=eng\n",
            "Successfully fetched https://www.churchofjesuschrist.org/study/general-conference/2008/10/the-sustaining-of-church-officers?lang=eng\n",
            "Successfully fetched https://www.churchofjesuschrist.org/study/general-conference/2008/10/the-truth-of-god-shall-go-forth?lang=eng\n",
            "Successfully fetched https://www.churchofjesuschrist.org/study/general-conference/2008/10/lift-where-you-stand?lang=eng\n",
            "Successfully fetched https://www.churchofjesuschrist.org/study/general-conference/2008/10/the-way?lang=engSuccessfully fetched https://www.churchofjesuschrist.org/study/general-conference/2008/10/the-ministry-of-angels?lang=eng\n",
            "\n"
          ]
        },
        {
          "output_type": "stream",
          "name": "stderr",
          "text": [
            "Scraping talks in parallel:  29%|██▉       | 1223/4233 [02:50<06:37,  7.57it/s]"
          ]
        },
        {
          "output_type": "stream",
          "name": "stdout",
          "text": [
            "Successfully fetched https://www.churchofjesuschrist.org/study/general-conference/2008/10/holy-temples-sacred-covenants?lang=eng\n",
            "Successfully fetched https://www.churchofjesuschrist.org/study/general-conference/2008/10/honor-the-priesthood-and-use-it-well?lang=eng\n"
          ]
        },
        {
          "output_type": "stream",
          "name": "stderr",
          "text": [
            "\rScraping talks in parallel:  29%|██▉       | 1230/4233 [02:50<04:11, 11.93it/s]"
          ]
        },
        {
          "output_type": "stream",
          "name": "stdout",
          "text": [
            "Successfully fetched https://www.churchofjesuschrist.org/study/general-conference/2008/10/go-ye-therefore?lang=eng\n",
            "Successfully fetched https://www.churchofjesuschrist.org/study/general-conference/2008/10/let-him-do-it-with-simplicity?lang=eng\n",
            "Successfully fetched https://www.churchofjesuschrist.org/study/general-conference/2008/04/today?lang=eng\n",
            "Successfully fetched https://www.churchofjesuschrist.org/study/general-conference/2008/10/the-test?lang=eng\n",
            "Successfully fetched https://www.churchofjesuschrist.org/study/general-conference/2008/10/because-my-father-read-the-book-of-mormon?lang=eng\n",
            "Successfully fetched https://www.churchofjesuschrist.org/study/general-conference/2008/04/salvation-and-exaltation?lang=eng\n"
          ]
        },
        {
          "output_type": "stream",
          "name": "stderr",
          "text": [
            "\rScraping talks in parallel:  29%|██▉       | 1233/4233 [02:51<05:33,  9.00it/s]"
          ]
        },
        {
          "output_type": "stream",
          "name": "stdout",
          "text": [
            "Successfully fetched https://www.churchofjesuschrist.org/study/general-conference/2008/04/saturday-morning-session?lang=eng\n",
            "Successfully fetched https://www.churchofjesuschrist.org/study/general-conference/2008/04/abundantly-blessed?lang=eng\n",
            "Successfully fetched https://www.churchofjesuschrist.org/study/general-conference/2008/04/a-book-with-a-promise?lang=eng\n"
          ]
        },
        {
          "output_type": "stream",
          "name": "stderr",
          "text": [
            "\rScraping talks in parallel:  29%|██▉       | 1238/4233 [02:51<05:05,  9.81it/s]"
          ]
        },
        {
          "output_type": "stream",
          "name": "stdout",
          "text": [
            "Successfully fetched https://www.churchofjesuschrist.org/study/general-conference/2008/04/gaining-a-testimony-of-god-the-father-his-son-jesus-christ-and-the-holy-ghost?lang=eng\n",
            "Successfully fetched https://www.churchofjesuschrist.org/study/general-conference/2008/04/testimony?lang=eng\n",
            "Successfully fetched https://www.churchofjesuschrist.org/study/general-conference/2008/04/looking-back-and-moving-forward?lang=eng\n",
            "Successfully fetched https://www.churchofjesuschrist.org/study/general-conference/2008/04/a-12-year-old-deacon?lang=eng\n",
            "Successfully fetched https://www.churchofjesuschrist.org/study/general-conference/2008/04/faith-of-our-father?lang=eng\n",
            "Successfully fetched https://www.churchofjesuschrist.org/study/general-conference/2008/04/daughters-of-god?lang=eng\n",
            "Successfully fetched https://www.churchofjesuschrist.org/study/general-conference/2008/04/ask-in-faith?lang=eng\n",
            "Successfully fetched https://www.churchofjesuschrist.org/study/general-conference/2008/04/the-best-investment?lang=eng\n",
            "Successfully fetched https://www.churchofjesuschrist.org/study/general-conference/2008/04/three-presiding-high-priests?lang=eng\n"
          ]
        },
        {
          "output_type": "stream",
          "name": "stderr",
          "text": [
            "Scraping talks in parallel:  29%|██▉       | 1248/4233 [02:52<04:28, 11.11it/s]"
          ]
        },
        {
          "output_type": "stream",
          "name": "stdout",
          "text": [
            "Successfully fetched https://www.churchofjesuschrist.org/study/general-conference/2008/04/special-experiences?lang=eng\n",
            "Successfully fetched https://www.churchofjesuschrist.org/study/general-conference/2008/04/born-again?lang=eng\n",
            "Successfully fetched https://www.churchofjesuschrist.org/study/general-conference/2008/04/the-gospel-of-jesus-christ?lang=eng\n"
          ]
        },
        {
          "output_type": "stream",
          "name": "stderr",
          "text": [
            "\rScraping talks in parallel:  30%|██▉       | 1251/4233 [02:52<04:22, 11.35it/s]"
          ]
        },
        {
          "output_type": "stream",
          "name": "stdout",
          "text": [
            "Successfully fetched https://www.churchofjesuschrist.org/study/general-conference/2008/04/and-who-is-my-neighbor?lang=eng\n"
          ]
        },
        {
          "output_type": "stream",
          "name": "stderr",
          "text": [
            "\rScraping talks in parallel:  30%|██▉       | 1253/4233 [02:53<04:38, 10.70it/s]"
          ]
        },
        {
          "output_type": "stream",
          "name": "stdout",
          "text": [
            "Successfully fetched https://www.churchofjesuschrist.org/study/general-conference/2008/04/church-auditing-department-report-2007?lang=eng\n",
            "Successfully fetched https://www.churchofjesuschrist.org/study/general-conference/2008/04/the-twelve?lang=eng\n",
            "Successfully fetched https://www.churchofjesuschrist.org/study/general-conference/2008/04/do-you-know-who-you-are?lang=eng\n",
            "Successfully fetched https://www.churchofjesuschrist.org/study/general-conference/2008/04/concern-for-the-one?lang=eng\n"
          ]
        },
        {
          "output_type": "stream",
          "name": "stderr",
          "text": [
            "\rScraping talks in parallel:  30%|██▉       | 1255/4233 [02:53<05:35,  8.87it/s]"
          ]
        },
        {
          "output_type": "stream",
          "name": "stdout",
          "text": [
            "Successfully fetched https://www.churchofjesuschrist.org/study/general-conference/2008/04/statistical-report-2007?lang=engSuccessfully fetched https://www.churchofjesuschrist.org/study/general-conference/2008/04/opening-our-hearts?lang=eng\n",
            "\n",
            "Successfully fetched https://www.churchofjesuschrist.org/study/general-conference/2008/04/stand-as-a-witness?lang=eng\n"
          ]
        },
        {
          "output_type": "stream",
          "name": "stderr",
          "text": [
            "\rScraping talks in parallel:  30%|██▉       | 1258/4233 [02:53<04:39, 10.66it/s]"
          ]
        },
        {
          "output_type": "stream",
          "name": "stdout",
          "text": [
            "Successfully fetched https://www.churchofjesuschrist.org/study/general-conference/2008/04/anchors-of-testimony?lang=eng\n",
            "Successfully fetched https://www.churchofjesuschrist.org/study/general-conference/2008/04/one-among-the-crowd?lang=eng\n",
            "Successfully fetched https://www.churchofjesuschrist.org/study/general-conference/2008/04/walk-in-the-light?lang=eng\n"
          ]
        },
        {
          "output_type": "stream",
          "name": "stderr",
          "text": [
            "\rScraping talks in parallel:  30%|██▉       | 1260/4233 [02:53<05:11,  9.56it/s]"
          ]
        },
        {
          "output_type": "stream",
          "name": "stdout",
          "text": [
            "Successfully fetched https://www.churchofjesuschrist.org/study/general-conference/2008/04/faith-and-the-oath-and-covenant-of-the-priesthood?lang=eng\n",
            "Successfully fetched https://www.churchofjesuschrist.org/study/general-conference/2008/04/restoring-faith-in-the-family?lang=eng\n",
            "Successfully fetched https://www.churchofjesuschrist.org/study/general-conference/2008/04/my-words-never-cease?lang=eng\n",
            "Successfully fetched https://www.churchofjesuschrist.org/study/general-conference/2008/04/the-sustaining-of-church-officers?lang=eng"
          ]
        },
        {
          "output_type": "stream",
          "name": "stderr",
          "text": [
            "\rScraping talks in parallel:  30%|██▉       | 1262/4233 [02:54<06:24,  7.73it/s]"
          ]
        },
        {
          "output_type": "stream",
          "name": "stdout",
          "text": [
            "\n",
            "Successfully fetched https://www.churchofjesuschrist.org/study/general-conference/2008/04/at-all-times-in-all-things-and-in-all-places?lang=eng\n"
          ]
        },
        {
          "output_type": "stream",
          "name": "stderr",
          "text": [
            "\rScraping talks in parallel:  30%|██▉       | 1264/4233 [02:54<07:42,  6.43it/s]"
          ]
        },
        {
          "output_type": "stream",
          "name": "stdout",
          "text": [
            "Successfully fetched https://www.churchofjesuschrist.org/study/general-conference/2008/04/righteous-traditions?lang=eng\n",
            "Successfully fetched https://www.churchofjesuschrist.org/study/general-conference/2008/04/give-heed-unto-the-prophets-words?lang=eng\n",
            "Successfully fetched https://www.churchofjesuschrist.org/study/general-conference/2008/04/a-matter-of-a-few-degrees?lang=eng\n",
            "Successfully fetched https://www.churchofjesuschrist.org/study/general-conference/2008/04/service-a-divine-quality?lang=eng\n"
          ]
        },
        {
          "output_type": "stream",
          "name": "stderr",
          "text": [
            "Scraping talks in parallel:  30%|███       | 1274/4233 [02:55<03:50, 12.82it/s]"
          ]
        },
        {
          "output_type": "stream",
          "name": "stdout",
          "text": [
            "Successfully fetched https://www.churchofjesuschrist.org/study/general-conference/2008/04/the-true-and-living-church?lang=eng\n",
            "Successfully fetched https://www.churchofjesuschrist.org/study/general-conference/2008/04/we-will-not-yield-we-cannot-yield?lang=eng\n",
            "Successfully fetched https://www.churchofjesuschrist.org/study/general-conference/2008/04/my-soul-delighteth-in-the-things-of-the-lord?lang=eng\n",
            "Successfully fetched https://www.churchofjesuschrist.org/study/general-conference/2007/10/service?lang=eng\n",
            "Successfully fetched https://www.churchofjesuschrist.org/study/general-conference/2007/10/feed-my-sheep?lang=eng\n",
            "Successfully fetched https://www.churchofjesuschrist.org/study/general-conference/2007/10/a-royal-priesthood?lang=eng\n",
            "Successfully fetched https://www.churchofjesuschrist.org/study/general-conference/2007/10/have-we-not-reason-to-rejoice?lang=eng\n",
            "Successfully fetched https://www.churchofjesuschrist.org/study/general-conference/2008/04/the-power-of-light-and-truth?lang=eng\n",
            "Successfully fetched https://www.churchofjesuschrist.org/study/general-conference/2007/10/the-stone-cut-out-of-the-mountain?lang=eng\n",
            "Successfully fetched https://www.churchofjesuschrist.org/study/general-conference/2008/04/to-heal-the-shattering-consequences-of-abuse?lang=eng\n",
            "Successfully fetched https://www.churchofjesuschrist.org/study/general-conference/2007/10/why-are-we-members-of-the-only-true-church?lang=eng\n",
            "Successfully fetched https://www.churchofjesuschrist.org/study/general-conference/2007/10/the-only-true-god-and-jesus-christ-whom-he-hath-sent?lang=eng\n",
            "Successfully fetched https://www.churchofjesuschrist.org/study/general-conference/2007/10/o-remember-remember?lang=eng\n",
            "Successfully fetched https://www.churchofjesuschrist.org/study/general-conference/2008/04/examples-of-righteousness?lang=eng\n",
            "Successfully fetched https://www.churchofjesuschrist.org/study/general-conference/2007/10/live-by-faith-and-not-by-fear?lang=eng\n",
            "Successfully fetched https://www.churchofjesuschrist.org/study/general-conference/2007/10/strengthen-home-and-family?lang=eng\n",
            "Successfully fetched https://www.churchofjesuschrist.org/study/general-conference/2007/10/blessed-are-all-the-pure-in-heart?lang=eng\n",
            "Successfully fetched https://www.churchofjesuschrist.org/study/general-conference/2007/10/saturday-morning-session?lang=eng\n",
            "Successfully fetched https://www.churchofjesuschrist.org/study/general-conference/2007/10/the-sustaining-of-church-officers?lang=eng\n"
          ]
        },
        {
          "output_type": "stream",
          "name": "stderr",
          "text": [
            "Scraping talks in parallel:  30%|███       | 1290/4233 [02:58<05:38,  8.69it/s]"
          ]
        },
        {
          "output_type": "stream",
          "name": "stdout",
          "text": [
            "Successfully fetched https://www.churchofjesuschrist.org/study/general-conference/2007/10/raising-the-bar?lang=eng\n",
            "Successfully fetched https://www.churchofjesuschrist.org/study/general-conference/2007/10/slow-to-anger?lang=eng\n",
            "Successfully fetched https://www.churchofjesuschrist.org/study/general-conference/2007/10/what-latter-day-saint-women-do-best-stand-strong-and-immovable?lang=eng\n",
            "Successfully fetched https://www.churchofjesuschrist.org/study/general-conference/2007/10/do-it-now?lang=eng\n",
            "Successfully fetched https://www.churchofjesuschrist.org/study/general-conference/2007/10/a-broken-heart-and-a-contrite-spirit?lang=eng\n",
            "Successfully fetched https://www.churchofjesuschrist.org/study/general-conference/2007/10/scriptural-witnesses?lang=eng\n",
            "Successfully fetched https://www.churchofjesuschrist.org/study/general-conference/2007/10/nourished-by-the-good-word-of-god?lang=eng\n",
            "Successfully fetched https://www.churchofjesuschrist.org/study/general-conference/2007/10/i-will-strengthen-thee-i-will-help-thee?lang=eng\n",
            "Successfully fetched https://www.churchofjesuschrist.org/study/general-conference/2007/10/don-t-leave-for-tomorrow-what-you-can-do-today?lang=eng\n",
            "Successfully fetched https://www.churchofjesuschrist.org/study/general-conference/2007/10/out-of-small-things?lang=eng\n",
            "Successfully fetched https://www.churchofjesuschrist.org/study/general-conference/2007/10/good-better-best?lang=eng\n"
          ]
        },
        {
          "output_type": "stream",
          "name": "stderr",
          "text": [
            "Scraping talks in parallel:  31%|███       | 1304/4233 [02:59<05:14,  9.31it/s]"
          ]
        },
        {
          "output_type": "stream",
          "name": "stdout",
          "text": [
            "Successfully fetched https://www.churchofjesuschrist.org/study/general-conference/2007/10/small-and-simple-things?lang=eng\n",
            "Successfully fetched https://www.churchofjesuschrist.org/study/general-conference/2007/10/claim-the-exceeding-great-and-precious-promises?lang=eng\n",
            "Successfully fetched https://www.churchofjesuschrist.org/study/general-conference/2007/10/clean-hands-and-a-pure-heart?lang=eng\n",
            "Successfully fetched https://www.churchofjesuschrist.org/study/general-conference/2007/10/truth-the-foundation-of-correct-decisions?lang=eng\n",
            "Successfully fetched https://www.churchofjesuschrist.org/study/general-conference/2007/10/enduring-together?lang=eng\n",
            "Successfully fetched https://www.churchofjesuschrist.org/study/general-conference/2007/10/preach-my-gospel-the-unifying-tool-between-members-and-missionaries?lang=eng\n",
            "Successfully fetched https://www.churchofjesuschrist.org/study/general-conference/2007/10/quench-not-the-spirit-which-quickens-the-inner-man?lang=eng\n",
            "Successfully fetched https://www.churchofjesuschrist.org/study/general-conference/2007/10/the-great-commandment?lang=eng\n",
            "Successfully fetched https://www.churchofjesuschrist.org/study/general-conference/2007/10/god-helps-the-faithful-priesthood-holder?lang=eng\n",
            "Successfully fetched https://www.churchofjesuschrist.org/study/general-conference/2007/10/closing-remarks?lang=eng\n",
            "Successfully fetched https://www.churchofjesuschrist.org/study/general-conference/2007/10/today-is-the-time?lang=eng\n",
            "Successfully fetched https://www.churchofjesuschrist.org/study/general-conference/2007/10/mrs-patton-the-story-continues?lang=eng\n"
          ]
        },
        {
          "output_type": "stream",
          "name": "stderr",
          "text": [
            "\rScraping talks in parallel:  31%|███       | 1307/4233 [03:01<08:08,  5.99it/s]"
          ]
        },
        {
          "output_type": "stream",
          "name": "stdout",
          "text": [
            "Successfully fetched https://www.churchofjesuschrist.org/study/general-conference/2007/10/the-power-of-godliness-is-manifested-in-the-temples-of-god?lang=eng\n",
            "Successfully fetched https://www.churchofjesuschrist.org/study/general-conference/2007/10/the-weak-and-the-simple-of-the-church?lang=engSuccessfully fetched https://www.churchofjesuschrist.org/study/general-conference/2007/10/after-all-we-can-do?lang=eng\n",
            "\n",
            "Successfully fetched https://www.churchofjesuschrist.org/study/general-conference/2007/10/three-goals-to-guide-you?lang=eng\n",
            "Successfully fetched https://www.churchofjesuschrist.org/study/general-conference/2007/10/personal-revelation-the-teachings-and-examples-of-the-prophets?lang=eng\n",
            "Successfully fetched https://www.churchofjesuschrist.org/study/general-conference/2007/10/faith-family-facts-and-fruits?lang=eng\n",
            "Successfully fetched https://www.churchofjesuschrist.org/study/general-conference/2007/10/mothers-who-know?lang=eng\n",
            "Successfully fetched https://www.churchofjesuschrist.org/study/general-conference/2007/10/knowing-that-we-know?lang=eng\n",
            "Successfully fetched https://www.churchofjesuschrist.org/study/general-conference/2007/04/whos-on-the-lords-side?lang=eng\n",
            "Successfully fetched https://www.churchofjesuschrist.org/study/general-conference/2007/04/a-lesson-from-the-book-of-mormon?lang=eng\n"
          ]
        },
        {
          "output_type": "stream",
          "name": "stderr",
          "text": [
            "Scraping talks in parallel:  31%|███       | 1318/4233 [03:02<05:49,  8.34it/s]"
          ]
        },
        {
          "output_type": "stream",
          "name": "stdout",
          "text": [
            "Successfully fetched https://www.churchofjesuschrist.org/study/general-conference/2007/04/will-a-man-rob-god?lang=eng\n",
            "Successfully fetched https://www.churchofjesuschrist.org/study/general-conference/2007/04/if-these-old-walls-could-talk?lang=eng\n"
          ]
        },
        {
          "output_type": "stream",
          "name": "stderr",
          "text": [
            "\rScraping talks in parallel:  31%|███       | 1321/4233 [03:02<06:16,  7.73it/s]"
          ]
        },
        {
          "output_type": "stream",
          "name": "stdout",
          "text": [
            "Successfully fetched https://www.churchofjesuschrist.org/study/general-conference/2007/04/i-know-that-my-redeemer-lives?lang=engSuccessfully fetched https://www.churchofjesuschrist.org/study/general-conference/2007/04/the-tongue-of-angels?lang=eng\n",
            "\n",
            "Successfully fetched https://www.churchofjesuschrist.org/study/general-conference/2007/04/the-sustaining-of-church-officers?lang=eng\n",
            "Successfully fetched https://www.churchofjesuschrist.org/study/general-conference/2007/04/this-day?lang=eng\n"
          ]
        },
        {
          "output_type": "stream",
          "name": "stderr",
          "text": [
            "\rScraping talks in parallel:  31%|███▏      | 1328/4233 [03:03<05:21,  9.04it/s]"
          ]
        },
        {
          "output_type": "stream",
          "name": "stdout",
          "text": [
            "Successfully fetched https://www.churchofjesuschrist.org/study/general-conference/2007/04/let-virtue-garnish-thy-thoughts-unceasingly?lang=engSuccessfully fetched https://www.churchofjesuschrist.org/study/general-conference/2007/04/divorce?lang=eng\n",
            "\n",
            "Successfully fetched https://www.churchofjesuschrist.org/study/general-conference/2007/04/do-you-know?lang=engSuccessfully fetched https://www.churchofjesuschrist.org/study/general-conference/2007/04/stay-on-the-path?lang=eng\n",
            "\n",
            "Successfully fetched https://www.churchofjesuschrist.org/study/general-conference/2007/04/closing-remarks?lang=eng\n",
            "Successfully fetched https://www.churchofjesuschrist.org/study/general-conference/2007/04/the-nourishing-power-of-hymns?lang=eng\n"
          ]
        },
        {
          "output_type": "stream",
          "name": "stderr",
          "text": [
            "\rScraping talks in parallel:  31%|███▏      | 1331/4233 [03:03<05:46,  8.37it/s]"
          ]
        },
        {
          "output_type": "stream",
          "name": "stdout",
          "text": [
            "Successfully fetched https://www.churchofjesuschrist.org/study/general-conference/2007/04/using-the-supernal-gift-of-prayer?lang=eng\n",
            "Successfully fetched https://www.churchofjesuschrist.org/study/general-conference/2007/04/remember-and-perish-not?lang=eng\n",
            "Successfully fetched https://www.churchofjesuschrist.org/study/general-conference/2007/04/commitment-to-the-lord?lang=eng\n"
          ]
        },
        {
          "output_type": "stream",
          "name": "stderr",
          "text": [
            "Scraping talks in parallel:  32%|███▏      | 1339/4233 [03:04<04:30, 10.71it/s]"
          ]
        },
        {
          "output_type": "stream",
          "name": "stdout",
          "text": [
            "Successfully fetched https://www.churchofjesuschrist.org/study/general-conference/2007/04/the-miracle-of-the-holy-bible?lang=eng\n",
            "Successfully fetched https://www.churchofjesuschrist.org/study/general-conference/2007/04/the-priesthood-a-sacred-gift?lang=eng\n",
            "Successfully fetched https://www.churchofjesuschrist.org/study/general-conference/2007/04/gratitude-a-path-to-happiness?lang=eng\n",
            "Successfully fetched https://www.churchofjesuschrist.org/study/general-conference/2007/04/the-healing-power-of-forgiveness?lang=eng\n",
            "Successfully fetched https://www.churchofjesuschrist.org/study/general-conference/2007/04/tabernacle-memories?lang=eng\n",
            "Successfully fetched https://www.churchofjesuschrist.org/study/general-conference/2007/04/salt-lake-tabernacle-rededication?lang=eng\n",
            "Successfully fetched https://www.churchofjesuschrist.org/study/general-conference/2007/04/lifes-lessons-learned?lang=eng\n",
            "Successfully fetched https://www.churchofjesuschrist.org/study/general-conference/2007/04/remembering-repenting-and-changing?lang=eng"
          ]
        },
        {
          "output_type": "stream",
          "name": "stderr",
          "text": [
            "\rScraping talks in parallel:  32%|███▏      | 1342/4233 [03:04<06:45,  7.13it/s]"
          ]
        },
        {
          "output_type": "stream",
          "name": "stdout",
          "text": [
            "\n",
            "Successfully fetched https://www.churchofjesuschrist.org/study/general-conference/2007/04/prophets-pioneer-and-modern-day?lang=eng\n",
            "Successfully fetched https://www.churchofjesuschrist.org/study/general-conference/2007/04/church-auditing-department-report-2006?lang=eng\n",
            "Successfully fetched https://www.churchofjesuschrist.org/study/general-conference/2007/04/mom-are-we-christians?lang=eng\n",
            "Successfully fetched https://www.churchofjesuschrist.org/study/general-conference/2007/04/to-the-aaronic-priesthood-preparing-for-the-decade-of-decision?lang=eng\n"
          ]
        },
        {
          "output_type": "stream",
          "name": "stderr",
          "text": [
            "Scraping talks in parallel:  32%|███▏      | 1349/4233 [03:05<05:18,  9.05it/s]"
          ]
        },
        {
          "output_type": "stream",
          "name": "stdout",
          "text": [
            "Successfully fetched https://www.churchofjesuschrist.org/study/general-conference/2007/04/message-to-my-grandsons?lang=eng\n",
            "Successfully fetched https://www.churchofjesuschrist.org/study/general-conference/2007/04/lay-up-in-store?lang=eng\n",
            "Successfully fetched https://www.churchofjesuschrist.org/study/general-conference/2007/04/saturday-morning-session?lang=eng\n"
          ]
        },
        {
          "output_type": "stream",
          "name": "stderr",
          "text": [
            "\rScraping talks in parallel:  32%|███▏      | 1351/4233 [03:05<05:11,  9.26it/s]"
          ]
        },
        {
          "output_type": "stream",
          "name": "stdout",
          "text": [
            "Successfully fetched https://www.churchofjesuschrist.org/study/general-conference/2007/04/the-spirit-of-the-tabernacle?lang=eng\n",
            "Successfully fetched https://www.churchofjesuschrist.org/study/general-conference/2007/04/the-message-of-the-restoration?lang=eng\n"
          ]
        },
        {
          "output_type": "stream",
          "name": "stderr",
          "text": [
            "Scraping talks in parallel:  32%|███▏      | 1356/4233 [03:05<04:08, 11.57it/s]"
          ]
        },
        {
          "output_type": "stream",
          "name": "stdout",
          "text": [
            "Successfully fetched https://www.churchofjesuschrist.org/study/general-conference/2007/04/i-am-clean?lang=eng\n",
            "Successfully fetched https://www.churchofjesuschrist.org/study/general-conference/2007/04/the-things-of-which-i-know?lang=eng\n",
            "Successfully fetched https://www.churchofjesuschrist.org/study/general-conference/2007/04/repentance-and-conversion?lang=eng\n"
          ]
        },
        {
          "output_type": "stream",
          "name": "stderr",
          "text": [
            "\rScraping talks in parallel:  32%|███▏      | 1358/4233 [03:06<04:07, 11.62it/s]"
          ]
        },
        {
          "output_type": "stream",
          "name": "stdout",
          "text": [
            "Successfully fetched https://www.churchofjesuschrist.org/study/general-conference/2007/04/its-true-isn-t-it-then-what-else-matters?lang=eng\n",
            "Successfully fetched https://www.churchofjesuschrist.org/study/general-conference/2007/04/ye-must-be-born-again?lang=eng\n",
            "Successfully fetched https://www.churchofjesuschrist.org/study/general-conference/2007/04/daughters-of-heavenly-father?lang=eng\n"
          ]
        },
        {
          "output_type": "stream",
          "name": "stderr",
          "text": [
            "Scraping talks in parallel:  32%|███▏      | 1362/4233 [03:06<04:41, 10.19it/s]"
          ]
        },
        {
          "output_type": "stream",
          "name": "stdout",
          "text": [
            "Successfully fetched https://www.churchofjesuschrist.org/study/general-conference/2007/04/point-of-safe-return?lang=eng\n",
            "Successfully fetched https://www.churchofjesuschrist.org/study/general-conference/2007/04/statistical-report-2006?lang=eng\n",
            "Successfully fetched https://www.churchofjesuschrist.org/study/general-conference/2007/04/a-tabernacle-in-the-wilderness?lang=eng\n"
          ]
        },
        {
          "output_type": "stream",
          "name": "stderr",
          "text": [
            "Scraping talks in parallel:  32%|███▏      | 1367/4233 [03:07<04:09, 11.47it/s]"
          ]
        },
        {
          "output_type": "stream",
          "name": "stdout",
          "text": [
            "Successfully fetched https://www.churchofjesuschrist.org/study/general-conference/2006/10/the-plan-of-salvation?lang=eng\n",
            "Successfully fetched https://www.churchofjesuschrist.org/study/general-conference/2006/10/we-bear-testimony-to-the-world?lang=eng\n",
            "Successfully fetched https://www.churchofjesuschrist.org/study/general-conference/2006/10/and-nothing-shall-offend-them?lang=eng\n",
            "Successfully fetched https://www.churchofjesuschrist.org/study/general-conference/2006/10/three-towels-and-a-25-cent-newspaper?lang=eng\n",
            "Successfully fetched https://www.churchofjesuschrist.org/study/general-conference/2006/10/a-defense-and-a-refuge?lang=eng\n"
          ]
        },
        {
          "output_type": "stream",
          "name": "stderr",
          "text": [
            "\rScraping talks in parallel:  32%|███▏      | 1369/4233 [03:07<08:20,  5.72it/s]"
          ]
        },
        {
          "output_type": "stream",
          "name": "stdout",
          "text": [
            "Successfully fetched https://www.churchofjesuschrist.org/study/general-conference/2006/10/closing-remarks?lang=eng\n",
            "Successfully fetched https://www.churchofjesuschrist.org/study/general-conference/2006/10/look-toward-eternity?lang=eng\n",
            "Successfully fetched https://www.churchofjesuschrist.org/study/general-conference/2006/10/the-faith-to-move-mountains?lang=eng\n"
          ]
        },
        {
          "output_type": "stream",
          "name": "stderr",
          "text": [
            "\rScraping talks in parallel:  32%|███▏      | 1372/4233 [03:08<06:43,  7.09it/s]"
          ]
        },
        {
          "output_type": "stream",
          "name": "stdout",
          "text": [
            "Successfully fetched https://www.churchofjesuschrist.org/study/general-conference/2006/10/in-the-arms-of-his-love?lang=eng\n",
            "Successfully fetched https://www.churchofjesuschrist.org/study/general-conference/2006/10/the-law-of-tithing?lang=eng\n",
            "Successfully fetched https://www.churchofjesuschrist.org/study/general-conference/2006/10/spiritual-nutrients?lang=eng\n",
            "Successfully fetched https://www.churchofjesuschrist.org/study/general-conference/2006/10/the-gathering-of-scattered-israel?lang=eng\n"
          ]
        },
        {
          "output_type": "stream",
          "name": "stderr",
          "text": [
            "\rScraping talks in parallel:  32%|███▏      | 1375/4233 [03:08<07:23,  6.45it/s]"
          ]
        },
        {
          "output_type": "stream",
          "name": "stdout",
          "text": [
            "Successfully fetched https://www.churchofjesuschrist.org/study/general-conference/2006/10/the-great-plan-of-happiness?lang=eng\n",
            "Successfully fetched https://www.churchofjesuschrist.org/study/general-conference/2006/10/the-first-generation?lang=eng\n",
            "Successfully fetched https://www.churchofjesuschrist.org/study/general-conference/2006/10/discipleship?lang=eng\n"
          ]
        },
        {
          "output_type": "stream",
          "name": "stderr",
          "text": [
            "\rScraping talks in parallel:  33%|███▎      | 1380/4233 [03:08<04:58,  9.55it/s]"
          ]
        },
        {
          "output_type": "stream",
          "name": "stdout",
          "text": [
            "Successfully fetched https://www.churchofjesuschrist.org/study/general-conference/2006/10/the-power-of-a-personal-testimony?lang=eng\n",
            "Successfully fetched https://www.churchofjesuschrist.org/study/general-conference/2006/10/he-trusts-us?lang=eng\n",
            "Successfully fetched https://www.churchofjesuschrist.org/study/general-conference/2006/10/o-be-wise?lang=eng\n",
            "Successfully fetched https://www.churchofjesuschrist.org/study/general-conference/2006/10/a-priesthood-quorum?lang=eng\n",
            "Successfully fetched https://www.churchofjesuschrist.org/study/general-conference/2006/10/prophets-in-the-land-again?lang=eng\n",
            "Successfully fetched https://www.churchofjesuschrist.org/study/general-conference/2006/10/receiving-by-the-spirit?lang=eng\n",
            "Successfully fetched https://www.churchofjesuschrist.org/study/general-conference/2006/10/the-atonement-can-clean-reclaim-and-sanctify-our-lives?lang=eng\n",
            "Successfully fetched https://www.churchofjesuschrist.org/study/general-conference/2006/10/the-power-of-patience?lang=eng\n",
            "Successfully fetched https://www.churchofjesuschrist.org/study/general-conference/2006/10/moving-closer-to-him?lang=eng\n",
            "Successfully fetched https://www.churchofjesuschrist.org/study/general-conference/2006/10/becoming-instruments-in-the-hands-of-god?lang=eng\n",
            "Successfully fetched https://www.churchofjesuschrist.org/study/general-conference/2006/10/remembering-the-lords-love?lang=eng\n"
          ]
        },
        {
          "output_type": "stream",
          "name": "stderr",
          "text": [
            "\rScraping talks in parallel:  33%|███▎      | 1382/4233 [03:10<11:40,  4.07it/s]"
          ]
        },
        {
          "output_type": "stream",
          "name": "stdout",
          "text": [
            "Successfully fetched https://www.churchofjesuschrist.org/study/general-conference/2006/10/eternally-encircled-in-his-love?lang=eng\n",
            "Successfully fetched https://www.churchofjesuschrist.org/study/general-conference/2006/10/how-firm-a-foundation?lang=eng\n"
          ]
        },
        {
          "output_type": "stream",
          "name": "stderr",
          "text": [
            "Scraping talks in parallel:  33%|███▎      | 1388/4233 [03:11<07:25,  6.39it/s]"
          ]
        },
        {
          "output_type": "stream",
          "name": "stdout",
          "text": [
            "Successfully fetched https://www.churchofjesuschrist.org/study/general-conference/2006/10/faith-service-constancy?lang=eng\n",
            "Successfully fetched https://www.churchofjesuschrist.org/study/general-conference/2006/10/the-atonement-can-secure-your-peace-and-happiness?lang=eng\n",
            "Successfully fetched https://www.churchofjesuschrist.org/study/general-conference/2006/10/rise-up-o-men-of-god?lang=eng\n"
          ]
        },
        {
          "output_type": "stream",
          "name": "stderr",
          "text": [
            "Scraping talks in parallel:  33%|███▎      | 1393/4233 [03:11<05:48,  8.16it/s]"
          ]
        },
        {
          "output_type": "stream",
          "name": "stdout",
          "text": [
            "Successfully fetched https://www.churchofjesuschrist.org/study/general-conference/2006/10/let-us-be-men?lang=eng\n",
            "Successfully fetched https://www.churchofjesuschrist.org/study/general-conference/2006/10/the-temple-is-about-families?lang=eng\n"
          ]
        },
        {
          "output_type": "stream",
          "name": "stderr",
          "text": [
            "\rScraping talks in parallel:  33%|███▎      | 1395/4233 [03:11<06:49,  6.93it/s]"
          ]
        },
        {
          "output_type": "stream",
          "name": "stdout",
          "text": [
            "Successfully fetched https://www.churchofjesuschrist.org/study/general-conference/2006/10/true-to-our-priesthood-trust?lang=eng\n"
          ]
        },
        {
          "output_type": "stream",
          "name": "stderr",
          "text": [
            "Scraping talks in parallel:  33%|███▎      | 1399/4233 [03:12<04:57,  9.52it/s]"
          ]
        },
        {
          "output_type": "stream",
          "name": "stdout",
          "text": [
            "Successfully fetched https://www.churchofjesuschrist.org/study/general-conference/2006/10/that-they-might-know-thee?lang=eng\n",
            "Successfully fetched https://www.churchofjesuschrist.org/study/general-conference/2006/10/behold-your-little-ones?lang=eng\n",
            "Successfully fetched https://www.churchofjesuschrist.org/study/general-conference/2006/10/the-great-and-wonderful-love?lang=eng\n"
          ]
        },
        {
          "output_type": "stream",
          "name": "stderr",
          "text": [
            "Scraping talks in parallel:  33%|███▎      | 1404/4233 [03:12<05:05,  9.25it/s]"
          ]
        },
        {
          "output_type": "stream",
          "name": "stdout",
          "text": [
            "Successfully fetched https://www.churchofjesuschrist.org/study/general-conference/2006/10/to-look-reach-and-come-unto-christ?lang=eng\n",
            "Successfully fetched https://www.churchofjesuschrist.org/study/general-conference/2006/10/the-sustaining-of-church-officers?lang=eng\n",
            "Successfully fetched https://www.churchofjesuschrist.org/study/general-conference/2006/10/sunday-will-come?lang=eng\n",
            "Successfully fetched https://www.churchofjesuschrist.org/study/general-conference/2006/10/he-heals-the-heavy-laden?lang=eng\n",
            "Successfully fetched https://www.churchofjesuschrist.org/study/general-conference/2006/10/holy-scriptures-the-power-of-god-unto-our-salvation?lang=eng\n"
          ]
        },
        {
          "output_type": "stream",
          "name": "stderr",
          "text": [
            "\rScraping talks in parallel:  33%|███▎      | 1406/4233 [03:13<07:03,  6.67it/s]"
          ]
        },
        {
          "output_type": "stream",
          "name": "stdout",
          "text": [
            "Successfully fetched https://www.churchofjesuschrist.org/study/general-conference/2006/10/wherefore-settle-this-in-your-hearts?lang=eng\n",
            "Successfully fetched https://www.churchofjesuschrist.org/study/general-conference/2006/04/as-now-we-take-the-sacrament?lang=eng\n"
          ]
        },
        {
          "output_type": "stream",
          "name": "stderr",
          "text": [
            "Scraping talks in parallel:  33%|███▎      | 1408/4233 [03:14<12:07,  3.88it/s]"
          ]
        },
        {
          "output_type": "stream",
          "name": "stdout",
          "text": [
            "Successfully fetched https://www.churchofjesuschrist.org/study/general-conference/2006/04/church-auditing-department-report-2005?lang=eng\n",
            "Successfully fetched https://www.churchofjesuschrist.org/study/general-conference/2006/10/saturday-morning-session?lang=eng\n",
            "Successfully fetched https://www.churchofjesuschrist.org/study/general-conference/2006/04/as-a-child?lang=eng\n"
          ]
        },
        {
          "output_type": "stream",
          "name": "stderr",
          "text": [
            "\rScraping talks in parallel:  33%|███▎      | 1412/4233 [03:14<06:36,  7.12it/s]"
          ]
        },
        {
          "output_type": "stream",
          "name": "stdout",
          "text": [
            "Successfully fetched https://www.churchofjesuschrist.org/study/general-conference/2006/04/zion-in-the-midst-of-babylon?lang=eng\n",
            "Successfully fetched https://www.churchofjesuschrist.org/study/general-conference/2006/04/it-shows-in-your-face?lang=eng\n",
            "Successfully fetched https://www.churchofjesuschrist.org/study/general-conference/2006/04/the-restoration-of-all-things?lang=eng\n",
            "Successfully fetched https://www.churchofjesuschrist.org/study/general-conference/2006/04/nurturing-marriage?lang=eng\n"
          ]
        },
        {
          "output_type": "stream",
          "name": "stderr",
          "text": [
            "\rScraping talks in parallel:  33%|███▎      | 1414/4233 [03:14<08:42,  5.40it/s]"
          ]
        },
        {
          "output_type": "stream",
          "name": "stdout",
          "text": [
            "Successfully fetched https://www.churchofjesuschrist.org/study/general-conference/2006/04/repentance-a-blessing-of-membership?lang=eng\n",
            "Successfully fetched https://www.churchofjesuschrist.org/study/general-conference/2006/04/now-is-the-time-to-serve-a-mission?lang=eng\n",
            "Successfully fetched https://www.churchofjesuschrist.org/study/general-conference/2006/04/the-sustaining-of-church-officers?lang=eng\n",
            "Successfully fetched https://www.churchofjesuschrist.org/study/general-conference/2006/04/see-the-end-from-the-beginning?lang=eng\n"
          ]
        },
        {
          "output_type": "stream",
          "name": "stderr",
          "text": [
            "\rScraping talks in parallel:  33%|███▎      | 1417/4233 [03:15<06:51,  6.85it/s]"
          ]
        },
        {
          "output_type": "stream",
          "name": "stdout",
          "text": [
            "Successfully fetched https://www.churchofjesuschrist.org/study/general-conference/2006/04/true-to-the-faith?lang=eng\n",
            "Successfully fetched https://www.churchofjesuschrist.org/study/general-conference/2006/04/to-act-for-ourselves-the-gift-and-blessings-of-agency?lang=eng\n",
            "Successfully fetched https://www.churchofjesuschrist.org/study/general-conference/2006/04/that-we-may-always-have-his-spirit-to-be-with-us?lang=eng\n"
          ]
        },
        {
          "output_type": "stream",
          "name": "stderr",
          "text": [
            "\rScraping talks in parallel:  34%|███▎      | 1420/4233 [03:15<05:38,  8.31it/s]"
          ]
        },
        {
          "output_type": "stream",
          "name": "stdout",
          "text": [
            "Successfully fetched https://www.churchofjesuschrist.org/study/general-conference/2006/04/your-mission-will-change-everything?lang=eng\n",
            "Successfully fetched https://www.churchofjesuschrist.org/study/general-conference/2006/04/you-have-a-noble-birthright?lang=eng\n",
            "Successfully fetched https://www.churchofjesuschrist.org/study/general-conference/2006/04/saturday-morning-session?lang=eng\n"
          ]
        },
        {
          "output_type": "stream",
          "name": "stderr",
          "text": [
            "Scraping talks in parallel:  34%|███▎      | 1427/4233 [03:16<05:55,  7.90it/s]"
          ]
        },
        {
          "output_type": "stream",
          "name": "stdout",
          "text": [
            "Successfully fetched https://www.churchofjesuschrist.org/study/general-conference/2006/04/our-rising-generation?lang=eng\n",
            "Successfully fetched https://www.churchofjesuschrist.org/study/general-conference/2006/04/tender-hearts-and-helping-hands?lang=eng\n",
            "Successfully fetched https://www.churchofjesuschrist.org/study/general-conference/2006/04/the-need-for-greater-kindness?lang=eng\n",
            "Successfully fetched https://www.churchofjesuschrist.org/study/general-conference/2006/04/until-again-we-meet?lang=eng\n",
            "Successfully fetched https://www.churchofjesuschrist.org/study/general-conference/2006/04/prayer-faith-and-family-stepping-stones-to-eternal-happiness?lang=engSuccessfully fetched https://www.churchofjesuschrist.org/study/general-conference/2006/04/seek-ye-the-kingdom-of-god?lang=eng\n",
            "\n",
            "Successfully fetched https://www.churchofjesuschrist.org/study/general-conference/2006/04/broken-things-to-mend?lang=eng"
          ]
        },
        {
          "output_type": "stream",
          "name": "stderr",
          "text": [
            "\rScraping talks in parallel:  34%|███▍      | 1429/4233 [03:17<08:09,  5.72it/s]"
          ]
        },
        {
          "output_type": "stream",
          "name": "stdout",
          "text": [
            "\n",
            "Successfully fetched https://www.churchofjesuschrist.org/study/general-conference/2006/04/to-grow-up-unto-the-lord?lang=eng\n",
            "Successfully fetched https://www.churchofjesuschrist.org/study/general-conference/2006/04/statistical-report-2005?lang=eng\n",
            "Successfully fetched https://www.churchofjesuschrist.org/study/general-conference/2006/04/a-royal-priesthood?lang=eng\n",
            "Successfully fetched https://www.churchofjesuschrist.org/study/general-conference/2006/04/creating-a-gospel-sharing-home?lang=eng\n",
            "Successfully fetched https://www.churchofjesuschrist.org/study/general-conference/2006/04/your-light-a-standard-to-all-nations?lang=eng\n",
            "Successfully fetched https://www.churchofjesuschrist.org/study/general-conference/2006/04/our-sacred-priesthood-trust?lang=eng\n"
          ]
        },
        {
          "output_type": "stream",
          "name": "stderr",
          "text": [
            "Scraping talks in parallel:  34%|███▍      | 1437/4233 [03:17<05:35,  8.34it/s]"
          ]
        },
        {
          "output_type": "stream",
          "name": "stdout",
          "text": [
            "Successfully fetched https://www.churchofjesuschrist.org/study/general-conference/2006/04/the-abundant-life?lang=eng\n"
          ]
        },
        {
          "output_type": "stream",
          "name": "stderr",
          "text": [
            "\rScraping talks in parallel:  34%|███▍      | 1440/4233 [03:18<04:45,  9.78it/s]"
          ]
        },
        {
          "output_type": "stream",
          "name": "stdout",
          "text": [
            "Successfully fetched https://www.churchofjesuschrist.org/study/general-conference/2006/04/the-gift-of-agency?lang=eng\n",
            "Successfully fetched https://www.churchofjesuschrist.org/study/general-conference/2006/04/i-am-the-light-which-ye-shall-hold-up?lang=eng\n",
            "Successfully fetched https://www.churchofjesuschrist.org/study/general-conference/2005/10/spiritual-preparedness-start-early-and-be-steady?lang=eng\n",
            "Successfully fetched https://www.churchofjesuschrist.org/study/general-conference/2006/04/all-men-everywhere?lang=eng\n"
          ]
        },
        {
          "output_type": "stream",
          "name": "stderr",
          "text": [
            "\rScraping talks in parallel:  34%|███▍      | 1443/4233 [03:19<08:30,  5.46it/s]"
          ]
        },
        {
          "output_type": "stream",
          "name": "stdout",
          "text": [
            "Successfully fetched https://www.churchofjesuschrist.org/study/general-conference/2006/04/instruments-of-the-lords-peace?lang=eng\n",
            "Successfully fetched https://www.churchofjesuschrist.org/study/general-conference/2006/04/i-will-remember-your-sins-no-more?lang=eng\n",
            "Successfully fetched https://www.churchofjesuschrist.org/study/general-conference/2006/04/an-outpouring-of-blessings?lang=eng\n",
            "Successfully fetched https://www.churchofjesuschrist.org/study/general-conference/2005/10/mans-search-for-divine-truth?lang=eng\n"
          ]
        },
        {
          "output_type": "stream",
          "name": "stderr",
          "text": [
            "\rScraping talks in parallel:  34%|███▍      | 1445/4233 [03:19<09:13,  5.04it/s]"
          ]
        },
        {
          "output_type": "stream",
          "name": "stdout",
          "text": [
            "Successfully fetched https://www.churchofjesuschrist.org/study/general-conference/2006/04/the-great-plan-of-happiness?lang=eng\n",
            "Successfully fetched https://www.churchofjesuschrist.org/study/general-conference/2005/10/becoming-a-missionary?lang=eng\n",
            "Successfully fetched https://www.churchofjesuschrist.org/study/general-conference/2005/10/if-christ-had-my-opportunities?lang=eng\n"
          ]
        },
        {
          "output_type": "stream",
          "name": "stderr",
          "text": [
            "Scraping talks in parallel:  34%|███▍      | 1452/4233 [03:20<05:44,  8.07it/s]"
          ]
        },
        {
          "output_type": "stream",
          "name": "stdout",
          "text": [
            "Successfully fetched https://www.churchofjesuschrist.org/study/general-conference/2005/10/feed-my-sheep?lang=eng\n",
            "Successfully fetched https://www.churchofjesuschrist.org/study/general-conference/2005/10/true-happiness-a-conscious-decision?lang=eng\n",
            "Successfully fetched https://www.churchofjesuschrist.org/study/general-conference/2005/10/do-your-duty-that-is-best?lang=eng\n",
            "Successfully fetched https://www.churchofjesuschrist.org/study/general-conference/2005/10/saturday-morning-session?lang=eng\n",
            "Successfully fetched https://www.churchofjesuschrist.org/study/general-conference/2005/10/sacrifice-is-a-joy-and-a-blessing?lang=eng\n",
            "Successfully fetched https://www.churchofjesuschrist.org/study/general-conference/2005/10/the-book-of-mormon-the-instrument-to-gather-scattered-israel?lang=eng\n",
            "Successfully fetched https://www.churchofjesuschrist.org/study/general-conference/2005/10/christlike-attributes-the-wind-beneath-our-wings?lang=eng\n",
            "Successfully fetched https://www.churchofjesuschrist.org/study/general-conference/2005/10/what-matters-most-is-what-lasts-longest?lang=eng\n"
          ]
        },
        {
          "output_type": "stream",
          "name": "stderr",
          "text": [
            "Scraping talks in parallel:  34%|███▍      | 1456/4233 [03:21<07:10,  6.46it/s]"
          ]
        },
        {
          "output_type": "stream",
          "name": "stdout",
          "text": [
            "Successfully fetched https://www.churchofjesuschrist.org/study/general-conference/2005/10/instruments-in-the-hands-of-god?lang=eng\n"
          ]
        },
        {
          "output_type": "stream",
          "name": "stderr",
          "text": [
            "\rScraping talks in parallel:  34%|███▍      | 1458/4233 [03:21<06:12,  7.45it/s]"
          ]
        },
        {
          "output_type": "stream",
          "name": "stdout",
          "text": [
            "Successfully fetched https://www.churchofjesuschrist.org/study/general-conference/2005/10/the-sustaining-of-church-officers?lang=eng\n",
            "Successfully fetched https://www.churchofjesuschrist.org/study/general-conference/2005/10/a-pattern-for-all?lang=eng\n"
          ]
        },
        {
          "output_type": "stream",
          "name": "stderr",
          "text": [
            "Scraping talks in parallel:  35%|███▍      | 1464/4233 [03:21<04:56,  9.35it/s]"
          ]
        },
        {
          "output_type": "stream",
          "name": "stdout",
          "text": [
            "Successfully fetched https://www.churchofjesuschrist.org/study/general-conference/2005/10/the-prophet-joseph-smith-teacher-by-example?lang=eng\n",
            "Successfully fetched https://www.churchofjesuschrist.org/study/general-conference/2005/10/if-ye-are-prepared-ye-shall-not-fear?lang=eng\n",
            "Successfully fetched https://www.churchofjesuschrist.org/study/general-conference/2005/10/gospel-covenants-bring-promised-blessings?lang=eng\n",
            "Successfully fetched https://www.churchofjesuschrist.org/study/general-conference/2005/10/called-and-chosen?lang=eng\n",
            "Successfully fetched https://www.churchofjesuschrist.org/study/general-conference/2005/10/the-blessings-of-general-conference?lang=eng\n",
            "Successfully fetched https://www.churchofjesuschrist.org/study/general-conference/2005/10/compass-of-the-lord?lang=eng\n",
            "Successfully fetched https://www.churchofjesuschrist.org/study/general-conference/2005/10/jesus-christ-the-master-healer?lang=eng\n",
            "Successfully fetched https://www.churchofjesuschrist.org/study/general-conference/2005/10/on-zions-hill?lang=eng\n",
            "Successfully fetched https://www.churchofjesuschrist.org/study/general-conference/2005/10/blessings-resulting-from-reading-the-book-of-mormon?lang=eng\n",
            "Successfully fetched https://www.churchofjesuschrist.org/study/general-conference/2005/10/sweet-moments?lang=eng\n",
            "Successfully fetched https://www.churchofjesuschrist.org/study/general-conference/2005/10/opening-remarks?lang=eng\n",
            "Successfully fetched https://www.churchofjesuschrist.org/study/general-conference/2005/10/priesthood-authority-in-the-family-and-the-church?lang=eng\n",
            "Successfully fetched https://www.churchofjesuschrist.org/study/general-conference/2005/10/be-prepared-be-ye-strong-from-henceforth?lang=eng\n",
            "Successfully fetched https://www.churchofjesuschrist.org/study/general-conference/2005/10/that-we-may-all-sit-down-in-heaven-together?lang=eng\n"
          ]
        },
        {
          "output_type": "stream",
          "name": "stderr",
          "text": [
            "\rScraping talks in parallel:  35%|███▍      | 1466/4233 [03:24<19:02,  2.42it/s]"
          ]
        },
        {
          "output_type": "stream",
          "name": "stdout",
          "text": [
            "Successfully fetched https://www.churchofjesuschrist.org/study/general-conference/2005/10/preparations-for-the-restoration-and-the-second-coming-my-hand-shall-be-over-thee?lang=eng\n",
            "Successfully fetched https://www.churchofjesuschrist.org/study/general-conference/2005/10/the-light-in-their-eyes?lang=eng\n",
            "Successfully fetched https://www.churchofjesuschrist.org/study/general-conference/2005/10/knowing-the-lords-will-for-you?lang=eng\n"
          ]
        },
        {
          "output_type": "stream",
          "name": "stderr",
          "text": [
            "\rScraping talks in parallel:  35%|███▍      | 1478/4233 [03:25<07:48,  5.88it/s]"
          ]
        },
        {
          "output_type": "stream",
          "name": "stdout",
          "text": [
            "Successfully fetched https://www.churchofjesuschrist.org/study/general-conference/2005/10/forgiveness?lang=eng\n",
            "Successfully fetched https://www.churchofjesuschrist.org/study/general-conference/2005/10/truth-restored?lang=eng\n",
            "Successfully fetched https://www.churchofjesuschrist.org/study/general-conference/2005/10/my-soul-delighteth-in-the-scriptures?lang=eng\n",
            "Successfully fetched https://www.churchofjesuschrist.org/study/general-conference/2005/10/to-young-women?lang=eng\n",
            "Successfully fetched https://www.churchofjesuschrist.org/study/general-conference/2005/10/the-sanctity-of-the-body?lang=eng\n"
          ]
        },
        {
          "output_type": "stream",
          "name": "stderr",
          "text": [
            "Scraping talks in parallel:  35%|███▌      | 1482/4233 [03:25<07:28,  6.14it/s]"
          ]
        },
        {
          "output_type": "stream",
          "name": "stdout",
          "text": [
            "Successfully fetched https://www.churchofjesuschrist.org/study/general-conference/2005/10/journey-to-higher-ground?lang=eng\n",
            "Successfully fetched https://www.churchofjesuschrist.org/study/general-conference/2005/04/pornography?lang=eng\n",
            "Successfully fetched https://www.churchofjesuschrist.org/study/general-conference/2005/04/standing-in-holy-places?lang=eng\n",
            "Successfully fetched https://www.churchofjesuschrist.org/study/general-conference/2005/10/benediction?lang=eng\n"
          ]
        },
        {
          "output_type": "stream",
          "name": "stderr",
          "text": [
            "Scraping talks in parallel:  35%|███▌      | 1489/4233 [03:26<07:02,  6.49it/s]"
          ]
        },
        {
          "output_type": "stream",
          "name": "stdout",
          "text": [
            "Successfully fetched https://www.churchofjesuschrist.org/study/general-conference/2005/04/closing-remarks?lang=eng\n",
            "Successfully fetched https://www.churchofjesuschrist.org/study/general-conference/2005/04/all-thy-children-shall-be-taught?lang=eng\n",
            "Successfully fetched https://www.churchofjesuschrist.org/study/general-conference/2005/04/what-greater-goodness-can-we-know-christlike-friends?lang=eng\n",
            "Successfully fetched https://www.churchofjesuschrist.org/study/general-conference/2005/04/strengthen-thy-brethren?lang=eng\n",
            "Successfully fetched https://www.churchofjesuschrist.org/study/general-conference/2005/04/our-most-distinguishing-feature?lang=eng\n",
            "Successfully fetched https://www.churchofjesuschrist.org/study/general-conference/2005/04/one-more?lang=eng\n",
            "Successfully fetched https://www.churchofjesuschrist.org/study/general-conference/2005/04/the-virtue-of-kindness?lang=eng\n",
            "Successfully fetched https://www.churchofjesuschrist.org/study/general-conference/2005/04/saturday-morning-session?lang=eng\n",
            "Successfully fetched https://www.churchofjesuschrist.org/study/general-conference/2005/04/the-worth-of-souls?lang=eng\n",
            "Successfully fetched https://www.churchofjesuschrist.org/study/general-conference/2005/04/couple-missionaries-blessings-from-sacrifice-and-service?lang=eng\n",
            "Successfully fetched https://www.churchofjesuschrist.org/study/general-conference/2005/04/the-sacred-call-of-service?lang=eng\n"
          ]
        },
        {
          "output_type": "stream",
          "name": "stderr",
          "text": [
            "Scraping talks in parallel:  35%|███▌      | 1495/4233 [03:28<07:51,  5.81it/s]"
          ]
        },
        {
          "output_type": "stream",
          "name": "stdout",
          "text": [
            "Successfully fetched https://www.churchofjesuschrist.org/study/general-conference/2005/04/the-fruits-of-the-first-vision?lang=eng\n",
            "Successfully fetched https://www.churchofjesuschrist.org/study/general-conference/2005/04/the-tender-mercies-of-the-lord?lang=eng\n",
            "Successfully fetched https://www.churchofjesuschrist.org/study/general-conference/2005/04/beware-of-the-evil-behind-the-smiling-eyes?lang=eng\n",
            "Successfully fetched https://www.churchofjesuschrist.org/study/general-conference/2005/04/perseverance?lang=eng\n"
          ]
        },
        {
          "output_type": "stream",
          "name": "stderr",
          "text": [
            "\rScraping talks in parallel:  35%|███▌      | 1501/4233 [03:29<07:59,  5.70it/s]"
          ]
        },
        {
          "output_type": "stream",
          "name": "stdout",
          "text": [
            "Successfully fetched https://www.churchofjesuschrist.org/study/general-conference/2005/04/church-auditing-department-report-2004?lang=eng\n"
          ]
        },
        {
          "output_type": "stream",
          "name": "stderr",
          "text": [
            "\rScraping talks in parallel:  36%|███▌      | 1503/4233 [03:29<07:49,  5.81it/s]"
          ]
        },
        {
          "output_type": "stream",
          "name": "stdout",
          "text": [
            "Successfully fetched https://www.churchofjesuschrist.org/study/general-conference/2005/04/hearts-bound-together?lang=eng\n",
            "Successfully fetched https://www.churchofjesuschrist.org/study/general-conference/2005/04/a-work-for-me-to-do?lang=eng\n",
            "Successfully fetched https://www.churchofjesuschrist.org/study/general-conference/2005/04/appreciating-the-counsel-of-those-who-are-bowed-in-years?lang=eng\n",
            "Successfully fetched https://www.churchofjesuschrist.org/study/general-conference/2005/04/whos-on-the-lords-side-who?lang=eng\n"
          ]
        },
        {
          "output_type": "stream",
          "name": "stderr",
          "text": [
            "\rScraping talks in parallel:  36%|███▌      | 1504/4233 [03:29<08:23,  5.42it/s]"
          ]
        },
        {
          "output_type": "stream",
          "name": "stdout",
          "text": [
            "Successfully fetched https://www.churchofjesuschrist.org/study/general-conference/2005/04/the-sustaining-of-church-officers?lang=eng\n",
            "Successfully fetched https://www.churchofjesuschrist.org/study/general-conference/2005/04/faith-is-the-answer?lang=eng\n"
          ]
        },
        {
          "output_type": "stream",
          "name": "stderr",
          "text": [
            "Scraping talks in parallel:  36%|███▌      | 1510/4233 [03:30<05:17,  8.58it/s]"
          ]
        },
        {
          "output_type": "stream",
          "name": "stdout",
          "text": [
            "Successfully fetched https://www.churchofjesuschrist.org/study/general-conference/2005/04/constant-truths-for-changing-times?lang=eng\n"
          ]
        },
        {
          "output_type": "stream",
          "name": "stderr",
          "text": [
            "\rScraping talks in parallel:  36%|███▌      | 1512/4233 [03:30<05:10,  8.76it/s]"
          ]
        },
        {
          "output_type": "stream",
          "name": "stdout",
          "text": [
            "Successfully fetched https://www.churchofjesuschrist.org/study/general-conference/2005/04/gambling?lang=eng\n",
            "Successfully fetched https://www.churchofjesuschrist.org/study/general-conference/2005/04/the-book-of-mormon-another-testament-of-jesus-christ-plain-and-precious-things?lang=eng\n"
          ]
        },
        {
          "output_type": "stream",
          "name": "stderr",
          "text": [
            "\rScraping talks in parallel:  36%|███▌      | 1514/4233 [03:30<05:01,  9.02it/s]"
          ]
        },
        {
          "output_type": "stream",
          "name": "stdout",
          "text": [
            "Successfully fetched https://www.churchofjesuschrist.org/study/general-conference/2005/04/tithing-a-commandment-even-for-the-destitute?lang=eng\n",
            "Successfully fetched https://www.churchofjesuschrist.org/study/general-conference/2005/04/be-of-good-cheer-and-faithful-in-adversity?lang=eng\n"
          ]
        },
        {
          "output_type": "stream",
          "name": "stderr",
          "text": [
            "\rScraping talks in parallel:  36%|███▌      | 1516/4233 [03:30<04:50,  9.35it/s]"
          ]
        },
        {
          "output_type": "stream",
          "name": "stdout",
          "text": [
            "Successfully fetched https://www.churchofjesuschrist.org/study/general-conference/2005/04/opening-remarks?lang=eng\n",
            "Successfully fetched https://www.churchofjesuschrist.org/study/general-conference/2005/04/he-knows-you-by-name?lang=eng\n",
            "Successfully fetched https://www.churchofjesuschrist.org/study/general-conference/2005/04/now-is-the-time-to-prepare?lang=eng\n",
            "Successfully fetched https://www.churchofjesuschrist.org/study/general-conference/2005/04/the-power-of-preach-my-gospel?lang=eng\n",
            "Successfully fetched https://www.churchofjesuschrist.org/study/general-conference/2005/04/the-great-things-which-god-has-revealed?lang=eng\n",
            "Successfully fetched https://www.churchofjesuschrist.org/study/general-conference/2005/04/statistical-report-2004?lang=eng\n",
            "Successfully fetched https://www.churchofjesuschrist.org/study/general-conference/2005/04/glad-tidings-from-cumorah?lang=eng\n",
            "Successfully fetched https://www.churchofjesuschrist.org/study/general-conference/2004/10/the-key-of-the-knowledge-of-god?lang=eng\n",
            "Successfully fetched https://www.churchofjesuschrist.org/study/general-conference/2004/10/prophets-seers-and-revelators?lang=eng\n",
            "Successfully fetched https://www.churchofjesuschrist.org/study/general-conference/2005/04/what-seek-ye?lang=eng\n",
            "Successfully fetched https://www.churchofjesuschrist.org/study/general-conference/2005/04/a-still-small-voice-and-a-throbbing-heart?lang=eng\n"
          ]
        },
        {
          "output_type": "stream",
          "name": "stderr",
          "text": [
            "\rScraping talks in parallel:  36%|███▌      | 1518/4233 [03:32<12:37,  3.58it/s]"
          ]
        },
        {
          "output_type": "stream",
          "name": "stdout",
          "text": [
            "Successfully fetched https://www.churchofjesuschrist.org/study/general-conference/2005/04/be-thou-an-example?lang=eng\n",
            "Successfully fetched https://www.churchofjesuschrist.org/study/general-conference/2004/10/the-blessings-of-a-proper-fast?lang=eng\n",
            "Successfully fetched https://www.churchofjesuschrist.org/study/general-conference/2004/10/press-on?lang=eng\n"
          ]
        },
        {
          "output_type": "stream",
          "name": "stderr",
          "text": [
            "Scraping talks in parallel:  36%|███▌      | 1531/4233 [03:32<04:35,  9.82it/s]"
          ]
        },
        {
          "output_type": "stream",
          "name": "stdout",
          "text": [
            "Successfully fetched https://www.churchofjesuschrist.org/study/general-conference/2004/10/the-power-of-gods-love?lang=eng\n",
            "Successfully fetched https://www.churchofjesuschrist.org/study/general-conference/2004/10/a-tragic-evil-among-us?lang=eng\n"
          ]
        },
        {
          "output_type": "stream",
          "name": "stderr",
          "text": [
            "\rScraping talks in parallel:  36%|███▌      | 1533/4233 [03:33<04:52,  9.22it/s]"
          ]
        },
        {
          "output_type": "stream",
          "name": "stdout",
          "text": [
            "Successfully fetched https://www.churchofjesuschrist.org/study/general-conference/2004/10/anxiously-engaged?lang=eng\n",
            "Successfully fetched https://www.churchofjesuschrist.org/study/general-conference/2004/10/the-opportunity-to-testify?lang=eng\n",
            "Successfully fetched https://www.churchofjesuschrist.org/study/general-conference/2004/10/condition-of-the-church?lang=eng\n",
            "Successfully fetched https://www.churchofjesuschrist.org/study/general-conference/2004/10/more-holiness-give-me?lang=eng\n",
            "Successfully fetched https://www.churchofjesuschrist.org/study/general-conference/2004/10/senior-missionaries-and-the-gospel?lang=eng\n"
          ]
        },
        {
          "output_type": "stream",
          "name": "stderr",
          "text": [
            "\rScraping talks in parallel:  36%|███▋      | 1535/4233 [03:33<06:09,  7.31it/s]"
          ]
        },
        {
          "output_type": "stream",
          "name": "stdout",
          "text": [
            "Successfully fetched https://www.churchofjesuschrist.org/study/general-conference/2004/10/bringing-peace-and-healing-to-your-soul?lang=eng\n",
            "Successfully fetched https://www.churchofjesuschrist.org/study/general-conference/2004/10/in-the-strength-of-the-lord?lang=eng\n",
            "Successfully fetched https://www.churchofjesuschrist.org/study/general-conference/2004/10/pure-testimony?lang=eng\n"
          ]
        },
        {
          "output_type": "stream",
          "name": "stderr",
          "text": [
            "\rScraping talks in parallel:  36%|███▋      | 1537/4233 [03:33<06:16,  7.16it/s]"
          ]
        },
        {
          "output_type": "stream",
          "name": "stdout",
          "text": [
            "Successfully fetched https://www.churchofjesuschrist.org/study/general-conference/2004/10/we-did-this-for-you?lang=eng\n",
            "Successfully fetched https://www.churchofjesuschrist.org/study/general-conference/2004/10/faith-and-keys?lang=eng\n"
          ]
        },
        {
          "output_type": "stream",
          "name": "stderr",
          "text": [
            "\rScraping talks in parallel:  36%|███▋      | 1538/4233 [03:34<07:27,  6.02it/s]"
          ]
        },
        {
          "output_type": "stream",
          "name": "stdout",
          "text": [
            "Successfully fetched https://www.churchofjesuschrist.org/study/general-conference/2004/10/the-sustaining-of-church-officers?lang=eng\n"
          ]
        },
        {
          "output_type": "stream",
          "name": "stderr",
          "text": [
            "Scraping talks in parallel:  36%|███▋      | 1545/4233 [03:34<04:44,  9.46it/s]"
          ]
        },
        {
          "output_type": "stream",
          "name": "stdout",
          "text": [
            "Successfully fetched https://www.churchofjesuschrist.org/study/general-conference/2004/10/closing-remarks?lang=eng\n",
            "Successfully fetched https://www.churchofjesuschrist.org/study/general-conference/2004/10/if-ye-are-prepared-ye-shall-not-fear?lang=eng\n",
            "Successfully fetched https://www.churchofjesuschrist.org/study/general-conference/2004/10/i-stand-at-the-door-and-knock?lang=eng\n",
            "Successfully fetched https://www.churchofjesuschrist.org/study/general-conference/2004/10/perilous-times?lang=eng\n",
            "Successfully fetched https://www.churchofjesuschrist.org/study/general-conference/2004/10/out-of-small-things?lang=eng\n"
          ]
        },
        {
          "output_type": "stream",
          "name": "stderr",
          "text": [
            "\rScraping talks in parallel:  37%|███▋      | 1547/4233 [03:35<05:22,  8.32it/s]"
          ]
        },
        {
          "output_type": "stream",
          "name": "stdout",
          "text": [
            "Successfully fetched https://www.churchofjesuschrist.org/study/general-conference/2004/10/remember-the-teachings-of-your-father?lang=eng\n",
            "Successfully fetched https://www.churchofjesuschrist.org/study/general-conference/2004/10/what-is-a-quorum?lang=eng\n",
            "Successfully fetched https://www.churchofjesuschrist.org/study/general-conference/2004/10/where-do-i-make-my-stand?lang=eng\n",
            "Successfully fetched https://www.churchofjesuschrist.org/study/general-conference/2004/10/the-women-in-our-lives?lang=eng\n",
            "Successfully fetched https://www.churchofjesuschrist.org/study/general-conference/2004/10/the-least-of-these?lang=eng\n",
            "Successfully fetched https://www.churchofjesuschrist.org/study/general-conference/2004/10/finding-faith-in-the-lord-jesus-christ?lang=eng\n"
          ]
        },
        {
          "output_type": "stream",
          "name": "stderr",
          "text": [
            "Scraping talks in parallel:  37%|███▋      | 1551/4233 [03:36<08:13,  5.43it/s]"
          ]
        },
        {
          "output_type": "stream",
          "name": "stdout",
          "text": [
            "Successfully fetched https://www.churchofjesuschrist.org/study/general-conference/2004/10/saturday-morning-session?lang=eng\n",
            "Successfully fetched https://www.churchofjesuschrist.org/study/general-conference/2004/10/how-has-relief-society-blessed-your-life?lang=eng\n"
          ]
        },
        {
          "output_type": "stream",
          "name": "stderr",
          "text": [
            "Scraping talks in parallel:  37%|███▋      | 1556/4233 [03:36<06:25,  6.95it/s]"
          ]
        },
        {
          "output_type": "stream",
          "name": "stdout",
          "text": [
            "Successfully fetched https://www.churchofjesuschrist.org/study/general-conference/2004/10/belonging-is-our-sacred-birthright?lang=eng\n"
          ]
        },
        {
          "output_type": "stream",
          "name": "stderr",
          "text": [
            "\rScraping talks in parallel:  37%|███▋      | 1558/4233 [03:36<06:00,  7.42it/s]"
          ]
        },
        {
          "output_type": "stream",
          "name": "stdout",
          "text": [
            "Successfully fetched https://www.churchofjesuschrist.org/study/general-conference/2004/10/peace-of-conscience-and-peace-of-mind?lang=eng\n",
            "Successfully fetched https://www.churchofjesuschrist.org/study/general-conference/2004/04/preparation-for-the-second-coming?lang=eng\n",
            "Successfully fetched https://www.churchofjesuschrist.org/study/general-conference/2004/10/choose-you-this-day?lang=eng\n",
            "Successfully fetched https://www.churchofjesuschrist.org/study/general-conference/2004/10/keeping-our-covenants?lang=eng\n"
          ]
        },
        {
          "output_type": "stream",
          "name": "stderr",
          "text": [
            "\rScraping talks in parallel:  37%|███▋      | 1559/4233 [03:37<09:58,  4.47it/s]"
          ]
        },
        {
          "output_type": "stream",
          "name": "stdout",
          "text": [
            "Successfully fetched https://www.churchofjesuschrist.org/study/general-conference/2004/04/remember-how-merciful-the-lord-hath-been?lang=eng\n",
            "Successfully fetched https://www.churchofjesuschrist.org/study/general-conference/2004/10/feed-my-sheep?lang=eng\n",
            "Successfully fetched https://www.churchofjesuschrist.org/study/general-conference/2004/10/walking-towards-the-light-of-his-love?lang=eng\n",
            "Successfully fetched https://www.churchofjesuschrist.org/study/general-conference/2004/04/the-atonement-all-for-all?lang=eng\n",
            "Successfully fetched https://www.churchofjesuschrist.org/study/general-conference/2004/10/be-not-deceived?lang=eng\n",
            "Successfully fetched https://www.churchofjesuschrist.org/study/general-conference/2004/04/concluding-remarks?lang=eng\n",
            "Successfully fetched https://www.churchofjesuschrist.org/study/general-conference/2004/10/securing-our-testimonies?lang=eng\n",
            "Successfully fetched https://www.churchofjesuschrist.org/study/general-conference/2004/04/strengthen-thy-brethren?lang=eng\n"
          ]
        },
        {
          "output_type": "stream",
          "name": "stderr",
          "text": [
            "Scraping talks in parallel:  37%|███▋      | 1564/4233 [03:38<08:24,  5.29it/s]"
          ]
        },
        {
          "output_type": "stream",
          "name": "stdout",
          "text": [
            "Successfully fetched https://www.churchofjesuschrist.org/study/general-conference/2004/04/roots-and-branches?lang=eng\n",
            "Successfully fetched https://www.churchofjesuschrist.org/study/general-conference/2004/04/the-dawning-of-a-brighter-day?lang=eng\n"
          ]
        },
        {
          "output_type": "stream",
          "name": "stderr",
          "text": [
            "\rScraping talks in parallel:  37%|███▋      | 1570/4233 [03:39<05:32,  8.01it/s]"
          ]
        },
        {
          "output_type": "stream",
          "name": "stdout",
          "text": [
            "Successfully fetched https://www.churchofjesuschrist.org/study/general-conference/2004/04/a-mother-heart?lang=eng\n",
            "Successfully fetched https://www.churchofjesuschrist.org/study/general-conference/2004/04/in-the-strength-of-the-lord?lang=eng\n",
            "Successfully fetched https://www.churchofjesuschrist.org/study/general-conference/2004/04/abide-in-me?lang=eng\n"
          ]
        },
        {
          "output_type": "stream",
          "name": "stderr",
          "text": [
            "\rScraping talks in parallel:  37%|███▋      | 1573/4233 [03:39<06:27,  6.87it/s]"
          ]
        },
        {
          "output_type": "stream",
          "name": "stdout",
          "text": [
            "Successfully fetched https://www.churchofjesuschrist.org/study/general-conference/2004/04/believe?lang=eng\n",
            "Successfully fetched https://www.churchofjesuschrist.org/study/general-conference/2004/04/all-things-shall-work-together-for-your-good?lang=eng\n",
            "Successfully fetched https://www.churchofjesuschrist.org/study/general-conference/2004/04/how-great-the-wisdom-and-the-love?lang=eng\n",
            "Successfully fetched https://www.churchofjesuschrist.org/study/general-conference/2004/04/the-church-grows-stronger?lang=eng\n"
          ]
        },
        {
          "output_type": "stream",
          "name": "stderr",
          "text": [
            "\rScraping talks in parallel:  37%|███▋      | 1576/4233 [03:40<07:03,  6.28it/s]"
          ]
        },
        {
          "output_type": "stream",
          "name": "stdout",
          "text": [
            "Successfully fetched https://www.churchofjesuschrist.org/study/general-conference/2004/04/how-to-live-well-amid-increasing-evil?lang=eng\n",
            "Successfully fetched https://www.churchofjesuschrist.org/study/general-conference/2004/04/the-sustaining-of-church-officers?lang=engSuccessfully fetched https://www.churchofjesuschrist.org/study/general-conference/2004/04/choices?lang=eng\n",
            "\n",
            "Successfully fetched https://www.churchofjesuschrist.org/study/general-conference/2004/04/the-atonement-and-the-value-of-one-soul?lang=eng\n",
            "Successfully fetched https://www.churchofjesuschrist.org/study/general-conference/2004/04/my-soul-delighteth-in-the-scriptures?lang=eng\n",
            "Successfully fetched https://www.churchofjesuschrist.org/study/general-conference/2004/04/the-finished-story?lang=eng\n"
          ]
        },
        {
          "output_type": "stream",
          "name": "stderr",
          "text": [
            "Scraping talks in parallel:  37%|███▋      | 1581/4233 [03:40<05:41,  7.76it/s]"
          ]
        },
        {
          "output_type": "stream",
          "name": "stdout",
          "text": [
            "Successfully fetched https://www.churchofjesuschrist.org/study/general-conference/2004/04/do-not-fear?lang=eng\n",
            "Successfully fetched https://www.churchofjesuschrist.org/study/general-conference/2004/04/statistical-report-2003?lang=eng\n"
          ]
        },
        {
          "output_type": "stream",
          "name": "stderr",
          "text": [
            "\rScraping talks in parallel:  37%|███▋      | 1584/4233 [03:41<05:38,  7.81it/s]"
          ]
        },
        {
          "output_type": "stream",
          "name": "stdout",
          "text": [
            "Successfully fetched https://www.churchofjesuschrist.org/study/general-conference/2004/04/standing-spotless-before-the-lord?lang=eng\n",
            "Successfully fetched https://www.churchofjesuschrist.org/study/general-conference/2004/04/jesus-the-very-thought-of-thee?lang=eng\n"
          ]
        },
        {
          "output_type": "stream",
          "name": "stderr",
          "text": [
            "\rScraping talks in parallel:  37%|███▋      | 1586/4233 [03:41<05:25,  8.14it/s]"
          ]
        },
        {
          "output_type": "stream",
          "name": "stdout",
          "text": [
            "Successfully fetched https://www.churchofjesuschrist.org/study/general-conference/2004/04/earthly-debts-heavenly-debts?lang=eng\n",
            "Successfully fetched https://www.churchofjesuschrist.org/study/general-conference/2004/04/for-the-strength-of-youth?lang=eng\n"
          ]
        },
        {
          "output_type": "stream",
          "name": "stderr",
          "text": [
            "\rScraping talks in parallel:  38%|███▊      | 1589/4233 [03:42<06:10,  7.13it/s]"
          ]
        },
        {
          "output_type": "stream",
          "name": "stdout",
          "text": [
            "Successfully fetched https://www.churchofjesuschrist.org/study/general-conference/2004/04/the-words-of-christ-our-spiritual-liahona?lang=eng\n",
            "Successfully fetched https://www.churchofjesuschrist.org/study/general-conference/2004/04/i-was-an-hungred-and-ye-gave-me-meat?lang=eng\n",
            "Successfully fetched https://www.churchofjesuschrist.org/study/general-conference/2004/04/but-if-not?lang=eng\n",
            "Successfully fetched https://www.churchofjesuschrist.org/study/general-conference/2004/04/saturday-morning-session?lang=eng\n",
            "Successfully fetched https://www.churchofjesuschrist.org/study/general-conference/2004/04/did-you-get-the-right-message?lang=eng\n",
            "Successfully fetched https://www.churchofjesuschrist.org/study/general-conference/2004/04/fatherhood-an-eternal-calling?lang=eng\n"
          ]
        },
        {
          "output_type": "stream",
          "name": "stderr",
          "text": [
            "\rScraping talks in parallel:  38%|███▊      | 1590/4233 [03:42<08:30,  5.18it/s]"
          ]
        },
        {
          "output_type": "stream",
          "name": "stdout",
          "text": [
            "Successfully fetched https://www.churchofjesuschrist.org/study/general-conference/2004/04/the-call-for-courage?lang=eng\n",
            "Successfully fetched https://www.churchofjesuschrist.org/study/general-conference/2004/04/with-all-the-feeling-of-a-tender-parent-a-message-of-hope-to-families?lang=eng\n",
            "Successfully fetched https://www.churchofjesuschrist.org/study/general-conference/2004/04/church-auditing-department-report-2003?lang=eng\n",
            "Successfully fetched https://www.churchofjesuschrist.org/study/general-conference/2004/04/marriage-and-family-our-sacred-responsibility?lang=eng\n",
            "Successfully fetched https://www.churchofjesuschrist.org/study/general-conference/2004/04/stay-on-the-high-road?lang=eng\n"
          ]
        },
        {
          "output_type": "stream",
          "name": "stderr",
          "text": [
            "Scraping talks in parallel:  38%|███▊      | 1600/4233 [03:43<04:18, 10.17it/s]"
          ]
        },
        {
          "output_type": "stream",
          "name": "stdout",
          "text": [
            "Successfully fetched https://www.churchofjesuschrist.org/study/general-conference/2004/04/when-thou-art-converted?lang=eng\n",
            "Successfully fetched https://www.churchofjesuschrist.org/study/general-conference/2003/10/let-us-live-the-gospel-more-fully?lang=eng\n",
            "Successfully fetched https://www.churchofjesuschrist.org/study/general-conference/2003/10/come-follow-me?lang=eng\n",
            "Successfully fetched https://www.churchofjesuschrist.org/study/general-conference/2004/04/applying-the-simple-and-plain-gospel-principles-in-the-family?lang=eng\n",
            "Successfully fetched https://www.churchofjesuschrist.org/study/general-conference/2004/04/your-personal-influence?lang=eng\n"
          ]
        },
        {
          "output_type": "stream",
          "name": "stderr",
          "text": [
            "\rScraping talks in parallel:  38%|███▊      | 1602/4233 [03:43<05:07,  8.57it/s]"
          ]
        },
        {
          "output_type": "stream",
          "name": "stdout",
          "text": [
            "Successfully fetched https://www.churchofjesuschrist.org/study/general-conference/2003/10/a-sure-foundation?lang=eng\n"
          ]
        },
        {
          "output_type": "stream",
          "name": "stderr",
          "text": [
            "\rScraping talks in parallel:  38%|███▊      | 1605/4233 [03:43<04:50,  9.05it/s]"
          ]
        },
        {
          "output_type": "stream",
          "name": "stdout",
          "text": [
            "Successfully fetched https://www.churchofjesuschrist.org/study/general-conference/2003/10/young-men-holders-of-keys?lang=engSuccessfully fetched https://www.churchofjesuschrist.org/study/general-conference/2003/10/the-clarion-call-of-prophets?lang=eng\n",
            "\n",
            "Successfully fetched https://www.churchofjesuschrist.org/study/general-conference/2003/10/seeing-the-promises-afar-off?lang=eng\n",
            "Successfully fetched https://www.churchofjesuschrist.org/study/general-conference/2003/10/priesthood-keys-and-the-power-to-bless?lang=eng\n",
            "Successfully fetched https://www.churchofjesuschrist.org/study/general-conference/2003/10/choose-ye-therefore-christ-the-lord?lang=eng\n",
            "Successfully fetched https://www.churchofjesuschrist.org/study/general-conference/2003/10/choosing-charity-that-good-part?lang=eng\n",
            "Successfully fetched https://www.churchofjesuschrist.org/study/general-conference/2003/10/the-lord-thy-god-will-hold-thy-hand?lang=eng\n"
          ]
        },
        {
          "output_type": "stream",
          "name": "stderr",
          "text": [
            "Scraping talks in parallel:  38%|███▊      | 1612/4233 [03:44<05:05,  8.58it/s]"
          ]
        },
        {
          "output_type": "stream",
          "name": "stdout",
          "text": [
            "Successfully fetched https://www.churchofjesuschrist.org/study/general-conference/2003/10/the-empowerment-of-humility?lang=eng\n",
            "Successfully fetched https://www.churchofjesuschrist.org/study/general-conference/2003/10/the-shepherds-of-israel?lang=eng\n",
            "Successfully fetched https://www.churchofjesuschrist.org/study/general-conference/2003/10/repentance-and-change?lang=eng\n"
          ]
        },
        {
          "output_type": "stream",
          "name": "stderr",
          "text": [
            "\rScraping talks in parallel:  38%|███▊      | 1616/4233 [03:44<03:53, 11.22it/s]"
          ]
        },
        {
          "output_type": "stream",
          "name": "stdout",
          "text": [
            "Successfully fetched https://www.churchofjesuschrist.org/study/general-conference/2003/10/bring-him-home?lang=eng\n",
            "Successfully fetched https://www.churchofjesuschrist.org/study/general-conference/2003/10/are-you-a-saint?lang=eng\n"
          ]
        },
        {
          "output_type": "stream",
          "name": "stderr",
          "text": [
            "\rScraping talks in parallel:  38%|███▊      | 1618/4233 [03:45<03:51, 11.32it/s]"
          ]
        },
        {
          "output_type": "stream",
          "name": "stdout",
          "text": [
            "Successfully fetched https://www.churchofjesuschrist.org/study/general-conference/2003/10/receiving-a-testimony-of-the-restored-gospel-of-jesus-christ?lang=eng\n",
            "Successfully fetched https://www.churchofjesuschrist.org/study/general-conference/2003/10/realize-your-full-potential?lang=eng\n",
            "Successfully fetched https://www.churchofjesuschrist.org/study/general-conference/2003/10/we-believe-all-that-god-has-revealed?lang=eng\n"
          ]
        },
        {
          "output_type": "stream",
          "name": "stderr",
          "text": [
            "\rScraping talks in parallel:  38%|███▊      | 1620/4233 [03:45<05:05,  8.56it/s]"
          ]
        },
        {
          "output_type": "stream",
          "name": "stdout",
          "text": [
            "Successfully fetched https://www.churchofjesuschrist.org/study/general-conference/2003/10/the-grandeur-of-god?lang=eng\n",
            "Successfully fetched https://www.churchofjesuschrist.org/study/general-conference/2003/10/the-phenomenon-that-is-you?lang=eng\n",
            "Successfully fetched https://www.churchofjesuschrist.org/study/general-conference/2003/10/to-the-women-of-the-church?lang=eng\n",
            "Successfully fetched https://www.churchofjesuschrist.org/study/general-conference/2003/10/personal-priesthood-responsibility?lang=eng\n"
          ]
        },
        {
          "output_type": "stream",
          "name": "stderr",
          "text": [
            "\rScraping talks in parallel:  38%|███▊      | 1622/4233 [03:45<05:33,  7.83it/s]"
          ]
        },
        {
          "output_type": "stream",
          "name": "stdout",
          "text": [
            "Successfully fetched https://www.churchofjesuschrist.org/study/general-conference/2003/10/the-sustaining-of-church-officers?lang=eng\n"
          ]
        },
        {
          "output_type": "stream",
          "name": "stderr",
          "text": [
            "\rScraping talks in parallel:  38%|███▊      | 1624/4233 [03:46<04:49,  9.02it/s]"
          ]
        },
        {
          "output_type": "stream",
          "name": "stdout",
          "text": [
            "Successfully fetched https://www.churchofjesuschrist.org/study/general-conference/2003/10/three-choices?lang=eng\n"
          ]
        },
        {
          "output_type": "stream",
          "name": "stderr",
          "text": [
            "\rScraping talks in parallel:  38%|███▊      | 1628/4233 [03:46<04:52,  8.89it/s]"
          ]
        },
        {
          "output_type": "stream",
          "name": "stdout",
          "text": [
            "Successfully fetched https://www.churchofjesuschrist.org/study/general-conference/2003/10/in-covenant-with-him?lang=eng\n",
            "Successfully fetched https://www.churchofjesuschrist.org/study/general-conference/2003/10/the-atonement-repentance-and-dirty-linen?lang=eng\n",
            "Successfully fetched https://www.churchofjesuschrist.org/study/general-conference/2003/10/the-standard-of-truth-has-been-erected?lang=eng\n",
            "Successfully fetched https://www.churchofjesuschrist.org/study/general-conference/2003/10/the-bridge-builder?lang=eng\n",
            "Successfully fetched https://www.churchofjesuschrist.org/study/general-conference/2003/10/how-choice-a-seer?lang=eng\n",
            "Successfully fetched https://www.churchofjesuschrist.org/study/general-conference/2003/10/the-state-of-the-church?lang=eng\n",
            "Successfully fetched https://www.churchofjesuschrist.org/study/general-conference/2003/10/let-our-voices-be-heard?lang=eng\n",
            "Successfully fetched https://www.churchofjesuschrist.org/study/general-conference/2003/10/the-message-of-the-restoration?lang=eng\n",
            "Successfully fetched https://www.churchofjesuschrist.org/study/general-conference/2003/10/saturday-morning-session?lang=eng\n"
          ]
        },
        {
          "output_type": "stream",
          "name": "stderr",
          "text": [
            "\rScraping talks in parallel:  39%|███▊      | 1630/4233 [03:47<09:20,  4.64it/s]"
          ]
        },
        {
          "output_type": "stream",
          "name": "stdout",
          "text": [
            "Successfully fetched https://www.churchofjesuschrist.org/study/general-conference/2003/10/an-ensign-to-the-nations-a-light-to-the-world?lang=eng\n",
            "Successfully fetched https://www.churchofjesuschrist.org/study/general-conference/2003/10/he-knows-us-he-loves-us?lang=eng\n"
          ]
        },
        {
          "output_type": "stream",
          "name": "stderr",
          "text": [
            "Scraping talks in parallel:  39%|███▊      | 1640/4233 [03:47<03:55, 11.01it/s]"
          ]
        },
        {
          "output_type": "stream",
          "name": "stdout",
          "text": [
            "Successfully fetched https://www.churchofjesuschrist.org/study/general-conference/2003/10/an-enduring-testimony-of-the-mission-of-the-prophet-joseph?lang=eng\n",
            "Successfully fetched https://www.churchofjesuschrist.org/study/general-conference/2003/10/lord-i-believe-help-thou-mine-unbelief?lang=eng\n",
            "Successfully fetched https://www.churchofjesuschrist.org/study/general-conference/2003/04/a-prayer-for-the-children?lang=eng\n"
          ]
        },
        {
          "output_type": "stream",
          "name": "stderr",
          "text": [
            "\rScraping talks in parallel:  39%|███▉      | 1643/4233 [03:48<04:43,  9.12it/s]"
          ]
        },
        {
          "output_type": "stream",
          "name": "stdout",
          "text": [
            "Successfully fetched https://www.churchofjesuschrist.org/study/general-conference/2003/04/show-you-know?lang=eng\n",
            "Successfully fetched https://www.churchofjesuschrist.org/study/general-conference/2003/04/seek-and-ye-shall-find?lang=eng\n",
            "Successfully fetched https://www.churchofjesuschrist.org/study/general-conference/2003/04/the-condition-of-the-church?lang=eng\n",
            "Successfully fetched https://www.churchofjesuschrist.org/study/general-conference/2003/04/blessed-by-living-water?lang=eng\n",
            "Successfully fetched https://www.churchofjesuschrist.org/study/general-conference/2003/04/the-devils-throat?lang=eng\n",
            "Successfully fetched https://www.churchofjesuschrist.org/study/general-conference/2003/04/the-unspeakable-gift?lang=eng\n",
            "Successfully fetched https://www.churchofjesuschrist.org/study/general-conference/2003/04/sweet-power-of-prayer?lang=eng\n",
            "Successfully fetched https://www.churchofjesuschrist.org/study/general-conference/2003/04/in-search-of-treasure?lang=eng\n",
            "Successfully fetched https://www.churchofjesuschrist.org/study/general-conference/2003/04/the-golden-years?lang=eng\n",
            "Successfully fetched https://www.churchofjesuschrist.org/study/general-conference/2003/04/a-child-and-a-disciple?lang=eng\n",
            "Successfully fetched https://www.churchofjesuschrist.org/study/general-conference/2003/04/the-sustaining-of-church-officers?lang=eng\n"
          ]
        },
        {
          "output_type": "stream",
          "name": "stderr",
          "text": [
            "\rScraping talks in parallel:  39%|███▉      | 1645/4233 [03:50<10:42,  4.03it/s]"
          ]
        },
        {
          "output_type": "stream",
          "name": "stdout",
          "text": [
            "Successfully fetched https://www.churchofjesuschrist.org/study/general-conference/2003/04/statistical-report-2002?lang=eng\n",
            "Successfully fetched https://www.churchofjesuschrist.org/study/general-conference/2003/04/church-auditing-department-report?lang=eng\n"
          ]
        },
        {
          "output_type": "stream",
          "name": "stderr",
          "text": [
            "Scraping talks in parallel:  39%|███▉      | 1654/4233 [03:50<05:52,  7.31it/s]"
          ]
        },
        {
          "output_type": "stream",
          "name": "stdout",
          "text": [
            "Successfully fetched https://www.churchofjesuschrist.org/study/general-conference/2003/04/preparing-for-missionary-service?lang=eng\n",
            "Successfully fetched https://www.churchofjesuschrist.org/study/general-conference/2003/04/dear-are-the-sheep-that-have-wandered?lang=eng\n"
          ]
        },
        {
          "output_type": "stream",
          "name": "stderr",
          "text": [
            "\rScraping talks in parallel:  39%|███▉      | 1656/4233 [03:50<05:41,  7.54it/s]"
          ]
        },
        {
          "output_type": "stream",
          "name": "stdout",
          "text": [
            "Successfully fetched https://www.churchofjesuschrist.org/study/general-conference/2003/04/did-i-tell-you?lang=eng\n",
            "Successfully fetched https://www.churchofjesuschrist.org/study/general-conference/2003/04/i-can-pray-to-heavenly-father-anytime-anywhere?lang=eng\n",
            "Successfully fetched https://www.churchofjesuschrist.org/study/general-conference/2003/04/loyalty?lang=eng\n",
            "Successfully fetched https://www.churchofjesuschrist.org/study/general-conference/2003/04/stand-in-your-appointed-place?lang=eng\n"
          ]
        },
        {
          "output_type": "stream",
          "name": "stderr",
          "text": [
            "Scraping talks in parallel:  39%|███▉      | 1659/4233 [03:51<06:52,  6.24it/s]"
          ]
        },
        {
          "output_type": "stream",
          "name": "stdout",
          "text": [
            "Successfully fetched https://www.churchofjesuschrist.org/study/general-conference/2003/04/saturday-morning-session?lang=eng\n",
            "Successfully fetched https://www.churchofjesuschrist.org/study/general-conference/2003/04/forgiveness-will-change-bitterness-to-love?lang=eng\n"
          ]
        },
        {
          "output_type": "stream",
          "name": "stderr",
          "text": [
            "\rScraping talks in parallel:  39%|███▉      | 1661/4233 [03:52<07:21,  5.83it/s]"
          ]
        },
        {
          "output_type": "stream",
          "name": "stdout",
          "text": [
            "Successfully fetched https://www.churchofjesuschrist.org/study/general-conference/2003/04/the-importance-of-the-family?lang=eng\n",
            "Successfully fetched https://www.churchofjesuschrist.org/study/general-conference/2003/04/overcoming-the-stench-of-sin?lang=eng\n"
          ]
        },
        {
          "output_type": "stream",
          "name": "stderr",
          "text": [
            "\rScraping talks in parallel:  39%|███▉      | 1664/4233 [03:52<05:58,  7.16it/s]"
          ]
        },
        {
          "output_type": "stream",
          "name": "stdout",
          "text": [
            "Successfully fetched https://www.churchofjesuschrist.org/study/general-conference/2003/04/and-thats-the-way-it-is?lang=eng\n",
            "Successfully fetched https://www.churchofjesuschrist.org/study/general-conference/2003/04/follow-the-instructions?lang=eng\n"
          ]
        },
        {
          "output_type": "stream",
          "name": "stderr",
          "text": [
            "\rScraping talks in parallel:  39%|███▉      | 1666/4233 [03:52<05:17,  8.08it/s]"
          ]
        },
        {
          "output_type": "stream",
          "name": "stdout",
          "text": [
            "Successfully fetched https://www.churchofjesuschrist.org/study/general-conference/2003/04/press-forward-and-be-steadfast?lang=eng\n",
            "Successfully fetched https://www.churchofjesuschrist.org/study/general-conference/2003/04/steadfast-in-our-covenants?lang=eng\n",
            "Successfully fetched https://www.churchofjesuschrist.org/study/general-conference/2003/04/the-essential-role-of-member-missionary-work?lang=eng\n"
          ]
        },
        {
          "output_type": "stream",
          "name": "stderr",
          "text": [
            "\rScraping talks in parallel:  39%|███▉      | 1668/4233 [03:53<07:53,  5.42it/s]"
          ]
        },
        {
          "output_type": "stream",
          "name": "stdout",
          "text": [
            "Successfully fetched https://www.churchofjesuschrist.org/study/general-conference/2003/04/words-to-live-by?lang=eng\n",
            "Successfully fetched https://www.churchofjesuschrist.org/study/general-conference/2003/04/there-is-hope-smiling-brightly-before-us?lang=eng\n",
            "Successfully fetched https://www.churchofjesuschrist.org/study/general-conference/2003/04/the-virtues-of-righteous-daughters-of-god?lang=eng\n",
            "Successfully fetched https://www.churchofjesuschrist.org/study/general-conference/2003/04/holy-place-sacred-space?lang=eng\n",
            "Successfully fetched https://www.churchofjesuschrist.org/study/general-conference/2003/04/you-are-a-child-of-god?lang=eng\n",
            "Successfully fetched https://www.churchofjesuschrist.org/study/general-conference/2003/04/benediction?lang=eng\n"
          ]
        },
        {
          "output_type": "stream",
          "name": "stderr",
          "text": [
            "\rScraping talks in parallel:  39%|███▉      | 1669/4233 [03:53<10:12,  4.19it/s]"
          ]
        },
        {
          "output_type": "stream",
          "name": "stdout",
          "text": [
            "Successfully fetched https://www.churchofjesuschrist.org/study/general-conference/2003/04/the-light-of-his-love?lang=eng\n"
          ]
        },
        {
          "output_type": "stream",
          "name": "stderr",
          "text": [
            "\rScraping talks in parallel:  40%|███▉      | 1678/4233 [03:54<04:55,  8.64it/s]"
          ]
        },
        {
          "output_type": "stream",
          "name": "stdout",
          "text": [
            "Successfully fetched https://www.churchofjesuschrist.org/study/general-conference/2003/04/care-for-the-life-of-the-soul?lang=eng\n",
            "Successfully fetched https://www.churchofjesuschrist.org/study/general-conference/2003/04/eternal-marriage?lang=eng\n",
            "Successfully fetched https://www.churchofjesuschrist.org/study/general-conference/2002/10/called-to-serve?lang=eng\n"
          ]
        },
        {
          "output_type": "stream",
          "name": "stderr",
          "text": [
            "\rScraping talks in parallel:  40%|███▉      | 1679/4233 [03:54<06:04,  7.01it/s]"
          ]
        },
        {
          "output_type": "stream",
          "name": "stdout",
          "text": [
            "Successfully fetched https://www.churchofjesuschrist.org/study/general-conference/2003/04/give-thanks-in-all-things?lang=eng\n",
            "Successfully fetched https://www.churchofjesuschrist.org/study/general-conference/2003/04/the-sustaining-power-of-faith-in-times-of-uncertainty-and-testing?lang=eng\n",
            "Successfully fetched https://www.churchofjesuschrist.org/study/general-conference/2003/04/faith-through-tribulation-brings-peace-and-joy?lang=eng\n"
          ]
        },
        {
          "output_type": "stream",
          "name": "stderr",
          "text": [
            "\rScraping talks in parallel:  40%|███▉      | 1680/4233 [03:54<06:43,  6.32it/s]"
          ]
        },
        {
          "output_type": "stream",
          "name": "stdout",
          "text": [
            "Successfully fetched https://www.churchofjesuschrist.org/study/general-conference/2003/04/war-and-peace?lang=eng\n",
            "Successfully fetched https://www.churchofjesuschrist.org/study/general-conference/2002/10/dad-are-you-awake?lang=eng\n",
            "Successfully fetched https://www.churchofjesuschrist.org/study/general-conference/2002/10/charity-one-family-one-home-at-a-time?lang=eng\n",
            "Successfully fetched https://www.churchofjesuschrist.org/study/general-conference/2002/10/shall-he-find-faith-on-the-earth?lang=eng\n",
            "Successfully fetched https://www.churchofjesuschrist.org/study/general-conference/2002/10/tithing-a-test-of-faith-with-eternal-blessings?lang=eng\n",
            "Successfully fetched https://www.churchofjesuschrist.org/study/general-conference/2002/10/called-of-god?lang=eng\n",
            "Successfully fetched https://www.churchofjesuschrist.org/study/general-conference/2002/10/the-sustaining-of-church-officers?lang=eng\n",
            "Successfully fetched https://www.churchofjesuschrist.org/study/general-conference/2002/10/saturday-morning-session?lang=eng\n",
            "Successfully fetched https://www.churchofjesuschrist.org/study/general-conference/2002/10/each-a-better-person?lang=eng\n",
            "Successfully fetched https://www.churchofjesuschrist.org/study/general-conference/2003/04/growing-into-the-priesthood?lang=eng\n",
            "Successfully fetched https://www.churchofjesuschrist.org/study/general-conference/2002/10/blessing-our-families-through-our-covenants?lang=eng\n",
            "Successfully fetched https://www.churchofjesuschrist.org/study/general-conference/2002/10/the-greatest-generation-of-missionaries?lang=eng\n"
          ]
        },
        {
          "output_type": "stream",
          "name": "stderr",
          "text": [
            "Scraping talks in parallel:  40%|████      | 1695/4233 [03:56<04:21,  9.70it/s]"
          ]
        },
        {
          "output_type": "stream",
          "name": "stdout",
          "text": [
            "Successfully fetched https://www.churchofjesuschrist.org/study/general-conference/2002/10/i-ll-go-where-you-want-me-to-go?lang=eng\n",
            "Successfully fetched https://www.churchofjesuschrist.org/study/general-conference/2002/10/a-woman-of-faith?lang=eng\n",
            "Successfully fetched https://www.churchofjesuschrist.org/study/general-conference/2002/10/sacrifice-brings-forth-the-blessings-of-heaven?lang=eng\n",
            "Successfully fetched https://www.churchofjesuschrist.org/study/general-conference/2002/10/o-that-i-were-an-angel-and-could-have-the-wish-of-mine-heart?lang=eng\n",
            "Successfully fetched https://www.churchofjesuschrist.org/study/general-conference/2002/10/a-voice-of-gladness-for-our-children?lang=eng\n"
          ]
        },
        {
          "output_type": "stream",
          "name": "stderr",
          "text": [
            "\rScraping talks in parallel:  40%|████      | 1699/4233 [03:57<04:40,  9.03it/s]"
          ]
        },
        {
          "output_type": "stream",
          "name": "stdout",
          "text": [
            "Successfully fetched https://www.churchofjesuschrist.org/study/general-conference/2002/10/rise-to-your-call?lang=eng\n",
            "Successfully fetched https://www.churchofjesuschrist.org/study/general-conference/2002/10/yielding-to-the-enticings-of-the-holy-spirit?lang=eng\n",
            "Successfully fetched https://www.churchofjesuschrist.org/study/general-conference/2002/10/whats-in-it-for-me?lang=eng\n",
            "Successfully fetched https://www.churchofjesuschrist.org/study/general-conference/2002/10/that-they-may-be-one-in-us?lang=eng\n",
            "Successfully fetched https://www.churchofjesuschrist.org/study/general-conference/2002/10/blessed-are-the-peacemakers?lang=eng\n",
            "Successfully fetched https://www.churchofjesuschrist.org/study/general-conference/2002/10/you-are-all-heaven-sent?lang=eng\n",
            "Successfully fetched https://www.churchofjesuschrist.org/study/general-conference/2002/10/models-to-follow?lang=eng\n"
          ]
        },
        {
          "output_type": "stream",
          "name": "stderr",
          "text": [
            "Scraping talks in parallel:  40%|████      | 1705/4233 [03:58<04:54,  8.59it/s]"
          ]
        },
        {
          "output_type": "stream",
          "name": "stdout",
          "text": [
            "Successfully fetched https://www.churchofjesuschrist.org/study/general-conference/2002/10/with-holiness-of-heart?lang=eng\n",
            "Successfully fetched https://www.churchofjesuschrist.org/study/general-conference/2002/10/but-if-not?lang=eng\n",
            "Successfully fetched https://www.churchofjesuschrist.org/study/general-conference/2002/10/were-there-not-ten-cleansed?lang=eng\n"
          ]
        },
        {
          "output_type": "stream",
          "name": "stderr",
          "text": [
            "Scraping talks in parallel:  40%|████      | 1710/4233 [03:58<04:07, 10.18it/s]"
          ]
        },
        {
          "output_type": "stream",
          "name": "stdout",
          "text": [
            "Successfully fetched https://www.churchofjesuschrist.org/study/general-conference/2002/10/to-men-of-the-priesthood?lang=eng\n",
            "Successfully fetched https://www.churchofjesuschrist.org/study/general-conference/2002/10/to-be-free-of-heavy-burdens?lang=eng\n",
            "Successfully fetched https://www.churchofjesuschrist.org/study/general-conference/2002/10/encircled-in-the-arms-of-his-love?lang=eng\n",
            "Successfully fetched https://www.churchofjesuschrist.org/study/general-conference/2002/10/the-global-church-blessed-by-the-voice-of-the-prophets?lang=eng\n"
          ]
        },
        {
          "output_type": "stream",
          "name": "stderr",
          "text": [
            "\rScraping talks in parallel:  40%|████      | 1713/4233 [03:58<05:02,  8.34it/s]"
          ]
        },
        {
          "output_type": "stream",
          "name": "stdout",
          "text": [
            "Successfully fetched https://www.churchofjesuschrist.org/study/general-conference/2002/10/the-stake-patriarch?lang=eng\n",
            "Successfully fetched https://www.churchofjesuschrist.org/study/general-conference/2002/10/peace-be-still?lang=eng\n",
            "Successfully fetched https://www.churchofjesuschrist.org/study/general-conference/2002/10/come-to-zion-come-to-zion?lang=eng\n"
          ]
        },
        {
          "output_type": "stream",
          "name": "stderr",
          "text": [
            "\rScraping talks in parallel:  41%|████      | 1715/4233 [03:59<05:03,  8.30it/s]"
          ]
        },
        {
          "output_type": "stream",
          "name": "stdout",
          "text": [
            "Successfully fetched https://www.churchofjesuschrist.org/study/general-conference/2002/10/the-marvelous-foundation-of-our-faith?lang=eng\n",
            "Successfully fetched https://www.churchofjesuschrist.org/study/general-conference/2002/10/fun-and-happiness?lang=eng\n"
          ]
        },
        {
          "output_type": "stream",
          "name": "stderr",
          "text": [
            "Scraping talks in parallel:  41%|████      | 1719/4233 [03:59<04:13,  9.93it/s]"
          ]
        },
        {
          "output_type": "stream",
          "name": "stdout",
          "text": [
            "Successfully fetched https://www.churchofjesuschrist.org/study/general-conference/2002/04/children?lang=eng\n"
          ]
        },
        {
          "output_type": "stream",
          "name": "stderr",
          "text": [
            "\rScraping talks in parallel:  41%|████      | 1721/4233 [03:59<05:18,  7.88it/s]"
          ]
        },
        {
          "output_type": "stream",
          "name": "stdout",
          "text": [
            "Successfully fetched https://www.churchofjesuschrist.org/study/general-conference/2002/10/i-believe-i-can-i-knew-i-could?lang=eng\n",
            "Successfully fetched https://www.churchofjesuschrist.org/study/general-conference/2002/04/for-thy-good?lang=eng\n"
          ]
        },
        {
          "output_type": "stream",
          "name": "stderr",
          "text": [
            "\rScraping talks in parallel:  41%|████      | 1723/4233 [04:00<07:03,  5.93it/s]"
          ]
        },
        {
          "output_type": "stream",
          "name": "stdout",
          "text": [
            "Successfully fetched https://www.churchofjesuschrist.org/study/general-conference/2002/04/church-auditing-department-report?lang=eng\n",
            "Successfully fetched https://www.churchofjesuschrist.org/study/general-conference/2002/04/saturday-morning-session?lang=eng\n",
            "Successfully fetched https://www.churchofjesuschrist.org/study/general-conference/2002/04/eternal-life-through-jesus-christ?lang=eng\n",
            "Successfully fetched https://www.churchofjesuschrist.org/study/general-conference/2002/04/developing-inner-strength?lang=eng\n",
            "Successfully fetched https://www.churchofjesuschrist.org/study/general-conference/2002/04/follow-me?lang=eng\n"
          ]
        },
        {
          "output_type": "stream",
          "name": "stderr",
          "text": [
            "\rScraping talks in parallel:  41%|████      | 1725/4233 [04:00<07:04,  5.90it/s]"
          ]
        },
        {
          "output_type": "stream",
          "name": "stdout",
          "text": [
            "Successfully fetched https://www.churchofjesuschrist.org/study/general-conference/2002/04/some-basic-teachings-from-the-history-of-joseph-smith?lang=eng\n",
            "Successfully fetched https://www.churchofjesuschrist.org/study/general-conference/2002/04/hold-high-the-torch?lang=eng\n",
            "Successfully fetched https://www.churchofjesuschrist.org/study/general-conference/2002/04/it-can-t-happen-to-me?lang=eng\n"
          ]
        },
        {
          "output_type": "stream",
          "name": "stderr",
          "text": [
            "Scraping talks in parallel:  41%|████      | 1731/4233 [04:01<04:34,  9.13it/s]"
          ]
        },
        {
          "output_type": "stream",
          "name": "stdout",
          "text": [
            "Successfully fetched https://www.churchofjesuschrist.org/study/general-conference/2002/04/the-language-of-love?lang=eng\n",
            "Successfully fetched https://www.churchofjesuschrist.org/study/general-conference/2002/04/hidden-wedges?lang=eng\n",
            "Successfully fetched https://www.churchofjesuschrist.org/study/general-conference/2002/04/the-lifeline-of-prayer?lang=eng\n",
            "Successfully fetched https://www.churchofjesuschrist.org/study/general-conference/2002/04/how-firm-our-foundation?lang=eng\n",
            "Successfully fetched https://www.churchofjesuschrist.org/study/general-conference/2002/04/out-of-darkness-into-his-marvelous-light?lang=eng\n",
            "Successfully fetched https://www.churchofjesuschrist.org/study/general-conference/2002/04/we-walk-by-faith?lang=eng\n",
            "Successfully fetched https://www.churchofjesuschrist.org/study/general-conference/2002/04/the-law-of-tithing?lang=engSuccessfully fetched https://www.churchofjesuschrist.org/study/general-conference/2002/04/we-look-to-christ?lang=eng\n",
            "\n",
            "Successfully fetched https://www.churchofjesuschrist.org/study/general-conference/2002/04/standing-in-holy-places?lang=engSuccessfully fetched https://www.churchofjesuschrist.org/study/general-conference/2002/04/pathways-to-perfection?lang=eng\n",
            "\n",
            "Successfully fetched https://www.churchofjesuschrist.org/study/general-conference/2002/04/true-friends?lang=eng\n"
          ]
        },
        {
          "output_type": "stream",
          "name": "stderr",
          "text": [
            "\rScraping talks in parallel:  41%|████      | 1733/4233 [04:03<12:53,  3.23it/s]"
          ]
        },
        {
          "output_type": "stream",
          "name": "stdout",
          "text": [
            "Successfully fetched https://www.churchofjesuschrist.org/study/general-conference/2002/04/faith-obedience?lang=eng\n",
            "Successfully fetched https://www.churchofjesuschrist.org/study/general-conference/2002/04/the-sustaining-of-church-officers?lang=eng\n",
            "Successfully fetched https://www.churchofjesuschrist.org/study/general-conference/2002/04/the-other-prodigal?lang=eng\n"
          ]
        },
        {
          "output_type": "stream",
          "name": "stderr",
          "text": [
            "Scraping talks in parallel:  41%|████      | 1744/4233 [04:04<06:48,  6.09it/s]"
          ]
        },
        {
          "output_type": "stream",
          "name": "stdout",
          "text": [
            "Successfully fetched https://www.churchofjesuschrist.org/study/general-conference/2002/04/i-ll-go-where-you-want-me-to-go?lang=eng\n",
            "Successfully fetched https://www.churchofjesuschrist.org/study/general-conference/2002/04/strengthen-home-and-family?lang=eng\n",
            "Successfully fetched https://www.churchofjesuschrist.org/study/general-conference/2002/04/consecrate-thy-performance?lang=eng\n",
            "Successfully fetched https://www.churchofjesuschrist.org/study/general-conference/2002/04/feel-the-love-of-the-lord?lang=eng\n",
            "Successfully fetched https://www.churchofjesuschrist.org/study/general-conference/2002/04/this-road-we-call-life?lang=eng\n"
          ]
        },
        {
          "output_type": "stream",
          "name": "stderr",
          "text": [
            "\rScraping talks in parallel:  41%|████      | 1746/4233 [04:04<07:28,  5.54it/s]"
          ]
        },
        {
          "output_type": "stream",
          "name": "stdout",
          "text": [
            "Successfully fetched https://www.churchofjesuschrist.org/study/general-conference/2002/04/statistical-report-2001?lang=eng\n",
            "Successfully fetched https://www.churchofjesuschrist.org/study/general-conference/2002/04/the-peaceable-things-of-the-kingdom?lang=eng\n",
            "Successfully fetched https://www.churchofjesuschrist.org/study/general-conference/2002/04/becoming-a-great-benefit-to-our-fellow-beings?lang=eng\n"
          ]
        },
        {
          "output_type": "stream",
          "name": "stderr",
          "text": [
            "\rScraping talks in parallel:  41%|████▏     | 1751/4233 [04:04<05:31,  7.48it/s]"
          ]
        },
        {
          "output_type": "stream",
          "name": "stdout",
          "text": [
            "Successfully fetched https://www.churchofjesuschrist.org/study/general-conference/2002/04/the-opportunity-to-serve?lang=eng\n",
            "Successfully fetched https://www.churchofjesuschrist.org/study/general-conference/2002/04/personal-worthiness-to-exercise-the-priesthood?lang=eng\n",
            "Successfully fetched https://www.churchofjesuschrist.org/study/general-conference/2002/04/being-teachable?lang=eng\n"
          ]
        },
        {
          "output_type": "stream",
          "name": "stderr",
          "text": [
            "\rScraping talks in parallel:  41%|████▏     | 1753/4233 [04:05<07:30,  5.51it/s]"
          ]
        },
        {
          "output_type": "stream",
          "name": "stdout",
          "text": [
            "Successfully fetched https://www.churchofjesuschrist.org/study/general-conference/2001/10/sharing-the-gospel?lang=eng\n",
            "Successfully fetched https://www.churchofjesuschrist.org/study/general-conference/2002/04/full-conversion-brings-happiness?lang=eng\n",
            "Successfully fetched https://www.churchofjesuschrist.org/study/general-conference/2002/04/charity-perfect-and-everlasting-love?lang=eng\n",
            "Successfully fetched https://www.churchofjesuschrist.org/study/general-conference/2002/04/becoming-men-in-whom-the-spirit-of-god-is?lang=eng\n",
            "Successfully fetched https://www.churchofjesuschrist.org/study/general-conference/2002/04/the-church-goes-forward?lang=engSuccessfully fetched https://www.churchofjesuschrist.org/study/general-conference/2001/10/are-we-not-all-mothers?lang=eng\n",
            "\n"
          ]
        },
        {
          "output_type": "stream",
          "name": "stderr",
          "text": [
            "Scraping talks in parallel:  42%|████▏     | 1757/4233 [04:06<07:57,  5.19it/s]"
          ]
        },
        {
          "output_type": "stream",
          "name": "stdout",
          "text": [
            "Successfully fetched https://www.churchofjesuschrist.org/study/general-conference/2002/04/they-pray-and-they-go?lang=eng\n",
            "Successfully fetched https://www.churchofjesuschrist.org/study/general-conference/2002/04/the-gospel-in-our-lives?lang=eng\n",
            "Successfully fetched https://www.churchofjesuschrist.org/study/general-conference/2001/10/some-great-thing?lang=eng\n"
          ]
        },
        {
          "output_type": "stream",
          "name": "stderr",
          "text": [
            "\rScraping talks in parallel:  42%|████▏     | 1759/4233 [04:06<07:28,  5.51it/s]"
          ]
        },
        {
          "output_type": "stream",
          "name": "stdout",
          "text": [
            "Successfully fetched https://www.churchofjesuschrist.org/study/general-conference/2001/10/prayer?lang=eng\n",
            "Successfully fetched https://www.churchofjesuschrist.org/study/general-conference/2001/10/doctrine-of-inclusion?lang=eng\n",
            "Successfully fetched https://www.churchofjesuschrist.org/study/general-conference/2001/10/living-in-the-fulness-of-times?lang=eng\n"
          ]
        },
        {
          "output_type": "stream",
          "name": "stderr",
          "text": [
            "\rScraping talks in parallel:  42%|████▏     | 1765/4233 [04:07<05:58,  6.89it/s]"
          ]
        },
        {
          "output_type": "stream",
          "name": "stdout",
          "text": [
            "Successfully fetched https://www.churchofjesuschrist.org/study/general-conference/2001/10/fear-not-for-they-that-be-with-us-are-more?lang=eng\n",
            "Successfully fetched https://www.churchofjesuschrist.org/study/general-conference/2001/10/writing-gospel-principles-in-our-hearts?lang=eng\n",
            "Successfully fetched https://www.churchofjesuschrist.org/study/general-conference/2001/10/the-returned-missionary?lang=eng\n",
            "Successfully fetched https://www.churchofjesuschrist.org/study/general-conference/2001/10/beware-of-murmuring?lang=engSuccessfully fetched https://www.churchofjesuschrist.org/study/general-conference/2001/10/one-step-after-another?lang=eng\n",
            "\n"
          ]
        },
        {
          "output_type": "stream",
          "name": "stderr",
          "text": [
            "\rScraping talks in parallel:  42%|████▏     | 1766/4233 [04:08<07:38,  5.38it/s]"
          ]
        },
        {
          "output_type": "stream",
          "name": "stdout",
          "text": [
            "Successfully fetched https://www.churchofjesuschrist.org/study/general-conference/2001/10/building-a-bridge-of-faith?lang=eng\n",
            "Successfully fetched https://www.churchofjesuschrist.org/study/general-conference/2001/10/our-actions-determine-our-character?lang=eng\n",
            "Successfully fetched https://www.churchofjesuschrist.org/study/general-conference/2001/10/be-thou-an-example?lang=eng\n"
          ]
        },
        {
          "output_type": "stream",
          "name": "stderr",
          "text": [
            "\rScraping talks in parallel:  42%|████▏     | 1770/4233 [04:08<06:10,  6.64it/s]"
          ]
        },
        {
          "output_type": "stream",
          "name": "stdout",
          "text": [
            "Successfully fetched https://www.churchofjesuschrist.org/study/general-conference/2001/10/gratitude?lang=eng\n",
            "Successfully fetched https://www.churchofjesuschrist.org/study/general-conference/2001/10/duty-calls?lang=eng\n",
            "Successfully fetched https://www.churchofjesuschrist.org/study/general-conference/2001/10/now-is-the-time?lang=eng\n",
            "Successfully fetched https://www.churchofjesuschrist.org/study/general-conference/2001/10/it-is-not-good-for-man-or-woman-to-be-alone?lang=eng\n",
            "Successfully fetched https://www.churchofjesuschrist.org/study/general-conference/2001/10/saturday-morning-session?lang=eng\n",
            "Successfully fetched https://www.churchofjesuschrist.org/study/general-conference/2001/10/reaching-down-to-lift-another?lang=eng\n",
            "Successfully fetched https://www.churchofjesuschrist.org/study/general-conference/2001/10/help-thou-mine-unbelief?lang=eng\n",
            "Successfully fetched https://www.churchofjesuschrist.org/study/general-conference/2001/10/the-times-in-which-we-live?lang=eng\n",
            "Successfully fetched https://www.churchofjesuschrist.org/study/general-conference/2001/10/create-or-continue-priesthood-links?lang=eng\n",
            "Successfully fetched https://www.churchofjesuschrist.org/study/general-conference/2001/10/the-book-of-mormon-another-testament-of-jesus-christ?lang=eng\n",
            "Successfully fetched https://www.churchofjesuschrist.org/study/general-conference/2001/10/like-a-watered-garden?lang=eng\n",
            "Successfully fetched https://www.churchofjesuschrist.org/study/general-conference/2001/10/standing-tall?lang=eng\n"
          ]
        },
        {
          "output_type": "stream",
          "name": "stderr",
          "text": [
            "Scraping talks in parallel:  42%|████▏     | 1788/4233 [04:10<04:16,  9.53it/s]"
          ]
        },
        {
          "output_type": "stream",
          "name": "stdout",
          "text": [
            "Successfully fetched https://www.churchofjesuschrist.org/study/general-conference/2001/10/set-in-order-thy-house?lang=eng\n",
            "Successfully fetched https://www.churchofjesuschrist.org/study/general-conference/2001/10/the-power-of-a-strong-testimony?lang=eng\n",
            "Successfully fetched https://www.churchofjesuschrist.org/study/general-conference/2001/10/the-sustaining-of-church-officers?lang=eng\n",
            "Successfully fetched https://www.churchofjesuschrist.org/study/general-conference/2001/10/the-atonement-our-greatest-hope?lang=eng\n",
            "Successfully fetched https://www.churchofjesuschrist.org/study/general-conference/2001/10/the-first-and-great-commandment?lang=eng\n",
            "Successfully fetched https://www.churchofjesuschrist.org/study/general-conference/2001/10/fulfilling-our-duty-to-god?lang=eng\n",
            "Successfully fetched https://www.churchofjesuschrist.org/study/general-conference/2001/10/stand-firm?lang=eng\n",
            "Successfully fetched https://www.churchofjesuschrist.org/study/general-conference/2001/10/steadfast-and-immovable?lang=eng\n",
            "Successfully fetched https://www.churchofjesuschrist.org/study/general-conference/2001/04/building-the-kingdom?lang=eng\n"
          ]
        },
        {
          "output_type": "stream",
          "name": "stderr",
          "text": [
            "\rScraping talks in parallel:  42%|████▏     | 1790/4233 [04:11<07:07,  5.71it/s]"
          ]
        },
        {
          "output_type": "stream",
          "name": "stdout",
          "text": [
            "Successfully fetched https://www.churchofjesuschrist.org/study/general-conference/2001/10/the-seventh-commandment-a-shield?lang=eng\n",
            "Successfully fetched https://www.churchofjesuschrist.org/study/general-conference/2001/10/our-fathers-plan?lang=eng\n"
          ]
        },
        {
          "output_type": "stream",
          "name": "stderr",
          "text": [
            "\rScraping talks in parallel:  42%|████▏     | 1793/4233 [04:11<05:48,  7.01it/s]"
          ]
        },
        {
          "output_type": "stream",
          "name": "stdout",
          "text": [
            "Successfully fetched https://www.churchofjesuschrist.org/study/general-conference/2001/10/faith-of-our-prophets?lang=eng\n",
            "Successfully fetched https://www.churchofjesuschrist.org/study/general-conference/2001/10/our-duty-to-god?lang=engSuccessfully fetched https://www.churchofjesuschrist.org/study/general-conference/2001/10/till-we-meet-again?lang=eng\n",
            "\n",
            "Successfully fetched https://www.churchofjesuschrist.org/study/general-conference/2001/04/enhancing-our-temple-experience?lang=engSuccessfully fetched https://www.churchofjesuschrist.org/study/general-conference/2001/04/personal-preparation-for-temple-blessings?lang=eng\n",
            "\n",
            "Successfully fetched https://www.churchofjesuschrist.org/study/general-conference/2001/04/compassion?lang=eng\n"
          ]
        },
        {
          "output_type": "stream",
          "name": "stderr",
          "text": [
            "\rScraping talks in parallel:  42%|████▏     | 1798/4233 [04:12<06:18,  6.43it/s]"
          ]
        },
        {
          "output_type": "stream",
          "name": "stdout",
          "text": [
            "Successfully fetched https://www.churchofjesuschrist.org/study/general-conference/2001/04/to-walk-humbly-with-thy-god?lang=eng\n"
          ]
        },
        {
          "output_type": "stream",
          "name": "stderr",
          "text": [
            "\rScraping talks in parallel:  43%|████▎     | 1801/4233 [04:12<05:33,  7.28it/s]"
          ]
        },
        {
          "output_type": "stream",
          "name": "stdout",
          "text": [
            "Successfully fetched https://www.churchofjesuschrist.org/study/general-conference/2001/04/good-bye-for-another-season?lang=eng\n",
            "Successfully fetched https://www.churchofjesuschrist.org/study/general-conference/2001/04/a-god-of-miracles?lang=eng\n"
          ]
        },
        {
          "output_type": "stream",
          "name": "stderr",
          "text": [
            "Scraping talks in parallel:  43%|████▎     | 1805/4233 [04:13<04:19,  9.36it/s]"
          ]
        },
        {
          "output_type": "stream",
          "name": "stdout",
          "text": [
            "Successfully fetched https://www.churchofjesuschrist.org/study/general-conference/2001/04/an-invitation-with-promise?lang=eng\n",
            "Successfully fetched https://www.churchofjesuschrist.org/study/general-conference/2001/04/first-things-first?lang=eng\n",
            "Successfully fetched https://www.churchofjesuschrist.org/study/general-conference/2001/04/the-law-of-the-fast?lang=eng\n"
          ]
        },
        {
          "output_type": "stream",
          "name": "stderr",
          "text": [
            "\rScraping talks in parallel:  43%|████▎     | 1809/4233 [04:13<05:22,  7.51it/s]"
          ]
        },
        {
          "output_type": "stream",
          "name": "stdout",
          "text": [
            "Successfully fetched https://www.churchofjesuschrist.org/study/general-conference/2001/04/gratitude-and-service?lang=eng\n"
          ]
        },
        {
          "output_type": "stream",
          "name": "stderr",
          "text": [
            "\rScraping talks in parallel:  43%|████▎     | 1811/4233 [04:14<05:41,  7.10it/s]"
          ]
        },
        {
          "output_type": "stream",
          "name": "stdout",
          "text": [
            "Successfully fetched https://www.churchofjesuschrist.org/study/general-conference/2001/04/them-that-honour-me-i-will-honour?lang=eng\n",
            "Successfully fetched https://www.churchofjesuschrist.org/study/general-conference/2001/04/sacrifice-an-eternal-investment?lang=eng\n",
            "Successfully fetched https://www.churchofjesuschrist.org/study/general-conference/2001/04/building-a-community-of-saints?lang=eng\n",
            "Successfully fetched https://www.churchofjesuschrist.org/study/general-conference/2001/04/to-bear-testimony-of-mine-only-begotten?lang=eng\n",
            "Successfully fetched https://www.churchofjesuschrist.org/study/general-conference/2001/04/the-sustaining-of-church-officers?lang=eng\n"
          ]
        },
        {
          "output_type": "stream",
          "name": "stderr",
          "text": [
            "\rScraping talks in parallel:  43%|████▎     | 1813/4233 [04:14<07:19,  5.50it/s]"
          ]
        },
        {
          "output_type": "stream",
          "name": "stdout",
          "text": [
            "Successfully fetched https://www.churchofjesuschrist.org/study/general-conference/2001/04/the-perpetual-education-fund?lang=eng\n",
            "Successfully fetched https://www.churchofjesuschrist.org/study/general-conference/2001/04/united-in-love-and-testimony?lang=eng\n",
            "Successfully fetched https://www.churchofjesuschrist.org/study/general-conference/2001/04/church-auditing-department-report?lang=eng\n",
            "Successfully fetched https://www.churchofjesuschrist.org/study/general-conference/2001/04/your-celestial-guide?lang=eng\n",
            "Successfully fetched https://www.churchofjesuschrist.org/study/general-conference/2001/04/david-a-future-missionary?lang=eng\n"
          ]
        },
        {
          "output_type": "stream",
          "name": "stderr",
          "text": [
            "\rScraping talks in parallel:  43%|████▎     | 1814/4233 [04:15<10:37,  3.80it/s]"
          ]
        },
        {
          "output_type": "stream",
          "name": "stdout",
          "text": [
            "Successfully fetched https://www.churchofjesuschrist.org/study/general-conference/2001/04/how-can-i-become-the-woman-of-whom-i-dream?lang=eng\n",
            "Successfully fetched https://www.churchofjesuschrist.org/study/general-conference/2001/04/saturday-morning-session?lang=eng\n",
            "Successfully fetched https://www.churchofjesuschrist.org/study/general-conference/2001/04/his-word-ye-shall-receive?lang=eng\n"
          ]
        },
        {
          "output_type": "stream",
          "name": "stderr",
          "text": [
            "Scraping talks in parallel:  43%|████▎     | 1825/4233 [04:16<04:58,  8.07it/s]"
          ]
        },
        {
          "output_type": "stream",
          "name": "stdout",
          "text": [
            "Successfully fetched https://www.churchofjesuschrist.org/study/general-conference/2001/04/a-comforter-a-guide-a-testifier?lang=eng\n",
            "Successfully fetched https://www.churchofjesuschrist.org/study/general-conference/2001/04/focus-and-priorities?lang=eng\n",
            "Successfully fetched https://www.churchofjesuschrist.org/study/general-conference/2001/04/witnesses-unto-me?lang=eng\n",
            "Successfully fetched https://www.churchofjesuschrist.org/study/general-conference/2001/04/priesthood-power?lang=eng\n"
          ]
        },
        {
          "output_type": "stream",
          "name": "stderr",
          "text": [
            "\rScraping talks in parallel:  43%|████▎     | 1827/4233 [04:16<06:49,  5.87it/s]"
          ]
        },
        {
          "output_type": "stream",
          "name": "stdout",
          "text": [
            "Successfully fetched https://www.churchofjesuschrist.org/study/general-conference/2001/04/plow-in-hope?lang=eng\n",
            "Successfully fetched https://www.churchofjesuschrist.org/study/general-conference/2001/04/born-again?lang=eng\n",
            "Successfully fetched https://www.churchofjesuschrist.org/study/general-conference/2001/04/couple-missionaries-a-time-to-serve?lang=eng\n",
            "Successfully fetched https://www.churchofjesuschrist.org/study/general-conference/2001/04/statistical-report-2000?lang=eng\n",
            "Successfully fetched https://www.churchofjesuschrist.org/study/general-conference/2001/04/watch-with-me?lang=eng\n"
          ]
        },
        {
          "output_type": "stream",
          "name": "stderr",
          "text": [
            "\rScraping talks in parallel:  43%|████▎     | 1828/4233 [04:17<09:57,  4.02it/s]"
          ]
        },
        {
          "output_type": "stream",
          "name": "stdout",
          "text": [
            "Successfully fetched https://www.churchofjesuschrist.org/study/general-conference/2001/04/to-the-rescue?lang=eng\n",
            "Successfully fetched https://www.churchofjesuschrist.org/study/general-conference/2001/04/the-work-goes-on?lang=eng\n"
          ]
        },
        {
          "output_type": "stream",
          "name": "stderr",
          "text": [
            "\rScraping talks in parallel:  43%|████▎     | 1835/4233 [04:17<05:01,  7.96it/s]"
          ]
        },
        {
          "output_type": "stream",
          "name": "stdout",
          "text": [
            "Successfully fetched https://www.churchofjesuschrist.org/study/general-conference/2001/04/the-miracle-of-faith?lang=eng\n",
            "Successfully fetched https://www.churchofjesuschrist.org/study/general-conference/2000/10/a-great-family-in-reverence-and-worship?lang=eng\n",
            "Successfully fetched https://www.churchofjesuschrist.org/study/general-conference/2001/04/the-touch-of-the-masters-hand?lang=eng\n",
            "Successfully fetched https://www.churchofjesuschrist.org/study/general-conference/2000/10/an-humble-and-a-contrite-heart?lang=eng\n",
            "Successfully fetched https://www.churchofjesuschrist.org/study/general-conference/2000/10/ripples?lang=eng\n",
            "Successfully fetched https://www.churchofjesuschrist.org/study/general-conference/2000/10/satans-bag-of-snipes?lang=eng\n",
            "Successfully fetched https://www.churchofjesuschrist.org/study/general-conference/2000/10/your-greatest-challenge-mother?lang=eng\n",
            "Successfully fetched https://www.churchofjesuschrist.org/study/general-conference/2000/10/living-by-scriptural-guidance?lang=eng\n",
            "Successfully fetched https://www.churchofjesuschrist.org/study/general-conference/2001/04/you-can-t-pet-a-rattlesnake?lang=eng\n",
            "Successfully fetched https://www.churchofjesuschrist.org/study/general-conference/2001/04/developing-our-talent-for-spirituality?lang=eng\n",
            "Successfully fetched https://www.churchofjesuschrist.org/study/general-conference/2000/10/ye-are-the-temple-of-god?lang=eng\n",
            "Successfully fetched https://www.churchofjesuschrist.org/study/general-conference/2000/10/retaining-a-remission-of-sin?lang=eng\n"
          ]
        },
        {
          "output_type": "stream",
          "name": "stderr",
          "text": [
            "\rScraping talks in parallel:  43%|████▎     | 1837/4233 [04:19<09:40,  4.13it/s]"
          ]
        },
        {
          "output_type": "stream",
          "name": "stdout",
          "text": [
            "Successfully fetched https://www.churchofjesuschrist.org/study/general-conference/2000/10/come-and-see?lang=eng\n",
            "Successfully fetched https://www.churchofjesuschrist.org/study/general-conference/2000/10/the-joy-of-womanhood?lang=engSuccessfully fetched https://www.churchofjesuschrist.org/study/general-conference/2000/10/the-enemy-within?lang=eng\n",
            "\n",
            "Successfully fetched https://www.churchofjesuschrist.org/study/general-conference/2000/10/lead-kindly-light?lang=eng\n",
            "Successfully fetched https://www.churchofjesuschrist.org/study/general-conference/2000/10/write-upon-my-heart?lang=eng\n"
          ]
        },
        {
          "output_type": "stream",
          "name": "stderr",
          "text": [
            "\rScraping talks in parallel:  44%|████▎     | 1848/4233 [04:20<05:10,  7.67it/s]"
          ]
        },
        {
          "output_type": "stream",
          "name": "stdout",
          "text": [
            "Successfully fetched https://www.churchofjesuschrist.org/study/general-conference/2000/10/the-sustaining-of-church-officers?lang=eng\n",
            "Successfully fetched https://www.churchofjesuschrist.org/study/general-conference/2000/10/we-are-instruments-in-the-hands-of-god?lang=eng\n",
            "Successfully fetched https://www.churchofjesuschrist.org/study/general-conference/2000/10/the-redemption-of-the-dead-and-the-testimony-of-jesus?lang=eng\n",
            "Successfully fetched https://www.churchofjesuschrist.org/study/general-conference/2000/10/the-challenge-to-become?lang=eng\n",
            "Successfully fetched https://www.churchofjesuschrist.org/study/general-conference/2000/10/freedom-from-or-freedom-to?lang=eng\n",
            "Successfully fetched https://www.churchofjesuschrist.org/study/general-conference/2000/10/sharing-the-gospel?lang=eng\n"
          ]
        },
        {
          "output_type": "stream",
          "name": "stderr",
          "text": [
            "Scraping talks in parallel:  44%|████▍     | 1855/4233 [04:20<04:34,  8.66it/s]"
          ]
        },
        {
          "output_type": "stream",
          "name": "stdout",
          "text": [
            "Successfully fetched https://www.churchofjesuschrist.org/study/general-conference/2000/10/dedication-day?lang=eng\n",
            "Successfully fetched https://www.churchofjesuschrist.org/study/general-conference/2000/10/the-blessing-of-keeping-the-sabbath-day-holy?lang=eng\n"
          ]
        },
        {
          "output_type": "stream",
          "name": "stderr",
          "text": [
            "\rScraping talks in parallel:  44%|████▍     | 1859/4233 [04:20<03:43, 10.64it/s]"
          ]
        },
        {
          "output_type": "stream",
          "name": "stdout",
          "text": [
            "Successfully fetched https://www.churchofjesuschrist.org/study/general-conference/2000/10/one-by-one?lang=eng\n",
            "Successfully fetched https://www.churchofjesuschrist.org/study/general-conference/2000/10/the-call-to-serve?lang=eng\n",
            "Successfully fetched https://www.churchofjesuschrist.org/study/general-conference/2000/10/living-prophets-seers-and-revelators?lang=eng\n",
            "Successfully fetched https://www.churchofjesuschrist.org/study/general-conference/2000/10/pure-testimony?lang=eng\n",
            "Successfully fetched https://www.churchofjesuschrist.org/study/general-conference/2000/10/be-a-strong-link?lang=eng\n",
            "Successfully fetched https://www.churchofjesuschrist.org/study/general-conference/2000/10/cultivate-righteous-traditions?lang=engSuccessfully fetched https://www.churchofjesuschrist.org/study/general-conference/2000/10/the-covenant-of-baptism-to-be-in-the-kingdom-and-of-the-kingdom?lang=eng\n",
            "\n",
            "Successfully fetched https://www.churchofjesuschrist.org/study/general-conference/2000/10/the-tugs-and-pulls-of-the-world?lang=eng\n"
          ]
        },
        {
          "output_type": "stream",
          "name": "stderr",
          "text": [
            "Scraping talks in parallel:  44%|████▍     | 1868/4233 [04:21<03:45, 10.50it/s]"
          ]
        },
        {
          "output_type": "stream",
          "name": "stdout",
          "text": [
            "Successfully fetched https://www.churchofjesuschrist.org/study/general-conference/2000/10/the-path-to-peace-and-joy?lang=eng\n",
            "Successfully fetched https://www.churchofjesuschrist.org/study/general-conference/2000/10/seeking-the-spirit-of-god?lang=eng\n",
            "Successfully fetched https://www.churchofjesuschrist.org/study/general-conference/2000/10/stand-tall-and-stand-together?lang=eng\n",
            "Successfully fetched https://www.churchofjesuschrist.org/study/general-conference/2000/10/a-growing-testimony?lang=eng\n",
            "Successfully fetched https://www.churchofjesuschrist.org/study/general-conference/2000/10/great-shall-be-the-peace-of-thy-children?lang=eng\n"
          ]
        },
        {
          "output_type": "stream",
          "name": "stderr",
          "text": [
            "\rScraping talks in parallel:  44%|████▍     | 1870/4233 [04:22<04:29,  8.77it/s]"
          ]
        },
        {
          "output_type": "stream",
          "name": "stdout",
          "text": [
            "Successfully fetched https://www.churchofjesuschrist.org/study/general-conference/2000/10/now-is-the-time?lang=eng\n",
            "Successfully fetched https://www.churchofjesuschrist.org/study/general-conference/2000/10/saturday-morning-session?lang=eng\n"
          ]
        },
        {
          "output_type": "stream",
          "name": "stderr",
          "text": [
            "\rScraping talks in parallel:  44%|████▍     | 1873/4233 [04:22<04:05,  9.63it/s]"
          ]
        },
        {
          "output_type": "stream",
          "name": "stdout",
          "text": [
            "Successfully fetched https://www.churchofjesuschrist.org/study/general-conference/2000/10/this-great-millennial-year?lang=eng\n",
            "Successfully fetched https://www.churchofjesuschrist.org/study/general-conference/2000/10/testimony?lang=eng\n",
            "Successfully fetched https://www.churchofjesuschrist.org/study/general-conference/2000/10/sanctify-yourselves?lang=eng\n",
            "Successfully fetched https://www.churchofjesuschrist.org/study/general-conference/2000/10/discipleship?lang=eng\n"
          ]
        },
        {
          "output_type": "stream",
          "name": "stderr",
          "text": [
            "\rScraping talks in parallel:  44%|████▍     | 1876/4233 [04:22<04:26,  8.84it/s]"
          ]
        },
        {
          "output_type": "stream",
          "name": "stdout",
          "text": [
            "Successfully fetched https://www.churchofjesuschrist.org/study/general-conference/2000/04/a-time-of-new-beginnings?lang=eng\n",
            "Successfully fetched https://www.churchofjesuschrist.org/study/general-conference/2000/04/the-cloven-tongues-of-fire?lang=eng\n",
            "Successfully fetched https://www.churchofjesuschrist.org/study/general-conference/2000/04/because-my-father-sent-me?lang=eng\n"
          ]
        },
        {
          "output_type": "stream",
          "name": "stderr",
          "text": [
            "\rScraping talks in parallel:  44%|████▍     | 1879/4233 [04:23<04:02,  9.73it/s]"
          ]
        },
        {
          "output_type": "stream",
          "name": "stdout",
          "text": [
            "Successfully fetched https://www.churchofjesuschrist.org/study/general-conference/2000/04/how-is-it-with-us?lang=eng\n",
            "Successfully fetched https://www.churchofjesuschrist.org/study/general-conference/2000/04/the-widows-of-zion?lang=eng\n",
            "Successfully fetched https://www.churchofjesuschrist.org/study/general-conference/2000/04/finding-a-safe-harbor?lang=eng\n",
            "Successfully fetched https://www.churchofjesuschrist.org/study/general-conference/2000/04/keep-an-eternal-perspective?lang=eng\n",
            "Successfully fetched https://www.churchofjesuschrist.org/study/general-conference/2000/04/your-eternal-home?lang=eng\n"
          ]
        },
        {
          "output_type": "stream",
          "name": "stderr",
          "text": [
            "\rScraping talks in parallel:  44%|████▍     | 1881/4233 [04:24<07:36,  5.16it/s]"
          ]
        },
        {
          "output_type": "stream",
          "name": "stdout",
          "text": [
            "Successfully fetched https://www.churchofjesuschrist.org/study/general-conference/2000/04/watch-over-and-strengthen?lang=eng\n",
            "Successfully fetched https://www.churchofjesuschrist.org/study/general-conference/2000/04/womanhood-the-highest-place-of-honor?lang=eng\n",
            "Successfully fetched https://www.churchofjesuschrist.org/study/general-conference/2000/04/future-leaders?lang=eng\n",
            "Successfully fetched https://www.churchofjesuschrist.org/study/general-conference/2000/04/the-power-of-self-mastery?lang=eng\n",
            "Successfully fetched https://www.churchofjesuschrist.org/study/general-conference/2000/04/a-brief-introduction-to-the-church?lang=eng\n",
            "Successfully fetched https://www.churchofjesuschrist.org/study/general-conference/2000/04/saturday-morning-session?lang=eng\n",
            "Successfully fetched https://www.churchofjesuschrist.org/study/general-conference/2000/04/as-doves-to-our-windows?lang=eng\n",
            "Successfully fetched https://www.churchofjesuschrist.org/study/general-conference/2000/04/faith-devotion-and-gratitude?lang=eng\n",
            "Successfully fetched https://www.churchofjesuschrist.org/study/general-conference/2000/04/we-are-creators?lang=eng\n",
            "Successfully fetched https://www.churchofjesuschrist.org/study/general-conference/2000/04/your-own-personal-testimony?lang=eng\n"
          ]
        },
        {
          "output_type": "stream",
          "name": "stderr",
          "text": [
            "\rScraping talks in parallel:  45%|████▍     | 1884/4233 [04:25<09:03,  4.32it/s]"
          ]
        },
        {
          "output_type": "stream",
          "name": "stdout",
          "text": [
            "Successfully fetched https://www.churchofjesuschrist.org/study/general-conference/2000/04/standing-with-god?lang=eng\n",
            "Successfully fetched https://www.churchofjesuschrist.org/study/general-conference/2000/04/the-sanctity-of-womanhood?lang=eng\n",
            "Successfully fetched https://www.churchofjesuschrist.org/study/general-conference/2000/04/content-with-the-things-allotted-unto-us?lang=eng\n",
            "Successfully fetched https://www.churchofjesuschrist.org/study/general-conference/2000/04/my-testimony?lang=eng\n",
            "Successfully fetched https://www.churchofjesuschrist.org/study/general-conference/2000/04/honoring-the-priesthood?lang=eng\n",
            "Successfully fetched https://www.churchofjesuschrist.org/study/general-conference/2000/04/the-stake-president?lang=eng\n",
            "Successfully fetched https://www.churchofjesuschrist.org/study/general-conference/2000/04/resurrection?lang=eng\n",
            "Successfully fetched https://www.churchofjesuschrist.org/study/general-conference/2000/04/statistical-report-1999?lang=eng\n",
            "Successfully fetched https://www.churchofjesuschrist.org/study/general-conference/2000/04/the-shield-of-faith?lang=eng\n",
            "Successfully fetched https://www.churchofjesuschrist.org/study/general-conference/2000/04/are-you-still-here?lang=eng\n",
            "Successfully fetched https://www.churchofjesuschrist.org/study/general-conference/2000/04/heavenly-father-has-a-special-plan?lang=eng\n",
            "Successfully fetched https://www.churchofjesuschrist.org/study/general-conference/2000/04/living-happily-ever-after?lang=eng\n",
            "Successfully fetched https://www.churchofjesuschrist.org/study/general-conference/2000/04/the-creation?lang=engSuccessfully fetched https://www.churchofjesuschrist.org/study/general-conference/2000/04/the-church-audit-committee-report?lang=eng\n",
            "\n"
          ]
        },
        {
          "output_type": "stream",
          "name": "stderr",
          "text": [
            "Scraping talks in parallel:  45%|████▌     | 1906/4233 [04:26<03:39, 10.61it/s]"
          ]
        },
        {
          "output_type": "stream",
          "name": "stdout",
          "text": [
            "Successfully fetched https://www.churchofjesuschrist.org/study/general-conference/2000/04/the-sustaining-of-church-officers?lang=eng\n",
            "Successfully fetched https://www.churchofjesuschrist.org/study/general-conference/2000/04/integrity?lang=eng\n",
            "Successfully fetched https://www.churchofjesuschrist.org/study/general-conference/2000/04/stand-as-a-witness?lang=eng\n",
            "Successfully fetched https://www.churchofjesuschrist.org/study/general-conference/2000/04/thou-shalt-give-heed-unto-all-his-words?lang=eng\n",
            "Successfully fetched https://www.churchofjesuschrist.org/study/general-conference/2000/04/a-temple-for-west-africa?lang=eng\n",
            "Successfully fetched https://www.churchofjesuschrist.org/study/general-conference/2000/04/your-eternal-voyage?lang=eng\n"
          ]
        },
        {
          "output_type": "stream",
          "name": "stderr",
          "text": [
            "Scraping talks in parallel:  45%|████▌     | 1916/4233 [04:27<03:12, 12.02it/s]"
          ]
        },
        {
          "output_type": "stream",
          "name": "stdout",
          "text": [
            "Successfully fetched https://www.churchofjesuschrist.org/study/general-conference/1999/10/for-this-cause-came-i-into-the-world?lang=eng\n",
            "Successfully fetched https://www.churchofjesuschrist.org/study/general-conference/1999/10/of-seeds-and-soils?lang=engSuccessfully fetched https://www.churchofjesuschrist.org/study/general-conference/1999/10/what-it-means-to-be-a-daughter-of-god?lang=eng\n",
            "\n",
            "Successfully fetched https://www.churchofjesuschrist.org/study/general-conference/1999/10/the-sustaining-of-church-officers?lang=eng\n",
            "Successfully fetched https://www.churchofjesuschrist.org/study/general-conference/1999/10/righteousness?lang=eng\n",
            "Successfully fetched https://www.churchofjesuschrist.org/study/general-conference/2000/04/to-all-the-world-in-testimony?lang=eng\n",
            "Successfully fetched https://www.churchofjesuschrist.org/study/general-conference/1999/10/hope-an-anchor-of-the-soul?lang=eng\n",
            "Successfully fetched https://www.churchofjesuschrist.org/study/general-conference/1999/10/home-family-and-personal-enrichment?lang=eng\n",
            "Successfully fetched https://www.churchofjesuschrist.org/study/general-conference/1999/10/a-year-of-jubilee?lang=eng\n",
            "Successfully fetched https://www.churchofjesuschrist.org/study/general-conference/1999/10/we-are-women-of-god?lang=eng\n"
          ]
        },
        {
          "output_type": "stream",
          "name": "stderr",
          "text": [
            "\rScraping talks in parallel:  45%|████▌     | 1919/4233 [04:29<05:37,  6.86it/s]"
          ]
        },
        {
          "output_type": "stream",
          "name": "stdout",
          "text": [
            "Successfully fetched https://www.churchofjesuschrist.org/study/general-conference/1999/10/the-tongue-of-angels?lang=eng\n"
          ]
        },
        {
          "output_type": "stream",
          "name": "stderr",
          "text": [
            "\rScraping talks in parallel:  45%|████▌     | 1923/4233 [04:29<04:40,  8.22it/s]"
          ]
        },
        {
          "output_type": "stream",
          "name": "stdout",
          "text": [
            "Successfully fetched https://www.churchofjesuschrist.org/study/general-conference/1999/10/behold-the-man?lang=eng\n",
            "Successfully fetched https://www.churchofjesuschrist.org/study/general-conference/1999/10/why-we-do-some-of-the-things-we-do?lang=eng\n",
            "Successfully fetched https://www.churchofjesuschrist.org/study/general-conference/1999/10/good-bye-to-this-wonderful-old-tabernacle?lang=eng\n",
            "Successfully fetched https://www.churchofjesuschrist.org/study/general-conference/1999/10/becoming-our-best-selves?lang=eng\n",
            "Successfully fetched https://www.churchofjesuschrist.org/study/general-conference/1999/10/lessons-from-laman-and-lemuel?lang=eng\n",
            "Successfully fetched https://www.churchofjesuschrist.org/study/general-conference/1999/10/our-destiny?lang=eng\n",
            "Successfully fetched https://www.churchofjesuschrist.org/study/general-conference/1999/10/our-legacy?lang=eng\n",
            "Successfully fetched https://www.churchofjesuschrist.org/study/general-conference/1999/10/beware-of-false-prophets-and-false-teachers?lang=eng\n",
            "Successfully fetched https://www.churchofjesuschrist.org/study/general-conference/1999/10/no-man-is-an-island?lang=eng\n",
            "Successfully fetched https://www.churchofjesuschrist.org/study/general-conference/1999/10/the-spirit-of-revelation?lang=eng\n"
          ]
        },
        {
          "output_type": "stream",
          "name": "stderr",
          "text": [
            "Scraping talks in parallel:  46%|████▌     | 1938/4233 [04:30<03:39, 10.43it/s]"
          ]
        },
        {
          "output_type": "stream",
          "name": "stdout",
          "text": [
            "Successfully fetched https://www.churchofjesuschrist.org/study/general-conference/1999/10/spiritual-hurricanes?lang=eng\n",
            "Successfully fetched https://www.churchofjesuschrist.org/study/general-conference/1999/10/do-not-delay?lang=eng\n",
            "Successfully fetched https://www.churchofjesuschrist.org/study/general-conference/1999/10/welcome-to-conference?lang=eng\n",
            "Successfully fetched https://www.churchofjesuschrist.org/study/general-conference/1999/10/one-link-still-holds?lang=eng\n"
          ]
        },
        {
          "output_type": "stream",
          "name": "stderr",
          "text": [
            "\rScraping talks in parallel:  46%|████▌     | 1941/4233 [04:31<04:12,  9.06it/s]"
          ]
        },
        {
          "output_type": "stream",
          "name": "stdout",
          "text": [
            "Successfully fetched https://www.churchofjesuschrist.org/study/general-conference/1999/10/an-high-priest-of-good-things-to-come?lang=eng\n",
            "Successfully fetched https://www.churchofjesuschrist.org/study/general-conference/1999/10/growing-into-the-priesthood?lang=eng\n",
            "Successfully fetched https://www.churchofjesuschrist.org/study/general-conference/1999/10/agency-a-blessing-and-a-burden?lang=eng\n",
            "Successfully fetched https://www.churchofjesuschrist.org/study/general-conference/1999/10/rejoice-daughters-of-zion?lang=eng\n",
            "Successfully fetched https://www.churchofjesuschrist.org/study/general-conference/1999/10/saturday-morning-session?lang=eng\n"
          ]
        },
        {
          "output_type": "stream",
          "name": "stderr",
          "text": [
            "\rScraping talks in parallel:  46%|████▌     | 1944/4233 [04:31<04:42,  8.11it/s]"
          ]
        },
        {
          "output_type": "stream",
          "name": "stdout",
          "text": [
            "Successfully fetched https://www.churchofjesuschrist.org/study/general-conference/1999/10/gospel-teaching?lang=eng\n",
            "Successfully fetched https://www.churchofjesuschrist.org/study/general-conference/1999/10/prophets-and-spiritual-mole-crickets?lang=eng\n",
            "Successfully fetched https://www.churchofjesuschrist.org/study/general-conference/1999/10/peace-hope-and-direction?lang=eng\n",
            "Successfully fetched https://www.churchofjesuschrist.org/study/general-conference/1999/10/serving-the-lord?lang=eng\n",
            "Successfully fetched https://www.churchofjesuschrist.org/study/general-conference/1999/10/feed-my-sheep?lang=eng\n",
            "Successfully fetched https://www.churchofjesuschrist.org/study/general-conference/1999/10/the-faith-of-a-sparrow-faith-and-trust-in-the-lord-jesus-christ?lang=eng\n",
            "Successfully fetched https://www.churchofjesuschrist.org/study/general-conference/1999/10/at-the-summit-of-the-ages?lang=eng\n",
            "Successfully fetched https://www.churchofjesuschrist.org/study/general-conference/1999/04/welcome-home?lang=eng\n",
            "Successfully fetched https://www.churchofjesuschrist.org/study/general-conference/1999/04/your-light-in-the-wilderness?lang=eng\n",
            "Successfully fetched https://www.churchofjesuschrist.org/study/general-conference/1999/10/a-testimony-of-the-book-of-mormon?lang=engSuccessfully fetched https://www.churchofjesuschrist.org/study/general-conference/1999/10/priesthood-power?lang=eng\n",
            "\n",
            "Successfully fetched https://www.churchofjesuschrist.org/study/general-conference/1999/04/for-i-was-blind-but-now-i-see?lang=eng\n",
            "Successfully fetched https://www.churchofjesuschrist.org/study/general-conference/1999/04/strengthening-families-our-sacred-duty?lang=eng\n"
          ]
        },
        {
          "output_type": "stream",
          "name": "stderr",
          "text": [
            "\rScraping talks in parallel:  46%|████▌     | 1946/4233 [04:33<08:37,  4.42it/s]"
          ]
        },
        {
          "output_type": "stream",
          "name": "stdout",
          "text": [
            "Successfully fetched https://www.churchofjesuschrist.org/study/general-conference/1999/04/preparing-our-families-for-the-temple?lang=eng\n",
            "Successfully fetched https://www.churchofjesuschrist.org/study/general-conference/1999/04/your-name-is-safe-in-our-home?lang=eng\n",
            "Successfully fetched https://www.churchofjesuschrist.org/study/general-conference/1999/04/inspired-church-welfare?lang=eng\n",
            "Successfully fetched https://www.churchofjesuschrist.org/study/general-conference/1999/10/he-lives?lang=eng\n",
            "Successfully fetched https://www.churchofjesuschrist.org/study/general-conference/1999/04/the-priesthood-mighty-army-of-the-lord?lang=eng\n",
            "Successfully fetched https://www.churchofjesuschrist.org/study/general-conference/1999/04/the-shepherds-of-the-flock?lang=eng\n",
            "Successfully fetched https://www.churchofjesuschrist.org/study/general-conference/1999/04/our-only-chance?lang=eng"
          ]
        },
        {
          "output_type": "stream",
          "name": "stderr",
          "text": [
            "Scraping talks in parallel:  46%|████▋     | 1964/4233 [04:34<03:21, 11.28it/s]"
          ]
        },
        {
          "output_type": "stream",
          "name": "stdout",
          "text": [
            "\n",
            "Successfully fetched https://www.churchofjesuschrist.org/study/general-conference/1999/04/the-sustaining-of-church-officers?lang=eng\n",
            "Successfully fetched https://www.churchofjesuschrist.org/study/general-conference/1999/04/greed-selfishness-and-overindulgence?lang=eng\n"
          ]
        },
        {
          "output_type": "stream",
          "name": "stderr",
          "text": [
            "\rScraping talks in parallel:  46%|████▋     | 1968/4233 [04:34<02:59, 12.65it/s]"
          ]
        },
        {
          "output_type": "stream",
          "name": "stdout",
          "text": [
            "Successfully fetched https://www.churchofjesuschrist.org/study/general-conference/1999/04/out-of-small-things?lang=eng\n",
            "Successfully fetched https://www.churchofjesuschrist.org/study/general-conference/1999/04/friendship-a-gospel-principle?lang=eng\n",
            "Successfully fetched https://www.churchofjesuschrist.org/study/general-conference/1999/04/the-work-moves-forward?lang=eng\n",
            "Successfully fetched https://www.churchofjesuschrist.org/study/general-conference/1999/04/find-the-lambs-feed-the-sheep?lang=eng\n",
            "Successfully fetched https://www.churchofjesuschrist.org/study/general-conference/1999/04/the-church-audit-committee-report?lang=eng\n",
            "Successfully fetched https://www.churchofjesuschrist.org/study/general-conference/1999/04/thanks-to-the-lord-for-his-blessings?lang=eng\n",
            "Successfully fetched https://www.churchofjesuschrist.org/study/general-conference/1999/04/receive-the-temple-blessings?lang=eng\n",
            "Successfully fetched https://www.churchofjesuschrist.org/study/general-conference/1999/04/saturday-morning-session?lang=eng\n",
            "Successfully fetched https://www.churchofjesuschrist.org/study/general-conference/1999/04/our-sacred-duty-to-honor-women?lang=eng\n",
            "Successfully fetched https://www.churchofjesuschrist.org/study/general-conference/1999/04/made-like-unto-the-son-of-god?lang=eng\n",
            "Successfully fetched https://www.churchofjesuschrist.org/study/general-conference/1999/04/repent-of-our-selfishness-d-c-56-8?lang=eng\n"
          ]
        },
        {
          "output_type": "stream",
          "name": "stderr",
          "text": [
            "Scraping talks in parallel:  47%|████▋     | 1975/4233 [04:35<04:13,  8.91it/s]"
          ]
        },
        {
          "output_type": "stream",
          "name": "stdout",
          "text": [
            "Successfully fetched https://www.churchofjesuschrist.org/study/general-conference/1999/04/the-hands-of-the-fathers?lang=eng\n",
            "Successfully fetched https://www.churchofjesuschrist.org/study/general-conference/1999/04/true-followers?lang=eng\n",
            "Successfully fetched https://www.churchofjesuschrist.org/study/general-conference/1999/04/the-power-of-teaching-doctrine?lang=eng\n"
          ]
        },
        {
          "output_type": "stream",
          "name": "stderr",
          "text": [
            "\rScraping talks in parallel:  47%|████▋     | 1981/4233 [04:35<03:28, 10.80it/s]"
          ]
        },
        {
          "output_type": "stream",
          "name": "stdout",
          "text": [
            "Successfully fetched https://www.churchofjesuschrist.org/study/general-conference/1999/04/this-is-our-day?lang=eng\n",
            "Successfully fetched https://www.churchofjesuschrist.org/study/general-conference/1999/04/your-celestial-journey?lang=eng\n",
            "Successfully fetched https://www.churchofjesuschrist.org/study/general-conference/1999/04/fellowshipping?lang=eng\n",
            "Successfully fetched https://www.churchofjesuschrist.org/study/general-conference/1999/04/obedience-the-path-to-freedom?lang=eng\n",
            "Successfully fetched https://www.churchofjesuschrist.org/study/general-conference/1999/04/love-and-service?lang=eng\n",
            "Successfully fetched https://www.churchofjesuschrist.org/study/general-conference/1999/04/bridges-and-eternal-keepsakes?lang=eng\n",
            "Successfully fetched https://www.churchofjesuschrist.org/study/general-conference/1999/04/follow-the-light?lang=eng\n",
            "Successfully fetched https://www.churchofjesuschrist.org/study/general-conference/1999/04/spiritual-power-of-our-baptism?lang=eng\n",
            "Successfully fetched https://www.churchofjesuschrist.org/study/general-conference/1999/04/like-a-flame-unquenchable?lang=eng\n",
            "Successfully fetched https://www.churchofjesuschrist.org/study/general-conference/1999/04/the-bishop-and-his-counselors?lang=eng\n",
            "Successfully fetched https://www.churchofjesuschrist.org/study/general-conference/1999/04/teach-them-the-word-of-god-with-all-diligence?lang=eng\n",
            "Successfully fetched https://www.churchofjesuschrist.org/study/general-conference/1999/04/he-is-not-here-but-is-risen?lang=eng\n"
          ]
        },
        {
          "output_type": "stream",
          "name": "stderr",
          "text": [
            "\rScraping talks in parallel:  47%|████▋     | 1984/4233 [04:36<05:00,  7.48it/s]"
          ]
        },
        {
          "output_type": "stream",
          "name": "stdout",
          "text": [
            "Successfully fetched https://www.churchofjesuschrist.org/study/general-conference/1999/04/the-witness-martin-harris?lang=eng\n",
            "Successfully fetched https://www.churchofjesuschrist.org/study/general-conference/1999/04/priesthood-and-the-home?lang=eng\n",
            "Successfully fetched https://www.churchofjesuschrist.org/study/general-conference/1999/04/statistical-report-1998?lang=eng\n"
          ]
        },
        {
          "output_type": "stream",
          "name": "stderr",
          "text": [
            "Scraping talks in parallel:  47%|████▋     | 1995/4233 [04:37<03:05, 12.08it/s]"
          ]
        },
        {
          "output_type": "stream",
          "name": "stdout",
          "text": [
            "Successfully fetched https://www.churchofjesuschrist.org/study/general-conference/1998/10/we-are-not-alone?lang=engSuccessfully fetched https://www.churchofjesuschrist.org/study/general-conference/1998/10/youth-of-the-noble-birthright?lang=eng\n",
            "\n",
            "Successfully fetched https://www.churchofjesuschrist.org/study/general-conference/1998/10/today-determines-tomorrow?lang=eng\n",
            "Successfully fetched https://www.churchofjesuschrist.org/study/general-conference/1998/10/a-voice-of-warning?lang=eng\n",
            "Successfully fetched https://www.churchofjesuschrist.org/study/general-conference/1998/10/are-we-keeping-pace?lang=eng\n",
            "Successfully fetched https://www.churchofjesuschrist.org/study/general-conference/1998/10/what-are-people-asking-about-us?lang=eng\n",
            "Successfully fetched https://www.churchofjesuschrist.org/study/general-conference/1998/10/the-priesthood-quorum?lang=eng\n",
            "Successfully fetched https://www.churchofjesuschrist.org/study/general-conference/1998/10/come-listen-to-a-prophets-voice?lang=eng\n",
            "Successfully fetched https://www.churchofjesuschrist.org/study/general-conference/1998/10/bear-record-of-him?lang=eng\n"
          ]
        },
        {
          "output_type": "stream",
          "name": "stderr",
          "text": [
            "\rScraping talks in parallel:  47%|████▋     | 1999/4233 [04:38<04:14,  8.77it/s]"
          ]
        },
        {
          "output_type": "stream",
          "name": "stdout",
          "text": [
            "Successfully fetched https://www.churchofjesuschrist.org/study/general-conference/1998/10/welcome-to-conference?lang=eng\n",
            "Successfully fetched https://www.churchofjesuschrist.org/study/general-conference/1998/10/the-sustaining-of-church-officers?lang=eng\n",
            "Successfully fetched https://www.churchofjesuschrist.org/study/general-conference/1998/10/parents-in-zion?lang=eng\n",
            "Successfully fetched https://www.churchofjesuschrist.org/study/general-conference/1998/10/as-for-me-and-my-house-we-will-serve-the-lord?lang=eng\n",
            "Successfully fetched https://www.churchofjesuschrist.org/study/general-conference/1998/10/pearls-from-the-sand?lang=eng\n",
            "Successfully fetched https://www.churchofjesuschrist.org/study/general-conference/1998/10/opening-the-windows-of-heaven?lang=eng\n",
            "Successfully fetched https://www.churchofjesuschrist.org/study/general-conference/1998/10/healing-soul-and-body?lang=eng\n",
            "Successfully fetched https://www.churchofjesuschrist.org/study/general-conference/1998/10/personal-purity?lang=eng\n",
            "Successfully fetched https://www.churchofjesuschrist.org/study/general-conference/1998/10/by-what-power-have-ye-done-this?lang=eng\n",
            "Successfully fetched https://www.churchofjesuschrist.org/study/general-conference/1998/10/saturday-morning-session?lang=eng\n",
            "Successfully fetched https://www.churchofjesuschrist.org/study/general-conference/1998/10/think-to-thank?lang=eng\n",
            "Successfully fetched https://www.churchofjesuschrist.org/study/general-conference/1998/10/come-to-relief-society?lang=eng\n",
            "Successfully fetched https://www.churchofjesuschrist.org/study/general-conference/1998/10/a-season-of-opportunity?lang=eng\n"
          ]
        },
        {
          "output_type": "stream",
          "name": "stderr",
          "text": [
            "\rScraping talks in parallel:  47%|████▋     | 2004/4233 [04:39<06:30,  5.70it/s]"
          ]
        },
        {
          "output_type": "stream",
          "name": "stdout",
          "text": [
            "Successfully fetched https://www.churchofjesuschrist.org/study/general-conference/1998/10/small-temples-large-blessings?lang=eng\n",
            "Successfully fetched https://www.churchofjesuschrist.org/study/general-conference/1998/10/cultivating-divine-attributes?lang=eng\n"
          ]
        },
        {
          "output_type": "stream",
          "name": "stderr",
          "text": [
            "\rScraping talks in parallel:  48%|████▊     | 2011/4233 [04:40<04:34,  8.09it/s]"
          ]
        },
        {
          "output_type": "stream",
          "name": "stdout",
          "text": [
            "Successfully fetched https://www.churchofjesuschrist.org/study/general-conference/1998/10/establishing-the-church?lang=eng\n",
            "Successfully fetched https://www.churchofjesuschrist.org/study/general-conference/1998/10/the-living-prophet-our-source-of-pure-doctrine?lang=eng\n",
            "Successfully fetched https://www.churchofjesuschrist.org/study/general-conference/1998/10/hope-through-the-atonement-of-jesus-christ?lang=eng\n",
            "Successfully fetched https://www.churchofjesuschrist.org/study/general-conference/1998/10/obeying-the-law-serving-ones-neighbor?lang=eng\n"
          ]
        },
        {
          "output_type": "stream",
          "name": "stderr",
          "text": [
            "\rScraping talks in parallel:  48%|████▊     | 2018/4233 [04:40<04:16,  8.65it/s]"
          ]
        },
        {
          "output_type": "stream",
          "name": "stdout",
          "text": [
            "Successfully fetched https://www.churchofjesuschrist.org/study/general-conference/1998/10/the-aaronic-priesthood-and-the-sacrament?lang=eng\n",
            "Successfully fetched https://www.churchofjesuschrist.org/study/general-conference/1998/10/to-the-boys-and-to-the-men?lang=eng\n",
            "Successfully fetched https://www.churchofjesuschrist.org/study/general-conference/1998/10/gratitude?lang=eng\n"
          ]
        },
        {
          "output_type": "stream",
          "name": "stderr",
          "text": [
            "Scraping talks in parallel:  48%|████▊     | 2023/4233 [04:41<03:57,  9.29it/s]"
          ]
        },
        {
          "output_type": "stream",
          "name": "stdout",
          "text": [
            "Successfully fetched https://www.churchofjesuschrist.org/study/general-conference/1998/10/walking-in-the-light-of-the-lord?lang=eng\n"
          ]
        },
        {
          "output_type": "stream",
          "name": "stderr",
          "text": [
            "Scraping talks in parallel:  48%|████▊     | 2028/4233 [04:41<03:48,  9.63it/s]"
          ]
        },
        {
          "output_type": "stream",
          "name": "stdout",
          "text": [
            "Successfully fetched https://www.churchofjesuschrist.org/study/general-conference/1998/10/the-power-of-righteousness?lang=eng\n",
            "Successfully fetched https://www.churchofjesuschrist.org/study/general-conference/1998/10/we-are-children-of-god?lang=eng\n",
            "Successfully fetched https://www.churchofjesuschrist.org/study/general-conference/1998/10/benediction?lang=eng\n"
          ]
        },
        {
          "output_type": "stream",
          "name": "stderr",
          "text": [
            "\rScraping talks in parallel:  48%|████▊     | 2030/4233 [04:42<04:38,  7.90it/s]"
          ]
        },
        {
          "output_type": "stream",
          "name": "stdout",
          "text": [
            "Successfully fetched https://www.churchofjesuschrist.org/study/general-conference/1998/10/sustaining-the-prophets?lang=eng\n",
            "Successfully fetched https://www.churchofjesuschrist.org/study/general-conference/1998/10/come-let-us-walk-in-the-light-of-the-lord?lang=eng\n",
            "Successfully fetched https://www.churchofjesuschrist.org/study/general-conference/1998/10/ye-also-shall-bear-witness?lang=eng\n"
          ]
        },
        {
          "output_type": "stream",
          "name": "stderr",
          "text": [
            "\rScraping talks in parallel:  48%|████▊     | 2032/4233 [04:42<04:02,  9.07it/s]"
          ]
        },
        {
          "output_type": "stream",
          "name": "stdout",
          "text": [
            "Successfully fetched https://www.churchofjesuschrist.org/study/general-conference/1998/04/a-new-harvest-time?lang=eng\n",
            "Successfully fetched https://www.churchofjesuschrist.org/study/general-conference/1998/04/saturday-morning-session?lang=eng\n",
            "Successfully fetched https://www.churchofjesuschrist.org/study/general-conference/1998/10/overcoming-discouragement?lang=eng\n"
          ]
        },
        {
          "output_type": "stream",
          "name": "stderr",
          "text": [
            "\rScraping talks in parallel:  48%|████▊     | 2034/4233 [04:43<06:37,  5.53it/s]"
          ]
        },
        {
          "output_type": "stream",
          "name": "stdout",
          "text": [
            "Successfully fetched https://www.churchofjesuschrist.org/study/general-conference/1998/04/search-me-o-god-and-know-my-heart?lang=engSuccessfully fetched https://www.churchofjesuschrist.org/study/general-conference/1998/04/living-worthy-of-the-girl-you-will-someday-marry?lang=eng\n",
            "Successfully fetched https://www.churchofjesuschrist.org/study/general-conference/1998/04/marvelous-are-the-revelations-of-the-lord?lang=eng\n",
            "Successfully fetched https://www.churchofjesuschrist.org/study/general-conference/1998/04/the-relief-society?lang=eng\n",
            "\n"
          ]
        },
        {
          "output_type": "stream",
          "name": "stderr",
          "text": [
            "Scraping talks in parallel:  48%|████▊     | 2038/4233 [04:43<06:17,  5.82it/s]"
          ]
        },
        {
          "output_type": "stream",
          "name": "stdout",
          "text": [
            "Successfully fetched https://www.churchofjesuschrist.org/study/general-conference/1998/04/have-you-been-saved?lang=eng\n",
            "Successfully fetched https://www.churchofjesuschrist.org/study/general-conference/1998/04/turning-hearts-to-the-family?lang=eng\n",
            "Successfully fetched https://www.churchofjesuschrist.org/study/general-conference/1998/04/we-bear-witness-of-him?lang=eng\n"
          ]
        },
        {
          "output_type": "stream",
          "name": "stderr",
          "text": [
            "\rScraping talks in parallel:  48%|████▊     | 2044/4233 [04:44<03:35, 10.17it/s]"
          ]
        },
        {
          "output_type": "stream",
          "name": "stdout",
          "text": [
            "Successfully fetched https://www.churchofjesuschrist.org/study/general-conference/1998/04/the-articles-of-faith?lang=eng\n",
            "Successfully fetched https://www.churchofjesuschrist.org/study/general-conference/1998/04/live-the-commandments?lang=eng\n",
            "Successfully fetched https://www.churchofjesuschrist.org/study/general-conference/1998/04/the-church-audit-committee-report?lang=eng\n",
            "Successfully fetched https://www.churchofjesuschrist.org/study/general-conference/1998/04/christ-can-change-human-behavior?lang=eng\n"
          ]
        },
        {
          "output_type": "stream",
          "name": "stderr",
          "text": [
            "\rScraping talks in parallel:  48%|████▊     | 2047/4233 [04:44<03:26, 10.56it/s]"
          ]
        },
        {
          "output_type": "stream",
          "name": "stdout",
          "text": [
            "Successfully fetched https://www.churchofjesuschrist.org/study/general-conference/1998/04/that-we-may-be-one?lang=eng\n",
            "Successfully fetched https://www.churchofjesuschrist.org/study/general-conference/1998/04/put-your-shoulder-to-the-wheel?lang=eng\n",
            "Successfully fetched https://www.churchofjesuschrist.org/study/general-conference/1998/04/obedience-lifes-great-challenge?lang=eng\n"
          ]
        },
        {
          "output_type": "stream",
          "name": "stderr",
          "text": [
            "\rScraping talks in parallel:  48%|████▊     | 2049/4233 [04:44<03:48,  9.54it/s]"
          ]
        },
        {
          "output_type": "stream",
          "name": "stdout",
          "text": [
            "Successfully fetched https://www.churchofjesuschrist.org/study/general-conference/1998/04/we-seek-after-these-things?lang=eng\n",
            "Successfully fetched https://www.churchofjesuschrist.org/study/general-conference/1998/04/a-teacher-come-from-god?lang=eng\n",
            "Successfully fetched https://www.churchofjesuschrist.org/study/general-conference/1998/04/a-disciple-a-friend?lang=eng\n"
          ]
        },
        {
          "output_type": "stream",
          "name": "stderr",
          "text": [
            "\rScraping talks in parallel:  48%|████▊     | 2051/4233 [04:44<03:51,  9.43it/s]"
          ]
        },
        {
          "output_type": "stream",
          "name": "stdout",
          "text": [
            "Successfully fetched https://www.churchofjesuschrist.org/study/general-conference/1998/04/missionary-service?lang=eng\n",
            "Successfully fetched https://www.churchofjesuschrist.org/study/general-conference/1998/04/testimony?lang=eng\n"
          ]
        },
        {
          "output_type": "stream",
          "name": "stderr",
          "text": [
            "\rScraping talks in parallel:  48%|████▊     | 2053/4233 [04:45<04:42,  7.72it/s]"
          ]
        },
        {
          "output_type": "stream",
          "name": "stdout",
          "text": [
            "Successfully fetched https://www.churchofjesuschrist.org/study/general-conference/1998/04/look-to-god-and-live?lang=eng\n",
            "Successfully fetched https://www.churchofjesuschrist.org/study/general-conference/1998/04/understanding-our-true-identity?lang=eng\n",
            "Successfully fetched https://www.churchofjesuschrist.org/study/general-conference/1998/04/agency-and-anger?lang=eng\n",
            "Successfully fetched https://www.churchofjesuschrist.org/study/general-conference/1998/04/the-heart-and-a-willing-mind?lang=eng\n"
          ]
        },
        {
          "output_type": "stream",
          "name": "stderr",
          "text": [
            "\rScraping talks in parallel:  49%|████▊     | 2059/4233 [04:45<04:12,  8.61it/s]"
          ]
        },
        {
          "output_type": "stream",
          "name": "stdout",
          "text": [
            "Successfully fetched https://www.churchofjesuschrist.org/study/general-conference/1998/04/removing-barriers-to-happiness?lang=eng\n",
            "Successfully fetched https://www.churchofjesuschrist.org/study/general-conference/1998/04/young-women-titles-of-liberty?lang=eng\n",
            "Successfully fetched https://www.churchofjesuschrist.org/study/general-conference/1998/04/statistical-report-1997?lang=eng\n"
          ]
        },
        {
          "output_type": "stream",
          "name": "stderr",
          "text": [
            "\rScraping talks in parallel:  49%|████▊     | 2062/4233 [04:46<03:54,  9.26it/s]"
          ]
        },
        {
          "output_type": "stream",
          "name": "stdout",
          "text": [
            "Successfully fetched https://www.churchofjesuschrist.org/study/general-conference/1998/04/the-sustaining-of-church-officers?lang=eng\n",
            "Successfully fetched https://www.churchofjesuschrist.org/study/general-conference/1998/04/bridging-the-gap-between-uncertainty-and-certainty?lang=eng\n",
            "Successfully fetched https://www.churchofjesuschrist.org/study/general-conference/1998/04/the-kingdoms-perfecting-pathway?lang=eng\n",
            "Successfully fetched https://www.churchofjesuschrist.org/study/general-conference/1998/04/the-time-to-prepare?lang=eng\n",
            "Successfully fetched https://www.churchofjesuschrist.org/study/general-conference/1998/04/come-unto-christ?lang=eng\n",
            "Successfully fetched https://www.churchofjesuschrist.org/study/general-conference/1998/04/behold-we-count-them-happy-which-endure?lang=eng\n",
            "Successfully fetched https://www.churchofjesuschrist.org/study/general-conference/1998/04/tithing-a-privilege?lang=eng\n",
            "Successfully fetched https://www.churchofjesuschrist.org/study/general-conference/1998/04/how-near-to-the-angels?lang=eng\n",
            "Successfully fetched https://www.churchofjesuschrist.org/study/general-conference/1998/04/new-temples-to-provide-crowning-blessings-of-the-gospel?lang=eng\n",
            "Successfully fetched https://www.churchofjesuschrist.org/study/general-conference/1998/04/in-harms-way?lang=eng\n",
            "Successfully fetched https://www.churchofjesuschrist.org/study/general-conference/1997/10/four-absolute-truths-provide-an-unfailing-moral-compass?lang=eng\n",
            "Successfully fetched https://www.churchofjesuschrist.org/study/general-conference/1997/10/why-every-member-a-missionary?lang=eng\n",
            "Successfully fetched https://www.churchofjesuschrist.org/study/general-conference/1998/04/teaching-our-children-to-love-the-scriptures?lang=engSuccessfully fetched https://www.churchofjesuschrist.org/study/general-conference/1998/04/children-and-the-family?lang=eng\n",
            "\n",
            "Successfully fetched https://www.churchofjesuschrist.org/study/general-conference/1997/10/the-home-a-refuge-and-sanctuary?lang=eng\n",
            "Successfully fetched https://www.churchofjesuschrist.org/study/general-conference/1997/10/teach-the-children?lang=eng\n"
          ]
        },
        {
          "output_type": "stream",
          "name": "stderr",
          "text": [
            "Scraping talks in parallel:  49%|████▉     | 2080/4233 [04:48<03:36,  9.96it/s]"
          ]
        },
        {
          "output_type": "stream",
          "name": "stdout",
          "text": [
            "Successfully fetched https://www.churchofjesuschrist.org/study/general-conference/1997/10/teachers-the-timeless-key?lang=eng\n",
            "Successfully fetched https://www.churchofjesuschrist.org/study/general-conference/1997/10/pioneers-of-the-future-be-not-afraid-only-believe?lang=eng\n",
            "Successfully fetched https://www.churchofjesuschrist.org/study/general-conference/1997/10/some-thoughts-on-temples-retention-of-converts-and-missionary-service?lang=eng\n",
            "Successfully fetched https://www.churchofjesuschrist.org/study/general-conference/1997/10/pioneer-shoes-through-the-ages?lang=eng\n",
            "Successfully fetched https://www.churchofjesuschrist.org/study/general-conference/1997/10/care-for-new-converts?lang=eng\n",
            "Successfully fetched https://www.churchofjesuschrist.org/study/general-conference/1997/10/the-weightier-matters-of-the-law-judgment-mercy-and-faith?lang=eng\n",
            "Successfully fetched https://www.churchofjesuschrist.org/study/general-conference/1997/10/the-plan-of-salvation-a-flight-plan-for-life?lang=eng\n"
          ]
        },
        {
          "output_type": "stream",
          "name": "stderr",
          "text": [
            "\rScraping talks in parallel:  49%|████▉     | 2085/4233 [04:48<03:27, 10.34it/s]"
          ]
        },
        {
          "output_type": "stream",
          "name": "stdout",
          "text": [
            "Successfully fetched https://www.churchofjesuschrist.org/study/general-conference/1997/10/the-mighty-strength-of-the-relief-society?lang=eng\n",
            "Successfully fetched https://www.churchofjesuschrist.org/study/general-conference/1997/10/hymn-of-the-obedient-all-is-well?lang=eng\n",
            "Successfully fetched https://www.churchofjesuschrist.org/study/general-conference/1997/10/apply-the-atoning-blood-of-christ?lang=eng\n",
            "Successfully fetched https://www.churchofjesuschrist.org/study/general-conference/1997/10/feed-my-lambs?lang=eng\n",
            "Successfully fetched https://www.churchofjesuschrist.org/study/general-conference/1997/10/universal-application-of-the-gospel?lang=eng\n",
            "Successfully fetched https://www.churchofjesuschrist.org/study/general-conference/1997/10/receive-truth?lang=eng\n",
            "Successfully fetched https://www.churchofjesuschrist.org/study/general-conference/1997/10/creating-places-of-security?lang=eng\n",
            "Successfully fetched https://www.churchofjesuschrist.org/study/general-conference/1997/10/are-you-the-woman-i-think-you-are?lang=eng\n",
            "Successfully fetched https://www.churchofjesuschrist.org/study/general-conference/1997/10/standing-for-truth-and-right?lang=eng\n",
            "Successfully fetched https://www.churchofjesuschrist.org/study/general-conference/1997/10/daughter-be-of-good-comfort?lang=eng\n",
            "Successfully fetched https://www.churchofjesuschrist.org/study/general-conference/1997/10/the-sustaining-of-church-officers?lang=eng\n",
            "Successfully fetched https://www.churchofjesuschrist.org/study/general-conference/1997/10/following-the-pioneers?lang=eng\n",
            "Successfully fetched https://www.churchofjesuschrist.org/study/general-conference/1997/10/in-remembrance-of-jesus?lang=eng\n"
          ]
        },
        {
          "output_type": "stream",
          "name": "stderr",
          "text": [
            "\rScraping talks in parallel:  49%|████▉     | 2088/4233 [04:49<05:08,  6.94it/s]"
          ]
        },
        {
          "output_type": "stream",
          "name": "stdout",
          "text": [
            "Successfully fetched https://www.churchofjesuschrist.org/study/general-conference/1997/10/making-faith-a-reality?lang=eng\n",
            "Successfully fetched https://www.churchofjesuschrist.org/study/general-conference/1997/10/for-such-a-time-as-this?lang=eng\n"
          ]
        },
        {
          "output_type": "stream",
          "name": "stderr",
          "text": [
            "\rScraping talks in parallel:  50%|████▉     | 2101/4233 [04:49<02:41, 13.21it/s]"
          ]
        },
        {
          "output_type": "stream",
          "name": "stdout",
          "text": [
            "Successfully fetched https://www.churchofjesuschrist.org/study/general-conference/1997/10/a-celestial-connection-to-your-teenage-years?lang=eng\n",
            "Successfully fetched https://www.churchofjesuschrist.org/study/general-conference/1997/10/spiritual-capacity?lang=eng\n",
            "Successfully fetched https://www.churchofjesuschrist.org/study/general-conference/1997/10/drawing-nearer-to-the-lord?lang=eng\n",
            "Successfully fetched https://www.churchofjesuschrist.org/study/general-conference/1997/10/home-teaching-a-divine-service?lang=eng\n",
            "Successfully fetched https://www.churchofjesuschrist.org/study/general-conference/1997/10/he-hath-filled-the-hungry-with-good-things?lang=eng\n",
            "Successfully fetched https://www.churchofjesuschrist.org/study/general-conference/1997/10/saturday-morning-session?lang=eng\n"
          ]
        },
        {
          "output_type": "stream",
          "name": "stderr",
          "text": [
            "\rScraping talks in parallel:  50%|████▉     | 2105/4233 [04:50<03:26, 10.30it/s]"
          ]
        },
        {
          "output_type": "stream",
          "name": "stdout",
          "text": [
            "Successfully fetched https://www.churchofjesuschrist.org/study/general-conference/1997/10/latter-day-saints-in-very-deed?lang=eng\n",
            "Successfully fetched https://www.churchofjesuschrist.org/study/general-conference/1997/10/the-lord-blesses-his-children-through-patriarchal-blessings?lang=eng\n",
            "Successfully fetched https://www.churchofjesuschrist.org/study/general-conference/1997/10/behold-the-man?lang=eng\n",
            "Successfully fetched https://www.churchofjesuschrist.org/study/general-conference/1997/04/from-whom-all-blessings-flow?lang=eng\n",
            "Successfully fetched https://www.churchofjesuschrist.org/study/general-conference/1997/04/the-church-audit-committee-report?lang=eng\n",
            "Successfully fetched https://www.churchofjesuschrist.org/study/general-conference/1997/10/look-to-the-future?lang=eng\n",
            "Successfully fetched https://www.churchofjesuschrist.org/study/general-conference/1997/10/called-to-serve?lang=eng\n",
            "Successfully fetched https://www.churchofjesuschrist.org/study/general-conference/1997/04/bishop-help?lang=eng\n",
            "Successfully fetched https://www.churchofjesuschrist.org/study/general-conference/1997/04/you-have-nothing-to-fear-from-the-journey?lang=engSuccessfully fetched https://www.churchofjesuschrist.org/study/general-conference/1997/04/jesus-christ-our-redeemer?lang=eng\n",
            "\n",
            "Successfully fetched https://www.churchofjesuschrist.org/study/general-conference/1997/04/true-to-the-truth?lang=eng\n",
            "Successfully fetched https://www.churchofjesuschrist.org/study/general-conference/1997/04/a-small-stone?lang=eng\n",
            "Successfully fetched https://www.churchofjesuschrist.org/study/general-conference/1997/04/finding-faith-in-every-footstep?lang=eng\n",
            "Successfully fetched https://www.churchofjesuschrist.org/study/general-conference/1997/04/pioneers-all?lang=eng\n",
            "Successfully fetched https://www.churchofjesuschrist.org/study/general-conference/1997/04/they-will-come?lang=eng\n",
            "Successfully fetched https://www.churchofjesuschrist.org/study/general-conference/1997/10/valued-companions?lang=eng\n"
          ]
        },
        {
          "output_type": "stream",
          "name": "stderr",
          "text": [
            "\rScraping talks in parallel:  50%|████▉     | 2110/4233 [04:52<06:07,  5.77it/s]"
          ]
        },
        {
          "output_type": "stream",
          "name": "stdout",
          "text": [
            "Successfully fetched https://www.churchofjesuschrist.org/study/general-conference/1997/04/friends-standing-together?lang=eng\n",
            "Successfully fetched https://www.churchofjesuschrist.org/study/general-conference/1997/04/gratitude?lang=eng\n",
            "Successfully fetched https://www.churchofjesuschrist.org/study/general-conference/1997/04/because-she-is-a-mother?lang=eng\n",
            "Successfully fetched https://www.churchofjesuschrist.org/study/general-conference/1997/04/power-of-the-priesthood?lang=eng\n"
          ]
        },
        {
          "output_type": "stream",
          "name": "stderr",
          "text": [
            "\rScraping talks in parallel:  50%|████▉     | 2112/4233 [04:52<05:35,  6.32it/s]"
          ]
        },
        {
          "output_type": "stream",
          "name": "stdout",
          "text": [
            "Successfully fetched https://www.churchofjesuschrist.org/study/general-conference/1997/04/faith-in-every-footstep-the-epic-pioneer-journey?lang=eng\n",
            "Successfully fetched https://www.churchofjesuschrist.org/study/general-conference/1997/04/the-sustaining-of-church-officers?lang=engSuccessfully fetched https://www.churchofjesuschrist.org/study/general-conference/1997/04/eternity-lies-before-us?lang=eng\n",
            "\n"
          ]
        },
        {
          "output_type": "stream",
          "name": "stderr",
          "text": [
            "Scraping talks in parallel:  50%|█████     | 2133/4233 [04:53<02:09, 16.17it/s]"
          ]
        },
        {
          "output_type": "stream",
          "name": "stdout",
          "text": [
            "Successfully fetched https://www.churchofjesuschrist.org/study/general-conference/1997/04/go-and-do-thou-likewise?lang=eng\n",
            "Successfully fetched https://www.churchofjesuschrist.org/study/general-conference/1997/04/may-we-be-faithful-and-true?lang=eng\n",
            "Successfully fetched https://www.churchofjesuschrist.org/study/general-conference/1997/04/endure-and-be-lifted-up?lang=eng\n",
            "Successfully fetched https://www.churchofjesuschrist.org/study/general-conference/1997/04/as-good-as-our-bond?lang=eng\n",
            "Successfully fetched https://www.churchofjesuschrist.org/study/general-conference/1997/04/keep-walking-and-give-time-a-chance?lang=eng\n",
            "Successfully fetched https://www.churchofjesuschrist.org/study/general-conference/1997/04/in-his-strength-i-can-do-all-things?lang=eng\n",
            "Successfully fetched https://www.churchofjesuschrist.org/study/general-conference/1997/04/caring-for-the-souls-of-children?lang=eng\n",
            "Successfully fetched https://www.churchofjesuschrist.org/study/general-conference/1997/04/our-testimony-to-the-world?lang=eng\n",
            "Successfully fetched https://www.churchofjesuschrist.org/study/general-conference/1997/04/his-peace?lang=eng\n",
            "Successfully fetched https://www.churchofjesuschrist.org/study/general-conference/1997/04/washed-clean?lang=eng\n",
            "Successfully fetched https://www.churchofjesuschrist.org/study/general-conference/1997/04/a-righteous-choice?lang=eng\n",
            "Successfully fetched https://www.churchofjesuschrist.org/study/general-conference/1997/04/saturday-morning-session?lang=eng\n",
            "Successfully fetched https://www.churchofjesuschrist.org/study/general-conference/1997/04/converts-and-young-men?lang=eng\n"
          ]
        },
        {
          "output_type": "stream",
          "name": "stderr",
          "text": [
            "Scraping talks in parallel:  51%|█████     | 2143/4233 [04:55<03:22, 10.30it/s]"
          ]
        },
        {
          "output_type": "stream",
          "name": "stdout",
          "text": [
            "Successfully fetched https://www.churchofjesuschrist.org/study/general-conference/1997/04/that-spirit-which-leadeth-to-do-good?lang=eng\n",
            "Successfully fetched https://www.churchofjesuschrist.org/study/general-conference/1997/04/statistical-report-1996?lang=eng\n",
            "Successfully fetched https://www.churchofjesuschrist.org/study/general-conference/1997/04/when-thou-art-converted-strengthen-thy-brethren?lang=eng\n",
            "Successfully fetched https://www.churchofjesuschrist.org/study/general-conference/1997/04/finding-safety-in-counsel?lang=eng\n",
            "Successfully fetched https://www.churchofjesuschrist.org/study/general-conference/1997/04/modern-pioneers?lang=eng\n",
            "Successfully fetched https://www.churchofjesuschrist.org/study/general-conference/1997/04/true-to-the-faith?lang=eng\n",
            "Successfully fetched https://www.churchofjesuschrist.org/study/general-conference/1997/04/pray-unto-the-father-in-my-name?lang=eng\n",
            "Successfully fetched https://www.churchofjesuschrist.org/study/general-conference/1997/04/a-holy-calling?lang=eng\n",
            "Successfully fetched https://www.churchofjesuschrist.org/study/general-conference/1997/04/they-showed-the-way?lang=eng\n"
          ]
        },
        {
          "output_type": "stream",
          "name": "stderr",
          "text": [
            "Scraping talks in parallel:  51%|█████     | 2154/4233 [04:56<03:58,  8.73it/s]"
          ]
        },
        {
          "output_type": "stream",
          "name": "stdout",
          "text": [
            "Successfully fetched https://www.churchofjesuschrist.org/study/general-conference/1997/04/draw-nearer-to-christ?lang=eng\n",
            "Successfully fetched https://www.churchofjesuschrist.org/study/general-conference/1997/04/the-basics-have-not-changed?lang=eng\n",
            "Successfully fetched https://www.churchofjesuschrist.org/study/general-conference/1996/10/women-of-the-church?lang=eng\n",
            "Successfully fetched https://www.churchofjesuschrist.org/study/general-conference/1996/10/partakers-of-the-glories?lang=eng\n",
            "Successfully fetched https://www.churchofjesuschrist.org/study/general-conference/1996/10/confirmed-in-faith?lang=eng\n",
            "Successfully fetched https://www.churchofjesuschrist.org/study/general-conference/1996/10/always-have-his-spirit?lang=eng\n",
            "Successfully fetched https://www.churchofjesuschrist.org/study/general-conference/1996/10/listening-to-the-voice-of-the-lord?lang=eng\n",
            "Successfully fetched https://www.churchofjesuschrist.org/study/general-conference/1996/10/this-thing-was-not-done-in-a-corner?lang=eng\n",
            "Successfully fetched https://www.churchofjesuschrist.org/study/general-conference/1996/10/listen-by-the-power-of-the-spirit?lang=eng\n",
            "Successfully fetched https://www.churchofjesuschrist.org/study/general-conference/1996/10/raised-in-hope?lang=eng\n",
            "Successfully fetched https://www.churchofjesuschrist.org/study/general-conference/1996/10/the-savior-is-counting-on-you?lang=eng\n"
          ]
        },
        {
          "output_type": "stream",
          "name": "stderr",
          "text": [
            "\rScraping talks in parallel:  51%|█████     | 2157/4233 [04:57<05:28,  6.31it/s]"
          ]
        },
        {
          "output_type": "stream",
          "name": "stdout",
          "text": [
            "Successfully fetched https://www.churchofjesuschrist.org/study/general-conference/1996/10/christ-at-bethesdas-pool?lang=eng\n",
            "Successfully fetched https://www.churchofjesuschrist.org/study/general-conference/1996/10/the-peaceable-things-of-the-kingdom?lang=eng\n",
            "Successfully fetched https://www.churchofjesuschrist.org/study/general-conference/1996/10/strengthened-in-charity?lang=eng\n",
            "Successfully fetched https://www.churchofjesuschrist.org/study/general-conference/1996/10/we-care-enough-to-send-our-very-best?lang=eng\n"
          ]
        },
        {
          "output_type": "stream",
          "name": "stderr",
          "text": [
            "Scraping talks in parallel:  51%|█████     | 2168/4233 [04:58<03:12, 10.75it/s]"
          ]
        },
        {
          "output_type": "stream",
          "name": "stdout",
          "text": [
            "Successfully fetched https://www.churchofjesuschrist.org/study/general-conference/1996/10/christians-in-belief-and-action?lang=eng\n",
            "Successfully fetched https://www.churchofjesuschrist.org/study/general-conference/1996/10/behold-your-little-ones?lang=eng\n",
            "Successfully fetched https://www.churchofjesuschrist.org/study/general-conference/1996/10/run-and-not-be-weary?lang=eng\n"
          ]
        },
        {
          "output_type": "stream",
          "name": "stderr",
          "text": [
            "\rScraping talks in parallel:  51%|█████▏    | 2171/4233 [04:58<03:38,  9.46it/s]"
          ]
        },
        {
          "output_type": "stream",
          "name": "stdout",
          "text": [
            "Successfully fetched https://www.churchofjesuschrist.org/study/general-conference/1996/10/be-thou-an-example?lang=engSuccessfully fetched https://www.churchofjesuschrist.org/study/general-conference/1996/10/the-atonement?lang=eng\n",
            "\n",
            "Successfully fetched https://www.churchofjesuschrist.org/study/general-conference/1996/10/the-twelve-apostles?lang=eng\n",
            "Successfully fetched https://www.churchofjesuschrist.org/study/general-conference/1996/10/witnesses-for-god?lang=eng\n",
            "Successfully fetched https://www.churchofjesuschrist.org/study/general-conference/1996/10/the-joy-of-living-the-great-plan-of-happiness?lang=eng\n",
            "Successfully fetched https://www.churchofjesuschrist.org/study/general-conference/1996/10/the-spirit-of-prophecy?lang=eng\n",
            "Successfully fetched https://www.churchofjesuschrist.org/study/general-conference/1996/10/rejoice?lang=eng\n"
          ]
        },
        {
          "output_type": "stream",
          "name": "stderr",
          "text": [
            "\rScraping talks in parallel:  51%|█████▏    | 2173/4233 [04:59<04:19,  7.95it/s]"
          ]
        },
        {
          "output_type": "stream",
          "name": "stdout",
          "text": [
            "Successfully fetched https://www.churchofjesuschrist.org/study/general-conference/1996/10/the-eternal-family?lang=eng\n",
            "Successfully fetched https://www.churchofjesuschrist.org/study/general-conference/1996/10/prophets-are-inspired?lang=eng\n"
          ]
        },
        {
          "output_type": "stream",
          "name": "stderr",
          "text": [
            "\rScraping talks in parallel:  51%|█████▏    | 2177/4233 [04:59<03:46,  9.07it/s]"
          ]
        },
        {
          "output_type": "stream",
          "name": "stdout",
          "text": [
            "Successfully fetched https://www.churchofjesuschrist.org/study/general-conference/1996/10/covenant-marriage?lang=eng\n"
          ]
        },
        {
          "output_type": "stream",
          "name": "stderr",
          "text": [
            "\rScraping talks in parallel:  52%|█████▏    | 2182/4233 [04:59<02:50, 12.02it/s]"
          ]
        },
        {
          "output_type": "stream",
          "name": "stdout",
          "text": [
            "Successfully fetched https://www.churchofjesuschrist.org/study/general-conference/1996/10/reach-with-a-rescuing-hand?lang=eng\n",
            "Successfully fetched https://www.churchofjesuschrist.org/study/general-conference/1996/10/honesty-a-moral-compass?lang=eng\n",
            "Successfully fetched https://www.churchofjesuschrist.org/study/general-conference/1996/10/woman-why-weepest-thou?lang=eng\n"
          ]
        },
        {
          "output_type": "stream",
          "name": "stderr",
          "text": [
            "\rScraping talks in parallel:  52%|█████▏    | 2184/4233 [05:00<03:04, 11.13it/s]"
          ]
        },
        {
          "output_type": "stream",
          "name": "stdout",
          "text": [
            "Successfully fetched https://www.churchofjesuschrist.org/study/general-conference/1996/10/the-ordinary-classroom-a-powerful-place-for-steady-and-continued-growth?lang=eng\n",
            "Successfully fetched https://www.churchofjesuschrist.org/study/general-conference/1996/10/according-to-the-desire-of-our-hearts?lang=eng\n",
            "Successfully fetched https://www.churchofjesuschrist.org/study/general-conference/1996/10/the-sustaining-of-church-officers?lang=eng\n"
          ]
        },
        {
          "output_type": "stream",
          "name": "stderr",
          "text": [
            "\rScraping talks in parallel:  52%|█████▏    | 2186/4233 [05:00<03:52,  8.82it/s]"
          ]
        },
        {
          "output_type": "stream",
          "name": "stdout",
          "text": [
            "Successfully fetched https://www.churchofjesuschrist.org/study/general-conference/1996/10/faith-in-every-footstep?lang=eng\n",
            "Successfully fetched https://www.churchofjesuschrist.org/study/general-conference/1996/04/the-word-of-wisdom-the-principle-and-the-promises?lang=eng\n",
            "Successfully fetched https://www.churchofjesuschrist.org/study/general-conference/1996/10/the-grand-key-words-for-the-relief-society?lang=eng\n",
            "Successfully fetched https://www.churchofjesuschrist.org/study/general-conference/1996/10/saturday-morning-session?lang=eng\n"
          ]
        },
        {
          "output_type": "stream",
          "name": "stderr",
          "text": [
            "\rScraping talks in parallel:  52%|█████▏    | 2188/4233 [05:00<04:42,  7.23it/s]"
          ]
        },
        {
          "output_type": "stream",
          "name": "stdout",
          "text": [
            "Successfully fetched https://www.churchofjesuschrist.org/study/general-conference/1996/04/what-i-want-my-son-to-know-before-he-leaves-on-his-mission?lang=eng\n",
            "Successfully fetched https://www.churchofjesuschrist.org/study/general-conference/1996/04/duty-calls?lang=eng\n"
          ]
        },
        {
          "output_type": "stream",
          "name": "stderr",
          "text": [
            "\rScraping talks in parallel:  52%|█████▏    | 2189/4233 [05:01<05:18,  6.41it/s]"
          ]
        },
        {
          "output_type": "stream",
          "name": "stdout",
          "text": [
            "Successfully fetched https://www.churchofjesuschrist.org/study/general-conference/1996/04/listening-with-new-ears?lang=eng\n",
            "Successfully fetched https://www.churchofjesuschrist.org/study/general-conference/1996/04/faith-of-our-fathers?lang=eng\n"
          ]
        },
        {
          "output_type": "stream",
          "name": "stderr",
          "text": [
            "\rScraping talks in parallel:  52%|█████▏    | 2195/4233 [05:01<03:45,  9.02it/s]"
          ]
        },
        {
          "output_type": "stream",
          "name": "stdout",
          "text": [
            "Successfully fetched https://www.churchofjesuschrist.org/study/general-conference/1996/04/facing-trials-with-optimism?lang=eng\n",
            "Successfully fetched https://www.churchofjesuschrist.org/study/general-conference/1996/04/baskets-and-bottles?lang=eng\n",
            "Successfully fetched https://www.churchofjesuschrist.org/study/general-conference/1996/04/this-work-is-true?lang=eng\n",
            "Successfully fetched https://www.churchofjesuschrist.org/study/general-conference/1996/04/the-church-audit-committee-report?lang=eng\n",
            "Successfully fetched https://www.churchofjesuschrist.org/study/general-conference/1996/04/joseph-the-man-and-the-prophet?lang=eng\n",
            "Successfully fetched https://www.churchofjesuschrist.org/study/general-conference/1996/04/remember-thy-church-o-lord?lang=eng\n",
            "Successfully fetched https://www.churchofjesuschrist.org/study/general-conference/1996/04/feasting-at-the-lords-table?lang=engSuccessfully fetched https://www.churchofjesuschrist.org/study/general-conference/1996/04/the-way-of-the-master?lang=eng\n",
            "\n",
            "Successfully fetched https://www.churchofjesuschrist.org/study/general-conference/1996/04/if-thou-wilt-enter-into-life-keep-the-commandments?lang=eng\n"
          ]
        },
        {
          "output_type": "stream",
          "name": "stderr",
          "text": [
            "Scraping talks in parallel:  52%|█████▏    | 2199/4233 [05:02<05:03,  6.70it/s]"
          ]
        },
        {
          "output_type": "stream",
          "name": "stdout",
          "text": [
            "Successfully fetched https://www.churchofjesuschrist.org/study/general-conference/1996/04/becometh-as-a-child?lang=eng\n",
            "Successfully fetched https://www.churchofjesuschrist.org/study/general-conference/1996/04/the-prophetic-voice?lang=eng\n",
            "Successfully fetched https://www.churchofjesuschrist.org/study/general-conference/1996/04/finding-joy-in-life?lang=eng\n",
            "Successfully fetched https://www.churchofjesuschrist.org/study/general-conference/1996/04/the-sustaining-of-church-officers?lang=eng\n",
            "Successfully fetched https://www.churchofjesuschrist.org/study/general-conference/1996/04/spiritual-shepherds?lang=eng\n",
            "Successfully fetched https://www.churchofjesuschrist.org/study/general-conference/1996/04/he-has-given-me-a-prophet?lang=eng\n",
            "Successfully fetched https://www.churchofjesuschrist.org/study/general-conference/1996/04/sacrament-of-the-lords-supper?lang=eng\n",
            "Successfully fetched https://www.churchofjesuschrist.org/study/general-conference/1996/04/thou-shalt-have-no-other-gods?lang=eng\n"
          ]
        },
        {
          "output_type": "stream",
          "name": "stderr",
          "text": [
            "Scraping talks in parallel:  52%|█████▏    | 2205/4233 [05:03<05:20,  6.33it/s]"
          ]
        },
        {
          "output_type": "stream",
          "name": "stdout",
          "text": [
            "Successfully fetched https://www.churchofjesuschrist.org/study/general-conference/1996/04/commitment?lang=eng\n",
            "Successfully fetched https://www.churchofjesuschrist.org/study/general-conference/1996/04/a-legacy-of-testimony?lang=eng\n",
            "Successfully fetched https://www.churchofjesuschrist.org/study/general-conference/1996/04/this-glorious-easter-morn?lang=eng\n",
            "Successfully fetched https://www.churchofjesuschrist.org/study/general-conference/1996/04/stay-on-the-true-course?lang=eng\n",
            "Successfully fetched https://www.churchofjesuschrist.org/study/general-conference/1996/04/a-handful-of-meal-and-a-little-oil?lang=eng\n",
            "Successfully fetched https://www.churchofjesuschrist.org/study/general-conference/1996/04/be-ye-clean?lang=eng\n",
            "Successfully fetched https://www.churchofjesuschrist.org/study/general-conference/1996/04/sustaining-the-living-prophets?lang=eng\n",
            "Successfully fetched https://www.churchofjesuschrist.org/study/general-conference/1996/04/saturday-morning-session?lang=eng\n",
            "Successfully fetched https://www.churchofjesuschrist.org/study/general-conference/1996/04/ye-may-know?lang=eng\n",
            "Successfully fetched https://www.churchofjesuschrist.org/study/general-conference/1996/04/an-anchor-for-eternity-and-today?lang=eng\n",
            "Successfully fetched https://www.churchofjesuschrist.org/study/general-conference/1996/04/conversion-and-commitment?lang=eng\n",
            "Successfully fetched https://www.churchofjesuschrist.org/study/general-conference/1996/04/my-prayers-were-answered?lang=eng\n",
            "Successfully fetched https://www.churchofjesuschrist.org/study/general-conference/1996/04/stand-true-and-faithful?lang=eng\n",
            "Successfully fetched https://www.churchofjesuschrist.org/study/general-conference/1995/10/the-family-a-proclamation-to-the-world?lang=eng\n",
            "Successfully fetched https://www.churchofjesuschrist.org/study/general-conference/1996/04/temptation?lang=eng\n",
            "Successfully fetched https://www.churchofjesuschrist.org/study/general-conference/1995/10/what-is-relief-society-for?lang=eng\n",
            "Successfully fetched https://www.churchofjesuschrist.org/study/general-conference/1995/10/spiritual-mountaintops?lang=eng\n",
            "Successfully fetched https://www.churchofjesuschrist.org/study/general-conference/1995/10/a-strategy-for-war?lang=eng\n",
            "Successfully fetched https://www.churchofjesuschrist.org/study/general-conference/1996/04/remember-how-thou-hast-received-and-heard?lang=eng\n",
            "Successfully fetched https://www.churchofjesuschrist.org/study/general-conference/1996/04/the-sabbath-day-and-sunday-shopping?lang=eng\n",
            "Successfully fetched https://www.churchofjesuschrist.org/study/general-conference/1995/10/trust-in-the-lord?lang=eng\n",
            "Successfully fetched https://www.churchofjesuschrist.org/study/general-conference/1996/04/statistical-report-1995?lang=eng\n"
          ]
        },
        {
          "output_type": "stream",
          "name": "stderr",
          "text": [
            "\rScraping talks in parallel:  52%|█████▏    | 2209/4233 [05:06<11:19,  2.98it/s]"
          ]
        },
        {
          "output_type": "stream",
          "name": "stdout",
          "text": [
            "Successfully fetched https://www.churchofjesuschrist.org/study/general-conference/1995/10/if-ye-are-prepared-ye-shall-not-fear?lang=eng\n",
            "Successfully fetched https://www.churchofjesuschrist.org/study/general-conference/1995/10/lord-to-whom-shall-we-go?lang=eng\n",
            "Successfully fetched https://www.churchofjesuschrist.org/study/general-conference/1995/10/patience-a-heavenly-virtue?lang=eng\n",
            "Successfully fetched https://www.churchofjesuschrist.org/study/general-conference/1995/10/hyrum-smith-firm-as-the-pillars-of-heaven?lang=eng\n",
            "Successfully fetched https://www.churchofjesuschrist.org/study/general-conference/1995/10/saturday-morning-session?lang=eng\n"
          ]
        },
        {
          "output_type": "stream",
          "name": "stderr",
          "text": [
            "\rScraping talks in parallel:  53%|█████▎    | 2236/4233 [05:06<02:42, 12.28it/s]"
          ]
        },
        {
          "output_type": "stream",
          "name": "stdout",
          "text": [
            "Successfully fetched https://www.churchofjesuschrist.org/study/general-conference/1995/10/the-book-of-mormon-a-sacred-ancient-record?lang=eng\n",
            "Successfully fetched https://www.churchofjesuschrist.org/study/general-conference/1995/10/a-living-network?lang=eng\n"
          ]
        },
        {
          "output_type": "stream",
          "name": "stderr",
          "text": [
            "\rScraping talks in parallel:  53%|█████▎    | 2241/4233 [05:06<02:37, 12.68it/s]"
          ]
        },
        {
          "output_type": "stream",
          "name": "stdout",
          "text": [
            "Successfully fetched https://www.churchofjesuschrist.org/study/general-conference/1995/10/priesthood-blessings?lang=eng\n",
            "Successfully fetched https://www.churchofjesuschrist.org/study/general-conference/1995/10/stand-strong-against-the-wiles-of-the-world?lang=eng\n",
            "Successfully fetched https://www.churchofjesuschrist.org/study/general-conference/1995/10/stay-the-course-keep-the-faith?lang=eng\n",
            "Successfully fetched https://www.churchofjesuschrist.org/study/general-conference/1995/10/the-brilliant-morning-of-forgiveness?lang=eng\n",
            "Successfully fetched https://www.churchofjesuschrist.org/study/general-conference/1995/10/i-will-go?lang=eng\n",
            "Successfully fetched https://www.churchofjesuschrist.org/study/general-conference/1995/10/our-message-to-the-world?lang=eng\n",
            "Successfully fetched https://www.churchofjesuschrist.org/study/general-conference/1995/10/powerful-ideas?lang=eng\n",
            "Successfully fetched https://www.churchofjesuschrist.org/study/general-conference/1995/10/the-fabric-of-faith-and-testimony?lang=eng\n",
            "Successfully fetched https://www.churchofjesuschrist.org/study/general-conference/1995/10/eternal-laws-of-happiness?lang=eng\n",
            "Successfully fetched https://www.churchofjesuschrist.org/study/general-conference/1995/10/who-honors-god-god-honors?lang=eng\n",
            "Successfully fetched https://www.churchofjesuschrist.org/study/general-conference/1995/10/swallowed-up-in-the-will-of-the-father?lang=eng\n",
            "Successfully fetched https://www.churchofjesuschrist.org/study/general-conference/1995/10/the-sustaining-of-church-officers?lang=eng\n",
            "Successfully fetched https://www.churchofjesuschrist.org/study/general-conference/1995/10/to-touch-a-life-with-faith?lang=eng\n",
            "Successfully fetched https://www.churchofjesuschrist.org/study/general-conference/1995/10/windows-of-light-and-truth?lang=eng\n",
            "Successfully fetched https://www.churchofjesuschrist.org/study/general-conference/1995/10/as-we-gather-together?lang=eng\n",
            "Successfully fetched https://www.churchofjesuschrist.org/study/general-conference/1995/10/redeemer-of-israel?lang=eng\n",
            "Successfully fetched https://www.churchofjesuschrist.org/study/general-conference/1995/10/seek-first-the-kingdom-of-god?lang=eng\n"
          ]
        },
        {
          "output_type": "stream",
          "name": "stderr",
          "text": [
            "\rScraping talks in parallel:  53%|█████▎    | 2244/4233 [05:09<06:19,  5.24it/s]"
          ]
        },
        {
          "output_type": "stream",
          "name": "stdout",
          "text": [
            "Successfully fetched https://www.churchofjesuschrist.org/study/general-conference/1995/10/acting-for-ourselves-and-not-being-acted-upon?lang=eng\n"
          ]
        },
        {
          "output_type": "stream",
          "name": "stderr",
          "text": [
            "\rScraping talks in parallel:  53%|█████▎    | 2254/4233 [05:09<04:03,  8.13it/s]"
          ]
        },
        {
          "output_type": "stream",
          "name": "stdout",
          "text": [
            "Successfully fetched https://www.churchofjesuschrist.org/study/general-conference/1995/10/of-missions-temples-and-stewardship?lang=eng\n",
            "Successfully fetched https://www.churchofjesuschrist.org/study/general-conference/1995/10/sacrifice-in-the-service?lang=eng\n",
            "Successfully fetched https://www.churchofjesuschrist.org/study/general-conference/1995/10/touch-the-hearts-of-the-children?lang=eng\n",
            "Successfully fetched https://www.churchofjesuschrist.org/study/general-conference/1995/10/the-power-of-goodness?lang=eng\n",
            "Successfully fetched https://www.churchofjesuschrist.org/study/general-conference/1995/10/relief-society-a-balm-in-gilead?lang=eng\n",
            "Successfully fetched https://www.churchofjesuschrist.org/study/general-conference/1995/10/blessings-of-the-priesthood?lang=engSuccessfully fetched https://www.churchofjesuschrist.org/study/general-conference/1995/10/this-do-in-remembrance-of-me?lang=eng\n",
            "\n",
            "Successfully fetched https://www.churchofjesuschrist.org/study/general-conference/1995/10/encircled-in-the-saviors-love?lang=eng\n",
            "Successfully fetched https://www.churchofjesuschrist.org/study/general-conference/1995/04/hear-the-prophets-voice-and-obey?lang=eng\n",
            "Successfully fetched https://www.churchofjesuschrist.org/study/general-conference/1995/10/witnesses?lang=eng\n",
            "Successfully fetched https://www.churchofjesuschrist.org/study/general-conference/1995/04/covenant-of-love?lang=eng\n",
            "Successfully fetched https://www.churchofjesuschrist.org/study/general-conference/1995/04/this-work-is-concerned-with-people?lang=eng\n",
            "Successfully fetched https://www.churchofjesuschrist.org/study/general-conference/1995/04/always-remember-him?lang=eng\n",
            "Successfully fetched https://www.churchofjesuschrist.org/study/general-conference/1995/04/mercy-the-divine-gift?lang=eng\n",
            "Successfully fetched https://www.churchofjesuschrist.org/study/general-conference/1995/04/living-water-to-quench-spiritual-thirst?lang=eng\n",
            "Successfully fetched https://www.churchofjesuschrist.org/study/general-conference/1995/04/apostasy-and-restoration?lang=eng\n",
            "Successfully fetched https://www.churchofjesuschrist.org/study/general-conference/1995/04/he-will-be-there-to-help?lang=eng\n",
            "Successfully fetched https://www.churchofjesuschrist.org/study/general-conference/1995/04/that-all-may-hear?lang=eng\n",
            "Successfully fetched https://www.churchofjesuschrist.org/study/general-conference/1995/04/this-is-the-work-of-the-master?lang=eng\n",
            "Successfully fetched https://www.churchofjesuschrist.org/study/general-conference/1995/04/responsibilities-of-shepherds?lang=eng\n",
            "Successfully fetched https://www.churchofjesuschrist.org/study/general-conference/1995/04/the-light-within-you?lang=eng\n",
            "Successfully fetched https://www.churchofjesuschrist.org/study/general-conference/1995/04/the-reward-is-worth-the-effort?lang=eng\n",
            "Successfully fetched https://www.churchofjesuschrist.org/study/general-conference/1995/04/sustaining-a-new-prophet?lang=eng\n",
            "Successfully fetched https://www.churchofjesuschrist.org/study/general-conference/1995/04/heirs-to-the-kingdom-of-god?lang=eng\n",
            "Successfully fetched https://www.churchofjesuschrist.org/study/general-conference/1995/04/an-elect-lady?lang=eng\n",
            "Successfully fetched https://www.churchofjesuschrist.org/study/general-conference/1995/04/ye-shall-feast-upon-this-fruit?lang=eng\n",
            "Successfully fetched https://www.churchofjesuschrist.org/study/general-conference/1995/04/trying-the-word-of-god?lang=eng\n",
            "Successfully fetched https://www.churchofjesuschrist.org/study/general-conference/1995/04/our-priesthood-legacy?lang=eng\n",
            "Successfully fetched https://www.churchofjesuschrist.org/study/general-conference/1995/04/finding-forgiveness?lang=eng\n",
            "Successfully fetched https://www.churchofjesuschrist.org/study/general-conference/1995/04/the-power-to-heal-from-within?lang=eng\n",
            "Successfully fetched https://www.churchofjesuschrist.org/study/general-conference/1995/04/the-church-audit-committee-report?lang=eng\n",
            "Successfully fetched https://www.churchofjesuschrist.org/study/general-conference/1995/04/being-leaders-who-foster-growth?lang=eng\n",
            "Successfully fetched https://www.churchofjesuschrist.org/study/general-conference/1995/04/saturday-morning-session?lang=eng\n",
            "Successfully fetched https://www.churchofjesuschrist.org/study/general-conference/1995/04/a-table-encircled-with-love?lang=eng\n",
            "Successfully fetched https://www.churchofjesuschrist.org/study/general-conference/1995/04/we-have-a-work-to-do?lang=eng\n",
            "Successfully fetched https://www.churchofjesuschrist.org/study/general-conference/1995/04/a-time-to-choose?lang=eng\n"
          ]
        },
        {
          "output_type": "stream",
          "name": "stderr",
          "text": [
            "\rScraping talks in parallel:  53%|█████▎    | 2258/4233 [05:14<10:00,  3.29it/s]"
          ]
        },
        {
          "output_type": "stream",
          "name": "stdout",
          "text": [
            "Successfully fetched https://www.churchofjesuschrist.org/study/general-conference/1995/10/perfection-pending?lang=eng\n",
            "Successfully fetched https://www.churchofjesuschrist.org/study/general-conference/1995/04/deny-yourselves-of-all-ungodliness?lang=eng\n",
            "Successfully fetched https://www.churchofjesuschrist.org/study/general-conference/1995/04/we-have-kept-the-faith?lang=eng\n",
            "Successfully fetched https://www.churchofjesuschrist.org/study/general-conference/1995/04/the-translation-miracle-of-the-book-of-mormon?lang=eng\n",
            "Successfully fetched https://www.churchofjesuschrist.org/study/general-conference/1995/04/marriage-and-the-great-plan-of-happiness?lang=eng\n",
            "Successfully fetched https://www.churchofjesuschrist.org/study/general-conference/1995/04/watchmen-on-the-tower?lang=eng\n",
            "Successfully fetched https://www.churchofjesuschrist.org/study/general-conference/1995/04/children-of-the-covenant?lang=eng\n"
          ]
        },
        {
          "output_type": "stream",
          "name": "stderr",
          "text": [
            "\rScraping talks in parallel:  54%|█████▎    | 2272/4233 [05:14<05:55,  5.52it/s]"
          ]
        },
        {
          "output_type": "stream",
          "name": "stdout",
          "text": [
            "Successfully fetched https://www.churchofjesuschrist.org/study/general-conference/1995/04/search-for-identity?lang=eng\n",
            "Successfully fetched https://www.churchofjesuschrist.org/study/general-conference/1995/04/the-temple-is-a-family-affair?lang=eng\n",
            "Successfully fetched https://www.churchofjesuschrist.org/study/general-conference/1995/04/easter-reflections?lang=engSuccessfully fetched https://www.churchofjesuschrist.org/study/general-conference/1995/04/trust-in-the-lord?lang=eng\n",
            "\n",
            "Successfully fetched https://www.churchofjesuschrist.org/study/general-conference/1995/04/as-jesus-sees-us?lang=eng\n",
            "Successfully fetched https://www.churchofjesuschrist.org/study/general-conference/1995/04/the-solemn-assembly-sustaining-of-church-officers?lang=eng\n",
            "Successfully fetched https://www.churchofjesuschrist.org/study/general-conference/1995/04/fat-free-feasting?lang=eng\n",
            "Successfully fetched https://www.churchofjesuschrist.org/study/general-conference/1995/04/statistical-report-1994?lang=eng\n"
          ]
        },
        {
          "output_type": "stream",
          "name": "stderr",
          "text": [
            "\rScraping talks in parallel:  54%|█████▍    | 2280/4233 [05:15<05:21,  6.08it/s]"
          ]
        },
        {
          "output_type": "stream",
          "name": "stdout",
          "text": [
            "Successfully fetched https://www.churchofjesuschrist.org/study/general-conference/1995/04/answers-to-lifes-questions?lang=eng\n",
            "Successfully fetched https://www.churchofjesuschrist.org/study/general-conference/1995/04/the-shield-of-faith?lang=eng\n"
          ]
        },
        {
          "output_type": "stream",
          "name": "stderr",
          "text": [
            "Scraping talks in parallel:  55%|█████▍    | 2313/4233 [05:16<02:13, 14.41it/s]"
          ]
        },
        {
          "output_type": "stream",
          "name": "stdout",
          "text": [
            "Successfully fetched https://www.churchofjesuschrist.org/study/general-conference/1994/10/being-a-righteous-husband-and-father?lang=eng\n",
            "Successfully fetched https://www.churchofjesuschrist.org/study/general-conference/1995/04/celebrating-covenants?lang=eng\n",
            "Successfully fetched https://www.churchofjesuschrist.org/study/general-conference/1994/10/making-the-right-choices?lang=eng\n",
            "Successfully fetched https://www.churchofjesuschrist.org/study/general-conference/1994/10/solemn-assemblies?lang=eng\n",
            "Successfully fetched https://www.churchofjesuschrist.org/study/general-conference/1994/10/follow-the-son-of-god?lang=eng\n",
            "Successfully fetched https://www.churchofjesuschrist.org/study/general-conference/1994/10/save-the-children?lang=eng\n",
            "Successfully fetched https://www.churchofjesuschrist.org/study/general-conference/1994/10/the-only-true-and-valid-basis?lang=eng\n",
            "Successfully fetched https://www.churchofjesuschrist.org/study/general-conference/1994/10/worship-through-music?lang=eng\n",
            "Successfully fetched https://www.churchofjesuschrist.org/study/general-conference/1994/10/priceless-principles-for-success?lang=eng\n",
            "Successfully fetched https://www.churchofjesuschrist.org/study/general-conference/1994/10/heed-the-prophets-voice?lang=eng\n",
            "Successfully fetched https://www.churchofjesuschrist.org/study/general-conference/1994/10/the-kingdom-progresses-in-africa?lang=eng\n",
            "Successfully fetched https://www.churchofjesuschrist.org/study/general-conference/1994/10/miracles-of-the-restoration?lang=eng\n",
            "Successfully fetched https://www.churchofjesuschrist.org/study/general-conference/1994/10/make-thee-an-ark?lang=eng\n",
            "Successfully fetched https://www.churchofjesuschrist.org/study/general-conference/1994/10/the-fatherless-and-the-widows-beloved-of-god?lang=eng\n"
          ]
        },
        {
          "output_type": "stream",
          "name": "stderr",
          "text": [
            "\rScraping talks in parallel:  55%|█████▍    | 2318/4233 [05:17<03:13,  9.92it/s]"
          ]
        },
        {
          "output_type": "stream",
          "name": "stdout",
          "text": [
            "Successfully fetched https://www.churchofjesuschrist.org/study/general-conference/1994/10/seek-and-ye-shall-find?lang=eng\n",
            "Successfully fetched https://www.churchofjesuschrist.org/study/general-conference/1994/10/the-spirit-of-elijah?lang=eng\n"
          ]
        },
        {
          "output_type": "stream",
          "name": "stderr",
          "text": [
            "\rScraping talks in parallel:  55%|█████▍    | 2328/4233 [05:17<02:28, 12.81it/s]"
          ]
        },
        {
          "output_type": "stream",
          "name": "stdout",
          "text": [
            "Successfully fetched https://www.churchofjesuschrist.org/study/general-conference/1994/10/let-us-build-fortresses?lang=eng\n",
            "Successfully fetched https://www.churchofjesuschrist.org/study/general-conference/1994/10/restored-truth?lang=eng\n",
            "Successfully fetched https://www.churchofjesuschrist.org/study/general-conference/1994/10/deep-roots?lang=eng\n",
            "Successfully fetched https://www.churchofjesuschrist.org/study/general-conference/1994/10/don-t-drop-the-ball?lang=eng\n",
            "Successfully fetched https://www.churchofjesuschrist.org/study/general-conference/1994/10/the-keys-that-never-rust?lang=eng\n",
            "Successfully fetched https://www.churchofjesuschrist.org/study/general-conference/1994/10/stand-firm-in-the-faith?lang=eng\n",
            "Successfully fetched https://www.churchofjesuschrist.org/study/general-conference/1994/10/teach-the-children?lang=eng\n",
            "Successfully fetched https://www.churchofjesuschrist.org/study/general-conference/1994/10/rowing-your-boat?lang=eng\n",
            "Successfully fetched https://www.churchofjesuschrist.org/study/general-conference/1994/10/my-brothers-keeper?lang=eng\n"
          ]
        },
        {
          "output_type": "stream",
          "name": "stderr",
          "text": [
            "\rScraping talks in parallel:  55%|█████▌    | 2332/4233 [05:18<03:04, 10.30it/s]"
          ]
        },
        {
          "output_type": "stream",
          "name": "stdout",
          "text": [
            "Successfully fetched https://www.churchofjesuschrist.org/study/general-conference/1994/10/charity-and-learning?lang=eng\n",
            "Successfully fetched https://www.churchofjesuschrist.org/study/general-conference/1994/10/that-thy-confidence-wax-strong?lang=eng\n",
            "Successfully fetched https://www.churchofjesuschrist.org/study/general-conference/1994/10/brightness-of-hope?lang=eng\n"
          ]
        },
        {
          "output_type": "stream",
          "name": "stderr",
          "text": [
            "Scraping talks in parallel:  55%|█████▌    | 2341/4233 [05:19<02:27, 12.82it/s]"
          ]
        },
        {
          "output_type": "stream",
          "name": "stdout",
          "text": [
            "Successfully fetched https://www.churchofjesuschrist.org/study/general-conference/1994/10/endure-to-the-end-in-charity?lang=eng\n",
            "Successfully fetched https://www.churchofjesuschrist.org/study/general-conference/1994/10/the-revelations-of-heaven?lang=eng\n",
            "Successfully fetched https://www.churchofjesuschrist.org/study/general-conference/1994/10/the-solemn-assembly-sustaining-of-church-officers?lang=eng\n",
            "Successfully fetched https://www.churchofjesuschrist.org/study/general-conference/1994/10/stand-ye-in-holy-places?lang=eng\n",
            "Successfully fetched https://www.churchofjesuschrist.org/study/general-conference/1994/10/helping-children-know-truth-from-error?lang=eng\n",
            "Successfully fetched https://www.churchofjesuschrist.org/study/general-conference/1994/10/personal-revelation-the-gift-the-test-and-the-promise?lang=eng\n",
            "Successfully fetched https://www.churchofjesuschrist.org/study/general-conference/1994/10/the-simple-things?lang=eng\n",
            "Successfully fetched https://www.churchofjesuschrist.org/study/general-conference/1994/10/the-importance-of-receiving-a-personal-testimony?lang=eng\n",
            "Successfully fetched https://www.churchofjesuschrist.org/study/general-conference/1994/10/exceeding-great-and-precious-promises?lang=eng\n",
            "Successfully fetched https://www.churchofjesuschrist.org/study/general-conference/1994/10/saturday-morning-session?lang=eng\n"
          ]
        },
        {
          "output_type": "stream",
          "name": "stderr",
          "text": [
            "\rScraping talks in parallel:  55%|█████▌    | 2344/4233 [05:20<03:42,  8.50it/s]"
          ]
        },
        {
          "output_type": "stream",
          "name": "stdout",
          "text": [
            "Successfully fetched https://www.churchofjesuschrist.org/study/general-conference/1994/04/a-divine-prescription-for-spiritual-healing?lang=eng\n",
            "Successfully fetched https://www.churchofjesuschrist.org/study/general-conference/1994/04/if-a-man-die-shall-he-live-again?lang=eng\n"
          ]
        },
        {
          "output_type": "stream",
          "name": "stderr",
          "text": [
            "Scraping talks in parallel:  55%|█████▌    | 2348/4233 [05:20<04:06,  7.65it/s]"
          ]
        },
        {
          "output_type": "stream",
          "name": "stdout",
          "text": [
            "Successfully fetched https://www.churchofjesuschrist.org/study/general-conference/1994/04/statistical-report-1993?lang=eng\n",
            "Successfully fetched https://www.churchofjesuschrist.org/study/general-conference/1994/04/god-is-at-the-helm?lang=eng\n"
          ]
        },
        {
          "output_type": "stream",
          "name": "stderr",
          "text": [
            "\rScraping talks in parallel:  56%|█████▌    | 2350/4233 [05:21<04:26,  7.07it/s]"
          ]
        },
        {
          "output_type": "stream",
          "name": "stdout",
          "text": [
            "Successfully fetched https://www.churchofjesuschrist.org/study/general-conference/1994/04/the-church-audit-committee-report?lang=eng\n",
            "Successfully fetched https://www.churchofjesuschrist.org/study/general-conference/1994/04/the-sustaining-of-church-officers?lang=eng\n"
          ]
        },
        {
          "output_type": "stream",
          "name": "stderr",
          "text": [
            "Scraping talks in parallel:  56%|█████▌    | 2356/4233 [05:21<03:45,  8.32it/s]"
          ]
        },
        {
          "output_type": "stream",
          "name": "stdout",
          "text": [
            "Successfully fetched https://www.churchofjesuschrist.org/study/general-conference/1994/04/to-be-healed?lang=eng\n",
            "Successfully fetched https://www.churchofjesuschrist.org/study/general-conference/1994/04/therefore-i-was-taught?lang=eng\n",
            "Successfully fetched https://www.churchofjesuschrist.org/study/general-conference/1994/04/jesus-of-nazareth?lang=eng\n",
            "Successfully fetched https://www.churchofjesuschrist.org/study/general-conference/1994/04/the-path-to-peace?lang=eng\n",
            "Successfully fetched https://www.churchofjesuschrist.org/study/general-conference/1994/04/growing-up-spiritually?lang=eng\n",
            "Successfully fetched https://www.churchofjesuschrist.org/study/general-conference/1994/04/feed-my-sheep?lang=eng\n",
            "Successfully fetched https://www.churchofjesuschrist.org/study/general-conference/1994/04/take-especial-care-of-your-family?lang=eng\n",
            "Successfully fetched https://www.churchofjesuschrist.org/study/general-conference/1994/04/trying-to-be-like-jesus?lang=eng\n",
            "Successfully fetched https://www.churchofjesuschrist.org/study/general-conference/1994/04/remember-your-covenants?lang=eng\n"
          ]
        },
        {
          "output_type": "stream",
          "name": "stderr",
          "text": [
            "Scraping talks in parallel:  56%|█████▌    | 2361/4233 [05:23<06:30,  4.80it/s]"
          ]
        },
        {
          "output_type": "stream",
          "name": "stdout",
          "text": [
            "Successfully fetched https://www.churchofjesuschrist.org/study/general-conference/1994/04/decisions?lang=eng\n",
            "Successfully fetched https://www.churchofjesuschrist.org/study/general-conference/1994/04/five-loaves-and-two-fishes?lang=engSuccessfully fetched https://www.churchofjesuschrist.org/study/general-conference/1994/04/the-greatest-miracle-in-human-history?lang=eng\n",
            "\n",
            "Successfully fetched https://www.churchofjesuschrist.org/study/general-conference/1994/04/tithing?lang=eng\n",
            "Successfully fetched https://www.churchofjesuschrist.org/study/general-conference/1994/04/teach-us-tolerance-and-love?lang=eng\n",
            "Successfully fetched https://www.churchofjesuschrist.org/study/general-conference/1994/04/live-in-obedience?lang=eng\n"
          ]
        },
        {
          "output_type": "stream",
          "name": "stderr",
          "text": [
            "\rScraping talks in parallel:  56%|█████▌    | 2368/4233 [05:23<04:05,  7.59it/s]"
          ]
        },
        {
          "output_type": "stream",
          "name": "stdout",
          "text": [
            "Successfully fetched https://www.churchofjesuschrist.org/study/general-conference/1994/04/what-he-would-have-us-do?lang=eng\n",
            "Successfully fetched https://www.churchofjesuschrist.org/study/general-conference/1994/04/what-manner-of-men-ought-ye-to-be?lang=eng\n"
          ]
        },
        {
          "output_type": "stream",
          "name": "stderr",
          "text": [
            "\rScraping talks in parallel:  56%|█████▌    | 2370/4233 [05:23<03:43,  8.35it/s]"
          ]
        },
        {
          "output_type": "stream",
          "name": "stdout",
          "text": [
            "Successfully fetched https://www.churchofjesuschrist.org/study/general-conference/1994/04/the-unique-message-of-jesus-christ?lang=eng\n",
            "Successfully fetched https://www.churchofjesuschrist.org/study/general-conference/1994/04/faith-in-the-lord-jesus-christ?lang=eng\n"
          ]
        },
        {
          "output_type": "stream",
          "name": "stderr",
          "text": [
            "Scraping talks in parallel:  56%|█████▌    | 2375/4233 [05:24<03:08,  9.88it/s]"
          ]
        },
        {
          "output_type": "stream",
          "name": "stdout",
          "text": [
            "Successfully fetched https://www.churchofjesuschrist.org/study/general-conference/1994/04/teaching-children-to-walk-uprightly-before-the-lord?lang=eng\n",
            "Successfully fetched https://www.churchofjesuschrist.org/study/general-conference/1994/04/the-father-and-the-family?lang=eng\n",
            "Successfully fetched https://www.churchofjesuschrist.org/study/general-conference/1994/04/we-all-have-a-father-in-whom-we-can-trust?lang=eng\n",
            "Successfully fetched https://www.churchofjesuschrist.org/study/general-conference/1994/04/the-priesthood-a-sacred-trust?lang=eng\n",
            "Successfully fetched https://www.churchofjesuschrist.org/study/general-conference/1994/04/courage-to-hearken?lang=eng\n",
            "Successfully fetched https://www.churchofjesuschrist.org/study/general-conference/1994/04/gratitude?lang=eng\n",
            "Successfully fetched https://www.churchofjesuschrist.org/study/general-conference/1994/04/counseling-with-our-councils?lang=eng\n",
            "Successfully fetched https://www.churchofjesuschrist.org/study/general-conference/1994/04/saturday-morning-session?lang=eng\n",
            "Successfully fetched https://www.churchofjesuschrist.org/study/general-conference/1994/04/the-special-status-of-children?lang=eng\n",
            "Successfully fetched https://www.churchofjesuschrist.org/study/general-conference/1993/10/truth-is-the-issue?lang=eng\n",
            "Successfully fetched https://www.churchofjesuschrist.org/study/general-conference/1994/04/walk-with-me?lang=eng\n",
            "Successfully fetched https://www.churchofjesuschrist.org/study/general-conference/1993/10/equality-through-diversity?lang=eng\n",
            "Successfully fetched https://www.churchofjesuschrist.org/study/general-conference/1994/04/what-shall-we-do?lang=eng\n",
            "Successfully fetched https://www.churchofjesuschrist.org/study/general-conference/1994/04/a-childs-love-matured?lang=eng\n",
            "Successfully fetched https://www.churchofjesuschrist.org/study/general-conference/1994/04/the-power-of-a-good-life?lang=eng\n",
            "Successfully fetched https://www.churchofjesuschrist.org/study/general-conference/1994/04/faith-is-the-answer?lang=eng\n"
          ]
        },
        {
          "output_type": "stream",
          "name": "stderr",
          "text": [
            "\rScraping talks in parallel:  56%|█████▌    | 2377/4233 [05:26<09:36,  3.22it/s]"
          ]
        },
        {
          "output_type": "stream",
          "name": "stdout",
          "text": [
            "Successfully fetched https://www.churchofjesuschrist.org/study/general-conference/1993/10/ponder-the-path-of-thy-feet?lang=eng\n",
            "Successfully fetched https://www.churchofjesuschrist.org/study/general-conference/1993/10/look-to-god-and-live?lang=eng\n",
            "Successfully fetched https://www.churchofjesuschrist.org/study/general-conference/1993/10/touch-not-the-evil-gift-nor-the-unclean-thing?lang=eng\n",
            "Successfully fetched https://www.churchofjesuschrist.org/study/general-conference/1993/10/choose-the-right?lang=eng\n",
            "Successfully fetched https://www.churchofjesuschrist.org/study/general-conference/1993/10/our-lord-and-savior?lang=eng\n",
            "Successfully fetched https://www.churchofjesuschrist.org/study/general-conference/1993/10/ward-and-branch-families-part-of-heavenly-fathers-plan-for-us?lang=eng\n",
            "Successfully fetched https://www.churchofjesuschrist.org/study/general-conference/1993/10/constancy-amid-change?lang=eng\n",
            "Successfully fetched https://www.churchofjesuschrist.org/study/general-conference/1993/10/missionary-work-our-responsibility?lang=eng\n",
            "Successfully fetched https://www.churchofjesuschrist.org/study/general-conference/1993/10/your-personal-checklist-for-a-successful-eternal-flight?lang=eng\n",
            "Successfully fetched https://www.churchofjesuschrist.org/study/general-conference/1993/10/rearing-children-in-a-polluted-environment?lang=eng\n",
            "Successfully fetched https://www.churchofjesuschrist.org/study/general-conference/1993/10/saturday-morning-session?lang=eng\n",
            "Successfully fetched https://www.churchofjesuschrist.org/study/general-conference/1993/10/keeping-covenants-and-honoring-the-priesthood?lang=eng\n",
            "Successfully fetched https://www.churchofjesuschrist.org/study/general-conference/1993/10/take-time-for-your-children?lang=eng\n",
            "Successfully fetched https://www.churchofjesuschrist.org/study/general-conference/1994/04/stretching-the-cords-of-the-tent?lang=eng\n",
            "Successfully fetched https://www.churchofjesuschrist.org/study/general-conference/1993/10/my-testimony?lang=eng\n",
            "Successfully fetched https://www.churchofjesuschrist.org/study/general-conference/1993/10/the-search-for-happiness?lang=eng\n",
            "Successfully fetched https://www.churchofjesuschrist.org/study/general-conference/1993/10/a-mighty-change-of-heart?lang=eng\n",
            "Successfully fetched https://www.churchofjesuschrist.org/study/general-conference/1994/04/increase-in-faith?lang=eng\n"
          ]
        },
        {
          "output_type": "stream",
          "name": "stderr",
          "text": [
            "\rScraping talks in parallel:  56%|█████▌    | 2381/4233 [05:28<13:33,  2.28it/s]"
          ]
        },
        {
          "output_type": "stream",
          "name": "stdout",
          "text": [
            "Successfully fetched https://www.churchofjesuschrist.org/study/general-conference/1993/10/be-of-good-cheer?lang=eng\n",
            "Successfully fetched https://www.churchofjesuschrist.org/study/general-conference/1993/10/the-great-plan-of-happiness?lang=eng\n",
            "Successfully fetched https://www.churchofjesuschrist.org/study/general-conference/1993/10/combatting-spiritual-drift-our-global-pandemic?lang=eng\n",
            "Successfully fetched https://www.churchofjesuschrist.org/study/general-conference/1993/10/gratitude?lang=eng\n",
            "Successfully fetched https://www.churchofjesuschrist.org/study/general-conference/1993/10/the-upward-reach?lang=eng\n",
            "Successfully fetched https://www.churchofjesuschrist.org/study/general-conference/1993/10/bring-up-a-child-in-the-way-he-should-go?lang=eng\n",
            "Successfully fetched https://www.churchofjesuschrist.org/study/general-conference/1993/10/service-and-happiness?lang=eng\n",
            "Successfully fetched https://www.churchofjesuschrist.org/study/general-conference/1993/10/relief-society-charity-the-guiding-principle?lang=eng\n",
            "Successfully fetched https://www.churchofjesuschrist.org/study/general-conference/1993/10/strength-in-the-savior?lang=eng\n",
            "Successfully fetched https://www.churchofjesuschrist.org/study/general-conference/1993/10/the-modern-mighty-of-israel?lang=eng\n",
            "Successfully fetched https://www.churchofjesuschrist.org/study/general-conference/1993/10/the-sustaining-of-church-officers?lang=eng\n",
            "Successfully fetched https://www.churchofjesuschrist.org/study/general-conference/1993/10/for-time-and-all-eternity?lang=eng\n",
            "Successfully fetched https://www.churchofjesuschrist.org/study/general-conference/1993/10/divine-forgiveness?lang=eng\n",
            "Successfully fetched https://www.churchofjesuschrist.org/study/general-conference/1993/04/father-come-home?lang=eng\n",
            "Successfully fetched https://www.churchofjesuschrist.org/study/general-conference/1993/10/from-the-beginning?lang=eng\n",
            "Successfully fetched https://www.churchofjesuschrist.org/study/general-conference/1993/04/keep-the-faith?lang=eng\n",
            "Successfully fetched https://www.churchofjesuschrist.org/study/general-conference/1993/10/an-eternal-vision?lang=eng\n",
            "Successfully fetched https://www.churchofjesuschrist.org/study/general-conference/1993/04/faith-yields-priesthood-power?lang=eng\n",
            "Successfully fetched https://www.churchofjesuschrist.org/study/general-conference/1993/04/heroes?lang=eng\n",
            "Successfully fetched https://www.churchofjesuschrist.org/study/general-conference/1993/04/some-lessons-i-learned-as-a-boy?lang=eng\n",
            "Successfully fetched https://www.churchofjesuschrist.org/study/general-conference/1993/04/the-lord-of-life?lang=eng\n",
            "Successfully fetched https://www.churchofjesuschrist.org/study/general-conference/1993/04/whom-the-lord-calls-the-lord-qualifies?lang=eng\n",
            "Error fetching https://www.churchofjesuschrist.org/study/general-conference/1993/10/meeting-lifes-challenges?lang=eng: 502 Server Error: Bad Gateway for url: https://www.churchofjesuschrist.org/study/general-conference/1993/10/meeting-lifes-challenges?lang=eng\n",
            "Successfully fetched https://www.churchofjesuschrist.org/study/general-conference/1993/04/come-unto-christ?lang=eng\n",
            "Successfully fetched https://www.churchofjesuschrist.org/study/general-conference/1993/10/the-lords-wind?lang=eng\n",
            "Successfully fetched https://www.churchofjesuschrist.org/study/general-conference/1993/04/jesus-the-very-thought-of-thee?lang=eng\n",
            "Successfully fetched https://www.churchofjesuschrist.org/study/general-conference/1993/10/strength-in-counsel?lang=eng\n",
            "Successfully fetched https://www.churchofjesuschrist.org/study/general-conference/1993/10/how-will-our-children-remember-us?lang=eng\n",
            "Successfully fetched https://www.churchofjesuschrist.org/study/general-conference/1993/04/keeping-covenants?lang=eng\n",
            "Successfully fetched https://www.churchofjesuschrist.org/study/general-conference/1993/04/search-the-scriptures?lang=eng\n",
            "Successfully fetched https://www.churchofjesuschrist.org/study/general-conference/1993/04/the-language-of-prayer?lang=eng\n",
            "Successfully fetched https://www.churchofjesuschrist.org/study/general-conference/1993/04/honoring-the-priesthood?lang=eng\n",
            "Successfully fetched https://www.churchofjesuschrist.org/study/general-conference/1993/04/the-church-audit-committee-report?lang=eng\n",
            "Successfully fetched https://www.churchofjesuschrist.org/study/general-conference/1993/04/prayer?lang=eng\n",
            "Successfully fetched https://www.churchofjesuschrist.org/study/general-conference/1993/04/he-maketh-me-to-lie-down-in-green-pastures?lang=eng\n",
            "Successfully fetched https://www.churchofjesuschrist.org/study/general-conference/1993/04/behold-the-enemy-is-combined-d-c-38-12?lang=eng\n",
            "Successfully fetched https://www.churchofjesuschrist.org/study/general-conference/1993/04/the-power-of-correct-principles?lang=eng\n",
            "Successfully fetched https://www.churchofjesuschrist.org/study/general-conference/1993/04/a-prophets-testimony?lang=eng\n",
            "Successfully fetched https://www.churchofjesuschrist.org/study/general-conference/1993/04/power-of-the-church-rooted-in-christ?lang=eng\n",
            "Successfully fetched https://www.churchofjesuschrist.org/study/general-conference/1993/04/jesus-christ-the-son-of-the-living-god?lang=eng\n",
            "Successfully fetched https://www.churchofjesuschrist.org/study/general-conference/1993/04/the-sustaining-of-church-officers?lang=eng\n",
            "Successfully fetched https://www.churchofjesuschrist.org/study/general-conference/1993/04/cats-cradle-of-kindness?lang=eng\n",
            "Successfully fetched https://www.churchofjesuschrist.org/study/general-conference/1993/04/personal-temple-worship?lang=eng\n",
            "Successfully fetched https://www.churchofjesuschrist.org/study/general-conference/1993/04/receiving-divine-assistance-through-the-grace-of-the-lord?lang=eng\n",
            "Successfully fetched https://www.churchofjesuschrist.org/study/general-conference/1993/04/i-know-in-whom-i-have-trusted?lang=eng\n",
            "Successfully fetched https://www.churchofjesuschrist.org/study/general-conference/1993/04/the-principle-of-work?lang=eng\n",
            "Successfully fetched https://www.churchofjesuschrist.org/study/general-conference/1993/04/the-temple-of-the-lord?lang=eng\n",
            "Successfully fetched https://www.churchofjesuschrist.org/study/general-conference/1993/04/the-temple-the-priesthood?lang=eng\n",
            "Successfully fetched https://www.churchofjesuschrist.org/study/general-conference/1993/04/this-peaceful-house-of-god?lang=eng\n",
            "Successfully fetched https://www.churchofjesuschrist.org/study/general-conference/1993/04/spiritually-strong-homes-and-families?lang=eng\n",
            "Successfully fetched https://www.churchofjesuschrist.org/study/general-conference/1993/04/back-to-gospel-basics?lang=eng\n",
            "Successfully fetched https://www.churchofjesuschrist.org/study/general-conference/1993/04/gifts?lang=eng\n",
            "Successfully fetched https://www.churchofjesuschrist.org/study/general-conference/1993/04/statistical-report-1992?lang=eng\n",
            "Successfully fetched https://www.churchofjesuschrist.org/study/general-conference/1993/04/peace-through-prayer?lang=eng\n",
            "Successfully fetched https://www.churchofjesuschrist.org/study/general-conference/1993/10/acquiring-spiritual-knowledge?lang=eng\n",
            "Successfully fetched https://www.churchofjesuschrist.org/study/general-conference/1993/04/search-and-rescue?lang=eng\n"
          ]
        },
        {
          "output_type": "stream",
          "name": "stderr",
          "text": [
            "\rScraping talks in parallel:  57%|█████▋    | 2403/4233 [05:35<10:53,  2.80it/s]"
          ]
        },
        {
          "output_type": "stream",
          "name": "stdout",
          "text": [
            "Successfully fetched https://www.churchofjesuschrist.org/study/general-conference/1992/10/becoming-wise-unto-salvation?lang=eng\n",
            "Successfully fetched https://www.churchofjesuschrist.org/study/general-conference/1992/10/settle-this-in-your-hearts?lang=eng\n",
            "Successfully fetched https://www.churchofjesuschrist.org/study/general-conference/1993/04/saturday-morning-session?lang=eng\n"
          ]
        },
        {
          "output_type": "stream",
          "name": "stderr",
          "text": [
            "\rScraping talks in parallel:  58%|█████▊    | 2467/4233 [05:36<02:38, 11.11it/s]"
          ]
        },
        {
          "output_type": "stream",
          "name": "stdout",
          "text": [
            "Successfully fetched https://www.churchofjesuschrist.org/study/general-conference/1992/10/the-church-is-on-course?lang=eng\n",
            "Successfully fetched https://www.churchofjesuschrist.org/study/general-conference/1992/10/remember-also-the-promises?lang=eng\n",
            "Successfully fetched https://www.churchofjesuschrist.org/study/general-conference/1992/10/the-golden-years?lang=eng\n",
            "Successfully fetched https://www.churchofjesuschrist.org/study/general-conference/1992/10/spiritual-revival?lang=eng\n",
            "Successfully fetched https://www.churchofjesuschrist.org/study/general-conference/1992/10/the-joy-of-hope-fulfilled?lang=eng\n",
            "Successfully fetched https://www.churchofjesuschrist.org/study/general-conference/1992/10/a-priceless-heritage?lang=eng\n",
            "Successfully fetched https://www.churchofjesuschrist.org/study/general-conference/1992/10/building-your-tabernacle?lang=eng\n",
            "Successfully fetched https://www.churchofjesuschrist.org/study/general-conference/1992/10/spiritual-bonfires-of-testimony?lang=eng\n",
            "Successfully fetched https://www.churchofjesuschrist.org/study/general-conference/1992/10/jesus-christ-is-at-the-center-of-the-restoration-of-the-gospel?lang=eng\n"
          ]
        },
        {
          "output_type": "stream",
          "name": "stderr",
          "text": [
            "\rScraping talks in parallel:  58%|█████▊    | 2474/4233 [05:37<02:47, 10.49it/s]"
          ]
        },
        {
          "output_type": "stream",
          "name": "stdout",
          "text": [
            "Successfully fetched https://www.churchofjesuschrist.org/study/general-conference/1992/10/by-the-power-of-his-word-did-they-cause-prisons-to-tumble?lang=eng\n",
            "Successfully fetched https://www.churchofjesuschrist.org/study/general-conference/1992/10/an-example-of-the-believers?lang=eng\n",
            "Successfully fetched https://www.churchofjesuschrist.org/study/general-conference/1992/10/honour-thy-father-and-thy-mother?lang=eng\n",
            "Successfully fetched https://www.churchofjesuschrist.org/study/general-conference/1992/10/fear?lang=eng\n"
          ]
        },
        {
          "output_type": "stream",
          "name": "stderr",
          "text": [
            "Scraping talks in parallel:  59%|█████▊    | 2483/4233 [05:37<02:35, 11.27it/s]"
          ]
        },
        {
          "output_type": "stream",
          "name": "stdout",
          "text": [
            "Successfully fetched https://www.churchofjesuschrist.org/study/general-conference/1992/10/a-loving-communicating-god?lang=eng\n",
            "Successfully fetched https://www.churchofjesuschrist.org/study/general-conference/1992/10/successful-living-of-gospel-principles?lang=eng\n",
            "Successfully fetched https://www.churchofjesuschrist.org/study/general-conference/1992/10/by-way-of-invitation-alma-5-62?lang=eng\n",
            "Successfully fetched https://www.churchofjesuschrist.org/study/general-conference/1992/10/the-beacon-in-the-harbor-of-peace?lang=eng\n",
            "Successfully fetched https://www.churchofjesuschrist.org/study/general-conference/1992/10/the-sustaining-of-church-officers?lang=eng\n",
            "Successfully fetched https://www.churchofjesuschrist.org/study/general-conference/1992/10/the-lord-will-prosper-the-righteous?lang=eng\n",
            "Successfully fetched https://www.churchofjesuschrist.org/study/general-conference/1992/10/love-of-christ?lang=eng\n",
            "Successfully fetched https://www.churchofjesuschrist.org/study/general-conference/1992/10/born-of-goodly-parents?lang=eng\n"
          ]
        },
        {
          "output_type": "stream",
          "name": "stderr",
          "text": [
            "\rScraping talks in parallel:  59%|█████▉    | 2487/4233 [05:38<02:52, 10.11it/s]"
          ]
        },
        {
          "output_type": "stream",
          "name": "stdout",
          "text": [
            "Successfully fetched https://www.churchofjesuschrist.org/study/general-conference/1992/10/miracles-then-and-now?lang=eng\n",
            "Successfully fetched https://www.churchofjesuschrist.org/study/general-conference/1992/10/to-be-learned-is-good-if?lang=eng\n",
            "Successfully fetched https://www.churchofjesuschrist.org/study/general-conference/1992/10/the-priesthood-in-action?lang=eng\n",
            "Successfully fetched https://www.churchofjesuschrist.org/study/general-conference/1992/10/healing-your-damaged-life?lang=eng\n"
          ]
        },
        {
          "output_type": "stream",
          "name": "stderr",
          "text": [
            "Scraping talks in parallel:  59%|█████▉    | 2494/4233 [05:39<02:43, 10.66it/s]"
          ]
        },
        {
          "output_type": "stream",
          "name": "stdout",
          "text": [
            "Successfully fetched https://www.churchofjesuschrist.org/study/general-conference/1992/10/saturday-morning-session?lang=eng\n",
            "Successfully fetched https://www.churchofjesuschrist.org/study/general-conference/1992/10/nobody-said-that-it-would-be-easy?lang=eng\n",
            "Successfully fetched https://www.churchofjesuschrist.org/study/general-conference/1992/10/behold-the-lord-hath-shown-unto-me-great-and-marvelous-things?lang=eng\n",
            "Successfully fetched https://www.churchofjesuschrist.org/study/general-conference/1992/10/sin-will-not-prevail?lang=engSuccessfully fetched https://www.churchofjesuschrist.org/study/general-conference/1992/10/where-is-wisdom?lang=eng\n",
            "\n"
          ]
        },
        {
          "output_type": "stream",
          "name": "stderr",
          "text": [
            "\rScraping talks in parallel:  59%|█████▉    | 2496/4233 [05:39<02:44, 10.54it/s]"
          ]
        },
        {
          "output_type": "stream",
          "name": "stdout",
          "text": [
            "Successfully fetched https://www.churchofjesuschrist.org/study/general-conference/1992/10/missionary-work-in-the-philippines?lang=eng\n",
            "Successfully fetched https://www.churchofjesuschrist.org/study/general-conference/1992/10/confidence-through-conversion?lang=eng\n",
            "Successfully fetched https://www.churchofjesuschrist.org/study/general-conference/1992/10/at-parting?lang=eng\n"
          ]
        },
        {
          "output_type": "stream",
          "name": "stderr",
          "text": [
            "Scraping talks in parallel:  59%|█████▉    | 2500/4233 [05:39<02:53, 10.01it/s]"
          ]
        },
        {
          "output_type": "stream",
          "name": "stdout",
          "text": [
            "Successfully fetched https://www.churchofjesuschrist.org/study/general-conference/1992/10/bible-stories-and-personal-protection?lang=eng\n",
            "Successfully fetched https://www.churchofjesuschrist.org/study/general-conference/1992/10/behold-your-little-ones?lang=eng\n"
          ]
        },
        {
          "output_type": "stream",
          "name": "stderr",
          "text": [
            "Scraping talks in parallel:  59%|█████▉    | 2504/4233 [05:40<02:43, 10.55it/s]"
          ]
        },
        {
          "output_type": "stream",
          "name": "stdout",
          "text": [
            "Successfully fetched https://www.churchofjesuschrist.org/study/general-conference/1992/10/to-the-women-of-the-church?lang=eng\n",
            "Successfully fetched https://www.churchofjesuschrist.org/study/general-conference/1992/10/a-yearning-for-home?lang=eng\n",
            "Successfully fetched https://www.churchofjesuschrist.org/study/general-conference/1992/10/coming-unto-christ-by-searching-the-scriptures?lang=eng\n",
            "Successfully fetched https://www.churchofjesuschrist.org/study/general-conference/1992/04/a-disciple-of-jesus-christ?lang=eng\n"
          ]
        },
        {
          "output_type": "stream",
          "name": "stderr",
          "text": [
            "Scraping talks in parallel:  59%|█████▉    | 2509/4233 [05:40<02:37, 10.98it/s]"
          ]
        },
        {
          "output_type": "stream",
          "name": "stdout",
          "text": [
            "Successfully fetched https://www.churchofjesuschrist.org/study/general-conference/1992/04/the-blessings-of-sacrifice?lang=eng\n",
            "Successfully fetched https://www.churchofjesuschrist.org/study/general-conference/1992/04/spiritual-healing?lang=eng\n",
            "Successfully fetched https://www.churchofjesuschrist.org/study/general-conference/1992/04/the-spirit-of-relief-society?lang=eng\n",
            "Successfully fetched https://www.churchofjesuschrist.org/study/general-conference/1992/04/come-to-the-house-of-the-lord?lang=eng\n",
            "Successfully fetched https://www.churchofjesuschrist.org/study/general-conference/1992/04/an-attitude-of-gratitude?lang=eng\n",
            "Successfully fetched https://www.churchofjesuschrist.org/study/general-conference/1992/04/the-royal-law?lang=eng\n",
            "Successfully fetched https://www.churchofjesuschrist.org/study/general-conference/1992/04/doors-of-death?lang=eng\n",
            "Successfully fetched https://www.churchofjesuschrist.org/study/general-conference/1992/04/my-servant-joseph?lang=eng\n",
            "Successfully fetched https://www.churchofjesuschrist.org/study/general-conference/1992/04/gratitude-for-the-goodness-of-god?lang=eng\n",
            "Successfully fetched https://www.churchofjesuschrist.org/study/general-conference/1992/04/our-moral-environment?lang=eng\n"
          ]
        },
        {
          "output_type": "stream",
          "name": "stderr",
          "text": [
            "Scraping talks in parallel:  59%|█████▉    | 2516/4233 [05:41<02:47, 10.26it/s]"
          ]
        },
        {
          "output_type": "stream",
          "name": "stdout",
          "text": [
            "Successfully fetched https://www.churchofjesuschrist.org/study/general-conference/1992/04/a-chosen-generation?lang=eng\n",
            "Successfully fetched https://www.churchofjesuschrist.org/study/general-conference/1992/04/a-more-excellent-way?lang=eng\n"
          ]
        },
        {
          "output_type": "stream",
          "name": "stderr",
          "text": [
            "\rScraping talks in parallel:  59%|█████▉    | 2518/4233 [05:41<02:42, 10.57it/s]"
          ]
        },
        {
          "output_type": "stream",
          "name": "stdout",
          "text": [
            "Successfully fetched https://www.churchofjesuschrist.org/study/general-conference/1992/04/look-up-and-press-on?lang=eng\n",
            "Successfully fetched https://www.churchofjesuschrist.org/study/general-conference/1992/04/unclutter-your-life?lang=engSuccessfully fetched https://www.churchofjesuschrist.org/study/general-conference/1992/04/be-men?lang=eng\n",
            "\n",
            "Successfully fetched https://www.churchofjesuschrist.org/study/general-conference/1992/04/a-mighty-force-for-righteousness?lang=eng\n",
            "Successfully fetched https://www.churchofjesuschrist.org/study/general-conference/1992/04/spit-and-mud-and-kigatsuku?lang=eng\n",
            "Successfully fetched https://www.churchofjesuschrist.org/study/general-conference/1992/04/the-sustaining-of-church-officers?lang=eng\n",
            "Successfully fetched https://www.churchofjesuschrist.org/study/general-conference/1992/04/seeking-the-good?lang=eng\n",
            "Successfully fetched https://www.churchofjesuschrist.org/study/general-conference/1992/04/our-great-mission?lang=eng\n",
            "Successfully fetched https://www.churchofjesuschrist.org/study/general-conference/1992/04/patience-in-affliction?lang=engSuccessfully fetched https://www.churchofjesuschrist.org/study/general-conference/1992/04/to-learn-to-do-to-be?lang=eng\n",
            "\n"
          ]
        },
        {
          "output_type": "stream",
          "name": "stderr",
          "text": [
            "Scraping talks in parallel:  60%|█████▉    | 2529/4233 [05:42<02:39, 10.69it/s]"
          ]
        },
        {
          "output_type": "stream",
          "name": "stdout",
          "text": [
            "Successfully fetched https://www.churchofjesuschrist.org/study/general-conference/1992/04/the-tongue-can-be-a-sharp-sword?lang=eng\n",
            "Successfully fetched https://www.churchofjesuschrist.org/study/general-conference/1992/04/the-pure-love-of-god?lang=eng\n",
            "Successfully fetched https://www.churchofjesuschrist.org/study/general-conference/1992/04/nourish-the-flock-of-christ?lang=eng\n"
          ]
        },
        {
          "output_type": "stream",
          "name": "stderr",
          "text": [
            "\rScraping talks in parallel:  60%|█████▉    | 2531/4233 [05:43<02:24, 11.80it/s]"
          ]
        },
        {
          "output_type": "stream",
          "name": "stdout",
          "text": [
            "Successfully fetched https://www.churchofjesuschrist.org/study/general-conference/1992/04/the-church-audit-committee-report?lang=eng\n",
            "Successfully fetched https://www.churchofjesuschrist.org/study/general-conference/1992/04/but-the-labourers-are-few?lang=eng\n"
          ]
        },
        {
          "output_type": "stream",
          "name": "stderr",
          "text": [
            "\rScraping talks in parallel:  60%|█████▉    | 2533/4233 [05:43<02:42, 10.44it/s]"
          ]
        },
        {
          "output_type": "stream",
          "name": "stdout",
          "text": [
            "Successfully fetched https://www.churchofjesuschrist.org/study/general-conference/1992/04/the-mission-of-relief-society?lang=eng\n",
            "Successfully fetched https://www.churchofjesuschrist.org/study/general-conference/1992/04/a-prisoner-of-love?lang=eng\n",
            "Successfully fetched https://www.churchofjesuschrist.org/study/general-conference/1992/04/saturday-morning-session?lang=eng\n",
            "Successfully fetched https://www.churchofjesuschrist.org/study/general-conference/1992/04/you-are-not-alone?lang=eng\n",
            "Successfully fetched https://www.churchofjesuschrist.org/study/general-conference/1992/04/please-hear-the-call?lang=eng\n",
            "Successfully fetched https://www.churchofjesuschrist.org/study/general-conference/1992/04/charity-never-faileth?lang=eng\n",
            "Successfully fetched https://www.churchofjesuschrist.org/study/general-conference/1992/04/healing-the-tragic-scars-of-abuse?lang=eng\n"
          ]
        },
        {
          "output_type": "stream",
          "name": "stderr",
          "text": [
            "\rScraping talks in parallel:  60%|█████▉    | 2535/4233 [05:44<04:39,  6.07it/s]"
          ]
        },
        {
          "output_type": "stream",
          "name": "stdout",
          "text": [
            "Successfully fetched https://www.churchofjesuschrist.org/study/general-conference/1992/04/what-doest-ye-for-christ?lang=eng\n",
            "Successfully fetched https://www.churchofjesuschrist.org/study/general-conference/1992/04/believe-his-prophets?lang=eng\n"
          ]
        },
        {
          "output_type": "stream",
          "name": "stderr",
          "text": [
            "Scraping talks in parallel:  60%|█████▉    | 2539/4233 [05:44<03:41,  7.63it/s]"
          ]
        },
        {
          "output_type": "stream",
          "name": "stdout",
          "text": [
            "Successfully fetched https://www.churchofjesuschrist.org/study/general-conference/1992/04/statistical-report-1991?lang=eng\n",
            "Successfully fetched https://www.churchofjesuschrist.org/study/general-conference/1992/04/take-up-his-cross?lang=eng\n",
            "Successfully fetched https://www.churchofjesuschrist.org/study/general-conference/1992/04/the-relief-society-and-the-church?lang=eng\n",
            "Successfully fetched https://www.churchofjesuschrist.org/study/general-conference/1992/04/memories-of-yesterday-counsel-for-today?lang=eng\n",
            "Successfully fetched https://www.churchofjesuschrist.org/study/general-conference/1991/10/strengthen-the-feeble-knees?lang=eng\n",
            "Successfully fetched https://www.churchofjesuschrist.org/study/general-conference/1991/10/light?lang=eng\n",
            "Successfully fetched https://www.churchofjesuschrist.org/study/general-conference/1991/10/precious-children-a-gift-from-god?lang=eng\n",
            "Successfully fetched https://www.churchofjesuschrist.org/study/general-conference/1991/10/the-voice-is-still-small?lang=eng\n"
          ]
        },
        {
          "output_type": "stream",
          "name": "stderr",
          "text": [
            "\rScraping talks in parallel:  60%|██████    | 2545/4233 [05:45<03:53,  7.24it/s]"
          ]
        },
        {
          "output_type": "stream",
          "name": "stdout",
          "text": [
            "Successfully fetched https://www.churchofjesuschrist.org/study/general-conference/1992/04/faith-and-good-works?lang=eng\n",
            "Successfully fetched https://www.churchofjesuschrist.org/study/general-conference/1991/10/charity-suffereth-long?lang=eng\n",
            "Successfully fetched https://www.churchofjesuschrist.org/study/general-conference/1991/10/these-were-our-examples?lang=eng\n",
            "Successfully fetched https://www.churchofjesuschrist.org/study/general-conference/1991/10/and-now-you-will-know?lang=eng\n",
            "Successfully fetched https://www.churchofjesuschrist.org/study/general-conference/1991/10/a-time-for-preparation?lang=eng\n"
          ]
        },
        {
          "output_type": "stream",
          "name": "stderr",
          "text": [
            "\rScraping talks in parallel:  60%|██████    | 2551/4233 [05:45<03:02,  9.20it/s]"
          ]
        },
        {
          "output_type": "stream",
          "name": "stdout",
          "text": [
            "Successfully fetched https://www.churchofjesuschrist.org/study/general-conference/1991/10/the-sustaining-of-church-officers?lang=engSuccessfully fetched https://www.churchofjesuschrist.org/study/general-conference/1991/10/covenants-and-ordinances?lang=eng\n",
            "Successfully fetched https://www.churchofjesuschrist.org/study/general-conference/1991/10/the-ultimate-inheritance-an-allegory?lang=eng\n",
            "Successfully fetched https://www.churchofjesuschrist.org/study/general-conference/1991/10/the-lords-day?lang=eng\n",
            "\n",
            "Successfully fetched https://www.churchofjesuschrist.org/study/general-conference/1991/10/bring-up-your-children-in-light-and-truth?lang=eng\n",
            "Successfully fetched https://www.churchofjesuschrist.org/study/general-conference/1991/10/saturday-morning-session?lang=eng\n",
            "Successfully fetched https://www.churchofjesuschrist.org/study/general-conference/1991/10/the-family-of-the-prophet-joseph-smith?lang=eng\n",
            "Successfully fetched https://www.churchofjesuschrist.org/study/general-conference/1991/10/jesus-the-christ?lang=eng\n",
            "Successfully fetched https://www.churchofjesuschrist.org/study/general-conference/1991/10/repentance?lang=eng\n",
            "Successfully fetched https://www.churchofjesuschrist.org/study/general-conference/1991/10/our-solemn-responsibilities?lang=eng\n"
          ]
        },
        {
          "output_type": "stream",
          "name": "stderr",
          "text": [
            "Scraping talks in parallel:  61%|██████    | 2562/4233 [05:47<03:23,  8.20it/s]"
          ]
        },
        {
          "output_type": "stream",
          "name": "stdout",
          "text": [
            "Successfully fetched https://www.churchofjesuschrist.org/study/general-conference/1991/10/christ-is-the-light-to-all-mankind?lang=engSuccessfully fetched https://www.churchofjesuschrist.org/study/general-conference/1991/10/the-conversion-process?lang=eng\n",
            "Successfully fetched https://www.churchofjesuschrist.org/study/general-conference/1991/10/be-an-example-of-the-believers?lang=eng\n",
            "Successfully fetched https://www.churchofjesuschrist.org/study/general-conference/1991/10/the-gospel-a-global-faith?lang=eng\n",
            "\n"
          ]
        },
        {
          "output_type": "stream",
          "name": "stderr",
          "text": [
            "\rScraping talks in parallel:  61%|██████    | 2565/4233 [05:47<03:19,  8.37it/s]"
          ]
        },
        {
          "output_type": "stream",
          "name": "stdout",
          "text": [
            "Successfully fetched https://www.churchofjesuschrist.org/study/general-conference/1991/10/joy-and-mercy?lang=eng\n",
            "Successfully fetched https://www.churchofjesuschrist.org/study/general-conference/1991/10/testimony?lang=eng\n"
          ]
        },
        {
          "output_type": "stream",
          "name": "stderr",
          "text": [
            "\rScraping talks in parallel:  61%|██████    | 2568/4233 [05:47<03:16,  8.46it/s]"
          ]
        },
        {
          "output_type": "stream",
          "name": "stdout",
          "text": [
            "Successfully fetched https://www.churchofjesuschrist.org/study/general-conference/1991/10/be-thou-an-example?lang=eng\n",
            "Successfully fetched https://www.churchofjesuschrist.org/study/general-conference/1991/10/our-mission-of-saving?lang=eng\n"
          ]
        },
        {
          "output_type": "stream",
          "name": "stderr",
          "text": [
            "\rScraping talks in parallel:  61%|██████    | 2570/4233 [05:48<03:20,  8.29it/s]"
          ]
        },
        {
          "output_type": "stream",
          "name": "stdout",
          "text": [
            "Successfully fetched https://www.churchofjesuschrist.org/study/general-conference/1991/10/rejoice-in-every-good-thing?lang=eng\n",
            "Successfully fetched https://www.churchofjesuschrist.org/study/general-conference/1991/10/the-dual-aspects-of-prayer?lang=eng\n",
            "Successfully fetched https://www.churchofjesuschrist.org/study/general-conference/1991/10/becoming-self-reliant?lang=eng\n",
            "Successfully fetched https://www.churchofjesuschrist.org/study/general-conference/1991/10/these-are-your-days?lang=eng\n"
          ]
        },
        {
          "output_type": "stream",
          "name": "stderr",
          "text": [
            "\rScraping talks in parallel:  61%|██████    | 2573/4233 [05:48<03:26,  8.06it/s]"
          ]
        },
        {
          "output_type": "stream",
          "name": "stdout",
          "text": [
            "Successfully fetched https://www.churchofjesuschrist.org/study/general-conference/1991/10/daughters-of-god?lang=eng\n",
            "Successfully fetched https://www.churchofjesuschrist.org/study/general-conference/1991/10/obtaining-help-from-the-lord?lang=eng\n",
            "Successfully fetched https://www.churchofjesuschrist.org/study/general-conference/1991/10/to-a-missionary-son?lang=eng\n"
          ]
        },
        {
          "output_type": "stream",
          "name": "stderr",
          "text": [
            "\rScraping talks in parallel:  61%|██████    | 2575/4233 [05:49<04:28,  6.18it/s]"
          ]
        },
        {
          "output_type": "stream",
          "name": "stdout",
          "text": [
            "Successfully fetched https://www.churchofjesuschrist.org/study/general-conference/1991/10/fruits-of-the-restored-gospel-of-jesus-christ?lang=eng\n",
            "Successfully fetched https://www.churchofjesuschrist.org/study/general-conference/1991/10/the-lord-bless-you?lang=eng\n"
          ]
        },
        {
          "output_type": "stream",
          "name": "stderr",
          "text": [
            "Scraping talks in parallel:  61%|██████    | 2583/4233 [05:49<02:11, 12.56it/s]"
          ]
        },
        {
          "output_type": "stream",
          "name": "stdout",
          "text": [
            "Successfully fetched https://www.churchofjesuschrist.org/study/general-conference/1991/10/follow-christ-in-word-and-deed?lang=eng\n",
            "Successfully fetched https://www.churchofjesuschrist.org/study/general-conference/1991/10/called-to-serve?lang=eng\n",
            "Successfully fetched https://www.churchofjesuschrist.org/study/general-conference/1991/10/today-a-day-of-eternity?lang=eng\n",
            "Successfully fetched https://www.churchofjesuschrist.org/study/general-conference/1991/04/repentance?lang=eng\n",
            "Successfully fetched https://www.churchofjesuschrist.org/study/general-conference/1991/04/beware-lest-thou-forget-the-lord?lang=eng\n",
            "Successfully fetched https://www.churchofjesuschrist.org/study/general-conference/1991/10/the-call-an-eternal-miracle?lang=eng\n",
            "Successfully fetched https://www.churchofjesuschrist.org/study/general-conference/1991/10/reverence-invites-revelation?lang=eng\n"
          ]
        },
        {
          "output_type": "stream",
          "name": "stderr",
          "text": [
            "\rScraping talks in parallel:  61%|██████    | 2586/4233 [05:50<03:56,  6.98it/s]"
          ]
        },
        {
          "output_type": "stream",
          "name": "stdout",
          "text": [
            "Successfully fetched https://www.churchofjesuschrist.org/study/general-conference/1991/04/sunday-worship-service?lang=eng\n",
            "Successfully fetched https://www.churchofjesuschrist.org/study/general-conference/1991/04/to-draw-closer-to-god?lang=eng\n",
            "Successfully fetched https://www.churchofjesuschrist.org/study/general-conference/1991/04/statistical-report-1990?lang=eng\n",
            "Successfully fetched https://www.churchofjesuschrist.org/study/general-conference/1991/04/before-i-build-a-wall?lang=eng\n",
            "Successfully fetched https://www.churchofjesuschrist.org/study/general-conference/1991/04/the-moving-of-the-water?lang=eng\n"
          ]
        },
        {
          "output_type": "stream",
          "name": "stderr",
          "text": [
            "Scraping talks in parallel:  61%|██████▏   | 2597/4233 [05:51<02:04, 13.10it/s]"
          ]
        },
        {
          "output_type": "stream",
          "name": "stdout",
          "text": [
            "Successfully fetched https://www.churchofjesuschrist.org/study/general-conference/1991/04/the-church-audit-committee-report?lang=eng\n",
            "Successfully fetched https://www.churchofjesuschrist.org/study/general-conference/1991/04/a-voice-of-gladness?lang=eng\n",
            "Successfully fetched https://www.churchofjesuschrist.org/study/general-conference/1991/04/a-crown-of-thorns-a-crown-of-glory?lang=eng\n",
            "Successfully fetched https://www.churchofjesuschrist.org/study/general-conference/1991/04/teach-the-children?lang=eng\n",
            "Successfully fetched https://www.churchofjesuschrist.org/study/general-conference/1991/04/prophets?lang=eng\n",
            "Successfully fetched https://www.churchofjesuschrist.org/study/general-conference/1991/04/called-to-serve?lang=eng\n",
            "Successfully fetched https://www.churchofjesuschrist.org/study/general-conference/1991/04/change?lang=eng\n",
            "Successfully fetched https://www.churchofjesuschrist.org/study/general-conference/1991/04/listen-to-learn?lang=engSuccessfully fetched https://www.churchofjesuschrist.org/study/general-conference/1991/04/yagottawanna?lang=eng\n",
            "Successfully fetched https://www.churchofjesuschrist.org/study/general-conference/1991/04/the-state-of-the-church?lang=eng\n",
            "\n"
          ]
        },
        {
          "output_type": "stream",
          "name": "stderr",
          "text": [
            "\rScraping talks in parallel:  61%|██████▏   | 2600/4233 [05:52<03:42,  7.36it/s]"
          ]
        },
        {
          "output_type": "stream",
          "name": "stdout",
          "text": [
            "Successfully fetched https://www.churchofjesuschrist.org/study/general-conference/1991/04/peace-within?lang=eng\n",
            "Successfully fetched https://www.churchofjesuschrist.org/study/general-conference/1991/04/peace?lang=eng\n"
          ]
        },
        {
          "output_type": "stream",
          "name": "stderr",
          "text": [
            "Scraping talks in parallel:  62%|██████▏   | 2604/4233 [05:52<03:07,  8.71it/s]"
          ]
        },
        {
          "output_type": "stream",
          "name": "stdout",
          "text": [
            "Successfully fetched https://www.churchofjesuschrist.org/study/general-conference/1991/04/honour-thy-father-and-thy-mother?lang=eng\n",
            "Successfully fetched https://www.churchofjesuschrist.org/study/general-conference/1991/04/the-sixth-day-of-april-1830?lang=eng\n"
          ]
        },
        {
          "output_type": "stream",
          "name": "stderr",
          "text": [
            "\rScraping talks in parallel:  62%|██████▏   | 2610/4233 [05:52<02:08, 12.65it/s]"
          ]
        },
        {
          "output_type": "stream",
          "name": "stdout",
          "text": [
            "Successfully fetched https://www.churchofjesuschrist.org/study/general-conference/1991/04/lest-ye-be-wearied-and-faint-in-your-minds?lang=eng\n",
            "Successfully fetched https://www.churchofjesuschrist.org/study/general-conference/1991/04/the-power-of-prayer?lang=eng\n",
            "Successfully fetched https://www.churchofjesuschrist.org/study/general-conference/1991/04/a-pattern-of-righteousness?lang=eng\n",
            "Successfully fetched https://www.churchofjesuschrist.org/study/general-conference/1991/04/the-savior-and-joseph-smith-alike-yet-unlike?lang=eng\n",
            "Successfully fetched https://www.churchofjesuschrist.org/study/general-conference/1991/04/to-honor-the-priesthood?lang=eng\n",
            "Successfully fetched https://www.churchofjesuschrist.org/study/general-conference/1991/04/a-royal-priesthood?lang=eng\n",
            "Successfully fetched https://www.churchofjesuschrist.org/study/general-conference/1991/04/what-god-hath-joined-together?lang=eng\n",
            "Successfully fetched https://www.churchofjesuschrist.org/study/general-conference/1991/04/the-sustaining-of-church-officers?lang=eng\n"
          ]
        },
        {
          "output_type": "stream",
          "name": "stderr",
          "text": [
            "\rScraping talks in parallel:  62%|██████▏   | 2612/4233 [05:53<03:13,  8.36it/s]"
          ]
        },
        {
          "output_type": "stream",
          "name": "stdout",
          "text": [
            "Successfully fetched https://www.churchofjesuschrist.org/study/general-conference/1991/04/linking-the-family-of-man?lang=eng\n"
          ]
        },
        {
          "output_type": "stream",
          "name": "stderr",
          "text": [
            "\rScraping talks in parallel:  62%|██████▏   | 2614/4233 [05:53<03:36,  7.49it/s]"
          ]
        },
        {
          "output_type": "stream",
          "name": "stdout",
          "text": [
            "Successfully fetched https://www.churchofjesuschrist.org/study/general-conference/1991/04/his-latter-day-kingdom-has-been-established?lang=eng\n",
            "Successfully fetched https://www.churchofjesuschrist.org/study/general-conference/1991/04/never-alone?lang=eng\n",
            "Successfully fetched https://www.churchofjesuschrist.org/study/general-conference/1991/04/saturday-morning-session?lang=eng\n",
            "Successfully fetched https://www.churchofjesuschrist.org/study/general-conference/1991/04/redemption-of-the-dead?lang=eng\n"
          ]
        },
        {
          "output_type": "stream",
          "name": "stderr",
          "text": [
            "\rScraping talks in parallel:  62%|██████▏   | 2620/4233 [05:54<02:31, 10.68it/s]"
          ]
        },
        {
          "output_type": "stream",
          "name": "stdout",
          "text": [
            "Successfully fetched https://www.churchofjesuschrist.org/study/general-conference/1990/10/put-off-the-natural-man-and-come-off-conqueror?lang=eng\n",
            "Successfully fetched https://www.churchofjesuschrist.org/study/general-conference/1990/10/god-be-with-you-till-we-meet-again?lang=eng\n",
            "Successfully fetched https://www.churchofjesuschrist.org/study/general-conference/1990/10/the-many-witnesses-of-jesus-christ-and-his-work?lang=eng\n",
            "Successfully fetched https://www.churchofjesuschrist.org/study/general-conference/1990/10/the-resurrection?lang=eng\n",
            "Successfully fetched https://www.churchofjesuschrist.org/study/general-conference/1990/10/in-counsellors-there-is-safety?lang=eng\n",
            "Successfully fetched https://www.churchofjesuschrist.org/study/general-conference/1991/04/making-the-right-decisions?lang=eng\n",
            "Successfully fetched https://www.churchofjesuschrist.org/study/general-conference/1990/10/that-we-may-touch-heaven?lang=eng\n"
          ]
        },
        {
          "output_type": "stream",
          "name": "stderr",
          "text": [
            "\rScraping talks in parallel:  62%|██████▏   | 2624/4233 [05:54<03:24,  7.87it/s]"
          ]
        },
        {
          "output_type": "stream",
          "name": "stdout",
          "text": [
            "Successfully fetched https://www.churchofjesuschrist.org/study/general-conference/1990/10/the-word-of-wisdom?lang=eng\n",
            "Successfully fetched https://www.churchofjesuschrist.org/study/general-conference/1990/10/the-value-of-a-testimony?lang=eng\n",
            "Successfully fetched https://www.churchofjesuschrist.org/study/general-conference/1990/10/serve-god-acceptably-with-reverence-and-godly-fear?lang=eng\n",
            "Successfully fetched https://www.churchofjesuschrist.org/study/general-conference/1990/10/temples-and-work-therein?lang=eng\n"
          ]
        },
        {
          "output_type": "stream",
          "name": "stderr",
          "text": [
            "Scraping talks in parallel:  62%|██████▏   | 2634/4233 [05:55<01:59, 13.36it/s]"
          ]
        },
        {
          "output_type": "stream",
          "name": "stdout",
          "text": [
            "Successfully fetched https://www.churchofjesuschrist.org/study/general-conference/1990/10/the-greatest-challenge-in-the-world-good-parenting?lang=eng\n",
            "Successfully fetched https://www.churchofjesuschrist.org/study/general-conference/1990/10/days-never-to-be-forgotten?lang=eng\n",
            "Successfully fetched https://www.churchofjesuschrist.org/study/general-conference/1990/10/the-sustaining-of-church-officers?lang=eng\n",
            "Successfully fetched https://www.churchofjesuschrist.org/study/general-conference/1990/10/what-is-truth?lang=eng\n",
            "Successfully fetched https://www.churchofjesuschrist.org/study/general-conference/1990/10/the-lighthouse-of-the-lord?lang=engSuccessfully fetched https://www.churchofjesuschrist.org/study/general-conference/1990/10/follow-the-prophets?lang=engSuccessfully fetched https://www.churchofjesuschrist.org/study/general-conference/1990/10/the-straight-and-narrow-way?lang=eng\n",
            "\n",
            "Successfully fetched https://www.churchofjesuschrist.org/study/general-conference/1990/10/no-more-strangers-and-foreigners?lang=eng\n",
            "\n",
            "Successfully fetched https://www.churchofjesuschrist.org/study/general-conference/1990/10/purity-precedes-power?lang=eng\n",
            "Successfully fetched https://www.churchofjesuschrist.org/study/general-conference/1990/10/covenants?lang=eng\n",
            "Successfully fetched https://www.churchofjesuschrist.org/study/general-conference/1990/10/an-eternal-key?lang=eng\n"
          ]
        },
        {
          "output_type": "stream",
          "name": "stderr",
          "text": [
            "Scraping talks in parallel:  62%|██████▏   | 2645/4233 [05:56<02:20, 11.34it/s]"
          ]
        },
        {
          "output_type": "stream",
          "name": "stdout",
          "text": [
            "Successfully fetched https://www.churchofjesuschrist.org/study/general-conference/1990/10/follow-the-prophet?lang=eng\n",
            "Successfully fetched https://www.churchofjesuschrist.org/study/general-conference/1990/10/choices?lang=eng\n",
            "Successfully fetched https://www.churchofjesuschrist.org/study/general-conference/1990/10/hour-of-conversion?lang=eng\n",
            "Successfully fetched https://www.churchofjesuschrist.org/study/general-conference/1990/10/a-pattern-in-all-things?lang=eng\n",
            "Successfully fetched https://www.churchofjesuschrist.org/study/general-conference/1990/10/saturday-morning-session?lang=eng\n",
            "Successfully fetched https://www.churchofjesuschrist.org/study/general-conference/1990/10/kindness-a-part-of-gods-plan?lang=eng\n"
          ]
        },
        {
          "output_type": "stream",
          "name": "stderr",
          "text": [
            "\rScraping talks in parallel:  63%|██████▎   | 2648/4233 [05:57<02:45,  9.56it/s]"
          ]
        },
        {
          "output_type": "stream",
          "name": "stdout",
          "text": [
            "Successfully fetched https://www.churchofjesuschrist.org/study/general-conference/1990/10/mormon-should-mean-more-good?lang=eng\n",
            "Successfully fetched https://www.churchofjesuschrist.org/study/general-conference/1990/10/this-work-will-go-forward?lang=eng\n",
            "Successfully fetched https://www.churchofjesuschrist.org/study/general-conference/1990/10/draw-strength-from-the-book-of-mormon?lang=eng\n",
            "Successfully fetched https://www.churchofjesuschrist.org/study/general-conference/1990/10/happiness-is-homemade?lang=eng\n",
            "Successfully fetched https://www.churchofjesuschrist.org/study/general-conference/1990/10/witnesses-of-christ?lang=eng\n",
            "Successfully fetched https://www.churchofjesuschrist.org/study/general-conference/1990/10/redemption-the-harvest-of-love?lang=eng\n",
            "Successfully fetched https://www.churchofjesuschrist.org/study/general-conference/1990/10/in-all-things-give-thanks?lang=eng\n",
            "Successfully fetched https://www.churchofjesuschrist.org/study/general-conference/1990/10/changing-channels?lang=eng\n"
          ]
        },
        {
          "output_type": "stream",
          "name": "stderr",
          "text": [
            "\rScraping talks in parallel:  63%|██████▎   | 2651/4233 [05:57<03:50,  6.88it/s]"
          ]
        },
        {
          "output_type": "stream",
          "name": "stdout",
          "text": [
            "Successfully fetched https://www.churchofjesuschrist.org/study/general-conference/1990/10/these-things-are-manifested-unto-us-plainly?lang=eng\n",
            "Successfully fetched https://www.churchofjesuschrist.org/study/general-conference/1990/10/crickets-can-be-destroyed-through-spirituality?lang=eng\n",
            "Successfully fetched https://www.churchofjesuschrist.org/study/general-conference/1990/10/a-thousand-times?lang=eng\n"
          ]
        },
        {
          "output_type": "stream",
          "name": "stderr",
          "text": [
            "Scraping talks in parallel:  63%|██████▎   | 2663/4233 [05:58<02:11, 11.90it/s]"
          ]
        },
        {
          "output_type": "stream",
          "name": "stdout",
          "text": [
            "Successfully fetched https://www.churchofjesuschrist.org/study/general-conference/1990/10/come-unto-me?lang=eng\n",
            "Successfully fetched https://www.churchofjesuschrist.org/study/general-conference/1990/04/preparing-the-heart?lang=eng\n",
            "Successfully fetched https://www.churchofjesuschrist.org/study/general-conference/1990/04/sacred-resolves?lang=eng\n",
            "Successfully fetched https://www.churchofjesuschrist.org/study/general-conference/1990/04/ye-have-done-it-unto-me?lang=eng\n",
            "Successfully fetched https://www.churchofjesuschrist.org/study/general-conference/1990/04/saturday-morning-session?lang=eng\n",
            "Successfully fetched https://www.churchofjesuschrist.org/study/general-conference/1990/04/keeping-the-temple-holy?lang=eng\n",
            "Successfully fetched https://www.churchofjesuschrist.org/study/general-conference/1990/04/teachings-of-a-loving-father?lang=eng\n",
            "Successfully fetched https://www.churchofjesuschrist.org/study/general-conference/1990/04/teach-them-correct-principles?lang=eng\n",
            "Successfully fetched https://www.churchofjesuschrist.org/study/general-conference/1990/04/the-motorcycle-ride?lang=eng\n",
            "Successfully fetched https://www.churchofjesuschrist.org/study/general-conference/1990/04/a-latter-day-samaritan?lang=eng\n",
            "Successfully fetched https://www.churchofjesuschrist.org/study/general-conference/1990/04/my-brothers-keeper?lang=eng\n",
            "Successfully fetched https://www.churchofjesuschrist.org/study/general-conference/1990/04/world-peace?lang=eng\n",
            "Successfully fetched https://www.churchofjesuschrist.org/study/general-conference/1990/04/statistical-report-1989?lang=eng\n",
            "Successfully fetched https://www.churchofjesuschrist.org/study/general-conference/1990/04/filling-the-whole-earth?lang=eng\n",
            "Successfully fetched https://www.churchofjesuschrist.org/study/general-conference/1990/04/finding-the-way-back?lang=eng\n"
          ]
        },
        {
          "output_type": "stream",
          "name": "stderr",
          "text": [
            "\rScraping talks in parallel:  63%|██████▎   | 2666/4233 [05:59<03:52,  6.74it/s]"
          ]
        },
        {
          "output_type": "stream",
          "name": "stdout",
          "text": [
            "Successfully fetched https://www.churchofjesuschrist.org/study/general-conference/1990/04/some-scriptural-lessons-on-leadership?lang=eng\n",
            "Successfully fetched https://www.churchofjesuschrist.org/study/general-conference/1990/04/instruments-to-accomplish-his-purposes?lang=eng\n",
            "Successfully fetched https://www.churchofjesuschrist.org/study/general-conference/1990/04/small-and-simple-things?lang=eng\n",
            "Successfully fetched https://www.churchofjesuschrist.org/study/general-conference/1990/04/home-first?lang=eng\n",
            "Successfully fetched https://www.churchofjesuschrist.org/study/general-conference/1990/04/standing-as-witnesses-of-god?lang=eng\n"
          ]
        },
        {
          "output_type": "stream",
          "name": "stderr",
          "text": [
            "\rScraping talks in parallel:  63%|██████▎   | 2674/4233 [06:00<03:01,  8.57it/s]"
          ]
        },
        {
          "output_type": "stream",
          "name": "stdout",
          "text": [
            "Successfully fetched https://www.churchofjesuschrist.org/study/general-conference/1990/04/the-lords-way?lang=eng\n",
            "Successfully fetched https://www.churchofjesuschrist.org/study/general-conference/1990/04/who-is-a-true-friend?lang=eng\n",
            "Successfully fetched https://www.churchofjesuschrist.org/study/general-conference/1990/04/rise-to-a-larger-vision-of-the-work?lang=eng\n",
            "Successfully fetched https://www.churchofjesuschrist.org/study/general-conference/1990/04/the-greatest-joy?lang=eng\n",
            "Successfully fetched https://www.churchofjesuschrist.org/study/general-conference/1990/04/choose-you-this-day?lang=eng\n"
          ]
        },
        {
          "output_type": "stream",
          "name": "stderr",
          "text": [
            "\rScraping talks in parallel:  63%|██████▎   | 2678/4233 [06:01<04:32,  5.71it/s]"
          ]
        },
        {
          "output_type": "stream",
          "name": "stdout",
          "text": [
            "Successfully fetched https://www.churchofjesuschrist.org/study/general-conference/1990/04/the-resurrection?lang=eng\n"
          ]
        },
        {
          "output_type": "stream",
          "name": "stderr",
          "text": [
            "Scraping talks in parallel:  63%|██████▎   | 2685/4233 [06:01<03:12,  8.06it/s]"
          ]
        },
        {
          "output_type": "stream",
          "name": "stdout",
          "text": [
            "Successfully fetched https://www.churchofjesuschrist.org/study/general-conference/1990/04/neither-boast-of-faith-nor-of-mighty-works?lang=eng\n",
            "Successfully fetched https://www.churchofjesuschrist.org/study/general-conference/1990/04/thus-shall-my-church-be-called?lang=eng\n",
            "Successfully fetched https://www.churchofjesuschrist.org/study/general-conference/1990/04/one-small-step-for-a-man-one-giant-leap-for-mankind?lang=eng\n",
            "Successfully fetched https://www.churchofjesuschrist.org/study/general-conference/1990/04/the-spirituality-of-service?lang=eng\n",
            "Successfully fetched https://www.churchofjesuschrist.org/study/general-conference/1990/04/endure-it-well?lang=eng\n",
            "Successfully fetched https://www.churchofjesuschrist.org/study/general-conference/1990/04/blessed-are-the-merciful?lang=eng\n"
          ]
        },
        {
          "output_type": "stream",
          "name": "stderr",
          "text": [
            "\rScraping talks in parallel:  64%|██████▎   | 2688/4233 [06:02<03:54,  6.58it/s]"
          ]
        },
        {
          "output_type": "stream",
          "name": "stdout",
          "text": [
            "Successfully fetched https://www.churchofjesuschrist.org/study/general-conference/1990/04/conference-is-here?lang=eng\n",
            "Successfully fetched https://www.churchofjesuschrist.org/study/general-conference/1990/04/the-library-of-the-lord?lang=eng\n",
            "Successfully fetched https://www.churchofjesuschrist.org/study/general-conference/1990/04/a-little-child-shall-lead-them?lang=eng\n",
            "Successfully fetched https://www.churchofjesuschrist.org/study/general-conference/1990/04/family-traditions?lang=eng\n"
          ]
        },
        {
          "output_type": "stream",
          "name": "stderr",
          "text": [
            "Scraping talks in parallel:  64%|██████▍   | 2699/4233 [06:03<02:27, 10.43it/s]"
          ]
        },
        {
          "output_type": "stream",
          "name": "stdout",
          "text": [
            "Successfully fetched https://www.churchofjesuschrist.org/study/general-conference/1990/04/personal-integrity?lang=eng\n",
            "Successfully fetched https://www.churchofjesuschrist.org/study/general-conference/1990/04/i-will-go-and-do?lang=eng\n",
            "Successfully fetched https://www.churchofjesuschrist.org/study/general-conference/1990/04/the-aaronic-priesthood-return-with-honor?lang=eng\n",
            "Successfully fetched https://www.churchofjesuschrist.org/study/general-conference/1990/04/the-church-audit-committee-report?lang=eng\n",
            "Successfully fetched https://www.churchofjesuschrist.org/study/general-conference/1989/10/the-golden-thread-of-choice?lang=eng\n",
            "Successfully fetched https://www.churchofjesuschrist.org/study/general-conference/1989/10/an-eye-single-to-the-glory-of-god?lang=eng\n",
            "Successfully fetched https://www.churchofjesuschrist.org/study/general-conference/1989/10/follow-him?lang=eng\n",
            "Successfully fetched https://www.churchofjesuschrist.org/study/general-conference/1990/04/gratitude-as-a-saving-principle?lang=eng\n",
            "Successfully fetched https://www.churchofjesuschrist.org/study/general-conference/1989/10/chastity-the-source-of-true-manhood?lang=eng\n",
            "Successfully fetched https://www.churchofjesuschrist.org/study/general-conference/1990/04/the-sustaining-of-church-officers?lang=eng\n",
            "Successfully fetched https://www.churchofjesuschrist.org/study/general-conference/1989/10/running-your-marathon?lang=eng\n",
            "Successfully fetched https://www.churchofjesuschrist.org/study/general-conference/1989/10/windows?lang=eng\n"
          ]
        },
        {
          "output_type": "stream",
          "name": "stderr",
          "text": [
            "Scraping talks in parallel:  64%|██████▍   | 2709/4233 [06:04<02:34,  9.87it/s]"
          ]
        },
        {
          "output_type": "stream",
          "name": "stdout",
          "text": [
            "Successfully fetched https://www.churchofjesuschrist.org/study/general-conference/1989/10/learning-to-recognize-answers-to-prayer?lang=eng\n",
            "Successfully fetched https://www.churchofjesuschrist.org/study/general-conference/1989/10/the-sustaining-of-church-officers?lang=eng\n"
          ]
        },
        {
          "output_type": "stream",
          "name": "stderr",
          "text": [
            "\rScraping talks in parallel:  64%|██████▍   | 2712/4233 [06:05<02:18, 10.94it/s]"
          ]
        },
        {
          "output_type": "stream",
          "name": "stdout",
          "text": [
            "Successfully fetched https://www.churchofjesuschrist.org/study/general-conference/1989/10/remembrance-and-gratitude?lang=eng\n",
            "Successfully fetched https://www.churchofjesuschrist.org/study/general-conference/1989/10/he-loved-them-unto-the-end?lang=eng\n",
            "Successfully fetched https://www.churchofjesuschrist.org/study/general-conference/1989/10/identity-of-a-young-woman?lang=eng\n",
            "Successfully fetched https://www.churchofjesuschrist.org/study/general-conference/1989/10/look-to-the-savior?lang=eng\n",
            "Successfully fetched https://www.churchofjesuschrist.org/study/general-conference/1989/10/the-scourge-of-illicit-drugs?lang=eng\n",
            "Successfully fetched https://www.churchofjesuschrist.org/study/general-conference/1989/10/good-memories-are-real-blessings?lang=eng\n",
            "Successfully fetched https://www.churchofjesuschrist.org/study/general-conference/1989/10/overcoming-adversity?lang=eng\n",
            "Successfully fetched https://www.churchofjesuschrist.org/study/general-conference/1989/10/a-word-of-benediction?lang=eng\n",
            "Successfully fetched https://www.churchofjesuschrist.org/study/general-conference/1989/10/murmur-not?lang=eng\n",
            "Successfully fetched https://www.churchofjesuschrist.org/study/general-conference/1989/10/the-value-of-preparation?lang=eng\n"
          ]
        },
        {
          "output_type": "stream",
          "name": "stderr",
          "text": [
            "Scraping talks in parallel:  64%|██████▍   | 2720/4233 [06:06<02:39,  9.50it/s]"
          ]
        },
        {
          "output_type": "stream",
          "name": "stdout",
          "text": [
            "Successfully fetched https://www.churchofjesuschrist.org/study/general-conference/1989/10/stalwart-and-brave-we-stand?lang=eng\n",
            "Successfully fetched https://www.churchofjesuschrist.org/study/general-conference/1989/10/to-the-elderly-in-the-church?lang=eng\n",
            "Successfully fetched https://www.churchofjesuschrist.org/study/general-conference/1989/10/a-lifetime-of-learning?lang=eng\n",
            "Successfully fetched https://www.churchofjesuschrist.org/study/general-conference/1989/10/duties-rewards-and-risks?lang=eng\n",
            "Successfully fetched https://www.churchofjesuschrist.org/study/general-conference/1989/10/keep-the-faith?lang=eng\n",
            "Successfully fetched https://www.churchofjesuschrist.org/study/general-conference/1989/10/revelation-in-a-changing-world?lang=eng\n",
            "Successfully fetched https://www.churchofjesuschrist.org/study/general-conference/1989/10/love?lang=eng\n",
            "Successfully fetched https://www.churchofjesuschrist.org/study/general-conference/1989/10/saturday-morning-session?lang=eng\n",
            "Successfully fetched https://www.churchofjesuschrist.org/study/general-conference/1989/10/woman-of-infinite-worth?lang=eng\n"
          ]
        },
        {
          "output_type": "stream",
          "name": "stderr",
          "text": [
            "\rScraping talks in parallel:  64%|██████▍   | 2724/4233 [06:07<03:37,  6.95it/s]"
          ]
        },
        {
          "output_type": "stream",
          "name": "stdout",
          "text": [
            "Successfully fetched https://www.churchofjesuschrist.org/study/general-conference/1989/10/remember-him?lang=eng\n",
            "Successfully fetched https://www.churchofjesuschrist.org/study/general-conference/1989/10/the-sacrament-and-the-sacrifice?lang=eng\n"
          ]
        },
        {
          "output_type": "stream",
          "name": "stderr",
          "text": [
            "Scraping talks in parallel:  64%|██████▍   | 2730/4233 [06:07<02:32,  9.85it/s]"
          ]
        },
        {
          "output_type": "stream",
          "name": "stdout",
          "text": [
            "Successfully fetched https://www.churchofjesuschrist.org/study/general-conference/1989/10/an-ensign-to-the-nations?lang=engSuccessfully fetched https://www.churchofjesuschrist.org/study/general-conference/1989/10/the-summer-of-the-lambs?lang=eng\n",
            "\n",
            "Successfully fetched https://www.churchofjesuschrist.org/study/general-conference/1989/10/modern-pioneers?lang=eng\n",
            "Successfully fetched https://www.churchofjesuschrist.org/study/general-conference/1989/10/the-service-that-counts?lang=eng\n",
            "Successfully fetched https://www.churchofjesuschrist.org/study/general-conference/1989/10/rise-to-the-stature-of-the-divine-within-you?lang=eng\n"
          ]
        },
        {
          "output_type": "stream",
          "name": "stderr",
          "text": [
            "\rScraping talks in parallel:  65%|██████▍   | 2734/4233 [06:07<02:25, 10.33it/s]"
          ]
        },
        {
          "output_type": "stream",
          "name": "stdout",
          "text": [
            "Successfully fetched https://www.churchofjesuschrist.org/study/general-conference/1989/10/continuous-revelation?lang=eng\n",
            "Successfully fetched https://www.churchofjesuschrist.org/study/general-conference/1989/10/the-peaceable-followers-of-christ?lang=eng\n",
            "Successfully fetched https://www.churchofjesuschrist.org/study/general-conference/1989/10/winding-up-our-spiritual-clocks?lang=eng\n",
            "Successfully fetched https://www.churchofjesuschrist.org/study/general-conference/1989/04/statistical-report-1988?lang=eng\n",
            "Successfully fetched https://www.churchofjesuschrist.org/study/general-conference/1989/04/thanks-be-to-god?lang=eng\n"
          ]
        },
        {
          "output_type": "stream",
          "name": "stderr",
          "text": [
            "\rScraping talks in parallel:  65%|██████▍   | 2737/4233 [06:08<02:40,  9.31it/s]"
          ]
        },
        {
          "output_type": "stream",
          "name": "stdout",
          "text": [
            "Successfully fetched https://www.churchofjesuschrist.org/study/general-conference/1989/04/follow-the-prophet?lang=eng\n",
            "Successfully fetched https://www.churchofjesuschrist.org/study/general-conference/1989/04/now-is-the-time?lang=eng\n",
            "Successfully fetched https://www.churchofjesuschrist.org/study/general-conference/1989/04/the-god-that-doest-wonders?lang=eng\n",
            "Successfully fetched https://www.churchofjesuschrist.org/study/general-conference/1989/04/the-effects-of-television?lang=eng\n",
            "Successfully fetched https://www.churchofjesuschrist.org/study/general-conference/1989/04/irony-the-crust-on-the-bread-of-adversity?lang=eng\n",
            "Successfully fetched https://www.churchofjesuschrist.org/study/general-conference/1989/04/the-gift-of-the-holy-ghost-a-sure-compass?lang=eng\n",
            "Successfully fetched https://www.churchofjesuschrist.org/study/general-conference/1989/04/the-canker-of-contention?lang=eng"
          ]
        },
        {
          "output_type": "stream",
          "name": "stderr",
          "text": [
            "\rScraping talks in parallel:  65%|██████▍   | 2744/4233 [06:09<02:50,  8.75it/s]"
          ]
        },
        {
          "output_type": "stream",
          "name": "stdout",
          "text": [
            "\n",
            "Successfully fetched https://www.churchofjesuschrist.org/study/general-conference/1989/04/making-points-for-righteousness?lang=eng\n",
            "Successfully fetched https://www.churchofjesuschrist.org/study/general-conference/1989/04/magnify-your-calling?lang=eng\n",
            "Successfully fetched https://www.churchofjesuschrist.org/study/general-conference/1989/04/lord-when-saw-we-thee-an-hungred?lang=eng\n",
            "Successfully fetched https://www.churchofjesuschrist.org/study/general-conference/1989/04/our-kindred-family-expression-of-eternal-love?lang=eng\n",
            "Successfully fetched https://www.churchofjesuschrist.org/study/general-conference/1989/04/beware-of-pride?lang=eng\n",
            "Successfully fetched https://www.churchofjesuschrist.org/study/general-conference/1989/04/adversity-and-the-divine-purpose-of-mortality?lang=eng\n"
          ]
        },
        {
          "output_type": "stream",
          "name": "stderr",
          "text": [
            "Scraping talks in parallel:  65%|██████▌   | 2754/4233 [06:09<02:19, 10.64it/s]"
          ]
        },
        {
          "output_type": "stream",
          "name": "stdout",
          "text": [
            "Successfully fetched https://www.churchofjesuschrist.org/study/general-conference/1989/04/to-young-women-and-men?lang=eng\n",
            "Successfully fetched https://www.churchofjesuschrist.org/study/general-conference/1989/04/go-for-it?lang=eng\n",
            "Successfully fetched https://www.churchofjesuschrist.org/study/general-conference/1989/04/the-way-to-perfection?lang=eng\n",
            "Successfully fetched https://www.churchofjesuschrist.org/study/general-conference/1989/04/university-for-eternal-life?lang=eng\n",
            "Successfully fetched https://www.churchofjesuschrist.org/study/general-conference/1989/04/seeds-of-renewal?lang=eng\n",
            "Successfully fetched https://www.churchofjesuschrist.org/study/general-conference/1989/04/on-being-worthy?lang=eng\n",
            "Successfully fetched https://www.churchofjesuschrist.org/study/general-conference/1989/04/alternate-voices?lang=eng\n",
            "Successfully fetched https://www.churchofjesuschrist.org/study/general-conference/1989/04/the-sustaining-of-church-officers?lang=eng\n",
            "Successfully fetched https://www.churchofjesuschrist.org/study/general-conference/1989/04/proclaim-my-gospel-from-land-to-land?lang=eng\n",
            "Successfully fetched https://www.churchofjesuschrist.org/study/general-conference/1989/04/the-beauty-and-importance-of-the-sacrament?lang=eng\n"
          ]
        },
        {
          "output_type": "stream",
          "name": "stderr",
          "text": [
            "\rScraping talks in parallel:  65%|██████▌   | 2757/4233 [06:10<03:46,  6.51it/s]"
          ]
        },
        {
          "output_type": "stream",
          "name": "stdout",
          "text": [
            "Successfully fetched https://www.churchofjesuschrist.org/study/general-conference/1989/04/the-church-audit-committee-report?lang=eng\n",
            "Successfully fetched https://www.churchofjesuschrist.org/study/general-conference/1988/10/the-priesthood-of-god?lang=eng\n",
            "Successfully fetched https://www.churchofjesuschrist.org/study/general-conference/1989/04/trust-in-the-lord?lang=eng\n",
            "Successfully fetched https://www.churchofjesuschrist.org/study/general-conference/1989/04/to-the-children-of-the-church?lang=eng\n",
            "Successfully fetched https://www.churchofjesuschrist.org/study/general-conference/1989/04/saturday-morning-session?lang=eng\n",
            "Successfully fetched https://www.churchofjesuschrist.org/study/general-conference/1989/04/let-love-be-the-lodestar-of-your-life?lang=eng\n",
            "Successfully fetched https://www.churchofjesuschrist.org/study/general-conference/1988/10/we-have-a-work-to-do?lang=engSuccessfully fetched https://www.churchofjesuschrist.org/study/general-conference/1988/10/the-supernal-gift-of-the-atonement?lang=eng\n",
            "\n"
          ]
        },
        {
          "output_type": "stream",
          "name": "stderr",
          "text": [
            "\rScraping talks in parallel:  65%|██████▌   | 2768/4233 [06:11<02:22, 10.27it/s]"
          ]
        },
        {
          "output_type": "stream",
          "name": "stdout",
          "text": [
            "Successfully fetched https://www.churchofjesuschrist.org/study/general-conference/1988/10/to-the-bishops-of-the-church?lang=eng\n",
            "Successfully fetched https://www.churchofjesuschrist.org/study/general-conference/1988/10/becoming-a-prepared-people?lang=eng\n",
            "Successfully fetched https://www.churchofjesuschrist.org/study/general-conference/1988/10/the-healing-power-of-christ?lang=eng\n",
            "Successfully fetched https://www.churchofjesuschrist.org/study/general-conference/1988/10/the-quality-of-eternal-life?lang=eng\n"
          ]
        },
        {
          "output_type": "stream",
          "name": "stderr",
          "text": [
            "Scraping talks in parallel:  66%|██████▌   | 2773/4233 [06:11<02:13, 10.94it/s]"
          ]
        },
        {
          "output_type": "stream",
          "name": "stdout",
          "text": [
            "Successfully fetched https://www.churchofjesuschrist.org/study/general-conference/1988/10/the-hand-of-fellowship?lang=eng\n",
            "Successfully fetched https://www.churchofjesuschrist.org/study/general-conference/1988/10/answer-me?lang=eng\n"
          ]
        },
        {
          "output_type": "stream",
          "name": "stderr",
          "text": [
            "\rScraping talks in parallel:  66%|██████▌   | 2775/4233 [06:12<02:25, 10.03it/s]"
          ]
        },
        {
          "output_type": "stream",
          "name": "stdout",
          "text": [
            "Successfully fetched https://www.churchofjesuschrist.org/study/general-conference/1988/10/children-at-peace?lang=eng\n",
            "Successfully fetched https://www.churchofjesuschrist.org/study/general-conference/1988/10/the-soil-and-roots-of-testimony?lang=eng\n",
            "Successfully fetched https://www.churchofjesuschrist.org/study/general-conference/1988/10/what-think-ye-of-christ?lang=eng\n"
          ]
        },
        {
          "output_type": "stream",
          "name": "stderr",
          "text": [
            "\rScraping talks in parallel:  66%|██████▌   | 2781/4233 [06:12<02:02, 11.84it/s]"
          ]
        },
        {
          "output_type": "stream",
          "name": "stdout",
          "text": [
            "Successfully fetched https://www.churchofjesuschrist.org/study/general-conference/1988/10/a-willing-heart?lang=eng\n",
            "Successfully fetched https://www.churchofjesuschrist.org/study/general-conference/1988/10/christlike-communications?lang=eng\n",
            "Successfully fetched https://www.churchofjesuschrist.org/study/general-conference/1988/10/flooding-the-earth-with-the-book-of-mormon?lang=eng\n",
            "Successfully fetched https://www.churchofjesuschrist.org/study/general-conference/1988/10/to-the-single-adult-sisters-of-the-church?lang=eng\n"
          ]
        },
        {
          "output_type": "stream",
          "name": "stderr",
          "text": [
            "\rScraping talks in parallel:  66%|██████▌   | 2783/4233 [06:12<02:33,  9.44it/s]"
          ]
        },
        {
          "output_type": "stream",
          "name": "stdout",
          "text": [
            "Successfully fetched https://www.churchofjesuschrist.org/study/general-conference/1988/10/goal-beyond-victory?lang=eng\n",
            "Successfully fetched https://www.churchofjesuschrist.org/study/general-conference/1988/10/true-friends-that-lift?lang=eng\n",
            "Successfully fetched https://www.churchofjesuschrist.org/study/general-conference/1988/10/a-more-excellent-way?lang=eng\n",
            "Successfully fetched https://www.churchofjesuschrist.org/study/general-conference/1988/10/making-righteous-choices-at-the-crossroads-of-life?lang=eng\n"
          ]
        },
        {
          "output_type": "stream",
          "name": "stderr",
          "text": [
            "\rScraping talks in parallel:  66%|██████▌   | 2785/4233 [06:13<03:12,  7.53it/s]"
          ]
        },
        {
          "output_type": "stream",
          "name": "stdout",
          "text": [
            "Successfully fetched https://www.churchofjesuschrist.org/study/general-conference/1988/10/addiction-or-freedom?lang=eng\n",
            "Successfully fetched https://www.churchofjesuschrist.org/study/general-conference/1988/10/a-call-to-serve?lang=eng\n"
          ]
        },
        {
          "output_type": "stream",
          "name": "stderr",
          "text": [
            "\rScraping talks in parallel:  66%|██████▌   | 2786/4233 [06:13<03:40,  6.55it/s]"
          ]
        },
        {
          "output_type": "stream",
          "name": "stdout",
          "text": [
            "Successfully fetched https://www.churchofjesuschrist.org/study/general-conference/1988/10/train-up-a-child?lang=eng\n",
            "Successfully fetched https://www.churchofjesuschrist.org/study/general-conference/1988/10/what-went-ye-out-to-see?lang=eng\n",
            "Successfully fetched https://www.churchofjesuschrist.org/study/general-conference/1988/10/choose-the-church?lang=eng\n",
            "Successfully fetched https://www.churchofjesuschrist.org/study/general-conference/1988/10/i-testify?lang=eng\n",
            "Successfully fetched https://www.churchofjesuschrist.org/study/general-conference/1988/10/stand-for-truth-and-righteousness?lang=eng\n"
          ]
        },
        {
          "output_type": "stream",
          "name": "stderr",
          "text": [
            "\rScraping talks in parallel:  66%|██████▌   | 2791/4233 [06:14<03:25,  7.03it/s]"
          ]
        },
        {
          "output_type": "stream",
          "name": "stdout",
          "text": [
            "Successfully fetched https://www.churchofjesuschrist.org/study/general-conference/1988/10/inviting-others-to-come-unto-christ?lang=eng\n",
            "Successfully fetched https://www.churchofjesuschrist.org/study/general-conference/1988/10/the-royal-law-of-love?lang=eng\n",
            "Successfully fetched https://www.churchofjesuschrist.org/study/general-conference/1988/10/hallmarks-of-a-happy-home?lang=eng\n",
            "Successfully fetched https://www.churchofjesuschrist.org/study/general-conference/1988/10/saturday-morning-session?lang=eng\n",
            "Successfully fetched https://www.churchofjesuschrist.org/study/general-conference/1988/10/funerals-a-time-for-reverence?lang=eng\n",
            "Successfully fetched https://www.churchofjesuschrist.org/study/general-conference/1988/10/i-will-follow-gods-plan-for-me?lang=eng\n",
            "Successfully fetched https://www.churchofjesuschrist.org/study/general-conference/1988/10/the-sustaining-of-church-officers?lang=eng\n"
          ]
        },
        {
          "output_type": "stream",
          "name": "stderr",
          "text": [
            "Scraping talks in parallel:  66%|██████▌   | 2795/4233 [06:15<05:11,  4.62it/s]"
          ]
        },
        {
          "output_type": "stream",
          "name": "stdout",
          "text": [
            "Successfully fetched https://www.churchofjesuschrist.org/study/general-conference/1988/10/blessed-from-on-high?lang=eng\n",
            "Successfully fetched https://www.churchofjesuschrist.org/study/general-conference/1988/10/the-measure-of-our-hearts?lang=eng\n"
          ]
        },
        {
          "output_type": "stream",
          "name": "stderr",
          "text": [
            "\rScraping talks in parallel:  66%|██████▌   | 2799/4233 [06:15<03:22,  7.09it/s]"
          ]
        },
        {
          "output_type": "stream",
          "name": "stdout",
          "text": [
            "Successfully fetched https://www.churchofjesuschrist.org/study/general-conference/1988/04/you-make-a-difference?lang=eng\n",
            "Successfully fetched https://www.churchofjesuschrist.org/study/general-conference/1988/04/with-god-nothing-shall-be-impossible?lang=eng\n",
            "Successfully fetched https://www.churchofjesuschrist.org/study/general-conference/1988/04/to-help-a-loved-one-in-need?lang=eng\n",
            "Successfully fetched https://www.churchofjesuschrist.org/study/general-conference/1988/04/teach-children-the-gospel?lang=eng\n",
            "Successfully fetched https://www.churchofjesuschrist.org/study/general-conference/1988/04/what-think-ye-of-christ?lang=eng\n"
          ]
        },
        {
          "output_type": "stream",
          "name": "stderr",
          "text": [
            "Scraping talks in parallel:  66%|██████▋   | 2808/4233 [06:16<02:39,  8.95it/s]"
          ]
        },
        {
          "output_type": "stream",
          "name": "stdout",
          "text": [
            "Successfully fetched https://www.churchofjesuschrist.org/study/general-conference/1988/04/statistical-report-1987?lang=eng\n",
            "Successfully fetched https://www.churchofjesuschrist.org/study/general-conference/1988/04/without-guile?lang=eng\n",
            "Successfully fetched https://www.churchofjesuschrist.org/study/general-conference/1988/04/the-sustaining-of-church-officers?lang=eng\n"
          ]
        },
        {
          "output_type": "stream",
          "name": "stderr",
          "text": [
            "\rScraping talks in parallel:  66%|██████▋   | 2813/4233 [06:16<01:55, 12.26it/s]"
          ]
        },
        {
          "output_type": "stream",
          "name": "stdout",
          "text": [
            "Successfully fetched https://www.churchofjesuschrist.org/study/general-conference/1988/04/an-invitation-to-exaltation?lang=eng\n",
            "Successfully fetched https://www.churchofjesuschrist.org/study/general-conference/1988/04/in-the-world?lang=eng\n",
            "Successfully fetched https://www.churchofjesuschrist.org/study/general-conference/1988/04/the-great-commandment-love-the-lord?lang=eng\n",
            "Successfully fetched https://www.churchofjesuschrist.org/study/general-conference/1988/04/our-lord-and-savior?lang=eng\n",
            "Successfully fetched https://www.churchofjesuschrist.org/study/general-conference/1988/04/the-empty-tomb-bore-testimony?lang=eng\n",
            "Successfully fetched https://www.churchofjesuschrist.org/study/general-conference/1988/04/while-they-are-waiting?lang=eng\n",
            "Successfully fetched https://www.churchofjesuschrist.org/study/general-conference/1988/04/saturday-morning-session?lang=eng\n",
            "Successfully fetched https://www.churchofjesuschrist.org/study/general-conference/1988/04/for-i-will-lead-you-along?lang=eng\n",
            "Successfully fetched https://www.churchofjesuschrist.org/study/general-conference/1988/04/atonement-agency-accountability?lang=engSuccessfully fetched https://www.churchofjesuschrist.org/study/general-conference/1988/04/the-church-audit-committee-report?lang=eng\n",
            "\n"
          ]
        },
        {
          "output_type": "stream",
          "name": "stderr",
          "text": [
            "Scraping talks in parallel:  67%|██████▋   | 2818/4233 [06:18<03:27,  6.81it/s]"
          ]
        },
        {
          "output_type": "stream",
          "name": "stdout",
          "text": [
            "Successfully fetched https://www.churchofjesuschrist.org/study/general-conference/1988/04/seek-the-blessings-of-the-church?lang=eng\n",
            "Successfully fetched https://www.churchofjesuschrist.org/study/general-conference/1988/04/always-remember-him?lang=engSuccessfully fetched https://www.churchofjesuschrist.org/study/general-conference/1988/04/because-i-pray-for-you?lang=eng\n",
            "Successfully fetched https://www.churchofjesuschrist.org/study/general-conference/1988/04/happiness-through-service?lang=eng\n",
            "\n",
            "Successfully fetched https://www.churchofjesuschrist.org/study/general-conference/1988/04/come-unto-christ-and-be-perfected-in-him?lang=eng\n"
          ]
        },
        {
          "output_type": "stream",
          "name": "stderr",
          "text": [
            "\rScraping talks in parallel:  67%|██████▋   | 2826/4233 [06:18<02:00, 11.68it/s]"
          ]
        },
        {
          "output_type": "stream",
          "name": "stdout",
          "text": [
            "Successfully fetched https://www.churchofjesuschrist.org/study/general-conference/1988/04/daughter-of-god?lang=eng\n",
            "Successfully fetched https://www.churchofjesuschrist.org/study/general-conference/1988/04/he-is-risen?lang=eng\n",
            "Successfully fetched https://www.churchofjesuschrist.org/study/general-conference/1988/04/the-aaronic-priesthood-a-gift-from-god?lang=eng\n"
          ]
        },
        {
          "output_type": "stream",
          "name": "stderr",
          "text": [
            "\rScraping talks in parallel:  67%|██████▋   | 2828/4233 [06:18<02:28,  9.48it/s]"
          ]
        },
        {
          "output_type": "stream",
          "name": "stdout",
          "text": [
            "Successfully fetched https://www.churchofjesuschrist.org/study/general-conference/1988/04/shepherds-of-israel?lang=eng\n",
            "Successfully fetched https://www.churchofjesuschrist.org/study/general-conference/1988/04/the-highest-place-of-honor?lang=eng\n",
            "Successfully fetched https://www.churchofjesuschrist.org/study/general-conference/1988/04/assurance-that-comes-from-knowing?lang=eng\n",
            "Successfully fetched https://www.churchofjesuschrist.org/study/general-conference/1988/04/gods-love-for-his-children?lang=eng\n",
            "Successfully fetched https://www.churchofjesuschrist.org/study/general-conference/1988/04/solutions-from-the-scriptures?lang=eng\n"
          ]
        },
        {
          "output_type": "stream",
          "name": "stderr",
          "text": [
            "\rScraping talks in parallel:  67%|██████▋   | 2831/4233 [06:19<02:32,  9.21it/s]"
          ]
        },
        {
          "output_type": "stream",
          "name": "stdout",
          "text": [
            "Successfully fetched https://www.churchofjesuschrist.org/study/general-conference/1988/04/to-the-single-adult-brethren-of-the-church?lang=eng\n",
            "Successfully fetched https://www.churchofjesuschrist.org/study/general-conference/1987/10/a-champion-of-youth?lang=eng\n"
          ]
        },
        {
          "output_type": "stream",
          "name": "stderr",
          "text": [
            "\rScraping talks in parallel:  67%|██████▋   | 2833/4233 [06:19<02:20,  9.93it/s]"
          ]
        },
        {
          "output_type": "stream",
          "name": "stdout",
          "text": [
            "Successfully fetched https://www.churchofjesuschrist.org/study/general-conference/1987/10/take-not-the-name-of-god-in-vain?lang=engSuccessfully fetched https://www.churchofjesuschrist.org/study/general-conference/1988/04/because-of-your-steadiness?lang=eng\n",
            "\n"
          ]
        },
        {
          "output_type": "stream",
          "name": "stderr",
          "text": [
            "Scraping talks in parallel:  67%|██████▋   | 2837/4233 [06:19<02:23,  9.74it/s]"
          ]
        },
        {
          "output_type": "stream",
          "name": "stdout",
          "text": [
            "Successfully fetched https://www.churchofjesuschrist.org/study/general-conference/1987/10/i-will-go-and-do?lang=eng\n",
            "Successfully fetched https://www.churchofjesuschrist.org/study/general-conference/1987/10/ethics-and-honesty?lang=eng\n",
            "Successfully fetched https://www.churchofjesuschrist.org/study/general-conference/1987/10/a-meaningful-celebration?lang=eng\n"
          ]
        },
        {
          "output_type": "stream",
          "name": "stderr",
          "text": [
            "\rScraping talks in parallel:  67%|██████▋   | 2842/4233 [06:20<02:00, 11.59it/s]"
          ]
        },
        {
          "output_type": "stream",
          "name": "stdout",
          "text": [
            "Successfully fetched https://www.churchofjesuschrist.org/study/general-conference/1987/10/keys-of-the-priesthood?lang=eng\n",
            "Successfully fetched https://www.churchofjesuschrist.org/study/general-conference/1987/10/missionary-memories?lang=eng\n",
            "Successfully fetched https://www.churchofjesuschrist.org/study/general-conference/1987/10/to-the-fathers-in-israel?lang=eng\n"
          ]
        },
        {
          "output_type": "stream",
          "name": "stderr",
          "text": [
            "\rScraping talks in parallel:  67%|██████▋   | 2844/4233 [06:20<02:22,  9.77it/s]"
          ]
        },
        {
          "output_type": "stream",
          "name": "stdout",
          "text": [
            "Successfully fetched https://www.churchofjesuschrist.org/study/general-conference/1987/10/overcoming-challenges-along-lifes-way?lang=eng\n",
            "Successfully fetched https://www.churchofjesuschrist.org/study/general-conference/1987/10/the-dawning-of-a-new-day-in-africa?lang=eng\n"
          ]
        },
        {
          "output_type": "stream",
          "name": "stderr",
          "text": [
            "\rScraping talks in parallel:  67%|██████▋   | 2846/4233 [06:20<02:37,  8.81it/s]"
          ]
        },
        {
          "output_type": "stream",
          "name": "stdout",
          "text": [
            "Successfully fetched https://www.churchofjesuschrist.org/study/general-conference/1987/10/follow-the-brethren?lang=eng\n",
            "Successfully fetched https://www.churchofjesuschrist.org/study/general-conference/1987/10/a-doorway-called-love?lang=eng\n",
            "Successfully fetched https://www.churchofjesuschrist.org/study/general-conference/1987/10/never-give-up?lang=eng\n"
          ]
        },
        {
          "output_type": "stream",
          "name": "stderr",
          "text": [
            "\rScraping talks in parallel:  67%|██████▋   | 2849/4233 [06:20<02:18,  9.99it/s]"
          ]
        },
        {
          "output_type": "stream",
          "name": "stdout",
          "text": [
            "Successfully fetched https://www.churchofjesuschrist.org/study/general-conference/1987/10/the-sustaining-of-church-officers?lang=eng\n",
            "Successfully fetched https://www.churchofjesuschrist.org/study/general-conference/1987/10/balm-of-gilead?lang=eng\n",
            "Successfully fetched https://www.churchofjesuschrist.org/study/general-conference/1987/10/the-great-imitator?lang=eng\n",
            "Successfully fetched https://www.churchofjesuschrist.org/study/general-conference/1987/10/come-unto-christ?lang=eng\n",
            "Successfully fetched https://www.churchofjesuschrist.org/study/general-conference/1987/10/they-re-not-really-happy?lang=eng\n",
            "Successfully fetched https://www.churchofjesuschrist.org/study/general-conference/1987/10/saturday-morning-session?lang=eng\n"
          ]
        },
        {
          "output_type": "stream",
          "name": "stderr",
          "text": [
            "Scraping talks in parallel:  67%|██████▋   | 2854/4233 [06:21<02:45,  8.35it/s]"
          ]
        },
        {
          "output_type": "stream",
          "name": "stdout",
          "text": [
            "Successfully fetched https://www.churchofjesuschrist.org/study/general-conference/1987/10/looking-beyond-the-mark?lang=eng\n",
            "Successfully fetched https://www.churchofjesuschrist.org/study/general-conference/1987/10/in-the-service-of-the-lord?lang=eng\n",
            "Successfully fetched https://www.churchofjesuschrist.org/study/general-conference/1987/10/opportunities-to-serve?lang=eng\n",
            "Successfully fetched https://www.churchofjesuschrist.org/study/general-conference/1987/10/our-divine-constitution?lang=eng\n"
          ]
        },
        {
          "output_type": "stream",
          "name": "stderr",
          "text": [
            "Scraping talks in parallel:  68%|██████▊   | 2858/4233 [06:22<02:11, 10.45it/s]"
          ]
        },
        {
          "output_type": "stream",
          "name": "stdout",
          "text": [
            "Successfully fetched https://www.churchofjesuschrist.org/study/general-conference/1987/10/strengthening-the-family?lang=eng\n",
            "Successfully fetched https://www.churchofjesuschrist.org/study/general-conference/1987/10/sacrifice-and-self-sufficiency?lang=eng\n",
            "Successfully fetched https://www.churchofjesuschrist.org/study/general-conference/1987/10/yet-thou-art-there?lang=eng\n",
            "Successfully fetched https://www.churchofjesuschrist.org/study/general-conference/1987/10/there-are-many-gifts?lang=eng\n",
            "Successfully fetched https://www.churchofjesuschrist.org/study/general-conference/1987/10/finding-joy-in-life?lang=eng\n",
            "Successfully fetched https://www.churchofjesuschrist.org/study/general-conference/1987/10/the-light-and-life-of-the-world?lang=eng\n",
            "Successfully fetched https://www.churchofjesuschrist.org/study/general-conference/1987/10/selfless-service?lang=eng\n",
            "Successfully fetched https://www.churchofjesuschrist.org/study/general-conference/1987/10/called-to-serve?lang=engSuccessfully fetched https://www.churchofjesuschrist.org/study/general-conference/1987/10/lessons-from-eve?lang=eng\n",
            "\n"
          ]
        },
        {
          "output_type": "stream",
          "name": "stderr",
          "text": [
            "\rScraping talks in parallel:  68%|██████▊   | 2860/4233 [06:23<04:49,  4.74it/s]"
          ]
        },
        {
          "output_type": "stream",
          "name": "stdout",
          "text": [
            "Successfully fetched https://www.churchofjesuschrist.org/study/general-conference/1987/10/lord-increase-our-faith?lang=eng\n"
          ]
        },
        {
          "output_type": "stream",
          "name": "stderr",
          "text": [
            "\rScraping talks in parallel:  68%|██████▊   | 2868/4233 [06:23<02:21,  9.63it/s]"
          ]
        },
        {
          "output_type": "stream",
          "name": "stdout",
          "text": [
            "Successfully fetched https://www.churchofjesuschrist.org/study/general-conference/1987/04/the-church-audit-committee-report?lang=eng\n",
            "Successfully fetched https://www.churchofjesuschrist.org/study/general-conference/1987/10/the-opening-and-closing-of-doors?lang=engSuccessfully fetched https://www.churchofjesuschrist.org/study/general-conference/1987/04/will-i-be-happy?lang=eng\n",
            "\n",
            "Successfully fetched https://www.churchofjesuschrist.org/study/general-conference/1987/04/no-shortcuts?lang=eng\n",
            "Successfully fetched https://www.churchofjesuschrist.org/study/general-conference/1987/04/the-book-of-mormons-witness-of-jesus-christ?lang=eng\n"
          ]
        },
        {
          "output_type": "stream",
          "name": "stderr",
          "text": [
            "\rScraping talks in parallel:  68%|██████▊   | 2874/4233 [06:23<01:50, 12.27it/s]"
          ]
        },
        {
          "output_type": "stream",
          "name": "stdout",
          "text": [
            "Successfully fetched https://www.churchofjesuschrist.org/study/general-conference/1987/04/my-neighbor-my-brother?lang=eng\n",
            "Successfully fetched https://www.churchofjesuschrist.org/study/general-conference/1987/04/united-in-building-the-kingdom-of-god?lang=eng\n",
            "Successfully fetched https://www.churchofjesuschrist.org/study/general-conference/1987/04/the-lengthened-shadow-of-the-hand-of-god?lang=eng\n"
          ]
        },
        {
          "output_type": "stream",
          "name": "stderr",
          "text": [
            "\rScraping talks in parallel:  68%|██████▊   | 2876/4233 [06:23<01:53, 11.92it/s]"
          ]
        },
        {
          "output_type": "stream",
          "name": "stdout",
          "text": [
            "Successfully fetched https://www.churchofjesuschrist.org/study/general-conference/1987/04/spiritual-security?lang=eng\n",
            "Successfully fetched https://www.churchofjesuschrist.org/study/general-conference/1987/04/priesthood-blessings?lang=eng\n"
          ]
        },
        {
          "output_type": "stream",
          "name": "stderr",
          "text": [
            "\rScraping talks in parallel:  68%|██████▊   | 2878/4233 [06:24<02:11, 10.28it/s]"
          ]
        },
        {
          "output_type": "stream",
          "name": "stdout",
          "text": [
            "Successfully fetched https://www.churchofjesuschrist.org/study/general-conference/1987/04/statistical-report-1986?lang=eng\n",
            "Successfully fetched https://www.churchofjesuschrist.org/study/general-conference/1987/04/by-faith-and-hope-all-things-are-fulfilled?lang=eng\n",
            "Successfully fetched https://www.churchofjesuschrist.org/study/general-conference/1987/04/tears-trials-trust-testimony?lang=eng\n"
          ]
        },
        {
          "output_type": "stream",
          "name": "stderr",
          "text": [
            "\rScraping talks in parallel:  68%|██████▊   | 2883/4233 [06:24<01:55, 11.73it/s]"
          ]
        },
        {
          "output_type": "stream",
          "name": "stdout",
          "text": [
            "Successfully fetched https://www.churchofjesuschrist.org/study/general-conference/1987/04/the-book-of-mormon-and-the-doctrine-and-covenants?lang=eng\n",
            "Successfully fetched https://www.churchofjesuschrist.org/study/general-conference/1987/04/patience-a-key-to-happiness?lang=eng\n",
            "Successfully fetched https://www.churchofjesuschrist.org/study/general-conference/1987/04/reverence-and-morality?lang=eng\n",
            "Successfully fetched https://www.churchofjesuschrist.org/study/general-conference/1987/04/the-blessings-of-being-unified?lang=eng\n"
          ]
        },
        {
          "output_type": "stream",
          "name": "stderr",
          "text": [
            "\rScraping talks in parallel:  68%|██████▊   | 2885/4233 [06:25<02:53,  7.78it/s]"
          ]
        },
        {
          "output_type": "stream",
          "name": "stdout",
          "text": [
            "Successfully fetched https://www.churchofjesuschrist.org/study/general-conference/1987/04/what-it-means-to-be-a-saint?lang=eng\n",
            "Successfully fetched https://www.churchofjesuschrist.org/study/general-conference/1987/04/some-have-compassion-making-a-difference?lang=eng\n",
            "Successfully fetched https://www.churchofjesuschrist.org/study/general-conference/1987/04/looking-to-the-savior?lang=eng\n",
            "Successfully fetched https://www.churchofjesuschrist.org/study/general-conference/1987/04/saturday-morning-session?lang=eng\n",
            "Successfully fetched https://www.churchofjesuschrist.org/study/general-conference/1987/04/the-saviors-visit-to-america?lang=eng\n",
            "Successfully fetched https://www.churchofjesuschrist.org/study/general-conference/1987/04/life-after-life?lang=eng\n",
            "Successfully fetched https://www.churchofjesuschrist.org/study/general-conference/1987/04/covenants?lang=eng\n"
          ]
        },
        {
          "output_type": "stream",
          "name": "stderr",
          "text": [
            "Scraping talks in parallel:  68%|██████▊   | 2897/4233 [06:25<01:28, 15.05it/s]"
          ]
        },
        {
          "output_type": "stream",
          "name": "stdout",
          "text": [
            "Successfully fetched https://www.churchofjesuschrist.org/study/general-conference/1987/04/am-i-a-living-member?lang=eng\n",
            "Successfully fetched https://www.churchofjesuschrist.org/study/general-conference/1987/04/overcome-even-as-i-also-overcame?lang=eng\n",
            "Successfully fetched https://www.churchofjesuschrist.org/study/general-conference/1987/04/the-sustaining-of-church-officers?lang=eng\n",
            "Successfully fetched https://www.churchofjesuschrist.org/study/general-conference/1986/10/spiritual-crevasses?lang=eng\n",
            "Successfully fetched https://www.churchofjesuschrist.org/study/general-conference/1987/04/i-am-an-adult-now?lang=eng\n",
            "Successfully fetched https://www.churchofjesuschrist.org/study/general-conference/1987/04/to-the-home-teachers-of-the-church?lang=eng\n",
            "Successfully fetched https://www.churchofjesuschrist.org/study/general-conference/1987/04/the-will-within?lang=eng\n",
            "Successfully fetched https://www.churchofjesuschrist.org/study/general-conference/1986/10/pulling-in-the-gospel-net?lang=eng\n",
            "Successfully fetched https://www.churchofjesuschrist.org/study/general-conference/1986/10/a-time-for-hope?lang=eng\n",
            "Successfully fetched https://www.churchofjesuschrist.org/study/general-conference/1986/10/to-the-young-women-of-the-church?lang=eng\n",
            "Successfully fetched https://www.churchofjesuschrist.org/study/general-conference/1986/10/the-war-we-are-winning?lang=eng\n",
            "Successfully fetched https://www.churchofjesuschrist.org/study/general-conference/1986/10/touching-the-hearts-of-less-active-members?lang=eng\n",
            "Successfully fetched https://www.churchofjesuschrist.org/study/general-conference/1987/04/keeping-lifes-demands-in-balance?lang=eng\n"
          ]
        },
        {
          "output_type": "stream",
          "name": "stderr",
          "text": [
            "\rScraping talks in parallel:  69%|██████▊   | 2900/4233 [06:27<03:41,  6.02it/s]"
          ]
        },
        {
          "output_type": "stream",
          "name": "stdout",
          "text": [
            "Successfully fetched https://www.churchofjesuschrist.org/study/general-conference/1986/10/happiness-and-joy-in-temple-work?lang=eng\n",
            "Successfully fetched https://www.churchofjesuschrist.org/study/general-conference/1986/10/we-proclaim-the-gospel?lang=eng\n",
            "Successfully fetched https://www.churchofjesuschrist.org/study/general-conference/1986/10/hope-in-christ?lang=eng\n",
            "Successfully fetched https://www.churchofjesuschrist.org/study/general-conference/1986/10/brothers-keeper?lang=eng\n"
          ]
        },
        {
          "output_type": "stream",
          "name": "stderr",
          "text": [
            "\rScraping talks in parallel:  69%|██████▊   | 2910/4233 [06:27<01:56, 11.36it/s]"
          ]
        },
        {
          "output_type": "stream",
          "name": "stdout",
          "text": [
            "Successfully fetched https://www.churchofjesuschrist.org/study/general-conference/1986/10/the-joy-of-honest-labor?lang=eng\n",
            "Successfully fetched https://www.churchofjesuschrist.org/study/general-conference/1986/10/the-lords-touchstone?lang=eng\n",
            "Successfully fetched https://www.churchofjesuschrist.org/study/general-conference/1986/10/the-spark-of-faith?lang=eng\n",
            "Successfully fetched https://www.churchofjesuschrist.org/study/general-conference/1986/10/unwanted-messages?lang=eng\n",
            "Successfully fetched https://www.churchofjesuschrist.org/study/general-conference/1986/10/little-children?lang=eng\n",
            "Successfully fetched https://www.churchofjesuschrist.org/study/general-conference/1986/10/saturday-morning-session?lang=eng\n",
            "Successfully fetched https://www.churchofjesuschrist.org/study/general-conference/1986/10/the-book-of-mormon-keystone-of-our-religion?lang=engSuccessfully fetched https://www.churchofjesuschrist.org/study/general-conference/1986/10/presidents-of-the-church?lang=eng\n",
            "\n"
          ]
        },
        {
          "output_type": "stream",
          "name": "stderr",
          "text": [
            "\rScraping talks in parallel:  69%|██████▉   | 2914/4233 [06:28<03:04,  7.16it/s]"
          ]
        },
        {
          "output_type": "stream",
          "name": "stdout",
          "text": [
            "Successfully fetched https://www.churchofjesuschrist.org/study/general-conference/1986/10/joy-cometh-in-the-morning?lang=eng\n"
          ]
        },
        {
          "output_type": "stream",
          "name": "stderr",
          "text": [
            "Scraping talks in parallel:  69%|██████▉   | 2921/4233 [06:29<02:24,  9.06it/s]"
          ]
        },
        {
          "output_type": "stream",
          "name": "stdout",
          "text": [
            "Successfully fetched https://www.churchofjesuschrist.org/study/general-conference/1986/10/your-patriarchal-blessing-a-liahona-of-light?lang=eng\n",
            "Successfully fetched https://www.churchofjesuschrist.org/study/general-conference/1986/10/god-will-yet-reveal?lang=eng\n"
          ]
        },
        {
          "output_type": "stream",
          "name": "stderr",
          "text": [
            "\rScraping talks in parallel:  69%|██████▉   | 2923/4233 [06:29<02:15,  9.69it/s]"
          ]
        },
        {
          "output_type": "stream",
          "name": "stdout",
          "text": [
            "Successfully fetched https://www.churchofjesuschrist.org/study/general-conference/1986/10/the-gift-of-modern-revelation?lang=eng\n",
            "Successfully fetched https://www.churchofjesuschrist.org/study/general-conference/1986/10/shake-off-the-chains-with-which-ye-are-bound?lang=eng\n",
            "Successfully fetched https://www.churchofjesuschrist.org/study/general-conference/1986/10/i-will-look-unto-the-lord?lang=eng\n",
            "Successfully fetched https://www.churchofjesuschrist.org/study/general-conference/1986/10/courage-counts?lang=eng\n",
            "Successfully fetched https://www.churchofjesuschrist.org/study/general-conference/1986/10/come-back-to-the-lord?lang=eng\n",
            "Successfully fetched https://www.churchofjesuschrist.org/study/general-conference/1986/10/the-sustaining-of-church-officers?lang=eng\n",
            "Successfully fetched https://www.churchofjesuschrist.org/study/general-conference/1986/10/my-son-and-yours-each-a-remarkable-one?lang=eng\n",
            "Successfully fetched https://www.churchofjesuschrist.org/study/general-conference/1986/10/godly-characteristics-of-the-master?lang=eng\n",
            "Successfully fetched https://www.churchofjesuschrist.org/study/general-conference/1986/10/the-father-son-and-holy-ghost?lang=eng\n",
            "Successfully fetched https://www.churchofjesuschrist.org/study/general-conference/1986/10/the-light-of-hope?lang=eng\n",
            "Successfully fetched https://www.churchofjesuschrist.org/study/general-conference/1986/04/in-the-lords-own-way?lang=eng\n",
            "Successfully fetched https://www.churchofjesuschrist.org/study/general-conference/1986/10/missionary-work-is-the-lifeblood-of-the-church?lang=eng\n",
            "Successfully fetched https://www.churchofjesuschrist.org/study/general-conference/1986/10/developing-faith?lang=eng\n",
            "Successfully fetched https://www.churchofjesuschrist.org/study/general-conference/1986/10/a-father-speaks?lang=eng\n",
            "Successfully fetched https://www.churchofjesuschrist.org/study/general-conference/1986/04/welfare-principles-to-guide-our-lives-an-eternal-plan-for-the-welfare-of-mens-souls?lang=eng\n",
            "Successfully fetched https://www.churchofjesuschrist.org/study/general-conference/1986/04/statistical-report-1985?lang=eng\n"
          ]
        },
        {
          "output_type": "stream",
          "name": "stderr",
          "text": [
            "\rScraping talks in parallel:  69%|██████▉   | 2925/4233 [06:31<05:20,  4.08it/s]"
          ]
        },
        {
          "output_type": "stream",
          "name": "stdout",
          "text": [
            "Successfully fetched https://www.churchofjesuschrist.org/study/general-conference/1986/04/principles-and-programs?lang=eng\n",
            "Successfully fetched https://www.churchofjesuschrist.org/study/general-conference/1986/04/cleansing-the-inner-vessel?lang=eng\n",
            "Successfully fetched https://www.churchofjesuschrist.org/study/general-conference/1986/04/the-greatest-news-of-all-times-is-that-jesus-lives?lang=eng\n",
            "Successfully fetched https://www.churchofjesuschrist.org/study/general-conference/1986/04/the-law-of-the-fast?lang=eng\n",
            "Successfully fetched https://www.churchofjesuschrist.org/study/general-conference/1986/04/the-question-of-a-mission?lang=eng\n",
            "Successfully fetched https://www.churchofjesuschrist.org/study/general-conference/1986/04/the-kingdom-rolls-forth-in-south-america?lang=eng\n",
            "Successfully fetched https://www.churchofjesuschrist.org/study/general-conference/1986/04/we-love-you-please-come-back?lang=eng\n"
          ]
        },
        {
          "output_type": "stream",
          "name": "stderr",
          "text": [
            "\rScraping talks in parallel:  69%|██████▉   | 2940/4233 [06:31<02:22,  9.10it/s]"
          ]
        },
        {
          "output_type": "stream",
          "name": "stdout",
          "text": [
            "Successfully fetched https://www.churchofjesuschrist.org/study/general-conference/1986/04/a-prophet-chosen-of-the-lord?lang=eng\n",
            "Successfully fetched https://www.churchofjesuschrist.org/study/general-conference/1986/04/the-things-of-my-soul?lang=eng\n",
            "Successfully fetched https://www.churchofjesuschrist.org/study/general-conference/1986/04/the-responsibility-for-welfare-rests-with-me-and-my-family?lang=eng\n",
            "Successfully fetched https://www.churchofjesuschrist.org/study/general-conference/1986/04/come-and-partake?lang=eng\n"
          ]
        },
        {
          "output_type": "stream",
          "name": "stderr",
          "text": [
            "\rScraping talks in parallel:  70%|██████▉   | 2947/4233 [06:32<01:58, 10.83it/s]"
          ]
        },
        {
          "output_type": "stream",
          "name": "stdout",
          "text": [
            "Successfully fetched https://www.churchofjesuschrist.org/study/general-conference/1986/04/sixteen-years-as-a-witness?lang=eng\n",
            "Successfully fetched https://www.churchofjesuschrist.org/study/general-conference/1986/04/the-call-of-duty?lang=eng\n"
          ]
        },
        {
          "output_type": "stream",
          "name": "stderr",
          "text": [
            "Scraping talks in parallel:  70%|██████▉   | 2952/4233 [06:32<01:51, 11.52it/s]"
          ]
        },
        {
          "output_type": "stream",
          "name": "stdout",
          "text": [
            "Successfully fetched https://www.churchofjesuschrist.org/study/general-conference/1986/04/an-apostles-witness-of-the-resurrection?lang=eng\n",
            "Successfully fetched https://www.churchofjesuschrist.org/study/general-conference/1986/04/to-the-youth-of-the-noble-birthright?lang=eng\n"
          ]
        },
        {
          "output_type": "stream",
          "name": "stderr",
          "text": [
            "\rScraping talks in parallel:  70%|██████▉   | 2956/4233 [06:32<01:30, 14.09it/s]"
          ]
        },
        {
          "output_type": "stream",
          "name": "stdout",
          "text": [
            "Successfully fetched https://www.churchofjesuschrist.org/study/general-conference/1986/04/called-and-prepared-from-the-foundation-of-the-world?lang=eng\n",
            "Successfully fetched https://www.churchofjesuschrist.org/study/general-conference/1986/04/solemn-assembly-and-sustaining-of-church-officers?lang=eng\n",
            "Successfully fetched https://www.churchofjesuschrist.org/study/general-conference/1986/04/a-sacred-responsibility?lang=eng\n",
            "Successfully fetched https://www.churchofjesuschrist.org/study/general-conference/1986/04/the-power-of-the-word?lang=eng\n",
            "Successfully fetched https://www.churchofjesuschrist.org/study/general-conference/1986/04/the-church-audit-committee-report?lang=eng\n",
            "Successfully fetched https://www.churchofjesuschrist.org/study/general-conference/1986/04/reverent-and-clean?lang=eng\n",
            "Successfully fetched https://www.churchofjesuschrist.org/study/general-conference/1986/04/they-taught-and-did-minister-one-to-another?lang=engSuccessfully fetched https://www.churchofjesuschrist.org/study/general-conference/1986/04/saturday-morning-session?lang=eng\n",
            "Successfully fetched https://www.churchofjesuschrist.org/study/general-conference/1986/04/happiness?lang=eng\n",
            "\n"
          ]
        },
        {
          "output_type": "stream",
          "name": "stderr",
          "text": [
            "\rScraping talks in parallel:  70%|██████▉   | 2959/4233 [06:33<02:43,  7.79it/s]"
          ]
        },
        {
          "output_type": "stream",
          "name": "stdout",
          "text": [
            "Successfully fetched https://www.churchofjesuschrist.org/study/general-conference/1986/04/a-provident-plan-a-precious-promise?lang=eng\n",
            "Successfully fetched https://www.churchofjesuschrist.org/study/general-conference/1986/04/be-of-good-cheer?lang=eng\n"
          ]
        },
        {
          "output_type": "stream",
          "name": "stderr",
          "text": [
            "Scraping talks in parallel:  70%|███████   | 2964/4233 [06:33<02:05, 10.14it/s]"
          ]
        },
        {
          "output_type": "stream",
          "name": "stdout",
          "text": [
            "Successfully fetched https://www.churchofjesuschrist.org/study/general-conference/1985/10/by-their-fruits-ye-shall-know-them?lang=eng\n",
            "Successfully fetched https://www.churchofjesuschrist.org/study/general-conference/1985/10/those-who-love-jesus?lang=eng\n",
            "Successfully fetched https://www.churchofjesuschrist.org/study/general-conference/1985/10/the-abundant-life?lang=eng\n"
          ]
        },
        {
          "output_type": "stream",
          "name": "stderr",
          "text": [
            "Scraping talks in parallel:  70%|███████   | 2969/4233 [06:34<01:43, 12.27it/s]"
          ]
        },
        {
          "output_type": "stream",
          "name": "stdout",
          "text": [
            "Successfully fetched https://www.churchofjesuschrist.org/study/general-conference/1985/10/let-mercy-temper-justice?lang=eng\n",
            "Successfully fetched https://www.churchofjesuschrist.org/study/general-conference/1985/10/the-gospel?lang=eng\n",
            "Successfully fetched https://www.churchofjesuschrist.org/study/general-conference/1985/10/i-confer-the-priesthood-of-aaron?lang=eng\n",
            "Successfully fetched https://www.churchofjesuschrist.org/study/general-conference/1985/10/lessons-from-the-atonement-that-help-us-to-endure-to-the-end?lang=eng\n",
            "Successfully fetched https://www.churchofjesuschrist.org/study/general-conference/1985/10/fast-day?lang=eng\n",
            "Successfully fetched https://www.churchofjesuschrist.org/study/general-conference/1985/10/ten-gifts-from-the-lord?lang=engSuccessfully fetched https://www.churchofjesuschrist.org/study/general-conference/1985/10/adventures-of-the-spirit?lang=eng\n",
            "\n",
            "Successfully fetched https://www.churchofjesuschrist.org/study/general-conference/1985/10/in-response-to-the-call?lang=eng\n",
            "Successfully fetched https://www.churchofjesuschrist.org/study/general-conference/1985/10/premortality-a-glorious-reality?lang=eng\n",
            "Successfully fetched https://www.churchofjesuschrist.org/study/general-conference/1985/10/rejoice-in-this-great-era-of-temple-building?lang=eng\n",
            "Successfully fetched https://www.churchofjesuschrist.org/study/general-conference/1985/10/peace-a-triumph-of-principles?lang=eng\n",
            "Successfully fetched https://www.churchofjesuschrist.org/study/general-conference/1985/10/the-gospel-of-love?lang=eng\n"
          ]
        },
        {
          "output_type": "stream",
          "name": "stderr",
          "text": [
            "\rScraping talks in parallel:  70%|███████   | 2971/4233 [06:35<04:19,  4.87it/s]"
          ]
        },
        {
          "output_type": "stream",
          "name": "stdout",
          "text": [
            "Successfully fetched https://www.churchofjesuschrist.org/study/general-conference/1985/10/the-oath-and-covenant-of-the-priesthood?lang=eng\n",
            "Successfully fetched https://www.churchofjesuschrist.org/study/general-conference/1985/10/the-only-true-church?lang=eng\n",
            "Successfully fetched https://www.churchofjesuschrist.org/study/general-conference/1985/10/joseph-smith-the-chosen-instrument?lang=eng\n",
            "Successfully fetched https://www.churchofjesuschrist.org/study/general-conference/1985/10/the-gospel-lifeline?lang=eng\n",
            "Successfully fetched https://www.churchofjesuschrist.org/study/general-conference/1985/10/can-there-any-good-thing-come-out-of-nazareth?lang=eng"
          ]
        },
        {
          "output_type": "stream",
          "name": "stderr",
          "text": [
            "\rScraping talks in parallel:  70%|███████   | 2983/4233 [06:36<02:13,  9.35it/s]"
          ]
        },
        {
          "output_type": "stream",
          "name": "stdout",
          "text": [
            "\n",
            "Successfully fetched https://www.churchofjesuschrist.org/study/general-conference/1985/10/draw-near-to-him-in-prayer?lang=eng\n",
            "Successfully fetched https://www.churchofjesuschrist.org/study/general-conference/1985/10/draw-near-unto-me?lang=eng\n",
            "Successfully fetched https://www.churchofjesuschrist.org/study/general-conference/1985/10/let-us-move-this-work-forward?lang=eng\n"
          ]
        },
        {
          "output_type": "stream",
          "name": "stderr",
          "text": [
            "\rScraping talks in parallel:  71%|███████   | 2986/4233 [06:36<02:18,  9.02it/s]"
          ]
        },
        {
          "output_type": "stream",
          "name": "stdout",
          "text": [
            "Successfully fetched https://www.churchofjesuschrist.org/study/general-conference/1985/10/the-holy-scriptures-letters-from-home?lang=eng\n",
            "Successfully fetched https://www.churchofjesuschrist.org/study/general-conference/1985/10/draw-near-unto-me-through-obedience?lang=eng\n",
            "Successfully fetched https://www.churchofjesuschrist.org/study/general-conference/1985/10/spirituality?lang=eng\n",
            "Successfully fetched https://www.churchofjesuschrist.org/study/general-conference/1985/10/joined-together-in-love-and-faith?lang=eng\n"
          ]
        },
        {
          "output_type": "stream",
          "name": "stderr",
          "text": [
            "\rScraping talks in parallel:  71%|███████   | 2988/4233 [06:36<02:21,  8.77it/s]"
          ]
        },
        {
          "output_type": "stream",
          "name": "stdout",
          "text": [
            "Successfully fetched https://www.churchofjesuschrist.org/study/general-conference/1985/10/born-of-god?lang=eng\n",
            "Successfully fetched https://www.churchofjesuschrist.org/study/general-conference/1985/10/self-mastery?lang=eng\n"
          ]
        },
        {
          "output_type": "stream",
          "name": "stderr",
          "text": [
            "Scraping talks in parallel:  71%|███████   | 2997/4233 [06:37<01:33, 13.28it/s]"
          ]
        },
        {
          "output_type": "stream",
          "name": "stdout",
          "text": [
            "Successfully fetched https://www.churchofjesuschrist.org/study/general-conference/1985/10/as-i-have-loved-you?lang=eng\n",
            "Successfully fetched https://www.churchofjesuschrist.org/study/general-conference/1985/10/questions-and-answers?lang=eng\n",
            "Successfully fetched https://www.churchofjesuschrist.org/study/general-conference/1985/10/worthy-fathers-worthy-sons?lang=eng\n",
            "Successfully fetched https://www.churchofjesuschrist.org/study/general-conference/1985/10/saturday-morning-session?lang=eng\n"
          ]
        },
        {
          "output_type": "stream",
          "name": "stderr",
          "text": [
            "\rScraping talks in parallel:  71%|███████   | 2999/4233 [06:37<01:49, 11.24it/s]"
          ]
        },
        {
          "output_type": "stream",
          "name": "stdout",
          "text": [
            "Successfully fetched https://www.churchofjesuschrist.org/study/general-conference/1985/10/whats-the-difference?lang=eng\n",
            "Successfully fetched https://www.churchofjesuschrist.org/study/general-conference/1985/10/the-sustaining-of-church-officers?lang=eng\n",
            "Successfully fetched https://www.churchofjesuschrist.org/study/general-conference/1985/10/the-heavens-declare-the-glory-of-god?lang=eng\n"
          ]
        },
        {
          "output_type": "stream",
          "name": "stderr",
          "text": [
            "\rScraping talks in parallel:  71%|███████   | 3001/4233 [06:37<02:10,  9.45it/s]"
          ]
        },
        {
          "output_type": "stream",
          "name": "stdout",
          "text": [
            "Successfully fetched https://www.churchofjesuschrist.org/study/general-conference/1985/04/the-resurrection?lang=eng\n",
            "Successfully fetched https://www.churchofjesuschrist.org/study/general-conference/1985/04/look-for-the-beautiful?lang=eng\n",
            "Successfully fetched https://www.churchofjesuschrist.org/study/general-conference/1985/04/to-please-our-heavenly-father?lang=eng\n",
            "Successfully fetched https://www.churchofjesuschrist.org/study/general-conference/1985/04/ears-to-hear?lang=eng\n"
          ]
        },
        {
          "output_type": "stream",
          "name": "stderr",
          "text": [
            "\rScraping talks in parallel:  71%|███████   | 3003/4233 [06:38<01:57, 10.45it/s]"
          ]
        },
        {
          "output_type": "stream",
          "name": "stdout",
          "text": [
            "Successfully fetched https://www.churchofjesuschrist.org/study/general-conference/1985/04/born-of-goodly-parents?lang=eng\n",
            "Successfully fetched https://www.churchofjesuschrist.org/study/general-conference/1985/04/willing-to-submit?lang=eng\n",
            "Successfully fetched https://www.churchofjesuschrist.org/study/general-conference/1985/04/the-victory-over-death?lang=eng\n"
          ]
        },
        {
          "output_type": "stream",
          "name": "stderr",
          "text": [
            "Scraping talks in parallel:  71%|███████   | 3007/4233 [06:38<02:12,  9.26it/s]"
          ]
        },
        {
          "output_type": "stream",
          "name": "stdout",
          "text": [
            "Successfully fetched https://www.churchofjesuschrist.org/study/general-conference/1985/04/set-some-personal-goals?lang=eng\n",
            "Successfully fetched https://www.churchofjesuschrist.org/study/general-conference/1985/04/the-church-audit-committee-report?lang=eng\n",
            "Successfully fetched https://www.churchofjesuschrist.org/study/general-conference/1985/04/saturday-morning-session?lang=eng\n",
            "Successfully fetched https://www.churchofjesuschrist.org/study/general-conference/1985/04/pursuing-excellence?lang=eng\n",
            "Successfully fetched https://www.churchofjesuschrist.org/study/general-conference/1985/04/the-spirit-of-the-gathering?lang=eng\n"
          ]
        },
        {
          "output_type": "stream",
          "name": "stderr",
          "text": [
            "\rScraping talks in parallel:  71%|███████   | 3009/4233 [06:38<02:33,  7.99it/s]"
          ]
        },
        {
          "output_type": "stream",
          "name": "stdout",
          "text": [
            "Successfully fetched https://www.churchofjesuschrist.org/study/general-conference/1985/04/the-resurrected-christ?lang=eng\n",
            "Successfully fetched https://www.churchofjesuschrist.org/study/general-conference/1985/04/he-is-in-charge?lang=eng\n"
          ]
        },
        {
          "output_type": "stream",
          "name": "stderr",
          "text": [
            "Scraping talks in parallel:  71%|███████▏  | 3018/4233 [06:39<01:19, 15.20it/s]"
          ]
        },
        {
          "output_type": "stream",
          "name": "stdout",
          "text": [
            "Successfully fetched https://www.churchofjesuschrist.org/study/general-conference/1985/04/christ-our-passover?lang=eng\n",
            "Successfully fetched https://www.churchofjesuschrist.org/study/general-conference/1985/04/reverence-for-life?lang=eng\n"
          ]
        },
        {
          "output_type": "stream",
          "name": "stderr",
          "text": [
            "\rScraping talks in parallel:  71%|███████▏  | 3020/4233 [06:39<01:59, 10.13it/s]"
          ]
        },
        {
          "output_type": "stream",
          "name": "stdout",
          "text": [
            "Successfully fetched https://www.churchofjesuschrist.org/study/general-conference/1985/04/the-joy-of-service?lang=eng\n",
            "Successfully fetched https://www.churchofjesuschrist.org/study/general-conference/1985/04/taking-upon-us-the-name-of-jesus-christ?lang=eng\n",
            "Successfully fetched https://www.churchofjesuschrist.org/study/general-conference/1985/04/hold-up-your-light?lang=eng\n",
            "Successfully fetched https://www.churchofjesuschrist.org/study/general-conference/1985/04/agency-and-accountability?lang=eng\n",
            "Successfully fetched https://www.churchofjesuschrist.org/study/general-conference/1985/04/selflessness-a-pattern-for-happiness?lang=eng\n",
            "Successfully fetched https://www.churchofjesuschrist.org/study/general-conference/1985/04/spencer-w-kimball-a-true-disciple-of-christ?lang=eng\n",
            "Successfully fetched https://www.churchofjesuschrist.org/study/general-conference/1985/04/the-answers-will-come?lang=eng\n",
            "Successfully fetched https://www.churchofjesuschrist.org/study/general-conference/1985/04/this-is-the-work-of-the-lord?lang=engSuccessfully fetched https://www.churchofjesuschrist.org/study/general-conference/1985/04/our-responsibility-to-share-the-gospel?lang=eng\n",
            "\n",
            "Successfully fetched https://www.churchofjesuschrist.org/study/general-conference/1985/04/from-such-turn-away?lang=eng\n",
            "Successfully fetched https://www.churchofjesuschrist.org/study/general-conference/1985/04/confidence-in-the-lord?lang=eng\n"
          ]
        },
        {
          "output_type": "stream",
          "name": "stderr",
          "text": [
            "\rScraping talks in parallel:  71%|███████▏  | 3022/4233 [06:41<04:49,  4.18it/s]"
          ]
        },
        {
          "output_type": "stream",
          "name": "stdout",
          "text": [
            "Successfully fetched https://www.churchofjesuschrist.org/study/general-conference/1985/04/preparing-yourselves-for-missionary-service?lang=eng\n",
            "Successfully fetched https://www.churchofjesuschrist.org/study/general-conference/1985/04/the-spirit-giveth-life?lang=eng\n",
            "Successfully fetched https://www.churchofjesuschrist.org/study/general-conference/1985/04/the-sustaining-of-church-officers?lang=eng\n",
            "Successfully fetched https://www.churchofjesuschrist.org/study/general-conference/1985/04/the-mantle-of-a-bishop?lang=eng\n",
            "Successfully fetched https://www.churchofjesuschrist.org/study/general-conference/1985/04/god-has-a-work-for-us-to-do?lang=eng\n",
            "Successfully fetched https://www.churchofjesuschrist.org/study/general-conference/1985/04/prepare-to-serve?lang=eng\n",
            "Successfully fetched https://www.churchofjesuschrist.org/study/general-conference/1985/04/the-purifying-power-of-gethsemane?lang=eng\n",
            "Successfully fetched https://www.churchofjesuschrist.org/study/general-conference/1985/04/statistical-report-1984?lang=eng\n",
            "Successfully fetched https://www.churchofjesuschrist.org/study/general-conference/1984/10/the-faith-of-our-people?lang=eng\n"
          ]
        },
        {
          "output_type": "stream",
          "name": "stderr",
          "text": [
            "Scraping talks in parallel:  72%|███████▏  | 3033/4233 [06:42<03:32,  5.65it/s]"
          ]
        },
        {
          "output_type": "stream",
          "name": "stdout",
          "text": [
            "Successfully fetched https://www.churchofjesuschrist.org/study/general-conference/1985/04/the-invitation-of-the-master?lang=eng\n",
            "Successfully fetched https://www.churchofjesuschrist.org/study/general-conference/1984/10/young-women-striving-together?lang=eng\n",
            "Successfully fetched https://www.churchofjesuschrist.org/study/general-conference/1984/10/the-caravan-moves-on?lang=eng\n"
          ]
        },
        {
          "output_type": "stream",
          "name": "stderr",
          "text": [
            "Scraping talks in parallel:  72%|███████▏  | 3041/4233 [06:43<02:06,  9.44it/s]"
          ]
        },
        {
          "output_type": "stream",
          "name": "stdout",
          "text": [
            "Successfully fetched https://www.churchofjesuschrist.org/study/general-conference/1984/10/striving-together-transforming-our-beliefs-into-action?lang=eng\n"
          ]
        },
        {
          "output_type": "stream",
          "name": "stderr",
          "text": [
            "\rScraping talks in parallel:  72%|███████▏  | 3044/4233 [06:43<01:50, 10.75it/s]"
          ]
        },
        {
          "output_type": "stream",
          "name": "stdout",
          "text": [
            "Successfully fetched https://www.churchofjesuschrist.org/study/general-conference/1984/10/live-the-gospel?lang=eng\n",
            "Successfully fetched https://www.churchofjesuschrist.org/study/general-conference/1984/10/when-i-was-called-as-a-scoutmaster?lang=eng\n",
            "Successfully fetched https://www.churchofjesuschrist.org/study/general-conference/1984/10/the-joy-of-the-penetrating-light?lang=engSuccessfully fetched https://www.churchofjesuschrist.org/study/general-conference/1984/10/if-thou-art-faithful?lang=eng\n",
            "\n",
            "Successfully fetched https://www.churchofjesuschrist.org/study/general-conference/1984/10/learning-our-fathers-will?lang=eng\n",
            "Successfully fetched https://www.churchofjesuschrist.org/study/general-conference/1984/10/the-pattern-of-our-parentage?lang=eng\n",
            "Successfully fetched https://www.churchofjesuschrist.org/study/general-conference/1984/10/and-why-call-ye-me-lord-lord-and-do-not-the-things-which-i-say?lang=eng\n",
            "Successfully fetched https://www.churchofjesuschrist.org/study/general-conference/1984/10/spiritual-power?lang=eng\n",
            "Successfully fetched https://www.churchofjesuschrist.org/study/general-conference/1984/10/the-works-of-god?lang=eng\n",
            "Successfully fetched https://www.churchofjesuschrist.org/study/general-conference/1984/10/why-do-we-serve?lang=eng\n",
            "Successfully fetched https://www.churchofjesuschrist.org/study/general-conference/1984/10/the-gospel-and-the-church?lang=eng\n",
            "Successfully fetched https://www.churchofjesuschrist.org/study/general-conference/1984/10/the-good-and-faithful-servants?lang=eng\n",
            "Successfully fetched https://www.churchofjesuschrist.org/study/general-conference/1984/10/the-joy-of-service?lang=eng\n",
            "Successfully fetched https://www.churchofjesuschrist.org/study/general-conference/1984/10/the-aaronic-priesthood-pathway?lang=eng\n",
            "Successfully fetched https://www.churchofjesuschrist.org/study/general-conference/1984/10/the-sustaining-of-church-officers?lang=eng\n"
          ]
        },
        {
          "output_type": "stream",
          "name": "stderr",
          "text": [
            "Scraping talks in parallel:  72%|███████▏  | 3055/4233 [06:44<02:03,  9.56it/s]"
          ]
        },
        {
          "output_type": "stream",
          "name": "stdout",
          "text": [
            "Successfully fetched https://www.churchofjesuschrist.org/study/general-conference/1984/10/out-of-obscurity?lang=eng\n",
            "Successfully fetched https://www.churchofjesuschrist.org/study/general-conference/1984/10/if-thou-endure-it-well?lang=eng\n",
            "Successfully fetched https://www.churchofjesuschrist.org/study/general-conference/1984/10/by-their-fruits-ye-shall-know-them?lang=eng\n"
          ]
        },
        {
          "output_type": "stream",
          "name": "stderr",
          "text": [
            "\rScraping talks in parallel:  72%|███████▏  | 3058/4233 [06:44<01:51, 10.52it/s]"
          ]
        },
        {
          "output_type": "stream",
          "name": "stdout",
          "text": [
            "Successfully fetched https://www.churchofjesuschrist.org/study/general-conference/1984/10/keeping-the-covenants-we-make-at-baptism?lang=eng\n",
            "Successfully fetched https://www.churchofjesuschrist.org/study/general-conference/1984/10/the-banner-of-the-lord?lang=eng\n",
            "Successfully fetched https://www.churchofjesuschrist.org/study/general-conference/1984/10/coordination-and-cooperation?lang=eng\n",
            "Successfully fetched https://www.churchofjesuschrist.org/study/general-conference/1984/10/service-in-the-church?lang=eng\n"
          ]
        },
        {
          "output_type": "stream",
          "name": "stderr",
          "text": [
            "\rScraping talks in parallel:  72%|███████▏  | 3060/4233 [06:45<02:03,  9.47it/s]"
          ]
        },
        {
          "output_type": "stream",
          "name": "stdout",
          "text": [
            "Successfully fetched https://www.churchofjesuschrist.org/study/general-conference/1984/10/saturday-morning-session?lang=eng\n",
            "Successfully fetched https://www.churchofjesuschrist.org/study/general-conference/1984/10/a-new-witness-for-christ?lang=eng\n",
            "Successfully fetched https://www.churchofjesuschrist.org/study/general-conference/1984/10/personal-morality?lang=eng\n",
            "Successfully fetched https://www.churchofjesuschrist.org/study/general-conference/1984/10/master-the-tempest-is-raging?lang=eng\n"
          ]
        },
        {
          "output_type": "stream",
          "name": "stderr",
          "text": [
            "\rScraping talks in parallel:  72%|███████▏  | 3063/4233 [06:45<02:21,  8.25it/s]"
          ]
        },
        {
          "output_type": "stream",
          "name": "stdout",
          "text": [
            "Successfully fetched https://www.churchofjesuschrist.org/study/general-conference/1984/10/the-cornerstones-of-our-faith?lang=eng\n",
            "Successfully fetched https://www.churchofjesuschrist.org/study/general-conference/1984/10/the-power-of-keeping-the-sabbath-day-holy?lang=eng\n",
            "Successfully fetched https://www.churchofjesuschrist.org/study/general-conference/1984/10/prepare-for-a-mission?lang=eng\n"
          ]
        },
        {
          "output_type": "stream",
          "name": "stderr",
          "text": [
            "\rScraping talks in parallel:  73%|███████▎  | 3069/4233 [06:45<01:42, 11.32it/s]"
          ]
        },
        {
          "output_type": "stream",
          "name": "stdout",
          "text": [
            "Successfully fetched https://www.churchofjesuschrist.org/study/general-conference/1984/10/protect-the-spiritual-power-line?lang=eng\n",
            "Successfully fetched https://www.churchofjesuschrist.org/study/general-conference/1984/04/statistical-report-1983?lang=eng\n",
            "Successfully fetched https://www.churchofjesuschrist.org/study/general-conference/1984/10/eternal-marriage?lang=eng\n",
            "Successfully fetched https://www.churchofjesuschrist.org/study/general-conference/1984/04/warmed-by-the-fires-of-their-lives?lang=eng\n",
            "Successfully fetched https://www.churchofjesuschrist.org/study/general-conference/1984/04/small-acts-lead-to-great-consequences?lang=eng\n",
            "Successfully fetched https://www.churchofjesuschrist.org/study/general-conference/1984/10/he-returned-speedily?lang=eng\n",
            "Successfully fetched https://www.churchofjesuschrist.org/study/general-conference/1984/04/the-practice-of-truth?lang=eng\n",
            "Successfully fetched https://www.churchofjesuschrist.org/study/general-conference/1984/04/the-miracle-made-possible-by-faith?lang=eng\n",
            "Successfully fetched https://www.churchofjesuschrist.org/study/general-conference/1984/10/write-down-a-date?lang=eng\n"
          ]
        },
        {
          "output_type": "stream",
          "name": "stderr",
          "text": [
            "Scraping talks in parallel:  73%|███████▎  | 3073/4233 [06:46<02:31,  7.68it/s]"
          ]
        },
        {
          "output_type": "stream",
          "name": "stdout",
          "text": [
            "Successfully fetched https://www.churchofjesuschrist.org/study/general-conference/1984/04/covenants-ordinances-and-service?lang=eng\n",
            "Successfully fetched https://www.churchofjesuschrist.org/study/general-conference/1984/04/youth-of-the-noble-birthright?lang=eng\n",
            "Successfully fetched https://www.churchofjesuschrist.org/study/general-conference/1984/04/the-great-plan-of-the-eternal-god?lang=eng\n",
            "Successfully fetched https://www.churchofjesuschrist.org/study/general-conference/1984/04/i-love-the-sisters-of-the-church?lang=eng\n"
          ]
        },
        {
          "output_type": "stream",
          "name": "stderr",
          "text": [
            "\rScraping talks in parallel:  73%|███████▎  | 3076/4233 [06:47<02:34,  7.46it/s]"
          ]
        },
        {
          "output_type": "stream",
          "name": "stdout",
          "text": [
            "Successfully fetched https://www.churchofjesuschrist.org/study/general-conference/1984/04/home-and-family-a-divine-eternal-pattern?lang=eng\n",
            "Successfully fetched https://www.churchofjesuschrist.org/study/general-conference/1984/04/our-commission-to-take-the-gospel-to-all-the-world?lang=eng\n"
          ]
        },
        {
          "output_type": "stream",
          "name": "stderr",
          "text": [
            "\rScraping talks in parallel:  73%|███████▎  | 3077/4233 [06:47<02:51,  6.74it/s]"
          ]
        },
        {
          "output_type": "stream",
          "name": "stdout",
          "text": [
            "Successfully fetched https://www.churchofjesuschrist.org/study/general-conference/1984/04/the-pharisee-and-the-publican?lang=eng\n",
            "Successfully fetched https://www.churchofjesuschrist.org/study/general-conference/1984/04/the-sustaining-of-church-officers?lang=eng\n",
            "Successfully fetched https://www.churchofjesuschrist.org/study/general-conference/1984/04/restoring-the-lost-sheep?lang=eng\n"
          ]
        },
        {
          "output_type": "stream",
          "name": "stderr",
          "text": [
            "\rScraping talks in parallel:  73%|███████▎  | 3086/4233 [06:47<01:20, 14.24it/s]"
          ]
        },
        {
          "output_type": "stream",
          "name": "stdout",
          "text": [
            "Successfully fetched https://www.churchofjesuschrist.org/study/general-conference/1984/04/feed-my-sheep?lang=eng\n",
            "Successfully fetched https://www.churchofjesuschrist.org/study/general-conference/1984/04/building-your-eternal-home?lang=eng\n"
          ]
        },
        {
          "output_type": "stream",
          "name": "stderr",
          "text": [
            "\rScraping talks in parallel:  73%|███████▎  | 3088/4233 [06:47<01:23, 13.71it/s]"
          ]
        },
        {
          "output_type": "stream",
          "name": "stdout",
          "text": [
            "Successfully fetched https://www.churchofjesuschrist.org/study/general-conference/1984/04/patterns-of-prayer?lang=eng\n",
            "Successfully fetched https://www.churchofjesuschrist.org/study/general-conference/1984/04/missions-only-you-can-decide?lang=eng\n",
            "Successfully fetched https://www.churchofjesuschrist.org/study/general-conference/1984/04/the-simplicity-of-gospel-truths?lang=eng\n",
            "Successfully fetched https://www.churchofjesuschrist.org/study/general-conference/1984/04/counsel-to-the-saints?lang=eng\n",
            "Successfully fetched https://www.churchofjesuschrist.org/study/general-conference/1984/04/upheld-by-the-prayers-of-the-church?lang=eng\n",
            "Successfully fetched https://www.churchofjesuschrist.org/study/general-conference/1984/04/special-witnesses-for-christ?lang=engSuccessfully fetched https://www.churchofjesuschrist.org/study/general-conference/1984/04/whos-on-the-lords-team?lang=eng\n",
            "\n"
          ]
        },
        {
          "output_type": "stream",
          "name": "stderr",
          "text": [
            "Scraping talks in parallel:  73%|███████▎  | 3092/4233 [06:48<02:04,  9.20it/s]"
          ]
        },
        {
          "output_type": "stream",
          "name": "stdout",
          "text": [
            "Successfully fetched https://www.churchofjesuschrist.org/study/general-conference/1984/04/call-to-the-holy-apostleship?lang=eng\n",
            "Successfully fetched https://www.churchofjesuschrist.org/study/general-conference/1984/04/count-your-blessings?lang=eng\n"
          ]
        },
        {
          "output_type": "stream",
          "name": "stderr",
          "text": [
            "\rScraping talks in parallel:  73%|███████▎  | 3096/4233 [06:49<01:53, 10.03it/s]"
          ]
        },
        {
          "output_type": "stream",
          "name": "stdout",
          "text": [
            "Successfully fetched https://www.churchofjesuschrist.org/study/general-conference/1984/04/choose-the-good-part?lang=eng\n",
            "Successfully fetched https://www.churchofjesuschrist.org/study/general-conference/1984/04/the-magnificent-vision-near-palmyra?lang=eng\n",
            "Successfully fetched https://www.churchofjesuschrist.org/study/general-conference/1984/04/jesus-the-christ-the-words-and-their-meaning?lang=eng\n"
          ]
        },
        {
          "output_type": "stream",
          "name": "stderr",
          "text": [
            "\rScraping talks in parallel:  73%|███████▎  | 3098/4233 [06:49<02:11,  8.61it/s]"
          ]
        },
        {
          "output_type": "stream",
          "name": "stdout",
          "text": [
            "Successfully fetched https://www.churchofjesuschrist.org/study/general-conference/1984/04/saturday-morning-session?lang=eng\n",
            "Successfully fetched https://www.churchofjesuschrist.org/study/general-conference/1984/04/the-sure-sound-of-the-trumpet?lang=eng\n",
            "Successfully fetched https://www.churchofjesuschrist.org/study/general-conference/1984/04/coming-through-the-mists?lang=eng\n",
            "Successfully fetched https://www.churchofjesuschrist.org/study/general-conference/1984/04/a-generation-prepared-to-make-wise-choices?lang=eng\n",
            "Successfully fetched https://www.churchofjesuschrist.org/study/general-conference/1984/04/the-church-audit-committee-report?lang=eng\n",
            "Successfully fetched https://www.churchofjesuschrist.org/study/general-conference/1984/04/go-ye-therefore-and-teach-all-nations?lang=eng\n"
          ]
        },
        {
          "output_type": "stream",
          "name": "stderr",
          "text": [
            "Scraping talks in parallel:  73%|███████▎  | 3111/4233 [06:50<01:11, 15.79it/s]"
          ]
        },
        {
          "output_type": "stream",
          "name": "stdout",
          "text": [
            "Successfully fetched https://www.churchofjesuschrist.org/study/general-conference/1984/04/marriage-and-divorce?lang=eng\n",
            "Successfully fetched https://www.churchofjesuschrist.org/study/general-conference/1983/10/the-power-to-make-a-difference?lang=eng\n",
            "Successfully fetched https://www.churchofjesuschrist.org/study/general-conference/1983/10/our-responsibility-to-take-the-gospel-to-the-ends-of-the-earth?lang=eng\n",
            "Successfully fetched https://www.churchofjesuschrist.org/study/general-conference/1983/10/the-angel-moroni-came?lang=eng\n",
            "Successfully fetched https://www.churchofjesuschrist.org/study/general-conference/1983/10/removing-the-poison-of-an-unforgiving-spirit?lang=eng\n",
            "Successfully fetched https://www.churchofjesuschrist.org/study/general-conference/1983/10/what-manner-of-men-ought-we-to-be?lang=eng\n",
            "Successfully fetched https://www.churchofjesuschrist.org/study/general-conference/1983/10/live-up-to-your-inheritance?lang=eng\n",
            "Successfully fetched https://www.churchofjesuschrist.org/study/general-conference/1983/10/the-blessings-of-missionary-service?lang=eng\n",
            "Successfully fetched https://www.churchofjesuschrist.org/study/general-conference/1983/10/become-a-star-thrower?lang=eng\n",
            "Successfully fetched https://www.churchofjesuschrist.org/study/general-conference/1983/10/saturday-morning-session?lang=engSuccessfully fetched https://www.churchofjesuschrist.org/study/general-conference/1983/10/our-father-which-art-in-heaven?lang=eng\n",
            "\n",
            "Successfully fetched https://www.churchofjesuschrist.org/study/general-conference/1983/10/be-a-peacemaker?lang=eng\n",
            "Successfully fetched https://www.churchofjesuschrist.org/study/general-conference/1983/10/the-keystone-of-our-religion?lang=eng\n"
          ]
        },
        {
          "output_type": "stream",
          "name": "stderr",
          "text": [
            "\rScraping talks in parallel:  74%|███████▎  | 3114/4233 [06:51<02:35,  7.21it/s]"
          ]
        },
        {
          "output_type": "stream",
          "name": "stdout",
          "text": [
            "Successfully fetched https://www.churchofjesuschrist.org/study/general-conference/1983/10/friend-or-foe?lang=eng\n",
            "Successfully fetched https://www.churchofjesuschrist.org/study/general-conference/1983/10/called-as-if-he-heard-a-voice-from-heaven?lang=eng\n"
          ]
        },
        {
          "output_type": "stream",
          "name": "stderr",
          "text": [
            "\rScraping talks in parallel:  74%|███████▎  | 3117/4233 [06:51<02:25,  7.66it/s]"
          ]
        },
        {
          "output_type": "stream",
          "name": "stdout",
          "text": [
            "Successfully fetched https://www.churchofjesuschrist.org/study/general-conference/1983/10/what-think-ye-of-the-book-of-mormon?lang=eng\n",
            "Successfully fetched https://www.churchofjesuschrist.org/study/general-conference/1983/10/parent-child-interviews?lang=eng\n"
          ]
        },
        {
          "output_type": "stream",
          "name": "stderr",
          "text": [
            "\rScraping talks in parallel:  74%|███████▍  | 3122/4233 [06:52<02:13,  8.31it/s]"
          ]
        },
        {
          "output_type": "stream",
          "name": "stdout",
          "text": [
            "Successfully fetched https://www.churchofjesuschrist.org/study/general-conference/1983/10/agency-and-love?lang=eng\n",
            "Successfully fetched https://www.churchofjesuschrist.org/study/general-conference/1983/10/god-grant-us-faith?lang=eng\n",
            "Successfully fetched https://www.churchofjesuschrist.org/study/general-conference/1983/10/labels?lang=eng\n",
            "Successfully fetched https://www.churchofjesuschrist.org/study/general-conference/1983/10/parents-concern-for-children?lang=eng\n",
            "Successfully fetched https://www.churchofjesuschrist.org/study/general-conference/1983/10/let-us-go-forward?lang=eng\n",
            "Successfully fetched https://www.churchofjesuschrist.org/study/general-conference/1983/10/except-ye-are-one?lang=eng\n",
            "Successfully fetched https://www.churchofjesuschrist.org/study/general-conference/1983/10/the-mystery-of-life?lang=eng\n"
          ]
        },
        {
          "output_type": "stream",
          "name": "stderr",
          "text": [
            "\rScraping talks in parallel:  74%|███████▍  | 3128/4233 [06:52<01:43, 10.66it/s]"
          ]
        },
        {
          "output_type": "stream",
          "name": "stdout",
          "text": [
            "Successfully fetched https://www.churchofjesuschrist.org/study/general-conference/1983/10/be-not-deceived?lang=eng\n",
            "Successfully fetched https://www.churchofjesuschrist.org/study/general-conference/1983/10/prepare-to-teach-his-children?lang=eng\n"
          ]
        },
        {
          "output_type": "stream",
          "name": "stderr",
          "text": [
            "Scraping talks in parallel:  74%|███████▍  | 3132/4233 [06:53<01:58,  9.28it/s]"
          ]
        },
        {
          "output_type": "stream",
          "name": "stdout",
          "text": [
            "Successfully fetched https://www.churchofjesuschrist.org/study/general-conference/1983/10/joseph-the-seer?lang=eng\n",
            "Successfully fetched https://www.churchofjesuschrist.org/study/general-conference/1983/10/agency-and-accountability?lang=eng\n",
            "Successfully fetched https://www.churchofjesuschrist.org/study/general-conference/1983/10/honour-thy-father-and-thy-mother?lang=eng\n",
            "Successfully fetched https://www.churchofjesuschrist.org/study/general-conference/1983/10/the-house-of-the-lord?lang=eng\n"
          ]
        },
        {
          "output_type": "stream",
          "name": "stderr",
          "text": [
            "\rScraping talks in parallel:  74%|███████▍  | 3136/4233 [06:53<01:36, 11.37it/s]"
          ]
        },
        {
          "output_type": "stream",
          "name": "stdout",
          "text": [
            "Successfully fetched https://www.churchofjesuschrist.org/study/general-conference/1983/10/how-do-you-know?lang=eng\n",
            "Successfully fetched https://www.churchofjesuschrist.org/study/general-conference/1983/10/your-sorrow-shall-be-turned-to-joy?lang=eng\n",
            "Successfully fetched https://www.churchofjesuschrist.org/study/general-conference/1983/10/the-sustaining-of-church-officers?lang=eng\n",
            "Successfully fetched https://www.churchofjesuschrist.org/study/general-conference/1983/10/a-season-for-strength?lang=eng\n"
          ]
        },
        {
          "output_type": "stream",
          "name": "stderr",
          "text": [
            "\rScraping talks in parallel:  74%|███████▍  | 3138/4233 [06:53<02:22,  7.66it/s]"
          ]
        },
        {
          "output_type": "stream",
          "name": "stdout",
          "text": [
            "Successfully fetched https://www.churchofjesuschrist.org/study/general-conference/1983/10/jesus-christ-our-savior-and-redeemer?lang=eng\n"
          ]
        },
        {
          "output_type": "stream",
          "name": "stderr",
          "text": [
            "\rScraping talks in parallel:  74%|███████▍  | 3141/4233 [06:54<02:02,  8.95it/s]"
          ]
        },
        {
          "output_type": "stream",
          "name": "stdout",
          "text": [
            "Successfully fetched https://www.churchofjesuschrist.org/study/general-conference/1983/04/creator-and-savior?lang=engSuccessfully fetched https://www.churchofjesuschrist.org/study/general-conference/1983/04/within-the-clasp-of-your-arms?lang=eng\n",
            "\n",
            "Successfully fetched https://www.churchofjesuschrist.org/study/general-conference/1983/10/the-word-is-commitment?lang=eng\n",
            "Successfully fetched https://www.churchofjesuschrist.org/study/general-conference/1983/04/teaching-no-greater-call?lang=eng\n",
            "Successfully fetched https://www.churchofjesuschrist.org/study/general-conference/1983/04/profanity-and-swearing?lang=eng\n",
            "Successfully fetched https://www.churchofjesuschrist.org/study/general-conference/1983/04/valiance-in-the-drama-of-life?lang=eng\n",
            "Successfully fetched https://www.churchofjesuschrist.org/study/general-conference/1983/04/agency-and-control?lang=eng\n",
            "Successfully fetched https://www.churchofjesuschrist.org/study/general-conference/1983/04/a-royal-generation?lang=eng\n",
            "Successfully fetched https://www.churchofjesuschrist.org/study/general-conference/1983/04/a-principle-with-a-promise?lang=eng\n"
          ]
        },
        {
          "output_type": "stream",
          "name": "stderr",
          "text": [
            "Scraping talks in parallel:  74%|███████▍  | 3148/4233 [06:55<03:02,  5.95it/s]"
          ]
        },
        {
          "output_type": "stream",
          "name": "stdout",
          "text": [
            "Successfully fetched https://www.churchofjesuschrist.org/study/general-conference/1983/04/a-call-to-the-priesthood-feed-my-sheep?lang=eng\n",
            "Successfully fetched https://www.churchofjesuschrist.org/study/general-conference/1983/04/evidences-of-the-resurrection?lang=eng\n",
            "Successfully fetched https://www.churchofjesuschrist.org/study/general-conference/1983/04/church-audit-committee-report?lang=eng\n",
            "Successfully fetched https://www.churchofjesuschrist.org/study/general-conference/1983/04/that-ye-may-have-roots-and-branches?lang=eng\n",
            "Successfully fetched https://www.churchofjesuschrist.org/study/general-conference/1983/04/the-keys-of-the-kingdom?lang=eng\n",
            "Successfully fetched https://www.churchofjesuschrist.org/study/general-conference/1983/04/receiving-a-prophet?lang=eng\n",
            "Successfully fetched https://www.churchofjesuschrist.org/study/general-conference/1983/04/climbing-to-higher-spirituality?lang=eng\n"
          ]
        },
        {
          "output_type": "stream",
          "name": "stderr",
          "text": [
            "\rScraping talks in parallel:  75%|███████▍  | 3155/4233 [06:56<02:16,  7.89it/s]"
          ]
        },
        {
          "output_type": "stream",
          "name": "stdout",
          "text": [
            "Successfully fetched https://www.churchofjesuschrist.org/study/general-conference/1983/04/the-gospel-of-jesus-christ-and-basic-needs-of-people?lang=eng\n",
            "Successfully fetched https://www.churchofjesuschrist.org/study/general-conference/1983/04/overpowering-the-goliaths-in-our-lives?lang=eng\n"
          ]
        },
        {
          "output_type": "stream",
          "name": "stderr",
          "text": [
            "\rScraping talks in parallel:  75%|███████▍  | 3158/4233 [06:56<02:04,  8.66it/s]"
          ]
        },
        {
          "output_type": "stream",
          "name": "stdout",
          "text": [
            "Successfully fetched https://www.churchofjesuschrist.org/study/general-conference/1983/04/anonymous?lang=eng\n",
            "Successfully fetched https://www.churchofjesuschrist.org/study/general-conference/1983/04/saturday-morning-session?lang=eng\n"
          ]
        },
        {
          "output_type": "stream",
          "name": "stderr",
          "text": [
            "\rScraping talks in parallel:  75%|███████▍  | 3163/4233 [06:56<01:34, 11.37it/s]"
          ]
        },
        {
          "output_type": "stream",
          "name": "stdout",
          "text": [
            "Successfully fetched https://www.churchofjesuschrist.org/study/general-conference/1983/04/to-forgive-is-divine?lang=eng\n",
            "Successfully fetched https://www.churchofjesuschrist.org/study/general-conference/1983/04/repentance?lang=eng\n",
            "Successfully fetched https://www.churchofjesuschrist.org/study/general-conference/1983/04/unity?lang=eng\n",
            "Successfully fetched https://www.churchofjesuschrist.org/study/general-conference/1983/04/finding-ones-identity?lang=eng\n",
            "Successfully fetched https://www.churchofjesuschrist.org/study/general-conference/1983/04/muddy-feet-and-white-shirts?lang=engSuccessfully fetched https://www.churchofjesuschrist.org/study/general-conference/1983/04/train-up-a-child?lang=eng\n",
            "\n",
            "Successfully fetched https://www.churchofjesuschrist.org/study/general-conference/1983/04/the-sustaining-of-church-officers?lang=eng\n",
            "Successfully fetched https://www.churchofjesuschrist.org/study/general-conference/1983/04/straightway?lang=eng\n"
          ]
        },
        {
          "output_type": "stream",
          "name": "stderr",
          "text": [
            "\rScraping talks in parallel:  75%|███████▍  | 3166/4233 [06:57<02:02,  8.72it/s]"
          ]
        },
        {
          "output_type": "stream",
          "name": "stdout",
          "text": [
            "Successfully fetched https://www.churchofjesuschrist.org/study/general-conference/1983/04/the-sacrament?lang=eng\n",
            "Successfully fetched https://www.churchofjesuschrist.org/study/general-conference/1983/04/fear-not-to-do-good?lang=eng\n",
            "Successfully fetched https://www.churchofjesuschrist.org/study/general-conference/1983/04/he-slumbers-not-nor-sleeps?lang=eng\n"
          ]
        },
        {
          "output_type": "stream",
          "name": "stderr",
          "text": [
            "Scraping talks in parallel:  75%|███████▍  | 3170/4233 [06:58<02:10,  8.14it/s]"
          ]
        },
        {
          "output_type": "stream",
          "name": "stdout",
          "text": [
            "Successfully fetched https://www.churchofjesuschrist.org/study/general-conference/1983/04/shine-as-lights-in-the-world?lang=eng\n",
            "Successfully fetched https://www.churchofjesuschrist.org/study/general-conference/1983/04/statistical-report-1982?lang=eng\n"
          ]
        },
        {
          "output_type": "stream",
          "name": "stderr",
          "text": [
            "\rScraping talks in parallel:  75%|███████▌  | 3177/4233 [06:58<01:25, 12.33it/s]"
          ]
        },
        {
          "output_type": "stream",
          "name": "stdout",
          "text": [
            "Successfully fetched https://www.churchofjesuschrist.org/study/general-conference/1982/10/pure-religion?lang=eng\n",
            "Successfully fetched https://www.churchofjesuschrist.org/study/general-conference/1982/10/fundamentals-of-enduring-family-relationships?lang=eng\n",
            "Successfully fetched https://www.churchofjesuschrist.org/study/general-conference/1983/04/enriching-family-life?lang=eng\n",
            "Successfully fetched https://www.churchofjesuschrist.org/study/general-conference/1982/10/activating-young-men-of-the-aaronic-priesthood?lang=eng\n",
            "Successfully fetched https://www.churchofjesuschrist.org/study/general-conference/1982/10/gratitude-and-thanksgiving?lang=eng\n"
          ]
        },
        {
          "output_type": "stream",
          "name": "stderr",
          "text": [
            "\rScraping talks in parallel:  75%|███████▌  | 3179/4233 [06:58<02:05,  8.37it/s]"
          ]
        },
        {
          "output_type": "stream",
          "name": "stdout",
          "text": [
            "Successfully fetched https://www.churchofjesuschrist.org/study/general-conference/1982/10/believers-and-doers?lang=eng\n",
            "Successfully fetched https://www.churchofjesuschrist.org/study/general-conference/1982/10/behold-my-beloved-son-in-whom-i-am-well-pleased?lang=eng\n",
            "Successfully fetched https://www.churchofjesuschrist.org/study/general-conference/1982/10/the-sustaining-of-church-officers?lang=eng\n",
            "Successfully fetched https://www.churchofjesuschrist.org/study/general-conference/1982/10/scriptures?lang=eng\n"
          ]
        },
        {
          "output_type": "stream",
          "name": "stderr",
          "text": [
            "\rScraping talks in parallel:  75%|███████▌  | 3181/4233 [06:59<01:53,  9.23it/s]"
          ]
        },
        {
          "output_type": "stream",
          "name": "stdout",
          "text": [
            "Successfully fetched https://www.churchofjesuschrist.org/study/general-conference/1982/10/the-blessings-we-receive-as-we-meet-the-challenges-of-economic-stress?lang=eng\n",
            "Successfully fetched https://www.churchofjesuschrist.org/study/general-conference/1982/10/my-soul-delighteth-in-the-scriptures?lang=engSuccessfully fetched https://www.churchofjesuschrist.org/study/general-conference/1982/10/preparation-for-tomorrow?lang=eng\n",
            "\n",
            "Successfully fetched https://www.churchofjesuschrist.org/study/general-conference/1982/10/how-we-promote-activation?lang=eng\n"
          ]
        },
        {
          "output_type": "stream",
          "name": "stderr",
          "text": [
            "\rScraping talks in parallel:  75%|███████▌  | 3187/4233 [06:59<01:48,  9.66it/s]"
          ]
        },
        {
          "output_type": "stream",
          "name": "stdout",
          "text": [
            "Successfully fetched https://www.churchofjesuschrist.org/study/general-conference/1982/10/revitalizing-aaronic-priesthood-quorums?lang=eng\n",
            "Successfully fetched https://www.churchofjesuschrist.org/study/general-conference/1982/10/reach-out-in-love-and-kindness?lang=eng\n",
            "Successfully fetched https://www.churchofjesuschrist.org/study/general-conference/1982/10/what-this-work-is-all-about?lang=eng\n",
            "Successfully fetched https://www.churchofjesuschrist.org/study/general-conference/1982/10/let-us-do-as-we-have-been-counseled?lang=engSuccessfully fetched https://www.churchofjesuschrist.org/study/general-conference/1982/10/the-seven-christs?lang=eng\n",
            "\n"
          ]
        },
        {
          "output_type": "stream",
          "name": "stderr",
          "text": [
            "\rScraping talks in parallel:  75%|███████▌  | 3190/4233 [06:59<01:47,  9.69it/s]"
          ]
        },
        {
          "output_type": "stream",
          "name": "stdout",
          "text": [
            "Successfully fetched https://www.churchofjesuschrist.org/study/general-conference/1982/10/love-all?lang=eng\n",
            "Successfully fetched https://www.churchofjesuschrist.org/study/general-conference/1982/10/the-meaning-of-maturity?lang=eng\n"
          ]
        },
        {
          "output_type": "stream",
          "name": "stderr",
          "text": [
            "Scraping talks in parallel:  75%|███████▌  | 3194/4233 [07:00<02:07,  8.15it/s]"
          ]
        },
        {
          "output_type": "stream",
          "name": "stdout",
          "text": [
            "Successfully fetched https://www.churchofjesuschrist.org/study/general-conference/1982/10/look-to-god?lang=eng\n",
            "Successfully fetched https://www.churchofjesuschrist.org/study/general-conference/1982/10/the-lord-expects-righteousness?lang=eng\n",
            "Successfully fetched https://www.churchofjesuschrist.org/study/general-conference/1982/10/saturday-morning-session?lang=eng\n",
            "Successfully fetched https://www.churchofjesuschrist.org/study/general-conference/1982/10/the-blessings-of-family-work-projects?lang=eng\n"
          ]
        },
        {
          "output_type": "stream",
          "name": "stderr",
          "text": [
            "\rScraping talks in parallel:  76%|███████▌  | 3199/4233 [07:00<01:46,  9.74it/s]"
          ]
        },
        {
          "output_type": "stream",
          "name": "stdout",
          "text": [
            "Successfully fetched https://www.churchofjesuschrist.org/study/general-conference/1982/10/however-faint-the-light-may-glow?lang=eng\n",
            "Successfully fetched https://www.churchofjesuschrist.org/study/general-conference/1982/10/faith-the-force-of-life?lang=engSuccessfully fetched https://www.churchofjesuschrist.org/study/general-conference/1982/10/be-of-good-cheer?lang=eng\n"
          ]
        },
        {
          "output_type": "stream",
          "name": "stderr",
          "text": [
            "\rScraping talks in parallel:  76%|███████▌  | 3202/4233 [07:01<01:30, 11.43it/s]"
          ]
        },
        {
          "output_type": "stream",
          "name": "stdout",
          "text": [
            "\n",
            "Successfully fetched https://www.churchofjesuschrist.org/study/general-conference/1982/10/be-a-friend-a-servant-a-son-of-the-savior?lang=eng\n"
          ]
        },
        {
          "output_type": "stream",
          "name": "stderr",
          "text": [
            "\rScraping talks in parallel:  76%|███████▌  | 3204/4233 [07:01<01:38, 10.50it/s]"
          ]
        },
        {
          "output_type": "stream",
          "name": "stdout",
          "text": [
            "Successfully fetched https://www.churchofjesuschrist.org/study/general-conference/1982/10/the-power-of-the-priesthood?lang=eng\n",
            "Successfully fetched https://www.churchofjesuschrist.org/study/general-conference/1982/10/the-pearl-of-great-price?lang=eng\n",
            "Successfully fetched https://www.churchofjesuschrist.org/study/general-conference/1982/10/application-of-welfare-principles-in-the-home-a-key-to-many-family-problems?lang=eng\n",
            "Successfully fetched https://www.churchofjesuschrist.org/study/general-conference/1982/10/commitment-to-god?lang=eng\n"
          ]
        },
        {
          "output_type": "stream",
          "name": "stderr",
          "text": [
            "\rScraping talks in parallel:  76%|███████▌  | 3206/4233 [07:01<01:59,  8.56it/s]"
          ]
        },
        {
          "output_type": "stream",
          "name": "stdout",
          "text": [
            "Successfully fetched https://www.churchofjesuschrist.org/study/general-conference/1982/10/lds-hymns-worshiping-with-song?lang=eng\n",
            "Successfully fetched https://www.churchofjesuschrist.org/study/general-conference/1982/10/the-celestial-nature-of-self-reliance?lang=eng\n",
            "Successfully fetched https://www.churchofjesuschrist.org/study/general-conference/1982/10/run-boy-run?lang=eng\n"
          ]
        },
        {
          "output_type": "stream",
          "name": "stderr",
          "text": [
            "\rScraping talks in parallel:  76%|███████▌  | 3209/4233 [07:01<01:48,  9.42it/s]"
          ]
        },
        {
          "output_type": "stream",
          "name": "stdout",
          "text": [
            "Successfully fetched https://www.churchofjesuschrist.org/study/general-conference/1982/10/the-priesthood-of-aaron?lang=eng\n",
            "Successfully fetched https://www.churchofjesuschrist.org/study/general-conference/1982/04/the-gospel-the-foundation-for-our-career?lang=eng\n"
          ]
        },
        {
          "output_type": "stream",
          "name": "stderr",
          "text": [
            "\rScraping talks in parallel:  76%|███████▌  | 3211/4233 [07:02<02:01,  8.40it/s]"
          ]
        },
        {
          "output_type": "stream",
          "name": "stdout",
          "text": [
            "Successfully fetched https://www.churchofjesuschrist.org/study/general-conference/1982/04/a-lasting-marriage?lang=eng\n",
            "Successfully fetched https://www.churchofjesuschrist.org/study/general-conference/1982/04/the-first-and-the-last-words?lang=eng\n",
            "Successfully fetched https://www.churchofjesuschrist.org/study/general-conference/1982/10/prepare-the-heart-of-your-son?lang=eng\n",
            "Successfully fetched https://www.churchofjesuschrist.org/study/general-conference/1982/10/for-a-bishop-must-be-blameless?lang=engSuccessfully fetched https://www.churchofjesuschrist.org/study/general-conference/1982/04/we-believe-in-being-honest?lang=eng\n",
            "\n",
            "Successfully fetched https://www.churchofjesuschrist.org/study/general-conference/1982/04/sustaining-of-church-officers?lang=eng\n"
          ]
        },
        {
          "output_type": "stream",
          "name": "stderr",
          "text": [
            "\rScraping talks in parallel:  76%|███████▌  | 3214/4233 [07:03<02:49,  6.00it/s]"
          ]
        },
        {
          "output_type": "stream",
          "name": "stdout",
          "text": [
            "Successfully fetched https://www.churchofjesuschrist.org/study/general-conference/1982/04/the-doctrine-of-the-priesthood?lang=eng\n",
            "Successfully fetched https://www.churchofjesuschrist.org/study/general-conference/1982/04/love-is-the-power-that-will-cure-the-family?lang=engSuccessfully fetched https://www.churchofjesuschrist.org/study/general-conference/1982/04/what-the-gospel-teaches?lang=eng\n",
            "\n"
          ]
        },
        {
          "output_type": "stream",
          "name": "stderr",
          "text": [
            "\rScraping talks in parallel:  76%|███████▌  | 3221/4233 [07:03<01:50,  9.15it/s]"
          ]
        },
        {
          "output_type": "stream",
          "name": "stdout",
          "text": [
            "Successfully fetched https://www.churchofjesuschrist.org/study/general-conference/1982/04/what-temples-are-for?lang=eng\n",
            "Successfully fetched https://www.churchofjesuschrist.org/study/general-conference/1982/04/remember-the-mission-of-the-church?lang=eng\n",
            "Successfully fetched https://www.churchofjesuschrist.org/study/general-conference/1982/04/true-greatness?lang=eng\n",
            "Successfully fetched https://www.churchofjesuschrist.org/study/general-conference/1982/04/employment-challenges-in-the-1980s?lang=eng\n"
          ]
        },
        {
          "output_type": "stream",
          "name": "stderr",
          "text": [
            "Scraping talks in parallel:  76%|███████▌  | 3226/4233 [07:03<01:37, 10.38it/s]"
          ]
        },
        {
          "output_type": "stream",
          "name": "stdout",
          "text": [
            "Successfully fetched https://www.churchofjesuschrist.org/study/general-conference/1982/04/statistical-report-1981?lang=eng\n",
            "Successfully fetched https://www.churchofjesuschrist.org/study/general-conference/1982/04/this-is-no-harm?lang=eng\n",
            "Successfully fetched https://www.churchofjesuschrist.org/study/general-conference/1982/04/five-million-members-a-milestone-and-not-a-summit?lang=eng\n",
            "Successfully fetched https://www.churchofjesuschrist.org/study/general-conference/1982/04/the-power-of-family-prayer?lang=eng\n",
            "Successfully fetched https://www.churchofjesuschrist.org/study/general-conference/1982/04/work-and-welfare-a-historical-perspective?lang=eng\n",
            "Successfully fetched https://www.churchofjesuschrist.org/study/general-conference/1982/04/sailing-safely-the-seas-of-life?lang=eng\n",
            "Successfully fetched https://www.churchofjesuschrist.org/study/general-conference/1982/04/a-brother-offended?lang=eng\n",
            "Successfully fetched https://www.churchofjesuschrist.org/study/general-conference/1982/04/let-us-improve-ourselves?lang=eng\n",
            "Successfully fetched https://www.churchofjesuschrist.org/study/general-conference/1982/04/the-future-history-of-the-church?lang=eng\n"
          ]
        },
        {
          "output_type": "stream",
          "name": "stderr",
          "text": [
            "\rScraping talks in parallel:  76%|███████▋  | 3228/4233 [07:04<03:04,  5.44it/s]"
          ]
        },
        {
          "output_type": "stream",
          "name": "stdout",
          "text": [
            "Successfully fetched https://www.churchofjesuschrist.org/study/general-conference/1982/04/her-children-arise-up-and-call-her-blessed?lang=eng\n",
            "Successfully fetched https://www.churchofjesuschrist.org/study/general-conference/1982/04/the-value-of-work?lang=eng\n",
            "Successfully fetched https://www.churchofjesuschrist.org/study/general-conference/1982/04/priesthood?lang=eng\n",
            "Successfully fetched https://www.churchofjesuschrist.org/study/general-conference/1982/04/priesthood-activation?lang=eng\n",
            "Successfully fetched https://www.churchofjesuschrist.org/study/general-conference/1982/04/hearts-so-similar?lang=eng\n",
            "Successfully fetched https://www.churchofjesuschrist.org/study/general-conference/1982/04/spiritual-guides-for-teachers-of-righteousness?lang=eng\n",
            "Successfully fetched https://www.churchofjesuschrist.org/study/general-conference/1982/04/even-as-i-am?lang=eng\n",
            "Successfully fetched https://www.churchofjesuschrist.org/study/general-conference/1982/04/saturday-morning-session?lang=eng\n",
            "Successfully fetched https://www.churchofjesuschrist.org/study/general-conference/1982/04/tithing-an-opportunity-to-prove-our-faithfulness?lang=eng\n",
            "Successfully fetched https://www.churchofjesuschrist.org/study/general-conference/1982/04/integrity-the-mother-of-many-virtues?lang=eng\n",
            "Successfully fetched https://www.churchofjesuschrist.org/study/general-conference/1982/04/the-resurrection-of-jesus?lang=eng\n"
          ]
        },
        {
          "output_type": "stream",
          "name": "stderr",
          "text": [
            "\rScraping talks in parallel:  76%|███████▋  | 3234/4233 [07:05<02:56,  5.64it/s]"
          ]
        },
        {
          "output_type": "stream",
          "name": "stdout",
          "text": [
            "Successfully fetched https://www.churchofjesuschrist.org/study/general-conference/1982/04/pondering-strengthens-the-spiritual-life?lang=eng\n",
            "Successfully fetched https://www.churchofjesuschrist.org/study/general-conference/1982/04/beginning-again?lang=eng\n",
            "Successfully fetched https://www.churchofjesuschrist.org/study/general-conference/1982/04/reach-for-joy?lang=eng\n",
            "Successfully fetched https://www.churchofjesuschrist.org/study/general-conference/1982/04/the-lord-is-at-the-helm?lang=eng\n",
            "Successfully fetched https://www.churchofjesuschrist.org/study/general-conference/1982/04/jesus-is-our-savior?lang=eng\n",
            "Successfully fetched https://www.churchofjesuschrist.org/study/general-conference/1982/04/church-audit-committee-report?lang=eng\n",
            "Successfully fetched https://www.churchofjesuschrist.org/study/general-conference/1982/04/let-us-go-up-to-the-house-of-god?lang=eng\n",
            "Successfully fetched https://www.churchofjesuschrist.org/study/general-conference/1982/04/valiant-in-the-testimony-of-jesus?lang=engSuccessfully fetched https://www.churchofjesuschrist.org/study/general-conference/1982/04/gods-love-for-us-transcends-our-transgressions?lang=eng\n",
            "\n",
            "Successfully fetched https://www.churchofjesuschrist.org/study/general-conference/1982/04/an-invitation-to-grow?lang=eng\n"
          ]
        },
        {
          "output_type": "stream",
          "name": "stderr",
          "text": [
            "Scraping talks in parallel:  77%|███████▋  | 3256/4233 [07:07<01:24, 11.58it/s]"
          ]
        },
        {
          "output_type": "stream",
          "name": "stdout",
          "text": [
            "Successfully fetched https://www.churchofjesuschrist.org/study/general-conference/1981/10/when-ye-are-prepared-ye-shall-not-fear?lang=eng\n",
            "Successfully fetched https://www.churchofjesuschrist.org/study/general-conference/1981/10/charity-never-faileth?lang=eng\n",
            "Successfully fetched https://www.churchofjesuschrist.org/study/general-conference/1981/10/o-divine-redeemer?lang=eng\n",
            "Successfully fetched https://www.churchofjesuschrist.org/study/general-conference/1981/10/being-strengthened-through-service?lang=eng\n",
            "Successfully fetched https://www.churchofjesuschrist.org/study/general-conference/1981/10/living-welfare-principles?lang=eng\n",
            "Successfully fetched https://www.churchofjesuschrist.org/study/general-conference/1981/10/who-hath-believed-our-report?lang=eng\n",
            "Successfully fetched https://www.churchofjesuschrist.org/study/general-conference/1981/10/my-sheep-hear-my-voice?lang=eng\n",
            "Successfully fetched https://www.churchofjesuschrist.org/study/general-conference/1981/10/the-aaronic-priesthood?lang=eng\n",
            "Successfully fetched https://www.churchofjesuschrist.org/study/general-conference/1981/10/conference-time?lang=eng\n",
            "Successfully fetched https://www.churchofjesuschrist.org/study/general-conference/1981/10/he-is-risen?lang=eng\n",
            "Successfully fetched https://www.churchofjesuschrist.org/study/general-conference/1981/10/relief-society-in-welfare?lang=eng\n",
            "Successfully fetched https://www.churchofjesuschrist.org/study/general-conference/1981/10/four-bs-for-boys?lang=eng\n"
          ]
        },
        {
          "output_type": "stream",
          "name": "stderr",
          "text": [
            "\rScraping talks in parallel:  77%|███████▋  | 3261/4233 [07:09<02:24,  6.71it/s]"
          ]
        },
        {
          "output_type": "stream",
          "name": "stdout",
          "text": [
            "Successfully fetched https://www.churchofjesuschrist.org/study/general-conference/1981/10/people-to-people?lang=eng\n",
            "Successfully fetched https://www.churchofjesuschrist.org/study/general-conference/1981/10/love-extends-beyond-convenience?lang=eng\n",
            "Successfully fetched https://www.churchofjesuschrist.org/study/general-conference/1981/10/relief-society-in-times-of-transition?lang=eng\n",
            "Successfully fetched https://www.churchofjesuschrist.org/study/general-conference/1981/10/faith-the-essence-of-true-religion?lang=eng\n",
            "Successfully fetched https://www.churchofjesuschrist.org/study/general-conference/1981/10/the-ministry-of-the-aaronic-priesthood-holder?lang=eng\n",
            "Successfully fetched https://www.churchofjesuschrist.org/study/general-conference/1981/10/the-little-things-and-eternal-life?lang=eng\n",
            "Successfully fetched https://www.churchofjesuschrist.org/study/general-conference/1981/10/give-with-wisdom-that-they-may-receive-with-dignity?lang=eng\n",
            "Successfully fetched https://www.churchofjesuschrist.org/study/general-conference/1981/10/sanctification-through-missionary-service?lang=eng\n",
            "Successfully fetched https://www.churchofjesuschrist.org/study/general-conference/1981/10/saturday-morning-session?lang=eng\n",
            "Successfully fetched https://www.churchofjesuschrist.org/study/general-conference/1981/10/my-specialty-is-mercy?lang=engSuccessfully fetched https://www.churchofjesuschrist.org/study/general-conference/1981/10/teach-the-why?lang=eng\n",
            "\n"
          ]
        },
        {
          "output_type": "stream",
          "name": "stderr",
          "text": [
            "Scraping talks in parallel:  77%|███████▋  | 3276/4233 [07:10<01:45,  9.04it/s]"
          ]
        },
        {
          "output_type": "stream",
          "name": "stdout",
          "text": [
            "Successfully fetched https://www.churchofjesuschrist.org/study/general-conference/1981/10/the-light-of-the-gospel?lang=eng\n",
            "Successfully fetched https://www.churchofjesuschrist.org/study/general-conference/1981/10/finding-joy-by-serving-others?lang=eng\n",
            "Successfully fetched https://www.churchofjesuschrist.org/study/general-conference/1981/10/remember-who-you-are?lang=engSuccessfully fetched https://www.churchofjesuschrist.org/study/general-conference/1981/10/a-safe-place-for-marriages-and-families?lang=eng\n",
            "\n",
            "Successfully fetched https://www.churchofjesuschrist.org/study/general-conference/1981/10/the-expanding-inheritance-from-joseph-smith?lang=eng\n",
            "Successfully fetched https://www.churchofjesuschrist.org/study/general-conference/1981/10/the-strength-of-the-kingdom-is-within?lang=eng\n",
            "Successfully fetched https://www.churchofjesuschrist.org/study/general-conference/1981/10/examples-from-the-life-of-a-prophet?lang=eng\n",
            "Successfully fetched https://www.churchofjesuschrist.org/study/general-conference/1981/10/an-opportunity-for-continual-learning?lang=eng\n",
            "Successfully fetched https://www.churchofjesuschrist.org/study/general-conference/1981/10/the-plan-for-happiness-and-exaltation?lang=eng\n",
            "Successfully fetched https://www.churchofjesuschrist.org/study/general-conference/1981/10/except-a-man-be-born-again?lang=eng\n",
            "Successfully fetched https://www.churchofjesuschrist.org/study/general-conference/1981/10/follow-the-prophets?lang=eng\n",
            "Successfully fetched https://www.churchofjesuschrist.org/study/general-conference/1981/10/the-perfect-law-of-liberty?lang=eng\n"
          ]
        },
        {
          "output_type": "stream",
          "name": "stderr",
          "text": [
            "\rScraping talks in parallel:  77%|███████▋  | 3280/4233 [07:11<02:16,  6.97it/s]"
          ]
        },
        {
          "output_type": "stream",
          "name": "stdout",
          "text": [
            "Successfully fetched https://www.churchofjesuschrist.org/study/general-conference/1981/10/opposition-to-the-work-of-god?lang=eng\n",
            "Successfully fetched https://www.churchofjesuschrist.org/study/general-conference/1981/10/joseph-smith-prophet-to-our-generation?lang=eng\n",
            "Successfully fetched https://www.churchofjesuschrist.org/study/general-conference/1981/10/be-ye-prepared?lang=eng\n",
            "Successfully fetched https://www.churchofjesuschrist.org/study/general-conference/1981/10/the-sustaining-of-church-officers?lang=eng\n"
          ]
        },
        {
          "output_type": "stream",
          "name": "stderr",
          "text": [
            "\rScraping talks in parallel:  78%|███████▊  | 3287/4233 [07:12<01:44,  9.06it/s]"
          ]
        },
        {
          "output_type": "stream",
          "name": "stdout",
          "text": [
            "Successfully fetched https://www.churchofjesuschrist.org/study/general-conference/1981/04/love-one-another?lang=eng\n"
          ]
        },
        {
          "output_type": "stream",
          "name": "stderr",
          "text": [
            "\rScraping talks in parallel:  78%|███████▊  | 3291/4233 [07:12<01:44,  9.03it/s]"
          ]
        },
        {
          "output_type": "stream",
          "name": "stdout",
          "text": [
            "Successfully fetched https://www.churchofjesuschrist.org/study/general-conference/1981/04/reach-out-to-our-fathers-children?lang=eng\n",
            "Successfully fetched https://www.churchofjesuschrist.org/study/general-conference/1981/04/our-responsibility-to-care-for-our-own?lang=eng\n",
            "Successfully fetched https://www.churchofjesuschrist.org/study/general-conference/1981/10/the-honored-place-of-woman?lang=eng\n",
            "Successfully fetched https://www.churchofjesuschrist.org/study/general-conference/1981/10/to-follow-or-not-that-is-the-question?lang=eng\n",
            "Successfully fetched https://www.churchofjesuschrist.org/study/general-conference/1981/04/blessings-in-self-reliance?lang=eng\n",
            "Successfully fetched https://www.churchofjesuschrist.org/study/general-conference/1981/04/upon-this-rock?lang=eng\n",
            "Successfully fetched https://www.churchofjesuschrist.org/study/general-conference/1981/04/building-bridges-to-faith?lang=eng\n",
            "Successfully fetched https://www.churchofjesuschrist.org/study/general-conference/1981/04/moral-values-and-rewards?lang=eng\n",
            "Successfully fetched https://www.churchofjesuschrist.org/study/general-conference/1981/04/church-audit-committee-report?lang=engSuccessfully fetched https://www.churchofjesuschrist.org/study/general-conference/1981/04/rendering-service-to-others?lang=eng\n",
            "Successfully fetched https://www.churchofjesuschrist.org/study/general-conference/1981/04/the-joseph-smith-iii-document-and-the-keys-of-the-kingdom?lang=eng\n",
            "\n"
          ]
        },
        {
          "output_type": "stream",
          "name": "stderr",
          "text": [
            "Scraping talks in parallel:  78%|███████▊  | 3300/4233 [07:13<01:43,  9.06it/s]"
          ]
        },
        {
          "output_type": "stream",
          "name": "stdout",
          "text": [
            "Successfully fetched https://www.churchofjesuschrist.org/study/general-conference/1981/04/we-are-on-the-lords-errand?lang=eng\n",
            "Successfully fetched https://www.churchofjesuschrist.org/study/general-conference/1981/04/turning-the-hearts?lang=eng\n"
          ]
        },
        {
          "output_type": "stream",
          "name": "stderr",
          "text": [
            "Scraping talks in parallel:  78%|███████▊  | 3310/4233 [07:14<01:09, 13.26it/s]"
          ]
        },
        {
          "output_type": "stream",
          "name": "stdout",
          "text": [
            "Successfully fetched https://www.churchofjesuschrist.org/study/general-conference/1981/04/we-are-called-to-spread-the-light?lang=eng\n",
            "Successfully fetched https://www.churchofjesuschrist.org/study/general-conference/1981/04/obedience-full-obedience?lang=eng\n"
          ]
        },
        {
          "output_type": "stream",
          "name": "stderr",
          "text": [
            "\rScraping talks in parallel:  78%|███████▊  | 3313/4233 [07:14<01:06, 13.93it/s]"
          ]
        },
        {
          "output_type": "stream",
          "name": "stdout",
          "text": [
            "Successfully fetched https://www.churchofjesuschrist.org/study/general-conference/1981/04/he-is-there?lang=eng\n",
            "Successfully fetched https://www.churchofjesuschrist.org/study/general-conference/1981/04/no-man-shall-add-to-or-take-away?lang=eng\n",
            "Successfully fetched https://www.churchofjesuschrist.org/study/general-conference/1981/04/the-restoration-of-israel-to-the-lands-of-their-inheritance?lang=eng\n",
            "Successfully fetched https://www.churchofjesuschrist.org/study/general-conference/1981/04/the-sustaining-of-church-officers?lang=eng\n",
            "Successfully fetched https://www.churchofjesuschrist.org/study/general-conference/1981/04/the-dignity-of-self?lang=eng\n",
            "Successfully fetched https://www.churchofjesuschrist.org/study/general-conference/1981/04/a-report-of-my-stewardship?lang=eng\n",
            "Successfully fetched https://www.churchofjesuschrist.org/study/general-conference/1981/04/in-saving-others-we-save-ourselves?lang=eng\n"
          ]
        },
        {
          "output_type": "stream",
          "name": "stderr",
          "text": [
            "\rScraping talks in parallel:  78%|███████▊  | 3315/4233 [07:14<01:40,  9.13it/s]"
          ]
        },
        {
          "output_type": "stream",
          "name": "stdout",
          "text": [
            "Successfully fetched https://www.churchofjesuschrist.org/study/general-conference/1981/04/call-of-the-prophets?lang=eng\n",
            "Successfully fetched https://www.churchofjesuschrist.org/study/general-conference/1981/04/great-things-required-of-their-fathers?lang=eng\n",
            "Successfully fetched https://www.churchofjesuschrist.org/study/general-conference/1981/04/providing-for-our-needs?lang=eng\n",
            "Successfully fetched https://www.churchofjesuschrist.org/study/general-conference/1981/04/we-serve-that-which-we-love?lang=eng\n",
            "Successfully fetched https://www.churchofjesuschrist.org/study/general-conference/1981/04/light-and-truth?lang=eng\n",
            "Successfully fetched https://www.churchofjesuschrist.org/study/general-conference/1981/04/the-basic-principles-of-church-welfare?lang=eng\n"
          ]
        },
        {
          "output_type": "stream",
          "name": "stderr",
          "text": [
            "\rScraping talks in parallel:  78%|███████▊  | 3320/4233 [07:15<01:34,  9.69it/s]"
          ]
        },
        {
          "output_type": "stream",
          "name": "stdout",
          "text": [
            "Successfully fetched https://www.churchofjesuschrist.org/study/general-conference/1981/04/the-long-line-of-the-lonely?lang=eng\n",
            "Successfully fetched https://www.churchofjesuschrist.org/study/general-conference/1981/04/follow-the-fundamentals?lang=eng\n",
            "Successfully fetched https://www.churchofjesuschrist.org/study/general-conference/1981/04/the-responsibility-of-young-aaronic-priesthood-bearers?lang=eng\n",
            "Successfully fetched https://www.churchofjesuschrist.org/study/general-conference/1981/04/reach-for-the-stars?lang=eng\n",
            "Successfully fetched https://www.churchofjesuschrist.org/study/general-conference/1981/04/gospel-covenants?lang=eng\n",
            "Successfully fetched https://www.churchofjesuschrist.org/study/general-conference/1981/04/gracias?lang=eng\n",
            "Successfully fetched https://www.churchofjesuschrist.org/study/general-conference/1981/04/life-a-great-proving-ground?lang=eng\n"
          ]
        },
        {
          "output_type": "stream",
          "name": "stderr",
          "text": [
            "\rScraping talks in parallel:  78%|███████▊  | 3322/4233 [07:15<02:16,  6.66it/s]"
          ]
        },
        {
          "output_type": "stream",
          "name": "stdout",
          "text": [
            "Successfully fetched https://www.churchofjesuschrist.org/study/general-conference/1981/04/marriage?lang=eng\n",
            "Successfully fetched https://www.churchofjesuschrist.org/study/general-conference/1981/04/fast-offerings-fulfilling-our-responsibility-to-others?lang=eng\n",
            "Successfully fetched https://www.churchofjesuschrist.org/study/general-conference/1981/04/statistical-report-1980?lang=eng\n",
            "Successfully fetched https://www.churchofjesuschrist.org/study/general-conference/1981/04/the-need-to-teach-personal-and-family-preparedness?lang=eng\n"
          ]
        },
        {
          "output_type": "stream",
          "name": "stderr",
          "text": [
            "\rScraping talks in parallel:  79%|███████▊  | 3329/4233 [07:16<01:34,  9.61it/s]"
          ]
        },
        {
          "output_type": "stream",
          "name": "stdout",
          "text": [
            "Successfully fetched https://www.churchofjesuschrist.org/study/general-conference/1980/10/the-oath-and-covenant-which-belongeth-to-the-priesthood?lang=eng\n"
          ]
        },
        {
          "output_type": "stream",
          "name": "stderr",
          "text": [
            "Scraping talks in parallel:  79%|███████▉  | 3336/4233 [07:16<01:17, 11.57it/s]"
          ]
        },
        {
          "output_type": "stream",
          "name": "stdout",
          "text": [
            "Successfully fetched https://www.churchofjesuschrist.org/study/general-conference/1980/10/miracles-among-the-lamanites?lang=eng\n",
            "Successfully fetched https://www.churchofjesuschrist.org/study/general-conference/1980/10/follow-joyously?lang=eng\n",
            "Successfully fetched https://www.churchofjesuschrist.org/study/general-conference/1981/04/saturday-morning-session?lang=eng\n",
            "Successfully fetched https://www.churchofjesuschrist.org/study/general-conference/1980/10/the-saviors-touch?lang=eng\n",
            "Successfully fetched https://www.churchofjesuschrist.org/study/general-conference/1980/10/the-household-of-faith?lang=eng\n"
          ]
        },
        {
          "output_type": "stream",
          "name": "stderr",
          "text": [
            "\rScraping talks in parallel:  79%|███████▉  | 3338/4233 [07:17<01:33,  9.53it/s]"
          ]
        },
        {
          "output_type": "stream",
          "name": "stdout",
          "text": [
            "Successfully fetched https://www.churchofjesuschrist.org/study/general-conference/1980/10/singleness-how-relief-society-can-help?lang=eng\n",
            "Successfully fetched https://www.churchofjesuschrist.org/study/general-conference/1980/10/learn-then-teach?lang=eng\n",
            "Successfully fetched https://www.churchofjesuschrist.org/study/general-conference/1980/10/the-lord-god-of-the-restoration?lang=eng\n",
            "Successfully fetched https://www.churchofjesuschrist.org/study/general-conference/1980/10/the-net-gathers-of-every-kind?lang=eng\n",
            "Successfully fetched https://www.churchofjesuschrist.org/study/general-conference/1980/10/saturday-morning-session?lang=eng\n"
          ]
        },
        {
          "output_type": "stream",
          "name": "stderr",
          "text": [
            "\rScraping talks in parallel:  79%|███████▉  | 3342/4233 [07:17<01:30,  9.88it/s]"
          ]
        },
        {
          "output_type": "stream",
          "name": "stdout",
          "text": [
            "Successfully fetched https://www.churchofjesuschrist.org/study/general-conference/1980/10/the-doctrines-of-the-kingdom?lang=eng\n",
            "Successfully fetched https://www.churchofjesuschrist.org/study/general-conference/1980/10/know-the-shepherd?lang=eng\n"
          ]
        },
        {
          "output_type": "stream",
          "name": "stderr",
          "text": [
            "\rScraping talks in parallel:  79%|███████▉  | 3347/4233 [07:17<01:10, 12.59it/s]"
          ]
        },
        {
          "output_type": "stream",
          "name": "stdout",
          "text": [
            "Successfully fetched https://www.churchofjesuschrist.org/study/general-conference/1980/10/of-you-it-is-required-to-forgive?lang=eng\n",
            "Successfully fetched https://www.churchofjesuschrist.org/study/general-conference/1980/10/the-choice?lang=eng\n",
            "Successfully fetched https://www.churchofjesuschrist.org/study/general-conference/1980/10/forgive-them-i-pray-thee?lang=eng\n",
            "Successfully fetched https://www.churchofjesuschrist.org/study/general-conference/1980/10/prepare-every-needful-thing?lang=eng\n",
            "Successfully fetched https://www.churchofjesuschrist.org/study/general-conference/1980/10/motherhood-and-the-family?lang=eng\n",
            "Successfully fetched https://www.churchofjesuschrist.org/study/general-conference/1980/10/the-law-of-tithing?lang=eng\n",
            "Successfully fetched https://www.churchofjesuschrist.org/study/general-conference/1980/10/adam-the-archangel?lang=eng\n",
            "Successfully fetched https://www.churchofjesuschrist.org/study/general-conference/1980/10/the-circle-of-sisters?lang=eng\n"
          ]
        },
        {
          "output_type": "stream",
          "name": "stderr",
          "text": [
            "Scraping talks in parallel:  79%|███████▉  | 3351/4233 [07:18<01:48,  8.17it/s]"
          ]
        },
        {
          "output_type": "stream",
          "name": "stdout",
          "text": [
            "Successfully fetched https://www.churchofjesuschrist.org/study/general-conference/1980/10/welfare-services-the-saviors-program?lang=eng\n",
            "Successfully fetched https://www.churchofjesuschrist.org/study/general-conference/1980/10/these-i-will-make-my-leaders?lang=eng\n",
            "Successfully fetched https://www.churchofjesuschrist.org/study/general-conference/1980/10/adversity-and-you?lang=eng\n",
            "Successfully fetched https://www.churchofjesuschrist.org/study/general-conference/1980/10/let-every-man-learn-his-duty?lang=eng\n",
            "Successfully fetched https://www.churchofjesuschrist.org/study/general-conference/1980/10/our-thirtieth-anniversary-as-latter-day-saints?lang=eng\n",
            "Successfully fetched https://www.churchofjesuschrist.org/study/general-conference/1980/10/families-can-be-eternal?lang=eng\n",
            "Successfully fetched https://www.churchofjesuschrist.org/study/general-conference/1980/10/to-the-young-men-of-the-church?lang=eng\n"
          ]
        },
        {
          "output_type": "stream",
          "name": "stderr",
          "text": [
            "Scraping talks in parallel:  79%|███████▉  | 3356/4233 [07:19<01:51,  7.89it/s]"
          ]
        },
        {
          "output_type": "stream",
          "name": "stdout",
          "text": [
            "Successfully fetched https://www.churchofjesuschrist.org/study/general-conference/1980/10/ministering-to-the-needs-of-members?lang=eng\n",
            "Successfully fetched https://www.churchofjesuschrist.org/study/general-conference/1980/10/a-testimony?lang=eng\n",
            "Successfully fetched https://www.churchofjesuschrist.org/study/general-conference/1980/10/feed-my-sheep?lang=engSuccessfully fetched https://www.churchofjesuschrist.org/study/general-conference/1980/10/prepare-for-the-days-of-tribulation?lang=eng\n",
            "\n"
          ]
        },
        {
          "output_type": "stream",
          "name": "stderr",
          "text": [
            "\rScraping talks in parallel:  79%|███████▉  | 3362/4233 [07:19<01:16, 11.44it/s]"
          ]
        },
        {
          "output_type": "stream",
          "name": "stdout",
          "text": [
            "Successfully fetched https://www.churchofjesuschrist.org/study/general-conference/1980/10/the-house-of-the-lord?lang=eng\n",
            "Successfully fetched https://www.churchofjesuschrist.org/study/general-conference/1980/10/the-keys-of-the-kingdom?lang=eng\n",
            "Successfully fetched https://www.churchofjesuschrist.org/study/general-conference/1980/10/do-not-weary-by-the-way?lang=eng\n"
          ]
        },
        {
          "output_type": "stream",
          "name": "stderr",
          "text": [
            "\rScraping talks in parallel:  79%|███████▉  | 3364/4233 [07:20<02:27,  5.88it/s]"
          ]
        },
        {
          "output_type": "stream",
          "name": "stdout",
          "text": [
            "Successfully fetched https://www.churchofjesuschrist.org/study/general-conference/1980/10/purify-our-minds-and-spirits?lang=eng\n",
            "Successfully fetched https://www.churchofjesuschrist.org/study/general-conference/1980/10/the-sustaining-of-church-officers?lang=eng\n",
            "Successfully fetched https://www.churchofjesuschrist.org/study/general-conference/1980/10/decide-to-decide?lang=eng\n",
            "Successfully fetched https://www.churchofjesuschrist.org/study/general-conference/1980/10/is-any-thing-too-hard-for-the-lord?lang=eng\n",
            "Successfully fetched https://www.churchofjesuschrist.org/study/general-conference/1980/10/seven-events-of-great-consequence?lang=eng\n",
            "Successfully fetched https://www.churchofjesuschrist.org/study/general-conference/1980/10/the-blessing-of-a-testimony?lang=eng\n",
            "Successfully fetched https://www.churchofjesuschrist.org/study/general-conference/1980/10/organize-yourselves?lang=eng\n",
            "Successfully fetched https://www.churchofjesuschrist.org/study/general-conference/1980/10/the-bishop-center-stage-in-welfare?lang=eng\n"
          ]
        },
        {
          "output_type": "stream",
          "name": "stderr",
          "text": [
            "Scraping talks in parallel:  80%|███████▉  | 3372/4233 [07:21<02:15,  6.35it/s]"
          ]
        },
        {
          "output_type": "stream",
          "name": "stdout",
          "text": [
            "Successfully fetched https://www.churchofjesuschrist.org/study/general-conference/1980/10/for-whatsoever-a-man-soweth-that-shall-he-also-reap?lang=eng\n"
          ]
        },
        {
          "output_type": "stream",
          "name": "stderr",
          "text": [
            "\rScraping talks in parallel:  80%|███████▉  | 3373/4233 [07:22<02:41,  5.33it/s]"
          ]
        },
        {
          "output_type": "stream",
          "name": "stdout",
          "text": [
            "Successfully fetched https://www.churchofjesuschrist.org/study/general-conference/1980/10/the-bond-of-charity?lang=eng\n",
            "Successfully fetched https://www.churchofjesuschrist.org/study/general-conference/1980/10/repentance?lang=eng\n",
            "Successfully fetched https://www.churchofjesuschrist.org/study/general-conference/1980/10/acquaint-thyself-with-him-and-be-at-peace?lang=eng\n"
          ]
        },
        {
          "output_type": "stream",
          "name": "stderr",
          "text": [
            "Scraping talks in parallel:  80%|███████▉  | 3375/4233 [07:22<02:59,  4.78it/s]"
          ]
        },
        {
          "output_type": "stream",
          "name": "stdout",
          "text": [
            "Successfully fetched https://www.churchofjesuschrist.org/study/general-conference/1980/04/the-scriptures-speak?lang=eng\n",
            "Successfully fetched https://www.churchofjesuschrist.org/study/general-conference/1980/04/church-finance-committee-report?lang=eng\n"
          ]
        },
        {
          "output_type": "stream",
          "name": "stderr",
          "text": [
            "Scraping talks in parallel:  80%|███████▉  | 3385/4233 [07:23<01:06, 12.67it/s]"
          ]
        },
        {
          "output_type": "stream",
          "name": "stdout",
          "text": [
            "Successfully fetched https://www.churchofjesuschrist.org/study/general-conference/1980/04/writing-your-personal-and-family-history?lang=eng\n",
            "Successfully fetched https://www.churchofjesuschrist.org/study/general-conference/1980/04/no-unhallowed-hand-can-stop-the-work?lang=eng\n",
            "Successfully fetched https://www.churchofjesuschrist.org/study/general-conference/1980/04/time-out?lang=eng\n",
            "Successfully fetched https://www.churchofjesuschrist.org/study/general-conference/1980/04/you-can-be-the-voice?lang=eng\n",
            "Successfully fetched https://www.churchofjesuschrist.org/study/general-conference/1980/04/god-will-have-a-tried-people?lang=eng\n",
            "Successfully fetched https://www.churchofjesuschrist.org/study/general-conference/1980/04/a-tribute-to-the-rank-and-file-of-the-church?lang=eng\n",
            "Successfully fetched https://www.churchofjesuschrist.org/study/general-conference/1980/04/the-book-of-mormon?lang=eng\n",
            "Successfully fetched https://www.churchofjesuschrist.org/study/general-conference/1980/04/saturday-morning-session?lang=eng\n",
            "Successfully fetched https://www.churchofjesuschrist.org/study/general-conference/1980/04/remarks-and-dedication-of-the-fayette-new-york-buildings?lang=eng\n",
            "Successfully fetched https://www.churchofjesuschrist.org/study/general-conference/1980/04/the-coming-tests-and-trials-and-glory?lang=eng\n",
            "Successfully fetched https://www.churchofjesuschrist.org/study/general-conference/1980/04/the-gospel-restored?lang=eng\n",
            "Successfully fetched https://www.churchofjesuschrist.org/study/general-conference/1980/04/preparing-the-way?lang=eng\n"
          ]
        },
        {
          "output_type": "stream",
          "name": "stderr",
          "text": [
            "Scraping talks in parallel:  80%|████████  | 3389/4233 [07:24<02:14,  6.26it/s]"
          ]
        },
        {
          "output_type": "stream",
          "name": "stdout",
          "text": [
            "Successfully fetched https://www.churchofjesuschrist.org/study/general-conference/1980/04/self-accountability-and-human-progress?lang=eng\n",
            "Successfully fetched https://www.churchofjesuschrist.org/study/general-conference/1980/04/where-do-we-stand?lang=eng\n",
            "Successfully fetched https://www.churchofjesuschrist.org/study/general-conference/1980/04/seek-the-spirit?lang=eng\n",
            "Successfully fetched https://www.churchofjesuschrist.org/study/general-conference/1980/04/celestial-marriages-and-eternal-families?lang=eng\n"
          ]
        },
        {
          "output_type": "stream",
          "name": "stderr",
          "text": [
            "Scraping talks in parallel:  80%|████████  | 3397/4233 [07:25<01:31,  9.11it/s]"
          ]
        },
        {
          "output_type": "stream",
          "name": "stdout",
          "text": [
            "Successfully fetched https://www.churchofjesuschrist.org/study/general-conference/1980/04/do-we-all-believe-in-the-same-god?lang=eng\n",
            "Successfully fetched https://www.churchofjesuschrist.org/study/general-conference/1980/04/he-is-not-here-he-is-risen?lang=eng\n",
            "Successfully fetched https://www.churchofjesuschrist.org/study/general-conference/1980/04/eternal-links-that-bind?lang=eng\n",
            "Successfully fetched https://www.churchofjesuschrist.org/study/general-conference/1980/04/willing-to-receive?lang=eng\n",
            "Successfully fetched https://www.churchofjesuschrist.org/study/general-conference/1980/04/let-us-not-weary-in-well-doing?lang=eng\n",
            "Successfully fetched https://www.churchofjesuschrist.org/study/general-conference/1980/04/proclamation?lang=eng\n"
          ]
        },
        {
          "output_type": "stream",
          "name": "stderr",
          "text": [
            "Scraping talks in parallel:  80%|████████  | 3405/4233 [07:25<01:21, 10.22it/s]"
          ]
        },
        {
          "output_type": "stream",
          "name": "stdout",
          "text": [
            "Successfully fetched https://www.churchofjesuschrist.org/study/general-conference/1980/04/welfare-services-past-present-and-future?lang=eng\n",
            "Successfully fetched https://www.churchofjesuschrist.org/study/general-conference/1980/04/salt-of-the-earth-savor-of-men-and-saviors-of-men?lang=eng\n",
            "Successfully fetched https://www.churchofjesuschrist.org/study/general-conference/1980/04/welfare-principles-in-relief-society?lang=eng\n"
          ]
        },
        {
          "output_type": "stream",
          "name": "stderr",
          "text": [
            "\rScraping talks in parallel:  81%|████████  | 3409/4233 [07:25<01:13, 11.14it/s]"
          ]
        },
        {
          "output_type": "stream",
          "name": "stdout",
          "text": [
            "Successfully fetched https://www.churchofjesuschrist.org/study/general-conference/1980/04/church-welfare-temporal-service-in-a-spiritual-setting?lang=eng\n",
            "Successfully fetched https://www.churchofjesuschrist.org/study/general-conference/1980/04/the-prophet-and-the-prison?lang=eng\n",
            "Successfully fetched https://www.churchofjesuschrist.org/study/general-conference/1980/04/a-marvelous-work-and-a-wonder?lang=eng\n",
            "Successfully fetched https://www.churchofjesuschrist.org/study/general-conference/1980/04/the-sustaining-of-church-officers?lang=eng\n",
            "Successfully fetched https://www.churchofjesuschrist.org/study/general-conference/1980/04/teaching-by-the-spirit?lang=eng\n",
            "Successfully fetched https://www.churchofjesuschrist.org/study/general-conference/1980/04/what-hath-god-wrought-through-his-servant-joseph?lang=eng\n"
          ]
        },
        {
          "output_type": "stream",
          "name": "stderr",
          "text": [
            "\rScraping talks in parallel:  81%|████████  | 3412/4233 [07:26<01:29,  9.20it/s]"
          ]
        },
        {
          "output_type": "stream",
          "name": "stdout",
          "text": [
            "Successfully fetched https://www.churchofjesuschrist.org/study/general-conference/1980/04/statistical-report-1979?lang=eng\n",
            "Successfully fetched https://www.churchofjesuschrist.org/study/general-conference/1980/04/nauvoo-a-demonstration-of-faith?lang=eng\n",
            "Successfully fetched https://www.churchofjesuschrist.org/study/general-conference/1980/04/introduction-to-the-proclamation?lang=eng\n",
            "Successfully fetched https://www.churchofjesuschrist.org/study/general-conference/1980/04/communion-with-the-holy-spirit?lang=eng\n",
            "Successfully fetched https://www.churchofjesuschrist.org/study/general-conference/1980/04/a-deep-commitment-to-the-principles-of-welfare-service?lang=eng\n"
          ]
        },
        {
          "output_type": "stream",
          "name": "stderr",
          "text": [
            "\rScraping talks in parallel:  81%|████████  | 3414/4233 [07:26<01:48,  7.55it/s]"
          ]
        },
        {
          "output_type": "stream",
          "name": "stdout",
          "text": [
            "Successfully fetched https://www.churchofjesuschrist.org/study/general-conference/1980/04/an-example-of-what-welfare-services-can-do?lang=eng\n",
            "Successfully fetched https://www.churchofjesuschrist.org/study/general-conference/1979/10/the-governing-ones?lang=eng\n",
            "Successfully fetched https://www.churchofjesuschrist.org/study/general-conference/1979/10/we-need-a-listening-ear?lang=eng\n"
          ]
        },
        {
          "output_type": "stream",
          "name": "stderr",
          "text": [
            "\rScraping talks in parallel:  81%|████████  | 3418/4233 [07:27<01:33,  8.73it/s]"
          ]
        },
        {
          "output_type": "stream",
          "name": "stdout",
          "text": [
            "Successfully fetched https://www.churchofjesuschrist.org/study/general-conference/1979/10/the-role-of-righteous-women?lang=eng\n",
            "Successfully fetched https://www.churchofjesuschrist.org/study/general-conference/1980/04/priesthood-councils-key-to-meeting-temporal-and-spiritual-needs?lang=eng\n",
            "Successfully fetched https://www.churchofjesuschrist.org/study/general-conference/1979/10/reading-the-scriptures?lang=eng\n",
            "Successfully fetched https://www.churchofjesuschrist.org/study/general-conference/1979/10/the-administration-of-the-church?lang=eng\n",
            "Successfully fetched https://www.churchofjesuschrist.org/study/general-conference/1979/10/prayer-to-our-heavenly-father?lang=engSuccessfully fetched https://www.churchofjesuschrist.org/study/general-conference/1979/10/faith-in-the-lord-jesus-christ?lang=eng\n",
            "\n",
            "Successfully fetched https://www.churchofjesuschrist.org/study/general-conference/1979/10/we-will-go-with-our-young-and-with-our-old?lang=eng\n",
            "Successfully fetched https://www.churchofjesuschrist.org/study/general-conference/1979/10/the-mystery-of-mormonism?lang=eng\n",
            "Successfully fetched https://www.churchofjesuschrist.org/study/general-conference/1979/10/constancy-amid-change?lang=eng\n"
          ]
        },
        {
          "output_type": "stream",
          "name": "stderr",
          "text": [
            "\rScraping talks in parallel:  81%|████████  | 3424/4233 [07:28<01:42,  7.91it/s]"
          ]
        },
        {
          "output_type": "stream",
          "name": "stdout",
          "text": [
            "Successfully fetched https://www.churchofjesuschrist.org/study/general-conference/1979/10/the-gift-of-the-holy-ghost?lang=eng\n"
          ]
        },
        {
          "output_type": "stream",
          "name": "stderr",
          "text": [
            "Scraping talks in parallel:  81%|████████  | 3431/4233 [07:28<01:16, 10.51it/s]"
          ]
        },
        {
          "output_type": "stream",
          "name": "stdout",
          "text": [
            "Successfully fetched https://www.churchofjesuschrist.org/study/general-conference/1979/10/establishing-the-church-welfare-services-missionaries-are-an-important-resource?lang=engSuccessfully fetched https://www.churchofjesuschrist.org/study/general-conference/1979/10/prayers-and-answers?lang=eng\n",
            "\n",
            "Successfully fetched https://www.churchofjesuschrist.org/study/general-conference/1979/10/pornography-the-deadly-carrier?lang=eng\n"
          ]
        },
        {
          "output_type": "stream",
          "name": "stderr",
          "text": [
            "\rScraping talks in parallel:  81%|████████  | 3434/4233 [07:28<01:17, 10.35it/s]"
          ]
        },
        {
          "output_type": "stream",
          "name": "stdout",
          "text": [
            "Successfully fetched https://www.churchofjesuschrist.org/study/general-conference/1979/10/the-sustaining-of-church-officers?lang=engSuccessfully fetched https://www.churchofjesuschrist.org/study/general-conference/1979/10/happiness-now-and-forever?lang=eng\n",
            "\n",
            "Successfully fetched https://www.churchofjesuschrist.org/study/general-conference/1979/10/teaching-our-little-women?lang=eng\n",
            "Successfully fetched https://www.churchofjesuschrist.org/study/general-conference/1979/10/priesthood-administration-of-welfare-services?lang=eng\n",
            "Successfully fetched https://www.churchofjesuschrist.org/study/general-conference/1979/10/progress-through-change?lang=eng\n",
            "Successfully fetched https://www.churchofjesuschrist.org/study/general-conference/1979/10/therefore-i-was-taught?lang=eng\n",
            "Successfully fetched https://www.churchofjesuschrist.org/study/general-conference/1979/10/making-the-right-decisions?lang=eng\n",
            "Successfully fetched https://www.churchofjesuschrist.org/study/general-conference/1979/10/the-voice-of-the-lord-is-unto-all-people?lang=eng\n",
            "Successfully fetched https://www.churchofjesuschrist.org/study/general-conference/1979/10/the-contributions-of-the-prophet-joseph-smith?lang=eng\n"
          ]
        },
        {
          "output_type": "stream",
          "name": "stderr",
          "text": [
            "\rScraping talks in parallel:  81%|████████  | 3437/4233 [07:29<02:07,  6.23it/s]"
          ]
        },
        {
          "output_type": "stream",
          "name": "stdout",
          "text": [
            "Successfully fetched https://www.churchofjesuschrist.org/study/general-conference/1979/10/after-much-tribulation-come-the-blessings?lang=eng\n",
            "Successfully fetched https://www.churchofjesuschrist.org/study/general-conference/1979/10/a-witness-and-a-warning?lang=eng\n"
          ]
        },
        {
          "output_type": "stream",
          "name": "stderr",
          "text": [
            "\rScraping talks in parallel:  81%|████████▏ | 3440/4233 [07:29<01:40,  7.90it/s]"
          ]
        },
        {
          "output_type": "stream",
          "name": "stdout",
          "text": [
            "Successfully fetched https://www.churchofjesuschrist.org/study/general-conference/1979/10/send-missionaries-from-every-nation?lang=eng\n",
            "Successfully fetched https://www.churchofjesuschrist.org/study/general-conference/1979/10/the-role-of-a-bishop-in-the-church-welfare-program?lang=eng\n",
            "Successfully fetched https://www.churchofjesuschrist.org/study/general-conference/1979/10/our-sisters-in-the-church?lang=eng\n",
            "Successfully fetched https://www.churchofjesuschrist.org/study/general-conference/1979/10/language-a-divine-way-of-communicating?lang=eng\n"
          ]
        },
        {
          "output_type": "stream",
          "name": "stderr",
          "text": [
            "\rScraping talks in parallel:  81%|████████▏ | 3449/4233 [07:30<01:02, 12.54it/s]"
          ]
        },
        {
          "output_type": "stream",
          "name": "stdout",
          "text": [
            "Successfully fetched https://www.churchofjesuschrist.org/study/general-conference/1979/10/give-me-this-mountain?lang=eng\n",
            "Successfully fetched https://www.churchofjesuschrist.org/study/general-conference/1979/10/o-america-america?lang=eng\n",
            "Successfully fetched https://www.churchofjesuschrist.org/study/general-conference/1979/10/an-angel-from-on-high-the-long-long-silence-broke?lang=eng\n"
          ]
        },
        {
          "output_type": "stream",
          "name": "stderr",
          "text": [
            "\rScraping talks in parallel:  82%|████████▏ | 3451/4233 [07:30<01:07, 11.61it/s]"
          ]
        },
        {
          "output_type": "stream",
          "name": "stdout",
          "text": [
            "Successfully fetched https://www.churchofjesuschrist.org/study/general-conference/1979/10/blessing-the-one?lang=eng\n",
            "Successfully fetched https://www.churchofjesuschrist.org/study/general-conference/1979/10/our-mighty-errand?lang=eng\n",
            "Successfully fetched https://www.churchofjesuschrist.org/study/general-conference/1979/10/commandments-to-live-by?lang=eng\n",
            "Successfully fetched https://www.churchofjesuschrist.org/study/general-conference/1979/10/the-relief-society-role-in-priesthood-councils?lang=engSuccessfully fetched https://www.churchofjesuschrist.org/study/general-conference/1979/10/saturday-morning-session?lang=eng\n",
            "\n",
            "Successfully fetched https://www.churchofjesuschrist.org/study/general-conference/1979/10/women-for-the-latter-day?lang=eng\n",
            "Successfully fetched https://www.churchofjesuschrist.org/study/general-conference/1979/10/joseph-smith-the-prophet?lang=eng"
          ]
        },
        {
          "output_type": "stream",
          "name": "stderr",
          "text": [
            "Scraping talks in parallel:  82%|████████▏ | 3461/4233 [07:31<00:54, 14.25it/s]"
          ]
        },
        {
          "output_type": "stream",
          "name": "stdout",
          "text": [
            "\n",
            "Successfully fetched https://www.churchofjesuschrist.org/study/general-conference/1979/10/maintaining-spirituality?lang=eng\n",
            "Successfully fetched https://www.churchofjesuschrist.org/study/general-conference/1979/04/because-i-have-a-father?lang=eng\n",
            "Successfully fetched https://www.churchofjesuschrist.org/study/general-conference/1979/04/preparing-for-service-in-the-church?lang=eng\n",
            "Successfully fetched https://www.churchofjesuschrist.org/study/general-conference/1979/04/and-peter-went-out-and-wept-bitterly?lang=eng\n",
            "Successfully fetched https://www.churchofjesuschrist.org/study/general-conference/1979/04/following-christ-to-victory?lang=eng\n",
            "Successfully fetched https://www.churchofjesuschrist.org/study/general-conference/1979/04/fortify-your-homes-against-evil?lang=eng\n",
            "Successfully fetched https://www.churchofjesuschrist.org/study/general-conference/1979/04/new-emphasis-on-church-councils?lang=eng\n",
            "Successfully fetched https://www.churchofjesuschrist.org/study/general-conference/1979/04/signs-of-the-true-church?lang=eng\n"
          ]
        },
        {
          "output_type": "stream",
          "name": "stderr",
          "text": [
            "Scraping talks in parallel:  82%|████████▏ | 3467/4233 [07:32<01:15, 10.15it/s]"
          ]
        },
        {
          "output_type": "stream",
          "name": "stdout",
          "text": [
            "Successfully fetched https://www.churchofjesuschrist.org/study/general-conference/1979/04/what-think-ye-of-christ-whom-say-ye-that-i-am?lang=eng\n",
            "Successfully fetched https://www.churchofjesuschrist.org/study/general-conference/1979/04/trust-in-the-lord?lang=eng\n",
            "Successfully fetched https://www.churchofjesuschrist.org/study/general-conference/1979/04/he-means-me?lang=eng\n"
          ]
        },
        {
          "output_type": "stream",
          "name": "stderr",
          "text": [
            "\rScraping talks in parallel:  82%|████████▏ | 3472/4233 [07:32<01:20,  9.42it/s]"
          ]
        },
        {
          "output_type": "stream",
          "name": "stdout",
          "text": [
            "Successfully fetched https://www.churchofjesuschrist.org/study/general-conference/1979/04/applying-the-principles-of-welfare-services?lang=eng\n",
            "Successfully fetched https://www.churchofjesuschrist.org/study/general-conference/1979/04/put-on-the-whole-armor-of-god?lang=eng\n",
            "Successfully fetched https://www.churchofjesuschrist.org/study/general-conference/1979/04/to-those-searching-for-happiness?lang=eng\n",
            "Successfully fetched https://www.churchofjesuschrist.org/study/general-conference/1979/04/stand-independent-above-all-other-creatures?lang=eng\n",
            "Successfully fetched https://www.churchofjesuschrist.org/study/general-conference/1979/04/let-us-move-forward-and-upward?lang=eng\n",
            "Successfully fetched https://www.churchofjesuschrist.org/study/general-conference/1979/04/this-is-a-day-of-sacrifice?lang=eng\n",
            "Successfully fetched https://www.churchofjesuschrist.org/study/general-conference/1979/04/church-government-through-councils?lang=eng\n"
          ]
        },
        {
          "output_type": "stream",
          "name": "stderr",
          "text": [
            "Scraping talks in parallel:  82%|████████▏ | 3479/4233 [07:33<01:32,  8.17it/s]"
          ]
        },
        {
          "output_type": "stream",
          "name": "stdout",
          "text": [
            "Successfully fetched https://www.churchofjesuschrist.org/study/general-conference/1979/04/feed-my-sheep?lang=eng\n",
            "Successfully fetched https://www.churchofjesuschrist.org/study/general-conference/1979/04/the-kingdom-of-god?lang=eng\n",
            "Successfully fetched https://www.churchofjesuschrist.org/study/general-conference/1979/04/the-need-for-love?lang=eng\n",
            "Successfully fetched https://www.churchofjesuschrist.org/study/general-conference/1979/04/a-personal-commitment?lang=eng\n",
            "Successfully fetched https://www.churchofjesuschrist.org/study/general-conference/1979/04/statistical-report-1978?lang=eng\n",
            "Successfully fetched https://www.churchofjesuschrist.org/study/general-conference/1979/04/the-army-of-the-lord?lang=eng\n",
            "Successfully fetched https://www.churchofjesuschrist.org/study/general-conference/1979/04/developing-spirituality?lang=eng\n",
            "Successfully fetched https://www.churchofjesuschrist.org/study/general-conference/1979/04/the-refiners-fire?lang=eng\n",
            "Successfully fetched https://www.churchofjesuschrist.org/study/general-conference/1979/04/judge-not-according-to-the-appearance?lang=eng\n",
            "Successfully fetched https://www.churchofjesuschrist.org/study/general-conference/1979/04/we-the-church-of-jesus-christ-of-latter-day-saints?lang=eng\n"
          ]
        },
        {
          "output_type": "stream",
          "name": "stderr",
          "text": [
            "\rScraping talks in parallel:  82%|████████▏ | 3484/4233 [07:34<01:30,  8.26it/s]"
          ]
        },
        {
          "output_type": "stream",
          "name": "stdout",
          "text": [
            "Successfully fetched https://www.churchofjesuschrist.org/study/general-conference/1979/04/the-spirit-giveth-life?lang=eng\n",
            "Successfully fetched https://www.churchofjesuschrist.org/study/general-conference/1979/04/saturday-morning-session?lang=eng\n"
          ]
        },
        {
          "output_type": "stream",
          "name": "stderr",
          "text": [
            "\rScraping talks in parallel:  82%|████████▏ | 3486/4233 [07:35<02:10,  5.72it/s]"
          ]
        },
        {
          "output_type": "stream",
          "name": "stdout",
          "text": [
            "Successfully fetched https://www.churchofjesuschrist.org/study/general-conference/1979/04/personal-and-family-financial-preparedness?lang=eng\n",
            "Successfully fetched https://www.churchofjesuschrist.org/study/general-conference/1979/04/the-heritage-of-royal-families?lang=eng\n",
            "Successfully fetched https://www.churchofjesuschrist.org/study/general-conference/1979/04/the-sustaining-of-church-officers?lang=eng\n",
            "Successfully fetched https://www.churchofjesuschrist.org/study/general-conference/1979/04/the-home-as-an-educational-institution?lang=eng\n"
          ]
        },
        {
          "output_type": "stream",
          "name": "stderr",
          "text": [
            "\rScraping talks in parallel:  82%|████████▏ | 3487/4233 [07:35<02:36,  4.76it/s]"
          ]
        },
        {
          "output_type": "stream",
          "name": "stdout",
          "text": [
            "Successfully fetched https://www.churchofjesuschrist.org/study/general-conference/1979/04/church-finance-committee-report?lang=eng\n",
            "Successfully fetched https://www.churchofjesuschrist.org/study/general-conference/1979/04/roadblocks-to-progress?lang=eng\n"
          ]
        },
        {
          "output_type": "stream",
          "name": "stderr",
          "text": [
            "Scraping talks in parallel:  83%|████████▎ | 3499/4233 [07:36<01:08, 10.65it/s]"
          ]
        },
        {
          "output_type": "stream",
          "name": "stdout",
          "text": [
            "Successfully fetched https://www.churchofjesuschrist.org/study/general-conference/1979/04/fundamental-welfare-services?lang=eng\n",
            "Successfully fetched https://www.churchofjesuschrist.org/study/general-conference/1978/10/caring-for-the-poor-a-covenantal-obligation?lang=eng\n",
            "Successfully fetched https://www.churchofjesuschrist.org/study/general-conference/1978/10/a-basis-for-faith-in-the-living-god?lang=eng\n",
            "Successfully fetched https://www.churchofjesuschrist.org/study/general-conference/1979/04/developing-temporal-plans-and-priorities?lang=eng\n",
            "Successfully fetched https://www.churchofjesuschrist.org/study/general-conference/1978/10/what-are-the-blessings-of-a-mission-can-ye-tell?lang=eng\n",
            "Successfully fetched https://www.churchofjesuschrist.org/study/general-conference/1978/10/worthy-of-all-acceptation?lang=eng\n",
            "Successfully fetched https://www.churchofjesuschrist.org/study/general-conference/1978/10/revelation-on-priesthood-accepted-church-officers-sustained?lang=eng\n",
            "Successfully fetched https://www.churchofjesuschrist.org/study/general-conference/1978/10/be-one-with-the-prophet?lang=eng\n",
            "Successfully fetched https://www.churchofjesuschrist.org/study/general-conference/1978/10/the-blessing-of-church-interviews?lang=eng\n"
          ]
        },
        {
          "output_type": "stream",
          "name": "stderr",
          "text": [
            "\rScraping talks in parallel:  83%|████████▎ | 3501/4233 [07:37<01:41,  7.21it/s]"
          ]
        },
        {
          "output_type": "stream",
          "name": "stdout",
          "text": [
            "Successfully fetched https://www.churchofjesuschrist.org/study/general-conference/1978/10/ours-is-a-shared-ancestry?lang=eng\n",
            "Successfully fetched https://www.churchofjesuschrist.org/study/general-conference/1978/10/look-to-god-and-live?lang=eng\n"
          ]
        },
        {
          "output_type": "stream",
          "name": "stderr",
          "text": [
            "\rScraping talks in parallel:  83%|████████▎ | 3504/4233 [07:37<01:44,  6.98it/s]"
          ]
        },
        {
          "output_type": "stream",
          "name": "stdout",
          "text": [
            "Successfully fetched https://www.churchofjesuschrist.org/study/general-conference/1978/10/the-cs-of-spirituality?lang=engSuccessfully fetched https://www.churchofjesuschrist.org/study/general-conference/1978/10/an-eternal-hope-in-christ?lang=eng\n",
            "\n",
            "Successfully fetched https://www.churchofjesuschrist.org/study/general-conference/1978/10/never-be-weary-of-good-works?lang=eng\n",
            "Successfully fetched https://www.churchofjesuschrist.org/study/general-conference/1978/10/let-there-be-no-misunderstanding?lang=eng\n",
            "Successfully fetched https://www.churchofjesuschrist.org/study/general-conference/1978/10/if-we-want-to-go-up-we-have-to-get-on?lang=eng\n",
            "Successfully fetched https://www.churchofjesuschrist.org/study/general-conference/1978/10/the-gift-of-love?lang=eng\n",
            "Successfully fetched https://www.churchofjesuschrist.org/study/general-conference/1978/10/spiritual-development?lang=eng\n",
            "Successfully fetched https://www.churchofjesuschrist.org/study/general-conference/1978/10/let-your-light-so-shine?lang=eng\n"
          ]
        },
        {
          "output_type": "stream",
          "name": "stderr",
          "text": [
            "Scraping talks in parallel:  83%|████████▎ | 3515/4233 [07:38<01:12,  9.87it/s]"
          ]
        },
        {
          "output_type": "stream",
          "name": "stdout",
          "text": [
            "Successfully fetched https://www.churchofjesuschrist.org/study/general-conference/1978/10/home-teaching-a-sacred-calling?lang=eng\n",
            "Successfully fetched https://www.churchofjesuschrist.org/study/general-conference/1978/10/good-health-a-key-to-joyous-living?lang=eng\n",
            "Successfully fetched https://www.churchofjesuschrist.org/study/general-conference/1978/10/hold-fast-to-the-iron-rod?lang=eng\n",
            "Successfully fetched https://www.churchofjesuschrist.org/study/general-conference/1978/10/the-fruit-of-our-welfare-services-labors?lang=eng\n",
            "Successfully fetched https://www.churchofjesuschrist.org/study/general-conference/1978/10/come-home-felila?lang=eng\n"
          ]
        },
        {
          "output_type": "stream",
          "name": "stderr",
          "text": [
            "\rScraping talks in parallel:  83%|████████▎ | 3519/4233 [07:38<01:11, 10.00it/s]"
          ]
        },
        {
          "output_type": "stream",
          "name": "stdout",
          "text": [
            "Successfully fetched https://www.churchofjesuschrist.org/study/general-conference/1978/10/thou-shalt-receive-revelation?lang=eng\n",
            "Successfully fetched https://www.churchofjesuschrist.org/study/general-conference/1978/10/successful-welfare-stewardship?lang=eng\n",
            "Successfully fetched https://www.churchofjesuschrist.org/study/general-conference/1978/10/the-joy-of-serving-a-mission?lang=eng\n",
            "Successfully fetched https://www.churchofjesuschrist.org/study/general-conference/1978/10/a-disciple-of-christ?lang=eng\n",
            "Successfully fetched https://www.churchofjesuschrist.org/study/general-conference/1978/10/the-gospel-makes-people-happy?lang=eng\n",
            "Successfully fetched https://www.churchofjesuschrist.org/study/general-conference/1978/10/faith-courage-and-making-choices?lang=eng\n"
          ]
        },
        {
          "output_type": "stream",
          "name": "stderr",
          "text": [
            "\rScraping talks in parallel:  83%|████████▎ | 3521/4233 [07:39<01:41,  7.02it/s]"
          ]
        },
        {
          "output_type": "stream",
          "name": "stdout",
          "text": [
            "Successfully fetched https://www.churchofjesuschrist.org/study/general-conference/1978/10/attending-to-personal-and-family-preparedness?lang=eng\n",
            "Successfully fetched https://www.churchofjesuschrist.org/study/general-conference/1978/10/true-religion?lang=eng\n"
          ]
        },
        {
          "output_type": "stream",
          "name": "stderr",
          "text": [
            "\rScraping talks in parallel:  83%|████████▎ | 3528/4233 [07:39<01:01, 11.48it/s]"
          ]
        },
        {
          "output_type": "stream",
          "name": "stdout",
          "text": [
            "Successfully fetched https://www.churchofjesuschrist.org/study/general-conference/1978/10/privileges-and-responsibilities-of-sisters?lang=eng\n",
            "Successfully fetched https://www.churchofjesuschrist.org/study/general-conference/1978/10/who-will-forfeit-the-harvest?lang=eng\n",
            "Successfully fetched https://www.churchofjesuschrist.org/study/general-conference/1978/10/the-relief-society?lang=eng\n",
            "Successfully fetched https://www.churchofjesuschrist.org/study/general-conference/1978/10/the-remarkable-example-of-the-bermejillo-mexico-branch?lang=eng\n"
          ]
        },
        {
          "output_type": "stream",
          "name": "stderr",
          "text": [
            "\rScraping talks in parallel:  83%|████████▎ | 3531/4233 [07:40<01:21,  8.64it/s]"
          ]
        },
        {
          "output_type": "stream",
          "name": "stdout",
          "text": [
            "Successfully fetched https://www.churchofjesuschrist.org/study/general-conference/1978/10/he-hath-showed-thee-o-man-what-is-good?lang=eng\n",
            "Successfully fetched https://www.churchofjesuschrist.org/study/general-conference/1978/10/the-stake-presidents-role-in-welfare-services?lang=eng\n",
            "Successfully fetched https://www.churchofjesuschrist.org/study/general-conference/1978/10/the-last-words-of-moroni?lang=eng\n",
            "Successfully fetched https://www.churchofjesuschrist.org/study/general-conference/1978/10/saturday-morning-session?lang=eng\n"
          ]
        },
        {
          "output_type": "stream",
          "name": "stderr",
          "text": [
            "Scraping talks in parallel:  84%|████████▎ | 3535/4233 [07:40<01:19,  8.77it/s]"
          ]
        },
        {
          "output_type": "stream",
          "name": "stdout",
          "text": [
            "Successfully fetched https://www.churchofjesuschrist.org/study/general-conference/1978/10/the-worth-of-souls?lang=eng\n",
            "Successfully fetched https://www.churchofjesuschrist.org/study/general-conference/1978/10/fundamental-principles-to-ponder-and-live?lang=eng\n",
            "Successfully fetched https://www.churchofjesuschrist.org/study/general-conference/1978/10/behold-your-little-ones?lang=eng\n",
            "Successfully fetched https://www.churchofjesuschrist.org/study/general-conference/1978/10/come-listen-to-a-prophets-voice?lang=eng\n"
          ]
        },
        {
          "output_type": "stream",
          "name": "stderr",
          "text": [
            "\rScraping talks in parallel:  84%|████████▎ | 3540/4233 [07:41<01:11,  9.66it/s]"
          ]
        },
        {
          "output_type": "stream",
          "name": "stdout",
          "text": [
            "Successfully fetched https://www.churchofjesuschrist.org/study/general-conference/1978/10/profiles-of-faith?lang=eng\n",
            "Successfully fetched https://www.churchofjesuschrist.org/study/general-conference/1978/10/response-to-the-call?lang=eng\n",
            "Successfully fetched https://www.churchofjesuschrist.org/study/general-conference/1978/10/womens-greatest-challenge?lang=eng\n",
            "Successfully fetched https://www.churchofjesuschrist.org/study/general-conference/1978/04/becoming-the-pure-in-heart?lang=eng\n",
            "Successfully fetched https://www.churchofjesuschrist.org/study/general-conference/1978/04/the-true-way-of-life-and-salvation?lang=eng\n",
            "Successfully fetched https://www.churchofjesuschrist.org/study/general-conference/1978/04/being-anxiously-engaged?lang=eng\n"
          ]
        },
        {
          "output_type": "stream",
          "name": "stderr",
          "text": [
            "Scraping talks in parallel:  84%|████████▎ | 3543/4233 [07:42<01:31,  7.51it/s]"
          ]
        },
        {
          "output_type": "stream",
          "name": "stdout",
          "text": [
            "Successfully fetched https://www.churchofjesuschrist.org/study/general-conference/1978/04/not-my-will-but-thine?lang=eng\n",
            "Successfully fetched https://www.churchofjesuschrist.org/study/general-conference/1978/04/prayer-and-revelation?lang=eng\n",
            "Successfully fetched https://www.churchofjesuschrist.org/study/general-conference/1978/04/we-are-his-stewards?lang=eng\n",
            "Successfully fetched https://www.churchofjesuschrist.org/study/general-conference/1978/04/evidence-of-things-not-seen?lang=eng\n"
          ]
        },
        {
          "output_type": "stream",
          "name": "stderr",
          "text": [
            "\rScraping talks in parallel:  84%|████████▍ | 3548/4233 [07:42<01:01, 11.23it/s]"
          ]
        },
        {
          "output_type": "stream",
          "name": "stdout",
          "text": [
            "Successfully fetched https://www.churchofjesuschrist.org/study/general-conference/1978/04/seek-out-your-spiritual-leader?lang=eng\n",
            "Successfully fetched https://www.churchofjesuschrist.org/study/general-conference/1978/04/what-is-truth?lang=eng\n",
            "Successfully fetched https://www.churchofjesuschrist.org/study/general-conference/1978/04/no-time-for-contention?lang=eng\n"
          ]
        },
        {
          "output_type": "stream",
          "name": "stderr",
          "text": [
            "\rScraping talks in parallel:  84%|████████▍ | 3550/4233 [07:42<01:26,  7.86it/s]"
          ]
        },
        {
          "output_type": "stream",
          "name": "stdout",
          "text": [
            "Successfully fetched https://www.churchofjesuschrist.org/study/general-conference/1978/04/worthy-of-proper-recommendation?lang=eng\n",
            "Successfully fetched https://www.churchofjesuschrist.org/study/general-conference/1978/04/ye-shall-know-the-truth?lang=eng\n"
          ]
        },
        {
          "output_type": "stream",
          "name": "stderr",
          "text": [
            "Scraping talks in parallel:  84%|████████▍ | 3555/4233 [07:43<01:09,  9.82it/s]"
          ]
        },
        {
          "output_type": "stream",
          "name": "stdout",
          "text": [
            "Successfully fetched https://www.churchofjesuschrist.org/study/general-conference/1978/04/response-to-the-call?lang=eng\n",
            "Successfully fetched https://www.churchofjesuschrist.org/study/general-conference/1978/04/the-sustaining-of-church-officers?lang=eng\n",
            "Successfully fetched https://www.churchofjesuschrist.org/study/general-conference/1978/04/staying-unspotted-from-the-world?lang=eng\n",
            "Successfully fetched https://www.churchofjesuschrist.org/study/general-conference/1978/04/what-would-the-savior-have-me-do?lang=eng\n"
          ]
        },
        {
          "output_type": "stream",
          "name": "stderr",
          "text": [
            "\rScraping talks in parallel:  84%|████████▍ | 3559/4233 [07:43<01:09,  9.64it/s]"
          ]
        },
        {
          "output_type": "stream",
          "name": "stdout",
          "text": [
            "Successfully fetched https://www.churchofjesuschrist.org/study/general-conference/1978/04/the-royal-law-of-love?lang=eng\n",
            "Successfully fetched https://www.churchofjesuschrist.org/study/general-conference/1978/04/church-finance-committee-report?lang=eng\n",
            "Successfully fetched https://www.churchofjesuschrist.org/study/general-conference/1978/04/grieve-not-the-holy-spirit-lest-we-lose-it?lang=eng\n",
            "Successfully fetched https://www.churchofjesuschrist.org/study/general-conference/1978/04/priesthood-responsibilities?lang=eng\n"
          ]
        },
        {
          "output_type": "stream",
          "name": "stderr",
          "text": [
            "\rScraping talks in parallel:  84%|████████▍ | 3561/4233 [07:43<01:19,  8.50it/s]"
          ]
        },
        {
          "output_type": "stream",
          "name": "stdout",
          "text": [
            "Successfully fetched https://www.churchofjesuschrist.org/study/general-conference/1978/04/in-the-time-of-old-age?lang=eng\n",
            "Successfully fetched https://www.churchofjesuschrist.org/study/general-conference/1978/04/statistical-report-1977?lang=eng\n"
          ]
        },
        {
          "output_type": "stream",
          "name": "stderr",
          "text": [
            "\rScraping talks in parallel:  84%|████████▍ | 3564/4233 [07:44<01:16,  8.78it/s]"
          ]
        },
        {
          "output_type": "stream",
          "name": "stdout",
          "text": [
            "Successfully fetched https://www.churchofjesuschrist.org/study/general-conference/1978/04/decision?lang=eng\n",
            "Successfully fetched https://www.churchofjesuschrist.org/study/general-conference/1978/04/bind-on-thy-sandals?lang=eng\n",
            "Successfully fetched https://www.churchofjesuschrist.org/study/general-conference/1978/04/the-prayer-of-faith?lang=eng\n",
            "Successfully fetched https://www.churchofjesuschrist.org/study/general-conference/1978/04/be-not-faithless?lang=eng\n",
            "Successfully fetched https://www.churchofjesuschrist.org/study/general-conference/1978/04/the-morning-breaks-the-shadows-flee?lang=eng\n",
            "Successfully fetched https://www.churchofjesuschrist.org/study/general-conference/1978/04/the-women-of-god?lang=eng\n",
            "Successfully fetched https://www.churchofjesuschrist.org/study/general-conference/1978/04/may-the-kingdom-of-god-go-forth?lang=eng\n",
            "Successfully fetched https://www.churchofjesuschrist.org/study/general-conference/1978/04/everything-dear?lang=eng\n",
            "Successfully fetched https://www.churchofjesuschrist.org/study/general-conference/1978/04/solving-emotional-problems-in-the-lords-own-way?lang=eng\n",
            "Successfully fetched https://www.churchofjesuschrist.org/study/general-conference/1978/04/saturday-morning-session?lang=eng\n",
            "Successfully fetched https://www.churchofjesuschrist.org/study/general-conference/1978/04/revelation?lang=eng\n",
            "Successfully fetched https://www.churchofjesuschrist.org/study/general-conference/1978/04/the-second-coming-of-christ?lang=eng\n",
            "Successfully fetched https://www.churchofjesuschrist.org/study/general-conference/1978/04/trust-in-the-lord?lang=eng\n"
          ]
        },
        {
          "output_type": "stream",
          "name": "stderr",
          "text": [
            "\rScraping talks in parallel:  84%|████████▍ | 3570/4233 [07:45<01:43,  6.38it/s]"
          ]
        },
        {
          "output_type": "stream",
          "name": "stdout",
          "text": [
            "Successfully fetched https://www.churchofjesuschrist.org/study/general-conference/1978/04/a-haven-of-love?lang=eng\n",
            "Successfully fetched https://www.churchofjesuschrist.org/study/general-conference/1978/04/making-your-marriage-successful?lang=eng\n",
            "Successfully fetched https://www.churchofjesuschrist.org/study/general-conference/1978/04/welfare-services-begins-with-you?lang=eng\n"
          ]
        },
        {
          "output_type": "stream",
          "name": "stderr",
          "text": [
            "\rScraping talks in parallel:  84%|████████▍ | 3571/4233 [07:45<01:53,  5.81it/s]"
          ]
        },
        {
          "output_type": "stream",
          "name": "stdout",
          "text": [
            "Successfully fetched https://www.churchofjesuschrist.org/study/general-conference/1978/04/the-storehouse-resource-system?lang=eng\n",
            "Successfully fetched https://www.churchofjesuschrist.org/study/general-conference/1978/04/the-primary-enriches-the-lives-of-children?lang=eng\n",
            "Successfully fetched https://www.churchofjesuschrist.org/study/general-conference/1978/04/the-poetry-of-success?lang=eng\n",
            "Successfully fetched https://www.churchofjesuschrist.org/study/general-conference/1978/04/listen-to-the-prophets?lang=eng\n",
            "Successfully fetched https://www.churchofjesuschrist.org/study/general-conference/1978/04/strengthening-the-family-the-basic-unit-of-the-church?lang=engSuccessfully fetched https://www.churchofjesuschrist.org/study/general-conference/1977/10/the-tragic-cycle?lang=eng\n",
            "\n",
            "Successfully fetched https://www.churchofjesuschrist.org/study/general-conference/1977/10/rated-a?lang=eng\n",
            "Successfully fetched https://www.churchofjesuschrist.org/study/general-conference/1977/10/welfare-services-the-gospel-in-action?lang=eng\n",
            "Successfully fetched https://www.churchofjesuschrist.org/study/general-conference/1977/10/we-have-been-there-all-the-time?lang=eng\n"
          ]
        },
        {
          "output_type": "stream",
          "name": "stderr",
          "text": [
            "\rScraping talks in parallel:  85%|████████▍ | 3577/4233 [07:47<02:11,  4.99it/s]"
          ]
        },
        {
          "output_type": "stream",
          "name": "stdout",
          "text": [
            "Successfully fetched https://www.churchofjesuschrist.org/study/general-conference/1977/10/the-balm-of-gilead?lang=eng\n",
            "Successfully fetched https://www.churchofjesuschrist.org/study/general-conference/1977/10/letter-to-a-returned-missionary?lang=eng\n",
            "Successfully fetched https://www.churchofjesuschrist.org/study/general-conference/1978/04/i-did-not-reach-this-place-by-myself?lang=eng\n",
            "Successfully fetched https://www.churchofjesuschrist.org/study/general-conference/1977/10/a-special-moment-in-church-history?lang=eng\n"
          ]
        },
        {
          "output_type": "stream",
          "name": "stderr",
          "text": [
            "\rScraping talks in parallel:  85%|████████▍ | 3584/4233 [07:47<01:45,  6.14it/s]"
          ]
        },
        {
          "output_type": "stream",
          "name": "stdout",
          "text": [
            "Successfully fetched https://www.churchofjesuschrist.org/study/general-conference/1977/10/the-things-of-god-and-man?lang=eng\n",
            "Successfully fetched https://www.churchofjesuschrist.org/study/general-conference/1977/10/the-light-of-the-gospel?lang=eng\n",
            "Successfully fetched https://www.churchofjesuschrist.org/study/general-conference/1977/10/they-didn-t-give-up?lang=eng\n"
          ]
        },
        {
          "output_type": "stream",
          "name": "stderr",
          "text": [
            "Scraping talks in parallel:  85%|████████▍ | 3596/4233 [07:48<00:52, 12.03it/s]"
          ]
        },
        {
          "output_type": "stream",
          "name": "stdout",
          "text": [
            "Successfully fetched https://www.churchofjesuschrist.org/study/general-conference/1977/10/jesus-the-christ?lang=eng\n",
            "Successfully fetched https://www.churchofjesuschrist.org/study/general-conference/1977/10/a-message-to-the-rising-generation?lang=eng\n",
            "Successfully fetched https://www.churchofjesuschrist.org/study/general-conference/1977/10/trust-in-the-lord?lang=eng\n",
            "Successfully fetched https://www.churchofjesuschrist.org/study/general-conference/1977/10/hallowed-be-thy-name?lang=eng\n",
            "Successfully fetched https://www.churchofjesuschrist.org/study/general-conference/1977/10/young-women-real-guardians?lang=eng\n",
            "Successfully fetched https://www.churchofjesuschrist.org/study/general-conference/1977/10/the-enriching-of-marriage?lang=eng\n"
          ]
        },
        {
          "output_type": "stream",
          "name": "stderr",
          "text": [
            "Scraping talks in parallel:  85%|████████▌ | 3601/4233 [07:49<01:17,  8.13it/s]"
          ]
        },
        {
          "output_type": "stream",
          "name": "stdout",
          "text": [
            "Successfully fetched https://www.churchofjesuschrist.org/study/general-conference/1977/10/welfare-responsibilities-of-the-priesthood-quorums?lang=eng\n",
            "Successfully fetched https://www.churchofjesuschrist.org/study/general-conference/1977/10/three-things-to-share?lang=eng\n",
            "Successfully fetched https://www.churchofjesuschrist.org/study/general-conference/1977/10/service-saves?lang=eng\n",
            "Successfully fetched https://www.churchofjesuschrist.org/study/general-conference/1977/10/the-blessings-of-righteous-obedience?lang=eng\n"
          ]
        },
        {
          "output_type": "stream",
          "name": "stderr",
          "text": [
            "\rScraping talks in parallel:  85%|████████▌ | 3603/4233 [07:49<01:22,  7.64it/s]"
          ]
        },
        {
          "output_type": "stream",
          "name": "stdout",
          "text": [
            "Successfully fetched https://www.churchofjesuschrist.org/study/general-conference/1977/10/the-way-of-the-lord?lang=eng\n",
            "Successfully fetched https://www.churchofjesuschrist.org/study/general-conference/1977/10/a-vision-of-the-law-of-the-fast?lang=eng\n"
          ]
        },
        {
          "output_type": "stream",
          "name": "stderr",
          "text": [
            "\rScraping talks in parallel:  85%|████████▌ | 3607/4233 [07:49<01:10,  8.83it/s]"
          ]
        },
        {
          "output_type": "stream",
          "name": "stdout",
          "text": [
            "Successfully fetched https://www.churchofjesuschrist.org/study/general-conference/1977/10/the-ten-blessings-of-the-priesthood?lang=eng\n",
            "Successfully fetched https://www.churchofjesuschrist.org/study/general-conference/1977/10/father-your-role-your-responsibility?lang=eng\n",
            "Successfully fetched https://www.churchofjesuschrist.org/study/general-conference/1977/10/the-fathers-duty-to-foster-the-welfare-of-his-family?lang=eng\n",
            "Successfully fetched https://www.churchofjesuschrist.org/study/general-conference/1977/10/saturday-morning-session?lang=eng\n"
          ]
        },
        {
          "output_type": "stream",
          "name": "stderr",
          "text": [
            "\rScraping talks in parallel:  85%|████████▌ | 3613/4233 [07:50<00:51, 11.96it/s]"
          ]
        },
        {
          "output_type": "stream",
          "name": "stdout",
          "text": [
            "Successfully fetched https://www.churchofjesuschrist.org/study/general-conference/1977/10/she-stretcheth-out-her-hand-to-the-poor?lang=eng\n",
            "Successfully fetched https://www.churchofjesuschrist.org/study/general-conference/1977/10/the-power-of-forgiveness?lang=eng\n",
            "Successfully fetched https://www.churchofjesuschrist.org/study/general-conference/1977/10/the-role-of-bishops-in-welfare-services?lang=eng\n",
            "Successfully fetched https://www.churchofjesuschrist.org/study/general-conference/1977/10/the-foundations-of-righteousness?lang=eng\n"
          ]
        },
        {
          "output_type": "stream",
          "name": "stderr",
          "text": [
            "\rScraping talks in parallel:  85%|████████▌ | 3615/4233 [07:50<01:13,  8.44it/s]"
          ]
        },
        {
          "output_type": "stream",
          "name": "stdout",
          "text": [
            "Successfully fetched https://www.churchofjesuschrist.org/study/general-conference/1977/10/the-safety-of-the-gospel-law?lang=eng\n",
            "Successfully fetched https://www.churchofjesuschrist.org/study/general-conference/1977/10/obeying-the-right-voice?lang=eng\n",
            "Successfully fetched https://www.churchofjesuschrist.org/study/general-conference/1977/10/latter-day-samaritans?lang=eng\n",
            "Successfully fetched https://www.churchofjesuschrist.org/study/general-conference/1977/10/the-sustaining-of-church-officers?lang=eng\n",
            "Successfully fetched https://www.churchofjesuschrist.org/study/general-conference/1977/10/it-was-a-miracle?lang=eng\n",
            "Successfully fetched https://www.churchofjesuschrist.org/study/general-conference/1977/10/sacrifice-missionary-style?lang=eng\n",
            "Successfully fetched https://www.churchofjesuschrist.org/study/general-conference/1977/10/why-me-o-lord?lang=eng\n",
            "Successfully fetched https://www.churchofjesuschrist.org/study/general-conference/1977/10/seeing-the-five-a-s?lang=eng\n"
          ]
        },
        {
          "output_type": "stream",
          "name": "stderr",
          "text": [
            "\rScraping talks in parallel:  85%|████████▌ | 3617/4233 [07:51<01:41,  6.04it/s]"
          ]
        },
        {
          "output_type": "stream",
          "name": "stdout",
          "text": [
            "Successfully fetched https://www.churchofjesuschrist.org/study/general-conference/1977/04/the-role-of-the-stake-bishops-council-in-welfare-services?lang=eng\n",
            "Successfully fetched https://www.churchofjesuschrist.org/study/general-conference/1977/04/ministering-to-needs-through-the-lords-storehouse-system?lang=eng\n",
            "Successfully fetched https://www.churchofjesuschrist.org/study/general-conference/1977/04/do-unto-others?lang=eng\n",
            "Successfully fetched https://www.churchofjesuschrist.org/study/general-conference/1977/04/the-lord-expects-his-saints-to-follow-the-commandments?lang=eng\n",
            "Successfully fetched https://www.churchofjesuschrist.org/study/general-conference/1977/04/the-purpose-of-church-welfare-services?lang=eng\n"
          ]
        },
        {
          "output_type": "stream",
          "name": "stderr",
          "text": [
            "\rScraping talks in parallel:  86%|████████▌ | 3625/4233 [07:52<01:11,  8.49it/s]"
          ]
        },
        {
          "output_type": "stream",
          "name": "stdout",
          "text": [
            "Successfully fetched https://www.churchofjesuschrist.org/study/general-conference/1977/04/neither-cryptic-nor-hidden?lang=eng\n",
            "Successfully fetched https://www.churchofjesuschrist.org/study/general-conference/1977/04/statistical-report-1976?lang=eng\n",
            "Successfully fetched https://www.churchofjesuschrist.org/study/general-conference/1977/04/lengthening-your-stride-as-a-missionary?lang=eng\n"
          ]
        },
        {
          "output_type": "stream",
          "name": "stderr",
          "text": [
            "\rScraping talks in parallel:  86%|████████▌ | 3630/4233 [07:52<01:06,  9.08it/s]"
          ]
        },
        {
          "output_type": "stream",
          "name": "stdout",
          "text": [
            "Successfully fetched https://www.churchofjesuschrist.org/study/general-conference/1977/04/prepare-now-for-your-mission?lang=eng\n",
            "Successfully fetched https://www.churchofjesuschrist.org/study/general-conference/1977/04/the-light-of-christ?lang=eng\n",
            "Successfully fetched https://www.churchofjesuschrist.org/study/general-conference/1977/04/saturday-morning-session?lang=eng\n",
            "Successfully fetched https://www.churchofjesuschrist.org/study/general-conference/1977/04/ministering-to-needs-through-lds-social-services?lang=eng\n",
            "Successfully fetched https://www.churchofjesuschrist.org/study/general-conference/1977/04/our-great-potential?lang=eng\n"
          ]
        },
        {
          "output_type": "stream",
          "name": "stderr",
          "text": [
            "\rScraping talks in parallel:  86%|████████▌ | 3633/4233 [07:53<01:22,  7.27it/s]"
          ]
        },
        {
          "output_type": "stream",
          "name": "stdout",
          "text": [
            "Successfully fetched https://www.churchofjesuschrist.org/study/general-conference/1977/04/but-be-ye-doers-of-the-word?lang=eng\n",
            "Successfully fetched https://www.churchofjesuschrist.org/study/general-conference/1977/04/revelation-the-word-of-the-lord-to-his-prophets?lang=eng\n",
            "Successfully fetched https://www.churchofjesuschrist.org/study/general-conference/1977/04/come-let-israel-build-zion?lang=eng\n",
            "Successfully fetched https://www.churchofjesuschrist.org/study/general-conference/1977/04/follow-the-living-prophet?lang=eng\n",
            "Successfully fetched https://www.churchofjesuschrist.org/study/general-conference/1977/04/the-power-of-plainness?lang=eng\n",
            "Successfully fetched https://www.churchofjesuschrist.org/study/general-conference/1977/04/a-silver-lining?lang=eng\n",
            "Successfully fetched https://www.churchofjesuschrist.org/study/general-conference/1977/04/the-beatitudes-and-our-perfection?lang=eng\n",
            "Successfully fetched https://www.churchofjesuschrist.org/study/general-conference/1977/04/a-thousand-witnesses?lang=eng\n",
            "Successfully fetched https://www.churchofjesuschrist.org/study/general-conference/1977/04/your-jericho-road?lang=eng\n",
            "Successfully fetched https://www.churchofjesuschrist.org/study/general-conference/1977/04/integrity?lang=eng\n",
            "Successfully fetched https://www.churchofjesuschrist.org/study/general-conference/1977/04/a-call-to-action?lang=eng\n",
            "Successfully fetched https://www.churchofjesuschrist.org/study/general-conference/1977/04/the-daily-portion-of-love?lang=eng\n",
            "Successfully fetched https://www.churchofjesuschrist.org/study/general-conference/1977/04/the-validity-of-the-gospel?lang=eng\n",
            "Successfully fetched https://www.churchofjesuschrist.org/study/general-conference/1977/04/we-beheld-his-glory?lang=eng\n",
            "Successfully fetched https://www.churchofjesuschrist.org/study/general-conference/1977/04/come-know-the-lord-jesus?lang=eng\n"
          ]
        },
        {
          "output_type": "stream",
          "name": "stderr",
          "text": [
            "Scraping talks in parallel:  86%|████████▋ | 3652/4233 [07:54<00:51, 11.38it/s]"
          ]
        },
        {
          "output_type": "stream",
          "name": "stdout",
          "text": [
            "Successfully fetched https://www.churchofjesuschrist.org/study/general-conference/1977/04/prayer?lang=eng\n",
            "Successfully fetched https://www.churchofjesuschrist.org/study/general-conference/1977/04/god-moves-in-a-mysterious-way-his-wonders-to-perform?lang=eng\n",
            "Successfully fetched https://www.churchofjesuschrist.org/study/general-conference/1977/04/joseph-the-seer?lang=eng\n"
          ]
        },
        {
          "output_type": "stream",
          "name": "stderr",
          "text": [
            "\rScraping talks in parallel:  86%|████████▋ | 3655/4233 [07:55<00:52, 11.03it/s]"
          ]
        },
        {
          "output_type": "stream",
          "name": "stdout",
          "text": [
            "Successfully fetched https://www.churchofjesuschrist.org/study/general-conference/1977/04/gratitude?lang=eng\n",
            "Successfully fetched https://www.churchofjesuschrist.org/study/general-conference/1977/04/rendering-assistance-in-the-lords-way?lang=eng\n",
            "Successfully fetched https://www.churchofjesuschrist.org/study/general-conference/1977/04/presentation-of-scouting-award?lang=eng\n",
            "Successfully fetched https://www.churchofjesuschrist.org/study/general-conference/1977/04/the-greatest-brotherhood?lang=eng\n",
            "Successfully fetched https://www.churchofjesuschrist.org/study/general-conference/1977/04/did-not-our-heart-burn-within-us?lang=eng\n",
            "Successfully fetched https://www.churchofjesuschrist.org/study/general-conference/1977/04/the-sustaining-of-church-officers?lang=eng\n",
            "Successfully fetched https://www.churchofjesuschrist.org/study/general-conference/1977/04/what-constitutes-the-true-church?lang=eng\n"
          ]
        },
        {
          "output_type": "stream",
          "name": "stderr",
          "text": [
            "Scraping talks in parallel:  87%|████████▋ | 3662/4233 [07:56<00:58,  9.70it/s]"
          ]
        },
        {
          "output_type": "stream",
          "name": "stdout",
          "text": [
            "Successfully fetched https://www.churchofjesuschrist.org/study/general-conference/1977/04/church-finance-committee-report?lang=eng\n",
            "Successfully fetched https://www.churchofjesuschrist.org/study/general-conference/1977/04/the-mediator?lang=eng\n",
            "Successfully fetched https://www.churchofjesuschrist.org/study/general-conference/1977/04/thoughts-on-the-sacrament?lang=eng\n",
            "Successfully fetched https://www.churchofjesuschrist.org/study/general-conference/1977/04/the-living-christ?lang=eng\n",
            "Successfully fetched https://www.churchofjesuschrist.org/study/general-conference/1976/10/principles-of-welfare?lang=eng\n",
            "Successfully fetched https://www.churchofjesuschrist.org/study/general-conference/1976/10/ready-to-work-long-hours?lang=eng\n"
          ]
        },
        {
          "output_type": "stream",
          "name": "stderr",
          "text": [
            "\rScraping talks in parallel:  87%|████████▋ | 3665/4233 [07:56<01:04,  8.83it/s]"
          ]
        },
        {
          "output_type": "stream",
          "name": "stdout",
          "text": [
            "Successfully fetched https://www.churchofjesuschrist.org/study/general-conference/1976/10/perfecting-the-saints?lang=eng\n",
            "Successfully fetched https://www.churchofjesuschrist.org/study/general-conference/1976/10/loving-one-another?lang=eng\n",
            "Successfully fetched https://www.churchofjesuschrist.org/study/general-conference/1976/10/extending-missionary-service?lang=eng\n"
          ]
        },
        {
          "output_type": "stream",
          "name": "stderr",
          "text": [
            "\rScraping talks in parallel:  87%|████████▋ | 3667/4233 [07:56<01:03,  8.89it/s]"
          ]
        },
        {
          "output_type": "stream",
          "name": "stdout",
          "text": [
            "Successfully fetched https://www.churchofjesuschrist.org/study/general-conference/1976/10/proper-self-management?lang=eng\n",
            "Successfully fetched https://www.churchofjesuschrist.org/study/general-conference/1976/10/the-greatest-thing-in-my-life?lang=eng"
          ]
        },
        {
          "output_type": "stream",
          "name": "stderr",
          "text": [
            "\rScraping talks in parallel:  87%|████████▋ | 3671/4233 [07:57<00:56, 10.02it/s]"
          ]
        },
        {
          "output_type": "stream",
          "name": "stdout",
          "text": [
            "\n",
            "Successfully fetched https://www.churchofjesuschrist.org/study/general-conference/1976/10/to-die-well?lang=eng\n",
            "Successfully fetched https://www.churchofjesuschrist.org/study/general-conference/1976/10/families-are-forever?lang=eng\n"
          ]
        },
        {
          "output_type": "stream",
          "name": "stderr",
          "text": [
            "Scraping talks in parallel:  87%|████████▋ | 3677/4233 [07:57<00:49, 11.33it/s]"
          ]
        },
        {
          "output_type": "stream",
          "name": "stdout",
          "text": [
            "Successfully fetched https://www.churchofjesuschrist.org/study/general-conference/1976/10/the-lord-offers-everyone-a-way-back-from-sin?lang=eng\n",
            "Successfully fetched https://www.churchofjesuschrist.org/study/general-conference/1976/10/dikes-versus-living-water?lang=eng\n",
            "Successfully fetched https://www.churchofjesuschrist.org/study/general-conference/1976/10/teachings-of-the-apostle-paul?lang=eng\n",
            "Successfully fetched https://www.churchofjesuschrist.org/study/general-conference/1976/10/you-never-know-who-you-may-save?lang=eng\n"
          ]
        },
        {
          "output_type": "stream",
          "name": "stderr",
          "text": [
            "\rScraping talks in parallel:  87%|████████▋ | 3679/4233 [07:57<00:58,  9.41it/s]"
          ]
        },
        {
          "output_type": "stream",
          "name": "stdout",
          "text": [
            "Successfully fetched https://www.churchofjesuschrist.org/study/general-conference/1976/10/a-report-and-a-challenge?lang=eng\n",
            "Successfully fetched https://www.churchofjesuschrist.org/study/general-conference/1976/10/our-priceless-heritage?lang=eng\n"
          ]
        },
        {
          "output_type": "stream",
          "name": "stderr",
          "text": [
            "\rScraping talks in parallel:  87%|████████▋ | 3681/4233 [07:58<01:21,  6.78it/s]"
          ]
        },
        {
          "output_type": "stream",
          "name": "stdout",
          "text": [
            "Successfully fetched https://www.churchofjesuschrist.org/study/general-conference/1976/10/friday-morning-session?lang=eng\n",
            "Successfully fetched https://www.churchofjesuschrist.org/study/general-conference/1976/10/everything-to-gain-nothing-to-lose?lang=eng\n",
            "Successfully fetched https://www.churchofjesuschrist.org/study/general-conference/1976/10/there-is-the-light?lang=eng\n",
            "Successfully fetched https://www.churchofjesuschrist.org/study/general-conference/1976/10/the-lords-support-system?lang=eng\n",
            "Successfully fetched https://www.churchofjesuschrist.org/study/general-conference/1976/10/i-have-gained?lang=eng\n",
            "Successfully fetched https://www.churchofjesuschrist.org/study/general-conference/1976/10/parenthood?lang=eng\n"
          ]
        },
        {
          "output_type": "stream",
          "name": "stderr",
          "text": [
            "Scraping talks in parallel:  87%|████████▋ | 3686/4233 [07:58<01:07,  8.07it/s]"
          ]
        },
        {
          "output_type": "stream",
          "name": "stdout",
          "text": [
            "Successfully fetched https://www.churchofjesuschrist.org/study/general-conference/1976/10/the-sustaining-of-church-officers?lang=eng\n",
            "Successfully fetched https://www.churchofjesuschrist.org/study/general-conference/1976/10/our-goal-is-perfection?lang=eng\n",
            "Successfully fetched https://www.churchofjesuschrist.org/study/general-conference/1976/10/in-mine-own-way?lang=eng\n"
          ]
        },
        {
          "output_type": "stream",
          "name": "stderr",
          "text": [
            "\rScraping talks in parallel:  87%|████████▋ | 3689/4233 [07:59<01:08,  7.89it/s]"
          ]
        },
        {
          "output_type": "stream",
          "name": "stdout",
          "text": [
            "Successfully fetched https://www.churchofjesuschrist.org/study/general-conference/1976/10/the-impact-teacher?lang=eng\n",
            "Successfully fetched https://www.churchofjesuschrist.org/study/general-conference/1976/10/a-gospel-of-conversion?lang=eng\n",
            "Successfully fetched https://www.churchofjesuschrist.org/study/general-conference/1976/10/the-purpose-of-conferences?lang=eng\n",
            "Successfully fetched https://www.churchofjesuschrist.org/study/general-conference/1976/10/she-is-not-afraid-of-the-snow-for-her-household?lang=engSuccessfully fetched https://www.churchofjesuschrist.org/study/general-conference/1976/10/our-own-liahona?lang=eng\n",
            "\n"
          ]
        },
        {
          "output_type": "stream",
          "name": "stderr",
          "text": [
            "\rScraping talks in parallel:  87%|████████▋ | 3692/4233 [07:59<01:12,  7.43it/s]"
          ]
        },
        {
          "output_type": "stream",
          "name": "stdout",
          "text": [
            "Successfully fetched https://www.churchofjesuschrist.org/study/general-conference/1976/10/the-dead-who-die-in-the-lord?lang=engSuccessfully fetched https://www.churchofjesuschrist.org/study/general-conference/1976/10/which-road-will-you-travel?lang=eng\n",
            "\n",
            "Successfully fetched https://www.churchofjesuschrist.org/study/general-conference/1976/10/the-making-of-a-missionary?lang=eng\n"
          ]
        },
        {
          "output_type": "stream",
          "name": "stderr",
          "text": [
            "\rScraping talks in parallel:  87%|████████▋ | 3695/4233 [08:00<01:01,  8.77it/s]"
          ]
        },
        {
          "output_type": "stream",
          "name": "stdout",
          "text": [
            "Successfully fetched https://www.churchofjesuschrist.org/study/general-conference/1976/10/acquiring-and-managing-production-projects?lang=eng\n",
            "Successfully fetched https://www.churchofjesuschrist.org/study/general-conference/1976/10/go-and-do-the-work?lang=eng\n",
            "Successfully fetched https://www.churchofjesuschrist.org/study/general-conference/1976/10/search-the-scriptures?lang=eng\n"
          ]
        },
        {
          "output_type": "stream",
          "name": "stderr",
          "text": [
            "\rScraping talks in parallel:  87%|████████▋ | 3697/4233 [08:01<01:54,  4.68it/s]"
          ]
        },
        {
          "output_type": "stream",
          "name": "stdout",
          "text": [
            "Successfully fetched https://www.churchofjesuschrist.org/study/general-conference/1976/10/welfare-services-essentials-the-bishops-storehouse?lang=eng\n",
            "Successfully fetched https://www.churchofjesuschrist.org/study/general-conference/1976/10/we-are-a-covenant-making-people?lang=eng\n",
            "Successfully fetched https://www.churchofjesuschrist.org/study/general-conference/1976/10/your-gift-from-god?lang=eng\n"
          ]
        },
        {
          "output_type": "stream",
          "name": "stderr",
          "text": [
            "Scraping talks in parallel:  88%|████████▊ | 3705/4233 [08:01<01:06,  7.90it/s]"
          ]
        },
        {
          "output_type": "stream",
          "name": "stdout",
          "text": [
            "Successfully fetched https://www.churchofjesuschrist.org/study/general-conference/1976/10/the-simplicity-in-christ?lang=eng\n"
          ]
        },
        {
          "output_type": "stream",
          "name": "stderr",
          "text": [
            "\rScraping talks in parallel:  88%|████████▊ | 3707/4233 [08:02<01:11,  7.34it/s]"
          ]
        },
        {
          "output_type": "stream",
          "name": "stdout",
          "text": [
            "Successfully fetched https://www.churchofjesuschrist.org/study/general-conference/1976/10/i-will-never-be-the-same-again?lang=eng\n",
            "Successfully fetched https://www.churchofjesuschrist.org/study/general-conference/1976/10/notwithstanding-my-weakness?lang=eng\n",
            "Successfully fetched https://www.churchofjesuschrist.org/study/general-conference/1976/10/the-living-prophet?lang=eng\n",
            "Successfully fetched https://www.churchofjesuschrist.org/study/general-conference/1976/10/we-believe-in-being-honest?lang=eng\n",
            "Successfully fetched https://www.churchofjesuschrist.org/study/general-conference/1976/10/the-temptations-of-christ?lang=eng\n"
          ]
        },
        {
          "output_type": "stream",
          "name": "stderr",
          "text": [
            "\rScraping talks in parallel:  88%|████████▊ | 3709/4233 [08:02<01:32,  5.68it/s]"
          ]
        },
        {
          "output_type": "stream",
          "name": "stdout",
          "text": [
            "Successfully fetched https://www.churchofjesuschrist.org/study/general-conference/1976/10/the-savor-of-men?lang=eng\n",
            "Successfully fetched https://www.churchofjesuschrist.org/study/general-conference/1976/10/a-program-for-man?lang=eng\n",
            "Successfully fetched https://www.churchofjesuschrist.org/study/general-conference/1976/10/follow-it?lang=eng\n"
          ]
        },
        {
          "output_type": "stream",
          "name": "stderr",
          "text": [
            "Scraping talks in parallel:  88%|████████▊ | 3713/4233 [08:03<01:20,  6.45it/s]"
          ]
        },
        {
          "output_type": "stream",
          "name": "stdout",
          "text": [
            "Successfully fetched https://www.churchofjesuschrist.org/study/general-conference/1976/10/more-joy-and-rejoicing?lang=eng\n",
            "Successfully fetched https://www.churchofjesuschrist.org/study/general-conference/1976/10/i-am-the-vine-ye-are-the-branches?lang=eng\n"
          ]
        },
        {
          "output_type": "stream",
          "name": "stderr",
          "text": [
            "Scraping talks in parallel:  88%|████████▊ | 3719/4233 [08:03<00:46, 11.16it/s]"
          ]
        },
        {
          "output_type": "stream",
          "name": "stdout",
          "text": [
            "Successfully fetched https://www.churchofjesuschrist.org/study/general-conference/1976/10/a-report-on-the-churchs-participation-in-americas-bicentennial-celebration?lang=eng\n",
            "Successfully fetched https://www.churchofjesuschrist.org/study/general-conference/1976/10/the-spirit-of-missionary-work?lang=eng\n",
            "Successfully fetched https://www.churchofjesuschrist.org/study/general-conference/1976/10/the-reconstitution-of-the-first-quorum-of-the-seventy?lang=eng\n",
            "Successfully fetched https://www.churchofjesuschrist.org/study/general-conference/1976/10/a-personal-relationship-with-the-savior?lang=eng\n",
            "Successfully fetched https://www.churchofjesuschrist.org/study/general-conference/1976/04/the-sustaining-of-church-officers?lang=eng\n",
            "Successfully fetched https://www.churchofjesuschrist.org/study/general-conference/1976/04/a-missionary-opportunity?lang=eng\n",
            "Successfully fetched https://www.churchofjesuschrist.org/study/general-conference/1976/04/teach-lds-women-self-sufficiency?lang=eng\n",
            "Successfully fetched https://www.churchofjesuschrist.org/study/general-conference/1976/04/family-preparedness?lang=eng\n",
            "Successfully fetched https://www.churchofjesuschrist.org/study/general-conference/1976/04/are-we-following-christs-pattern?lang=eng\n"
          ]
        },
        {
          "output_type": "stream",
          "name": "stderr",
          "text": [
            "\rScraping talks in parallel:  88%|████████▊ | 3721/4233 [08:04<01:32,  5.54it/s]"
          ]
        },
        {
          "output_type": "stream",
          "name": "stdout",
          "text": [
            "Successfully fetched https://www.churchofjesuschrist.org/study/general-conference/1976/04/the-right-to-choose?lang=eng\n",
            "Successfully fetched https://www.churchofjesuschrist.org/study/general-conference/1976/04/shout-it-from-the-rooftops?lang=eng\n"
          ]
        },
        {
          "output_type": "stream",
          "name": "stderr",
          "text": [
            "Scraping talks in parallel:  88%|████████▊ | 3728/4233 [08:05<00:57,  8.83it/s]"
          ]
        },
        {
          "output_type": "stream",
          "name": "stdout",
          "text": [
            "Successfully fetched https://www.churchofjesuschrist.org/study/general-conference/1976/04/the-leaves-are-commencing-to-show-on-the-fig-tree?lang=eng\n",
            "Successfully fetched https://www.churchofjesuschrist.org/study/general-conference/1976/04/value-of-the-holy-scriptures?lang=eng\n",
            "Successfully fetched https://www.churchofjesuschrist.org/study/general-conference/1976/04/easter-thoughts?lang=eng\n",
            "Successfully fetched https://www.churchofjesuschrist.org/study/general-conference/1976/04/the-book-of-mormon?lang=eng\n",
            "Successfully fetched https://www.churchofjesuschrist.org/study/general-conference/1976/04/who-is-jesus?lang=eng\n",
            "Successfully fetched https://www.churchofjesuschrist.org/study/general-conference/1976/04/are-you-taking-your-priesthood-for-granted?lang=eng\n"
          ]
        },
        {
          "output_type": "stream",
          "name": "stderr",
          "text": [
            "\rScraping talks in parallel:  88%|████████▊ | 3730/4233 [08:05<00:49, 10.09it/s]"
          ]
        },
        {
          "output_type": "stream",
          "name": "stdout",
          "text": [
            "Successfully fetched https://www.churchofjesuschrist.org/study/general-conference/1976/04/are-you-a-member-missionary?lang=eng\n",
            "Successfully fetched https://www.churchofjesuschrist.org/study/general-conference/1976/04/relationships?lang=eng\n"
          ]
        },
        {
          "output_type": "stream",
          "name": "stderr",
          "text": [
            "\rScraping talks in parallel:  88%|████████▊ | 3732/4233 [08:05<01:18,  6.42it/s]"
          ]
        },
        {
          "output_type": "stream",
          "name": "stdout",
          "text": [
            "Successfully fetched https://www.churchofjesuschrist.org/study/general-conference/1976/04/church-welfare-services-basic-principles?lang=eng\n",
            "Successfully fetched https://www.churchofjesuschrist.org/study/general-conference/1976/04/the-value-of-people?lang=eng\n"
          ]
        },
        {
          "output_type": "stream",
          "name": "stderr",
          "text": [
            "\rScraping talks in parallel:  88%|████████▊ | 3738/4233 [08:05<00:43, 11.49it/s]"
          ]
        },
        {
          "output_type": "stream",
          "name": "stdout",
          "text": [
            "Successfully fetched https://www.churchofjesuschrist.org/study/general-conference/1976/04/the-church-and-the-family-in-welfare-services?lang=eng\n",
            "Successfully fetched https://www.churchofjesuschrist.org/study/general-conference/1976/04/a-living-prophet?lang=eng\n",
            "Successfully fetched https://www.churchofjesuschrist.org/study/general-conference/1976/04/you-are-your-greatest-treasure?lang=eng\n",
            "Successfully fetched https://www.churchofjesuschrist.org/study/general-conference/1976/04/if-they-will-but-serve-the-god-of-the-land?lang=eng\n",
            "Successfully fetched https://www.churchofjesuschrist.org/study/general-conference/1976/04/food-storage?lang=eng\n",
            "Successfully fetched https://www.churchofjesuschrist.org/study/general-conference/1976/04/the-church-employment-system?lang=eng\n",
            "Successfully fetched https://www.churchofjesuschrist.org/study/general-conference/1976/04/priesthood-authority-and-power?lang=eng\n",
            "Successfully fetched https://www.churchofjesuschrist.org/study/general-conference/1976/04/an-honest-man-gods-noblest-work?lang=eng\n",
            "Successfully fetched https://www.churchofjesuschrist.org/study/general-conference/1976/04/church-finance-committee-report?lang=eng\n",
            "Successfully fetched https://www.churchofjesuschrist.org/study/general-conference/1976/04/seek-not-for-riches-but-for-wisdom?lang=eng\n"
          ]
        },
        {
          "output_type": "stream",
          "name": "stderr",
          "text": [
            "Scraping talks in parallel:  88%|████████▊ | 3743/4233 [08:07<01:12,  6.71it/s]"
          ]
        },
        {
          "output_type": "stream",
          "name": "stdout",
          "text": [
            "Successfully fetched https://www.churchofjesuschrist.org/study/general-conference/1976/04/these-four-things?lang=eng\n",
            "Successfully fetched https://www.churchofjesuschrist.org/study/general-conference/1976/04/joseph-smith-the-mighty-prophet-of-the-restoration?lang=eng\n"
          ]
        },
        {
          "output_type": "stream",
          "name": "stderr",
          "text": [
            "Scraping talks in parallel:  89%|████████▊ | 3750/4233 [08:07<00:46, 10.39it/s]"
          ]
        },
        {
          "output_type": "stream",
          "name": "stdout",
          "text": [
            "Successfully fetched https://www.churchofjesuschrist.org/study/general-conference/1976/04/the-word-of-wisdom?lang=eng\n",
            "Successfully fetched https://www.churchofjesuschrist.org/study/general-conference/1976/04/statistical-report-1975?lang=eng\n",
            "Successfully fetched https://www.churchofjesuschrist.org/study/general-conference/1976/04/learn-obedience-and-service?lang=eng\n",
            "Successfully fetched https://www.churchofjesuschrist.org/study/general-conference/1976/04/spiritual-crocodiles?lang=eng\n",
            "Successfully fetched https://www.churchofjesuschrist.org/study/general-conference/1976/04/hopeless-dawn-joyful-morning?lang=eng\n",
            "Successfully fetched https://www.churchofjesuschrist.org/study/general-conference/1976/04/but-they-were-in-one?lang=eng\n",
            "Successfully fetched https://www.churchofjesuschrist.org/study/general-conference/1976/04/the-constitution-a-glorious-standard?lang=eng\n"
          ]
        },
        {
          "output_type": "stream",
          "name": "stderr",
          "text": [
            "Scraping talks in parallel:  89%|████████▊ | 3754/4233 [08:08<01:05,  7.26it/s]"
          ]
        },
        {
          "output_type": "stream",
          "name": "stdout",
          "text": [
            "Successfully fetched https://www.churchofjesuschrist.org/study/general-conference/1976/04/jesus-of-nazareth-savior-and-king?lang=eng\n",
            "Successfully fetched https://www.churchofjesuschrist.org/study/general-conference/1976/04/there-am-i-in-the-midst-of-them?lang=eng\n",
            "Successfully fetched https://www.churchofjesuschrist.org/study/general-conference/1976/04/family-communications?lang=eng\n",
            "Successfully fetched https://www.churchofjesuschrist.org/study/general-conference/1976/04/as-a-man-soweth?lang=eng\n",
            "Successfully fetched https://www.churchofjesuschrist.org/study/general-conference/1976/04/the-stone-cut-without-hands?lang=eng\n",
            "Successfully fetched https://www.churchofjesuschrist.org/study/general-conference/1976/04/the-matter-of-personal-testimony?lang=eng\n",
            "Successfully fetched https://www.churchofjesuschrist.org/study/general-conference/1976/04/the-blessing-of-building-a-temple?lang=eng\n",
            "Successfully fetched https://www.churchofjesuschrist.org/study/general-conference/1976/04/that-we-may-be-one?lang=eng\n",
            "Successfully fetched https://www.churchofjesuschrist.org/study/general-conference/1976/04/the-lamanites-must-rise-in-majesty-and-power?lang=eng\n"
          ]
        },
        {
          "output_type": "stream",
          "name": "stderr",
          "text": [
            "Scraping talks in parallel:  89%|████████▉ | 3758/4233 [08:09<01:24,  5.65it/s]"
          ]
        },
        {
          "output_type": "stream",
          "name": "stdout",
          "text": [
            "Successfully fetched https://www.churchofjesuschrist.org/study/general-conference/1976/04/the-way-of-life?lang=eng\n",
            "Successfully fetched https://www.churchofjesuschrist.org/study/general-conference/1976/04/boys-need-heroes-close-by?lang=eng\n",
            "Successfully fetched https://www.churchofjesuschrist.org/study/general-conference/1976/04/the-message-of-elijah?lang=eng\n"
          ]
        },
        {
          "output_type": "stream",
          "name": "stderr",
          "text": [
            "\rScraping talks in parallel:  89%|████████▉ | 3759/4233 [08:09<01:27,  5.43it/s]"
          ]
        },
        {
          "output_type": "stream",
          "name": "stdout",
          "text": [
            "Successfully fetched https://www.churchofjesuschrist.org/study/general-conference/1976/04/on-accepting-the-call?lang=eng\n",
            "Successfully fetched https://www.churchofjesuschrist.org/study/general-conference/1976/04/he-is-the-son-of-god?lang=eng\n",
            "Successfully fetched https://www.churchofjesuschrist.org/study/general-conference/1976/04/seeking-eternal-riches?lang=eng\n",
            "Successfully fetched https://www.churchofjesuschrist.org/study/general-conference/1976/04/the-still-small-voice?lang=eng\n"
          ]
        },
        {
          "output_type": "stream",
          "name": "stderr",
          "text": [
            "\rScraping talks in parallel:  89%|████████▉ | 3763/4233 [08:09<01:05,  7.18it/s]"
          ]
        },
        {
          "output_type": "stream",
          "name": "stdout",
          "text": [
            "Successfully fetched https://www.churchofjesuschrist.org/study/general-conference/1975/10/relief-societys-role-in-welfare-services?lang=eng\n",
            "Successfully fetched https://www.churchofjesuschrist.org/study/general-conference/1975/10/according-to-the-covenants?lang=eng\n",
            "Successfully fetched https://www.churchofjesuschrist.org/study/general-conference/1975/10/the-power-of-the-priesthood?lang=eng\n"
          ]
        },
        {
          "output_type": "stream",
          "name": "stderr",
          "text": [
            "\rScraping talks in parallel:  89%|████████▉ | 3772/4233 [08:10<00:35, 12.93it/s]"
          ]
        },
        {
          "output_type": "stream",
          "name": "stdout",
          "text": [
            "Successfully fetched https://www.churchofjesuschrist.org/study/general-conference/1975/10/my-heritage-is-choice?lang=eng\n",
            "Successfully fetched https://www.churchofjesuschrist.org/study/general-conference/1975/10/success-stories?lang=eng\n"
          ]
        },
        {
          "output_type": "stream",
          "name": "stderr",
          "text": [
            "\rScraping talks in parallel:  89%|████████▉ | 3774/4233 [08:10<00:42, 10.92it/s]"
          ]
        },
        {
          "output_type": "stream",
          "name": "stdout",
          "text": [
            "Successfully fetched https://www.churchofjesuschrist.org/study/general-conference/1975/10/once-or-twice-in-a-thousand-years?lang=eng\n",
            "Successfully fetched https://www.churchofjesuschrist.org/study/general-conference/1976/04/saturday-morning-session?lang=eng\n"
          ]
        },
        {
          "output_type": "stream",
          "name": "stderr",
          "text": [
            "\rScraping talks in parallel:  89%|████████▉ | 3776/4233 [08:11<00:56,  8.05it/s]"
          ]
        },
        {
          "output_type": "stream",
          "name": "stdout",
          "text": [
            "Successfully fetched https://www.churchofjesuschrist.org/study/general-conference/1975/10/family-research?lang=eng\n",
            "Successfully fetched https://www.churchofjesuschrist.org/study/general-conference/1975/10/there-is-still-much-to-do?lang=eng\n",
            "Successfully fetched https://www.churchofjesuschrist.org/study/general-conference/1975/10/americas-destiny?lang=eng\n"
          ]
        },
        {
          "output_type": "stream",
          "name": "stderr",
          "text": [
            "\rScraping talks in parallel:  89%|████████▉ | 3777/4233 [08:11<01:00,  7.51it/s]"
          ]
        },
        {
          "output_type": "stream",
          "name": "stdout",
          "text": [
            "Successfully fetched https://www.churchofjesuschrist.org/study/general-conference/1975/10/the-keys-of-the-kingdom?lang=eng\n",
            "Successfully fetched https://www.churchofjesuschrist.org/study/general-conference/1975/10/we-can-t-do-it-alone?lang=eng\n",
            "Successfully fetched https://www.churchofjesuschrist.org/study/general-conference/1975/10/the-redemption-of-the-dead?lang=engSuccessfully fetched https://www.churchofjesuschrist.org/study/general-conference/1975/10/faith-and-works-in-the-far-east?lang=eng\n",
            "Successfully fetched https://www.churchofjesuschrist.org/study/general-conference/1975/10/a-call-to-arms?lang=eng\n",
            "\n",
            "Successfully fetched https://www.churchofjesuschrist.org/study/general-conference/1975/10/welfare-services?lang=eng\n",
            "Successfully fetched https://www.churchofjesuschrist.org/study/general-conference/1975/10/the-worlds-greatest-need?lang=eng\n",
            "Successfully fetched https://www.churchofjesuschrist.org/study/general-conference/1975/10/immanuel-god-with-us?lang=eng\n"
          ]
        },
        {
          "output_type": "stream",
          "name": "stderr",
          "text": [
            "\rScraping talks in parallel:  89%|████████▉ | 3782/4233 [08:12<01:16,  5.87it/s]"
          ]
        },
        {
          "output_type": "stream",
          "name": "stdout",
          "text": [
            "Successfully fetched https://www.churchofjesuschrist.org/study/general-conference/1975/10/covenants-and-blessings?lang=eng\n",
            "Successfully fetched https://www.churchofjesuschrist.org/study/general-conference/1975/10/the-sustaining-of-church-officers?lang=eng\n",
            "Successfully fetched https://www.churchofjesuschrist.org/study/general-conference/1975/10/let-all-thy-doings-be-unto-the-lord?lang=eng\n",
            "Successfully fetched https://www.churchofjesuschrist.org/study/general-conference/1975/10/the-privilege-of-holding-the-priesthood?lang=eng\n",
            "Successfully fetched https://www.churchofjesuschrist.org/study/general-conference/1975/10/do-it?lang=eng\n",
            "Successfully fetched https://www.churchofjesuschrist.org/study/general-conference/1975/10/the-time-to-labor-is-now?lang=eng\n",
            "Successfully fetched https://www.churchofjesuschrist.org/study/general-conference/1975/10/the-developing-welfare-services-department?lang=eng\n",
            "Successfully fetched https://www.churchofjesuschrist.org/study/general-conference/1975/10/the-vision-of-the-aaronic-priesthood?lang=eng\n",
            "Successfully fetched https://www.churchofjesuschrist.org/study/general-conference/1975/10/oh-beautiful-for-patriot-dream?lang=eng\n",
            "Successfully fetched https://www.churchofjesuschrist.org/study/general-conference/1975/10/friday-morning-session?lang=eng\n",
            "Successfully fetched https://www.churchofjesuschrist.org/study/general-conference/1975/10/the-laws-of-god?lang=eng\n",
            "Successfully fetched https://www.churchofjesuschrist.org/study/general-conference/1975/10/prepare-for-honorable-employment?lang=eng\n",
            "Successfully fetched https://www.churchofjesuschrist.org/study/general-conference/1975/10/to-cleanse-our-souls?lang=eng\n",
            "Successfully fetched https://www.churchofjesuschrist.org/study/general-conference/1975/10/for-the-time-will-come-when-they-will-not-endure-sound-doctrine?lang=eng\n"
          ]
        },
        {
          "output_type": "stream",
          "name": "stderr",
          "text": [
            "\rScraping talks in parallel:  90%|████████▉ | 3790/4233 [08:14<01:30,  4.89it/s]"
          ]
        },
        {
          "output_type": "stream",
          "name": "stdout",
          "text": [
            "Successfully fetched https://www.churchofjesuschrist.org/study/general-conference/1975/10/why-can-t-we?lang=eng\n",
            "Successfully fetched https://www.churchofjesuschrist.org/study/general-conference/1975/10/the-tabernacle?lang=eng\n",
            "Successfully fetched https://www.churchofjesuschrist.org/study/general-conference/1975/10/you-too-must-know?lang=eng\n",
            "Successfully fetched https://www.churchofjesuschrist.org/study/general-conference/1975/10/but-watchman-what-of-the-night?lang=eng\n",
            "Successfully fetched https://www.churchofjesuschrist.org/study/general-conference/1975/10/a-message-to-the-world?lang=eng\n",
            "Successfully fetched https://www.churchofjesuschrist.org/study/general-conference/1975/10/the-welfare-production-distribution-department?lang=eng\n",
            "Successfully fetched https://www.churchofjesuschrist.org/study/general-conference/1975/10/my-gratitude?lang=eng\n",
            "Successfully fetched https://www.churchofjesuschrist.org/study/general-conference/1975/10/the-language-of-the-spirit?lang=eng\n",
            "Successfully fetched https://www.churchofjesuschrist.org/study/general-conference/1975/10/for-they-loved-the-praise-of-men-more-than-the-praise-of-god?lang=eng\n",
            "Successfully fetched https://www.churchofjesuschrist.org/study/general-conference/1975/10/opposing-evil?lang=eng\n",
            "Successfully fetched https://www.churchofjesuschrist.org/study/general-conference/1975/10/family-home-evening?lang=eng\n",
            "Successfully fetched https://www.churchofjesuschrist.org/study/general-conference/1975/10/hear-ye-him?lang=eng\n"
          ]
        },
        {
          "output_type": "stream",
          "name": "stderr",
          "text": [
            "\rScraping talks in parallel:  90%|████████▉ | 3795/4233 [08:16<01:59,  3.68it/s]"
          ]
        },
        {
          "output_type": "stream",
          "name": "stdout",
          "text": [
            "Successfully fetched https://www.churchofjesuschrist.org/study/general-conference/1975/10/love-takes-time?lang=engSuccessfully fetched https://www.churchofjesuschrist.org/study/general-conference/1975/10/to-make-a-people-prepared-for-the-lord?lang=eng\n",
            "\n",
            "Successfully fetched https://www.churchofjesuschrist.org/study/general-conference/1975/10/we-are-sent-for-the-last-time?lang=eng\n"
          ]
        },
        {
          "output_type": "stream",
          "name": "stderr",
          "text": [
            "Scraping talks in parallel:  90%|█████████ | 3820/4233 [08:16<00:29, 13.80it/s]"
          ]
        },
        {
          "output_type": "stream",
          "name": "stdout",
          "text": [
            "Successfully fetched https://www.churchofjesuschrist.org/study/general-conference/1975/10/the-faith-of-a-child?lang=eng\n",
            "Successfully fetched https://www.churchofjesuschrist.org/study/general-conference/1975/10/spoken-from-their-hearts?lang=eng\n",
            "Successfully fetched https://www.churchofjesuschrist.org/study/general-conference/1975/10/an-overview-of-church-welfare-services?lang=eng\n",
            "Successfully fetched https://www.churchofjesuschrist.org/study/general-conference/1975/10/the-importance-of-reputation?lang=eng\n",
            "Successfully fetched https://www.churchofjesuschrist.org/study/general-conference/1975/10/a-prophets-faith?lang=eng\n",
            "Successfully fetched https://www.churchofjesuschrist.org/study/general-conference/1975/10/prophets-and-prophecy?lang=eng\n"
          ]
        },
        {
          "output_type": "stream",
          "name": "stderr",
          "text": [
            "\rScraping talks in parallel:  90%|█████████ | 3825/4233 [08:17<00:37, 10.94it/s]"
          ]
        },
        {
          "output_type": "stream",
          "name": "stdout",
          "text": [
            "Successfully fetched https://www.churchofjesuschrist.org/study/general-conference/1975/04/the-road-to-happiness?lang=eng\n",
            "Successfully fetched https://www.churchofjesuschrist.org/study/general-conference/1975/04/a-self-inflicted-purging?lang=eng\n",
            "Successfully fetched https://www.churchofjesuschrist.org/study/general-conference/1975/04/the-sabbath-day?lang=eng\n",
            "Successfully fetched https://www.churchofjesuschrist.org/study/general-conference/1975/04/feed-the-flock?lang=eng\n",
            "Successfully fetched https://www.churchofjesuschrist.org/study/general-conference/1975/04/success-is-gauged-by-self-mastery?lang=eng\n",
            "Successfully fetched https://www.churchofjesuschrist.org/study/general-conference/1975/04/birth?lang=eng\n",
            "Successfully fetched https://www.churchofjesuschrist.org/study/general-conference/1975/04/welfare-services-kimball?lang=eng\n"
          ]
        },
        {
          "output_type": "stream",
          "name": "stderr",
          "text": [
            "\rScraping talks in parallel:  90%|█████████ | 3829/4233 [08:18<00:40,  9.93it/s]"
          ]
        },
        {
          "output_type": "stream",
          "name": "stdout",
          "text": [
            "Successfully fetched https://www.churchofjesuschrist.org/study/general-conference/1975/04/the-sanctity-of-life?lang=eng\n",
            "Successfully fetched https://www.churchofjesuschrist.org/study/general-conference/1975/04/a-time-for-every-purpose?lang=eng\n",
            "Successfully fetched https://www.churchofjesuschrist.org/study/general-conference/1975/04/anchored-in-testimony?lang=eng\n",
            "Successfully fetched https://www.churchofjesuschrist.org/study/general-conference/1975/04/the-way-home?lang=eng\n",
            "Successfully fetched https://www.churchofjesuschrist.org/study/general-conference/1975/04/an-appeal-to-prospective-elders?lang=eng\n",
            "Successfully fetched https://www.churchofjesuschrist.org/study/general-conference/1975/04/the-man-of-christ?lang=engSuccessfully fetched https://www.churchofjesuschrist.org/study/general-conference/1975/04/testimony?lang=eng\n",
            "\n",
            "Successfully fetched https://www.churchofjesuschrist.org/study/general-conference/1975/04/obedience-consecration-and-sacrifice?lang=eng\n",
            "Successfully fetched https://www.churchofjesuschrist.org/study/general-conference/1975/04/welfare-services-romney?lang=eng\n",
            "Successfully fetched https://www.churchofjesuschrist.org/study/general-conference/1975/04/church-finance-committee-report?lang=eng\n",
            "Successfully fetched https://www.churchofjesuschrist.org/study/general-conference/1975/04/make-haste-to-obey?lang=eng\n",
            "Successfully fetched https://www.churchofjesuschrist.org/study/general-conference/1975/04/faithful-laborers?lang=eng\n",
            "Successfully fetched https://www.churchofjesuschrist.org/study/general-conference/1975/04/the-message-of-easter?lang=eng"
          ]
        },
        {
          "output_type": "stream",
          "name": "stderr",
          "text": [
            "\rScraping talks in parallel:  91%|█████████ | 3837/4233 [08:19<00:49,  8.07it/s]"
          ]
        },
        {
          "output_type": "stream",
          "name": "stdout",
          "text": [
            "Successfully fetched https://www.churchofjesuschrist.org/study/general-conference/1975/04/today-millions-are-waiting?lang=eng\n",
            "\n",
            "Successfully fetched https://www.churchofjesuschrist.org/study/general-conference/1975/04/faith-the-first-step?lang=eng\n",
            "Successfully fetched https://www.churchofjesuschrist.org/study/general-conference/1975/04/come-drink-the-living-water?lang=eng\n",
            "Successfully fetched https://www.churchofjesuschrist.org/study/general-conference/1975/04/help-for-parents?lang=eng\n",
            "Successfully fetched https://www.churchofjesuschrist.org/study/general-conference/1975/04/a-tribute?lang=eng\n",
            "Successfully fetched https://www.churchofjesuschrist.org/study/general-conference/1975/04/we-need-men-of-courage?lang=eng\n",
            "Successfully fetched https://www.churchofjesuschrist.org/study/general-conference/1975/04/trust-in-the-lord?lang=eng\n",
            "Successfully fetched https://www.churchofjesuschrist.org/study/general-conference/1975/04/the-time-is-now?lang=eng\n",
            "Successfully fetched https://www.churchofjesuschrist.org/study/general-conference/1975/04/the-symbol-of-christ?lang=eng\n",
            "Successfully fetched https://www.churchofjesuschrist.org/study/general-conference/1975/04/why-do-we-continue-to-tolerate-sin?lang=eng\n",
            "Successfully fetched https://www.churchofjesuschrist.org/study/general-conference/1975/04/salvation-for-the-dead-a-missionary-activity?lang=eng\n",
            "Successfully fetched https://www.churchofjesuschrist.org/study/general-conference/1975/04/why-call-me-lord-lord-and-do-not-the-things-which-i-say?lang=eng\n",
            "Successfully fetched https://www.churchofjesuschrist.org/study/general-conference/1975/04/friday-morning-session?lang=eng\n",
            "Successfully fetched https://www.churchofjesuschrist.org/study/general-conference/1975/04/using-our-free-agency?lang=eng\n",
            "Successfully fetched https://www.churchofjesuschrist.org/study/general-conference/1975/04/to-bear-the-priesthood-worthily?lang=eng\n",
            "Successfully fetched https://www.churchofjesuschrist.org/study/general-conference/1975/04/the-people-who-influence-us?lang=eng\n",
            "Successfully fetched https://www.churchofjesuschrist.org/study/general-conference/1975/04/one-lord-one-faith-one-baptism?lang=eng\n",
            "Successfully fetched https://www.churchofjesuschrist.org/study/general-conference/1975/04/a-question-of-free-agency?lang=eng\n"
          ]
        },
        {
          "output_type": "stream",
          "name": "stderr",
          "text": [
            "Scraping talks in parallel:  91%|█████████ | 3859/4233 [08:21<00:34, 10.75it/s]"
          ]
        },
        {
          "output_type": "stream",
          "name": "stdout",
          "text": [
            "Successfully fetched https://www.churchofjesuschrist.org/study/general-conference/1975/04/statistical-report-1974?lang=eng\n",
            "Successfully fetched https://www.churchofjesuschrist.org/study/general-conference/1975/04/the-laws-of-god-are-blessings?lang=eng\n",
            "Successfully fetched https://www.churchofjesuschrist.org/study/general-conference/1975/04/easter-thoughts?lang=eng\n",
            "Successfully fetched https://www.churchofjesuschrist.org/study/general-conference/1975/04/christ-in-america?lang=eng\n",
            "Successfully fetched https://www.churchofjesuschrist.org/study/general-conference/1975/04/the-roots-of-mormonism?lang=eng\n",
            "Successfully fetched https://www.churchofjesuschrist.org/study/general-conference/1975/04/the-sustaining-of-church-officers?lang=engSuccessfully fetched https://www.churchofjesuschrist.org/study/general-conference/1975/04/my-mother-gained-a-better-son?lang=eng\n",
            "\n"
          ]
        },
        {
          "output_type": "stream",
          "name": "stderr",
          "text": [
            "\rScraping talks in parallel:  91%|█████████▏| 3867/4233 [08:22<00:30, 12.10it/s]"
          ]
        },
        {
          "output_type": "stream",
          "name": "stdout",
          "text": [
            "Successfully fetched https://www.churchofjesuschrist.org/study/general-conference/1975/04/a-time-to-prepare?lang=eng\n",
            "Successfully fetched https://www.churchofjesuschrist.org/study/general-conference/1975/04/scouters-lead-them-to-a-mission?lang=eng\n",
            "Successfully fetched https://www.churchofjesuschrist.org/study/general-conference/1975/04/the-book-of-mormon-is-the-word-of-god?lang=eng\n",
            "Successfully fetched https://www.churchofjesuschrist.org/study/general-conference/1974/10/power-over-satan?lang=eng\n"
          ]
        },
        {
          "output_type": "stream",
          "name": "stderr",
          "text": [
            "\rScraping talks in parallel:  91%|█████████▏| 3871/4233 [08:22<00:33, 10.89it/s]"
          ]
        },
        {
          "output_type": "stream",
          "name": "stdout",
          "text": [
            "Successfully fetched https://www.churchofjesuschrist.org/study/general-conference/1974/10/is-there-not-a-cause?lang=eng\n",
            "Successfully fetched https://www.churchofjesuschrist.org/study/general-conference/1974/10/good-habits-develop-good-character?lang=eng\n"
          ]
        },
        {
          "output_type": "stream",
          "name": "stderr",
          "text": [
            "\rScraping talks in parallel:  92%|█████████▏| 3875/4233 [08:22<00:29, 11.95it/s]"
          ]
        },
        {
          "output_type": "stream",
          "name": "stdout",
          "text": [
            "Successfully fetched https://www.churchofjesuschrist.org/study/general-conference/1974/10/friday-morning-session?lang=eng\n",
            "Successfully fetched https://www.churchofjesuschrist.org/study/general-conference/1974/10/do-not-procrastinate?lang=eng\n",
            "Successfully fetched https://www.churchofjesuschrist.org/study/general-conference/1974/10/a-testimony-of-christ?lang=eng\n"
          ]
        },
        {
          "output_type": "stream",
          "name": "stderr",
          "text": [
            "\rScraping talks in parallel:  92%|█████████▏| 3878/4233 [08:23<00:31, 11.19it/s]"
          ]
        },
        {
          "output_type": "stream",
          "name": "stdout",
          "text": [
            "Successfully fetched https://www.churchofjesuschrist.org/study/general-conference/1974/10/to-know-god?lang=eng\n",
            "Successfully fetched https://www.churchofjesuschrist.org/study/general-conference/1974/10/for-thy-servant-heareth?lang=eng\n",
            "Successfully fetched https://www.churchofjesuschrist.org/study/general-conference/1974/10/the-most-vital-information?lang=engSuccessfully fetched https://www.churchofjesuschrist.org/study/general-conference/1974/10/our-precious-families?lang=eng\n",
            "Successfully fetched https://www.churchofjesuschrist.org/study/general-conference/1974/10/integrity?lang=eng\n",
            "\n",
            "Successfully fetched https://www.churchofjesuschrist.org/study/general-conference/1974/10/transfusion?lang=eng\n",
            "Successfully fetched https://www.churchofjesuschrist.org/study/general-conference/1974/10/my-personal-hall-of-fame?lang=eng\n"
          ]
        },
        {
          "output_type": "stream",
          "name": "stderr",
          "text": [
            "\rScraping talks in parallel:  92%|█████████▏| 3881/4233 [08:23<00:41,  8.46it/s]"
          ]
        },
        {
          "output_type": "stream",
          "name": "stdout",
          "text": [
            "Successfully fetched https://www.churchofjesuschrist.org/study/general-conference/1974/10/when-thou-art-converted-strengthen-thy-brethren?lang=eng\n",
            "Successfully fetched https://www.churchofjesuschrist.org/study/general-conference/1974/10/the-divine-power-of-repentance?lang=eng"
          ]
        },
        {
          "output_type": "stream",
          "name": "stderr",
          "text": [
            "\rScraping talks in parallel:  92%|█████████▏| 3883/4233 [08:24<00:38,  9.13it/s]"
          ]
        },
        {
          "output_type": "stream",
          "name": "stdout",
          "text": [
            "\n",
            "Successfully fetched https://www.churchofjesuschrist.org/study/general-conference/1974/10/your-mission-preparation?lang=eng\n",
            "Successfully fetched https://www.churchofjesuschrist.org/study/general-conference/1974/10/the-saviors-program-for-the-care-of-the-aged?lang=eng\n"
          ]
        },
        {
          "output_type": "stream",
          "name": "stderr",
          "text": [
            "\rScraping talks in parallel:  92%|█████████▏| 3889/4233 [08:24<00:30, 11.28it/s]"
          ]
        },
        {
          "output_type": "stream",
          "name": "stdout",
          "text": [
            "Successfully fetched https://www.churchofjesuschrist.org/study/general-conference/1974/10/what-after-death?lang=engSuccessfully fetched https://www.churchofjesuschrist.org/study/general-conference/1974/10/sustaining-of-church-officers?lang=eng\n",
            "\n",
            "Successfully fetched https://www.churchofjesuschrist.org/study/general-conference/1974/10/where-much-is-given-much-is-required?lang=eng\n",
            "Successfully fetched https://www.churchofjesuschrist.org/study/general-conference/1974/10/eternal-togetherness?lang=eng\n"
          ]
        },
        {
          "output_type": "stream",
          "name": "stderr",
          "text": [
            "\rScraping talks in parallel:  92%|█████████▏| 3891/4233 [08:24<00:29, 11.55it/s]"
          ]
        },
        {
          "output_type": "stream",
          "name": "stdout",
          "text": [
            "Successfully fetched https://www.churchofjesuschrist.org/study/general-conference/1974/10/gifts-of-the-spirit?lang=eng\n",
            "Successfully fetched https://www.churchofjesuschrist.org/study/general-conference/1974/10/truth-will-emerge-victorious?lang=eng\n",
            "Successfully fetched https://www.churchofjesuschrist.org/study/general-conference/1974/10/blessed-are-the-peacemakers?lang=eng\n",
            "Successfully fetched https://www.churchofjesuschrist.org/study/general-conference/1974/10/ocean-currents-and-family-influences?lang=eng\n"
          ]
        },
        {
          "output_type": "stream",
          "name": "stderr",
          "text": [
            "\rScraping talks in parallel:  92%|█████████▏| 3893/4233 [08:25<00:43,  7.87it/s]"
          ]
        },
        {
          "output_type": "stream",
          "name": "stdout",
          "text": [
            "Successfully fetched https://www.churchofjesuschrist.org/study/general-conference/1974/10/the-beatitudes?lang=eng\n",
            "Successfully fetched https://www.churchofjesuschrist.org/study/general-conference/1974/10/welfare-services-romney?lang=eng\n",
            "Successfully fetched https://www.churchofjesuschrist.org/study/general-conference/1974/10/why-not-now?lang=eng\n",
            "Successfully fetched https://www.churchofjesuschrist.org/study/general-conference/1974/10/be-valiant-in-the-fight-of-faith?lang=eng\n"
          ]
        },
        {
          "output_type": "stream",
          "name": "stderr",
          "text": [
            "Scraping talks in parallel:  92%|█████████▏| 3902/4233 [08:25<00:30, 10.87it/s]"
          ]
        },
        {
          "output_type": "stream",
          "name": "stdout",
          "text": [
            "Successfully fetched https://www.churchofjesuschrist.org/study/general-conference/1974/10/why-is-my-boy-wandering-tonight?lang=eng\n",
            "Successfully fetched https://www.churchofjesuschrist.org/study/general-conference/1974/10/the-blessings-of-peace?lang=eng\n",
            "Successfully fetched https://www.churchofjesuschrist.org/study/general-conference/1974/10/a-new-aristocracy?lang=eng\n",
            "Successfully fetched https://www.churchofjesuschrist.org/study/general-conference/1974/10/our-responsibility-to-the-transgressor?lang=eng\n",
            "Successfully fetched https://www.churchofjesuschrist.org/study/general-conference/1974/10/do-not-despair?lang=eng\n",
            "Successfully fetched https://www.churchofjesuschrist.org/study/general-conference/1974/10/making-conferences-turning-points-in-our-lives?lang=engSuccessfully fetched https://www.churchofjesuschrist.org/study/general-conference/1974/10/how-men-are-saved?lang=eng\n",
            "Successfully fetched https://www.churchofjesuschrist.org/study/general-conference/1974/10/the-davids-and-the-goliaths?lang=eng\n",
            "Successfully fetched https://www.churchofjesuschrist.org/study/general-conference/1974/10/god-will-not-be-mocked?lang=eng\n",
            "Successfully fetched https://www.churchofjesuschrist.org/study/general-conference/1974/10/we-need-to-continue-in-righteousness?lang=eng\n",
            "\n"
          ]
        },
        {
          "output_type": "stream",
          "name": "stderr",
          "text": [
            "\rScraping talks in parallel:  92%|█████████▏| 3904/4233 [08:26<00:50,  6.50it/s]"
          ]
        },
        {
          "output_type": "stream",
          "name": "stdout",
          "text": [
            "Successfully fetched https://www.churchofjesuschrist.org/study/general-conference/1974/10/as-a-beacon-on-a-hill?lang=engSuccessfully fetched https://www.churchofjesuschrist.org/study/general-conference/1974/10/a-city-set-upon-a-hill?lang=eng\n"
          ]
        },
        {
          "output_type": "stream",
          "name": "stderr",
          "text": [
            "\rScraping talks in parallel:  92%|█████████▏| 3908/4233 [08:27<00:57,  5.64it/s]"
          ]
        },
        {
          "output_type": "stream",
          "name": "stdout",
          "text": [
            "\n",
            "Successfully fetched https://www.churchofjesuschrist.org/study/general-conference/1974/10/the-law-of-the-fast?lang=eng\n",
            "Successfully fetched https://www.churchofjesuschrist.org/study/general-conference/1974/10/welfare-services-kimball?lang=eng\n"
          ]
        },
        {
          "output_type": "stream",
          "name": "stderr",
          "text": [
            "Scraping talks in parallel:  92%|█████████▏| 3912/4233 [08:27<00:45,  6.98it/s]"
          ]
        },
        {
          "output_type": "stream",
          "name": "stdout",
          "text": [
            "Successfully fetched https://www.churchofjesuschrist.org/study/general-conference/1974/10/whos-losing?lang=eng\n",
            "Successfully fetched https://www.churchofjesuschrist.org/study/general-conference/1974/04/commitment-to-serve?lang=eng\n",
            "Successfully fetched https://www.churchofjesuschrist.org/study/general-conference/1974/04/the-power-of-elijah?lang=eng\n",
            "Successfully fetched https://www.churchofjesuschrist.org/study/general-conference/1974/04/three-days-in-the-tomb?lang=eng\n",
            "Successfully fetched https://www.churchofjesuschrist.org/study/general-conference/1974/04/church-finance-committee-report?lang=eng\n"
          ]
        },
        {
          "output_type": "stream",
          "name": "stderr",
          "text": [
            "\rScraping talks in parallel:  92%|█████████▏| 3915/4233 [08:28<00:52,  6.08it/s]"
          ]
        },
        {
          "output_type": "stream",
          "name": "stdout",
          "text": [
            "Successfully fetched https://www.churchofjesuschrist.org/study/general-conference/1974/04/his-final-hours?lang=eng\n",
            "Successfully fetched https://www.churchofjesuschrist.org/study/general-conference/1974/04/inertia?lang=eng\n",
            "Successfully fetched https://www.churchofjesuschrist.org/study/general-conference/1974/04/what-do-we-hear?lang=eng\n"
          ]
        },
        {
          "output_type": "stream",
          "name": "stderr",
          "text": [
            "\rScraping talks in parallel:  93%|█████████▎| 3920/4233 [08:29<00:49,  6.31it/s]"
          ]
        },
        {
          "output_type": "stream",
          "name": "stdout",
          "text": [
            "Successfully fetched https://www.churchofjesuschrist.org/study/general-conference/1974/04/parents-teach-your-children?lang=engSuccessfully fetched https://www.churchofjesuschrist.org/study/general-conference/1974/04/planning-for-a-full-and-abundant-life?lang=eng\n",
            "\n",
            "Successfully fetched https://www.churchofjesuschrist.org/study/general-conference/1974/04/chosen-of-the-lord?lang=eng\n",
            "Successfully fetched https://www.churchofjesuschrist.org/study/general-conference/1974/04/the-saviors-ministry?lang=engSuccessfully fetched https://www.churchofjesuschrist.org/study/general-conference/1974/04/god-foreordains-his-prophets-and-his-people?lang=eng\n",
            "\n"
          ]
        },
        {
          "output_type": "stream",
          "name": "stderr",
          "text": [
            "Scraping talks in parallel:  93%|█████████▎| 3932/4233 [08:30<00:27, 11.09it/s]"
          ]
        },
        {
          "output_type": "stream",
          "name": "stdout",
          "text": [
            "Successfully fetched https://www.churchofjesuschrist.org/study/general-conference/1974/04/the-paths-jesus-walked?lang=eng\n",
            "Successfully fetched https://www.churchofjesuschrist.org/study/general-conference/1974/04/statistical-report-1973?lang=eng\n",
            "Successfully fetched https://www.churchofjesuschrist.org/study/general-conference/1974/04/testimony?lang=eng\n",
            "Successfully fetched https://www.churchofjesuschrist.org/study/general-conference/1974/04/a-time-of-urgency?lang=eng\n",
            "Successfully fetched https://www.churchofjesuschrist.org/study/general-conference/1974/04/friday-morning-session?lang=eng\n",
            "Successfully fetched https://www.churchofjesuschrist.org/study/general-conference/1974/04/i-will-pour-you-out-a-blessing?lang=eng\n",
            "Successfully fetched https://www.churchofjesuschrist.org/study/general-conference/1974/04/welfare-services-tanner?lang=eng\n",
            "Successfully fetched https://www.churchofjesuschrist.org/study/general-conference/1974/04/the-strength-of-testimony?lang=eng\n",
            "Successfully fetched https://www.churchofjesuschrist.org/study/general-conference/1974/04/prophecy?lang=eng\n"
          ]
        },
        {
          "output_type": "stream",
          "name": "stderr",
          "text": [
            "\rScraping talks in parallel:  93%|█████████▎| 3934/4233 [08:30<00:39,  7.54it/s]"
          ]
        },
        {
          "output_type": "stream",
          "name": "stdout",
          "text": [
            "Successfully fetched https://www.churchofjesuschrist.org/study/general-conference/1974/04/justice-and-mercy?lang=eng\n",
            "Successfully fetched https://www.churchofjesuschrist.org/study/general-conference/1974/04/touchstone-of-truth?lang=eng\n",
            "Successfully fetched https://www.churchofjesuschrist.org/study/general-conference/1974/04/the-cause-is-just-and-worthy?lang=eng\n",
            "Successfully fetched https://www.churchofjesuschrist.org/study/general-conference/1974/04/hanging-on?lang=eng\n",
            "Successfully fetched https://www.churchofjesuschrist.org/study/general-conference/1974/04/guidelines-to-carry-forth-the-work-of-god-in-cleanliness?lang=eng\n",
            "Successfully fetched https://www.churchofjesuschrist.org/study/general-conference/1974/04/welfare-services-romney?lang=eng\n",
            "Successfully fetched https://www.churchofjesuschrist.org/study/general-conference/1974/04/the-holy-ghost?lang=eng\n",
            "Successfully fetched https://www.churchofjesuschrist.org/study/general-conference/1974/04/the-marriage-that-endures?lang=eng\n",
            "Successfully fetched https://www.churchofjesuschrist.org/study/general-conference/1974/04/aaronic-priesthood-stewardship?lang=eng\n",
            "Successfully fetched https://www.churchofjesuschrist.org/study/general-conference/1974/04/mother-catch-the-vision-of-your-call?lang=engSuccessfully fetched https://www.churchofjesuschrist.org/study/general-conference/1974/04/hearken-unto-the-voice-of-god?lang=eng\n",
            "\n",
            "Successfully fetched https://www.churchofjesuschrist.org/study/general-conference/1974/04/be-ye-clean-that-bear-the-vessels-of-the-lord?lang=eng\n",
            "Successfully fetched https://www.churchofjesuschrist.org/study/general-conference/1974/04/build-your-shield-of-faith?lang=eng\n"
          ]
        },
        {
          "output_type": "stream",
          "name": "stderr",
          "text": [
            "\rScraping talks in parallel:  93%|█████████▎| 3936/4233 [08:32<01:23,  3.56it/s]"
          ]
        },
        {
          "output_type": "stream",
          "name": "stdout",
          "text": [
            "Successfully fetched https://www.churchofjesuschrist.org/study/general-conference/1974/04/welfare-services-kimball?lang=eng\n",
            "Successfully fetched https://www.churchofjesuschrist.org/study/general-conference/1974/04/we-believe-all-that-god-has-revealed?lang=eng\n",
            "Successfully fetched https://www.churchofjesuschrist.org/study/general-conference/1974/04/three-important-questions?lang=eng\n",
            "Successfully fetched https://www.churchofjesuschrist.org/study/general-conference/1974/04/the-solemn-assembly?lang=eng\n",
            "Successfully fetched https://www.churchofjesuschrist.org/study/general-conference/1974/04/what-does-jesus-mean-to-modern-man?lang=eng\n",
            "Successfully fetched https://www.churchofjesuschrist.org/study/general-conference/1974/04/the-people-say-amen?lang=eng\n",
            "Successfully fetched https://www.churchofjesuschrist.org/study/general-conference/1974/04/the-importance-of-prayer?lang=eng\n"
          ]
        },
        {
          "output_type": "stream",
          "name": "stderr",
          "text": [
            "\rScraping talks in parallel:  93%|█████████▎| 3955/4233 [08:33<00:25, 10.84it/s]"
          ]
        },
        {
          "output_type": "stream",
          "name": "stdout",
          "text": [
            "Successfully fetched https://www.churchofjesuschrist.org/study/general-conference/1974/04/the-family-a-divine-blessing?lang=eng\n",
            "Successfully fetched https://www.churchofjesuschrist.org/study/general-conference/1974/04/missionary-work-a-major-responsibility?lang=eng\n",
            "Successfully fetched https://www.churchofjesuschrist.org/study/general-conference/1974/04/that-the-scriptures-might-be-fulfilled?lang=eng\n",
            "Successfully fetched https://www.churchofjesuschrist.org/study/general-conference/1974/04/strength-of-the-spirit?lang=eng\n",
            "Successfully fetched https://www.churchofjesuschrist.org/study/general-conference/1974/04/response-to-a-call?lang=eng\n"
          ]
        },
        {
          "output_type": "stream",
          "name": "stderr",
          "text": [
            "\rScraping talks in parallel:  93%|█████████▎| 3957/4233 [08:33<00:34,  7.90it/s]"
          ]
        },
        {
          "output_type": "stream",
          "name": "stdout",
          "text": [
            "Successfully fetched https://www.churchofjesuschrist.org/study/general-conference/1974/04/boys-need-men?lang=eng\n",
            "Successfully fetched https://www.churchofjesuschrist.org/study/general-conference/1973/10/think-on-these-things?lang=eng\n",
            "Successfully fetched https://www.churchofjesuschrist.org/study/general-conference/1973/10/closing-remarks?lang=eng\n",
            "Successfully fetched https://www.churchofjesuschrist.org/study/general-conference/1973/10/behold-thy-mother?lang=eng\n",
            "Successfully fetched https://www.churchofjesuschrist.org/study/general-conference/1973/10/opposition-in-order-to-strengthen-us?lang=eng\n"
          ]
        },
        {
          "output_type": "stream",
          "name": "stderr",
          "text": [
            "Scraping talks in parallel:  94%|█████████▍| 3969/4233 [08:34<00:26, 10.13it/s]"
          ]
        },
        {
          "output_type": "stream",
          "name": "stdout",
          "text": [
            "Successfully fetched https://www.churchofjesuschrist.org/study/general-conference/1973/10/obedience?lang=eng\n",
            "Successfully fetched https://www.churchofjesuschrist.org/study/general-conference/1973/10/the-path-to-eternal-life?lang=eng\n",
            "Successfully fetched https://www.churchofjesuschrist.org/study/general-conference/1973/10/adversity-and-prayer?lang=eng\n"
          ]
        },
        {
          "output_type": "stream",
          "name": "stderr",
          "text": [
            "\rScraping talks in parallel:  94%|█████████▍| 3971/4233 [08:34<00:26,  9.98it/s]"
          ]
        },
        {
          "output_type": "stream",
          "name": "stdout",
          "text": [
            "Successfully fetched https://www.churchofjesuschrist.org/study/general-conference/1973/10/gods-way-to-eternal-life?lang=eng\n",
            "Successfully fetched https://www.churchofjesuschrist.org/study/general-conference/1973/10/understanding-who-we-are-brings-self-respect?lang=eng\n",
            "Successfully fetched https://www.churchofjesuschrist.org/study/general-conference/1973/10/what-will-a-man-give?lang=eng\n"
          ]
        },
        {
          "output_type": "stream",
          "name": "stderr",
          "text": [
            "\rScraping talks in parallel:  94%|█████████▍| 3976/4233 [08:35<00:23, 10.99it/s]"
          ]
        },
        {
          "output_type": "stream",
          "name": "stdout",
          "text": [
            "Successfully fetched https://www.churchofjesuschrist.org/study/general-conference/1973/10/the-need-for-total-commitment?lang=eng\n",
            "Successfully fetched https://www.churchofjesuschrist.org/study/general-conference/1973/10/the-rewards-the-blessings-the-promises?lang=eng\n",
            "Successfully fetched https://www.churchofjesuschrist.org/study/general-conference/1973/10/sustaining-of-general-authorities-and-church-officers?lang=eng\n",
            "Successfully fetched https://www.churchofjesuschrist.org/study/general-conference/1973/10/we-thank-thee-o-god-for-a-prophet?lang=eng\n",
            "Successfully fetched https://www.churchofjesuschrist.org/study/general-conference/1973/10/which-way-to-shore?lang=eng\n",
            "Successfully fetched https://www.churchofjesuschrist.org/study/general-conference/1973/10/there-is-need-for-repentance?lang=eng\n",
            "Successfully fetched https://www.churchofjesuschrist.org/study/general-conference/1973/10/of-the-world-or-of-the-kingdom?lang=eng\n",
            "Successfully fetched https://www.churchofjesuschrist.org/study/general-conference/1973/10/our-fundamental-obligation-the-priesthood?lang=eng\n"
          ]
        },
        {
          "output_type": "stream",
          "name": "stderr",
          "text": [
            "Scraping talks in parallel:  94%|█████████▍| 3981/4233 [08:36<00:29,  8.52it/s]"
          ]
        },
        {
          "output_type": "stream",
          "name": "stdout",
          "text": [
            "Successfully fetched https://www.churchofjesuschrist.org/study/general-conference/1973/10/he-took-him-by-the-hand?lang=eng\n",
            "Successfully fetched https://www.churchofjesuschrist.org/study/general-conference/1973/10/thou-shalt-love-thy-wife-with-all-thy-heart?lang=eng\n",
            "Successfully fetched https://www.churchofjesuschrist.org/study/general-conference/1973/10/the-witnesses-of-christ?lang=eng\n",
            "Successfully fetched https://www.churchofjesuschrist.org/study/general-conference/1973/10/you-shall-receive-the-spirit?lang=eng\n",
            "Successfully fetched https://www.churchofjesuschrist.org/study/general-conference/1973/10/a-fortune-to-share?lang=eng\n",
            "Successfully fetched https://www.churchofjesuschrist.org/study/general-conference/1973/10/you-are-different?lang=eng\n",
            "Successfully fetched https://www.churchofjesuschrist.org/study/general-conference/1973/10/forgiveness-the-ultimate-form-of-love?lang=eng\n",
            "Successfully fetched https://www.churchofjesuschrist.org/study/general-conference/1973/10/jesus-christ-our-redeemer?lang=eng\n",
            "Successfully fetched https://www.churchofjesuschrist.org/study/general-conference/1973/10/become-rich-toward-god?lang=eng\n",
            "Successfully fetched https://www.churchofjesuschrist.org/study/general-conference/1973/10/friday-morning-session?lang=eng\n",
            "Successfully fetched https://www.churchofjesuschrist.org/study/general-conference/1973/10/inspiring-music-worthy-thoughts?lang=eng\n",
            "Successfully fetched https://www.churchofjesuschrist.org/study/general-conference/1973/10/to-be-in-the-world-but-not-of-the-world?lang=eng\n"
          ]
        },
        {
          "output_type": "stream",
          "name": "stderr",
          "text": [
            "Scraping talks in parallel:  94%|█████████▍| 3997/4233 [08:37<00:18, 12.47it/s]"
          ]
        },
        {
          "output_type": "stream",
          "name": "stdout",
          "text": [
            "Successfully fetched https://www.churchofjesuschrist.org/study/general-conference/1973/10/church-welfare-some-fundamentals?lang=eng\n",
            "Successfully fetched https://www.churchofjesuschrist.org/study/general-conference/1973/10/our-youth-modern-sons-of-helaman?lang=eng\n",
            "Successfully fetched https://www.churchofjesuschrist.org/study/general-conference/1973/10/prepare-ye?lang=eng\n",
            "Successfully fetched https://www.churchofjesuschrist.org/study/general-conference/1973/10/i-will-go-and-do-the-things-which-the-lord-hath-commanded?lang=engSuccessfully fetched https://www.churchofjesuschrist.org/study/general-conference/1973/10/the-gospel-of-jesus-christ-is-the-golden-door?lang=eng\n",
            "\n",
            "Successfully fetched https://www.churchofjesuschrist.org/study/general-conference/1973/10/happiness-is-having-a-father-who-cares?lang=eng\n",
            "Successfully fetched https://www.churchofjesuschrist.org/study/general-conference/1973/10/love-and-forgive-one-another?lang=eng\n",
            "Successfully fetched https://www.churchofjesuschrist.org/study/general-conference/1973/10/revealed-truths-of-the-gospel?lang=eng\n",
            "Successfully fetched https://www.churchofjesuschrist.org/study/general-conference/1973/10/president-harold-b-lees-general-priesthood-address?lang=eng\n"
          ]
        },
        {
          "output_type": "stream",
          "name": "stderr",
          "text": [
            "\rScraping talks in parallel:  94%|█████████▍| 4000/4233 [08:38<00:26,  8.70it/s]"
          ]
        },
        {
          "output_type": "stream",
          "name": "stdout",
          "text": [
            "Successfully fetched https://www.churchofjesuschrist.org/study/general-conference/1973/10/no-greater-honor-the-womans-role?lang=eng\n",
            "Successfully fetched https://www.churchofjesuschrist.org/study/general-conference/1973/10/the-role-of-fathers?lang=eng\n",
            "Successfully fetched https://www.churchofjesuschrist.org/study/general-conference/1973/04/the-path-to-eternal-glory?lang=eng\n"
          ]
        },
        {
          "output_type": "stream",
          "name": "stderr",
          "text": [
            "\rScraping talks in parallel:  95%|█████████▍| 4002/4233 [08:38<00:28,  8.12it/s]"
          ]
        },
        {
          "output_type": "stream",
          "name": "stdout",
          "text": [
            "Successfully fetched https://www.churchofjesuschrist.org/study/general-conference/1973/04/stand-ye-in-holy-places?lang=eng\n",
            "Successfully fetched https://www.churchofjesuschrist.org/study/general-conference/1973/04/the-family-influence?lang=engSuccessfully fetched https://www.churchofjesuschrist.org/study/general-conference/1973/04/the-worth-of-souls-is-great?lang=eng\n",
            "\n",
            "Successfully fetched https://www.churchofjesuschrist.org/study/general-conference/1973/04/the-agency-of-man?lang=eng\n",
            "Successfully fetched https://www.churchofjesuschrist.org/study/general-conference/1973/04/man-a-child-of-god?lang=eng\n"
          ]
        },
        {
          "output_type": "stream",
          "name": "stderr",
          "text": [
            "\rScraping talks in parallel:  95%|█████████▍| 4010/4233 [08:39<00:22,  9.81it/s]"
          ]
        },
        {
          "output_type": "stream",
          "name": "stdout",
          "text": [
            "Successfully fetched https://www.churchofjesuschrist.org/study/general-conference/1973/04/this-is-my-gospel?lang=eng\n",
            "Successfully fetched https://www.churchofjesuschrist.org/study/general-conference/1973/04/salvation-comes-through-the-church?lang=eng\n",
            "Successfully fetched https://www.churchofjesuschrist.org/study/general-conference/1973/04/upon-judeas-plains?lang=eng\n",
            "Successfully fetched https://www.churchofjesuschrist.org/study/general-conference/1973/04/follow-the-leadership-of-the-church?lang=eng\n",
            "Successfully fetched https://www.churchofjesuschrist.org/study/general-conference/1973/04/consider-your-ways?lang=eng\n",
            "Successfully fetched https://www.churchofjesuschrist.org/study/general-conference/1973/04/success-a-journey-or-a-destination?lang=eng\n"
          ]
        },
        {
          "output_type": "stream",
          "name": "stderr",
          "text": [
            "\rScraping talks in parallel:  95%|█████████▍| 4012/4233 [08:40<00:30,  7.15it/s]"
          ]
        },
        {
          "output_type": "stream",
          "name": "stdout",
          "text": [
            "Successfully fetched https://www.churchofjesuschrist.org/study/general-conference/1973/04/power-of-evil?lang=eng\n",
            "Successfully fetched https://www.churchofjesuschrist.org/study/general-conference/1973/04/the-true-strength-of-the-church?lang=eng\n"
          ]
        },
        {
          "output_type": "stream",
          "name": "stderr",
          "text": [
            "\rScraping talks in parallel:  95%|█████████▍| 4014/4233 [08:40<00:36,  5.99it/s]"
          ]
        },
        {
          "output_type": "stream",
          "name": "stdout",
          "text": [
            "Successfully fetched https://www.churchofjesuschrist.org/study/general-conference/1973/04/yellow-canaries-with-gray-on-their-wings?lang=engSuccessfully fetched https://www.churchofjesuschrist.org/study/general-conference/1973/04/friday-morning-session?lang=eng\n",
            "\n",
            "Successfully fetched https://www.churchofjesuschrist.org/study/general-conference/1973/04/the-constant-exercise-of-our-faith?lang=eng\n"
          ]
        },
        {
          "output_type": "stream",
          "name": "stderr",
          "text": [
            "\rScraping talks in parallel:  95%|█████████▍| 4019/4233 [08:40<00:25,  8.29it/s]"
          ]
        },
        {
          "output_type": "stream",
          "name": "stdout",
          "text": [
            "Successfully fetched https://www.churchofjesuschrist.org/study/general-conference/1973/04/youths-opportunity-to-serve?lang=eng\n",
            "Successfully fetched https://www.churchofjesuschrist.org/study/general-conference/1973/04/magnifying-ones-calling-in-the-priesthood?lang=eng\n",
            "Successfully fetched https://www.churchofjesuschrist.org/study/general-conference/1973/04/the-rock-of-revelation?lang=eng\n",
            "Successfully fetched https://www.churchofjesuschrist.org/study/general-conference/1973/04/he-has-sent-his-messenger-to-prepare-the-way?lang=eng\n",
            "Successfully fetched https://www.churchofjesuschrist.org/study/general-conference/1973/04/strengthen-the-stakes-of-zion?lang=eng\n"
          ]
        },
        {
          "output_type": "stream",
          "name": "stderr",
          "text": [
            "Scraping talks in parallel:  95%|█████████▌| 4024/4233 [08:41<00:26,  7.93it/s]"
          ]
        },
        {
          "output_type": "stream",
          "name": "stdout",
          "text": [
            "Successfully fetched https://www.churchofjesuschrist.org/study/general-conference/1973/04/sustaining-of-church-authorities-and-officers?lang=eng\n",
            "Successfully fetched https://www.churchofjesuschrist.org/study/general-conference/1973/04/the-aaronic-priesthood-mia?lang=eng\n",
            "Successfully fetched https://www.churchofjesuschrist.org/study/general-conference/1973/04/priesthood-responsibilities?lang=eng\n",
            "Successfully fetched https://www.churchofjesuschrist.org/study/general-conference/1973/04/what-manner-of-men-as-i-am?lang=eng\n",
            "Successfully fetched https://www.churchofjesuschrist.org/study/general-conference/1973/04/a-second-witness-for-christ?lang=eng\n"
          ]
        },
        {
          "output_type": "stream",
          "name": "stderr",
          "text": [
            "Scraping talks in parallel:  95%|█████████▌| 4029/4233 [08:42<00:35,  5.74it/s]"
          ]
        },
        {
          "output_type": "stream",
          "name": "stdout",
          "text": [
            "Successfully fetched https://www.churchofjesuschrist.org/study/general-conference/1973/04/audit-report?lang=eng\n",
            "Successfully fetched https://www.churchofjesuschrist.org/study/general-conference/1973/04/and-always-remember-him?lang=eng\n",
            "Successfully fetched https://www.churchofjesuschrist.org/study/general-conference/1973/04/go-and-do-thou-likewise?lang=eng\n"
          ]
        },
        {
          "output_type": "stream",
          "name": "stderr",
          "text": [
            "\rScraping talks in parallel:  95%|█████████▌| 4032/4233 [08:43<00:30,  6.61it/s]"
          ]
        },
        {
          "output_type": "stream",
          "name": "stdout",
          "text": [
            "Successfully fetched https://www.churchofjesuschrist.org/study/general-conference/1973/04/now-abideth-faith-hope-and-charity?lang=eng\n",
            "Successfully fetched https://www.churchofjesuschrist.org/study/general-conference/1973/04/watchman-warn-the-wicked?lang=eng\n",
            "Successfully fetched https://www.churchofjesuschrist.org/study/general-conference/1973/04/when-i-read-i-am-there?lang=eng\n",
            "Successfully fetched https://www.churchofjesuschrist.org/study/general-conference/1973/04/thou-mayest-choose-for-thyself?lang=eng\n",
            "Successfully fetched https://www.churchofjesuschrist.org/study/general-conference/1973/04/in-his-strength?lang=engSuccessfully fetched https://www.churchofjesuschrist.org/study/general-conference/1973/04/share-the-unsearchable-riches-of-christ?lang=eng\n",
            "\n",
            "Successfully fetched https://www.churchofjesuschrist.org/study/general-conference/1973/04/hold-up-your-hands?lang=eng\n"
          ]
        },
        {
          "output_type": "stream",
          "name": "stderr",
          "text": [
            "\rScraping talks in parallel:  95%|█████████▌| 4036/4233 [08:43<00:32,  6.13it/s]"
          ]
        },
        {
          "output_type": "stream",
          "name": "stdout",
          "text": [
            "Successfully fetched https://www.churchofjesuschrist.org/study/general-conference/1973/04/reaching-the-one?lang=eng\n"
          ]
        },
        {
          "output_type": "stream",
          "name": "stderr",
          "text": [
            "Scraping talks in parallel:  95%|█████████▌| 4041/4233 [08:44<00:24,  7.97it/s]"
          ]
        },
        {
          "output_type": "stream",
          "name": "stdout",
          "text": [
            "Successfully fetched https://www.churchofjesuschrist.org/study/general-conference/1973/04/statistical-report-1972?lang=eng\n",
            "Successfully fetched https://www.churchofjesuschrist.org/study/general-conference/1973/04/behold-your-little-ones?lang=eng\n",
            "Successfully fetched https://www.churchofjesuschrist.org/study/general-conference/1973/04/what-is-a-living-prophet?lang=eng\n"
          ]
        },
        {
          "output_type": "stream",
          "name": "stderr",
          "text": [
            "\rScraping talks in parallel:  96%|█████████▌| 4046/4233 [08:44<00:15, 11.83it/s]"
          ]
        },
        {
          "output_type": "stream",
          "name": "stdout",
          "text": [
            "Successfully fetched https://www.churchofjesuschrist.org/study/general-conference/1973/04/the-continuing-power-of-the-holy-ghost?lang=eng\n",
            "Successfully fetched https://www.churchofjesuschrist.org/study/general-conference/1972/10/i-know-that-my-redeemer-lives?lang=eng\n",
            "Successfully fetched https://www.churchofjesuschrist.org/study/general-conference/1972/10/light-and-knowledge-to-the-world?lang=engSuccessfully fetched https://www.churchofjesuschrist.org/study/general-conference/1972/10/live-above-the-law-to-be-free?lang=eng\n",
            "\n",
            "Successfully fetched https://www.churchofjesuschrist.org/study/general-conference/1972/10/the-priesthood-and-its-presidency?lang=eng\n",
            "Successfully fetched https://www.churchofjesuschrist.org/study/general-conference/1972/10/altar-tent-well?lang=eng\n",
            "Successfully fetched https://www.churchofjesuschrist.org/study/general-conference/1972/10/an-instrument-in-the-hands-of-the-lord?lang=eng\n"
          ]
        },
        {
          "output_type": "stream",
          "name": "stderr",
          "text": [
            "\rScraping talks in parallel:  96%|█████████▌| 4048/4233 [08:45<00:32,  5.70it/s]"
          ]
        },
        {
          "output_type": "stream",
          "name": "stdout",
          "text": [
            "Successfully fetched https://www.churchofjesuschrist.org/study/general-conference/1972/10/teach-the-gospel-of-salvation?lang=eng\n",
            "Successfully fetched https://www.churchofjesuschrist.org/study/general-conference/1972/10/every-man-in-his-own-place?lang=eng\n",
            "Successfully fetched https://www.churchofjesuschrist.org/study/general-conference/1972/10/by-love-serve-one-another?lang=eng\n"
          ]
        },
        {
          "output_type": "stream",
          "name": "stderr",
          "text": [
            "\rScraping talks in parallel:  96%|█████████▌| 4052/4233 [08:46<00:28,  6.27it/s]"
          ]
        },
        {
          "output_type": "stream",
          "name": "stdout",
          "text": [
            "Successfully fetched https://www.churchofjesuschrist.org/study/general-conference/1972/10/a-blessing-for-the-saints?lang=eng\n",
            "Successfully fetched https://www.churchofjesuschrist.org/study/general-conference/1972/10/harmony-in-the-home?lang=eng\n"
          ]
        },
        {
          "output_type": "stream",
          "name": "stderr",
          "text": [
            "\rScraping talks in parallel:  96%|█████████▌| 4056/4233 [08:46<00:24,  7.18it/s]"
          ]
        },
        {
          "output_type": "stream",
          "name": "stdout",
          "text": [
            "Successfully fetched https://www.churchofjesuschrist.org/study/general-conference/1972/10/hands?lang=eng\n",
            "Successfully fetched https://www.churchofjesuschrist.org/study/general-conference/1972/10/the-sure-word-of-god?lang=eng\n"
          ]
        },
        {
          "output_type": "stream",
          "name": "stderr",
          "text": [
            "\rScraping talks in parallel:  96%|█████████▌| 4060/4233 [08:46<00:19,  8.91it/s]"
          ]
        },
        {
          "output_type": "stream",
          "name": "stdout",
          "text": [
            "Successfully fetched https://www.churchofjesuschrist.org/study/general-conference/1972/10/keep-the-commandments?lang=eng\n",
            "Successfully fetched https://www.churchofjesuschrist.org/study/general-conference/1972/10/may-the-kingdom-of-god-go-forth?lang=eng\n"
          ]
        },
        {
          "output_type": "stream",
          "name": "stderr",
          "text": [
            "\rScraping talks in parallel:  96%|█████████▌| 4062/4233 [08:47<00:20,  8.48it/s]"
          ]
        },
        {
          "output_type": "stream",
          "name": "stdout",
          "text": [
            "Successfully fetched https://www.churchofjesuschrist.org/study/general-conference/1972/10/watch-the-switches-in-your-life?lang=eng\n",
            "Successfully fetched https://www.churchofjesuschrist.org/study/general-conference/1972/10/strange-creeds-of-christendom?lang=eng\n",
            "Successfully fetched https://www.churchofjesuschrist.org/study/general-conference/1972/10/planting-gospel-seeds-of-spirituality?lang=eng\n",
            "Successfully fetched https://www.churchofjesuschrist.org/study/general-conference/1972/10/how-to-gain-a-testimony?lang=eng\n",
            "Successfully fetched https://www.churchofjesuschrist.org/study/general-conference/1972/10/we-thank-thee-o-god-for-a-prophet?lang=eng\n"
          ]
        },
        {
          "output_type": "stream",
          "name": "stderr",
          "text": [
            "\rScraping talks in parallel:  96%|█████████▌| 4064/4233 [08:47<00:20,  8.40it/s]"
          ]
        },
        {
          "output_type": "stream",
          "name": "stdout",
          "text": [
            "Successfully fetched https://www.churchofjesuschrist.org/study/general-conference/1972/10/listen-to-a-prophets-voice?lang=engSuccessfully fetched https://www.churchofjesuschrist.org/study/general-conference/1972/10/why-the-church-of-jesus-christ-of-latter-day-saints?lang=eng\n",
            "\n",
            "Successfully fetched https://www.churchofjesuschrist.org/study/general-conference/1972/10/home-teachers-watchmen-over-the-church?lang=eng\n"
          ]
        },
        {
          "output_type": "stream",
          "name": "stderr",
          "text": [
            "\rScraping talks in parallel:  96%|█████████▌| 4066/4233 [08:48<00:27,  5.97it/s]"
          ]
        },
        {
          "output_type": "stream",
          "name": "stdout",
          "text": [
            "Successfully fetched https://www.churchofjesuschrist.org/study/general-conference/1972/10/three-pledges?lang=engSuccessfully fetched https://www.churchofjesuschrist.org/study/general-conference/1972/10/having-been-born-of-goodly-parents?lang=eng\n",
            "\n"
          ]
        },
        {
          "output_type": "stream",
          "name": "stderr",
          "text": [
            "Scraping talks in parallel:  96%|█████████▌| 4074/4233 [08:48<00:13, 11.62it/s]"
          ]
        },
        {
          "output_type": "stream",
          "name": "stdout",
          "text": [
            "Successfully fetched https://www.churchofjesuschrist.org/study/general-conference/1972/10/genealogy-a-personal-responsibility?lang=eng\n",
            "Successfully fetched https://www.churchofjesuschrist.org/study/general-conference/1972/10/friday-morning-session?lang=eng\n",
            "Successfully fetched https://www.churchofjesuschrist.org/study/general-conference/1972/10/to-become-one-of-the-fishers?lang=eng\n",
            "Successfully fetched https://www.churchofjesuschrist.org/study/general-conference/1972/10/strengthen-thy-brethren?lang=eng\n",
            "Successfully fetched https://www.churchofjesuschrist.org/study/general-conference/1972/10/caring-for-the-poor-and-needy?lang=eng\n",
            "Successfully fetched https://www.churchofjesuschrist.org/study/general-conference/1972/10/thy-will-be-done-o-lord?lang=eng\n",
            "Successfully fetched https://www.churchofjesuschrist.org/study/general-conference/1972/10/warnings-from-outer-space?lang=eng\n",
            "Successfully fetched https://www.churchofjesuschrist.org/study/general-conference/1972/10/spiritual-famine?lang=eng\n",
            "Successfully fetched https://www.churchofjesuschrist.org/study/general-conference/1972/10/what-is-a-friend?lang=eng\n",
            "Successfully fetched https://www.churchofjesuschrist.org/study/general-conference/1972/10/admonitions-for-the-priesthood-of-god?lang=eng\n"
          ]
        },
        {
          "output_type": "stream",
          "name": "stderr",
          "text": [
            "\rScraping talks in parallel:  96%|█████████▋| 4077/4233 [08:49<00:27,  5.69it/s]"
          ]
        },
        {
          "output_type": "stream",
          "name": "stdout",
          "text": [
            "Successfully fetched https://www.churchofjesuschrist.org/study/general-conference/1972/10/to-serve-the-master?lang=eng\n",
            "Successfully fetched https://www.churchofjesuschrist.org/study/general-conference/1972/10/becoming-a-somebody?lang=eng\n"
          ]
        },
        {
          "output_type": "stream",
          "name": "stderr",
          "text": [
            "\rScraping talks in parallel:  96%|█████████▋| 4079/4233 [08:50<00:31,  4.95it/s]"
          ]
        },
        {
          "output_type": "stream",
          "name": "stdout",
          "text": [
            "Successfully fetched https://www.churchofjesuschrist.org/study/general-conference/1972/10/another-prophet-now-has-come?lang=eng\n",
            "Successfully fetched https://www.churchofjesuschrist.org/study/general-conference/1972/10/the-saints-securely-dwell?lang=eng\n",
            "Successfully fetched https://www.churchofjesuschrist.org/study/general-conference/1972/10/why-do-latter-day-saints-build-temples?lang=eng\n",
            "Successfully fetched https://www.churchofjesuschrist.org/study/general-conference/1972/10/pollution-of-the-mind?lang=eng\n",
            "Successfully fetched https://www.churchofjesuschrist.org/study/general-conference/1972/10/we-have-made-covenants-with-the-lord?lang=eng\n",
            "Successfully fetched https://www.churchofjesuschrist.org/study/general-conference/1972/10/sustaining-of-general-authorities-and-officers?lang=eng\n",
            "Successfully fetched https://www.churchofjesuschrist.org/study/general-conference/1972/10/entrance-into-the-kingdom-of-god?lang=eng\n",
            "Successfully fetched https://www.churchofjesuschrist.org/study/general-conference/1972/04/the-miracle-of-missionary-work?lang=eng\n",
            "Successfully fetched https://www.churchofjesuschrist.org/study/general-conference/1972/04/the-last-dispensation?lang=eng\n",
            "Successfully fetched https://www.churchofjesuschrist.org/study/general-conference/1972/04/the-aaronic-priesthood-a-sure-foundation?lang=eng\n",
            "Successfully fetched https://www.churchofjesuschrist.org/study/general-conference/1972/04/the-priesthood-a-royal-army?lang=eng\n"
          ]
        },
        {
          "output_type": "stream",
          "name": "stderr",
          "text": [
            "\rScraping talks in parallel:  97%|█████████▋| 4086/4233 [08:52<00:38,  3.83it/s]"
          ]
        },
        {
          "output_type": "stream",
          "name": "stdout",
          "text": [
            "Successfully fetched https://www.churchofjesuschrist.org/study/general-conference/1972/04/the-fullness-of-the-gospel-in-each-mans-language?lang=eng\n",
            "Successfully fetched https://www.churchofjesuschrist.org/study/general-conference/1972/04/our-witness-to-the-world?lang=eng\n",
            "Successfully fetched https://www.churchofjesuschrist.org/study/general-conference/1972/04/civic-standards-for-the-faithful-saints?lang=eng\n",
            "Successfully fetched https://www.churchofjesuschrist.org/study/general-conference/1972/04/the-covenant-of-the-priesthood?lang=eng\n",
            "Successfully fetched https://www.churchofjesuschrist.org/study/general-conference/1972/04/the-strength-of-the-priesthood?lang=eng\n"
          ]
        },
        {
          "output_type": "stream",
          "name": "stderr",
          "text": [
            "\rScraping talks in parallel:  97%|█████████▋| 4096/4233 [08:52<00:20,  6.61it/s]"
          ]
        },
        {
          "output_type": "stream",
          "name": "stdout",
          "text": [
            "Successfully fetched https://www.churchofjesuschrist.org/study/general-conference/1972/04/know-thyself-control-thyself-give-thyself?lang=eng\n",
            "Successfully fetched https://www.churchofjesuschrist.org/study/general-conference/1972/04/successful-parenthood-a-noteworthy-accomplishment?lang=eng\n"
          ]
        },
        {
          "output_type": "stream",
          "name": "stderr",
          "text": [
            "\rScraping talks in parallel:  97%|█████████▋| 4098/4233 [08:53<00:22,  6.07it/s]"
          ]
        },
        {
          "output_type": "stream",
          "name": "stdout",
          "text": [
            "Successfully fetched https://www.churchofjesuschrist.org/study/general-conference/1972/04/a-foundation-whereon-men-cannot-fall?lang=eng\n"
          ]
        },
        {
          "output_type": "stream",
          "name": "stderr",
          "text": [
            "Scraping talks in parallel:  97%|█████████▋| 4101/4233 [08:54<00:22,  5.79it/s]"
          ]
        },
        {
          "output_type": "stream",
          "name": "stdout",
          "text": [
            "Successfully fetched https://www.churchofjesuschrist.org/study/general-conference/1972/04/why-stay-morally-clean?lang=eng\n",
            "Successfully fetched https://www.churchofjesuschrist.org/study/general-conference/1972/04/we-are-called-of-god?lang=eng\n"
          ]
        },
        {
          "output_type": "stream",
          "name": "stderr",
          "text": [
            "\rScraping talks in parallel:  97%|█████████▋| 4104/4233 [08:54<00:20,  6.30it/s]"
          ]
        },
        {
          "output_type": "stream",
          "name": "stdout",
          "text": [
            "Successfully fetched https://www.churchofjesuschrist.org/study/general-conference/1972/04/mans-eternal-horizon?lang=eng\n",
            "Successfully fetched https://www.churchofjesuschrist.org/study/general-conference/1972/04/eternal-keys-and-the-right-to-preside?lang=engSuccessfully fetched https://www.churchofjesuschrist.org/study/general-conference/1972/04/priesthood-its-power-and-vitality?lang=eng\n",
            "\n",
            "Successfully fetched https://www.churchofjesuschrist.org/study/general-conference/1972/04/counsel-to-the-saints-and-to-the-world?lang=eng\n",
            "Successfully fetched https://www.churchofjesuschrist.org/study/general-conference/1972/04/finishers-wanted?lang=eng\n",
            "Successfully fetched https://www.churchofjesuschrist.org/study/general-conference/1972/04/courts-of-love?lang=eng\n"
          ]
        },
        {
          "output_type": "stream",
          "name": "stderr",
          "text": [
            "\rScraping talks in parallel:  97%|█████████▋| 4106/4233 [08:54<00:21,  5.88it/s]"
          ]
        },
        {
          "output_type": "stream",
          "name": "stdout",
          "text": [
            "Successfully fetched https://www.churchofjesuschrist.org/study/general-conference/1972/04/keep-the-lines-of-communication-strong?lang=eng\n",
            "Successfully fetched https://www.churchofjesuschrist.org/study/general-conference/1972/04/a-prophets-blessing?lang=eng\n"
          ]
        },
        {
          "output_type": "stream",
          "name": "stderr",
          "text": [
            "Scraping talks in parallel:  97%|█████████▋| 4110/4233 [08:55<00:20,  6.05it/s]"
          ]
        },
        {
          "output_type": "stream",
          "name": "stdout",
          "text": [
            "Successfully fetched https://www.churchofjesuschrist.org/study/general-conference/1972/04/judge-not-that-ye-be-not-judged?lang=engSuccessfully fetched https://www.churchofjesuschrist.org/study/general-conference/1972/04/thursday-morning-session?lang=eng\n",
            "\n",
            "Successfully fetched https://www.churchofjesuschrist.org/study/general-conference/1972/04/what-is-your-destination?lang=eng\n",
            "Successfully fetched https://www.churchofjesuschrist.org/study/general-conference/1972/04/a-time-of-decision?lang=eng\n",
            "Successfully fetched https://www.churchofjesuschrist.org/study/general-conference/1972/04/what-will-the-church-do-for-you-a-man?lang=eng\n"
          ]
        },
        {
          "output_type": "stream",
          "name": "stderr",
          "text": [
            "\rScraping talks in parallel:  97%|█████████▋| 4112/4233 [08:56<00:31,  3.88it/s]"
          ]
        },
        {
          "output_type": "stream",
          "name": "stdout",
          "text": [
            "Successfully fetched https://www.churchofjesuschrist.org/study/general-conference/1972/04/setting-the-example-in-the-home?lang=eng\n",
            "Successfully fetched https://www.churchofjesuschrist.org/study/general-conference/1972/04/the-importance-of-a-personal-testimony?lang=eng\n"
          ]
        },
        {
          "output_type": "stream",
          "name": "stderr",
          "text": [
            "Scraping talks in parallel:  97%|█████████▋| 4120/4233 [08:57<00:15,  7.52it/s]"
          ]
        },
        {
          "output_type": "stream",
          "name": "stdout",
          "text": [
            "Successfully fetched https://www.churchofjesuschrist.org/study/general-conference/1972/04/am-i-my-brothers-keeper?lang=eng\n"
          ]
        },
        {
          "output_type": "stream",
          "name": "stderr",
          "text": [
            "\rScraping talks in parallel:  97%|█████████▋| 4125/4233 [08:57<00:10, 10.54it/s]"
          ]
        },
        {
          "output_type": "stream",
          "name": "stdout",
          "text": [
            "Successfully fetched https://www.churchofjesuschrist.org/study/general-conference/1972/04/audit-report-1971?lang=eng\n",
            "Successfully fetched https://www.churchofjesuschrist.org/study/general-conference/1972/04/be-a-missionary-always-everywhere-you-go?lang=eng\n",
            "Successfully fetched https://www.churchofjesuschrist.org/study/general-conference/1972/04/a-challenge-to-the-priesthood?lang=eng\n",
            "Successfully fetched https://www.churchofjesuschrist.org/study/general-conference/1972/04/the-testimony-of-jesus?lang=eng\n",
            "Successfully fetched https://www.churchofjesuschrist.org/study/general-conference/1972/04/the-importance-of-prayer?lang=eng\n",
            "Successfully fetched https://www.churchofjesuschrist.org/study/general-conference/1972/04/knowing-god?lang=eng\n",
            "Successfully fetched https://www.churchofjesuschrist.org/study/general-conference/1972/04/whence-cometh-our-peace?lang=eng\n",
            "Successfully fetched https://www.churchofjesuschrist.org/study/general-conference/1972/04/the-annual-report-of-the-church?lang=eng\n",
            "Successfully fetched https://www.churchofjesuschrist.org/study/general-conference/1972/04/missionary-training-begins-early?lang=eng\n",
            "Successfully fetched https://www.churchofjesuschrist.org/study/general-conference/1972/04/joy-through-christ?lang=eng\n",
            "Successfully fetched https://www.churchofjesuschrist.org/study/general-conference/1972/04/medicine-for-the-soul?lang=eng\n",
            "Successfully fetched https://www.churchofjesuschrist.org/study/general-conference/1972/04/a-teacher?lang=eng\n",
            "Successfully fetched https://www.churchofjesuschrist.org/study/general-conference/1972/04/the-true-church?lang=eng\n",
            "Successfully fetched https://www.churchofjesuschrist.org/study/general-conference/1971/10/elijah-the-prophet?lang=eng\n",
            "Successfully fetched https://www.churchofjesuschrist.org/study/general-conference/1972/04/sustaining-of-general-authorities-and-officers?lang=engSuccessfully fetched https://www.churchofjesuschrist.org/study/general-conference/1972/04/a-missionary-and-his-message?lang=eng\n",
            "\n",
            "Successfully fetched https://www.churchofjesuschrist.org/study/general-conference/1972/04/a-people-of-sound-judgment?lang=eng\n",
            "Successfully fetched https://www.churchofjesuschrist.org/study/general-conference/1971/10/the-vitality-of-love?lang=eng\n",
            "Successfully fetched https://www.churchofjesuschrist.org/study/general-conference/1972/04/peace?lang=eng\n",
            "Successfully fetched https://www.churchofjesuschrist.org/study/general-conference/1972/04/salvation-and-exaltation?lang=eng\n",
            "Successfully fetched https://www.churchofjesuschrist.org/study/general-conference/1971/10/strive-for-excellence?lang=eng\n"
          ]
        },
        {
          "output_type": "stream",
          "name": "stderr",
          "text": [
            "Scraping talks in parallel:  98%|█████████▊| 4140/4233 [08:59<00:10,  9.05it/s]"
          ]
        },
        {
          "output_type": "stream",
          "name": "stdout",
          "text": [
            "Successfully fetched https://www.churchofjesuschrist.org/study/general-conference/1971/10/this-is-my-beloved-son?lang=eng\n",
            "Successfully fetched https://www.churchofjesuschrist.org/study/general-conference/1971/10/sustaining-of-general-authorities-and-officers?lang=eng\n",
            "Successfully fetched https://www.churchofjesuschrist.org/study/general-conference/1971/10/if-ye-be-willing-and-obedient?lang=eng\n",
            "Successfully fetched https://www.churchofjesuschrist.org/study/general-conference/1971/10/the-only-true-and-living-church?lang=eng\n",
            "Successfully fetched https://www.churchofjesuschrist.org/study/general-conference/1971/10/confession-and-forsaking-elements-of-genuine-repentance?lang=eng\n",
            "Successfully fetched https://www.churchofjesuschrist.org/study/general-conference/1971/10/how-to-worship?lang=eng\n"
          ]
        },
        {
          "output_type": "stream",
          "name": "stderr",
          "text": [
            "\rScraping talks in parallel:  98%|█████████▊| 4146/4233 [09:00<00:09,  9.46it/s]"
          ]
        },
        {
          "output_type": "stream",
          "name": "stdout",
          "text": [
            "Successfully fetched https://www.churchofjesuschrist.org/study/general-conference/1971/10/a-new-health-missionary-program?lang=eng\n",
            "Successfully fetched https://www.churchofjesuschrist.org/study/general-conference/1971/10/responsibilities-of-the-priesthood?lang=eng\n",
            "Successfully fetched https://www.churchofjesuschrist.org/study/general-conference/1971/10/our-responsibility-to-save-the-world?lang=eng\n",
            "Successfully fetched https://www.churchofjesuschrist.org/study/general-conference/1971/10/let-the-spirit-of-oneness-prevail?lang=eng\n",
            "Successfully fetched https://www.churchofjesuschrist.org/study/general-conference/1971/10/i-know-that-my-redeemer-liveth?lang=eng\n"
          ]
        },
        {
          "output_type": "stream",
          "name": "stderr",
          "text": [
            "Scraping talks in parallel:  98%|█████████▊| 4152/4233 [09:00<00:08,  9.97it/s]"
          ]
        },
        {
          "output_type": "stream",
          "name": "stdout",
          "text": [
            "Successfully fetched https://www.churchofjesuschrist.org/study/general-conference/1971/10/thou-shalt-not?lang=eng\n",
            "Successfully fetched https://www.churchofjesuschrist.org/study/general-conference/1971/10/what-is-a-teacher?lang=eng\n",
            "Successfully fetched https://www.churchofjesuschrist.org/study/general-conference/1971/10/a-time-of-testing?lang=eng\n",
            "Successfully fetched https://www.churchofjesuschrist.org/study/general-conference/1971/10/friday-morning-session?lang=eng\n",
            "Successfully fetched https://www.churchofjesuschrist.org/study/general-conference/1971/10/strengthen-thy-brethren?lang=eng\n",
            "Successfully fetched https://www.churchofjesuschrist.org/study/general-conference/1971/10/with-hand-and-heart?lang=eng\n",
            "Successfully fetched https://www.churchofjesuschrist.org/study/general-conference/1971/10/the-purpose-of-life-to-be-proved?lang=eng\n",
            "Successfully fetched https://www.churchofjesuschrist.org/study/general-conference/1971/10/sacrifice-still-brings-forth-blessings?lang=eng\n",
            "Successfully fetched https://www.churchofjesuschrist.org/study/general-conference/1971/10/satans-thrust-youth?lang=eng\n"
          ]
        },
        {
          "output_type": "stream",
          "name": "stderr",
          "text": [
            "Scraping talks in parallel:  98%|█████████▊| 4160/4233 [09:02<00:08,  8.72it/s]"
          ]
        },
        {
          "output_type": "stream",
          "name": "stdout",
          "text": [
            "Successfully fetched https://www.churchofjesuschrist.org/study/general-conference/1971/10/the-ten-commandments?lang=eng\n"
          ]
        },
        {
          "output_type": "stream",
          "name": "stderr",
          "text": [
            "\rScraping talks in parallel:  98%|█████████▊| 4162/4233 [09:02<00:07,  9.54it/s]"
          ]
        },
        {
          "output_type": "stream",
          "name": "stdout",
          "text": [
            "Successfully fetched https://www.churchofjesuschrist.org/study/general-conference/1971/10/the-living-christ?lang=eng\n",
            "Successfully fetched https://www.churchofjesuschrist.org/study/general-conference/1971/10/you-can-get-there-from-here?lang=eng\n"
          ]
        },
        {
          "output_type": "stream",
          "name": "stderr",
          "text": [
            "\rScraping talks in parallel:  98%|█████████▊| 4164/4233 [09:02<00:07,  9.61it/s]"
          ]
        },
        {
          "output_type": "stream",
          "name": "stdout",
          "text": [
            "Successfully fetched https://www.churchofjesuschrist.org/study/general-conference/1971/10/turn-heavenward-our-eyes?lang=eng\n",
            "Successfully fetched https://www.churchofjesuschrist.org/study/general-conference/1971/10/the-nobility-of-man-in-choosing-good-over-evil?lang=eng\n",
            "Successfully fetched https://www.churchofjesuschrist.org/study/general-conference/1971/10/the-light-shineth?lang=eng\n"
          ]
        },
        {
          "output_type": "stream",
          "name": "stderr",
          "text": [
            "Scraping talks in parallel:  98%|█████████▊| 4169/4233 [09:02<00:06,  9.37it/s]"
          ]
        },
        {
          "output_type": "stream",
          "name": "stdout",
          "text": [
            "Successfully fetched https://www.churchofjesuschrist.org/study/general-conference/1971/10/the-sifting?lang=eng\n",
            "Successfully fetched https://www.churchofjesuschrist.org/study/general-conference/1971/10/by-love-serve-one-another?lang=eng\n",
            "Successfully fetched https://www.churchofjesuschrist.org/study/general-conference/1971/10/decisions?lang=eng\n",
            "Successfully fetched https://www.churchofjesuschrist.org/study/general-conference/1971/10/glimpses-of-heaven?lang=eng\n",
            "Successfully fetched https://www.churchofjesuschrist.org/study/general-conference/1971/10/the-things-that-matter-most?lang=eng\n",
            "Successfully fetched https://www.churchofjesuschrist.org/study/general-conference/1971/10/continuity-of-service?lang=eng\n",
            "Successfully fetched https://www.churchofjesuschrist.org/study/general-conference/1971/10/blessings-of-the-priesthood?lang=eng\n",
            "Successfully fetched https://www.churchofjesuschrist.org/study/general-conference/1971/10/love-unconditional?lang=eng\n",
            "Successfully fetched https://www.churchofjesuschrist.org/study/general-conference/1971/10/thus-saith-the-lord?lang=eng\n",
            "Successfully fetched https://www.churchofjesuschrist.org/study/general-conference/1971/10/should-the-commandments-be-rewritten?lang=eng\n",
            "Successfully fetched https://www.churchofjesuschrist.org/study/general-conference/1971/10/this-same-jesus?lang=eng\n",
            "Successfully fetched https://www.churchofjesuschrist.org/study/general-conference/1971/10/watch-that-ye-may-be-ready?lang=eng\n",
            "Successfully fetched https://www.churchofjesuschrist.org/study/general-conference/1971/10/where-art-thou?lang=eng\n",
            "Successfully fetched https://www.churchofjesuschrist.org/study/general-conference/1971/10/i-was-in-prison-and-ye-came-unto-me?lang=eng\n",
            "Successfully fetched https://www.churchofjesuschrist.org/study/general-conference/1971/04/ignorance-is-expensive?lang=eng\n",
            "Successfully fetched https://www.churchofjesuschrist.org/study/general-conference/1971/04/in-the-mountain-of-the-lords-house?lang=eng\n"
          ]
        },
        {
          "output_type": "stream",
          "name": "stderr",
          "text": [
            "\rScraping talks in parallel:  99%|█████████▊| 4172/4233 [09:04<00:15,  3.90it/s]"
          ]
        },
        {
          "output_type": "stream",
          "name": "stdout",
          "text": [
            "Successfully fetched https://www.churchofjesuschrist.org/study/general-conference/1971/04/lost-battalions?lang=eng\n",
            "Successfully fetched https://www.churchofjesuschrist.org/study/general-conference/1971/10/honesty-a-principle-of-salvation?lang=eng\n",
            "Successfully fetched https://www.churchofjesuschrist.org/study/general-conference/1971/10/laying-a-foundation-for-the-millennium?lang=eng\n",
            "Successfully fetched https://www.churchofjesuschrist.org/study/general-conference/1971/04/except-the-lord-build-the-house?lang=eng\n",
            "Successfully fetched https://www.churchofjesuschrist.org/study/general-conference/1971/04/ye-shall-not-fear?lang=eng\n",
            "Successfully fetched https://www.churchofjesuschrist.org/study/general-conference/1971/04/eternal-joy-is-eternal-growth?lang=eng\n",
            "Successfully fetched https://www.churchofjesuschrist.org/study/general-conference/1971/04/search-for-the-wanderers?lang=eng\n",
            "Successfully fetched https://www.churchofjesuschrist.org/study/general-conference/1971/04/saturday-morning-session?lang=eng\n"
          ]
        },
        {
          "output_type": "stream",
          "name": "stderr",
          "text": [
            "Scraping talks in parallel:  99%|█████████▉| 4188/4233 [09:05<00:04,  9.08it/s]"
          ]
        },
        {
          "output_type": "stream",
          "name": "stdout",
          "text": [
            "Successfully fetched https://www.churchofjesuschrist.org/study/general-conference/1971/04/be-slow-to-anger?lang=eng\n"
          ]
        },
        {
          "output_type": "stream",
          "name": "stderr",
          "text": [
            "\rScraping talks in parallel:  99%|█████████▉| 4191/4233 [09:05<00:04, 10.25it/s]"
          ]
        },
        {
          "output_type": "stream",
          "name": "stdout",
          "text": [
            "Successfully fetched https://www.churchofjesuschrist.org/study/general-conference/1971/04/thou-shalt-not-commit-adultery?lang=eng\n"
          ]
        },
        {
          "output_type": "stream",
          "name": "stderr",
          "text": [
            "\rScraping talks in parallel:  99%|█████████▉| 4197/4233 [09:06<00:03, 11.33it/s]"
          ]
        },
        {
          "output_type": "stream",
          "name": "stdout",
          "text": [
            "Successfully fetched https://www.churchofjesuschrist.org/study/general-conference/1971/04/audit-report?lang=eng\n",
            "Successfully fetched https://www.churchofjesuschrist.org/study/general-conference/1971/04/marriage-is-intended-to-be-forever?lang=eng\n",
            "Successfully fetched https://www.churchofjesuschrist.org/study/general-conference/1971/04/choose-you-this-day?lang=eng\n",
            "Successfully fetched https://www.churchofjesuschrist.org/study/general-conference/1971/04/todays-young-people?lang=eng\n",
            "Successfully fetched https://www.churchofjesuschrist.org/study/general-conference/1971/04/kingdom-of-god?lang=eng\n",
            "Successfully fetched https://www.churchofjesuschrist.org/study/general-conference/1971/04/my-brothers-keeper?lang=engSuccessfully fetched https://www.churchofjesuschrist.org/study/general-conference/1971/04/where-are-you-really-going?lang=eng\n",
            "\n",
            "Successfully fetched https://www.churchofjesuschrist.org/study/general-conference/1971/04/the-message-of-the-restoration?lang=eng\n",
            "Successfully fetched https://www.churchofjesuschrist.org/study/general-conference/1971/04/all-may-share-in-adams-blessing?lang=eng\n",
            "Successfully fetched https://www.churchofjesuschrist.org/study/general-conference/1971/04/prepare-every-needful-thing?lang=engSuccessfully fetched https://www.churchofjesuschrist.org/study/general-conference/1971/04/the-lords-people-receive-revelation?lang=eng\n",
            "Successfully fetched https://www.churchofjesuschrist.org/study/general-conference/1971/04/the-meaning-of-morality?lang=eng\n",
            "\n",
            "Successfully fetched https://www.churchofjesuschrist.org/study/general-conference/1971/04/warnings-from-the-past?lang=eng\n"
          ]
        },
        {
          "output_type": "stream",
          "name": "stderr",
          "text": [
            "\rScraping talks in parallel:  99%|█████████▉| 4199/4233 [09:07<00:06,  5.51it/s]"
          ]
        },
        {
          "output_type": "stream",
          "name": "stdout",
          "text": [
            "Successfully fetched https://www.churchofjesuschrist.org/study/general-conference/1971/04/the-spirit-beareth-record?lang=eng\n"
          ]
        },
        {
          "output_type": "stream",
          "name": "stderr",
          "text": [
            "Scraping talks in parallel:  99%|█████████▉| 4210/4233 [09:08<00:02, 10.47it/s]"
          ]
        },
        {
          "output_type": "stream",
          "name": "stdout",
          "text": [
            "Successfully fetched https://www.churchofjesuschrist.org/study/general-conference/1971/04/statistical-report-1970?lang=eng\n",
            "Successfully fetched https://www.churchofjesuschrist.org/study/general-conference/1971/04/great-experiences?lang=eng\n",
            "Successfully fetched https://www.churchofjesuschrist.org/study/general-conference/1971/04/help-needed-in-the-shaded-areas?lang=eng\n",
            "Successfully fetched https://www.churchofjesuschrist.org/study/general-conference/1971/04/love-of-the-right?lang=eng\n",
            "Successfully fetched https://www.churchofjesuschrist.org/study/general-conference/1971/04/out-of-the-darkness?lang=eng\n",
            "Successfully fetched https://www.churchofjesuschrist.org/study/general-conference/1971/04/man-cannot-endure-on-borrowed-light?lang=eng\n",
            "Successfully fetched https://www.churchofjesuschrist.org/study/general-conference/1971/04/voices-of-the-past-of-the-present-of-the-future?lang=eng\n",
            "Successfully fetched https://www.churchofjesuschrist.org/study/general-conference/1971/04/love-of-god?lang=eng\n",
            "Successfully fetched https://www.churchofjesuschrist.org/study/general-conference/1971/04/drink-of-the-pure-water?lang=eng\n",
            "Successfully fetched https://www.churchofjesuschrist.org/study/general-conference/1971/04/unchanging-principles-of-leadership?lang=eng\n"
          ]
        },
        {
          "output_type": "stream",
          "name": "stderr",
          "text": [
            "\rScraping talks in parallel: 100%|█████████▉| 4213/4233 [09:09<00:03,  5.34it/s]"
          ]
        },
        {
          "output_type": "stream",
          "name": "stdout",
          "text": [
            "Successfully fetched https://www.churchofjesuschrist.org/study/general-conference/1971/04/young-people-learn-wisdom-in-thy-youth?lang=eng\n",
            "Successfully fetched https://www.churchofjesuschrist.org/study/general-conference/1971/04/life-is-eternal?lang=eng\n",
            "Successfully fetched https://www.churchofjesuschrist.org/study/general-conference/1971/04/our-responsibilities-as-priesthood-holders?lang=eng\n",
            "Successfully fetched https://www.churchofjesuschrist.org/study/general-conference/1971/04/sustaining-of-church-authorities-and-officers?lang=eng\n",
            "Successfully fetched https://www.churchofjesuschrist.org/study/general-conference/1971/04/honesty-and-integrity?lang=eng\n",
            "Successfully fetched https://www.churchofjesuschrist.org/study/general-conference/1971/04/the-iron-rod?lang=eng\n",
            "Successfully fetched https://www.churchofjesuschrist.org/study/general-conference/1971/04/a-witness-and-a-blessing?lang=eng\n",
            "Successfully fetched https://www.churchofjesuschrist.org/study/general-conference/1971/04/satan-the-great-deceiver?lang=eng\n",
            "Successfully fetched https://www.churchofjesuschrist.org/study/general-conference/1971/04/teach-one-another?lang=eng\n"
          ]
        },
        {
          "output_type": "stream",
          "name": "stderr",
          "text": [
            "\rScraping talks in parallel: 100%|█████████▉| 4222/4233 [09:10<00:01,  6.07it/s]"
          ]
        },
        {
          "output_type": "stream",
          "name": "stdout",
          "text": [
            "Successfully fetched https://www.churchofjesuschrist.org/study/general-conference/1971/04/practicing-what-we-preach?lang=eng\n"
          ]
        },
        {
          "output_type": "stream",
          "name": "stderr",
          "text": [
            "Scraping talks in parallel: 100%|██████████| 4233/4233 [09:11<00:00,  7.68it/s]"
          ]
        },
        {
          "output_type": "stream",
          "name": "stdout",
          "text": [
            "Successfully fetched https://www.churchofjesuschrist.org/study/general-conference/1971/04/the-law-of-abundance?lang=eng\n",
            "Successfully fetched https://www.churchofjesuschrist.org/study/general-conference/1971/04/when-thou-art-converted?lang=eng\n"
          ]
        },
        {
          "output_type": "stream",
          "name": "stderr",
          "text": [
            "\n"
          ]
        },
        {
          "output_type": "stream",
          "name": "stdout",
          "text": [
            "Scraping complete. Data saved to 'conference_talks.csv'.\n",
            "Data also saved to 'conference_talks.json'.\n",
            "Total time taken: 630.5830276012421 seconds\n"
          ]
        }
      ]
    },
    {
      "cell_type": "code",
      "source": [
        "from google.colab import files\n",
        "files.download('conference_talks.csv')\n"
      ],
      "metadata": {
        "colab": {
          "base_uri": "https://localhost:8080/",
          "height": 17
        },
        "id": "xUHjf5EE9Oz-",
        "outputId": "6eaaffdd-1fdb-4f79-97a1-a32082bff4ea"
      },
      "execution_count": null,
      "outputs": [
        {
          "output_type": "display_data",
          "data": {
            "text/plain": [
              "<IPython.core.display.Javascript object>"
            ],
            "application/javascript": [
              "\n",
              "    async function download(id, filename, size) {\n",
              "      if (!google.colab.kernel.accessAllowed) {\n",
              "        return;\n",
              "      }\n",
              "      const div = document.createElement('div');\n",
              "      const label = document.createElement('label');\n",
              "      label.textContent = `Downloading \"${filename}\": `;\n",
              "      div.appendChild(label);\n",
              "      const progress = document.createElement('progress');\n",
              "      progress.max = size;\n",
              "      div.appendChild(progress);\n",
              "      document.body.appendChild(div);\n",
              "\n",
              "      const buffers = [];\n",
              "      let downloaded = 0;\n",
              "\n",
              "      const channel = await google.colab.kernel.comms.open(id);\n",
              "      // Send a message to notify the kernel that we're ready.\n",
              "      channel.send({})\n",
              "\n",
              "      for await (const message of channel.messages) {\n",
              "        // Send a message to notify the kernel that we're ready.\n",
              "        channel.send({})\n",
              "        if (message.buffers) {\n",
              "          for (const buffer of message.buffers) {\n",
              "            buffers.push(buffer);\n",
              "            downloaded += buffer.byteLength;\n",
              "            progress.value = downloaded;\n",
              "          }\n",
              "        }\n",
              "      }\n",
              "      const blob = new Blob(buffers, {type: 'application/binary'});\n",
              "      const a = document.createElement('a');\n",
              "      a.href = window.URL.createObjectURL(blob);\n",
              "      a.download = filename;\n",
              "      div.appendChild(a);\n",
              "      a.click();\n",
              "      div.remove();\n",
              "    }\n",
              "  "
            ]
          },
          "metadata": {}
        },
        {
          "output_type": "display_data",
          "data": {
            "text/plain": [
              "<IPython.core.display.Javascript object>"
            ],
            "application/javascript": [
              "download(\"download_2bf64bb5-a6ca-49cf-b426-dcd7f7c95318\", \"conference_talks.csv\", 42773420)"
            ]
          },
          "metadata": {}
        }
      ]
    },
    {
      "cell_type": "markdown",
      "source": [
        "### Clean Conference Talks Data\n",
        "\n",
        "This code block performs several cleaning operations on the scraped data:\n",
        "- Removes rows with \"Church Auditing Department\" in the calling.\n",
        "- Removes unnecessary columns, like \"conference\" and \"footnotes.\"\n",
        "- Standardizes titles for speakers and callings (e.g., \"Quorum of the 12\" and \"Seventy\").\n",
        "- Ensures uniformity across callings and speaker titles.\n",
        "- Saves the cleaned data to a CSV file for easier analysis and sharing.\n",
        "\n",
        "You can run this after scraping the data to ensure consistency and uniformity across the dataset.\n"
      ],
      "metadata": {
        "id": "KwxzUhLCYp3d"
      }
    },
    {
      "cell_type": "code",
      "source": [
        "import pandas as pd\n",
        "import re\n",
        "\n",
        "def clean_conference_data(file_path):\n",
        "    # Load the CSV file\n",
        "    df = pd.read_csv(file_path)\n",
        "\n",
        "    # Step 1: Remove rows with \"Church Auditing Department\" in the \"calling\" column\n",
        "    df = df[~df['calling'].str.contains(\"Church Auditing Department\", na=False)]\n",
        "\n",
        "    # Step 2: Remove the \"conference\" column\n",
        "    df = df.drop(columns=['conference'])\n",
        "\n",
        "    # Step 3: Modify callings to standardize common names\n",
        "    # Replace \"Quorum of the Twelve Apostles\", \"twelve\", or \"12\" with \"Quorum of the 12\"\n",
        "    df['calling'] = df['calling'].str.replace(r'Q_of_12|twelve|12|Council of the 12', 'Quorum of the 12', regex=True)\n",
        "\n",
        "    # Replace all variations of \"Seventy\" (including Quorum, Assistant, Former, Released) with \"Seventy\"\n",
        "    df['calling'] = df['calling'].str.replace(r'Q_of_70|70|Assistant to the Q_of_12|First Council of the Seventy|Presidency of the First Q_of_70|Emeritus member of the Seventy|Released Member of the Seventy', 'Seventy', regex=True)\n",
        "\n",
        "    # Standardize \"President of the Church\" across all variations\n",
        "    df['calling'] = df['calling'].str.replace(r'President of The Church of Jesus Christ of Latter-day Saints|President of the Church', 'President of the Church', regex=True)\n",
        "\n",
        "    # Step 4: Remove rows with \"Presented by\" in the speaker column\n",
        "    df = df[~df['speaker'].str.contains(\"Presented by\", na=False)]\n",
        "\n",
        "    # Step 5: Remove \"morning\", \"afternoon\", \"evening\" session titles (non-talk rows)\n",
        "    df = df[~df['title'].str.contains(r'morning|afternoon|evening', case=False, na=False)]\n",
        "\n",
        "    # Step 6: Standardize \"Former\" or variations in calling titles\n",
        "    df['calling'] = df['calling'].str.replace(r'Former member of the Seventy', 'Seventy', regex=True)\n",
        "\n",
        "    # Step 7: Remove \"Elder\", \"President\", \"Sister\", \"Brother\" from speaker names\n",
        "    df['speaker'] = df['speaker'].str.replace(r'Elder|President|Sister|Brother', '', regex=True).str.strip()\n",
        "\n",
        "    # Step 8: Remove the \"footnotes\" column as it was not needed\n",
        "    if 'footnotes' in df.columns:\n",
        "        df = df.drop(columns=['footnotes'])\n",
        "\n",
        "    # Save the cleaned data to CSV\n",
        "    df.to_csv(\"cleaned_conference_talks.csv\", index=False)\n",
        "    print(\"Data cleaned and saved to 'cleaned_conference_talks.csv'.\")\n",
        "\n",
        "# Example usage\n",
        "clean_conference_data('conference_talks.csv')\n"
      ],
      "metadata": {
        "id": "Lo1nq2mfX1S5"
      },
      "execution_count": null,
      "outputs": []
    }
  ]
}